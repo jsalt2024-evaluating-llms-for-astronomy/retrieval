{
 "cells": [
  {
   "cell_type": "code",
   "execution_count": 19,
   "metadata": {},
   "outputs": [],
   "source": [
    "import torch\n",
    "import torch.nn as nn\n",
    "import torch.nn.functional as F\n",
    "import torch.optim as optim\n",
    "import numpy as np\n",
    "from torch.utils.data import DataLoader, TensorDataset\n",
    "from tqdm import tqdm\n",
    "import wandb\n",
    "import os\n",
    "import glob\n",
    "from topk_sae import FastAutoencoder, loss_fn, unit_norm_decoder_grad_adjustment_, unit_norm_decoder_, init_from_data_\n",
    "\n",
    "\n",
    "device = torch.device(\"cuda\" if torch.cuda.is_available() else \"cpu\")\n",
    "\n",
    "def train(ae, train_loader, optimizer, epochs, k, auxk_coef, clip_grad=None, save_dir=\"checkpoints\", model_name=\"\"):\n",
    "    os.makedirs(save_dir, exist_ok=True)\n",
    "    step = 0\n",
    "    num_batches = len(train_loader)\n",
    "    for epoch in range(epochs):\n",
    "        ae.train()\n",
    "        total_loss = 0\n",
    "\n",
    "        for batch in tqdm(train_loader, desc=f\"Epoch {epoch+1}/{epochs}\"):\n",
    "            optimizer.zero_grad()\n",
    "            x = batch[0].to(device)\n",
    "            recons, info = ae(x)\n",
    "            loss, recons_loss, auxk_loss = loss_fn(ae, x, recons, info, auxk_coef)\n",
    "            loss.backward()\n",
    "            step += 1\n",
    "            \n",
    "            # calculate proportion of dead latents (not fired in last num_batches = 1 epoch)\n",
    "            dead_latents_prop = (ae.stats_last_nonzero > num_batches).float().mean().item()\n",
    "            \n",
    "            unit_norm_decoder_grad_adjustment_(ae)\n",
    "            \n",
    "            if clip_grad is not None:\n",
    "                torch.nn.utils.clip_grad_norm_(ae.parameters(), clip_grad)\n",
    "            \n",
    "            optimizer.step()\n",
    "            unit_norm_decoder_(ae)\n",
    "\n",
    "            topk_indices = torch.cat((info[\"topk_indices\"], info[\"auxk_indices\"]), dim = -1)\n",
    "            selected_grad = torch.abs(ae.encoder.weight.grad[topk_indices, :]).mean()\n",
    "            print('encoder', selected_grad)\n",
    "\n",
    "            mask = torch.ones_like(ae.encoder.weight.grad)\n",
    "            mask[topk_indices, :] = 0\n",
    "            unselected_grad = ae.encoder.weight.grad[mask == 1].mean()\n",
    "            print(unselected_grad)\n",
    "\n",
    "            selected_dgrad = torch.abs(ae.decoder.weight.grad[:, topk_indices]).mean()\n",
    "            print('decoder', selected_dgrad)\n",
    "            unselected_dgrad = ae.decoder.weight.grad[mask.T == 1].mean()\n",
    "            print(unselected_dgrad)\n",
    "            \n",
    "            print(info[\"topk_indices\"], info[\"auxk_indices\"])\n",
    "            total_loss += loss.item()\n",
    "        \n",
    "        avg_loss = total_loss / len(train_loader)\n",
    "        print(f\"Epoch {epoch+1}, Average Loss: {avg_loss:.4f}\")\n",
    "\n",
    "        # Delete previous model saves for this configuration\n",
    "        for old_model in glob.glob(os.path.join(save_dir, f\"{model_name}_epoch_*.pth\")):\n",
    "            os.remove(old_model)\n",
    "\n",
    "        # Save new model\n",
    "        save_path = os.path.join(save_dir, f\"{model_name}_epoch_{epoch+1}.pth\")\n",
    "        torch.save(ae.state_dict(), save_path)\n",
    "        print(f\"Model saved to {save_path}\")\n",
    "\n",
    "d_model = 1536\n",
    "n_dirs = d_model * 6\n",
    "k = 32\n",
    "auxk = 64 #256\n",
    "batch_size = 1024\n",
    "lr = 1e-4\n",
    "epochs = 1\n",
    "auxk_coef = 1/32\n",
    "clip_grad = 1.0\n",
    "\n",
    "# Create model name\n",
    "model_name = f\"{k}_{n_dirs}_{auxk}_final\"\n",
    "\n",
    "data = np.load(\"../data/vector_store/abstract_embeddings.npy\")\n",
    "data_tensor = torch.from_numpy(data).float()\n",
    "dataset = TensorDataset(data_tensor)\n",
    "train_loader = DataLoader(dataset, batch_size=batch_size, shuffle=True)\n",
    "\n",
    "ae = FastAutoencoder(n_dirs, d_model, k, auxk).to(device)\n",
    "init_from_data_(ae, data_tensor[:10000].to(device))\n",
    "\n",
    "optimizer = optim.Adam(ae.parameters(), lr=lr)"
   ]
  },
  {
   "cell_type": "code",
   "execution_count": 20,
   "metadata": {},
   "outputs": [
    {
     "name": "stderr",
     "output_type": "stream",
     "text": [
      "Epoch 1/1:   0%|          | 0/266 [00:00<?, ?it/s]"
     ]
    },
    {
     "name": "stdout",
     "output_type": "stream",
     "text": [
      "encoder tensor(2.3821e-06)\n",
      "tensor(0.)\n"
     ]
    },
    {
     "name": "stderr",
     "output_type": "stream",
     "text": [
      "Epoch 1/1:   0%|          | 1/266 [00:02<12:04,  2.74s/it]"
     ]
    },
    {
     "name": "stdout",
     "output_type": "stream",
     "text": [
      "decoder tensor(8.2407e-06)\n",
      "tensor(0.)\n",
      "tensor([[1273, 3291, 3617,  ..., 6987, 7294, 4997],\n",
      "        [1434,  413, 6663,  ..., 7996, 6245, 4551],\n",
      "        [4805, 2028, 8092,  ..., 4632, 8959, 6493],\n",
      "        ...,\n",
      "        [4566, 2767, 3735,  ..., 8246, 1693, 6828],\n",
      "        [8525, 7525, 4393,  ..., 9006, 6486, 2325],\n",
      "        [ 710, 6486, 3697,  ..., 6559, 6656, 2215]]) tensor([[1273, 3291, 3617,  ..., 6058, 1729, 3892],\n",
      "        [1434,  413, 6663,  ..., 3927, 1730, 1509],\n",
      "        [4805, 2028, 8092,  ..., 1634, 3011, 1343],\n",
      "        ...,\n",
      "        [4566, 2767, 3735,  ..., 5308, 1400, 6694],\n",
      "        [8525, 7525, 4393,  ..., 1512, 1070, 1621],\n",
      "        [ 710, 6486, 3697,  ..., 5435, 7022, 5553]])\n",
      "encoder tensor(2.2351e-06)\n",
      "tensor(0.)\n"
     ]
    },
    {
     "name": "stderr",
     "output_type": "stream",
     "text": [
      "Epoch 1/1:   1%|          | 2/266 [00:05<12:37,  2.87s/it]"
     ]
    },
    {
     "name": "stdout",
     "output_type": "stream",
     "text": [
      "decoder tensor(8.3414e-06)\n",
      "tensor(0.)\n",
      "tensor([[ 570, 6693, 4404,  ..., 3893, 2949, 5476],\n",
      "        [ 728, 8980, 6828,  ..., 8309,  248, 6425],\n",
      "        [8885, 5407, 1528,  ..., 8161, 1969, 4945],\n",
      "        ...,\n",
      "        [8070, 6884, 6568,  ..., 9131, 8666, 7245],\n",
      "        [6549, 1590, 7606,  ..., 7828, 5134,  658],\n",
      "        [ 805, 4388, 7948,  ...,  397, 6749, 4244]]) tensor([[ 570, 6693, 4404,  ..., 2172, 7459, 2267],\n",
      "        [ 728, 8980, 6828,  ..., 6328, 5801, 4661],\n",
      "        [8885, 5407, 1528,  ..., 4474, 2152, 1749],\n",
      "        ...,\n",
      "        [8070, 6884, 6568,  ...,  411, 7834,  681],\n",
      "        [6549, 1590, 7606,  ..., 6195, 1294, 8897],\n",
      "        [ 805, 4388, 7948,  ..., 5647, 8807, 2540]])\n",
      "encoder tensor(2.0439e-06)\n",
      "tensor(0.)\n"
     ]
    },
    {
     "name": "stderr",
     "output_type": "stream",
     "text": [
      "Epoch 1/1:   1%|          | 3/266 [00:08<12:23,  2.83s/it]"
     ]
    },
    {
     "name": "stdout",
     "output_type": "stream",
     "text": [
      "decoder tensor(8.1283e-06)\n",
      "tensor(0.)\n",
      "tensor([[7471, 4344, 3954,  ..., 2043, 1880, 8125],\n",
      "        [6107, 2808, 7103,  ..., 8558, 6728, 6256],\n",
      "        [2784, 6689, 6676,  ..., 7709, 4870, 3525],\n",
      "        ...,\n",
      "        [ 989, 8896, 3451,  ..., 2654,  157, 8169],\n",
      "        [4499, 5466, 6744,  ..., 7839,  331, 9140],\n",
      "        [4578, 3705, 7834,  ...,  397, 4856, 6299]]) tensor([[7471, 4344, 3954,  ...,  716, 5814, 2406],\n",
      "        [6107, 2808, 7103,  ..., 8648, 4151, 1617],\n",
      "        [2784, 6689, 6676,  ...,  760, 1079, 4889],\n",
      "        ...,\n",
      "        [ 989, 8896, 3451,  ..., 1876, 8752, 5393],\n",
      "        [4499, 5466, 6744,  ..., 1636, 3791, 4281],\n",
      "        [4578, 3705, 7834,  ..., 5088, 8926, 3158]])\n",
      "encoder tensor(1.9335e-06)\n",
      "tensor(0.)\n"
     ]
    },
    {
     "name": "stderr",
     "output_type": "stream",
     "text": [
      "Epoch 1/1:   2%|▏         | 4/266 [00:10<11:27,  2.62s/it]"
     ]
    },
    {
     "name": "stdout",
     "output_type": "stream",
     "text": [
      "decoder tensor(8.2458e-06)\n",
      "tensor(0.)\n",
      "tensor([[1762, 7172,  903,  ..., 1450, 2287, 8942],\n",
      "        [ 509, 8841,  479,  ..., 3573, 7164, 4416],\n",
      "        [4315, 4595, 1188,  ..., 3625, 7398, 8035],\n",
      "        ...,\n",
      "        [8720, 5278, 2587,  ...,  124, 4709, 7959],\n",
      "        [2759, 7847, 4382,  ..., 7885, 8824, 7776],\n",
      "        [7095, 7544, 6738,  ...,  422, 1099, 6900]]) tensor([[1762, 7172,  903,  ..., 9032, 1055, 5990],\n",
      "        [ 509, 8841,  479,  ..., 2408, 5650, 4568],\n",
      "        [4315, 4595, 1188,  ..., 7689, 2859, 8080],\n",
      "        ...,\n",
      "        [8720, 5278, 2587,  ..., 9039, 5331, 2130],\n",
      "        [2759, 7847, 4382,  ..., 8865, 8745, 7131],\n",
      "        [7095, 7544, 6738,  ..., 8863, 5417, 8851]])\n",
      "encoder tensor(1.7542e-06)\n",
      "tensor(0.)\n"
     ]
    },
    {
     "name": "stderr",
     "output_type": "stream",
     "text": [
      "Epoch 1/1:   2%|▏         | 5/266 [00:13<10:58,  2.52s/it]"
     ]
    },
    {
     "name": "stdout",
     "output_type": "stream",
     "text": [
      "decoder tensor(7.7292e-06)\n",
      "tensor(0.)\n",
      "tensor([[3346, 7813, 6861,  ..., 7973, 1632, 5756],\n",
      "        [4798, 4326, 5524,  ..., 6667, 8822, 3499],\n",
      "        [4931, 7579, 2095,  ..., 2564, 2680, 5254],\n",
      "        ...,\n",
      "        [1518, 2909, 8980,  ..., 3770, 5472,  367],\n",
      "        [ 100, 6908, 9029,  ...,  725, 6032, 8341],\n",
      "        [7099, 2471, 6630,  ...,  162, 8469, 3679]]) tensor([[3346, 7813, 6861,  ..., 4339, 3267, 7427],\n",
      "        [4798, 4326, 5524,  ..., 4659, 5353, 3873],\n",
      "        [4931, 7579, 2095,  ..., 2531,  962, 2131],\n",
      "        ...,\n",
      "        [1518, 2909, 8980,  ..., 5662, 2919, 1089],\n",
      "        [ 100, 6908, 9029,  ..., 1002, 8089,  688],\n",
      "        [7099, 2471, 6630,  ..., 1027,  509, 6359]])\n"
     ]
    },
    {
     "name": "stderr",
     "output_type": "stream",
     "text": [
      "Epoch 1/1:   2%|▏         | 5/266 [00:14<12:55,  2.97s/it]\n"
     ]
    },
    {
     "ename": "KeyboardInterrupt",
     "evalue": "",
     "output_type": "error",
     "traceback": [
      "\u001b[0;31m---------------------------------------------------------------------------\u001b[0m",
      "\u001b[0;31mKeyboardInterrupt\u001b[0m                         Traceback (most recent call last)",
      "Cell \u001b[0;32mIn[20], line 3\u001b[0m\n\u001b[1;32m      1\u001b[0m \u001b[38;5;66;03m# print abs gradient for topk/auxk and everything else -- encoder and decoder\u001b[39;00m\n\u001b[0;32m----> 3\u001b[0m \u001b[43mtrain\u001b[49m\u001b[43m(\u001b[49m\u001b[43mae\u001b[49m\u001b[43m,\u001b[49m\u001b[43m \u001b[49m\u001b[43mtrain_loader\u001b[49m\u001b[43m,\u001b[49m\u001b[43m \u001b[49m\u001b[43moptimizer\u001b[49m\u001b[43m,\u001b[49m\u001b[43m \u001b[49m\u001b[43mepochs\u001b[49m\u001b[43m,\u001b[49m\u001b[43m \u001b[49m\u001b[43mk\u001b[49m\u001b[43m,\u001b[49m\u001b[43m \u001b[49m\u001b[43mauxk_coef\u001b[49m\u001b[43m,\u001b[49m\u001b[43m \u001b[49m\u001b[43mclip_grad\u001b[49m\u001b[43m,\u001b[49m\u001b[43m \u001b[49m\u001b[43mmodel_name\u001b[49m\u001b[38;5;241;43m=\u001b[39;49m\u001b[43mmodel_name\u001b[49m\u001b[43m)\u001b[49m\n",
      "Cell \u001b[0;32mIn[19], line 44\u001b[0m, in \u001b[0;36mtrain\u001b[0;34m(ae, train_loader, optimizer, epochs, k, auxk_coef, clip_grad, save_dir, model_name)\u001b[0m\n\u001b[1;32m     41\u001b[0m unit_norm_decoder_(ae)\n\u001b[1;32m     43\u001b[0m topk_indices \u001b[38;5;241m=\u001b[39m torch\u001b[38;5;241m.\u001b[39mcat((info[\u001b[38;5;124m\"\u001b[39m\u001b[38;5;124mtopk_indices\u001b[39m\u001b[38;5;124m\"\u001b[39m], info[\u001b[38;5;124m\"\u001b[39m\u001b[38;5;124mauxk_indices\u001b[39m\u001b[38;5;124m\"\u001b[39m]), dim \u001b[38;5;241m=\u001b[39m \u001b[38;5;241m-\u001b[39m\u001b[38;5;241m1\u001b[39m)\n\u001b[0;32m---> 44\u001b[0m selected_grad \u001b[38;5;241m=\u001b[39m \u001b[43mtorch\u001b[49m\u001b[38;5;241;43m.\u001b[39;49m\u001b[43mabs\u001b[49m\u001b[43m(\u001b[49m\u001b[43mae\u001b[49m\u001b[38;5;241;43m.\u001b[39;49m\u001b[43mencoder\u001b[49m\u001b[38;5;241;43m.\u001b[39;49m\u001b[43mweight\u001b[49m\u001b[38;5;241;43m.\u001b[39;49m\u001b[43mgrad\u001b[49m\u001b[43m[\u001b[49m\u001b[43mtopk_indices\u001b[49m\u001b[43m,\u001b[49m\u001b[43m \u001b[49m\u001b[43m:\u001b[49m\u001b[43m]\u001b[49m\u001b[43m)\u001b[49m\u001b[38;5;241m.\u001b[39mmean()\n\u001b[1;32m     45\u001b[0m \u001b[38;5;28mprint\u001b[39m(\u001b[38;5;124m'\u001b[39m\u001b[38;5;124mencoder\u001b[39m\u001b[38;5;124m'\u001b[39m, selected_grad)\n\u001b[1;32m     47\u001b[0m mask \u001b[38;5;241m=\u001b[39m torch\u001b[38;5;241m.\u001b[39mones_like(ae\u001b[38;5;241m.\u001b[39mencoder\u001b[38;5;241m.\u001b[39mweight\u001b[38;5;241m.\u001b[39mgrad)\n",
      "\u001b[0;31mKeyboardInterrupt\u001b[0m: "
     ]
    }
   ],
   "source": [
    "# print abs gradient for topk/auxk and everything else -- encoder and decoder\n",
    "\n",
    "train(ae, train_loader, optimizer, epochs, k, auxk_coef, clip_grad, model_name=model_name)"
   ]
  },
  {
   "cell_type": "code",
   "execution_count": 1,
   "metadata": {},
   "outputs": [],
   "source": [
    "import autointerp\n",
    "from pathlib import Path\n",
    "\n",
    "%load_ext autoreload\n",
    "%autoreload 2"
   ]
  },
  {
   "cell_type": "code",
   "execution_count": 7,
   "metadata": {},
   "outputs": [
    {
     "name": "stdout",
     "output_type": "stream",
     "text": [
      "abstract_embeddings.npy documents.pkl           keyword_index.json\n",
      "abstract_texts.json     embeddings_matrix.npy   metadata.json\n",
      "document_index.pkl      index_mapping.pkl\n"
     ]
    }
   ],
   "source": [
    "!ls ../data/vector_store/"
   ]
  },
  {
   "cell_type": "code",
   "execution_count": 148,
   "metadata": {},
   "outputs": [
    {
     "name": "stderr",
     "output_type": "stream",
     "text": [
      "Processing abstracts: 100%|██████████| 266/266 [01:43<00:00,  2.58it/s]\n"
     ]
    },
    {
     "name": "stdout",
     "output_type": "stream",
     "text": [
      "Processing complete. Results saved in 'sae_data' folder.\n"
     ]
    }
   ],
   "source": [
    "import torch\n",
    "import numpy as np\n",
    "from tqdm import tqdm\n",
    "import os\n",
    "from torch.utils.data import DataLoader, TensorDataset\n",
    "from topk_sae import FastAutoencoder  # Assuming train.py contains your FastAutoencoder class\n",
    "\n",
    "# Set grad to false\n",
    "torch.set_grad_enabled(False)\n",
    "\n",
    "# hypers\n",
    "d_model = 1536\n",
    "n_dirs = d_model * 6\n",
    "k = 64\n",
    "auxk = 128\n",
    "multik = 256\n",
    "batch_size = 1024\n",
    "\n",
    "# Device configuration\n",
    "device = torch.device('cuda' if torch.cuda.is_available() else 'cpu')\n",
    "\n",
    "# Load the pre-trained model\n",
    "ae = FastAutoencoder(n_dirs, d_model, k, auxk, multik = multik).to(device)\n",
    "#model_path = 'checkpoints/64_9216_128_256_multik_epoch_10.pth'\n",
    "model_path = 'checkpoints/64_9216_128_final_epoch_44.pth'\n",
    "ae.load_state_dict(torch.load(model_path))\n",
    "ae.eval()\n",
    "\n",
    "# Load abstract embeddings\n",
    "abstract_embeddings = np.load(\"../data/vector_store/abstract_embeddings.npy\")\n",
    "abstract_embeddings = abstract_embeddings.astype(np.float32)\n",
    "\n",
    "# Create a DataLoader for efficient batching\n",
    "dataset = TensorDataset(torch.from_numpy(abstract_embeddings))\n",
    "dataloader = DataLoader(dataset, batch_size=batch_size, shuffle=False)\n",
    "\n",
    "# Prepare arrays to store results\n",
    "num_abstracts = len(abstract_embeddings)\n",
    "topk_indices = np.zeros((num_abstracts, k), dtype=np.int64)\n",
    "topk_values = np.zeros((num_abstracts, k), dtype=np.float32)\n",
    "multik_indices = np.zeros((num_abstracts, multik), dtype=np.int64)\n",
    "multik_values = np.zeros((num_abstracts, multik), dtype=np.float32)\n",
    "all_latents = np.zeros((num_abstracts, n_dirs), dtype=np.float32)\n",
    "\n",
    "# Process batches\n",
    "with torch.no_grad():\n",
    "    for i, (batch,) in enumerate(tqdm(dataloader, desc=\"Processing abstracts\")):\n",
    "        batch = batch.to(device)\n",
    "        _, info = ae(batch)\n",
    "        \n",
    "        start_idx = i * batch_size\n",
    "        end_idx = start_idx + batch.size(0)\n",
    "        \n",
    "        topk_indices[start_idx:end_idx] = info['topk_indices'].cpu().numpy()\n",
    "        topk_values[start_idx:end_idx] = info['topk_values'].cpu().numpy()\n",
    "        multik_indices[start_idx:end_idx] = info['multik_indices'].cpu().numpy()\n",
    "        multik_values[start_idx:end_idx] = info['multik_values'].cpu().numpy()\n",
    "        all_latents[start_idx:end_idx] = info['latents_pre_act'].cpu().numpy()\n",
    "\n",
    "# Create directory to save results\n",
    "os.makedirs(\"sae_data\", exist_ok=True)\n",
    "\n",
    "# Save results\n",
    "np.save(\"sae_data/topk_indices.npy\", topk_indices)\n",
    "np.save(\"sae_data/topk_values.npy\", topk_values)\n",
    "\n",
    "print(\"Processing complete. Results saved in 'sae_data' folder.\")"
   ]
  },
  {
   "cell_type": "code",
   "execution_count": null,
   "metadata": {},
   "outputs": [],
   "source": []
  },
  {
   "cell_type": "code",
   "execution_count": 75,
   "metadata": {},
   "outputs": [],
   "source": [
    "import matplotlib.pyplot as plt\n",
    "import topk_sae"
   ]
  },
  {
   "cell_type": "code",
   "execution_count": 96,
   "metadata": {},
   "outputs": [
    {
     "name": "stderr",
     "output_type": "stream",
     "text": [
      "Processing abstracts: 100%|██████████| 266/266 [00:08<00:00, 30.81it/s] \n"
     ]
    }
   ],
   "source": [
    "# CODE TO COMPUTE RECONSTRUCTION MSE AT DIFFERENT K VALUES\n",
    "\n",
    "# Load the pre-trained model\n",
    "ae = FastAutoencoder(n_dirs, d_model, k, auxk, multik = multik).to(device)\n",
    "model_path = 'checkpoints/64_9216_128_final_epoch_44.pth'\n",
    "#model_path = 'checkpoints/64_9216_128_256_multik_epoch_10.pth'\n",
    "ae.load_state_dict(torch.load(model_path))\n",
    "ae.eval()\n",
    "\n",
    "with torch.no_grad():\n",
    "    for i, (batch,) in enumerate(tqdm(dataloader, desc=\"Processing abstracts\")):\n",
    "        if i == 1:\n",
    "            batch = batch.to(device)\n",
    "            _, info = ae(batch)\n",
    "            \n",
    "            start_idx = i * batch_size\n",
    "            end_idx = start_idx + batch.size(0)\n",
    "            kvals = range(16, 256, 4)\n",
    "            mse = np.zeros(len(kvals))\n",
    "            \n",
    "            for i, kval in enumerate(kvals):\n",
    "                latents_pre_act = info['latents_pre_act']\n",
    "                recon_at_k = ae.decode_at_k(latents_pre_act, kval)\n",
    "                mse[i] = topk_sae.normalized_mse(recon_at_k, batch)"
   ]
  },
  {
   "cell_type": "code",
   "execution_count": 97,
   "metadata": {},
   "outputs": [
    {
     "data": {
      "text/plain": [
       "Text(0, 0.5, 'normalized mse, topk')"
      ]
     },
     "execution_count": 97,
     "metadata": {},
     "output_type": "execute_result"
    },
    {
     "data": {
      "image/png": "[encoded data removed]",
      "text/plain": [
       "<Figure size 640x480 with 1 Axes>"
      ]
     },
     "metadata": {},
     "output_type": "display_data"
    }
   ],
   "source": [
    "plt.plot(kvals, mse)\n",
    "plt.yscale(\"log\")\n",
    "plt.xscale(\"log\")\n",
    "plt.xlabel('k')\n",
    "plt.ylabel('normalized mse, topk')"
   ]
  },
  {
   "cell_type": "code",
   "execution_count": 94,
   "metadata": {},
   "outputs": [
    {
     "data": {
      "text/plain": [
       "Text(0, 0.5, 'normalized mse, multik')"
      ]
     },
     "execution_count": 94,
     "metadata": {},
     "output_type": "execute_result"
    },
    {
     "data": {
      "image/png": "[encoded data removed]",
      "text/plain": [
       "<Figure size 640x480 with 1 Axes>"
      ]
     },
     "metadata": {},
     "output_type": "display_data"
    }
   ],
   "source": [
    "plt.plot(kvals, mse)\n",
    "plt.yscale(\"log\")\n",
    "plt.xscale(\"log\")\n",
    "plt.xlabel('k')\n",
    "plt.ylabel('normalized mse, multik')"
   ]
  },
  {
   "cell_type": "code",
   "execution_count": 71,
   "metadata": {},
   "outputs": [],
   "source": [
    "copy = all_latents.copy()\n",
    "for i in range(num_abstracts):\n",
    "    copy[i, multik_indices[i]] = 0"
   ]
  },
  {
   "cell_type": "code",
   "execution_count": 72,
   "metadata": {},
   "outputs": [
    {
     "data": {
      "image/png": "[encoded data removed]",
      "text/plain": [
       "<Figure size 640x480 with 1 Axes>"
      ]
     },
     "metadata": {},
     "output_type": "display_data"
    }
   ],
   "source": [
    "hist = plt.hist(np.mean(topk_values, axis = 1), bins=100) # highest activation in topk"
   ]
  },
  {
   "cell_type": "code",
   "execution_count": 74,
   "metadata": {},
   "outputs": [
    {
     "data": {
      "image/png": "[encoded data removed]",
      "text/plain": [
       "<Figure size 640x480 with 1 Axes>"
      ]
     },
     "metadata": {},
     "output_type": "display_data"
    }
   ],
   "source": [
    "hist = plt.hist(copy.flatten(), bins = 100)\n",
    "#plt.xlim(-0.2)\n",
    "#plt.ylim(0, 100)"
   ]
  },
  {
   "cell_type": "code",
   "execution_count": 73,
   "metadata": {},
   "outputs": [
    {
     "data": {
      "image/png": "[encoded data removed]",
      "text/plain": [
       "<Figure size 640x480 with 1 Axes>"
      ]
     },
     "metadata": {},
     "output_type": "display_data"
    }
   ],
   "source": [
    "hist = plt.hist(np.min(copy, axis = 1), bins = 100)"
   ]
  },
  {
   "cell_type": "code",
   "execution_count": 99,
   "metadata": {},
   "outputs": [
    {
     "data": {
      "text/plain": [
       "(271494, 9216)"
      ]
     },
     "execution_count": 99,
     "metadata": {},
     "output_type": "execute_result"
    }
   ],
   "source": [
    "all_latents.shape"
   ]
  },
  {
   "cell_type": "code",
   "execution_count": 182,
   "metadata": {},
   "outputs": [],
   "source": [
    "from tqdm import tqdm\n",
    "def co_occurrence(topk_indices, k = 64, ndir=9216):\n",
    "    co_occurrence = np.zeros((ndir, ndir))\n",
    "    norms = np.zeros(ndir)\n",
    "    for i in tqdm(range(topk_indices.shape[0] // 10), desc=\"Calculating co-occurrence\"):\n",
    "        for j in range(k):\n",
    "            norms[topk_indices[i, j]] += 1\n",
    "            for l in range(j + 1, k):\n",
    "                co_occurrence[topk_indices[i, j], topk_indices[i, l]] += 1\n",
    "                co_occurrence[topk_indices[i, l], topk_indices[i, j]] += 1\n",
    "    \n",
    "    # norms_matrix = np.outer(norms + 1, norms + 1)\n",
    "    # co_occurrence = np.divide(co_occurrence, norms_matrix, where=norms_matrix!=0)\n",
    "\n",
    "    return co_occurrence, norms"
   ]
  },
  {
   "cell_type": "code",
   "execution_count": 183,
   "metadata": {},
   "outputs": [
    {
     "name": "stderr",
     "output_type": "stream",
     "text": [
      "Calculating co-occurrence: 100%|██████████| 27149/27149 [01:07<00:00, 400.24it/s]\n"
     ]
    }
   ],
   "source": [
    "mat, norms = co_occurrence(topk_indices)"
   ]
  },
  {
   "cell_type": "code",
   "execution_count": 185,
   "metadata": {},
   "outputs": [],
   "source": [
    "mat_vert = mat/(norms + 1)[:, None]\n",
    "mat_horz = mat/(norms + 1)[None, :]"
   ]
  },
  {
   "cell_type": "code",
   "execution_count": 186,
   "metadata": {},
   "outputs": [
    {
     "data": {
      "text/plain": [
       "<matplotlib.colorbar.Colorbar at 0x7fb1cd55e0b0>"
      ]
     },
     "execution_count": 186,
     "metadata": {},
     "output_type": "execute_result"
    },
    {
     "data": {
      "image/png": "[encoded data removed]",
      "text/plain": [
       "<Figure size 640x480 with 2 Axes>"
      ]
     },
     "metadata": {},
     "output_type": "display_data"
    }
   ],
   "source": [
    "plt.imshow(mat_vert[:100, :100], cmap = 'hot')\n",
    "plt.colorbar()"
   ]
  },
  {
   "cell_type": "code",
   "execution_count": 191,
   "metadata": {},
   "outputs": [
    {
     "data": {
      "text/plain": [
       "array([0.80597015, 0.74712644, 0.625     , 0.88461538, 0.96153846,\n",
       "       0.56923077, 0.73333333, 0.79166667, 0.46666667, 0.71428571,\n",
       "       0.60259434, 0.76      , 0.78403756, 0.66666667, 0.7826087 ,\n",
       "       0.66666667, 0.81818182, 0.51785714, 0.85185185, 0.60215054,\n",
       "       0.61666667, 0.5       , 0.8       , 0.86516854, 0.        ,\n",
       "       0.93333333, 0.8       , 0.66666667, 0.64      , 0.8174475 ,\n",
       "       0.8909465 , 0.375     , 0.632287  , 0.6       , 0.85714286,\n",
       "       0.66666667, 0.66666667, 0.57142857, 0.65835411, 0.69672131,\n",
       "       0.86643836, 0.81818182, 0.5483871 , 0.76119403, 0.35714286,\n",
       "       0.61538462, 0.6394453 , 0.88584475, 0.61682243, 0.625     ,\n",
       "       0.4863388 , 0.625     , 0.77260982, 0.79742765, 0.78884462,\n",
       "       0.87584345, 0.72      , 0.82524272, 0.75      , 0.51908397,\n",
       "       0.84931507, 0.84615385, 0.        , 0.54320988, 0.71428571,\n",
       "       0.72727273, 0.7761194 , 0.6       , 0.96666667, 0.64651163,\n",
       "       0.88135593, 0.8125    , 0.82028591, 0.72      , 0.9       ,\n",
       "       0.89473684, 0.87335092, 0.66666667, 0.75      , 0.79591837,\n",
       "       0.7       , 0.33333333, 0.33333333, 0.88102894, 0.625     ,\n",
       "       0.76363636, 0.76923077, 0.59701493, 0.33333333, 0.66666667,\n",
       "       0.66666667, 0.7845805 , 0.71428571, 0.78965517, 0.72772277,\n",
       "       0.75      , 0.84444444, 0.61702128, 0.7       , 0.82167832])"
      ]
     },
     "execution_count": 191,
     "metadata": {},
     "output_type": "execute_result"
    }
   ],
   "source": [
    "mat_vert[:100, 62]"
   ]
  },
  {
   "cell_type": "code",
   "execution_count": 189,
   "metadata": {},
   "outputs": [
    {
     "data": {
      "image/png": "[encoded data removed]",
      "text/plain": [
       "<Figure size 640x480 with 1 Axes>"
      ]
     },
     "metadata": {},
     "output_type": "display_data"
    }
   ],
   "source": [
    "hist = plt.hist(np.log10(norms + 1), bins = 20)"
   ]
  },
  {
   "cell_type": "code",
   "execution_count": 147,
   "metadata": {},
   "outputs": [],
   "source": [
    "import autointerp"
   ]
  },
  {
   "cell_type": "code",
   "execution_count": 192,
   "metadata": {},
   "outputs": [
    {
     "name": "stderr",
     "output_type": "stream",
     "text": [
      "INFO:httpx:HTTP Request: POST https://api.openai.com/v1/chat/completions \"HTTP/1.1 200 OK\"\n"
     ]
    },
    {
     "name": "stdout",
     "output_type": "stream",
     "text": [
      "Interpretation: Precise measurement of astronomical constants**\n"
     ]
    },
    {
     "name": "stderr",
     "output_type": "stream",
     "text": [
      "  0%|          | 0/8 [00:00<?, ?it/s]INFO:httpx:HTTP Request: POST https://api.openai.com/v1/chat/completions \"HTTP/1.1 200 OK\"\n",
      " 12%|█▎        | 1/8 [00:03<00:25,  3.60s/it]INFO:httpx:HTTP Request: POST https://api.openai.com/v1/chat/completions \"HTTP/1.1 200 OK\"\n",
      " 25%|██▌       | 2/8 [00:05<00:17,  2.86s/it]INFO:httpx:HTTP Request: POST https://api.openai.com/v1/chat/completions \"HTTP/1.1 200 OK\"\n",
      " 38%|███▊      | 3/8 [00:08<00:14,  2.87s/it]INFO:httpx:HTTP Request: POST https://api.openai.com/v1/chat/completions \"HTTP/1.1 200 OK\"\n",
      " 50%|█████     | 4/8 [00:12<00:12,  3.10s/it]INFO:httpx:HTTP Request: POST https://api.openai.com/v1/chat/completions \"HTTP/1.1 200 OK\"\n",
      " 62%|██████▎   | 5/8 [00:15<00:08,  2.99s/it]INFO:httpx:HTTP Request: POST https://api.openai.com/v1/chat/completions \"HTTP/1.1 200 OK\"\n",
      " 75%|███████▌  | 6/8 [00:20<00:07,  3.82s/it]INFO:httpx:HTTP Request: POST https://api.openai.com/v1/chat/completions \"HTTP/1.1 200 OK\"\n",
      " 88%|████████▊ | 7/8 [00:24<00:03,  3.87s/it]INFO:httpx:HTTP Request: POST https://api.openai.com/v1/chat/completions \"HTTP/1.1 200 OK\"\n",
      "100%|██████████| 8/8 [00:27<00:00,  3.42s/it]"
     ]
    },
    {
     "name": "stdout",
     "output_type": "stream",
     "text": [
      "Pearson correlation: 0.895143592549291\n",
      "F1 score: 0.8888888888888888\n"
     ]
    },
    {
     "name": "stderr",
     "output_type": "stream",
     "text": [
      "\n"
     ]
    }
   ],
   "source": [
    "CONFIG_PATH = Path(\"../config.yaml\")\n",
    "DATA_DIR = Path(\"../data\")\n",
    "SAE_DATA_DIR = Path(\"sae_data\")\n",
    "num_samples = 5\n",
    "feature_index = 62\n",
    "\n",
    "analyzer = autointerp.NeuronAnalyzer(CONFIG_PATH, feature_index, num_samples)\n",
    "\n",
    "top_abstracts, zero_abstracts = analyzer.get_feature_activations(num_samples)\n",
    "interpretation = analyzer.generate_interpretation(top_abstracts, zero_abstracts)\n",
    "print(f\"Interpretation: {interpretation}\")\n",
    "\n",
    "num_test_samples = 4\n",
    "test_abstracts = [abstract for _, abstract, _ in top_abstracts[-num_test_samples:] + zero_abstracts[-num_test_samples:]]\n",
    "ground_truth = [1] * num_test_samples + [0] * num_test_samples\n",
    "\n",
    "predictions = analyzer.predict_activations(interpretation, test_abstracts)\n",
    "correlation, f1 = analyzer.evaluate_predictions(ground_truth, predictions)\n",
    "\n",
    "print(f\"Pearson correlation: {correlation}\")\n",
    "print(f\"F1 score: {f1}\")"
   ]
  },
  {
   "cell_type": "code",
   "execution_count": 193,
   "metadata": {},
   "outputs": [
    {
     "data": {
      "text/plain": [
       "['[\"Median statistics estimates of Hubble and Newton\\'s constants\"]\\n\\nRobustness of any statistics depends upon the number of assumptions it makes about the measured data. We point out the advantages of median statistics using toy numerical experiments and demonstrate its robustness, when the number of assumptions we can make about the data are limited. We then apply the median statistics technique to obtain estimates of two constants of nature, Hubble constant (H<SUB>0</SUB>) and Newton\\'s gravitational constant ( G , both of which show significant differences between different measurements. For H<SUB>0</SUB>, we update the analyses done by Chen and Ratra (2011) and Gott et al. (2001) using 576 measurements. We find after grouping the different results according to their primary type of measurement, the median estimates are given by H<SUB>0</SUB> = 72.5^{+2.5}_{-8} km/sec/Mpc with errors corresponding to 95% c.l. (2 σ) and G=6.674702^{+0.0014}_{-0.0009} × 10^{-11} Nm<SUP>2</SUP>kg<SUP>-2</SUP> corresponding to 68% c.l. (1σ).',\n",
       " \"['The Hubble Constant']\\n\\nI review the current state of determinations of the Hubble constant, which gives the length scale of the Universe by relating the expansion velocity of objects to their distance. In the last 20 years, much progress has been made and estimates now range between 60 and 75 km s<SUP>-1</SUP> Mpc<SUP>-1</SUP>, with most now between 70 and 75 km s<SUP>-1</SUP> Mpc<SUP>-1</SUP>, a huge improvement over the factor-of-2 uncertainty which used to prevail. Further improvements which gave a generally agreed margin of error of a few percent rather than the current 10% would be vital input to much other interesting cosmology. There are several programmes which are likely to lead us to this point in the next 10 years.\",\n",
       " \"['On a Source of Systematic Error in Absolute Measurement of Galactocentric Distance from Solving for the Stellar Orbit Around Sgr A*']\\n\\nEisenhauer et al. (2003, 2005) derived absolute (geometrical) estimates of the distanceto the center of the Galaxy, $R_0$, from the star S2 orbit around Sgr A* on the assumption that the intrinsic velocity of Sgr A* is negligible. This assumption produces the source of systematic error in $R_0$ value owing to a probable motion of Sgr A* relative to the accepted velocity reference system which is arbitrary to some extent. Eisenhauer et al. justify neglecting all three spatial velocity components of Sgr A* mainly by low limits of Sgr A*'s proper motion of 20--60 km/s. In this brief paper, a simple analysis in the context of the Keplerian dynamics was used to demonstrate that neglect of even low (perhaps, formal) radial velocity of Sgr A* leads to a substantial systematic error in $R_0$: the same limits of 20--60 km/s result in $R_0$ errors of 1.3--5.6%, i.e., (0.1--0.45)$\\\\times (R_0/8)$ kpc, for current S2 velocities. Similar values for Sgr A*'s tangential motion can multiply this systematic error in the case of S2 orbit by factor ${\\\\approx}1.5$--1.9 in the limiting cases.\",\n",
       " \"['The expansion field: the value of H <SUB>0</SUB>']\\n\\nAny calibration of the present value of the Hubble constant ( H <SUB>0</SUB>) requires recession velocities and distances of galaxies. While the conversion of observed velocities into true recession velocities has only a small effect on the result, the derivation of unbiased distances which rest on a solid zero point and cover a useful range of about 4 30 Mpc is crucial. A list of 279 such galaxy distances within v &lt; 2,000 km s<SUP>-1</SUP> is given which are derived from the tip of the red-giant branch (TRGB), from Cepheids, and/or from supernovae of type Ia (SNe Ia). Their random errors are not more than 0.15 mag as shown by intercomparison. They trace a linear expansion field within narrow margins, supported also by external evidence, from v = 250 to at least 2,000 km s<SUP>-1</SUP>. Additional 62 distant SNe Ia confirm the linearity to at least 20,000 km s<SUP>-1</SUP>. The dispersion about the Hubble line is dominated by random peculiar velocities, amounting locally to &lt;100 km s<SUP>-1</SUP> but increasing outwards. Due to the linearity of the expansion field the Hubble constant H <SUB>0</SUB> can be found at any distance &gt;4.5 Mpc. RR Lyr star-calibrated TRGB distances of 78 galaxies above this limit give H <SUB>0</SUB> = 63.0 ± 1.6 at an effective distance of 6 Mpc. They compensate the effect of peculiar motions by their large number. Support for this result comes from 28 independently calibrated Cepheids that give H <SUB>0</SUB> = 63.4 ± 1.7 at 15 Mpc. This agrees also with the large-scale value of H <SUB>0</SUB> = 61.2 ± 0.5 from the distant, Cepheid-calibrated SNe Ia. A mean value of H <SUB>0</SUB> = 62.3 ± 1.3 is adopted. Because the value depends on two independent zero points of the distance scale its systematic error is estimated to be 6%. Other determinations of H <SUB>0</SUB> are discussed. They either conform with the quoted value (e.g. line width data of spirals or the D <SUB> n </SUB>- σ method of E galaxies) or are judged to be inconclusive. Typical errors of H <SUB>0</SUB> come from the use of a universal, yet unjustified P L relation of Cepheids, the neglect of selection bias in magnitude-limited samples, or they are inherent to the adopted models.\",\n",
       " \"['Fast and precise map-making for massively multi-detector CMB experiments']\\n\\nFuture cosmic microwave background (CMB) polarization experiments aim to measure an unprecedentedly small signal - the primordial gravity wave component of the polarization field B mode. To achieve this, they will analyse huge data sets, involving years of time-ordered data (TOD) from massively multi-detector focal planes. This creates the need for fast and precise methods to complement the maximum-likelihood (ML) approach in analysis pipelines. In this paper, we investigate fast map-making methods as applied to long duration, massively multi-detector, ground-based experiments, in the context of the search for B modes. We focus on two alternative map-making approaches: destriping and TOD filtering, comparing their performance on simulated multi-detector polarization data. We have written an optimized, parallel destriping code, the DEStriping CARTographer (DESCART), that is generalized for massive focal planes, including the potential effect of cross-correlated TOD 1/f noise. We also determine the scaling of computing time for destriping as applied to a simulated full-season data set for a realistic experiment. We find that destriping can outperform filtering in estimating both the large-scale E- and B-mode angular power spectra. In particular, filtering can produce significant spurious B-mode power via EB mixing. Whilst this can be removed, it contributes to the variance of B-mode bandpower estimates at scales near the primordial B-mode peak. For the experimental configuration we simulate, this has an effect on the possible detection significance for primordial B modes. Destriping is a viable alternative fast method to the full ML approach that does not cause the problems associated with filtering, and is flexible enough to fit into both ML and Monte Carlo pseudo-C<SUB>l</SUB> pipelines.\",\n",
       " \"['FAUST. V. Hot methanol in the [BHB2007] 11 protobinary system; hot corino versus shock origin']\\n\\n<BR /> Aims: Methanol is a ubiquitous species commonly found in the molecular interstellar medium. It is also a crucial seed species for the build-up of chemical complexity in star forming regions. Thus, understanding how its abundance evolves during the star formation process and whether it enriches the emerging planetary system is of paramount importance. <BR /> Methods: We used new data from the ALMA Large Program FAUST (Fifty AU STudy of the chemistry in the disc/envelope system of solar protostars) to study the methanol line emission towards the [BHB2007] 11 protobinary system (sources A and B), where a complex structure of filaments connecting the two sources with a larger circumbinary disc has previously been detected. <BR /> Results: Twelve methanol lines have been detected with upper energies in the [45-537] K range along with one <SUP>13</SUP>CH<SUB>3</SUB>OH transition and one methyl formate (CH<SUB>3</SUB>OCHO) line blended with one of the methanol transitions. The methanol emission is compact (FWHM ~ 0.5″) and encompasses both protostars, which are separated by only 0.2″ (28 au). In addition, the overall methanol line emission presents three velocity components, which are not spatially resolved by our observations. Nonetheless, a detailed analysis of the spatial origin of these three components suggests that they are associated with three different spatial regions, with two of them close to 11B and the third one associated with 11A. A radiative transfer analysis of the methanol lines gives a kinetic temperature of [100-140] K, an H<SUB>2</SUB> volume density of 10<SUP>6</SUP>-10<SUP>7</SUP> cm<SUP>−3</SUP> and column density of a few 10<SUP>18</SUP> cm<SUP>−2</SUP> in all three components with a source size of ~0.15″. Thus, this hot and dense gas is highly enriched in methanol with an abundance as high as 10<SUP>−5</SUP>. Using previous continuum data, we show that dust opacity can potentially completely absorb the methanol line emission from the two binary objects. <BR /> Conclusions: Although we cannot firmly exclude other possibilities, we suggest that the detected hot methanol is resulting from the shocked gas from the incoming filaments streaming towards [BHB2007] 11A and B, respectively. Higher spatial resolution observations are necessary to confirm this hypothesis.\",\n",
       " \"['Analysis of the WN star WR 102c, its WR nebula, and the associated cluster of massive stars in the Sickle Nebula']\\n\\nContext. The massive Wolf-Rayet type star WR 102c is located near the <ASTROBJ>Quintuplet Cluster</ASTROBJ>, one of the three massive star clusters in the <ASTROBJ>Galactic centre</ASTROBJ> region. Previous studies indicated that WR 102c may have a dusty circumstellar nebula and is among the main ionising sources of the <ASTROBJ>Sickle</ASTROBJ> Nebula associated with the Quintuplet Cluster. <BR /> Aims: The goals of our study are to derive the stellar parameters of WR 102c from the analysis of its spectrum and to investigate its stellar and nebular environment. <BR /> Methods: We obtained observations with the ESO VLT integral field spectrograph SINFONI in the K-band, extracted the stellar spectra, and analysed them by means of stellar atmosphere models. <BR /> Results: Our new analysis supersedes the results previously reported for WR 102c. We significantly decrease its bolometric luminosity and hydrogen content. We detect four early OB type stars close to WR 102c. These stars have radial velocities similar to that of WR 102c. We suggest that together with WR 102c these stars belong to a distinct star cluster with a total mass of ~ 1000 M<SUB>⊙</SUB>. We identify a new WR nebula around WR 102c in the SINFONI map of the diffuse Brγ emission and in the HST Paα images. The Brγ line at different locations is not significantly broadened and similar to the width of nebular emission elsewhere in the H II region around WR 102c. <BR /> Conclusions: The massive star WR 102c located in the Galactic centre region resides in a star cluster containing additional early-type stars. The stellar parameters of WR 102c are typical for hydrogen-free WN6 stars. We identify a nebula surrounding WR 102c that has a morphology similar to other nebulae around hydrogen-free WR stars, and propose that the formation of this nebula is linked to interaction of the fast stellar wind with the matter ejected at a previous evolutionary stage of WR 102c. <P />The scientific results reported in this article are based on observations obtained during the ESO VLT program 383.D-0323(A).\",\n",
       " \"['KIC 3240411 - the hottest known SPB star with the asymptotic g-mode period spacing']\\n\\nWe report the discovery of the hottest hybrid B-type pulsator, KIC 3240411, that exhibits the period spacing in the low-frequency range. This pattern is associated with asymptotic properties of high-order gravity (g-) modes. Our seismic modelling made simultaneously with the mode identification shows that dipole axisymmetric modes best fit the observations. Evolutionary models are computed with MESA code and pulsational models with the linear non-adiabatic code employing the traditional approximation to include the effects of rotation. The problem of mode excitation is discussed. We confirm that significant modification is indispensable to explain an instability of both pressure and gravity modes in the observed frequency ranges of KIC 3240411.\"]"
      ]
     },
     "execution_count": 193,
     "metadata": {},
     "output_type": "execute_result"
    }
   ],
   "source": [
    "test_abstracts"
   ]
  },
  {
   "cell_type": "code",
   "execution_count": 201,
   "metadata": {},
   "outputs": [
    {
     "name": "stderr",
     "output_type": "stream",
     "text": [
      "INFO:httpx:HTTP Request: POST https://api.openai.com/v1/chat/completions \"HTTP/1.1 200 OK\"\n"
     ]
    },
    {
     "name": "stdout",
     "output_type": "stream",
     "text": [
      "Interpretation: Redshift-space distortions modeling\n"
     ]
    },
    {
     "name": "stderr",
     "output_type": "stream",
     "text": [
      "  0%|          | 0/5 [00:00<?, ?it/s]INFO:httpx:HTTP Request: POST https://api.openai.com/v1/chat/completions \"HTTP/1.1 200 OK\"\n",
      " 20%|██        | 1/5 [00:02<00:11,  2.90s/it]INFO:httpx:HTTP Request: POST https://api.openai.com/v1/chat/completions \"HTTP/1.1 200 OK\"\n",
      " 40%|████      | 2/5 [00:06<00:09,  3.02s/it]INFO:httpx:HTTP Request: POST https://api.openai.com/v1/chat/completions \"HTTP/1.1 200 OK\"\n",
      " 60%|██████    | 3/5 [00:09<00:06,  3.19s/it]INFO:httpx:HTTP Request: POST https://api.openai.com/v1/chat/completions \"HTTP/1.1 200 OK\"\n",
      " 80%|████████  | 4/5 [00:12<00:03,  3.01s/it]INFO:httpx:HTTP Request: POST https://api.openai.com/v1/chat/completions \"HTTP/1.1 200 OK\"\n",
      "100%|██████████| 5/5 [00:15<00:00,  3.03s/it]\n"
     ]
    },
    {
     "ename": "ValueError",
     "evalue": "`x` and `y` must have the same length along `axis`.",
     "output_type": "error",
     "traceback": [
      "\u001b[0;31m---------------------------------------------------------------------------\u001b[0m",
      "\u001b[0;31mValueError\u001b[0m                                Traceback (most recent call last)",
      "\u001b[0;32m/var/folders/kg/0g3xrys53nd6r_vs_7tph9y00000gn/T/ipykernel_11029/2540510978.py\u001b[0m in \u001b[0;36m?\u001b[0;34m()\u001b[0m\n\u001b[1;32m     14\u001b[0m \u001b[0mtest_abstracts\u001b[0m \u001b[0;34m=\u001b[0m \u001b[0;34m[\u001b[0m\u001b[0mabstract\u001b[0m \u001b[0;32mfor\u001b[0m \u001b[0m_\u001b[0m\u001b[0;34m,\u001b[0m \u001b[0mabstract\u001b[0m\u001b[0;34m,\u001b[0m \u001b[0m_\u001b[0m \u001b[0;32min\u001b[0m \u001b[0mtop_abstracts\u001b[0m\u001b[0;34m[\u001b[0m\u001b[0;34m-\u001b[0m\u001b[0mnum_test_samples\u001b[0m\u001b[0;34m:\u001b[0m\u001b[0;34m]\u001b[0m \u001b[0;34m+\u001b[0m \u001b[0mzero_abstracts\u001b[0m\u001b[0;34m[\u001b[0m\u001b[0;34m-\u001b[0m\u001b[0mnum_test_samples\u001b[0m\u001b[0;34m:\u001b[0m\u001b[0;34m]\u001b[0m\u001b[0;34m]\u001b[0m\u001b[0;34m\u001b[0m\u001b[0;34m\u001b[0m\u001b[0m\n\u001b[1;32m     15\u001b[0m \u001b[0mground_truth\u001b[0m \u001b[0;34m=\u001b[0m \u001b[0;34m[\u001b[0m\u001b[0;36m1\u001b[0m\u001b[0;34m]\u001b[0m \u001b[0;34m*\u001b[0m \u001b[0mnum_test_samples\u001b[0m \u001b[0;34m+\u001b[0m \u001b[0;34m[\u001b[0m\u001b[0;36m0\u001b[0m\u001b[0;34m]\u001b[0m \u001b[0;34m*\u001b[0m \u001b[0mnum_test_samples\u001b[0m\u001b[0;34m\u001b[0m\u001b[0;34m\u001b[0m\u001b[0m\n\u001b[1;32m     16\u001b[0m \u001b[0;34m\u001b[0m\u001b[0m\n\u001b[1;32m     17\u001b[0m \u001b[0mpredictions\u001b[0m \u001b[0;34m=\u001b[0m \u001b[0manalyzer\u001b[0m\u001b[0;34m.\u001b[0m\u001b[0mpredict_activations\u001b[0m\u001b[0;34m(\u001b[0m\u001b[0minterpretation\u001b[0m\u001b[0;34m,\u001b[0m \u001b[0mtest_abstracts\u001b[0m\u001b[0;34m)\u001b[0m\u001b[0;34m\u001b[0m\u001b[0;34m\u001b[0m\u001b[0m\n\u001b[0;32m---> 18\u001b[0;31m \u001b[0mcorrelation\u001b[0m\u001b[0;34m,\u001b[0m \u001b[0mf1\u001b[0m \u001b[0;34m=\u001b[0m \u001b[0manalyzer\u001b[0m\u001b[0;34m.\u001b[0m\u001b[0mevaluate_predictions\u001b[0m\u001b[0;34m(\u001b[0m\u001b[0mground_truth\u001b[0m\u001b[0;34m,\u001b[0m \u001b[0mpredictions\u001b[0m\u001b[0;34m)\u001b[0m\u001b[0;34m\u001b[0m\u001b[0;34m\u001b[0m\u001b[0m\n\u001b[0m\u001b[1;32m     19\u001b[0m \u001b[0;34m\u001b[0m\u001b[0m\n\u001b[1;32m     20\u001b[0m \u001b[0mprint\u001b[0m\u001b[0;34m(\u001b[0m\u001b[0;34mf\"Pearson correlation: {correlation}\"\u001b[0m\u001b[0;34m)\u001b[0m\u001b[0;34m\u001b[0m\u001b[0;34m\u001b[0m\u001b[0m\n\u001b[1;32m     21\u001b[0m \u001b[0mprint\u001b[0m\u001b[0;34m(\u001b[0m\u001b[0;34mf\"F1 score: {f1}\"\u001b[0m\u001b[0;34m)\u001b[0m\u001b[0;34m\u001b[0m\u001b[0;34m\u001b[0m\u001b[0m\n",
      "\u001b[0;32m~/retrieval/saerch/autointerp.py\u001b[0m in \u001b[0;36m?\u001b[0;34m(ground_truth, predictions)\u001b[0m\n\u001b[1;32m    178\u001b[0m     \u001b[0;34m@\u001b[0m\u001b[0mstaticmethod\u001b[0m\u001b[0;34m\u001b[0m\u001b[0;34m\u001b[0m\u001b[0m\n\u001b[1;32m    179\u001b[0m     \u001b[0;32mdef\u001b[0m \u001b[0mevaluate_predictions\u001b[0m\u001b[0;34m(\u001b[0m\u001b[0mground_truth\u001b[0m\u001b[0;34m:\u001b[0m \u001b[0mList\u001b[0m\u001b[0;34m[\u001b[0m\u001b[0mint\u001b[0m\u001b[0;34m]\u001b[0m\u001b[0;34m,\u001b[0m \u001b[0mpredictions\u001b[0m\u001b[0;34m:\u001b[0m \u001b[0mList\u001b[0m\u001b[0;34m[\u001b[0m\u001b[0mfloat\u001b[0m\u001b[0;34m]\u001b[0m\u001b[0;34m)\u001b[0m \u001b[0;34m->\u001b[0m \u001b[0mTuple\u001b[0m\u001b[0;34m[\u001b[0m\u001b[0mfloat\u001b[0m\u001b[0;34m,\u001b[0m \u001b[0mfloat\u001b[0m\u001b[0;34m]\u001b[0m\u001b[0;34m:\u001b[0m\u001b[0;34m\u001b[0m\u001b[0;34m\u001b[0m\u001b[0m\n\u001b[0;32m--> 180\u001b[0;31m         \u001b[0mcorrelation\u001b[0m\u001b[0;34m,\u001b[0m \u001b[0m_\u001b[0m \u001b[0;34m=\u001b[0m \u001b[0mpearsonr\u001b[0m\u001b[0;34m(\u001b[0m\u001b[0mground_truth\u001b[0m\u001b[0;34m,\u001b[0m \u001b[0mpredictions\u001b[0m\u001b[0;34m)\u001b[0m\u001b[0;34m\u001b[0m\u001b[0;34m\u001b[0m\u001b[0m\n\u001b[0m\u001b[1;32m    181\u001b[0m         \u001b[0mbinary_predictions\u001b[0m \u001b[0;34m=\u001b[0m \u001b[0;34m[\u001b[0m\u001b[0;36m1\u001b[0m \u001b[0;32mif\u001b[0m \u001b[0mp\u001b[0m \u001b[0;34m>\u001b[0m \u001b[0;36m0\u001b[0m \u001b[0;32melse\u001b[0m \u001b[0;36m0\u001b[0m \u001b[0;32mfor\u001b[0m \u001b[0mp\u001b[0m \u001b[0;32min\u001b[0m \u001b[0mpredictions\u001b[0m\u001b[0;34m]\u001b[0m\u001b[0;34m\u001b[0m\u001b[0;34m\u001b[0m\u001b[0m\n\u001b[1;32m    182\u001b[0m         \u001b[0mf1\u001b[0m \u001b[0;34m=\u001b[0m \u001b[0mf1_score\u001b[0m\u001b[0;34m(\u001b[0m\u001b[0mground_truth\u001b[0m\u001b[0;34m,\u001b[0m \u001b[0mbinary_predictions\u001b[0m\u001b[0;34m)\u001b[0m\u001b[0;34m\u001b[0m\u001b[0;34m\u001b[0m\u001b[0m\n\u001b[1;32m    183\u001b[0m         \u001b[0;32mreturn\u001b[0m \u001b[0mcorrelation\u001b[0m\u001b[0;34m,\u001b[0m \u001b[0mf1\u001b[0m\u001b[0;34m\u001b[0m\u001b[0;34m\u001b[0m\u001b[0m\n",
      "\u001b[0;32m~/anaconda3/envs/jsalt-retrieval/lib/python3.10/site-packages/scipy/stats/_stats_py.py\u001b[0m in \u001b[0;36m?\u001b[0;34m(x, y, alternative, method, axis)\u001b[0m\n\u001b[1;32m   4807\u001b[0m     \u001b[0maxis\u001b[0m \u001b[0;34m=\u001b[0m \u001b[0maxis_int\u001b[0m\u001b[0;34m\u001b[0m\u001b[0;34m\u001b[0m\u001b[0m\n\u001b[1;32m   4808\u001b[0m \u001b[0;34m\u001b[0m\u001b[0m\n\u001b[1;32m   4809\u001b[0m     \u001b[0mn\u001b[0m \u001b[0;34m=\u001b[0m \u001b[0mx\u001b[0m\u001b[0;34m.\u001b[0m\u001b[0mshape\u001b[0m\u001b[0;34m[\u001b[0m\u001b[0maxis\u001b[0m\u001b[0;34m]\u001b[0m\u001b[0;34m\u001b[0m\u001b[0;34m\u001b[0m\u001b[0m\n\u001b[1;32m   4810\u001b[0m     \u001b[0;32mif\u001b[0m \u001b[0mn\u001b[0m \u001b[0;34m!=\u001b[0m \u001b[0my\u001b[0m\u001b[0;34m.\u001b[0m\u001b[0mshape\u001b[0m\u001b[0;34m[\u001b[0m\u001b[0maxis\u001b[0m\u001b[0;34m]\u001b[0m\u001b[0;34m:\u001b[0m\u001b[0;34m\u001b[0m\u001b[0;34m\u001b[0m\u001b[0m\n\u001b[0;32m-> 4811\u001b[0;31m         \u001b[0;32mraise\u001b[0m \u001b[0mValueError\u001b[0m\u001b[0;34m(\u001b[0m\u001b[0;34m'`x` and `y` must have the same length along `axis`.'\u001b[0m\u001b[0;34m)\u001b[0m\u001b[0;34m\u001b[0m\u001b[0;34m\u001b[0m\u001b[0m\n\u001b[0m\u001b[1;32m   4812\u001b[0m \u001b[0;34m\u001b[0m\u001b[0m\n\u001b[1;32m   4813\u001b[0m     \u001b[0;32mif\u001b[0m \u001b[0mn\u001b[0m \u001b[0;34m<\u001b[0m \u001b[0;36m2\u001b[0m\u001b[0;34m:\u001b[0m\u001b[0;34m\u001b[0m\u001b[0;34m\u001b[0m\u001b[0m\n\u001b[1;32m   4814\u001b[0m         \u001b[0;32mraise\u001b[0m \u001b[0mValueError\u001b[0m\u001b[0;34m(\u001b[0m\u001b[0;34m'`x` and `y` must have length at least 2.'\u001b[0m\u001b[0;34m)\u001b[0m\u001b[0;34m\u001b[0m\u001b[0;34m\u001b[0m\u001b[0m\n",
      "\u001b[0;31mValueError\u001b[0m: `x` and `y` must have the same length along `axis`."
     ]
    }
   ],
   "source": [
    "CONFIG_PATH = Path(\"../config.yaml\")\n",
    "DATA_DIR = Path(\"../data\")\n",
    "SAE_DATA_DIR = Path(\"sae_data\")\n",
    "num_samples = 1005\n",
    "feature_index = 24\n",
    "\n",
    "analyzer = autointerp.NeuronAnalyzer(CONFIG_PATH, feature_index, num_samples)\n",
    "\n",
    "top_abstracts, zero_abstracts = analyzer.get_feature_activations(num_samples)\n",
    "# interpretation = analyzer.generate_interpretation(top_abstracts, zero_abstracts)\n",
    "# print(f\"Interpretation: {interpretation}\")\n",
    "\n",
    "# num_test_samples = 4\n",
    "# test_abstracts = [abstract for _, abstract, _ in top_abstracts[-num_test_samples:] + zero_abstracts[-num_test_samples:]]\n",
    "# ground_truth = [1] * num_test_samples + [0] * num_test_samples\n",
    "\n",
    "# predictions = analyzer.predict_activations(interpretation, test_abstracts)\n",
    "# correlation, f1 = analyzer.evaluate_predictions(ground_truth, predictions)\n",
    "\n",
    "# print(f\"Pearson correlation: {correlation}\")\n",
    "# print(f\"F1 score: {f1}\")"
   ]
  },
  {
   "cell_type": "code",
   "execution_count": 204,
   "metadata": {},
   "outputs": [
    {
     "data": {
      "text/plain": [
       "[('336591',\n",
       "  \"['Precision modeling of redshift-space distortions from a multipoint propagator expansion']\\n\\nUsing a full implementation of resummed perturbation theory (PT) from a multipoint propagator expansion, we put forward new theoretical predictions for the two-point statistics of matter fluctuations in redshift space. The predictions consistently include PT corrections up to the two-loop order and are based on an improved prescription of the redshift-space distortions that properly takes into account their non-Gaussian impact from a systematic low-k expansion. In contrast to the previous studies that partly used standard PT calculations, the present treatment is able to provide a consistent prediction for both power spectra and correlation functions. These results are compared with N-body simulations with which a very good agreement is found up to the quadrupole moment. However, the theoretical predictions for the hexadecapole moment of the power spectra are found to significantly depart from the numerical results at low redshift. We examine this issue and find it to be likely related to an improper modeling of the redshift-space distortions damping effects on which this moment shows large dependence.\",\n",
       "  0.09322178)]"
      ]
     },
     "execution_count": 204,
     "metadata": {},
     "output_type": "execute_result"
    }
   ],
   "source": [
    "top_abstracts"
   ]
  },
  {
   "cell_type": "code",
   "execution_count": 205,
   "metadata": {},
   "outputs": [
    {
     "data": {
      "text/plain": [
       "[('45570',\n",
       "  \"['Stability of non-homegeneous models and fine tuning of initial state']\\n\\nWe apply phase space analysis to inhomogeneous cosmological model given by Lemaître-Tolman model. We describe some general conditions required to interpret the model stable enough and, in the present paper, apply them to two special cases: dust filled homogeneous model with and without cosmological constant. We find that such stability explaining all present astrophysical observations can not be achieved due to instabilities in phase space. This hints that non-homogeneous models are not likely to be physically viable, although any conclusive analysis requires more realistic modeling of non-homogeneous universe.\",\n",
       "  0),\n",
       " ('15605823',\n",
       "  \"['Measurement of the Core-collapse Progenitor Mass Distribution of the Small Magellanic Cloud']\\n\\nThe physics of core-collapse (CC) supernovae (SNe) and how the explosions depend on progenitor properties are central questions in astronomy. For only a handful of SNe, the progenitor star has been identified in pre-explosion images. Supernova remnants (SNRs), which are observed long after the original SN event, provide a unique opportunity to increase the number of progenitor measurements. Here we systematically examine the stellar populations in the vicinities of 23 known SNRs in the Small Magellanic Cloud (SMC) using the star formation history (SFH) maps of Harris &amp; Zaritsky. We combine the results with constraints on the SNR metal abundances and environment from X-ray and optical observations. We find that 22 SNRs in the SMC have local SFHs and properties consistent with a CC explosion, several of which are likely to have been high-mass progenitors. This result supports recent theoretical findings that high-mass progenitors can produce successful explosions. We estimate the mass distribution of the CC progenitors and find that this distribution is similar to a Salpeter IMF (within the uncertainties), while this result is shallower than the mass distribution found in M31 and M33 by Jennings et al. and Díaz-Rodríguez et al. using a similar approach. Additionally, we find that a number of the SMC SNRs exhibit a burst of star formation between 50 and 200 Myr ago. As these sources are likely CC, this signature may be indicative of massive stars undergoing delayed CC as a consequence of binary interaction, rapid rotation, or low metallicity. In addition, the lack of Type Ia SNRs in the SMC is possibly a result of the short visibility times of these sources, as they may fall below the sensitivity limits of current radio observations.\",\n",
       "  0),\n",
       " ('12163247',\n",
       "  \"['The bi-stability jump as the origin for multiple P-Cygni absorption components in luminous blue variables']\\n\\nLuminous blue variables (LBVs) oftentimes show double-troughed absorption in their strong Hα lines, which are as yet not understood. Intriguingly, the feature has also been seen in the interacting supernova SN 2005gj, which was for this reason suggested to have an LBV progenitor. Our aims are to understand the double-troughed absorption feature in LBVs and investigate whether this phenomenon is related to wind variability. To this purpose, we perform time-dependent radiative transfer modeling using cmfgen. We find that abrupt changes in the wind-terminal velocity - as expected from the bi-stability jump - are required to explain the double-troughed absorption profiles in LBVs. This strengthens scenarios that discuss the link between LBVs and SNe utilizing the progenitor's wind variability resulting from the bi-stability jump. We also discuss why the presence of double-troughed P-Cygni components may become an efficient tool to detect extra-galactic LBVs and how to analyze their mass-loss history on the basis of just one single epoch of spectral observations.\",\n",
       "  0),\n",
       " ('13356491',\n",
       "  \"['Massive stars in advanced evolutionary stages, and the progenitor of GW150914']\\n\\nThe recent discovery of a gravitational wave from the merging of two black holes of about 30 solar masses each challenges our incomplete understanding of massive stars and their evolution. Critical ingredients comprise mass-loss, rotation, magnetic fields, internal mixing, and mass transfer in close binary systems. The imperfect knowledge of these factors implies large uncertainties for models of stellar populations and their feedback. In this contribution we summarize our empirical studies of Wolf-Rayet populations at different metallicities by means of modern non-LTE stellar atmosphere models, and confront these results with the predictions of stellar evolution models. At the metallicity of our Galaxy, stellar winds are probably too strong to leave remnant masses as high as ~30 M<SUB>⊙</SUB>, but given the still poor agreement between evolutionary tracks and observation even this conclusion is debatable. At the low metallicity of the Small Magellanic Cloud, all WN stars which are (at least now) single are consistent with evolving quasi-homogeneously. O and B-type stars, in contrast, seem to comply with standard evolutionary models without strong internal mixing. Close binaries which avoided early merging could evolve quasi-homogeneously and lead to close compact remnants of relatively high masses that merge within a Hubble time.\",\n",
       "  0),\n",
       " ('15142678',\n",
       "  '[\\'Distribution of Serpens South protostars revealed with ALMA\\']\\n\\nContext. Clusters are common sites of star formation, whose members display varying degrees of mass segregation. The cause may be primordial or dynamical, or a combination both. If mass segregation were to be observed in a very young protostellar cluster, then the primordial case can be assumed more likely for that region. <BR /> Aims: We investigated the masses and spatial distributions of pre-stellar and protostellar candidates in the young, low-mass star forming region Serpens South, where active star formation is known to occur along a predominant filamentary structure. Previous observations used to study these distributions have been limited by two important observational factors: (1) sensitivity limits that leave the lowest-mass sources undetected or (2) resolution limits that cannot distinguish binaries and/or cluster members in close proximity. <BR /> Methods: Recent millimeter-wavelength interferometry observations can now uncover faint and/or compact sources in order to study a more complete population of protostars, especially in nearby (D &lt; 500 pc) clusters. Here we present ALMA observations of 1 mm (Band 6) continuum in a 3 × 2 arcmin region at the center of Serpens South. Our angular resolution of 1\\'\\' is equivalent to 400 au, corresponding to scales of envelopes and/or disks of protostellar sources. <BR /> Results: We detect 52 sources with 1 mm continuum, and we measure masses of 0.002-0.9 solar masses corresponding to gas and dust in the disk and/or envelope of the protostellar system. For the deeply embedded (youngest) sources with no IR counterparts, we find evidence of mass segregation and clustering according to: the minimum spanning tree method, distribution of projected separations between unique sources, and concentration of higher-mass sources near to the dense gas at the cluster center. <BR /> Conclusions: The mass segregation of the mm sources is likely primordial rather than dynamical given the young age of this cluster, compared with segregation time. This is the first case to show this for mm sources in a low-mass protostellar cluster environment. <P />FITS data associated to Fig. 1 are only available at the CDS via anonymous ftp to <A href=\"http://cdsarc.u-strasbg.fr\">http://cdsarc.u-strasbg.fr</A> (<A href=\"http://130.79.128.5\">http://130.79.128.5</A>) or via <A href=\"http://cdsarc.u-strasbg.fr/viz-bin/qcat?J/A+A/615/A9\">http://cdsarc.u-strasbg.fr/viz-bin/qcat?J/A+A/615/A9</A>',\n",
       "  0)]"
      ]
     },
     "execution_count": 205,
     "metadata": {},
     "output_type": "execute_result"
    }
   ],
   "source": [
    "zero_abstracts"
   ]
  },
  {
   "cell_type": "code",
   "execution_count": null,
   "metadata": {},
   "outputs": [],
   "source": []
  }
 ],
 "metadata": {
  "kernelspec": {
   "display_name": "jsalt-retrieval",
   "language": "python",
   "name": "python3"
  },
  "language_info": {
   "codemirror_mode": {
    "name": "ipython",
    "version": 3
   },
   "file_extension": ".py",
   "mimetype": "text/x-python",
   "name": "python",
   "nbconvert_exporter": "python",
   "pygments_lexer": "ipython3",
   "version": "3.10.0"
  }
 },
 "nbformat": 4,
 "nbformat_minor": 2
}
