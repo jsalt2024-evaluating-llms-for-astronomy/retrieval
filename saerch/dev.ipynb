{
 "cells": [
  {
   "cell_type": "markdown",
   "metadata": {},
   "source": [
    "## Abstract embeddings"
   ]
  },
  {
   "cell_type": "code",
<<<<<<< HEAD
   "execution_count": 1,
   "metadata": {},
   "outputs": [
    {
     "ename": "KeyboardInterrupt",
     "evalue": "",
     "output_type": "error",
     "traceback": [
      "\u001b[0;31m---------------------------------------------------------------------------\u001b[0m",
      "\u001b[0;31mKeyboardInterrupt\u001b[0m                         Traceback (most recent call last)",
      "Cell \u001b[0;32mIn[1], line 41\u001b[0m\n\u001b[1;32m     38\u001b[0m abstract_embeddings\u001b[38;5;241m.\u001b[39mappend(embeddings[abstract_index])\n\u001b[1;32m     40\u001b[0m \u001b[38;5;66;03m# Find the corresponding document and extract the abstract text\u001b[39;00m\n\u001b[0;32m---> 41\u001b[0m doc \u001b[38;5;241m=\u001b[39m \u001b[38;5;28;43mnext\u001b[39;49m\u001b[43m(\u001b[49m\u001b[43m(\u001b[49m\u001b[43md\u001b[49m\u001b[43m \u001b[49m\u001b[38;5;28;43;01mfor\u001b[39;49;00m\u001b[43m \u001b[49m\u001b[43md\u001b[49m\u001b[43m \u001b[49m\u001b[38;5;129;43;01min\u001b[39;49;00m\u001b[43m \u001b[49m\u001b[43mdocuments\u001b[49m\u001b[43m \u001b[49m\u001b[38;5;28;43;01mif\u001b[39;49;00m\u001b[43m \u001b[49m\u001b[43md\u001b[49m\u001b[38;5;241;43m.\u001b[39;49m\u001b[43mid\u001b[49m\u001b[43m \u001b[49m\u001b[38;5;241;43m==\u001b[39;49m\u001b[43m \u001b[49m\u001b[43mdoc_id\u001b[49m\u001b[43m)\u001b[49m\u001b[43m,\u001b[49m\u001b[43m \u001b[49m\u001b[38;5;28;43;01mNone\u001b[39;49;00m\u001b[43m)\u001b[49m\n\u001b[1;32m     42\u001b[0m \u001b[38;5;28;01mif\u001b[39;00m doc:\n\u001b[1;32m     43\u001b[0m     abstract_texts\u001b[38;5;241m.\u001b[39mappend(doc\u001b[38;5;241m.\u001b[39mabstract)\n",
      "Cell \u001b[0;32mIn[1], line 41\u001b[0m, in \u001b[0;36m<genexpr>\u001b[0;34m(.0)\u001b[0m\n\u001b[1;32m     38\u001b[0m abstract_embeddings\u001b[38;5;241m.\u001b[39mappend(embeddings[abstract_index])\n\u001b[1;32m     40\u001b[0m \u001b[38;5;66;03m# Find the corresponding document and extract the abstract text\u001b[39;00m\n\u001b[0;32m---> 41\u001b[0m doc \u001b[38;5;241m=\u001b[39m \u001b[38;5;28mnext\u001b[39m((d \u001b[38;5;28;01mfor\u001b[39;00m d \u001b[38;5;129;01min\u001b[39;00m documents \u001b[38;5;28;01mif\u001b[39;00m d\u001b[38;5;241m.\u001b[39mid \u001b[38;5;241m==\u001b[39m doc_id), \u001b[38;5;28;01mNone\u001b[39;00m)\n\u001b[1;32m     42\u001b[0m \u001b[38;5;28;01mif\u001b[39;00m doc:\n\u001b[1;32m     43\u001b[0m     abstract_texts\u001b[38;5;241m.\u001b[39mappend(doc\u001b[38;5;241m.\u001b[39mabstract)\n",
      "\u001b[0;31mKeyboardInterrupt\u001b[0m: "
=======
   "execution_count": 6,
   "metadata": {},
   "outputs": [
    {
     "name": "stdout",
     "output_type": "stream",
     "text": [
      "Processed 271540 abstract embeddings.\n",
      "Shape of abstract embeddings: (271540, 1536)\n",
      "Length of abstract texts: 271540\n",
      "Length of document IDs: 271540\n",
      "Saved abstract embeddings and texts.\n"
>>>>>>> 78e6f49c8b1ad18c9ca7ec500fc84eb799afd3b1
     ]
    }
   ],
   "source": [
    "import numpy as np\n",
    "import pickle\n",
    "import json\n",
    "from typing import List\n",
    "from dataclasses import dataclass\n",
    "\n",
    "@dataclass\n",
    "class Document:\n",
    "    id: str\n",
    "    abstract: str\n",
    "    conclusions: str\n",
    "    arxiv_id: str\n",
    "    title: str = None\n",
    "    score: float = None\n",
    "    n_citation: int = None\n",
    "    keywords: List[str] = None\n",
    "\n",
    "# Load the full embeddings matrix\n",
    "embeddings = np.load('../data/vector_store/embeddings_matrix.npy')\n",
    "\n",
    "# Load the index mapping\n",
    "with open('../data/vector_store/index_mapping.pkl', 'rb') as f:\n",
    "    index_mapping = pickle.load(f)\n",
    "\n",
    "# Load the documents\n",
    "with open('../data/vector_store/documents.pkl', 'rb') as f:\n",
    "    documents = pickle.load(f)\n",
    "\n",
    "# Create lists to store the abstract embeddings and corresponding text\n",
    "abstract_embeddings = []\n",
    "abstract_texts = []\n",
    "doc_ids = []\n",
    "\n",
    "# Iterate through the index mapping to find abstract indices and corresponding text\n",
    "for doc_id, mappings in index_mapping.items():\n",
    "    if 'abstract' in mappings:\n",
    "        abstract_index = mappings['abstract']\n",
    "        abstract_embeddings.append(embeddings[abstract_index])\n",
    "        \n",
    "        # Find the corresponding document and extract the abstract text\n",
    "        doc = next((d for d in documents if d.id == doc_id), None)\n",
    "        if doc:\n",
    "            abstract_texts.append(doc.abstract)\n",
    "            doc_ids.append(doc_id)\n",
    "        else:\n",
    "            print(f\"Warning: Document with ID {doc_id} not found.\")\n",
    "\n",
    "# Convert lists to numpy arrays\n",
    "abstract_embeddings = np.array(abstract_embeddings)\n",
    "\n",
    "print(f\"Processed {len(abstract_embeddings)} abstract embeddings.\")\n",
    "print(f\"Shape of abstract embeddings: {abstract_embeddings.shape}\")\n",
    "print(f\"Length of abstract texts: {len(abstract_texts)}\")\n",
    "print(f\"Length of document IDs: {len(doc_ids)}\")\n",
    "\n",
    "# Save the abstract embeddings\n",
    "np.save('../data/vector_store/abstract_embeddings.npy', abstract_embeddings)\n",
    "\n",
    "# Save the abstract texts and document IDs\n",
    "with open('../data/vector_store/abstract_texts.json', 'w') as f:\n",
    "    json.dump({\n",
    "        'doc_ids': doc_ids,\n",
    "        'abstracts': abstract_texts\n",
    "    }, f)\n",
    "\n",
    "print(\"Saved abstract embeddings and texts.\")"
   ]
  },
  {
   "cell_type": "markdown",
   "metadata": {},
   "source": [
    "## Top-k values and indices"
   ]
  },
  {
   "cell_type": "code",
<<<<<<< HEAD
   "execution_count": 3,
=======
   "execution_count": 38,
>>>>>>> 78e6f49c8b1ad18c9ca7ec500fc84eb799afd3b1
   "metadata": {},
   "outputs": [
    {
     "name": "stderr",
     "output_type": "stream",
     "text": [
<<<<<<< HEAD
      "Processing abstracts: 100%|██████████| 266/266 [01:08<00:00,  3.91it/s]\n"
=======
      "Processing abstracts: 100%|██████████| 266/266 [00:13<00:00, 20.01it/s]"
>>>>>>> 78e6f49c8b1ad18c9ca7ec500fc84eb799afd3b1
     ]
    },
    {
     "name": "stdout",
     "output_type": "stream",
     "text": [
      "Processing complete. Results saved in 'sae_data' folder.\n"
     ]
<<<<<<< HEAD
=======
    },
    {
     "name": "stderr",
     "output_type": "stream",
     "text": [
      "\n"
     ]
>>>>>>> 78e6f49c8b1ad18c9ca7ec500fc84eb799afd3b1
    }
   ],
   "source": [
    "import torch\n",
    "import numpy as np\n",
    "from tqdm import tqdm\n",
    "import os\n",
    "from torch.utils.data import DataLoader, TensorDataset\n",
    "from topk_sae import FastAutoencoder  # Assuming train.py contains your FastAutoencoder class\n",
    "\n",
    "# Set grad to false\n",
    "torch.set_grad_enabled(False)\n",
    "\n",
<<<<<<< HEAD
    "# Hyperparameters (Make sure these match your training configuration)\n",
    "n_dirs = 9216\n",
    "d_model = 1536\n",
=======
    "# hypers\n",
    "d_model = 1536\n",
    "n_dirs = d_model * 6\n",
>>>>>>> 78e6f49c8b1ad18c9ca7ec500fc84eb799afd3b1
    "k = 64\n",
    "auxk = 128\n",
    "batch_size = 1024\n",
    "\n",
    "# Device configuration\n",
    "device = torch.device('cuda' if torch.cuda.is_available() else 'cpu')\n",
    "\n",
    "# Load the pre-trained model\n",
    "ae = FastAutoencoder(n_dirs, d_model, k, auxk).to(device)\n",
<<<<<<< HEAD
    "model_path = 'checkpoints/64_9216_128_final_epoch_44.pth'\n",
=======
    "model_path = 'checkpoints/64_9216_128_final_epoch_50.pth'\n",
>>>>>>> 78e6f49c8b1ad18c9ca7ec500fc84eb799afd3b1
    "ae.load_state_dict(torch.load(model_path))\n",
    "ae.eval()\n",
    "\n",
    "# Load abstract embeddings\n",
    "abstract_embeddings = np.load(\"../data/vector_store/abstract_embeddings.npy\")\n",
    "abstract_embeddings = abstract_embeddings.astype(np.float32)\n",
    "\n",
    "# Create a DataLoader for efficient batching\n",
    "dataset = TensorDataset(torch.from_numpy(abstract_embeddings))\n",
    "dataloader = DataLoader(dataset, batch_size=batch_size, shuffle=False)\n",
    "\n",
    "# Prepare arrays to store results\n",
    "num_abstracts = len(abstract_embeddings)\n",
    "topk_indices = np.zeros((num_abstracts, k), dtype=np.int64)\n",
    "topk_values = np.zeros((num_abstracts, k), dtype=np.float32)\n",
    "\n",
    "# Process batches\n",
    "with torch.no_grad():\n",
    "    for i, (batch,) in enumerate(tqdm(dataloader, desc=\"Processing abstracts\")):\n",
    "        batch = batch.to(device)\n",
    "        _, info = ae(batch)\n",
    "        \n",
    "        start_idx = i * batch_size\n",
    "        end_idx = start_idx + batch.size(0)\n",
    "        \n",
    "        topk_indices[start_idx:end_idx] = info['topk_indices'].cpu().numpy()\n",
    "        topk_values[start_idx:end_idx] = info['topk_values'].cpu().numpy()\n",
    "\n",
    "# Create directory to save results\n",
    "os.makedirs(\"sae_data\", exist_ok=True)\n",
    "\n",
    "# Save results\n",
    "np.save(\"sae_data/topk_indices.npy\", topk_indices)\n",
    "np.save(\"sae_data/topk_values.npy\", topk_values)\n",
    "\n",
    "print(\"Processing complete. Results saved in 'sae_data' folder.\")"
   ]
  },
  {
<<<<<<< HEAD
   "cell_type": "code",
   "execution_count": 2,
=======
   "cell_type": "markdown",
   "metadata": {},
   "source": [
    "# Visualisations"
   ]
  },
  {
   "cell_type": "code",
   "execution_count": 39,
>>>>>>> 78e6f49c8b1ad18c9ca7ec500fc84eb799afd3b1
   "metadata": {},
   "outputs": [],
   "source": [
    "import numpy as np\n",
    "\n",
    "# Load them\n",
    "topk_indices = np.load(\"sae_data/topk_indices.npy\")\n",
    "topk_values = np.load(\"sae_data/topk_values.npy\")"
   ]
  },
  {
<<<<<<< HEAD
   "cell_type": "code",
   "execution_count": 3,
   "metadata": {},
   "outputs": [
    {
     "data": {
      "text/plain": [
       "(271540, 32)"
      ]
     },
     "execution_count": 3,
     "metadata": {},
     "output_type": "execute_result"
    }
   ],
   "source": [
    "topk_indices.shape"
=======
   "cell_type": "markdown",
   "metadata": {},
   "source": [
    "## Log feature density"
>>>>>>> 78e6f49c8b1ad18c9ca7ec500fc84eb799afd3b1
   ]
  },
  {
   "cell_type": "code",
<<<<<<< HEAD
   "execution_count": 8,
=======
   "execution_count": 40,
>>>>>>> 78e6f49c8b1ad18c9ca7ec500fc84eb799afd3b1
   "metadata": {},
   "outputs": [
    {
     "name": "stdout",
     "output_type": "stream",
     "text": [
<<<<<<< HEAD
      "[0.00000000e+00 0.00000000e+00 1.16005008e-03 ... 0.00000000e+00\n",
      " 9.57501657e-05 3.68269868e-06]\n",
      "Num features:  32766\n",
      "Number of non-zero feature densities: 10869\n"
=======
      "[0.00205863 0.01023422 0.00181557 ... 0.00298299 0.00016204 0.00116005]\n",
      "Num features:  9216\n",
      "Number of non-zero feature densities: 9213\n"
>>>>>>> 78e6f49c8b1ad18c9ca7ec500fc84eb799afd3b1
     ]
    },
    {
     "data": {
<<<<<<< HEAD
      "image/png": "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",
=======
      "image/png": "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",
>>>>>>> 78e6f49c8b1ad18c9ca7ec500fc84eb799afd3b1
      "text/plain": [
       "<Figure size 1200x800 with 1 Axes>"
      ]
     },
     "metadata": {},
     "output_type": "display_data"
    }
   ],
   "source": [
    "import numpy as np\n",
    "import matplotlib.pyplot as plt\n",
    "from matplotlib.colors import LinearSegmentedColormap\n",
    "import seaborn as sns\n",
    "\n",
<<<<<<< HEAD
=======
    "# hypers\n",
    "d_model = 1536\n",
    "n_dirs = d_model * 6\n",
    "k = 64\n",
    "auxk = 128\n",
    "batch_size = 1024\n",
    "\n",
>>>>>>> 78e6f49c8b1ad18c9ca7ec500fc84eb799afd3b1
    "def plot_log_feature_density(topk_indices, save_path=None, dpi=300):\n",
    "    \"\"\"\n",
    "    Create a publication-quality log feature density plot.\n",
    "    \n",
    "    :param topk_indices: numpy array of shape (num_samples, k) containing the indices of top-k features\n",
    "    :param save_path: path to save the figure (if None, the figure will be displayed)\n",
    "    :param dpi: resolution of the output figure\n",
    "    \"\"\"\n",
    "    # Calculate feature density\n",
    "    num_samples, k = topk_indices.shape\n",
<<<<<<< HEAD
    "    num_features = topk_indices.max() + 1\n",
=======
    "    num_features = n_dirs\n",
>>>>>>> 78e6f49c8b1ad18c9ca7ec500fc84eb799afd3b1
    "    feature_counts = np.bincount(topk_indices.flatten(), minlength=num_features)\n",
    "    feature_density = feature_counts / num_samples\n",
    "\n",
    "    print(feature_density)\n",
    "    print(\"Num features: \", num_features)\n",
    "    # Print non-zero feature density\n",
    "    print(f\"Number of non-zero feature densities: {np.count_nonzero(feature_density)}\")\n",
    "    \n",
    "    # Calculate log feature density\n",
    "    log_feature_density = np.log(feature_density + 1e-10)  # Add small constant to avoid log(0)\n",
    "    \n",
    "    # Set up the plot style\n",
    "    #plt.style.use('seaborn-whitegrid')\n",
    "    plt.rcParams['font.size'] = 14\n",
    "    plt.rcParams['axes.labelsize'] = 16\n",
    "    plt.rcParams['axes.titlesize'] = 18\n",
    "    plt.rcParams['xtick.labelsize'] = 12\n",
    "    plt.rcParams['ytick.labelsize'] = 12\n",
    "    \n",
    "    # Create custom colormap\n",
    "    colors = ['#FFA07A', '#20B2AA', '#778899']\n",
    "    n_bins = 100\n",
    "    cmap = LinearSegmentedColormap.from_list('custom', colors, N=n_bins)\n",
    "    \n",
    "    # Create the figure\n",
    "    fig, ax = plt.subplots(figsize=(12, 8))\n",
    "    \n",
    "    # Plot the histogram\n",
    "    sns.histplot(log_feature_density, kde=True, color=colors[1], \n",
    "                 edgecolor=colors[2], linewidth=1.5, alpha=0.7, ax=ax)\n",
    "    \n",
    "    # Customize the plot\n",
<<<<<<< HEAD
    "    ax.set_xlabel('Log Feature Density', fontweight='bold')\n",
    "    ax.set_ylabel('Frequency', fontweight='bold')\n",
=======
    "    ax.set_xlabel('Log Feature Density')#, fontweight='bold')\n",
    "    ax.set_ylabel('Frequency')#, fontweight='bold')\n",
>>>>>>> 78e6f49c8b1ad18c9ca7ec500fc84eb799afd3b1
    "    \n",
    "    # Add grid\n",
    "    ax.grid(True, linestyle='--', alpha=0.7)\n",
    "    \n",
    "    # Improve layout\n",
    "    plt.tight_layout()\n",
    "    \n",
    "    # Save or display the plot\n",
    "    if save_path:\n",
    "        plt.savefig(save_path, dpi=dpi, bbox_inches='tight')\n",
    "        print(f\"Figure saved to {save_path}\")\n",
    "    else:\n",
    "        plt.show()\n",
    "    \n",
    "    plt.close()\n",
    "\n",
    "# Plot the log feature density\n",
    "plot_log_feature_density(topk_indices)"
   ]
  },
  {
   "cell_type": "code",
<<<<<<< HEAD
=======
   "execution_count": 41,
   "metadata": {},
   "outputs": [
    {
     "name": "stdout",
     "output_type": "stream",
     "text": [
      "Feature 1000 Statistics:\n",
      "Number of non-zero activations: 3974\n",
      "Mean: 0.0339\n",
      "Median: 0.0326\n",
      "Standard Deviation: 0.0056\n",
      "Min: 0.0225\n",
      "Max: 0.0693\n"
     ]
    },
    {
     "data": {
      "image/png": "iVBORw0KGgoAAAANSUhEUgAABJoAAAMKCAYAAADNqC5LAAAAOXRFWHRTb2Z0d2FyZQBNYXRwbG90bGliIHZlcnNpb24zLjkuMSwgaHR0cHM6Ly9tYXRwbG90bGliLm9yZy/TGe4hAAAACXBIWXMAAA9hAAAPYQGoP6dpAADwVklEQVR4nOzde3wcdb3/8ffMbDZJ0zbpJb2mLbSAjdCUloSDIBTkckCLeFQEEQQUVC5yF6mIXOQUpIKoPQiKh4tUkIuHiyKoSAH9cWlpbS2nOYWWFnqj16QlTbK7M9/fH2G3ubabZtPNzPf1fDz6oJ2dmf1+d977bfPhO99xjDFGAAAAAAAAQA+5+W4AAAAAAAAAooFCEwAAAAAAAHKCQhMAAAAAAABygkITAAAAAAAAcoJCEwAAAAAAAHKCQhMAAAAAAABygkITAAAAAAAAcoJCEwAAAAAAAHKCQhMAAAAAAABygkITACDSbrjhBjmOo6OPPjrfTem2o48+Wo7j6IYbbsh3U9AN++yzjxzH0f3335/vpnTp6aef1qc+9SkNGjRIruvKcRxddtll+W4WAACIAApNAICc2rp1q4qLi+U4jhzH0dtvv90r7/PPf/5TN9xwg+68885eOX9vevLJJ3XDDTfoySefzHdTekW6uNf6l+u6GjhwoCoqKnT44Yfroosu0uOPP65EIpHv5u5VN9xwg2644QatXLkyb2144okndMopp+jFF1/U9u3bNXToUA0fPlwDBw7MW5s6ky607u5XXygir1y5MnNtbbBgwQL94he/0Pnnn6+pU6eqsLBQjuNon332yfocxhj9+te/1pFHHqnBgweruLhYBxxwgK644gp98MEHuz0+kUjojjvuUE1NjUpLS9W/f39NmjRJ119/vbZv377b47dv364bbrhBkyZNUv/+/VVaWqqamhrdfvvt1o1LAJBrsXw3AAAQLXPmzFFTU1Pmz//93/+tW265Jefv889//lM33nijxo0bt8uZGEOHDtXHPvYxjR07Nudt2FNPPvmkHnjgAZ199tn63Oc+1+V+Y8eO1cc+9jENHTp07zUux4YPH575fWNjo9auXas1a9bo1Vdf1V133aUhQ4bo5ptv1re+9a08tjK3JkyYoKKiIpWWlnZ47cYbb5TUUkTpzg/luTRr1ixJ0he+8AU9+OCD6tevX17aka2CggINHjy4y9d39dresnLlysy1taHY9PnPf16rVq3a4+Obm5t1yimn6Pnnn5ckxWIxFRUV6e2339ZPfvITPfjgg3r++ed1yCGHdHr81q1bdeyxx2rhwoWSpMLCQnmepyVLlmjJkiV64IEH9NJLL2ncuHGdHr9q1SodffTRmYJvv3791NzcrPnz52v+/PmaM2eOXnjhBQ0aNGiP+wgANmNGEwAgp379619Lkr797W9Lkh544AH5vp+39lx88cWqra3Vgw8+mLc27KkHH3xQtbW1uvjii/PdlD22fv36zK/6+nolk0ktXrxYt99+u/bdd19t3rxZF1xwgb7yla/IGJPv5ubECy+8oNraWv3Hf/xHvpvSqX/961+SpHPOOafPF5kk6fDDD2+To/a/fv/73+e7idaJx+M6+OCD9bWvfU2zZ8/WWWed1a3jL7/8cj3//PMqKCjQ7Nmz1dDQoO3bt2vevHmaOHGiNm/erOnTp2vbtm2dHv+Vr3xFCxcu1MCBA/W73/1OO3bsUENDg/785z9r5MiRWrVqlU4++eRO/+5JpVI6+eSTtXLlSo0cOVJ/+ctf1NDQoB07duiRRx7RgAEDtHDhQp155pl79NkAACg0AQByaMGCBfrnP/+psrIy3Xbbbdp33321bt06Pfvss/luGvoIz/M0adIkXXHFFVqyZIlOP/10SdJvf/tb3XrrrXlunR127NghSerfv3+eW4KwWrp0qRYuXKhf//rXuuiiizR+/Pisj122bJl++ctfSpJuuukmXXTRRYrH45Kk6upq/fGPf1RxcbHWr1+fmX3X2gsvvKA//elPkqR77rlHX/rSl+S6LT/SHH/88XriiScktRRUO1sn7YEHHsgUW5944gkdd9xxkiTXdXXaaafpnnvukSQ9++yzeuGFF7LuFwBgJwpNAICcSc9mOu2001RUVKSvfvWrklpun8vGn//8Z51++ukaN26ciouLNXjwYFVVVenb3/62Xn311cx+juPo3HPPldRyC0T7NVta37rS2WLgyWRSQ4cOleM4+tnPfrbLNv33f/+3HMfRwIEDMz+gSy0zdX7+85/rlFNOUWVlpUpLS1VcXKz99ttP5513nt56660O55o7d64cx9EDDzwgqeUHnvZtnzt3bmb/bBYD//3vf6/p06dr+PDhisfjGj58uKZPn67/+Z//6fKYc845R47j6JxzzpEkPf744zr66KM1ePBg9evXTwcffLB++tOfKgiCXX42PdWvXz898MADmjJliiTp1ltv1ZYtWzrdN5FI6K677tIxxxyjoUOHKh6Pa8SIETrllFMyP3R2pvXnun37dn3/+9/XxIkTVVxcrCFDhmj69Ol6/fXXuzx+69at+sEPfqCpU6dq4MCBmfetqqrSt771rU5/EO1sMfD0Z552zDHHtLnu6dvorrnmGjmOowMPPHBXH522bdum/v37Z73o+MqVKzPv1VUb2lu4cKG++tWvaty4cSoqKtKgQYN0+OGH684771Rzc3On73P//fe36c+LL76oz33ucxo5cqQ8z8tkrrctWbJE3/jGN7T//vurX79+6t+/v6qqqnTttddq06ZNnR6TTCb19NNP6xvf+Iaqq6s1cuRIxeNxDRs2TP/+7/+uhx9+uNNZd/vss4+OOeaYzJ/bf6db97n9d68z7T/D1lofb4zRvffeq09+8pMaMmRIp1lYuXKlLrvsMh144IHq37+/+vXrp4kTJ+rSSy/Ve++9t8vPcFc8z9vjYx966CH5vq/+/ftnZr62Nn78eJ122mmSpN/85jcdXk+Pn633a+0Tn/hEZrzvbCZr+vhjjjlGn/jEJzq8fvrpp2vfffft8ngAQBYMAAA50NjYaMrKyowk849//MMYY8zy5cuN4zgmFouZ9evXd3lsQ0ODOfXUU42kzK8BAwaY0tLSzJ8nT56c2X/48OFm4MCBRpJxXdcMHz68za9Zs2Zl9r3++uuNJDNt2rQ273nRRRcZSaa6unqX/Tr66KONJHPOOee02X722Wdn2haLxczgwYNNLBbLbCssLDSPP/54m2P+8Y9/mOHDh5uioiIjyRQVFXVoe/qzM8aYadOmGUnm+uuv79Cu5uZmc9ppp2Xez3VdM2jQIOO6bmbbl7/8ZZNIJDocm2772WefnfkcXNfNXL/0r69+9au7/Gy6kv7Ms/1nxmOPPZbZ/9e//nWH11euXGkOPPDAzD6O47TJhiTzrW99q9Nzp1//7W9/a/bbb7/M596vX7/Ma/F43Dz//PMdjn3//ffN2LFjO3zGnudltrXPlTHGjBs3zkgy9913X2bbJZdcYoYPH545btCgQW2uezqHK1asMI7jGEnmlVde6fIz+8UvfmEkmdLSUrNjx47dfMLGvPfee5n36qoNrd1xxx2ZdqTfp6CgIPPnqqoqs3bt2g7vc9999xlJZty4cebOO+/MnCN9/Nlnn73btqal89/ZZ7wrP/rRj9p8D/r162fi8XjmzyNHjjQLFizocNyLL77YJlMDBw40AwYMaLPt1FNPNb7vtzmuurraDBo0KLNP++/0JZdcktm39XevK60/w/bSx3/1q181X/jCFzp891tn7qGHHjKFhYVtxqTi4uI2Y2xnud8T6e98Z21u77DDDjOSzKc//eku9/nd736XaWdtbW2b10aMGGEkmQsvvLDL43/0ox9lPpvW34+GhoZMNm677bYuj7/ggguMJDNixIjd9gcA0BGFJgBATjz00ENGktlvv/3abD/yyCN3+4/6L33pS5kfCr773e+a999/P/Paxo0bzZw5czoUEnb1w1hrXRWaXn/99cwPMkuXLu302FWrVmV+UP7b3/7W5rUf/vCHZtasWeZf//qXSSaTxhhjfN83S5YsMV/5yleMJFNSUmLWrFnT4bzZ/LBpzK4LTVdeeWWm6HLdddeZrVu3GmOM2bJli/ne976X6dt3v/vdLt9/0KBBJh6PmzvuuMPU19cbY4zZtGmTOe+88zLHv/DCC7tsY2e6W2javn17pnjTvrj14YcfmokTJxpJ5uijjzZz5841TU1Nxhhj6urqzB133GH69+9vJJk777yzw7lbF1U+/vGPm7/97W/G930TBIF54403zMc+9rFMjtoXEL7+9a8bSWafffYxf/3rX00qlTLGGJNKpczKlSvNL37xi04/384KTe3b8+KLL3b5eZx44om7LfRNnTrVSDIXX3xxl/t0ZXdteOaZZzL7nHLKKWbFihXGmJbi5oMPPpgpvhx++OGZzyQt/b0sKioynueZc845x7z33nvGmJbP7Z133sm6nXtSaLr33nuNJNO/f3/zn//5n2bdunWZ954/f7751Kc+ZSSZiooKs3379jbHvv766+ab3/ym+ctf/pL5PhhjzObNm81Pf/rTTHH7pz/9aYf3bV2k2pVcFZr69+9vYrGY+fGPf5xp6/bt2zPFvz//+c/GdV0Ti8XM1Vdfbd59910TBIEJgsDU1tZmCvsDBw40q1at2mWbs9GdQlM6P1dffXWX+7z11luZz/OJJ57IbN+0aVNm+1133dXl8X/84x8z+7355puZ7fPnz89sf/bZZ7s8/r/+678y+23evHm3fQIAtEWhCQCQE8ccc4yRZG666aY223/1q18ZSWbixImdHvfXv/41qx8c2utpockYkykyzJgxo9NjZ86caSSZsWPHmiAIsm6bMcZ85jOfMZLMD3/4ww6v9bTQtHr16szsqa7afsUVVxhJpqCgoMPMk9azsTorhhhjzCGHHGIkmfPOO2+XbexMdwtNxhiz//77G0nmiCOOaLP9pptuyly/zmZnGWPM73//eyPJDB06NFP0S0u3o7y83HzwwQcdjl28eHFmn7///e9tXqusrDRSy2yo7uhpoenJJ580kkxxcXGmgNha6x+WFy9e3K22ZdOGdL+PPPLIDoUkY4x5+umnM+d47LHH2ryW/l5KMp///Oe73bbW0vkvKCjoMEso/euAAw7I7L9t27bMrLznnnuu03Mmk8lMtn/yk590qz3pmXcTJkzo8NreLjRJMj/72c86Pd73/cz36Z577unyfT772c8aSebSSy/dZZuzkW2hadu2bZn2d1awS6urq8vs9/Of/zyzvfX39amnnury+H/+85+Z/Z555pnM9tbZXbRoUZfHp7+Dksy//vWvXfYJANARazQBAHpsxYoVmfWH2j996Etf+pKKi4tVW1ur//f//l+HY9PrNx100EG64IIL9kp709JtnTNnTqdrr6TXB/nKV77S6Ro2u/KZz3xGkvT3v/+9h63s6IknnlAqlVJRUZGuueaaTvf5/ve/r8LCQiWTST3++OOd7jNmzBidffbZnb722c9+VpK0ePHi3DR6N9KPqG+/RlN63a8rrrhCBQUFnR77uc99TgMHDtSmTZv05ptvdrrPN77xDQ0bNqzD9kmTJmXWY2nf17KyMknSunXrsu9IDkyfPl0VFRVqbGzsdI2aX/3qV5Ja1qKZNGlSTt978eLFWrp0qaSWDHW2Fs/JJ5+sQw89VJL08MMPd3muGTNm5KRNyWRSH3zwQZe/0p544gnV1dVpypQp+vd///dOzxWLxfTlL39ZkvT88893qx3p7/Ty5cu1fv36PexNbgwaNEjf/OY3O33t5Zdf1ttvv62hQ4fqvPPO6/Ic6TX0uvs59MT27dszv9/VEw9bv9b6mHwfDwDIDoUmAECP3XfffTLG6Mgjj+ywgO3AgQP1uc99TtLOokFr6eLT9OnTe7uZHZx11llyHEfvvfeeXnrppTavvfnmm5kfuNM/kLW3aNEiXXjhhaqqqtLAgQPlum5mAeALL7xQkrR69eqct3v+/PmSpJqaGg0cOLDTfQYNGqTq6uo2+7dXU1PTZQFt1KhRkjoWfvamNWvWaNWqVZKkr3/96xoxYkSnv0aOHKkPP/xQkjL7t/dv//ZvXb5PV31NZ/Kaa67RN77xDT333HNdPm49lzzP0/nnny9pZ1EpraGhQb/97W8ltRTPci2dlVgspmnTpnW53/HHH99m//aKi4s1derUnLRp2rRpMi2z8Dv8qqury+z3j3/8Q1LLE9G6ysqIESN00003Seo8K9u3b9esWbM0bdo0DRs2TPF4PPOdbl186I3vdXfU1NRkntTWXvpzqK+v16hRo7r8HNIZ6+o7AwDAnorluwEAgHALgiDzpKOuCjJnn322Hn74YT366KP66U9/2uax6umZAePGjev1trY3duxYTZs2TXPnztVvfvObNk+mS88kqamp0cSJEzscO3v2bF166aWZJ7M5jqPS0lIVFhZKkhobG7Vt2zY1NDTkvN0bNmyQJI0ePXqX+1VUVLTZv70BAwZ0eWws1vJPhGQyuSdN7LZ0kWfIkCGZbWvXrs38vqsnhbXX+smAre1JX7/zne9o0aJFevTRR/WrX/1Kv/rVrzJPhDvxxBN13nnn6WMf+1hW7equ8847Tz/84Q/1r3/9S6+99poOO+wwSdIjjzyi7du3q6ysrNMnbvVUOitDhw7NZLkzu8vWkCFDMo+c31vSeWlqalJTU9Nu92+flWXLlunYY49tU0Tq16+fysrKMn1Jz6Dqje91d3Q2Oy8t/TmkZ4LtTmNjY87atTutv4ddfVfbv9b6mHwfDwDIDjOaAAA98vzzz2d+MDvvvPM6PNrbcRydeOKJkqQPP/xQjz76aJvju3tLWq6li2OPP/545geuVCqVuSWo/a2AUsuMicsuu0xBEOjUU0/VG2+8oaamJm3dulXr16/X+vXrdccdd0hSp7fkoa0PP/xQK1askCRNmDAhs933/czvly5d2uWslta/dvXY+O4qKCjQ7373O/3zn//UD37wA33qU59Sv379tGTJEv34xz/WgQceqNtvvz1n79faqFGjMrcv/vKXv8xsT89wOvPMM1VcXNwr750Lnd1y19vSeTnttNOyysrKlSvbHH/uuedq9erV2mefffTYY49p8+bNamho0IYNG7R+/XqtWbMms2++v9e7+nzTn8O//du/ZfU57M2+DBgwIFO4af15ttf6tfSMw/a/z8fxAIDsUGgCAPRIZ7fDdWf/ESNGSMrf7Rtf/OIXVVxcrG3btumpp56SJP35z3/Whg0bVFBQkFnPpbXHH39cvu+rsrJSjzzySKe3sfTmGi7p2Qy7u30n/fquZj/0Bc8991zmh+PWs8rS2ZDye3vP5MmTdeONN+qFF15QXV2d/vrXv+qoo46S7/uZWU+94Vvf+pYk6dFHH9W2bdv0r3/9S6+//rokdbk+T0+ls7Jp0yY1Nzd3uV9fzFZPxpL3338/cxvvww8/rC9+8YuZdcPScvGdTs+e29WMq/r6+h69R77H1N058MADJUlLlizpcp/Wr6X3l1pmyqX7l83xruuqsrIys72ysjIzOy2b40eMGNEhBwCA3aPQBADYYxs3btTTTz8tqaX4sn379i5/vfHGG5Ja1mT6v//7v8w5Dj/8cEnSM8880633Tv+w0NP/Gz9gwIDMGlLp2+XS/z3ppJM0dOjQDse8//77kloKEF3dHvTXv/61y/fsadtbr73U1Q+ldXV1bdZy6qsSiYRmzpwpSSotLc1cC0naZ599MrcHdjcfvSUWi+nYY4/VH//4RxUWFsoYs8tr3V56Bl821/64447Tfvvtp4aGBs2ZM6fNIuAHHXTQnnVgN9LZSqVSHdYtay3d576UrSOOOEJSy/pq3V3APf2dlqQpU6Z0uk8232lp19d20KBBHd6vvXQxcU+lP4f169d3uYZWPqXX93rllVe6vH3tueeek9RyS3X721PTxz///PNdftbp4z/5yU+2mfnXr1+/zOeT3qc9Y0xmgfQTTjghqz4BANqi0AQA2GO/+c1vlEwmVVpaqpNPPln9+/fv8lfrtY5az2r6+te/Lkl666239Itf/CLr904vgt16MeA9lb597s9//rPefvvtzMymrtacKi0tlST961//6vQHnT/96U+aO3dul+/X07Z/4QtfUCwWU1NTk370ox91us/MmTPV3NysgoICfeELX9ij9+ltjY2NOuecc7Rw4UJJLU8pSz/pLS29YPGvf/3rzH5dyfXC5bua0VNYWJi5fak7axF159o7jpOZuXTXXXfpoYcektQ7i4CnVVVV6eMf/7gk6eabb25z+2Las88+mymGdDbjL19OPfVUlZWVKZlM6oorrthlwScIgjbXIP2dltTpDLXt27fr5ptv7vJ8rRfl39W1nTx5siRp3rx5nRabli5dqt///vddHp+NY445Rvvtt58k6fLLL1cikdjl/nt7wf+vfOUr8jxP27dv1+zZszu8vnLlSj3yyCOSOr91Of2kzOXLl+uxxx7r8Prrr7+uF198UVLnY3j6+BdffLHTot5jjz2WuZW3q78DAAC7RqEJALDH0gWjU045pcsnILV26qmnSpIefPBBpVIpSS0/FJ1++umSpIsvvlgzZsxoc0vYpk2bdO+992YKUmnpGR3btm3rsO5Tdx1//PEaMWKEUqmUzjjjDDU2NmrQoEFdPgkvvebUW2+9pYsuuijzg1pDQ4PuueceffGLX2yzqHV76ba/8sorqq2t7XZ7R48erUsvvVSSdOutt+r666/P/HBbV1en6667TrNmzZIkXXHFFRo5cmS336O3BEGgJUuW6I477tCBBx7YZi2sq6++usP+V155pSZNmqSmpiYdc8wxmj17tjZv3px5va6uTn/605/01a9+VUceeWRO2zpu3DjNmDFDr732Wpui0zvvvKOvfOUr2rFjh1zX1b//+79nfc70tZ8zZ84uFyNOO/fcc1VYWKglS5Zo69atvbYIeGvp4uUrr7yiL37xi3r33XcltSwuPWfOnExx6fDDD28zAy3fysrKdOedd0pqWTT9M5/5jF5//fXMgv1BEGjp0qW6/fbbdeCBB+oPf/hD5tjKykqNHTtWkvS1r31Nb775Zua1V199VUcffbS2bt3a5XsfcMABmTHw3nvv7bLIlS7IJ5NJfelLX8rM7kwmk3rqqad03HHHqaSkZM8/BLXMurv77rsVi8X097//XUcddZReeOGFNovdr1ixQnfffbdqamp01113dfs9duzYoU2bNmV+pbMcBEGb7Z0t4v+xj30sUyy97rrr9Itf/CJTDHvzzTf1mc98Ro2NjRoxYoS+853vdDj+2GOP1UknnSSppej62GOPZa7xCy+8oM9//vOSpEmTJnW6ZtvZZ5+tSZMmyRijL3zhC3rhhRcybX/ssccyxe2TTjpJxx57bLc/GwCAJAMAwB549dVXjSQjyTzzzDNZHbN48eLMMU8++WRme0NDg/n85z+feU2SGThwoCktLc38efLkyR3Od+yxx2ZeHzBggBk3bpwZN26c+clPfpLZ5/rrrzeSzLRp03bZtiuuuKLN+3/zm9/c5f6nn356m/3LysqM53lGkjnkkEPMz3/+cyPJjBs3rsOxW7ZsMeXl5Zljhw4dmmn7q6++mtlv2rRpRpK5/vrrO5yjubnZfOlLX8qcw3VdM2jQIOO6bmbbl7/8ZZNIJDoce/bZZxtJ5uyzz+6yf/fdd1+X7d+d9GcuyQwfPjzzq6ysrE370n2/++67d3m+NWvWmMMOOyxzjOM4pqyszAwcOLDNufbbb78Ox6Zfe/HFF7s8f1efc+tzpz/foqKiNu1onbW0cePGGUnmvvvu6/Dab37zm8zxBQUFZvTo0WbcuHHmiCOO6LJ9Z555ZuaYiy++uMv9spXNZ3LHHXcYx3Ha5Dsej2f+PGnSJLNmzZoOx/UkN+2lr8vuvrvt/eIXv2jT1sLCQjNkyBBTUFDQ5po+9NBDbY575plnTCwWy7zer18/069fPyPJlJSUmL/+9a+7/Oy+/vWvtzl27NixZty4cebKK69ss9+9997b5rMdMGBApr2HHXaYmT17dpefYTbf3bT/+Z//MQMGDGiTtyFDhpjCwsI2n8PNN9/cnY/XGNP2O767X51pamoy//7v/96mba3bOmTIEDN//vwu33/Lli1mypQpmf2Liooy1yr92a1cubLL4999912zzz77tLlerb/bU6ZMMVu2bOn25wIAaMGMJgDAHknPZiotLc16HYtJkyZlFmZtfftcv3799MQTT+gPf/iD/uM//kOjRo1SU1OTYrGYqqqqdMkll7R58lba448/rssvv1wHHHCAksmkVq1apVWrVu3RLWntb5HY3S0Tc+bM0Z133qmqqioVFhbK931NmjRJt9xyi/7xj3+of//+XR47aNAgvfzyyzr99NM1evRo1dfXZ9qezWPZJSkej+t3v/udHn/8cZ100kkaMmSItm/friFDhuikk07S73//e/32t79VQUFBVufrLR988IE++OADbdiwQalUSiNGjNBhhx2mCy64QI8//rjWrFmz24WtR40apb///e96+OGH9dnPflYjR47Ujh07lEgktM8+++jkk0/WnXfeqZdffjmnbf/zn/+sGTNm6Mgjj9SYMWMyTyXcb7/9dO6552revHm67LLLunXOM888U7/5zW/0yU9+Uv369dO6deu0atWqXS7snp4JKPXeIuDtXX755Zo/f77OPPNMjRkzRjt27FBxcbEOO+ww/eQnP9G8efP67NO4vvWtb+n//u//dNVVV2ny5MkqLCxUXV2d+vfvr+rqan3729/WX/7ylw63/U2fPl0vv/yyPvOZz6isrEypVEpDhw7VueeeqzfffHO3s1v+67/+SzfccIMmTZokSXrvvfe0atWqDrN6vv71r+uPf/yjPvWpT2ngwIFKpVI64IADdOutt+qll17q8YymtM997nN65513dP311+vQQw9V//79VVdXp8LCQk2ePFnnnXee/ud//qfTWUO9rbCwUH/605/0q1/9Sp/85CdVUlKiZDKp/fffX5dffrneeustHXLIIV0eP2jQIL322mv68Y9/rEMOOUQFBQVyHEcHHXSQfvCDH2jx4sUaN25cl8fvs88+Wrx4sX7wgx/ooIMOkuM4Kigo0CGHHKIf//jHeu211zLraQEAus8xhucuAwAA9FXf/va3NXv2bH3iE5/IPBkNAACgr2JGEwAAQB+1bds2Pfjgg5KkCy64IM+tAQAA2D0KTQAAAH1Qc3OzLr30Um3btk1jxozp9UXAAQAAciGW7wYAAABgpzvvvFN33nmnNmzYkFkX6o477sjqyY4AAAD5xowmAACAPqSurk6rVq2SMUYHH3ywfve73+mLX/xivpsFAACQFRYDBwAAAAAAQE4wowkAAAAAAAA5wRpN3RQEgdauXasBAwbIcZx8NwcAAAAAAKBXGWO0fft2jRo1Sq676zlLFJq6ae3atRozZky+mwEAAAAAALBXvf/++6qoqNjlPhSaumnAgAGSWj7cgQMH5rk1e48xRvX19SotLWUmFyKNrMMG5By2IOuwATmHLch6fm3btk1jxozJ1ER2hcXAu2nbtm0qLS1VfX29VYUmAAAAAABgp+7UQlgMHFlJpVKaN2+eUqlUvpsC9CqyDhuQc9iCrMMG5By2IOvhQaEJWfN9P99NAPYKsg4bkHPYgqzDBuQctiDr4UChCQAAAAAAADlBoQkAAAAAAAA5wWLg3WTrYuDGGDU2Nqq4uJgV/hFpZB02IOewBVmHDcg5bEHW84vFwNEr4vF4vpsA7BVkHTYg57AFWYcNyDlsQdbDgUITsuL7vubPn8/ia4g8sg4bkHPYgqzDBuQctiDr4UGhCQAAAAAAADlBoQkAAAAAAAA5QaEJAAAAAAAAOcFT57rJ5qfO+b4vz/NY4R+RRtZhA3IOW5B12ICcwxZkPb946hx6RSKRyHcTgL2CrMMG5By2IOuwATmHLch6OFBoQlZ839fixYtZ4R+RR9ZhA3IOW5B12ICcwxZkPTwoNAEAAAAAACAnKDQBAAAAAAAgJyg0IWue5+W7CcBeQdZhA3IOW5B12ICcwxZkPRx46lw32frUOQAAAAAAYCeeOoecM8aorq5O1CURdWQdNiDnsAVZhw3IOWxB1sODQhOy4vu+amtrWeEfkUfWYQNyDluQddiAnMMWZD08KDQBAAAAAAAgJyg0AQAAAAAAICcoNCErjuOouLhYjuPkuylAryLrsAE5hy3IOmxAzmELsh4ePHWum3jqHAAAAAAAsAlPnUPOBUGgDRs2KAiCfDcF6FVkHTYg57AFWYcNyDlsQdbDg0ITshIEgVasWMGXGpFH1mEDcg5bkHXYgJzDFmQ9PCg0AQAAAAAAICcoNAEAAAAAACAnKDQhK47jqLS0lBX+EXlkHTYg57AFWYcNyDlsQdbDg6fOdRNPnQPCyxijZDKVs/MVFMT4iw4AAABA5HWnFhLbS21CyAVBoLVr12rUqFFyXSbCIZySyZR+8JP7drmPI2nIwCJt3tak3VXhb7r8XMXjBTlrH7C3MKbDFmQdNiDnsAVZDw+uDrISBIFWr17NCv+IPMdpKTQxUQlRxpgOW5B12ICcwxZkPTyY0QTASt8/epziXsdaux8YLdzarNP3L5Pndqw2JfxAN89dtTeaCAAAAAChQ6EJgJXinqt4rGOhKRUYuY6jgpirWCeFJgAAAABA17h1DllxXVfl5eXcC4vIcx2pvMgTNSZEGWM6bEHWYQNyDluQ9fBgRhOy4rquJkyYkO9mAL3OdRxNGBjPdzOAXsWYDluQddiAnMMWZD08KAUiK0EQaPny5Sy8hsgLjNHybQkFZnfPnAPCizEdtiDrsAE5hy3IenhQaEJWgiDQxo0b+VIj8gIjbWzyFVBnQoQxpsMWZB02IOewBVkPDwpNAAAAAAAAyAkKTQAAAAAAAMgJCk3Iiuu6qqioYIV/RJ7rSBUlMZ46h0hjTIctyDpsQM5hC7IeHjx1DllJf6mBqHMdRxUlBfluBtCrGNNhC7IOG5Bz2IKshwelQGTF930tXbpUvu/nuylAr/KN0dK6Zvk8dQ4RxpgOW5B12ICcwxZkPTwoNCErxhjV19fL8MM3Is4YqT4RiKgjyhjTYQuyDhuQc9iCrIcHhSYAAAAAAADkBIUmAAAAAAAA5ASLgSMrrutq/PjxrPCPyHMdafyAgi6fOtd6qm4imezRexUUxOQ4PN4Oex9jOmxB1mEDcg5bkPXwoNCErLiuq2HDhuW7GUCvcx1Hw4q7HhqTwc5C082zH+rRe910+bmKx3nCHfY+xnTYgqzDBuQctiDr4UEpEFnxfV+LFi1ihX9Enm+MFm1u4qlziDTGdNiCrMMG5By2IOvhwYwmZMUYo8bGRlb4R+QZIzX6puWpc7u5q23GUWNUXNC9YTThB7p57qo9byCQA4zpsAVZhw3IOWxB1sODQhMA7KG45ygeY2IoAAAAAKTxExIAAAAAAABygkITsuJ5niZOnCjP8/LdFKBXeY40sTQuj4fBIcIY02ELsg4bkHPYgqyHB7fOISuO46isrCzfzQB6neM4KivkLy9EG2M6bEHWYQNyDluQ9fBgRhOykkqlNG/ePKVSqXw3BehVqcBo3sYmpQIWGUR0MabDFmQdNiDnsAVZDw8KTcgaj5GELXyeZAELMKbDFmQdNiDnsAVZDwcKTQAAAAAAAMgJCk0AAAAAAADICQpNyIrneaqqqmKFf0Se50hVgwt56hwijTEdtiDrsAE5hy3IenhQaELW4vF4vpsA7BVxlyoToo8xHbYg67ABOYctyHo4UGhCVnzf1/z581l8DZHnG2n+pib5rAeOCGNMhy3IOmxAzmELsh4eFJoAAAAAAACQExSaAAAAAAAAkBMUmgAAAAAAAJATFJqQFc/zVF1dzQr/iDzPkaqHFvHUOUQaYzpsQdZhA3IOW5D18KDQhKwlEol8NwHYKxIBK4Ej+hjTYQuyDhuQc9iCrIcDhSZkxfd9LV68mBX+EXm+kRZvaeapc4g0xnTYgqzDBuQctiDr4UGhCQAAAAAAADlBoQkAAAAAAAA5QaEJWWPRNdjCc1gJHNHHmA5bkHXYgJzDFmQ9HGL5bgDCIRaLqaamJt/NAHpdzHVUU16U72YAvYoxHbYg67ABOYctyHp4MKMJWTHGqK6uTsawQjKizRijumafrCPSGNNhC7IOG5Bz2IKshweFJmTF933V1taywj8izzdSbX2Cp84h0hjTYQuyDhuQc9iCrIcHhSYAAAAAAADkBIUmAAAAAAAA5ASFJmTFcRwVFxfL4WlciDjHkYo9R0QdUcaYDluQddiAnMMWZD08eOocsuJ5niZPnpzvZgC9znMcTR7CU+cQbYzpsAVZhw3IOWxB1sODGU3IShAE2rBhg4IgyHdTgF4VGKMNjSkFPM0CEcaYDluQddiAnMMWZD08KDQhK0EQaMWKFXypEXmBkVZsTyqgzoQIY0yHLcg6bEDOYQuyHh4UmgAAAAAAAJATFJoAAAAAAACQExSakBXHcVRaWsoK/4g8x5FK4y5PnUOkMabDFmQdNiDnsAVZDw+eOoeseJ6nysrKfDcD6HWe46iyrDDfzQB6FWM6bEHWYQNyDluQ9fBgRhOyEgSBVq9ezcJriLzAGK1uSPLUOUQaYzpsQdZhA3IOW5D18KDQhKzwpYYtAiOtbkjx1DlEGmM6bEHWYQNyDluQ9fDg1jkA2ItMq5lSiWSyx+crKIhxnzoAAACAPoNCEwDsRclWU6Vunv1Qj8930+XnKh4v6PF5AAAAACAXuHUOWXFdV+Xl5XJdIoNocx2pvMiTyyQhRBhjOmxB1mEDcg5bkPXwYEYTsuK6riZMmJDvZgC9znUcTRgY3yvvNeOoMSou6P4wnPAD3Tx3VS+0CLZgTIctyDpsQM5hC7IeHn2yFPjWW2/p1FNP1fjx49WvXz8NHTpURx11lJ555pkO+y5dulQnnnii+vfvr8GDB+uss87Sxo0bO+wXBIFuu+027bvvvioqKlJVVZUefvjhvdGdSAiCQMuXL2fhNUReYIyWb0vslafOxT1H8Zjb/V9enxy6ESKM6bAFWYcNyDlsQdbDo0/+tLJq1Spt375dZ599tn7605/quuuukyR99rOf1S9/+cvMfqtXr9ZRRx2ld955RzNnztRVV12lP/7xjzr++OOVSCTanPPaa6/Vd7/7XR1//PH6+c9/rrFjx+qMM87QI488slf7FlZBEGjjxo18qRF5gZE2Nvk8dQ6RxpgOW5B12ICcwxZkPTz65K1zn/70p/XpT3+6zbaLL75YhxxyiO644w594xvfkCTNnDlTDQ0NevPNNzV27FhJ0qGHHqrjjz9e999/f2a/NWvW6Pbbb9dFF12k2bNnS5LOO+88TZs2Td/5znd06qmnyvO8vdhDAAAAAACA6OmTM5o643mexowZo7q6usy2J554QtOnT88UmSTpuOOO0wEHHKBHH300s+2pp55SMpnUhRdemNnmOI4uuOACrV69Wq+++upe6QMAAAAAAECU9elCU0NDgzZt2qTly5frJz/5if70pz/p2GOPldQyS2nDhg2qrq7ucNyhhx6qhQsXZv68cOFClZSUqLKyssN+6dexa67rqqKighX+EXmuI1WUxHjqHCKNMR22IOuwATmHLch6ePTJW+fSrrzySt1zzz2SWkL1+c9/PnPr27p16yRJI0eO7HDcyJEjtWXLFjU3N6uwsFDr1q3T8OHD5ThOh/0kae3atV22obm5Wc3NzZk/b9u2TZKUSqWUSqUybXNdV0EQtLlfNL3d932ZVgsLd7Xd8zw5jpM5b+vtkuT7flbbY7GYjDFttjuOI8/zOrSxq+2d9WnEiBGZ16PSp121nT5Fr0+t2+UHRqlWCzF5Hw0PgZFGFMcUmJaFwWOu09Knj3b1jZHjSOaj11ufw3Ekz3EUGNNmjSfXaXmaXWCMfGMyRaz0guO+MTKd7N9+u+e0fG5+sPMcLf2OdXo9wnqddtV2+pS7PlVUVMj3/TbtDHufonid6FPP+zRixAi5rhupPknRu070ac/7ZIzRiBEjMq9HoU9RvE70KTd9Gj16tHzfz7QnCn0Ky3Vqv31X+nSh6bLLLtMXv/hFrV27Vo8++qh8388s8t3Y2ChJKiws7HBcUVFRZp/CwsLMf3e1X1duueUW3XjjjR22p2dJSVJ5ebkmTJigd999t80T7yoqKlRRUaFly5apvr4+s338+PEaNmyYlixZ0ua9J06cqLKyMi1cuLBN0KqqqhSPxzV//vw2baiurlYikdDixYsz2zzPU01Njerr61VbW5vZXlxcrMmTJ2vTpk1asWJFZntpaakqKyu1du1arV69OrO9fZ+MMWpoaNABBxygsWPHRqJPUbxO9GnXfQoCo3jMVcoPtHBrs9xWxefqoUVKBEaLNjerIRWoJOYq5jqqKS9SfSJQbX3L2OMHRvsMG6B3P9iuLQmjNfVNO/sUd1VZVqi1O1Ja3bBzIC4v8jRhYFzvbk9q/Y6U9h9dJkn6oCnQ+EJpWX1C9YmdfymMH1CgYcUxLdnSrEZ/5+A/sTSuskJPi+sSmXMsXLhQBx88OVLXSYpe9vpan0aNGqWGhgYZYzL/AyXsfYridaJPPe+TMUY7duzQ0Ucfre3bt0eiT1L0rhN96lmf/u///k9r165VSUmJHMeJRJ+ieJ3oU8/7NHXqVC1evFhNTU2ZSSRh71OYrlN37gRzTOsSVh93wgknqK6uTq+//rrefPNN1dTU6MEHH9RZZ53VZr+rr75as2bNUlNTkwoLCzV9+nQtXbpUy5cvb7Pfjh07VFJSomuuuUa33HJLp+/Z2YymMWPGaPPmzRo4cKAkO6qivu9rwYIFOuSQQxSPxyPRp921nT5Fr0/JZEo3/uxBSdL1x+yjgtjOabfpGU0J32jB5iZNHVIkz3U6zGhqSKR068vvyRjpuqPHqLCgoFWfdj+jaXtzSj96+T1J0rXTxqikMN7tGU2NCV8/nLtSknTdt7+qoqLCTq9HWK/TrtpOn3LTpyAItGDBAk2ZMiXz/mHvUxSvE33qeZ/S/36pqamR53mR6FNalK4TfepZn5qbm7VgwQJNnTpVnudFok9RvE70qed9kqR58+Zlsh6FPoXpOm3dulVDhgxRfX19phbSlT49o6m9L37xi/rmN7+pZcuWZW57S99C19q6des0ePDgzCymkSNH6sUXX5Qxps3tc+ljR40a1eV7FhYWdjobKhaLKRZr+/GlL1h7rf8Rn8329ufdk+2O43S6vas2ZrPdcZzM76PSp9boU/T7FLS+Ve6jIlKH87gfDeKtXnccR7GPdvUcJ1P8cZ3Oz+E6TqdrPLmO81Ehauef0+dUJ/t3ud3deY70Xwjt+9pa2K7Tnm6nT9lvT/8DwvO8Ts8fxj6lRek6pdGnnvUpPUZGqU9p9Ik+STv/LdB+TA97nzpDn+zuUyqV6jTre9L2vtInKfzXqTOhWkUrPa2rvr5eo0ePVnl5eYcpaZL0xhtv6OCDD878+eCDD9aOHTu0dOnSNvu9/vrrmdcBAAAAAADQM32y0LRhw4YO25LJpB588EEVFxfr4x//uCTpC1/4gv7whz/o/fffz+z3wgsvaNmyZTr11FMz20455RQVFBTorrvuymwzxujuu+/W6NGjdfjhh/dib6LBdV2NHz++0wopECWu07JGEk+dQ5QxpsMWZB02IOewBVkPjz5569w3v/lNbdu2TUcddZRGjx6t9evXa86cOaqtrdXtt9+u/v37S5K+973v6bHHHtMxxxyjSy+9VB9++KFmzZqlSZMm6dxzz82cr6KiQpdddplmzZqlZDKpmpoaPfnkk3rllVc0Z86cLqeMYSfXdTVs2LB8NwPoda7jaFhxnxwagZxhTIctyDpsQM5hC7IeHn2yFHjaaafJdV394he/0AUXXKA77rhDFRUVeuqpp3TFFVdk9hszZoxeeuklTZgwQddcc41uu+02ffrTn9Zf/vKXDusq3XrrrZo5c6aef/55XXTRRVq5cqUeeughnXHGGXu7e6Hk+74WLVrU6YJsQJT4xmjR5ib54XlOAtBtjOmwBVmHDcg5bEHWw6NP/m/7008/XaeffnpW+x544IF6/vnnd7uf67qaMWOGZsyY0dPmWckYo8bGxjar0gNRZIzU6H/0tDdun0NEMabDFmQdNiDnsAVZD48+OaMJAAAAAAAA4UOhCQAAAAAAADlBoQlZ8TxPEydOZOF0RJ7nSBNL4/K4bQ4RxpgOW5B12ICcwxZkPTz65BpN6Hscx1FZWVm+mwH0OsdxVFbIX16INsZ02IKswwbkHLYg6+HBjCZkJZVKad68eUqlUvluCtCrUoHRvI1NSgUsMojoYkyHLcg6bEDOYQuyHh4UmpA1HiMJW/g8yQIWYEyHLcg6bEDOYQuyHg4UmgAAAAAAAJATFJoAAAAAAACQExSakBXP81RVVcUK/4g8z5GqBhfy1DlEGmM6bEHWYQNyDluQ9fCg0ISsxePxfDcB2CviLlUmRB9jOmxB1mEDcg5bkPVwoNCErPi+r/nz57P4GiLPN9L8TU3yWQ8cEcaYDluQddiAnMMWZD08KDQBAAAAAAAgJyg0AQAAAAAAICcoNAEAAAAAACAnKDQhK57nqbq6mhX+EXmeI1UPLeKpc4g0xnTYgqzDBuQctiDr4UGhCVlLJBL5bgKwVyQCVgJH9DGmwxZkHTYg57AFWQ8HCk3Iiu/7Wrx4MSv8I/J8Iy3e0sxT5xBpjOmwBVmHDcg5bEHWw4NCEwAAAAAAAHKCQhMAAAAAAABygkITssaia7CF57ASOKKPMR22IOuwATmHLch6OMTy3QCEQywWU01NTb6bAfS6mOuoprwo380AehVjOmxB1mEDcg5bkPXwYEYTsmKMUV1dnYxhhWREmzFGdc0+WUekMabDFmQdNiDnsAVZDw8KTciK7/uqra1lhX9Enm+k2voET51DpDGmwxZkHTYg57AFWQ8PCk0AAAAAAADICdZoAhAaxhglk6k9Pj6RTLY5FwAAAAAgtyg0ISuO46i4uFgOT+NCHiWTKf3gJ/fl5FyBCSR1fGqF40jFniOijihjTIctyDpsQM5hC7IeHhSakBXP8zR58uR8NwPodZ7jaPIQnjqHaGNMhy3IOmxAzmELsh4eFJqQlSAItGnTJg0dOlSuy9JeyL/vHz1Oca97WfwwkdJtr7y/y30CY7SpydfQIk8u/7cEEcWYDluQddiAnMMWZD08uDrIShAEWrFihYIgyHdTAElS3HMVj3XzVxaFqcBIK7YnFbCEEyKMMR22IOuwATmHLch6eFBoAgAAAAAAQE5QaAIAAAAAAEBOUGhCVhzHUWlpKSv8I/IcRyqNuzx1DpHGmA5bkHXYgJzDFmQ9PFgMHFnxPE+VlZX5bgbQ6zzHUWVZYb6bAfQqxnTYgqzDBuQctiDr4cGMJmQlCAKtXr2ahdcQeYExWt2QVGBYDRzRxZgOW5B12ICcwxZkPTwoNCErfKlhi8BIqxtSPHUOkcaYDluQddiAnMMWZD08KDQBAAAAAAAgJyg0AQAAAAAAICcoNCErruuqvLxcrktkEG2uI5UXeXJ5mAUijDEdtiDrsAE5hy3Ienjw1DlkxXVdTZgwId/NAHqd6ziaMDCe72YAvYoxHbYg67ABOYctyHp4UApEVoIg0PLly1l4DZEXGKPl2xI8dQ6RxpgOW5B12ICcwxZkPTwoNCErQRBo48aNfKkReYGRNjb5PHUOkcaYDluQddiAnMMWZD08KDQBAAAAAAAgJyg0AQAAAAAAICcoNCErruuqoqKCFf4Rea4jVZTEeOocIo0xHbYg67ABOYctyHp48NQ5ZCX9pQaiznUcVZQU5LsZQK9iTIctyDpsQM5hC7IeHpQCkRXf97V06VL5vp/vpgC9yjdGS+ua5fPUOUQYYzpsQdZhA3IOW5D18KDQhKwYY1RfXy/DD9+IOGOk+kQgoo4oY0yHLcg6bEDOYQuyHh4UmgAAAAAAAJATFJoAAAAAAACQExSakBXXdTV+/HhW+EfkuY40fkABT51DpDGmwxZkHTYg57AFWQ8PnjqHrLiuq2HDhuW7GUCvcx1Hw4oZGhFtjOmwBVmHDcg5bEHWw4NSILLi+74WLVrECv+IPN8YLdrcxFPnEGmM6bAFWYcNyDlsQdbDg0ITsmKMUWNjIyv8I/KMkRp9w1PnEGmM6bAFWYcNyDlsQdbDg0ITAAAAAAAAcoJCEwAAAAAAAHKCQhOy4nmeJk6cKM/z8t0UoFd5jjSxNC6Pp84hwhjTYQuyDhuQc9iCrIcHj1ZCVhzHUVlZWb6bAfQ6x3FUVshfXog2xnTYgqzDBuQctiDr4cGMJmQllUpp3rx5SqVS+W4K0KtSgdG8jU1KBSwyiOhiTIctyDpsQM5hC7IeHhSakDUeIwlb+DzJAhZgTIctyDpsQM5hC7IeDhSaAAAAAAAAkBMUmgAAAAAAAJATFJqQFc/zVFVVxQr/iDzPkaoGF/LUOUQaYzpsQdZhA3IOW5D18KDQhKzF4/F8NwHYK+IuVSZEH2M6bEHWYQNyDluQ9XCg0ISs+L6v+fPns/gaIs830vxNTfJZDxwRxpgOW5B12ICcwxZkPTwoNAEAAAAAACAnKDQBAAAAAAAgJyg0AQAAAAAAICcoNCErnuepurqaFf4ReZ4jVQ8t4qlziDTGdNiCrMMG5By2IOvhQaEJWUskEvluArBXJAJWAkf0MabDFmQdNiDnsAVZDwcKTciK7/tavHgxK/wj8nwjLd7SzFPnEGmM6bAFWYcNyDlsQdbDg0ITAAAAAAAAcoJCEwAAAAAAAHKCQhOyxqJrsIXnsBI4oo8xHbYg67ABOYctyHo4xPLdAIRDLBZTTU1NvpsB9LqY66imvCjfzQB6FWM6bEHWYQNyDluQ9fBgRhOyYoxRXV2djGGFZESbMUZ1zT5ZR6QxpsMWZB02IOewBVkPDwpNyIrv+6qtrWWFf0Seb6Ta+gRPnUOkMabDFmQdNiDnsAVZDw8KTQAAAAAAAMgJ1mgCgJBpPV04kUzu0fHJVEqSVBCLyenB4ucFBT07HgAAAEC0UGhCVhzHUXFxMT9QIvIcRyr2HPXlqCeDnYWmm2c/lMeWSDddfq7i8YK8tgHdx5gOW5B12ICcwxZkPTwoNCErnudp8uTJ+W4G0Os8x9HkITx1DtHGmA5bkHXYgJzDFmQ9PCg0IStBEGjTpk0aOnSoXJelvRBdgTHa1ORraJEnNwT/t2TGUWNUXNC9ofzDREq3vfL+Hh+f8APdPHdVt45B38KYDluQddiAnMMWZD08uDrIShAEWrFihYIgyHdTgF4VGGnF9qSCkDx1Lu45isfc7v3y3Jwdj3BiTIctyDpsQM5hC7IeHn3yp4V58+bp4osv1oEHHqiSkhKNHTtWX/rSl7Rs2bI2+51zzjlyHKfDr4kTJ3Y4ZxAEuu2227TvvvuqqKhIVVVVevjhh/dWlwAAAAAAACKvT94696Mf/Uj/+Mc/dOqpp6qqqkrr16/X7NmzNXXqVL322ms66KCDMvsWFhbq3nvvbXN8aWlph3Nee+21uvXWW3X++eerpqZGTz31lM444ww5jqPTTz+91/sEAAAAAAAQdX2y0HTFFVfot7/9reLxeGbbaaedpkmTJunWW2/VQw/tfMpSLBbTmWeeucvzrVmzRrfffrsuuugizZ49W5J03nnnadq0afrOd76jU089VZ7n9U5nIsJxHJWWlrLCPyLPcaTSuNunnzoH9BRjOmxB1mEDcg5bkPXw6JO3zh1++OFtikyStP/+++vAAw/U0qVLO+zv+762bdvW5fmeeuopJZNJXXjhhZltjuPoggsu0OrVq/Xqq6/mrvER5XmeKisrKcgh8jzHUWVZoTz+AkOEMabDFmQdNiDnsAVZD48+WWjqjDFGH3zwgYYOHdpm+44dOzRw4ECVlpZq8ODBuuiii/Thhx+22WfhwoUqKSlRZWVlm+2HHnpo5nXsWhAEWr16NQuvIfICY7S6IanAhGQ1cGAPMKbDFmQdNiDnsAVZD48+eetcZ+bMmaM1a9bopptuymwbOXKkrr76ak2dOlVBEOi5557TXXfdpUWLFmnu3LmKxVq6t27dOg0fPrzDFLuRI0dKktauXdvl+zY3N6u5uTnz5/TMqVQqpVQqJUlyXVeu6yoIgjahT2/3fV+m1Q+tXW33PE+O42TO23q71DJzK5vtsVhMxpg22x3Hked5HdrY1fb2ffJ9X++//76GDRumeDweiT7tru30qe/1qeU4yZHkB0apwMh1JNdx5Buj1rUhz2l5j1Srx8f5pu3vW7/mfTQ8JH2j9z9MqrzQk+dKMddp6ZPZeZzjSMa0FKVan8NxWmZEBca0eWpduo2BMfJNS5slZYpZ7du+uz61PkfLPunztLkcmT613976fdKfQ1dt72y7Hxg5koxa/sJvnZuoZi9qfUr/Q628vLzN/xUMc5+ieJ3oU8/7lP73y4gRI1rGzwj0KS1K14k+9axPyWRS77//fmZMj0Kfonid6FPP+ySpTdaj0KcwXaf223clFIWm2tpaXXTRRfrEJz6hs88+O7P9lltuabPf6aefrgMOOEDXXnutHn/88cwi342NjSosLOxw3qKioszrXbnlllt04403dtieniUlSeXl5ZowYYLeffddbdy4MbNPRUWFKioqtGzZMtXX12e2jx8/XsOGDdOSJUvavPfEiRNVVlamhQsXtglaVVWV4vG45s+f36YN1dXVSiQSWrx4cWab53mqqalRfX29amtrM9uLi4s1efJkbdq0SStWrMhsLy0tVWVlpdauXavVq1dntrfvkzFGdXV1WrduncaNGxeJPkXxOkW9T8OGDVfFkBL1KyrQwq3Nch1H4wcUaFhxTEu2NKuxVUVlYmlcZYWeFm5uzhSY/MAoHnOV8gMt2pqS5+7sa/XQIiUCo0Wbm1WXCLRgc7NirqOa8iLVJwLV1icy59hn2AC9+8F2bUkYralv2tmnuKvKskKt3ZHS6oadA3F5kacJA+N6d3tS63ektP/oMknSB02BxhdKy+oTqk/s/Ethd3363/pk5hyLtqY0ZWhMcdfR/E0729K6T4u37CyWe46jyoExlRTGVFHeP/M5FHuOJg8p0qYmXyu2J3fZp8AYDR9UrPVbG/Xee+9py5bNba5TFLMXtT6l/0fLO++8o+3bt0eiT1G8TvSp530yxmTeJyp9kqJ3nehTz/r0zjvvqK6uTgsWLJDjOJHoUxSvE33qeZ+mTJmiVCqVyXoU+hSm69SdO8Ec07qE1QetX79eRxxxhJLJpF577TWNGjVql/s3Njaqf//+OvfcczNPo5s+fbqWLl2q5cuXt9l3x44dKikp0TXXXNOhaJXW2YymMWPGaPPmzRo4cKAkO6qivu9rwYIFOuSQQ5jRRJ/y1qdUytf1d94nR9J1R++jgpjbrRlNDYmUbnnpPUnS948eo6KCgjb7S1LCN1qwuUlThxTJc50OM5oaEind+vJ7Mka67ugxKmx1jmxmNG1vTulHL7e04dppY1RSGO/2jKb6pmTmHN+bNkYl8ZY2ZDujqSnp6+a5q+Q6LccXFRR0a0ZTMhXophdXyki64dKzFYvtfkZM2LMXtT4FQaAFCxZoypQpzGiiT5HuU/rfLzU1NfI8LxJ9SovSdaJPPetTc3OzFixYoKlTpzKjiT5Fuk+SNG/evEzWo9CnMF2nrVu3asiQIaqvr8/UQrrSp2c01dfX66STTlJdXZ1eeeWV3RaZpJbq35AhQ7Rly5bMtpEjR+rFF1+UMabN7XPr1q2TpF2et7CwsNPZULFYLHNrXlr6grXX+h/x2Wxvf9492e44Tqfbu2rj7ra7rqthw4ZlzhmFPrVHn8LQJ1/GtNyylS4CpXnOR/fUtW9j+31a/b71a2kFnjSsOKYCz5H70f6O4yjm7DwuPR67XZzDdRx1slmu43xUtNn55121fVfb0+fwHCczrsU62XdX2wPT8XPYVdszt/y5jtJ/Jbmu2+n1jl72otWnIAhUXl6ugoKCbvW1L/cpLUrXKY0+7Xmf0v9+cV03Mn1qjT7RJ0kqKCjQsGHDOozpYe5TFK8Tfep5n4Ig6DTre9L2vtInKfzXqTN9djHwpqYmnXzyyVq2bJn+8Ic/6OMf/3hWx23fvl2bNm1SeXl5ZtvBBx+sHTt2dHhi3euvv555Hbvmuq4mTJjQaXCBKHEdRxMGxjNFICCKGNNhC7IOG5Bz2IKsh0efvEK+7+u0007Tq6++qscee0yf+MQnOuzT1NTUZl2JtB/+8IcyxujEE0/MbDvllFNUUFCgu+66K7PNGKO7775bo0eP1uGHH947HYmQIAi0fPnyNlPxgCgKjNHybQmeOodIY0yHLcg6bEDOYQuyHh598ta5K6+8Uk8//bROPvlkbdmyRQ899FCb188880ytX79eU6ZM0Ze//GVNnDhRkvT888/r2Wef1YknnqhTTjkls39FRYUuu+wyzZo1S8lkUjU1NXryySf1yiuvaM6cOV1OGcNOQRBo48aNGjduHBVkRFpgpI1Nvsb1L+j0FjIgChjTYQuyDhuQc9iCrIdHnyw0/fOf/5QkPfPMM3rmmWc6vH7mmWeqrKxM06dP11/+8hc98MAD8n1f++23n2bOnKmrrrqqQ/BuvfVWDRo0SPfcc4/uv/9+7b///nrooYd0xhln7I0uAQAAAAAARF6fLDTNnTt3t/uUlZXpN7/5TdbndF1XM2bM0IwZM3rQMgAAAAAAAHSF+WbIiuu6qqioYIoiIs91pIqSGLfNIdIY02ELsg4bkHPYgqyHR5+c0YS+J/2lBqLOdRxVlBTkuxlAr2JMhy3IOmxAzmELsh4elAKRFd/3tXTpUvm+n++mAL3KN0ZL65rl89Q5RBhjOmxB1mEDcg5bkPXwoNCErBhjVF9fL8MP34g4Y6T6RCCijihjTIctyDpsQM5hC7IeHhSaAAAAAAAAkBMUmgAAAAAAAJATFJqQFdd1NX78eFb4R+S5jjR+QAFPnUOkMabDFmQdNiDnsAVZDw+eOoesuK6rYcOG5bsZQK9zHUfDihkaEW2M6bAFWYcNyDlsQdbDg1IgsuL7vhYtWsQK/4g83xgt2tzEU+cQaYzpsAVZhw3IOWxB1sODQhOyYoxRY2MjK/wj8oyRGn3DU+cQaYzpsAVZhw3IOWxB1sODQhMAAAAAAABygkITAAAAAAAAcoJCE7LieZ4mTpwoz/Py3RSgV3mONLE0Lo+nziHCGNNhC7IOG5Bz2IKshwePVkJWHMdRWVlZvpsB9DrHcVRWyF9eiDbGdNiCrMMG5By2IOvhwYwmZCWVSmnevHlKpVL5bgrQq1KB0byNTUoFLDKI6GJMhy3IOmxAzmELsh4eFJqQNR4jCVv4PMkCFmBMhy3IOmxAzmELsh4OFJoAAAAAAACQExSaAAAAAAAAkBMUmpAVz/NUVVXFCv+IPM+RqgYX8tQ5RBpjOmxB1mEDcg5bkPXwoNCErMXj8Xw3Adgr4i5VJkQfYzpsQdZhA3IOW5D1cKDQhKz4vq/58+ez+BoizzfS/E1N8lkPHBHGmA5bkHXYgJzDFmQ9PGL5bgAAOxhjlEz27FGkiWSyzfkAAAAAAH0LhSYAe0UymdIPfnJfzs4XmEAS92cDAAAAQF/CrXMAAAAAAADICWY0ISue56m6upoV/pET3z96nOJe9+vcHyZSuu2V93uhRTt5jlQ9tIinziHSGNNhC7IOG5Bz2IKshwczmpC1RCKR7yYgIuKeq3hsD37tQXFqTyQC1n9C9DGmwxZkHTYg57AFWQ8HCk3Iiu/7Wrx4MSv8I/J8Iy3e0sxT5xBpjOmwBVmHDcg5bEHWw4NCEwAAAAAAAHKCQhMAAAAAAABygkITssaia7CF57ASOKKPMR22IOuwATmHLch6OPDUOWQlFouppqYm380Ael3MdVRTXpTvZgC9ijEdtiDrsAE5hy3IengwowlZMcaorq5OxrBCMqLNGKO6Zp+sI9IY02ELsg4bkHPYgqyHB4UmZMX3fdXW1rLCPyLPN1JtfYKnziHSGNNhC7IOG5Bz2IKshweFJgAAAAAAAOQEhSYAAAAAAADkBIUmZMVxHBUXF8vhaVyIOMeRij1HRB1RxpgOW5B12ICcwxZkPTx46hyy4nmeJk+enO9mAL3OcxxNHsJT5xBtjOmwBVmHDcg5bEHWw4MZTchKEATasGGDgiDId1OAXhUYow2NKQU8zQIRxpgOW5B12ICcwxZkPTwoNCErQRBoxYoVfKkReYGRVmxPKqDOhAhjTIctyDpsQM5hC7IeHhSaAAAAAAAAkBMUmgAAAAAAAJATFJqQFcdxVFpaygr/iDzHkUrjLk+dQ6QxpsMWZB02IOewBVkPD546h6x4nqfKysp8NwPodZ7jqLKsMN/NAHoVYzpsQdZhA3IOW5D18GBGE7ISBIFWr17NwmuIvMAYrW5I8tQ5RBpjOmxB1mEDcg5bkPXwoNCErPClhi0CI61uSPHUOUQaYzpsQdZhA3IOW5D18KDQBAAAAAAAgJyg0AQAAAAAAICcoNCErLiuq/LycrkukUG0uY5UXuTJ5WEWiDDGdNiCrMMG5By2IOvhwVPnkBXXdTVhwoR8NwPoda7jaMLAeL6bAfQqxnTYgqzDBuQctiDr4UEpEFkJgkDLly9n4TVEXmCMlm9L8NQ5RBpjOmxB1mEDcg5bkPXwoNCErARBoI0bN/KlRuQFRtrY5PPUOUQaYzpsQdZhA3IOW5D18KDQBAAAAAAAgJyg0AQAAAAAAICcoNCErLiuq4qKClb4R+S5jlRREuOpc4g0xnTYgqzDBuQctiDr4cFT55CV9JcaiDrXcVRRUpDvZgC9ijEdtiDrsAE5hy3IenhQCkRWfN/X0qVL5ft+vpsC9CrfGC2ta5bPU+cQYYzpsAVZhw3IOWxB1sODQhOyYoxRfX29DD98I+KMkeoTgYg6oowxHbYg67ABOYctyHp4UGgCAAAAAABATlBoAgAAAAAAQE5QaEJWXNfV+PHjWeEfkec60vgBBTx1DpHGmA5bkHXYgJzDFmQ9PHjqHLLiuq6GDRuW72YAvc51HA0rZmhEtDGmwxZkHTYg57AFWQ8PSoHIiu/7WrRoESv8I/J8Y7RocxNPnUOkMabDFmQdNiDnsAVZDw8KTciKMUaNjY2s8I/IM0Zq9A1PnUOkMabDFmQdNiDnsAVZDw8KTQAAAAAAAMgJCk0AAAAAAADICQpNyIrneZo4caI8z8t3U4Be5TnSxNK4PJ46hwhjTIctyDpsQM5hC7IeHjxaCVlxHEdlZWX5bgbQ6xzHUVkhf3kh2hjTYQuyDhuQc9iCrIcHM5qQlVQqpXnz5imVSuW7KUCvSgVG8zY2KRWwyCCiizEdtiDrsAE5hy3IenhQaELWeIwkbOHzJAtYgDEdtiDrsAE5hy3IejhQaAIAAAAAAEBOsEYTAKBbTKsZX4lkssfnKyiIyXFYfR0AAACIAgpNyIrneaqqqmKFf0Se50hVgwt56twuJFutX3Xz7Id6fL6bLj9X8XhBj8+D7DGmwxZkHTYg57AFWQ8Pbp1D1uLxeL6bAOwVcZcqE6KPMR22IOuwATmHLch6ODCjCVnxfV/z589XdXW1YjFig+jyjTR/U5OqhxYpRr1pt2YcNUbFBd0fExJ+oJvnruqFFiEbjOmwBVmHDcg5bEHWw4OrAwDYY3HPUTzG5FgAAAAALfjpAAAAAAAAADlBoQkAAAAAAAA5QaEJWfE8T9XV1azwj8jzHKl6aBFPnUOkMabDFmQdNiDnsAVZDw8KTchaIpHIdxOAvSIRmHw3Aeh1jOmwBVmHDcg5bEHWw4FCE7Li+74WL14s3/fz3RSgV/lGWrylWT61JkQYYzpsQdZhA3IOW5D18KDQBAAAAAAAgJyg0AQAAAAAAICcoNCErLHoGmzhOawEjuhjTIctyDpsQM5hC7IeDn2y0DRv3jxdfPHFOvDAA1VSUqKxY8fqS1/6kpYtW9Zh36VLl+rEE09U//79NXjwYJ111lnauHFjh/2CINBtt92mfffdV0VFRaqqqtLDDz+8N7oTCbFYTDU1NYrFYvluCtCrYq6jmvIixVyKTYguxnTYgqzDBuQctiDr4dEnC00/+tGP9MQTT+jYY4/VT3/6U33jG9/Qyy+/rKlTp2rJkiWZ/VavXq2jjjpK77zzjmbOnKmrrrpKf/zjH3X88cd3WI3+2muv1Xe/+10df/zx+vnPf66xY8fqjDPO0COPPLK3uxdKxhjV1dXJGFZIRrQZY1TX7JN1RBpjOmxB1mEDcg5bkPXw6JOFpiuuuEKrVq3Sz372M5133nn6/ve/r1deeUWpVEq33nprZr+ZM2eqoaFBf/vb33TJJZfoe9/7nh599FEtWrRI999/f2a/NWvW6Pbbb9dFF12kX/7ylzr//PP1zDPP6Mgjj9R3vvMdVq3Pgu/7qq2t5bNC5PlGqq1P8NQ5RBpjOmxB1mEDcg5bkPXw6JOFpsMPP1zxeLzNtv33318HHnigli5dmtn2xBNPaPr06Ro7dmxm23HHHacDDjhAjz76aGbbU089pWQyqQsvvDCzzXEcXXDBBVq9erVeffXVXuwNAAAAAACAHfpkoakzxhh98MEHGjp0qKSWWUobNmxQdXV1h30PPfRQLVy4MPPnhQsXqqSkRJWVlR32S78OAAAAAACAngnNKlpz5szRmjVrdNNNN0mS1q1bJ0kaOXJkh31HjhypLVu2qLm5WYWFhVq3bp2GDx8up92TpNLHrl27tsv3bW5uVnNzc+bP27ZtkySlUimlUilJkuu6cl1XQRAoCILMvuntvt92vZeutnueJ8dxMudtvV1ShymCXW2PxWIyxrTZ7jiOPM/r0MautrfvUxAEKiwszLQ3Cn3aXdvpU+77lF5f2w+MfGPkOY4CYxS0uk3NdSS3i+0t55McSb4xSgUms79vjFrfru05Le+danUS37T9fevXvI/OHxijQrflv6mgZXFwY0zmVjrfGDmOZEx6n53ncBzttk++MZm+BOnvU7u2765Prc/Rsk/6PG0uR6ZPXd0G6Do7P4eu2t7Zdt8YOZKMOn4GXbW9/Xb/o2uXPpTv097tkzFGxcXFCoKgTTvD3KcoXif61PM+pf/94jhOZPqUFqXrRJ961qd0ztNjehT6FMXrRJ963ifHcVRUVNTm3y9h71OYrlP77bsSikJTbW2tLrroIn3iE5/Q2WefLUlqbGyUJBUWFnbYv6ioKLNPYWFh5r+72q8rt9xyi2688cYO29OzpCSpvLxcEyZM0LvvvtvmiXcVFRWqqKjQsmXLVF9fn9k+fvx4DRs2TEuWLGnz3hMnTlRZWZkWLlzYJmhVVVWKx+OaP39+mzZUV1crkUho8eLFmW2e56mmpkb19fWqra3NbC8uLtbkyZO1adMmrVixIrO9tLRUlZWVWrt2rVavXp3Z3lWfPvjgg8j1KYrXqS/2afPmzdp/dJkkaeHWZg0q9FRZVqi1O1Ja3bBz0Cov8jRhYFzvbk9qY9POtlSUxFQWc1QxpET9igq0aGtKnutr/IACDSuOacmWZjW2qqhMLI2rrNDTws3NmQKTHxjFY65SfpA5PtOnoUVKBEaLt7QUlhdsbpbntDyBrj4RqLY+kTnHPsMG6N0PtmtLwmhNfdPO6xR3d9un9TtSmc/hg6ZA4wulZfUJ1Sd2/qWwuz79b30yc45FW1OaMjSmuOto/qadbemsT1JL0ahyYEwlhTFVlPfPfA7FnqPJQ4q0qcnXiu3JXfbJD4yGDyrW+q2Nen+Hr7pk2+tUUVKw2z4Fxmj/0WVavfHDlkzwfdrrfZo8ebKWLl0aqT5F8TrRp9z0yfM81dXVRapPUbxO9GnP+rR8+XI1NzdrwYIFkelTFK8TfcpNn/bZZ59M1qPSp7Bcp+7cCeaYPr5k+/r163XEEUcomUzqtdde06hRoyRJ8+fPV01NjR588EGdddZZbY65+uqrNWvWLDU1NamwsFDTp0/X0qVLtXz58jb77dixQyUlJbrmmmt0yy23dPr+nc1oGjNmjDZv3qyBAwdKsqMqGgSBNm/erPLycsVisUj0aXdtp0+57VNTU7Nu+tkDkqTrjt5H8QK32zOadiR8/edLq+RI+t60MSoqKOjWjKaGREq3vPSeJOn7R7cc33p/SUoGRpubfQ0p9OQ6TocZTQ2JlG59+T0ZI1139BgVtjpHNjOatjen9KOXW9pw7bQxKimMd3tGU31TMnOO700bo5J4SxuyndHUlPR189xVcp2dn2N3ZjQ1JFK69aX3ZNTxM8h2RlMyFeiHc1cqMNJNl58rNz1FK912vk+92idJ2rJliwYNGtRmtm+Y+xTF60SfcjOjafPmzZmZ7VHoU1qUrhN96lmfksmkNm3apCFDhmS2hb1PUbxO9KnnfXJdVxs3btSgQYPkum4k+hSm67R161YNGTJE9fX1mVpIV/r0jKb6+nqddNJJqqur0yuvvJIpMkk7b3tL30LX2rp16zR48ODMLKaRI0fqxRdflDGmzT+o08e2Pm97hYWFnc6GisViisXafnzpC9Ze+sJku739efdku+M4nW7vqo27255KpbRq1SqVl5fvsu1h6lN79Kn3+5QuVHiuI++j76LrOGpXY9jldmNabtnyPioCpXnOR/fUtW9j+31a/T7WyRu4jrTqw5TKi2KZ1x3HUczZeVx6PHa7PEfXfWop2uz8867avqvtmc/ScTLjWqyTfXe1PTAdP4dsrofnODKttnf2GeyuT4HrtClo8X3au31KpVJasWKFqqurOz1/GPuUFqXrlEaf9rxPrf/90tm/3fak7fnuU2tRuU6t0afub3ccp03O08LcpyheJ/rU8z6lUim9++67GjJkSNY/i/f1Pknhv06d6bOLgTc1Nenkk0/WsmXL9Ic//EEf//jH27w+evRolZeXd5iSJklvvPGGDj744MyfDz74YO3YsaPNE+sk6fXXX8+8DgAAAAAAgJ7pk4Um3/d12mmn6dVXX9Vjjz2mT3ziE53u94UvfEF/+MMf9P7772e2vfDCC1q2bJlOPfXUzLZTTjlFBQUFuuuuuzLbjDG6++67NXr0aB1++OG91xkAAAAAAABL9Mlb56688ko9/fTTOvnkk7VlyxY99NBDbV4/88wzJUnf+9739Nhjj+mYY47RpZdeqg8//FCzZs3SpEmTdO6552b2r6io0GWXXaZZs2YpmUyqpqZGTz75pF555RXNmTOnyylj2MlxHJWWlra59RCIIsdpWQCbqCPKGNNhC7IOG5Bz2IKsh0efLDT985//lCQ988wzeuaZZzq8ni40jRkzRi+99JKuuOIKXXPNNYrH4/rMZz6j22+/vcO6SrfeeqsGDRqke+65R/fff7/2339/PfTQQzrjjDN6vT9R4HmeKisr890MoNd5jqPKso7rsgFRwpgOW5B12ICcwxZkPTz6ZKFp7ty5We974IEH6vnnn9/tfq7rasaMGZoxY0YPWmavIAi0du1ajRo1qtMFxoCoCIzR2h0pjeoXyyzWDUQNYzpsQdZhA3IOW5D18ODqICtBEGj16tUdHo8NRE1gpNUNqTZPRAOihjEdtiDrsAE5hy3IenhQaAIAAAAAAEBOUGgCAAAAAABATvSo0HTYYYdpzpw5SiaTuWoP+ijXdVVeXs69sIg815HKizy5LM+ECGNMhy3IOmxAzmELsh4ePbpCb7zxhr761a9qzJgxuu6667RmzZpctQt9jOu6mjBhAl9qRJ7rOJowMM5C4Ig0xnTYgqzDBuQctiDr4dGjK/TII4/ok5/8pDZs2KCZM2dq33331amnnqqXXnopV+1DHxEEgZYvX87Ca4i8wBgt35ZQYFgNHNHFmA5bkHXYgJzDFmQ9PHpUaPrSl76kl156Sf/61790/vnnq7CwUE888YQ+9alPqaqqSvfcc4927NiRq7Yij4Ig0MaNG/lSI/ICI21s8nnqHCKNMR22IOuwATmHLch6eORkztmBBx6ou+++W2vWrNGdd96p/fffX0uWLNGFF16o0aNH6/LLL9fbb7+di7cCAAAAAABAH5XTmxsHDhyoSy65RLW1tfrzn/+sk08+WfX19frZz36myspKffrTn9YLL7yQy7cEAAAAAABAH9Erq2g1NDTo7bff1jvvvCNJMsbIcRw999xzOuGEEzR9+nTV19f3xlujl7iuq4qKChZeQ+S5jlRREuOpc4g0xnTYgqzDBuQctiDr4ZHTK7Rs2TJdcsklGj16tC6++GL97//+rz71qU/pySefVF1dnX75y19qn3320Z/+9CddeeWVuXxr9DK+1LCF6ziqKCngqXOINMZ02IKswwbkHLYg6+HR4ytkjNFTTz2lE044QZWVlZo9e7aSyaS+/vWva/HixfrrX/+qz372syopKdF5552nxYsXa99999UzzzyTi/ZjL/F9X0uXLpXv+/luCtCrfGO0tK5ZPk+dQ4QxpsMWZB02IOewBVkPj1hPDv7Rj36ku+++W++9956MMRozZowuvPBCnX/++Ro8eHCnx5SUlOiTn/ykfvOb3/TkrbGXGWNUX18vww/fiDhjpPpEIGMkMakJEcWYDluQddiAnMMWZD08elRomjFjhiTpiCOO0KWXXqr/+I//kOd5uz3uoIMO0lFHHdWTtwYAAAAAAEAf06NC01e/+lVdeumlmjJlSreOu+qqq3TVVVf15K0BACHW+v9EJZLJHp2roCAmhzW1AAAAgD6hR4Wm+++/P0fNQF/nuq7Gjx/PwmuIPNeRxg8o4KlzvSwZ7Cw03Tz7oR6d66bLz1U8XtDTJlmFMR22IOuwATmHLch6ePToCnmep69//eu73e/8889XLNajmhbyzHVdDRs2jC81Is91HA0rjvHUOUQaYzpsQdZhA3IOW5D18OhR9ccYk/VCXCzYFW6+72vJkiU66KCDslqHCwgr3xgt2dKsgwYXyqPYtFfMOGqMigu699dRwg9089xVvdSi6GNMhy3IOmxAzmELsh4ee2Wa0Y4dO1RQwG0NYWaMUWNjIwVDRJ4xUqNveOrcXhT3HMVj/J+pvYkxHbYg67ABOYctyHp49Pq/7Ovq6vT3v/9dI0eO7O23AgAAAAAAQB51e0bT+PHj2/z58ccf19y5czvdN5VKaf369fJ9X9/85jf3qIEAAAAAAAAIh24XmlauXJn5veM4+vDDD/Xhhx92uX88HtfnPvc5zZw5c48aiL7B8zxNnDiRe2EReZ4jTSyNy+O2OUQYYzpsQdZhA3IOW5D18Oh2oendd9+V1HJ/5Pjx4/XFL35Rs2bN6nTfeDyu8vJynjgXAY7jqKysLN/NAHqd4zgqK+QvL0QbYzpsQdZhA3IOW5D18Oh2BWjcuHGZ35999tk68sgj22xDNKVSKS1cuFBTpkyhcIhISwVGCzc3a8qQQsVcpjUhmhjTYQuyDhuQc9iCrIdHj67Offfdl6t2IAR83893E4C9wudJFrAAYzpsQdZhA3IOW5D1cOB50gAAAAAAAMiJbs1o+trXvibHcTRz5kwNHz5cX/va17I+1nEc/frXv+52AwEAAAAAABAO3So03X///XIcR9/97nc1fPhw3X///VkfS6Ep3DzPU1VVFSv8I/I8R6oaXMhT5xBpjOmwBVmHDcg5bEHWw6Nbhab0mkwjR45s82fYIR6P57sJwF4RZxFwWIAxHbYg67ABOYctyHo4dKvQdPbZZ+/yz4gu3/c1f/58VVdXs8I/Is030vxNTaoeWqQY9SZEFGM6bEHWYQNyDluQ9fBgMXAAAAAAAADkRK+VAd99910tXrxY48aN08EHH9xbbwMAAAAAAIA+okczmp5++ml9/vOf1xtvvNFm+6xZs3TAAQfo85//vA455JBuPZ0OAAAAAAAA4dSjQtODDz6o5557TpWVlZlttbW1uuaaa2SM0eTJk9WvXz898MADeuaZZ3rcWOSP53mqrq5mhX9EnudI1UOLeOpcH2eMyfw+kUwqkejZr9bnswFjOmxB1mEDcg5bkPXw6NGtcwsXLtTkyZM1YMCAzLY5c+ZIku666y594xvfUG1traqqqvTLX/5SJ598cs9ai7xKJBIqLi7OdzOAXpcIjIqpNPVpyWBnYejm2Q/1+Hw3XX6u4vGCHp8nTBjTYQuyDhuQc9iCrIdDj2Y0bdq0SaNHj26zbe7cuSouLtY555wjSZo4caI++clP6q233urJWyHPfN/X4sWL5ft+vpsC9CrfSIu3NMu3a4ILLMOYDluQddiAnMMWZD08ejSjqampqc20Nd/3tWDBAh122GGKx+OZ7aNGjdJrr73Wk7cCAKBTM44ao+KC7v91lvAD3Tx3VS+0CAAAALBXjwpNw4YN09tvv53582uvvabGxkYdccQRbfZrbGxUSUlJT94KAIBOxT1H8ViPJugCAAAAyJEe/cv88MMP16JFi/TII4+ovr5eM2fOlOM4Ou6449rst3TpUo0aNapHDUX+segabOE5rM+E6GNMhy3IOmxAzmELsh4OPSo0ffe731UsFtNXvvIVDR48WH/60580depUHXXUUZl93n//fdXW1qqmpqbHjUX+xGIx1dTUKBbr0SQ4oM+LuY5qyosUcyk2IboY02ELsg4bkHPYgqyHR48KTVOnTtWzzz6radOmqbKyUuecc47+8Ic/tNnn0UcfVWlpqY499tgeNRT5ZYxRXV2ddY8Ah32MMapr9sk6Io0xHbYg67ABOYctyHp49HhRi2OPPVZ/+9vftGTJEv33f/+3hg8f3ub1K6+8Ulu3btWXv/zlnr4V8sj3fdXW1rLCPyLPN1JtfYKnziHSGNNhC7IOG5Bz2IKshwerpwIAAAAAACAnKDQBAAAAAAAgJ3pcaHrvvfd0wQUXaP/991e/fv3keV6nv1iwK9wcx1FxcbEcnsaFiHMcqdhzRNQRZYzpsAVZhw3IOWxB1sOjR9Wf2tpaHXHEEVktyMWCXeHmeZ4mT56c72YAvc5zHE0eUpTvZgC9ijEdtiDrsAE5hy3Ienj0aEbTtddeq61bt+qEE07Qa6+9pvr6egVB0OUvhFcQBNqwYQPXEZEXGKMNjSkFFMcRYYzpsAVZhw3IOWxB1sOjR4Wml156SWPHjtVTTz2lQw89VAMGDMhVu9DHBEGgFStW8KVG5AVGWrE9qYA6EyKMMR22IOuwATmHLch6ePSo0LRjxw4deuihisfjuWoPAAAAAAAAQqpHhabx48eroaEhV20BAAAAAABAiPWo0HTWWWfp5Zdf1saNG3PVHvRRjuOotLSUFf4ReY4jlcZdnjqHSGNMhy3IOmxAzmELsh4ePSo0XXnllfrEJz6hk046SUuWLMlVm9AHeZ6nyspKeZ6X76YAvcpzHFWWFcrjLzBEGGM6bEHWYQNyDluQ9fCI9eTgE044QclkUgsWLNDBBx+ssWPHauzYsXLdjvUrx3H0wgsv9OTtkEdBEGjt2rUaNWpUp9cXiIrAGK3dkdKofjG5FJsQUYzpsAVZhw3IOWxB1sOjR4WmuXPnZn4fBIFWrlyplStXdrov09vCLQgCrV69WiNGjOBLjUgLjLS6IaURxTG5DFuIKMZ02IKswwbkHLYg6+HRo0LTiy++mKt2AAAAAAAAIOR6VGiaNm1artoBAAAAAACAkGO+GbLiuq7Ky8uZoojIcx2pvMjjtjlEGmM6bEHWYQNyDluQ9fDo0YymNGOM/vSnP+n//b//p40bN+rf/u3f9LWvfU2StHHjRm3dulUTJkxgdfgQc11XEyZMyHczgF7nOo4mDIznuxlAr2JMhy3IOmxAzmELsh4ePS4FLlq0SJWVlTr55JM1c+ZM3Xvvvfr73/+eef0vf/mLKisr9eyzz/b0rZBHQRBo+fLlCoIg301BnhhjlEgk9/xXMtnmXH1VYIyWb0so6MNtBHqKMR22IOuwATmHLch6ePRoRtPq1at13HHHafPmzfr0pz+to48+WldffXWbfT73uc+poKBATz31lE4++eQeNRb5EwSBNm7cqHHjxjFV0VLJZEo/+Ml9OTlXYAJJfXOGY2CkjU2+xvUv4PY5RBZjOmxB1mEDcg5bkPXw6NHVmTlzpjZv3qw777xTf/jDH3TVVVd12Kdfv36aPHmy5s2b15O3AgAAAAAAQB/XoxlNzz33nCZOnKhLLrlkl/vts88+evHFF3vyVgD6kO8fPU5xr3t16g8TKd32yvu91CIAAAAAQF/Qo0LT2rVrdcopp+x2P8dxtG3btp68FfLMdV1VVFQwRRGSpLjnKh7rXhbifjiy4zpSRUmM2+YQaYzpsAVZhw3IOWxB1sOjR4WmkpISbdy4cbf7vfvuuxo8eHBP3gp5lv5SA1HnOo4qSgry3QygVzGmwxZkHTYg57AFWQ+PHpUCJ02apDfffFObNm3qcp9Vq1Zp0aJFOuSQQ3ryVsgz3/e1dOlS+b6f76YAvco3RkvrmuXz1DlEGGM6bEHWYQNyDluQ9fDoUaHpzDPP1Pbt23Xeeedpx44dHV5PJBK68MILlUwmdeaZZ/bkrZBnxhjV19f36cfSA7lgjFSfCETUEWWM6bAFWYcNyDlsQdbDo0e3zp177rmaM2eOnn76aU2cOFEnnniiJGnRokW65JJL9PTTT+u9997Tcccdp9NOOy0nDQYAAAAAAEDf1KMZTZ7n6ZlnntGXv/xlrVmzRvfee68kaeHChZo9e7bee+89feELX9Dvf//7nDQWAAAAAAAAfVePZjRJUv/+/TVnzhxdd911evbZZ7VixQoFQaAxY8bopJNO0sEHH5yDZiLfXNfV+PHjWeEfkec60vgBBTx1DpHGmA5bkHXYgJzDFmQ9PHpcaEqbOHGiJk6cmKvToY9xXVfDhg3LdzOAXuc6joYV52xoBPokxnTYgqzDBuQctiDr4dGjn6YWLlyov/zlL3rrrbe0efNmOY6jwYMHa9KkSTrhhBNUVVWVq3Yiz3zf15IlS3TQQQfJ87x8NwfoNb4xWrKlWQcNLpTnMK0J0cSYDluQddiAnMMWZD089qjQtGrVKp133nn629/+ltmWXvnd+egHs+9+97s64YQT9Mtf/lJjxozJQVORT8YYNTY2ssI/Is8YqdE3LU+do86EiGJMhy3IOmxAzmELsh4e3S40vfvuuzriiCP0wQcfyBijwYMHa+rUqRo6dKiCINCmTZu0cOFCbd26VX/+8591+OGH6+9//7vGjRvXG+0HAAAAAABAH9HtQtPXvvY1rV+/Xvvvv7/uvPNOnXTSSZ3u98c//lGXX3653nnnHX3961/XX//61x43FgAAAAAAAH1Xt5Zrnzdvnl566SUdcMABeuONN7osMknSZz7zGc2bN0/777+/XnzxRb355ps9bizyx/M8TZw4kXthEXmeI00sjcvjtjlEGGM6bEHWYQNyDluQ9fDoVqHp0UcfleM4uvPOO1VaWrrb/UtLS3XnnXfKGKNHH310jxuJ/HMcR2VlZZk1uICochxHZYUeWUekMabDFmQdNiDnsAVZD49uFZrefPNNDRo0SCeeeGLWx5x00kkaPHiw5s2b1+3Goe9IpVKaN2+eUqlUvpsC9KpUYDRvY5NSAYsMIroY02ELsg4bkHPYgqyHR7cKTW+//bamTJnS7TeZOnWq3n777W4fh77F9/18NwHYK3yeZAELMKbDFmQdNiDnsAVZD4duFZrq6+s1dOjQbr/J0KFDVV9f3+3jAAAAAAAAEB7dKjQ1NDSouLi4229SWFiohoaGbh8HAAAAAACA8OhWoclwO4m1PM9TVVUVK/wj8jxHqhpcyFPnEGmM6bAFWYcNyDlsQdbDI9bdA9555x09+OCD3T4G4RePx/PdBGCviLtUmRB9jOmwBVmHDcg5bEHWw6HbhaZ//OMf+sc//tGtY4wxPIIw5Hzf1/z581VdXa1YrNuxAULDN9L8TU2qHlqkGMMWIooxHbYg67ABOYctyHp4dOvqjB07dq8UjD788EPNmjVLr7/+ut544w1t3bpV9913n84555w2+51zzjl64IEHOhz/sY99TLW1tW22BUGgH//4x/rFL36hdevW6YADDtCMGTP05S9/uTe7AgDoo1rfDp5IJnt0roKCGP9DBQAAAFA3C00rV67spWa0tWnTJt10000aO3asJk+erLlz53a5b2Fhoe69994220pLSzvsd+211+rWW2/V+eefr5qaGj311FM644wz5DiOTj/99Fx3AQDQxyWDnYWmm2c/1KNz3XT5uYrHC3raJAAAACD0+uR8s5EjR2rdunUaMWKE5s+fr5qami73jcViOvPMM3d5vjVr1uj222/XRRddpNmzZ0uSzjvvPE2bNk3f+c53dOqpp7KgGAAAAAAAQA/1yUJTYWGhRowYkfX+vu+roaFBAwcO7PT1p556SslkUhdeeGFmm+M4uuCCC3TGGWfo1Vdf1Sc/+cketzvKPM9TdXU1BTlEnudI1UOLeOqcZWYcNUbFBd37KzHhB7p57qpealHvYkyHLcg6bEDOYQuyHh5uvhvQUzt27NDAgQNVWlqqwYMH66KLLtKHH37YZp+FCxeqpKRElZWVbbYfeuihmdexe4lEIt9NAPaKRKtbqmCHuOcoHnO798sL91+hjOmwBVmHDcg5bEHWw6FPzmjK1siRI3X11Vdr6tSpCoJAzz33nO666y4tWrRIc+fOzaxEv27dOg0fPrzDQq0jR46UJK1du7bL92hublZzc3Pmz9u2bZMkpVIppVIpSZLrunJdV0EQKAiCzL7p7b7vt1l0tqvtnufJcZzMeVtvl1pmbmWzPRaLyRjTZrvjOPI8r0Mbu9revk++72vRokU65JBDFI/HI9Gn3bWdPrVtu+/7cj/6ChljWtrerh4Tc50O2x1H8hxHgTGZ431j5BuT2d66ruM6ktvF9vT5nI/OkQpMZn/fGLXqkjyn5XNLtTqJb9r+vvVr6RlMCd9o0eYmTR1SJM/t2CffGDmOZIwUtDtH67521Se/1ecQfNSe9m3fXZ/8dp+lyZyn7fXwMvuoU66z83Poqu2dbfeNkSPJqONn0FXb229P9yF9aKpdca+rtnut+t36M5C0y+x11afW52j5c9fXr32f0tfPcVq+I6lUy8nCMEYEQaDFixdrypQpbf6vIOMefYpan9L/fqmpqZHneZHoU1qUrhN96lmfEomEFi1apKlTp8rzvEj0KYrXiT71vE+S2mQ9Cn0K03Vqv31XQl1ouuWWW9r8+fTTT9cBBxyga6+9Vo8//nhmke/GxkYVFhZ2OL6oqCjz+q7e48Ybb+ywPT1LSpLKy8s1YcIEvfvuu9q4cWNmn4qKClVUVGjZsmWqr6/PbB8/fryGDRumJUuWtHnviRMnqqysTAsXLmwTtKqqKsXjcc2fP79NG6qrq5VIJLR48eLMNs/zVFNTo/r6+jZP3isuLtbkyZO1adMmrVixIrO9tLRUlZWVWrt2rVavXp3Z3r5PxhjV1dVp3bp1GjduXCT6FMXr1Jt9CgKj/UeXSWopDjT6Rou37CzCeo6jmvIi1ScC1dbv/D8NxZ6jyUOKtDURZI5ftDWlwUVGlWWFWrsjpdUNOwet8iJPEwbG9e72pDY27WxLRUlMZTFHFUNK1K+oQIu2puS5vsYPKNCw4piWbGlWY6sqw8TSuMoKPS3c3JwpRPiBUTzmKuUHmeMz12lokRKB0aLNzapLBFqwuVkxt2Of/MBon2ED9O4H27UlYbSmvmnndYq7u+3T+h2pzOfwQVOg8YXSsvqE6hM7/1LYXZ/+tz7Z5rOcMjSmuOto/qadbWndp/bXqXJgTCWFMVWU9898DunrtKnJ14rtO5/A1lmf/MBo+KBird/aqPd3+KpLtr1OFSUFu+2T/1GeVm9smYHa+jpJUtXgwl32aUndzs9gSV1Khw2Pd5m9rvq0oaltJkf0U5fZ66xPY/q1/BW6z7ABWrhwodyPqlZhGCPS/6PlnXfe0fbt23deJ8Y9+hSxPhljMu8TlT5J0btO9KlnfXrnnXdUV1enBQsWyHGcSPQpiteJPvW8T1OmTFEqlcpkPQp9CtN16s6dYI5pXcLqg9KLgd93330655xzdrt/Y2Oj+vfvr3PPPTfzNLrp06dr6dKlWr58eZt9d+zYoZKSEl1zzTUdilZpnc1oGjNmjDZv3pxZE8qGqqjv+1qwYAEzmizuUzKZ0g9//qAk6fpj9lE85nZrRtO2pqRuffk9SdL3po1Rcbyg2zOadiR8/edLq+R8dI6igoJuzWhqSKR0y0stbfj+0S3Ht95fapnRtCAzo8np0KeGREq3vvyejJGuO3qMCludI5sZTdubU/rRR5/DtdPGqKQw3u0ZTfVNycw5vjdtjEo+etpZtjOampK+bp67Sq6z83PszoymhkRKt770now6fgbZzmhqSLR8DoGRrj9mrApibf+/x+5mNG1r9Tl+b9oY9S+Md3tGU/tM9osXdGtGU8oPdMPfVspxpB98+6sq+GiNpzCMEUEQaMGCBcxook+R71P63y/MaKJPUe5Tc3OzFixYwIwm+hT5PknSvHnzmNGUpz5t3bpVQ4YMUX19fZfrY2f6tctXQ6i4uFhDhgzRli1bMttGjhypF198UcaYNrfPrVu3TpI0atSoLs9XWFjY6WyoWCyWuTUvLX3B2mv9j/hstrc/755sdxyn0+1dtTGb7bFYLPP7qPSpNfq067YHwc4fvh3HaWl7Jwtmd7W95Qf4j97fceR99F10HSdz+1L7/TvbbkzLLVue01IEyvTJ+eieuvZtb79Pq9/HOnmDltvl3EyRqX2fPMfJFBvcLs6xqz55rT4H96P2dNX2XW1v/Vmmx7XOPvddbQ9Mx88hm+vhOY5Mq+2dfo676VPrPkjq9By7anv7z0Dadfa66lPrc6SvR1f7t+9TELT8wZiW71T7709fHiNSqZQ8z+u03RLjXne306e+3af076PUpzT6RJ+knX8HtR/Tw96nztAnu/uUSqU6zfqetL2v9EkK/3XqTLhXMu3E9u3btWnTJpWXl2e2HXzwwdqxY4eWLl3aZt/XX3898zp2LRaLqaamplvhAsIofbtcV4UPIAoY02ELsg4bkHPYgqyHR2gLTU1NTW3WlUj74Q9/KGOMTjzxxMy2U045RQUFBbrrrrsy24wxuvvuuzV69Ggdfvjhe6XNYZZeo6mP32kJ9JgxRnXNPllHpDGmwxZkHTYg57AFWQ+PPlsKnD17turq6jJPhHvmmWcyC159+9vf1tatWzVlyhR9+ctf1sSJEyVJzz//vJ599lmdeOKJOuWUUzLnqqio0GWXXaZZs2YpmUyqpqZGTz75pF555RXNmTOnyylj2Mn3fdXW1qq6upoKMiLNN1JtfULVQ4u6vG0LCDvGdNiCrMMG5By2IOvh0Wevzo9//GOtWrUq8+ff//73+v3vfy9JOvPMM1VWVqbp06frL3/5ix544AH5vq/99ttPM2fO1FVXXdXh3sRbb71VgwYN0j333KP7779f+++/vx566CGdccYZe7VfAAAAAAAAUdVnC00rV67c7T6/+c1vsj6f67qaMWOGZsyY0YNWAQAAAAAAoCuhXaMJe5fjOCouLm7z1D4gihxHKvYcEXVEGWM6bEHWYQNyDluQ9fDoszOa0Ld4nqfJkyfnuxlAr/McR5OHFOW7GUCvYkyHLcg6bEDOYQuyHh7MaEJWgiDQhg0bFARBvpsC9KrAGG1oTCngaRaIMMZ02IKswwbkHLYg6+FBoQlZCYJAK1as4EuNyAuMtGJ7UgF1JkQYYzpsQdZhA3IOW5D18KDQBAAAAAAAgJyg0AQAAAAAAICcoNCErDiOo9LSUlb4R+Q5jlQad3nqHCKNMR22IOuwATmHLch6ePDUOWTF8zxVVlbmuxlAr/McR5VlhfluBtCrGNNhC7IOG5Bz2IKshwczmpCVIAi0evVqFl5D5AXGaHVDkqfOIdIY02ELsg4bkHPYgqyHB4UmZIUvNWwRGGl1Q4qnziHSGNNhC7IOG5Bz2IKshweFJgAAAAAAAOQEhSYAAAAAAADkBIUmZMV1XZWXl8t1iQyizXWk8iJPLg+zQIQxpsMWZB02IOewBVkPD546h6y4rqsJEybkuxlAr3MdRxMGxvPdDKBXMabDFmQdNiDnsAVZDw9KgchKEARavnw5C68h8gJjtHxbgqfOIdIY02ELsg4bkHPYgqyHB4UmZCUIAm3cuJEvNSIvMNLGJp+nziHSGNNhC7IOG5Bz2IKshweFJgAAAAAAAOQEhSYAAAAAAADkBIUmZMV1XVVUVLDCPyLPdaSKkhhPnUOkMabDFmQdNiDnsAVZDw+eOoespL/UQNS5jqOKkoJ8NwPoVYzpsAVZhw3IOWxB1sODUiCy4vu+li5dKt/3890UoFf5xmhpXbN8njqHCGNMhy3IOmxAzmELsh4eFJqQFWOM6uvrZfjhGxFnjFSfCETUEWWM6bAFWYcNyDlsQdbDg0ITAAAAAAAAcoI1mgAA2AOt/29aIpns8fkKCmJyHFahBwAAQLhRaEJWXNfV+PHjWeEfkec60vgBBTx1DruVDHYWmm6e/VCPz3fT5ecqHt87C9EzpsMWZB02IOewBVkPDwpNyIrruho2bFi+mwH0OtdxNKyYoRHRxpgOW5B12ICcwxZkPTz4aQpZ8X1fS5Ys0UEHHSTP8/LdHKDX+MZoyZZmHTS4UB63MSFLM44ao+KC7v+VmvAD3Tx3VS+0aNcY02ELsg4bkHPYgqyHB4UmZMUYo8bGRlb4R+QZIzX6puWpc9SZkKW45ygeC880bsZ02IKswwbkHLYg6+ERnn8VAwAAAAAAoE+j0AQAAAAAAICcoNCErHiep4kTJ3IvLCLPc6SJpXF53DaHCGNMhy3IOmxAzmELsh4erNGErDiOo7Kysnw3A+h1juOorJC/vBBtjOmwBVmHDcg5bEHWw4MZTchKKpXSvHnzlEql8t0UoFelAqN5G5uUClhkENHFmA5bkHXYgJzDFmQ9PCg0IWu+7+e7CcBe4fMkC1iAMR22IOuwATmHLch6OFBoAgAAAAAAQE5QaAIAAAAAAEBOUGhCVjzPU1VVFSv8I/I8R6oaXMhT5xBpjOmwBVmHDcg5bEHWw4NCE7IWj8fz3QRgr4i7VJkQfYzpsAVZhw3IOWxB1sOBQhOy4vu+5s+fz+JriDzfSPM3NclnPXBEGGM6bEHWYQNyDluQ9fCg0AQAAAAAAICciOW7AQD2DmOMksnUHh+fSCbbnAsAAAAAgPYoNAGWSCZT+sFP7svJuQITSGIRPgAAAABAW9w6h6x4nqfq6mpW+EfkeY5UPbSIp84h0hjTYQuyDhuQc9iCrIcHM5qQtUQioeLi4nw3Aznw/aPHKe51r878YSKl2155v5da1LckAqNiKk2IOMZ02IKswwbkHLYg6+HAjCZkxfd9LV68mBX+IyLuuYrHuvmrm4WpsPKNtHhLM0+dQ6QxpsMWZB02IOewBVkPDzt+cgQAAAAAAECvo9AEAAAAAACAnKDQhKyx6Bps4Tmsz4ToY0yHLcg6bEDOYQuyHg4sBo6sxGIx1dTU5LsZQK+LuY5qyovy3QygVzGmwxZkHTYg57AFWQ8PZjQhK8YY1dXVyRhWSEa0GWNU1+yTdUQaYzpsQdZhA3IOW5D18KDQhKz4vq/a2lpW+Efk+UaqrU/w1DlEGmM6bEHWYQNyDluQ9fCg0AQAAAAAAICcoNAEAAAAAACAnKDQhKw4jqPi4mI5PI0LEec4UrHniKgjyhjTYQuyDhuQc9iCrIcHT51DVjzP0+TJk/PdDKDXeY6jyUN46hyijTEdtiDrsAE5hy3IengwowlZCYJAGzZsUBAE+W4K0KsCY7ShMaWAp1kgwhjTYQuyDhuQc9iCrIcHhSZkJQgCrVixgi81Ii8w0ortSQXUmRBhjOmwBVmHDcg5bEHWw4NCEwAAAAAAAHKCQhMAAAAAAABygkITsuI4jkpLS1nhH5HnOFJp3OWpc4g0xnTYgqzDBuQctiDr4cFT55AVz/NUWVmZ72YAvc5zHFWWFea7GUCvYkyHLcg6bEDOYQuyHh7MaEJWgiDQ6tWrWXgNkRcYo9UNSZ46h0hjTIctyDpsQM5hC7IeHhSakBW+1LBFYKTVDSmeOodIY0yHLcg6bEDOYQuyHh4UmgAAAAAAAJATFJoAAAAAAACQExSakBXXdVVeXi7XJTKINteRyos8uTzMAhHGmA5bkHXYgJzDFmQ9PHjqHLLiuq4mTJiQ72YAvc51HE0YGM93M4BexZgOW5B12ICcwxZkPTwoBSIrQRBo+fLlLLyGyAuM0fJtCZ46h0hjTIctyDpsQM5hC7IeHhSakJUgCLRx40a+1Ii8wEgbm3yeOodIY0yHLcg6bEDOYQuyHh4UmgAAAAAAAJATFJoAAAAAAACQEywGjqy4rquKigpW+EfkuY5UURLjqXPYK0yrtcASyWSPzlVQEJPjZBdcxnTYgqzDBuQctiDr4UGhCVlJf6mBqHMdRxUlBfluBiyRbLUY2M2zH+rRuW66/FzF49lllzEdtiDrsAE5hy3IenhQCkRWfN/X0qVL5ft+vpsC9CrfGC2ta5bPU+cQYYzpsAVZhw3IOWxB1sODGU3IijFG9fX1bW7zAKLIGKk+EcgYSdw+h71oxlFjVFzQvb+WE36gm+eu6vZ7MabDFmQdNiDnsAVZDw8KTQAA9AFxz1E8xkRjAAAAhBv/ogUAAAAAAEBOUGhCVlzX1fjx41nhH5HnOtL4AQU8dQ6RxpgOW5B12ICcwxZkPTy4dQ5ZcV1Xw4YNy3czgF7nOo6GFTM0ItoY02ELsg4bkHPYgqyHB6VAZMX3fS1atIgV/hF5vjFatLmJp84h0hjTYQuyDhuQc9iCrIcHhSZkxRijxsZGVvhH5BkjNfpGRB1RxpgOW5B12ICcwxZkPTwoNAEAAAAAACAnKDQBAAAAAAAgJ/pkoenDDz/U9ddfrxNPPFGDBw+W4zi6//77O9136dKlOvHEE9W/f38NHjxYZ511ljZu3NhhvyAIdNttt2nfffdVUVGRqqqq9PDDD/dyT6LD8zxNnDhRnufluylAr/IcaWJpXB5PnUOEMabDFmQdNiDnsAVZD48+WWjatGmTbrrpJi1dulSTJ0/ucr/Vq1frqKOO0jvvvKOZM2fqqquu0h//+Ecdf/zxSiQSbfa99tpr9d3vflfHH3+8fv7zn2vs2LE644wz9Mgjj/R2dyLBcRyVlZXJcfjpG9HmOI7KCj2yjkhjTIctyDpsQM5hC7IeHn2y0DRy5EitW7dOq1at0qxZs7rcb+bMmWpoaNDf/vY3XXLJJfre976nRx99VIsWLWozA2rNmjW6/fbbddFFF+mXv/ylzj//fD3zzDM68sgj9Z3vfIdV67OQSqU0b948pVKpfDcF6FWpwGjexialAhYZRHQxpsMWZB02IOewBVkPjz5ZaCosLNSIESN2u98TTzyh6dOna+zYsZltxx13nA444AA9+uijmW1PPfWUksmkLrzwwsw2x3F0wQUXaPXq1Xr11Vdz24GIoiAHW/g8yQIWYEyHLcg6bEDOYQuyHg59stCUjTVr1mjDhg2qrq7u8Nqhhx6qhQsXZv68cOFClZSUqLKyssN+6dcBAAAAAADQM7F8N2BPrVu3TlLLbXbtjRw5Ulu2bFFzc7MKCwu1bt06DR8+vMO9nOlj165d2+X7NDc3q7m5OfPnbdu2SWqZtpeesue6rlzXVRAECoIgs296u+/7Mq1mSHS13fNa1oVpPxUwvdhZ++ptV9tjsZiMMW22O44jz/M6tLGr7e37lG5rep8o9Gl3bY9an1q/j29Mm1vDPKflPdrfLpZeENs3Lce4H/3ZGNPS9nYTf2Ku02G740ie4yhodbxvjHxjMttbv63rSG4X29Pnc1r1Ib2/b4xaT0TqrE+tZyp19hlIkh981LePXmvfJ98YOY5kjBS0O0frvnbVp9afY5C+Nu3avrs++e0+y8w1bnc9Wl+/zrjOzs+hq7Z3tt03Ro4ko46fQVdtb7893Yf0obvKXufb234GknaZva761PocLX/u+vq171P6+jlO2zxl831K21Umd/d9CkxLXl2n5VpIynqMaD2Wtxa1cY8+0afW54tKn9KidJ3oU276lH6PKPVpd9vpk119khjL89mn7tyyGNpCU2Njo6SW2+zaKyoqyuxTWFiY+e+u9uvKLbfcohtvvLHD9vQsKUkqLy/XhAkT9O6777Z54l1FRYUqKiq0bNky1dfXZ7aPHz9ew4YN05IlS9q898SJE1VWVqaFCxe2CVpVVZXi8bjmz5/fpg3V1dVKJBJavHhxZpvneaqpqVF9fb1qa2sz24uLizV58mRt2rRJK1asyGwvLS1VZWWl1q5dq9WrV2e2d9anIAj0wQcfaMyYMZHpkxS969RVn4LAqLRfXPU7EqqtT6q51Q+0E0vjKiv0tHBzc5sffKsGFyruOpq/qUl+YLT/6LKWc0lq9I0Wb9lZhPUcRzXlRapPBKqt37kYf7HnaPKQIm1NBJnjF21NaXCRUWVZodbuSGl1w85Bq7zI04SBcb27PamNTTs/34qSmMpijiqGlKhfUYEWbU3Jc32NH1CgYcUxLdnSrEZ/133yA6N4zFXKDzLHZ67T0CIlAqPFm5sVSFq4uVme27FPfmC0z7ABeveD7dqSMFpT37TzOsXd3fZp/Y5U5nP4oCnQ+EJpWX1C9Ymdfynsrk//W59s81lOGRrLXKfWMn1qd50qB8ZUUhhTRXn/zOeQvk6bmnyt2J7cZZ/8wGj4oGKt39qo93f4qku2vU4VJQW77VM6T6s3fih99Hl3lb3O+rSkbudnsKQupcOGx7vMXld92tDUNpMj+qnL7HXWp5FFLZOC9xk2oE2esvk+paULRTHPbXOO3X2f0n0KTMvnuKOppX/ZjhGjR49WVVWVVqxYofr6egUfjQfjxo1TeXm53npriRobd7Zz//33V2lpqRYuXCDf3/kZHHjggYrH45mZwe5Hlbu+Mu5J0RvL6VP3+5T+h3mU+hTF60Sf9rxPK1asUBAEmbE4Cn2K4nWiTz3vU3V1tfbdd982dySFvU9huk7duRPMMa1LWH3Q/PnzVVNTo/vuu0/nnHNOh+0PPvigzjrrrDbHXH311Zo1a5aamppUWFio6dOna+nSpVq+fHmb/Xbs2KGSkhJdc801uuWWWzp9/85mNI0ZM0abN2/WwIEDJdlRFU3PZorFYvI8LxJ92l3bo9anZDKlG3/2oCTp+k/towJv552z2czAaEik9KOX35MkfX/aGBXHC7o1o2lbU1K3fnT89z46vrszmnYkfP3nS6vkfHSOooKCbs1oakikdMtLH/Xh6Jbj2/c1FbS8r/vR8e371JBI6daX35Mx0nVHj1Fhq3NkM6Npe/POz/HaaWNUUhjv9oym+qZk5hzfmzZGJfGCzHVqratZQU1JXzfPXSXX2fk5dmdGU0MipVtfek9GHT+DbGc0pfMUGOn6Y8aqINb2/3vsbkbTtlaf4/emjVH/wni3ZzS1z2S/eEG3ZjTtSKQ086X39P/bu/P4uOp6f/yvzzlntmSSmSRN23SlFKQFpCwtPAQUuCyuuNEKLg+wAvr93uv+Va/gdkG8oqBc78+VK1ARUJQv+kVURNlEEGhpaUubdEvTZm2SZk9m5myf3x+TmcxknSSznTmv5+MRSs+cOfP+zLxn+pl3PosQ8dcykU+zGdE0XU5mMqLJMG1889kmSAC3fHYzNE3N6DNCCJH22fDN/y/+2ZAIOTFyMCFxXEk9OMnxr33qWng8WtF87k133Kmf5WzT7NqU6L94vd4J5zu1TQml9DqxTfNrk2masCwLiqJACFESbSrF14ltmn+bVFVNXiMxW8npbXLS69Tb24uamhr09/cnayFTceyIpsS0t8QUulTt7e2orq5OjmKqq6vDM888Ayll2vS5xH2XLFky5eP4fL5JR0NpmgZt3BejxAs2XuKFyfT4+OvO5bgQYtLjU8U403HTNLFjx47kmlil0KbxSr1NdsqXXnW0gDIhxkmOAYCW/HI7FrcQAtokp091XEm5vyoE1NH3oiLEhC+v0x2XMj5NaHwb1PHfjCdpkyrS/3+y9goB7DgexfoF/uTtqW1ShUgWG5QprjFdm1KfR2U0nqlin+546nOZ+Fyb7Hmf7rgtJz4PmbweqhDJqVpTPQcztSm1DcD0uTeZ8c8BMH3uTdWm1GskXo+pzh/fpsT5cpLnMdM2zZSTM7XJVtKfx0w/I0zTxLZt27B+/fp4h2VcQS/xPhtvqs0Yk8+jqqZ9phX6cy+T4077LM/kONs0djy1/zJZ320usRe6TalK5XVKxTbN/jiAtDxPcHKbSvF1Ypvm3ybTNPHqq69OyPW5xF4sbQKc/zpNem7GZxaZpUuXora2dsKQNAB45ZVXcOaZZyb/fuaZZ+LnP/856uvrceqppyaPv/zyy8nbiYiI3O6rF6+EV538S8xUdMvGbc8eyVFEREREROQ0jt11DgCuuuoqPP7442hubk4ee+qpp7B//35s2rQpeew973kPPB4PfvzjHyePSSnx05/+FEuXLsX555+f17iJiIiKkVdV4NVm+TPLwhQRERERlbaiHdH0wx/+EH19fckd4f7whz8kF7z61Kc+hVAohJtvvhm//e1vcckll+Azn/kMhoaGcMcdd+CNb3wjNm/enLzWsmXL8NnPfhZ33HEHDMPAhg0b8Pvf/x7PP/88HnzwwSmHjBERERERERERUeaKttB055134siRsaH4jz76KB599FEAwEc+8hGEQiEsX74czz33HD7/+c/jy1/+MrxeL975znfie9/73oR1lW6//XZUVVXhZz/7GbZs2YKTTz4ZDzzwAD70oQ/ltV1OlVjln0U5KnWqiO9spk6xNhBRKUj9TLftzLeqJXIa9l/IDZjn5BbMdeco2kJTU1NTRueddtpp+Mtf/jLjeYqi4KabbsJNN900z8jcS9d1BAKBQodBlHO6LRFgpYlKHD/TyS2Y6+QGzHNyC+a6M3BhBcqIZVnYtWvXhO0YiUqNJYFdPbG0LeWJSg0/08ktmOvkBsxzcgvmunOw0ERERERERERERFlRtFPniIiIaHpSjg290w0j4/tZlgXbljAME5ZtT3o9IiIiIqK5YKGJMsZF18gtVMH1mcgZDHusMHTbDx/I+H6KAFbXhfD4P3Yj5RKwpQ2An/VUWth/ITdgnpNbMNedgYUmyoimadiwYUOhwyDKOU0R2FDrL3QYRDllS+BAW3+hwyDKOfZfyA2Y5+QWzHXnYKGJMiKlRH9/P0KhEARHe1AJk1KiX7cR8irMdXKUm96yHAFPZv+sSykxYEhUegSGDQvffb45x9ERFQb7L+QGzHNyC+a6c3AxcMqIZVloaGjgCv9U8iwJNPTr3HWOHMerCng1JaMfVVVwaMiAqirwquwKUOli/4XcgHlObsFcdw72LomIiIiIiIiIKCtYaCIiIiIiIiIioqxgoYkyIoRAIBDgXFgqeUIAAVWAqU6ljHlObsH+C7kB85zcgrnuHFwMnDKiqirWrVtX6DCIck4VAutquOsclTbmObkF+y/kBsxzcgvmunNwRBNlxLZtdHZ2wrbtQodClFO2lOiMmLAlVwOn0sU8J7dg/4XcgHlObsFcdw4Wmigjtm2jsbGRb2oqebYEGgcN2Bl8/+4bHEFv/2DaT//gMN8nVPRmk+dETsb+C7kB85zcgrnuHJw6R0SUAduW6B8cQkt3f/LYrvqDUCeZIq4oAuGKIKpCFagKVaAyWAZFYV2fiIiIiIhKHwtNRETT0A0Dh5s70NbZDcuyodsAEAYA2KoCMa7SJCwbti3R0z+Inv5BAICqKli6qBYrlywEB5ISEREREVEpY6GJMiKEQCgU4gr/VPKEAEJeBbZt4XBrF5paO2BZ8eG5UhEwA15gJH5uZEkVVG1c4UhKKIYFJWpAjepQowYsy8bRtmNobu9EuKoqzy0imiiR5/xIp1LH/gu5AfOc3IK57hwsNFFGVFXF2rVrCx0GUc4JAJXRQbx0oA26bgAALK8Go6oclt8D3ZJAlzXNBQRsrwbbq8GsDABSQo3o8PSPQI2ZONbdg8SIqGjMQMDryXmbiMZThcDasK/QYRDlHPsv5AbMc3IL5rpzcA4HZcS2bbS0tHDhNSppum7g1df3Y3dbD2K6AVtTEFtQgWhdGFbAizkN/xACVpkP0boqRBaH4yOiRm3dvQ8t7V2Q3PmL8syWEi3DBnedo5LH/gu5AfOc3IK57hwsNFFG+KamUjcwNIyXd9ajb3AYRlkl9KogIkurYQb9cyswTcL2exCrrUj+Xdo2GhqP4tXX92MkEs3KYxBlwpZAy7DJXeeo5LH/Qm7APCe3YK47BwtNROR67Z3HsW33vvgoJlWF7ffEp73leP53LFwOKQT6Bobw0mt70dTSwdFNRERERETkaFyjiYhcy5YSB5tacbTtGADADHgRq6nIeYEpwazwIxL0wXd8EIgaOHikFT19gzj9lFXwevjxTEREREREzsMRTZQRRVFQW1sLRWHKUGmwpcTrDY3JIpMeKkNsYSWgKoAw8haH9KiILgohVhOEFEBP/wBe2VmPgcHhvMVA7qMIoNavQuGmLVTi2H8hN2Cek1sw152DrxBlRFEUrF69mm9qKhn7G5vR2dMHCSBWWwGjqjw+kkkAUGLxP/NFCJgVAUTrqmBrKqIxHVt370NrR3cegyA3UYTA6kovFG4PTCWO/RdyA+Y5uQVz3Tn4ClFGbNvGoUOHuPAalYzO46NFpoWVMMv9YzdIALYv/mee2V4N0br4znRSStQfOoK9B5r4vqOss6XEoQGdu85RyWP/hdyAeU5uwVx3DhaaKCO2baOrq4tvanK01IW2JQB9QQWsMt8kJ3ryF9T4h1YVxBZWQg+XQQJo6zyO7a8fgG6YBYuJSo8tga6oxV3nqOSx/0JuwDwnt2CuOwcLTUTkGk2tx5L/r1eVwwz6pzm7gISAES5HbGEovivd4BC27W7ASCRW6MiIiIiIiIimxUITEbnC0dZjaG4bKzQVbZEphVXmRbQuDFtVMBKJYeuuBvQNDBU6LCIiIiIioimx0EQZURQFy5Yt48Jr5Eg9fQPY39SS+R2EnrtgZimxbpPl1WCYJra/vh9dx/sLHRY5nCKAZeUad52jksf+C7kB85zcgrnuHHyFKCN8U5NTRaIx7N7XCAAwyydZj2k8AUDR87vr3AykpiK6OL5IuC0l6g81FTokcjhFCCwr93DXOSp57L+QGzDPyS2Y687BV4gyYlkW6uvrYVlWoUMhyphl2djV0AjDtGB5NcSqyme+kwRgBQqy69y0FIHYwkoYFYG0w9w0jObCkhL1fTFYTCAqcey/kBswz8ktmOvOwUITZURKif7+/rRdu4iKmZQSDYeOYnB4BHK0SJP5PCE1p7HNmRDQq8uhV44VzPY1HoXNrcNolqQE+nWbhUoqeey/kBswz8ktmOvOwUITEZWklo4utHcdhwQQq62E1Iq0eDRbQsAIjy1k3nm8DzvrD8Lkb3aIiIiIiKgIsNBERCWnb2AI+w83AwCMqnJYAW+BI8odCeB43wC2v74fumEWOhwiIiIiInI5FpooI4qi4MQTT+TCa1T0TNPC6/sPQ8r44t9GZWDmO40notkPLEeiC0OQisDA0Ai27W5AJBordEjkAIoATqzwcNc5Knnsv5AbMM/JLZjrzsFXiDKiKAoWLlzINzUVvX2NzYjGdNiaAr0mCMx2Vy0BQDGLate56dg+DdHFYdiqgpFIDNt278PQcKTQYVGRU4TAwoDGXeeo5LH/Qm7APCe3YK47B18hyohlWdi5cydX+Keidqy7d2xdpgWVkHP5R0gCsMqKb9e5adheDdG6MGyPiphuYNvr+9A3MFTosKiIWVJi5/Eod52jksf+C7kB85zcgrnuHCw0UUaklIhEIlzhn4pWTDfQcOgIAMAIlcH2e+ZxNed9NEpNRXRxGJZPg2la2L5nP7p7+gsdFhUpKYGIJbnrHJU89l/IDZjn5BbMdedw3rcpIqJxpJTYe6AJhmnB8mowwmWFDqkgpKoguigMM+CFbUu8Vn8Qbce6Cx0WERERERG5CAtNROR4rR3dON43ACkAfUHF7NdlKiWKQGxhJcygDwCw9+ARHG5u529+iIiIiIgoL1hoooyoqoo1a9ZAVdVCh0KUZiQSxf6mFgCAES6H7dXmf1HF4YtpC4FYTUVyx71DR9uwr7GZxSZKUgWwJuSF6uKaLLkD+y/kBsxzcgvmunNk4RsZuYEQAuFwuNBhEKWJT5k7Atu2Yfk9ycLKvAgAKIEFBoWAXh2E1BR4eobR0tEFXTdw2imrCh0ZFQEhBMI+dtKo9LH/Qm7APCe3YK47B0c0UUZM08TWrVthmmahQyFKajvWjb7BIUgBxLI1ZU4CsModtevcdIzKMui1FZAAOnv6sGPPARgW38duZ9oSW7uiMO0SSXSiKbD/Qm7APCe3YK47BwtNlDFuI0nFJKabONDUCiA+ZU5q2RydUVrzicxyP2KLQpBCoG9gCK/tPVTokKgIWJxKSS7B/gu5AfOc3IK57gwsNBGRIzUeaYNpje4yl40pcyXOCngRrQvDVhVEItFCh0NERERERCWKhSYicqSu3j5IAHpN0N27zM2C7dXixSbP2Oivnr6hAkZERERERESlhoUmyoiqqjjjjDO4wj8VFbMyANvnyf6FlZHsX7NISE1FdGFl8u+v729E27HuAkZEhaAK4IxqH3edo5LH/gu5AfOc3IK57hwsNFHGvF5voUMgSrJVBXq4PFdXz9F1i4NU0z/69x48gkNH2iC5Zo+reBVWmcgd2H8hN2Cek1sw152BhSbKiGVZ2LZtGxdfo4IaGI4k/1+vKgdy9UXZDubmukXICMbXtzrc0o49+5tg26VdZKM4SwLbuqOwWFukEsf+C7kB85zcgrnuHCw0EZEjSClxcHSXOSC+uDXNn15VhlhNEBJAR3cPtu85AMPglrFERERERDQ3LDQRkSO0dx7H0PBwocMoSWZFALFFIUgh0DcwhK27GzASiRU6LCIiIiIiciAWmoio6JmmhYNHWmc+kebMCnjjO9KpCkYiMWzd1YC+Ae5IR0REREREs8NCE2VEVVWsX7+eK/xTQTQebYNumLA9eco/xZ0FFturIVoXhuXVYJgmXn19Pzq6egodFuWAKoD1C/zcdY5KHvsv5AbMc3IL5rpzsNBEGdN1vdAhkAsNjUTQ3NEJANBD+Vqk270fjVJTEV0chlnmhZQSr+8/jMaj3JGuFOk2X1NyB/ZfyA2Y5+QWzHVncO+3KZoVy7Kwa9curvBPeSWlxP7GZkgJmGVeWGVafh7YLsvP4xQrRSBWWwmjMr4jXWNzfEc6izvSlQxLArt6Ytx1jkoe+y/kBsxzcgvmunOw0ERERavreB96+gchBaBX5Ws0EwEAhIBeHUzfke71/dANo9CRERERERFREWOhiYiKkmXZ2N/UAgAwKssg87U+E6VJ7kinCPQPDmPrrgYMRyKFDouIiIiIiIoUC02UMS66Rvl0pLUD0ZgOW1VghPI9lY3ziVJZAS+ii8OwNQWRqI7X9h4qdEiUBargSuDkDuy/kBswz8ktmOvOkKcFT8jpNE3Dhg0bCh0GuUQ0pqOp9RgAwKguB5Q8fiEWANTh/D2eQ8R3pKuCr7MfVsQsdDg0T5oisKHWX+gwiHKO/RdyA+Y5uQVz3Tk4ookyIqVEX18fd56ivDh0pA22bcPyaTDLfPl9cAlAqhzUNAmpKvEd6crHXpODR7gjnRNJKdEXs/jaUclj/4XcgHlObsFcdw4WmigjlmWhoaGBK/xTzg0MjaC96ziA0QXACzG9xw7k/zGdQgjEqsuTf2071o2d9YdgmvxscBJLAg39Onedo5LH/gu5AfOc3IK57hwsNBFR0ZBS4sDhZgCAWe6D7fcUOCKaVErxTwLo7u3H1t0NiERjhYuJiIiIiIiKAgtNRFQ0unr60TswBCkAvap85jtQwUUXhmCrCoZHonhlVwP6BoYKHRIRERERERUQFwOnjAghEAgEILhLEeWIbds40NQCADAqyyC1Qu4oYRfwsZ3F9mmI1oXh6xwAdBOvvr4fp560EnULawodGk1DCCCgiqzMTE1dJ0E3jHldy+PR+O8MZRX7L+QGzHNyC+a6c7DQRBlRVRXr1q0rdBhUwlrauxCJxiBVATNUwDWSBAB1pHCP70BSUxFdHIavewDaiI49B5owPBLF6pVL2BEoUqoQWFeTnV3nDHus0HTbDx+Y17Vu/dxmeL2cMkvZw/4LuQHznNyCue4cnDpHGbFtG52dnbBtjvSg7DMME40t7QAAPVwOqRTwo0kCsDXuOjdbikCsthJGZbxI2NTagV0Nh2ByscaiZEuJzogJu8h2bdENA7o+vx/uREOp2H8hN2Cek1sw152DI5ooI7Zto7GxEdXV1VAKWQSgktTY3A7TtGB7VJjB7IyymBfpBwTXGpo1IaBXB2F7NXi7B9HV049tu/Zh3drVCPh9hY6OUtgSaBw0UO3L7hTVm96yHAHP7LoWQ7qJ7z4f3wRgviOiAI6KonTsv5AbMM/JLZjrzsFCExEV1Eg0hpaOLgCAXh1EVhaNoYIyg37Ymgp/Vz+GRiJ4ZVcD1q1ZjXBlsNChUY55VQGvNruOn9diR5GIiIiolLDQREQFdaipFVJKWH4PrIC30OFQlth+DyJ1VWmLhK9ZvQJLFy0odGhUxOYyIgoAdMvGbc8eyUFERERERDRbLDRRRoQQCIVCXNiXsqp/cBjHjvdCYnQ0U9HgukLZMH6R8PqDRzA0PIKTT1he6NBcTwgg5FWKbgDhXEZEEU2H/RdyA+Y5uQVz3TlYaKKMqKqKtWvXFjoMKiFSShxoagEAWEEfbG+RfBwJAGqk0FGUjtFFwu3+EXj7RtDc3oWh4ShWnbii0JG5mioE1oa5bhaVPvZfyA2Y5+QWzHXn4K8NKSO2baOlpYUr/FPWdPf2o29gCFLEd5orGhKA7eWuc9kkBIxwOaK1lZBCoHdgENv3HCh0VK5mS4mWYaPodp0jyjb2X8gNmOfkFsx152ChiTLCNzVlky0lDja1AgDMigCklt2dr+ZNcq2oXLDKfYjWhWFrCvSYXuhwXM2WQMuwCZt1Jipx7L+QGzDPyS2Y687BQhMR5V1HVy+GI1FIRcAIlxU6HMoj26shWlcFyz+2/fzBI22wWfEgIiIiIioJRbIoChFNR0oJwzDndQ3dMNKuV0hHWjsAAEa4DFJhvdttpKogVlsB9MR/G9V2rBuxaBRvPOVE+LyeGe5NRERERETFjIUmyoiiKKitrYXCokBBGIaJr991X9auZ0sbQOGmqxmGCeFRYFQEChbDtIQx8zk0Pym7hUgB9A0M4ZWd9XjjKSciXFlMOxCWJkUAtX4VCjdtoRLH/gu5AfOc3IK57hx8hSgjiqJg9erVfFNT1hhV5Si6vdWB+K5zSiz+J+VFdFEYtkdFTDfw6uv7cbT1WMFH3ZU6RQisrvRCKcb3IFEWsf9CbsA8J7dgrjsHRzRRRmzbxuHDh7Fq1Sq+sQvsqxevhFed/WswpJv47vPNOYho9iyvCrOsSLdWlwCkDxAsNuWL7VERrQvD2z0EbSSG/U0t6B0Ywqknr4RH4z9TuWBLicODBlZVcKoilTb2X8gNmOfkFsx15+CrQxmxbRtdXV1c4b8IeFUFXm0OP3MoTmXTSDSa/H8jVKSjmRIkv3znm1Ti6zbFqoOQALp6+vDKznoMDI0UOrSSZEugK2px17lRUkroupG1H47IKx7sv5AbMM/JLZjrzsFfFRNRXjQ1H0v+v+X3FHCFKCpaQsCsDMD2afB1DSAS1bF1VwPesGoZli2uhSjm4iQ5WrbXwbv1c5vh5cL2RERE5FIc0UREOdc/OIzu3r5Ch0EOYfs8iNZVwSzzQkqJfY3N2NXQCH2eOy8SEREREVHucUQTZURRFCxbtoxzYWnWpJQ40NRS6DBmR+iFjsD1pKogVlsJeyACT+8wunr6MPDaME57wypUhyoKHZ7jKQJYVq5x17lJzHUdPN2ycduzR3IQEc0H+y/kBsxzcgvmunOw0EQZSbypiWbreO8A+gaGIJ3yhVaAhaZiIQSMUBksvwe+7kHEdAPbX9+PE5YtxsJFCwsdnaMpQmBZOad2TSaxDh6VBvZfyA2Y5+QWzHXnYE+KMmJZFurr62FZVqFDIQeRUuLAkfhoJrM8UOBoMiQBWIH4n1QUbJ8HkboqGEE/AKCppQM79x4qcFTOZkmJ+r4YLC5aTSWO/RdyA+Y5uQVz3TkcXWh69tlnIYSY9Oell15KO/fFF1/EhRdeiLKyMixevBif/vSnMTQ0VKDInUdKif7+fu6kQ7PS3nkcwyNRSEXACPkLHc4scKnyoqMI6AsqEKutgFQEBoeHkzfxY2n2pAT6dZvPHZU89l/IDZjn5BbMdecoialzn/70p7Fhw4a0YyeddFLy/1977TVceumlWLt2Lb7//e+jpaUFd955Jw4cOIA///nP+Q6XyBUsy8aho20AACNUBqkqAPjbB5ofs9wPy+eB6BwERuLH9uxvwhmnnAAfd/kiIiIiIiq4kig0vfnNb8bGjRunvP3mm29GVVUVnn32WVRWVgIATjjhBNx444148sknccUVV+QrVCLXaG7vREw3YKsKjIoAYPM3D5QdUlMRq60AemwAQE//AF56bS/Wrl6JhTXhwgZHRERERORyjp46l2pwcBCmOXHr64GBAfz1r3/FRz7ykWSRCQCuvfZaBINB/OY3v8lnmI6lKApOPPFErvBPGdENE00tHQAAo6ocjtvaSkQLHQHNRIzllO1RYRgmdjUcwp79h2FM8m8BpVMEcGKFx3FvTaLZYv+F3IB5Tm7BXHeOkniFNm/ejMrKSvj9flxyySXYtm1b8rbdu3fDNE2sX78+7T5erxdnnnkmduzYke9wHUlRFCxcuJBvaspIU3M7TMuC7VVhlvsKHc7sCACKGf+THCGyKASjMgAJoL2rBy/t2Ivunv5Ch1XUFCGwMKBBEUx0Km3sv5AbMM/JLZjrzuHoqXNerxdXXXUV3vGOd2DBggXYu3cv7rzzTrz5zW/Giy++iLPOOgvt7e0AgLq6ugn3r6urw/PPPz/tY8RiMcRiseTfBwYGAACmaSZHUCmKAkVRYNs2bNtOnps4bllW2oJlUx1XVRVCiAkjs1Q1vjDx+NX1pzquaRqklGnHhRBQVXVCjFMdH98m27axZ88enH766fB4PCXRppliL6Y2Jc4RACxbwhydhqaI+BdGW8q0mWmJ45aUycV+U3eXsuTYNQBAFfHHNsdNb1NF4vz4fRKjH6SU8djHzYbTFIGRSBRHj3VDCoFYVRCpFZu00RNy9KbJZtRNdRzxgSzJy8gZzp/mOmn3H3/MLgOUkfj9J7mGECkLUI+/RgaxTBhFMpvYxSTXmOOsxOQ15vA8ph2aw3OQeHx7qucxA8n4hYBeHYRR5oOvewhRw8SOhkOoq63GmlXLoahK2vtDCEAdfd8oyRyXo3/P7P0EAPboX4RIf09l8n5KmO59qSliwvssNXY75X2ZOGWq2Mcfl5DY26tjbZU37b2daNP4tk7XJjnueTRtOWlbp2rTVM/B+LZO1ybLlsn0siwLppnyuZPBZ7llWTN+vs3YJjvlebAsAB5X/PtU7G1K9F/OOOOM5PWd3qaEUnqd2Kb5tUnXdezZswennXZa8pjT21SKrxPbNP82CSGwe/dunHrqqclik9Pb5KTXabIZZFNxdKHp/PPPx/nnn5/8+7vf/W5s3LgRZ5xxBm666SY88cQTiEQiAACfb+KoCr/fn7x9Kt/+9rdxyy23TDi+Y8cOlJeXAwBqa2uxevVqHD58GF1dXclzli1bhmXLlmH//v3o7x/77fqJJ56IhQsX4vXXX097/DVr1iAcDmPHjh1piXbGGWfA6/WmjdQCgPXr10PXdezatSt5TFVVbNiwAf39/WhoaEgeDwQCWLduHbq7u9HY2Jg8HgqFsHbtWrS1taGlpSV5fHybpJTo6+tDdXU1Vq5cWRJtctLrFAxWAABqKv3Y0RtLjkKo9atYXenF4UEDXdGxWJaVa1hW7sH+fh39evzDxrIlQmVe9I/o2DdgwpBj568JeRH2qdhxPH278zOqffAqAtu6o7BsiZOXhgEANoCIJbGrZ6wIqwqBDbV+1Dd3IVpVB6kK2F4PYNuAOgIBD05eGm+HAgHYFqBGAOmN/yQIAxAxQPoAmbK4s9ABRLGsphxlfs/oNRCf5ibMeHEodZCmEgFgAXY5EtUZDYBX64dp2VBQGb9/8vyh+P3tsviZtgIICajDAFTADiSvccJCE4ePDQLwJI/HzdwmDR6cvHT0izR0AMboNVJ2upuhTSoqcPJSjD2XGIm/KnYQadLalCABDKLcp2FZbXDseUT8dYLUAJm6Q+DENmkAFlVF0dEbgYAfsFPbqsd/ZmiTBuDkpRItXUPxmFJep3js07dJQzDleQSAYUifH9HFVRCGBWFaOKIb6N2xB3UnrER3yusR8ipYG/ahM2onc3pnr4nFZcj4/QQAdf74a3PCwgrs7DWhKvH7ZPJ+Sj67o8UJTVXSrpF4P/XrNhr69eT5AVVgXY0f3VELjYNG8n05EjUAAG0jJlqGxzoBU31G1AU0RCyJA/0G+mJW8nno0SXKfcDrPTFEUioq07XJBtKeR1WxsH6BH7o9+WfE+DYlOiKhMm/ac5B4nTJpk21L1FT60T0Qxf4D+zE8NLYr4cqVK1FbW4s9e15HJDL23J988skIhULYsWM7TNNMtiFi2lBVJe11AjBjm/b2xZLXaGiox1lnneWKf5+KvU2pOxSVSpuA0nud2Kb5tenAgQPo6OhANBqFEKIk2lSKrxPbNP82nXXWWRgcHMSrr74KMfp9yOltctLrNJvZYEKW4N6AH/zgB/Hoo49iZGQEv/vd77Bp0yb8/e9/x5vf/Oa08z7wgQ/g+eefT456msxkI5qWL1+O48ePJ9d8ckNV1LIsbN++Heeccw68Xm9JtGmm2IupTYZh4pb/vh8CwNcvOQEeLf4FdzYjmoZ1E99+7igA4KsXL4ffM1bEyWQExrBu4jt/H73/RcsR8Hom/GZ/ZCSCl3fWA0IgsjgEmdgFTAC6aWPHvnhb15+iQlWVWY9E0i0b2/dZEKnXmOb88cd1y8arDfEYzl2Tcv9UEvHihjI06YimRAxSTnGNGWLRrXHPg6bMekTTpM/lLCSeB0XM/Xnc3mBBYm7PQeIaO/ZZsKd6HjNow3TPoxLT4e0egmrG41y8sAYnr1wKTdOSI2UGogZuH83pmy9ajjKvZ1YjmkZ0E//53FEIAXzlorH31GxGNE33vsxkRFPifSkBfP3iFfB5tIxGNNlSYvvxGM6q8SFqWMn39lcuWo5yn3dWI5qGYia+nfI8+j2eWY1omuo5mM2IpmHdxO3PxZ+HtFGPGBs1N9Xx8SMMp/p8m6lNUcPGN59tAgB87VPXIhDwu+Lfp2JvU6L/smHDBqiqWhJtSiil14ltml+bYrEYtm/fjrPPPhuqqpZEm0rxdWKb5t8mANi6dWsy10uhTU56nXp7e1FTU4P+/v609a8n4+gRTVNZvnw5dF3H8PBwcsrcZMWk9vZ2LFmyZNpr+Xy+SUdDaZoGTUt/+hIv2HiJFybT4+OvO5fjQohJj08VYybHhRDJ/y+VNqUq5jbZo9+IJABVEdDGfTNShJh0UV815ZuVKkTa8fHXADDpMQDQkl/4xuIWQkBLOV1KiYNNLRAAzDIvpG/iVvNp31HFuD/Hm+K4lCn1hNRzZnmdGe8jMGWMcrJ2ZHpdTLIB3xxin/S5nKXkNebwPMppbsv0OvNtw3TPo+33IrqkCt7eYWiDERzrPI7evgGsXb0CtdVhAIliRfx8VYjkSMFM3k+J84B4Pkz2npru/ZR2zZT/H3+f8e+z1MdWxr0vp4t9/HHTHnvM1Gsk2jS+rdO1SYx7HlPPmSz28W2a6TnIpE2qEMmcTPuMSDHV8fF5NNnnW6qp2qQqKc/D6L8bbvj3aa7H89mmxG+9S6lNCWwT2wSMfTlUVTXtcZzepsmwTe5uk2mak+b6XGIvljYBzn+dJj034zMdpLGxEX6/H8FgEKeffjo0TcO2bdvwgQ98IHmOrut47bXX0o7R1FRVxZo1a6ZMRqKevgH09A9CAtDD5YUOZ36U6afUkkMoAnpNEGa5D77uQei6gZ31h7B4QTXecOIyzLlCVwJUEZ8Op5bgU3DTW5Yj4Jld92ZIN/Hd55tzFBEVEvsv5AbMc3IL5rpzOHq59tT5hwk7d+7EY489hiuuuAKKoiAUCuGyyy7DAw88gMHBweR5v/zlLzE0NIRNmzblM2THEkIgHA4nfytIlEpKiQNNrQAAsyIA6XHwh78AICw31yBKju33ILKkKrkzXUd3D/65fS86u/sKHVrBCCEQ9qkl+ZnuVQW8mjK7n1lO3STnYP+F3IB5Tm7BXHcOR49ouvrqqxEIBHD++edj4cKF2Lt3L+6++26UlZXh9ttvT573rW99C+effz4uuugifPzjH0dLSwu+973v4YorrsDb3va2ArbAOUzTxI4dO3DWWWfNasgcuUN753EMjUQgFQEjXDbzHYqZRHxhamWYxaZSosR3pkuMbjIMEw2NRwCECx1ZQZi2xI7RNZqIShn7L+QGzHNyC+a6czj6V3jvfe970d3dje9///v413/9Vzz88MN4//vfj23btmHt2rXJ884++2z87W9/QyAQwOc+9zncfffduP766/HII48UMHrnmWwxNiLLsnDoaBsAwAiVQZbEyABWmEqV7YuPbtLDZWnr9bR1Hk9bDNENLJe1l9yL/RdyA+Y5uQVz3RkcXQb89Kc/jU9/+tMZnXvhhRfihRdeyHFERO5zpK0TMd2ArSkwKgOFDodoZkLACJfD9HqB0R1jDza1ore3H2tPWonygL+w8REREREROVgpDD0gogKJ6QaOtHQAAIxweXz/cCKHsL1ja4lJAH0DQ3h5x140tXQkd3okIiIiIqLZYaGJMqKqKs444wyu8E9pDje3w7JtWF4NZnkJrfWijBQ6AsqzSF0Ylt8DW0ocPNKKrbvqMTBUunmgCuCMal9J7jpHlIr9F3ID5jm5BXPdOVhooox5vd5Ch0BFZHgkitaO+M6PRlWpjWayCx0A5ZnUVEQXhRCrqYBUBAaHI3hlZz0ONLXAskozH7xKKb1niabG/gu5AfOc3IK57gwsNFFGLMvCtm3buPgaJR1oaoEEYJZ5YQVK7APfDhY6AioEIWBW+BFZWp0coXek9Rhefm0vevsHCxxcdlkS2NYdhcUZglTi2H8hN2Cek1sw152DhSYimrXegWF09/ZDYnRtJqISIlUFsdpKRBdWwlYVjERjePX1/ag/eASmyY4NEREREdF0WGgiollrbG4DAJhBP2yvozevJJqSVeZDdGkVjGB8F7rWY93454496OrpK2xgRERERERFjIUmIpq14eEIpBDxtZmISphUFOgLKhBdFIKtqYjpBnbWH8LufY3QTaPQ4RERERERFR0ORaCMqKqK9evXc4V/SjJCZZBqidaqlaFCR0BFxgp4EVlSBW/fMLSBCI5196K9ZxCAM9fzUgWwfoGfu85RyWP/hdyAeU5uwVx3jhL9lki5oOt6oUOgImGrCozKQKHDyCF+NNIkFAG9OohoXRi2R4VpmsmbYrrzRjfpNlcCJ3dg/4XcgHlObsFcdwZ+m6KMWJaFXbt2cYV/F4umfKgb4TKglLdGt8sKHQEVMdvnQWRJFfSKsTzZunsf2o4dh5TOKN5YEtjVE+Ouc1Ty2H8hN2Cek1sw152DhSYiykhTc0fy/80ybwEjISoCQsCoGhvVZ1s29h5swmt7DyIa42/aiIiIiMi9WGgiohkNDI2g83hvypESHs1ENAd6ZRkkgON9A/jnjj1o7eh2zOgmIiIiIqJsYqGJMsZF19xJSokDh5sLHUaesUBAs2OEAoguqYLl02BZNuoPHSn60U2qYMGY3IH9F3ID5jm5BXPdGVhoooxomoYNGzZA07hRodt09fSjd2AI0i3fSQUAdZiDtmjWbK+G6OIw9KpySJEyuulY8Y1u0hSBDbV+aKW81hoR2H8hd2Cek1sw152DhSbKiJQSfX19RfdliXLLsm0caIqPZjKCLlkgWwKQKgc10dwIASNUhmhdyuimg8U3uklKib6Yxc90Knnsv5AbMM/JLZjrzsFCE2XEsiw0NDRwhX+XOdp6DJGoDltVYIT8hQ4nf+zAzOcQTSM5uik8NrrppR17i2ZnOksCDf06d53LotTXVTcM6Prcf4ohR0oF+y/kBsxzcgvmunNwzBkRTSoa09HUEt9pzqgqBzjFhmh2hIARLoNV5oW3exDQTew92ITO471Ye9JK+LyeQkdIWWTYY8Wh2374wLyudevnNsPL/CAiIiKHYqGJiCZ18EgrLNuG5dNglvvAoQ9Ec2N7NUTrwvD0R+DpG0Z3bz/+uWMPTlm1HMHKykKHR0VIN4x5X8Pj0SC44DsREREVAAtNlBEhBAKBADutLtE/MISOrh4AgF4dBISAuxYtsgsdAJWaSUY37TnQhIrKcKHCQUAV4Ed6btz0luUIeGbXxRrSTXz3+fiaePMdEQVwVFQC+y/kBsxzcgvmunOw0EQZUVUV69atK3QYlAdSSuw7HP+yYwZ9sH0u+6IiAKgjhY6CStTY6KYRePpGcLyvD0AYAJDPZXlUIbCuxkXrruWZVxXwarNbBtNrcdnMXGD/hdyAeU5uwVx3DhaaKCO2baO7uxsLFiyAorAzXMraO49jYGgEUgjo4WChw8k/CUBqgDDjRSeibBMCRrgcVpkP6BwERuuae/Y34YxTTsjL2k22lOiOWljgV3P+WDR7cxkRBQC6ZeO2Z4/kICLnYv+F3IB5Tm7BXHcOvjqUEdu20djYCNvmlKJSZpoWDh5pBQAYoTLIWf5GvmRIjvSg3LO9GqKLxtZo6ukfwD937EFbZ+53prMl0DhowHbTjFgHSYyImvWP6tLP7Gmw/0JuwDwnt2CuOwd7JESUdLi5HbphwtZUGKFAocMhKn0pawxYXhWmaWHvgSbs2HMAkWisgIEREREREc0NC01EBAAYGo7gaPsxAIBeXQ6uEkyUX9GFIejhckgB9PQP4p879uJI6zHY+Vy8iYiIiIhonlhooowIIRAKhbjCf4mSUmJf41FICZhl3vjaMa5mFToAcqPRnemiS6pg+T2wbRsHmlqwdVcDBoayu0C9EEDIq7CeTCWP/RdyA+Y5uQVz3TlYaKKMqKqKtWvXQlW5cGwpOtbdi96BIUgB6FUuXAA8lQCgRrgQOBWM7dEQXRRCrCYIqQgMDo3glZ31aDh0FIZpZuUxVCGwNuyDyo4alTj2X8gNmOfkFsx152ChiTJi2zZaWlq48FoJMk0L+5taAIwuAO5x+Qe3BGB7438SFYoQMCsCiCyphlkeH2HY0tGFF7fvQdux7nkvFm5LiZZhg9PyqOSx/0JuwDwnt2CuOwcLTZQRvqlLV2NzO3TdgK0pMCrLCh1OcZDeQkdABACQmoJYbSWii0KwPSoMw8Teg0ewbde+eU2nsyXQMmxy1zkqeey/kBswz8ktmOvOoRU6ACIqnKHhCJrbEguABwGF02iIipEV8CKypAqegQg8fSPoHxrGKzvrEa4KFzo0IiIiIqI0HNFE5FJSSjQ0HoUEFwAncgQhYITKEFlalZxO13m8L3mzaXEReyIiIiIqPBaaKCOKoqC2thaKwpQpFR1dPejjAuCTE0ahIyCaktRUxGorEakLw/J5ksdf2dmAo63HYFkzDydXBFDrVzmIkUoe+y/kBsxzcgvmunNw6hxlRFEUrF69utBhUJYYpskFwKciAIhYoaMgmpHt80BfWAH0xgtLiYX9m9qO4YSli7F00QKo6uQdMUUIrK7kWmRU+th/ITdgnpNbMNedg6VAyoht2zh06BAXXisRjUfbYRhmfHHhEBcATyMB2D7uOkfOIMaGJMWqymGrCnTdwP7DzXhh++s42tY56QgnW0ocGtC56xyVPPZfyA2Y5+QWzHXnYKGJMmLbNrq6uvimLhHHunsBALGairQvqjRKemY+h6jImEE/IsuqEasJphecXt2NxuZ4cTnBlkBX1OKuc1Ty2H8hN2Cek1sw152DU+eIXMoI+mH7WVAhKilCwKwIwAz6oQ1F4ekfgW6YaDzahiMtHViyaAFWLFkIj5fT5oiIiIgoN1hoInIhWxEwqsoLHQYR5UpqwWk4Bm0gAugmmts70dLeiQU1VTAqF0Jy6hwRERERZRkLTZQRRVGwbNkyrvA/R1LKtGkrs6UbY7ugzfWL4XAkMna9qiAwxSLBBEDohY6AKDuEgBn0wyz3QY0a8PSPQI0a6DzeC2vExKtdFhYsWFDoKIlyhv0XcgPmObkFc905WGiijCTe1DQ3hmHi63fdl5Vr2dIGMLtd4qSUOHC4DYm3vFXmmeUVXESAhSYqPULACnhhBbxQdBPaQATa8CCGJNAzcBRAGAAQjRkIeDmllkoH+y/kBsxzcgvmunOwFEgZsSwL9fX1sCyr0KHQHLQe68bA0FDKES4APiUJwApw1zkqWbZXg15TgZGlyxELx3eqS3hlZz121h9CT98Ap9VRSWD/hdyAeU5uwVx3Do5oooxIKdHf388vHlnw1YtXwjvLaWtDuonvPt88p8eLRGM4cLhlTvd1L473IhcQGsxQGfRyH7BvbPeWrp4+dPX0oSzgx/LFtahbWANN43uCnIn9F3ID5jm5BXPdOVhoIsozr6rAq82u0OS15jb4UEqJvQePwLJtWD4NGJnTZYiolImxEY6RxWH4RqLQhmIYiUSx73AzDh5pRd3CGiyrq0WwLFDAQGkmqR3v1LX95sLj0SAER78SERHR7LHQRFTCWju60ds/CCmAWHUQ6C10RERUzGyPCr2mAkZVOdShGDyDEcCw0NLRhZaOLlRVBrG8biEW1IShsAhRdAx7rNB02w8fmNe1bv3cZni5XhcRERHNAQtNlBFFUXDiiSdyhX8HiURjONAUnzJnVJVDelQAnM+cEREtdAREuTdNnktFgVkZgFnhhxo1oA1GoI7o6B0YQu/AEHxeD5bXLcSSRdyxjoob+y/kBsxzcgvmunOw0EQZURQFCxcuLHQYlCEpJfYeaBqdMueBUREALM5lzogAIMxCR0GUW5nmecpudcK0oA1G4RmMIKYbOHikFY3NbQiFw7mOlubgprcsR8Azu26ebtm47dkjOYqoMNh/ITdgnpNbMNedg6VAyohlWdi5cydX+HeIlo4u9A4MxafMLahIW4OFZiABWGXcdY5K2xzyXGoqjKpyjCyrQaymApZXg21LHOsem5Pb3cPd6oqFVxXwasrsfma5UYUTsP9CbsA8J7dgrjsHRzRRRqSUiEQi/ALhACORGA40tQIA9Krg6JQ5mp3S+7JFNNEc81wRMCv8MIM+KDETsi+S3Ghg78EmHG1tw/LF8Wl13K2OCo39F3ID5jm5BXPdOVhoIiohti3x+v5G2LYNy++BWeEvdEhEVKqEgO33QF+gAt3x3yxKAUSiOvY3teDQ0TYsWVSD5XULURbgZxERERGRW7DQRFRCGo+2YWBoBFIRnDJHRHk3srQavoie3K2uub0Lze1dWFAVwvK6hagOV0Dwc4mIiIiopLHQRBlRVRVr1qyBqnIaRLHq6RtAU2sHACBWUwHJKStzp0QKHQFR7uUiz4VI361uIAItoqO7tx/dvf0oC/ixfHEt6hbWcFpdEUqdiqAbxryv5/FoBS8ssv9CbsA8J7dgrjsHC02UESEEwtxZqGjphonXDzQBAIygH1a5r7ABOZkAAC4wSCUu13mesludYZjQBqLQhqIYiUSx73AzDh5pRd3CGiyrqwVUT+7ioFkx7LFC020/fGDe17v1c5vh9Rb29WX/hdyAeU5uwVx3Dq54SxkxTRNbt26FaXLb92IjpcTeA03QdQO2R4VeHSx0SM4mAVjl3HWOSlse89z2aNBrgogsr0asOgjbo8KybbR0dOGlHXvx2t5DuQ+CXIv9F3ID5jm5BXPdOTiiiTLGbSSLU0t7F7p7+yEBxGorAYXrn8wfn0Nyg/zmuVSU9Gl1gxGoIzoGhoYAhAEA+w+3YtXShagMluU1NproprcsR8Az+26ibtm47dkjOYho7th/ITdgnpNbMNedgYUmIgcbHBrBgaYWAIBeHYTt5VuaiIpcyrQ6YVqw+6LASPymjq7j6Oo+jmBZAItrq7G4thp+n7ew8bqUVxXwahz4TkRERLPHb6VEDqUbJnY2HIItJcyAF2YFtw8nImeRmgojHAA64r+dNMu8UCI6hkYiOHikFQePtCJcEcTi2mosrAkXfL0fIiIiIpoZC02UEVVVccYZZ3CF/yJhS4nd+xoRjemwNQX6ggqAW4ZnjzJS6AiIcq8I8zxWUwFLAOpIDNpwDErUQN/gEPoGh9DQeBThiiBqa8KorQ6hLMDiOk0kpYRhmGl/X7v2VFiWDdue/U56xbBzHtFM2E8nt2CuOwcLTZQxr5fTF4rFwaYW9PYPQgqB2MIQpMrpDdllFzoAojwozjyXqgKzIgCzIgBhWtCGY1CHY1B1M1l0OtDUgvKAHwuqQqgOV0Lzs+hEcYZh4ut33Zd2TBGAPceF74th5zyiTLCfTm7BXHcGfjuljFiWhW3btnHxtSJwrKsPR9s6AQCxBRVclykXbO7cRy7ggDyXmgojVIbokiqMLIvvWmf5PZAAhiNRHGk7hh17D+DFV19P3qd/cAS2XZxFNMo/RQAnLw1znwwqaeynk1sw152D31CJHGZ/UzMUAHqoDFa5r9DhEBHlhdTU+K51lQEIy4Ya0aFGdSgRA9IYKyztrD8IjypQGSxHuDKIcGUQoWA5PHPYQY2c7asXr4QqBHb0xnDNyWGoGVabinHnPCIiIidhr4vIYaSUMMu8MMLc/puI3EmqCsygH2bQD0gJM2ICjaO3CQHblugbGELfwFDyPgG/D5XBMlQGyxGqKEewPACNazxknZRjc9R0Y/ZrIqWa7/pIXlWBoggoQsCjKdA4rImIiCgvWGgicgAzZXiorSkwuPg3EVGcELC9KoD45+TIsip4bAklZkCNGVCiBhTTRiQaQyQaw7Hu3uRdywJ+VJaXQeUaT1ljpCyGdNsPH5jXtbg+EhERkTOx0EQZUVUV69ev5wr/BWDbNvbuPwIg/tzHFlRCcPHv3FKGZj6HyOlKNs/jhSfbq8GsCMSPWDYU3YQSM0b/NKFYNkYiUYxEotBtAAgDAF56rR7VFeWoKA+gIliGivIy+Lwe7jzmUKoA1i/wQ+XLRyWM/XRyC+a6c7DQRBnTdR2BQKDQYbiKlBJ79jehb3AQiS9BtkcFP1pzTUGx7shFlD3uyXOpKrACXliBsZ1qhGXHC066ATNqAiPx47puoKunD109fclzvR4NFeVlqAyWoSJYjspgGfw+7nozk5veshyBWa6NlYv1kXRbIsBKE5U49tPJLZjrzsBCE2XEsizs2rUL69evh6YxbfJBSol9jc04drwXc9yVmebKLivh0R5Eo1ye51JVYJV5YZV5oZs20B2fehetrYTHsuIjn3QTwrCgGyaO9w3geN9A8v4+rye55lNlRTlULzdnGM+rCni12Y3Ane8aT6n3kVLCkgK7emJYv8APjbUmKlHsp5NbMNedg68OUZE63NKBlo4uAIBeXZH8bTsREeWO5fcAWkrRyJbJopOim1BjBoRhIaYb6OrpR1dPPwCkTb/r6OrFwqpKlAV8nHI3S9lc48mWNlRwqjkREVG+sdBEVISOtB5D49E2AIBeXQ6zzIvEQrdERJRHioDt98D2pyxKPVp8UpNrPhmJShMAYP/hZhxqAjyahnBlOcIVQYRDFagoD0BRWPggIiKi0sZCE2XMrYuuSSlhGOa8rjF+KP90j9XY3I7Dze3x+4XKYFSWAaY71lEpHpysSG7APJ+zSYpPRswEDsSfU8unQTFMGKaZNupJUQRCwSCqQkGEKysQqiiHys0dpjSXNZ6GdBPffb457ZjKUWXkAm7tp5P7MNedgYUmyoimadiwYUOhwygIwzDx9bvuy9r1bGkDkyznLaXEgcMtONreCQDQw2UwQmVZe1zKkACgDhc6CqLcYp5nnVQVJEaeRheGYKgCSmx01FPMgBo1YNsSvQOD6B0YBNAOIQQqg2WoClXA6y8vaPzFaC5rPHmt9PM1RWBDrT+bYREVHTf308ldmOvOwUITZURKif7+foRCIa43kQNSStQfPIq2zm4A8elyRiWLTAUhgXgh0Ip/GScqRal5Trkhxo16khKKYUGJGvHiU9SAYtnoHxxG/+Bw2hpPjc3tWFQdQrgiCE3jb27nQ0qJft1GyKtk3H+Z74LkqTwejf0myjn208ktmOvOwUITZcSyLDQ0NLh+hf+vXrwS3jlMc5hsKH+CbdvYc6AJx7rju8vpNUGYFdyys6DsgKt34yKXYJ7nlxCwvRpsrwYTAUBKCNOGGtWhxgzYw2MFjZb2LrR3dEEAqBgd8VRVWYFwJQtPs2VJoKFfn9Wuc9lckPzWz22G1+uZ+USieWA/ndyCue4cfHWIZsGrKrMexg9MHMqfENMN7Go4hP7B4XiRqbYCZjmH+BMRlTwhID0qTE8AZkUAetgGGuIjzMxyH4RuQDFtDAyNYGBoBEdajwEYLTxVBuOFp1AQHna0iYiIqMiwd0JUIP0DQ9i1rxEx3YAUArHaSlhl3kKHRUREBRarDsLUFAjTghqNT7NTozoU08bg0AgGh0ZwtC2+nl+wLIBwZRBVoQpofv6iItvmsiC5btm47dkjOYqIiIio+LHQRBkRQiAQCHAubJa0dnSjofEopJSwPSpiCythz7IjS7nEXf7IDZjnxU5qKsygCgTjBaS0wlPMgGJYGBqJYGgkgpaOrrR1njq6erGouhIBv8/V/3YLAQRUgbk+BXNZkLwYZGPH3FRca6q4sZ9ObsFcdw5+s6WMqKqKdevWFTqMkrD/cAu6unsAAGaZF/qCCkjFeZ3YkiUAqCOFjoIot5jnjjSx8GQnd7RTYzpkdGxx9/2Hm3GoCfB6NIQqgghXBhGuKEdFsAyKi/7NUYXAuhr3jfTK9o65XGuquLGfTm7BXHcOFpooI7Zto7u7GwsWLHBVBzUXOrp6oAjACJfBCJVhzr9mpdyQAKQGCJO7zlHpSs1zciypKbA0H6xyHwDAiJnAgfhC1pZPg6Kb0A0TXT196OrpAwAoQqAyWI5QZTlCFeUIBcvh85XutG1bSnRHLSzwq1Dy9O9tNnetAziaiGbGfjq5BXPdOVhooozYto3GxkZUV1fzTT1LlmXj4JHW5N9tRcDgekzFTfoBwd24qMQxz0uOVBUA8VFN0YUhGIqAopvx6XZ6fOSTbUv0DQ6hb3Dstfd5PQhVlMMTKCtQ5LljS6Bx0EC1T4WSp1pNNnetA+Y/mmiuO+ZyrSnnYD+d3IK57hwsNFHJm+86Bam/jUz9LWUmevsHsffgEfSPxJBYNyNaF4bi5VuPiIhyTBGw/R7Y/tEihZRQTAtK1IxPuYsZEIaFmG6g83gfdLsPiX+rtu7eh5qKclQEy1FRHkBFeRk0TS1US2ge5rpj7nxxnSgiIvfit10qedlcp8CWNoCZO9ojkSgOHmlD5/He+P1SfpPI9ZiIiKgghIDt0eKbT1SMrltky/jC4jETZtQARpfuikRiaI/G0N7Vk7x7wO9DRVkAwWAZgmUBBMv8rl9sfCZz2bUOKI3RRFwniojIvVhooowIIRAKhdiZnEFMN3C4uR2tx7ogZXwZFDPoR7QyAAzObjQUFZI18ylEjsc8JwCKgBXwwgp4oZs20D069W5BBTymBUU34z+WjUg0hkg0hs7R9Z4AQFEEygMBlJf5URbwQyjFVQgQAgh5lYIth+jUXevIWdhPJ7dgrjsHC02UEVVVsXbt2kKHMW9zWadgSDfx3eebpz1H1w0cbe/E0bZO2HZ8y3Az4IVRVQ7bq0GaNvilziEEADVS6CiIcot5TjOwAl4gpUAiLHus6KSbEIYFxTBh2xKDwyMYHI4PhdJtIDH97p879qIi4EPA54Pf70XA54Xf54PP64HP54Gmqjn/sqAKgbVhX04fg2bGdaJyq1T66UQzYa47BwtNlBHbttHW1oYlS5Y4euG1uaxT4LWmPn9gaATNbZ3o6O5Jrt9k+TQYVeWw/Fzs25EkAOkFhM5d56h0peY5UQakqiRHPo0djK/5JPR40UkxLVgxKzn9zjBM9Jsm+geHJ72mogj4vB54PR54PRo8mgemGPs3t7tnAMGAFx5Ng6ap0FQVqqrMqjhlS4m2ERNLyrS87TpXKua7e17qfTwKR3blUqn004lmwlx3DhaaKCO2baOlpQWLFy92/Zvasmx09fShpb0rbdcey6fBqCyL7ybHzqyz8Qs4uQHznOZrdM0neDRYiI8a0k0b6I2P4I0sDEHDaDHKtCBMO/7/lg1hS9i2RCSqIxIdy8PUEVF7DzZBneSfU1VVoKoqtNE/VUWJF6EUBXrKLPWjbZ3wezw4bPugjNjwaepowWr0fC1+H07BmFw2d8/LdI1Lmhv208ktmOvOwUIT0Sw0HDqKvv4BWFZ8epwEYJX7YFQExnb1ISIiItg+DZamTD5x3JbxglPqj23D0GVyRJTlVSEkIGw7fv7oXS3LhmXZmKxMmlqoamrpgKIIxKqXYE9zG8QkO8cKIaBpKjyaCk3V4NFUWCmjqto7exAM+ODzaPCOjr5S5zAFbLayOZpotjvm0hjunEdENDcsNBFNwTBN9PQNoqWrL3ms83gfVBHfRc4M+mFW+CG53TMREdHsKAJSUSE96f+G6qYNdI4uSL4oDDUx3Wp0hw0hZbzoZNtj/5/yp55SqDLKfVAhIFUBy6tBsW1ASghbJgtXiUJCvJgQi8eQUqw60NQyYVSVqirweeJFJ5/XA683/mfix8jCvOtiG000l93zMlnjsthx5zwiorlxVaEpFovh61//On75y1+it7cXZ5xxBm677TZcfvnlhQ6t6CmKgtra2pIeomhZNgaGhtHTN4jjfQMYGIqvKZHa4TTK/dAr/bB9GqfHlTIx+98eEzkO85ycRAhAABICUAE5ReHEMG2gI16o0quD8dFHEogFwunr7iUKV3Z8Gp+w7GQBy4iNFavMgGessGXZEDLeXxixYhiJxiaNIbXf8PLOBpT7PPHC1GghyuvxwOvVkmtT5WuU1HzMZfe86da4zNR8R3alKuXRRG7opxMBzHUncVWh6aMf/SgeeeQRfPazn8XJJ5+MLVu24B3veAeeeeYZXHjhhYUOr6gpioLVq1cXOoyssW0bI5EY+oeGMTA4jP6hYQwPRzB+cLntUWF4vMkOp15dPvbbVSpNAoCY/MsDUclgnpNbTJXricKVok74t98IjBWrYgsqYaaMqhIyZcqfaU+c/mfZkIadvFYspsPUZ14LTVEEPJo2+qPCTOmif3i1FwGfB5oSX5NKURQoigJVVaAoIv4jBJTR9aaEEBgxbHz/xVYAgG3LZMHGaYWWbI7smu9oomLeOa/U+ulEU2GuO4drCk2vvPIKfv3rX+OOO+7AF77wBQDAtddei9NPPx1f+tKX8OKLLxY4wuJm2zYOHz6MVatWOaaCLKXESDSGY109yWOv7z+MaDSKSCQ6oWMJxKfE2X4PLL8HVsALqalpw/jJBSQA6Yt/MXFWf5woc6l5TlTKsvmZLgSkEJCKAkxTr9BNG2gYXRC9NgRNxItTimlNXJvKjo+Ssm2JmG4gpsdH7aSOimrr6Jx0UfTppN7/H9t2T7h/vN4kMPpH2v+L+H9Gr1EBAPjnjr3wqkq8bjdazBJCQCgCCkb/TCl2qYqCWEqR6HBLBwIeLb6Qe7JQpib/nrbAu6JCUUTWi2KlvHOeE/vpTpTNNbucPMKukM8Dc905XFNoeuSRR6CqKj7+8Y8nj/n9flx//fW4+eab0dzcjOXLlxcwwuJm2za6urqwcuXKonhTm5aFkUgMwyMRDA5HMDA4jIGhYQwMjWBgaBi9/UPo6RtIdtgSunr6kp0tKQRsnwbbq8HyeWD7NEhV4ZQ4AqSHX8Cp9DHPyS0KmOu2P74g+pRGR0nBkmnT+NLXmvJDipT1qBLrTMmU+0sAGJ0OmEFccvT8xN0wya/fzLGBWTAME/Ysv1emFrua22ZfLFNVBaZQAZQDAN650BgtVom0QpU2OspLFYmClZIc9RUzJX60vQtAcax1lSvF1k8vVdlcs8vJ63UV8nlgrjuHawpNO3bswBve8AZUVlamHT/33HMBAK+99hoLTTlg2/GdYSzbhmlZsC0bhmXBNC0Yppn80zBM6IYJXTcQMwzoholYTEc0Ft/2OBrTEY3FMBKJYWgkMqGANB3Lo0I1Rn+zGCqH8GqwvcrkRaXRTlt6G8b9vz3ZWKiZnof5XaMUYnBMGySgjP52ebLeumuehxzenzEUQQwpeV7o58HRzyNjKLoYJtxfyGk/0/MSw4z3F4AqgJRpWYZXAqP79UXD5VC0WVRppIRhSOBgPJDBuiqoyd+yJf+Tcv74aOIHdANAU/zYUG0ofo3Rc5M7+CWLXBgreI0Wv3QTyWJZtMwPVYxee0LBLOXPlFgs04ae8twNDo1gRMzutdBtASA0q/tMZfvew/CqY6O5FDE6FVGMG+UlRHxm5uj/W/bYa/fsKzvh83igKAKqUKCkjvBSFAhVjI3wUtJvUxUFQkm9T3zapKookFLCsmzEYjosy3bsSJliN991wnJ1rXxzcuyUP0K6ZM/T008/HYsWLcJTTz2Vdnzv3r047bTT8NOf/hSf+MQnJtwvFoshFhv7LVh/fz9WrFiBw4cPJ4tWid+a2LYNO6V3kThuWVbaYoZTHVdVFUIImGb6r4xUNf7bE8uyMjquadroPzhjx4UQUFU1GeOTz2/D1p31ybpKfCj02DUSfYXEcUUAqxaH0NjeD0smlzZISvQDpjqujPv3LhvHU2tCkx4XgO33AgLQIvqENk1oqwPaNNPrxDbNP3ZNief64Y5+jG5M5Pg2leLrxDbNr00CwIl1ITR29KfV1p3cplJ8ndim+cee6L8cao9/ppdCm6Y7zja5s02qApw4Sd/FyW0qxdeJbZp/mwBgdd1YrjutTf9y/lm44JzT045n8t19puP5qkf09vZi1apV6OvrQygUwnRcM6IpEonA5/NNOO73+5O3T+bb3/42brnllgnHV61ald0AiYiIiIiIiKgk/VehA8iSwcFBFpoSAoFA2sikhGg0mrx9MjfddBM+//nPJ/9u2zZ6enpQU1PjqmGpAwMDWL58OZqbmydMPyQqJcx1cgPmObkFc53cgHlObsFcLywpJQYHB7FkyZIZz3VNoamurg6tra0Tjre3twPAlE+Wz+ebMBIqHA5nPT6nqKys5JuaXIG5Tm7APCe3YK6TGzDPyS2Y64Uz00imBNcs1X7mmWdi//79GBgYSDv+8ssvJ28nIiIiIiIiIqK5c02haePGjbAsC3fffXfyWCwWw3333YfzzjuPO84REREREREREc2Ta6bOnXfeedi0aRNuuukmdHZ24qSTTsIvfvELNDU14Z577il0eEXP5/PhG9/4xqQLqhOVEuY6uQHznNyCuU5uwDwnt2CuO4eQqfvZlbhoNIqvfe1reOCBB9Db24szzjgD3/zmN/HWt7610KERERERERERETmeqwpNRERERERERESUO65Zo4mIiIiIiIiIiHKLhSYiIiIiIiIiIsoKFppcJBaL4d///d+xZMkSBAIBnHfeefjrX/+a0X1bW1vxgQ98AOFwGJWVlXjPe96DxsbGtHOam5txyy234Nxzz0VVVRUWLFiAiy++GH/7299y0RyiSeU6zyORCK6//nqcfvrpCIVCCAaDWLduHX7wgx/AMIxcNIloUrnO9fH+8Y9/QAgBIQS6u7uz0QSijOQj1xO5Pf7n9ttvz3ZziCaVr8/0Y8eO4ROf+ASWLl0Kv9+PE044Addff302m0I0rVzn+pYtW6b8TBdC4MEHH8xFs2gcrtHkIh/84AfxyCOP4LOf/SxOPvlkbNmyBVu3bsUzzzyDCy+8cMr7DQ0N4eyzz0Z/fz/+z//5P/B4PLjrrrsgpcRrr72GmpoaAMAPf/hDfOlLX8J73/teXHDBBTBNE/fffz+2b9+Oe++9F5s3b85XU8nFcp3nPT09eMc73oG3vOUtOOGEE6AoCl588UU88MADuOaaa/DQQw/lq6nkcrnO9VS2beOcc87BgQMHMDw8jK6uLixYsCCXzSNKykeuCyFw+eWX49prr027xllnnYXTTjstZ20jSshHnjc3N+OCCy4AANx4441YunQp2tra8Morr+Cxxx7LeRuJgNznemNjI1588cUJ97/rrruwc+dOtLS0YPHixTlrH42S5Aovv/yyBCDvuOOO5LFIJCJXr14t3/SmN0173+985zsSgHzllVeSx+rr66WqqvKmm25KHnv99ddlV1dX2n2j0ahcs2aNXLZsWZZaQjS1fOT5VD75yU9KALK9vX3uDSDKUL5z/Sc/+YmsqamRn/nMZySACZ/1RLmSr1wHIP/t3/4tu8ETZShfef72t79drlq1SnZ3d2e3AUQZKlRffWRkRFZUVMjLL798fg2gjLHQ5BJf/OIXpaqqsr+/P+34f/7nf0oA8ujRo1Ped8OGDXLDhg0Tjl9xxRVy9erVMz725z//eQlADgwMzD5wolkoZJ7feeedEoCsr6+ffeBEs5TPXD9+/LisqamRP/rRj+Q3vvENFpoor/KV64lC08jIiIxEItkJnihD+cjz+vp6CUD++Mc/llLGv9zrup6lFhBlplB99YcfflgCkFu2bJlb4DRrXKPJJXbs2IE3vOENqKysTDt+7rnnAgBee+21Se9n2zZ27dqF9evXT7jt3HPPxaFDhzA4ODjtY3d0dKCsrAxlZWVzC54oQ/nMc13X0d3djebmZvzud7/DnXfeiZUrV+Kkk07KTmOIppHPXP/a176GxYsX4xOf+ER2gieahXzm+pYtW1BeXo5AIIBTTz2VU6Epb/KR54k1UxctWoRLL70UgUAAgUAAb3/729HU1JS9xhBNo1DfSR988EEEAgG8//3vn3vwNCssNLlEe3s76urqJhxPHGtra5v0fj09PYjFYnO6LwAcPHgQjz76KK666iqoqjqX0Ikyls88f/TRR1FbW4sVK1bg/e9/P5YtW4Y//OEP0DRtvs0gmlG+cn3Xrl342c9+hu9///v8DKeCyFeun3/++fjWt76F3//+9/jJT34CVVXx4Q9/GD/5yU+y0QyiaeUjzw8cOAAA+PjHPw6v14uHH34Yt99+O/7xj3/gsssuw8jISFbaQjSdQnwn7enpwRNPPIErr7wSFRUVcw2dZonfiFwiEonA5/NNOO73+5O3T3U/AHO678jICDZt2oRAIMBdWygv8pnnl1xyCf7617+ir68PTz31FHbu3Inh4eF5xU+UqXzl+qc//Wm8/e1vxxVXXDHvmInmIl+5/sILL6Sd87GPfQznnHMObr75Znz0ox9FIBCYWwOIMpCPPB8aGgIALF68GH/84x+hKPHxBsuWLcMHP/hBPPTQQ7jhhhvm2RKi6RXiO+kjjzwCXdfx4Q9/eE4x09xwRJNLBAIBxGKxCcej0Wjy9qnuB2DW97UsC9dccw327t2LRx55BEuWLJlz7ESZymeeL1q0CJdddhk2btyIn/zkJ3jXu96Fyy+/HB0dHfNqA1Em8pHrDz/8MF588UV873vfy0rMRHOR7/5LgtfrxSc/+Un09fXh1VdfnXXcRLORjzxP/PmBD3wgWWQCgE2bNkHTtEl36SLKtkJ8pj/44IOorq7G29/+9jnFTHPDQpNL1NXVob29fcLxxLGpCkHV1dXw+Xyzvu+NN96Ixx9/HFu2bMG//Mu/zCd0oozlO89Tbdy4EUNDQ/h//+//zTZsolnLR65/8YtfxKZNm+D1etHU1ISmpib09fUBiG+RPd20aaJsKeTn+vLlywHEp10Q5VI+8jzx56JFi9LOU1UVNTU16O3tnXsDiDKU78/0o0eP4vnnn8emTZvg8XjmEzrNEgtNLnHmmWdi//79GBgYSDv+8ssvJ2+fjKIoeOMb34ht27ZNuO3ll1/GiSeeOGGu6xe/+EXcd999uOuuu/DBD34wOw0gykA+83y8xHDd/v7+OURONDv5yPXm5mY89NBDWLVqVfLnBz/4AQDg7LPPxjve8Y4stohocoX8XG9sbAQA1NbWziFyoszlI8/POeccAEBra2vaeYnNTZjnlA/5/kz/1a9+BSklp80VAAtNLrFx40ZYloW77747eSwWi+G+++7Deeedl/yt3dGjR9HQ0DDhvlu3bk17Y+/btw9PP/00Nm3alHbuHXfcgTvvvBM333wzPvOZz+SwRUQT5SPPu7u7IaWc8Ng///nPAWDS3TCIsi0fuf673/1uws/VV18NALj//vtx11135bKJRADyk+tdXV0THndwcBD/9V//hQULFiS/oBPlSj7y/OKLL8bChQvx4IMPJqcaAfHdFi3LwuWXX56r5hEl5es7acJDDz2EFStW4MILL8xBa2haklxj06ZNUtM0+cUvflH+7Gc/k+eff77UNE0+99xzyXMuuugiOT4tBgYG5OrVq+XChQvld7/7XXnXXXfJ5cuXyyVLlsjOzs7keY8++qgEIE8++WT5y1/+csJPR0dH3tpK7pXrPL/rrrvkKaecIv/93/9d/uxnP5N33nmnvPzyyyUAeeWVV+atnUS5zvXJfOMb35AAZFdXV07aRDSZXOf6N77xDblu3Tr51a9+Vd59993ylltukStXrpRCCPnAAw/krZ3kbvn4TP/FL34hAcgNGzbI//7v/5Zf+MIXpMfjkW9+85ulaZp5aSdRvvovu3fvlgDkl7/85Zy3iSZioclFIpGI/MIXviAXL14sfT6f3LBhg3ziiSfSzpnsTS2llM3NzXLjxo2ysrJSBoNB+a53vUseOHAg7ZzEF5Cpfp555plcNo9ISpn7PN+6davctGmTXLFihfT5fLK8vFyeffbZ8vvf/740DCOnbSNKletcnwwLTVQIuc71J598Ul5++eVy8eLF0uPxyHA4LK+44gr51FNP5bRdRKny9Zn+q1/9Sq5bt076fD65aNEi+clPflIODAzkpE1Ek8lXrn/5y1+WAOSuXbty0g6anpBykjkgREREREREREREs8Q1moiIiIiIiIiIKCtYaCIiIiIiIiIioqxgoYmIiIiIiIiIiLKChSYiIiIiIiIiIsoKFpqIiIiIiIiIiCgrWGgiIiIiIiIiIqKsYKGJiIiIiIiIiIiygoUmIiIiIiIiIiLKChaaiIiIiIiIiIgoK1hoIiIiopxat24dhBDw+Xw4fvx43h9fCAEhRN4fdzaeffZZCCFw8cUXFzqUCWzbxgknnAAhBH76059mdJ/3vOc9EELgX//1X+f8uE543YiIiGgiFpqIiIgoZ7Zu3Ypdu3YBAHRdxwMPPJDV61988cUQQuDZZ5/N6nWzzclFE0VRsHnzZgDAvffeO+P5x44dw5/+9CcAwPXXX5/T2IiIiKj4sNBEREREOXPPPfcAAJYuXZr293yqr69HfX193h93Ns4991zU19fj/vvvL3Qok9q8eTMURcHWrVuxZ8+eac+9//77YZom1q1bh3POOSdPERIREVGxYKGJiIiIcmJkZAS/+tWvAAC//OUvEQwGsXv3bmzdujWvcaxZswZr1qzJ62POVllZGdasWYMVK1YUOpRJrVixApdddhmAmUc13XfffQCAj33sYzmPi4iIiIoPC01ERESUE7/97W8xMDCA008/HZdccgmuvvpqADOPaurt7cWtt96K9evXIxQKIRAI4MQTT8QHPvAB/PnPfwYwtqbRc889BwC45JJLktPThBDYsmVL8nrjp6319fUhEAhAVVW0trZOGcfGjRshhMAPfvCD5LEjR47gO9/5Dv7lX/4FK1asgM/nQzgcxoUXXoif/exnsG077Rr/8R//kfbYqTEKIdDU1JTWnqnWaGpoaMDmzZuxcuVK+Hw+VFdX49JLL8VvfvObSc9PPO5//Md/oKurC//2b/+G5cuXw+v1Yvny5fjUpz6Fvr6+Kds+mRtuuAEA8MADD8AwjEnPeemll1BfXw+fz4ePfOQjAGb/nM1kpmmIM02nfOSRR/C2t70NtbW18Hq9WLp0KT7ykY9g7969s4qDiIiIJqcVOgAiIiIqTYmCUmJky8c+9jHcc889+PWvf4277roLgUBgwn127tyJd77znWhtbUUoFMKFF16IiooKHD16FI8//jg6Ozvx9re/HYsXL8Z1112HJ554AseOHcNb3/pWLF68OHmdk046acq4wuEw3ve+9+FXv/oVfvnLX+LLX/7yhHOOHz+OP/zhD/B6vcmCCRAfmfW1r30Nq1atwhve8AZccMEFaG9vxz//+U+88MILePLJJ/HII48kCyFnnnkmrrvuOvziF78AAFx33XVpjxMMBmd8Hv/4xz9i48aNiEajOOWUU/D+978fnZ2deO655/D000/jL3/5y5TFu+bmZpx99tkwDAMXXHABotEoXnjhBfzwhz/Eyy+/jBdeeAEej2fGGID4At81NTXo7OzE448/jve9730TzkmMdnrve9+L6urqOT1nuWKaJj784Q/jN7/5DXw+H8455xwsXboU+/fvx4MPPohHH30Ujz76KN72trflNA4iIqKSJ4mIiIiybN++fRKA9Hg8srOzM3l8zZo1EoC8//77J9xnaGhILl++XAKQ1157rRwcHEy7va+vT/71r39NO3bRRRdJAPKZZ56ZMhYAcnyX569//asEINesWTPpfX7wgx9IAPKqq65KO/7KK6/I3bt3Tzi/tbVVrlu3TgKQv/nNbzKKIdUzzzwjAciLLroo7XhHR4cMhUISgLztttukbdvJ27Zu3SqrqqokAHn33Xen3e8b3/hG8jE/+tGPymg0mrzt6NGjcunSpRKAfOihh6aMaTKf/exnJQB55ZVXTrhtZGREVlZWSgDyySefTB7P9nM203M5VU7cfPPNEoA877zzZGNjY9ptv/3tb6WqqrKqqkr29vZOeW0iIiKaGafOERERUdYlRra8+93vRm1tbfJ4YnTTZCNwfv7zn6O5uRlnnnkm7r333gmjfUKhUHKdoPm69NJLsXLlSjQ0NOCf//znhNsT6wwldltL2LBhA04//fQJ5y9ZsgTf/e53AcSnDGbL//zP/6C/vx/nnHMOvvKVr6SN+lm/fj2+8pWvAADuuOOOSe+/bNky/OhHP4LP50seS0ydA4C//e1vs4onsYvcn//8Z3R0dKTd9sgjj2BgYAArVqzApZdemjye7+dsMj09Pbjrrrvg9/vxf//v/8WqVavSbt+4cSM+8YlPoLe3N+s7IxIREbkNp84RERFRVpmmmZwqNn5B6GuvvRY333wz/v73v+PQoUNYvXp18rYnnngCQLyYoapqTmMUQuC6667Drbfeii1btuBNb3pT8rbXXnsNr732Gurq6iadRhWLxfDkk09i69at6OzsRCwWg5QSg4ODAIB9+/ZlLc7EOkPjp9wlXH/99fjCF76AAwcOoK2tDUuWLEm7/dJLL0VZWdmE+61duxYApl2jajKnn346zjvvPLz88su4//778aUvfSl5W6K4mNihLlU+n7PJPPPMM4hEIrj00kuTOyCOd/HFF+PHP/4xXnzxRXzyk5/MaTxERESljIUmIiIiyqo//vGP6OjowNKlS/HWt7417bZFixbhHe94Bx577DHce++9+Na3vpW87ciRIwCQtx3iNm/ejG9+85t4+OGH8V//9V/JNaMSo5muvfbaCQWvl156CVdffTWOHj065XUHBgayFmOiEDR+BE5COBxGdXU1enp60NLSMqHQNNUudpWVlQCAaDQ665iuv/56vPzyy7jvvvuShabGxkY899xzEEJMGAWW7+dsMo2NjQCAp556asa1oLq6unIaCxERUaljoYmIiIiyKjEtLhqN4qKLLppwe6J4smXLFtx66605H700lRNOOAGXXHIJnn76afzud7/Dhz70IRiGgYceegjAxGlzIyMjeO9734tjx45h8+bN+N//+3/jpJNOQmVlJVRVxf79+3HKKadASlmI5kxq/MiibLjmmmvwuc99Ljnt8E1vehO2bNkCKSUuv/xyrFy5MnluIZ6zyXaxSxw76aSTcMEFF0x7/3wVOomIiEoVC01ERESUNe3t7fjTn/4EIL5z2wsvvDDluW1tbXjiiSfwzne+E0B89E19fT0aGhqythbTTDZv3oynn34a9913Hz70oQ/hD3/4A7q7u3H++efjlFNOSTv373//O44dO4azzz47OU0s1YEDB7Ie39KlS9HQ0JAckTNef38/enp6kufmQ0VFBTZt2oQtW7bg3nvvxXnnnTflVMlcPGcejweGYWBwcBAVFRUTbk+MjEu1fPlyAMApp5yCLVu2zPoxiYiIKHNcDJyIiIiyZsuWLbAsC+eddx6klFP+JKZcpS4KnlgP6d5774VlWRk9ntfrBRBfF2ourrrqKoRCITz99NNobm6echFwAMmCzlTT0aZbRNrj8cwpzosvvhgAkoWc8RLFm5NPPjlvhSYAuOGGGwAADz/8MB577DEcPXoU1dXVeN/73pd23nyes6kk2llfXz/htl27dqG5uXnC8UsvvRRerxfPPvssOjs7Z/2YRERElDkWmoiIiChrEoWPqRavTrj22msBAI8//nhyTZwbbrgBy5Ytw44dO3DjjTdieHg47T4DAwMTdklbtmwZAGDPnj1zijcQCOCaa66Bbdv4zne+gyeeeAJlZWW4+uqrJ5ybWED7qaeewt69e9Nuu/vuu/Hwww9P+ThzjfPGG29EZWUltm/fjv/8z/9Mm2K2Y8cO3HbbbQCAL37xi7O67nxdcMEFOOWUUzA4OIiPf/zjAIAPf/jDabvbAfN7zqaSGO12yy23IBaLJY83NTXhuuuum3Qa3qJFi/CpT30Kw8PDuPLKK7F79+4J58RiMTz22GNoaGiYdUxEREQ0hoUmIiIiyornnnsOBw8ehM/nwzXXXDPtuaeddhrOPvtsGIaB+++/HwAQDAbx2GOPYfHixbjvvvuwbNkyvOtd78I111yDCy64AIsXL04WVhKuuuoqAMCXvvQlXHnllbj++utxww034MUXX8w47sTopR/96EcwTRMbN26cdErWWWedhfe85z0YHBzEWWedhbe+9a344Ac/iLVr1+J//a//hZtvvnnKx0jEedlll+Hqq6/GDTfcgBtuuAHHjx+fNrZFixbhwQcfhN/vx1e+8hWceuqp+NCHPoTLLrsM5557Lnp6erB582bceOONGbc3W66//noAY4tnJ/6eaj7P2VRuvvlmhMNh/OlPf8Ib3vAGbNy4ERdddBFOPfVULFiwAOeff/6k97v99tvxoQ99CK+88grOPPNMnH322di4cSOuueYaXHjhhaipqcF73vMeNDU1zTomIiIiGsNCExEREWVFYhrclVdeiaqqqhnPT4xqSp0+d9ZZZ2H37t346le/iuXLl+PZZ5/FY489ho6ODrz73e/GTTfdlHaNd77znfif//kfnH766Xj66adx77334p577sH+/fszjvu8887Daaedlvz7ZNPmEn7729/ijjvuwCmnnIJ//OMfePLJJ7FixQr85S9/SU4nm8w3v/lNfOlLX0I4HMbvf/973HPPPbjnnnswODg4Y3zvete7sH37dlx33XUYGhrCI488gldffRVvfvOb8etf/3rStY/y4dprr01OCTz77LOxbt26Sc+b63M2lVWrVuHFF1/E+9//fgwODuLxxx/HsWPH8JWvfAV/+tOfkjGNp2kaHnzwQfzpT3/Ce9/7XnR2duKxxx7DX/7yF/T09ODKK6/EQw89hLe85S2zjomIiIjGCFlMW6MQEREREREREZFjcUQTERERERERERFlBQtNRERERERERESUFSw0ERERERERERFRVrDQREREREREREREWcFCExERERERERERZQULTURERERERERElBUsNBERERERERERUVaw0ERERERERERERFnBQhMREREREREREWUFC01ERERERERERJQVLDQREREREREREVFWsNBERERERERERERZwUITERERERERERFlxf8PXrNPltzEDYwAAAAASUVORK5CYII=",
      "text/plain": [
       "<Figure size 1200x800 with 1 Axes>"
      ]
     },
     "metadata": {},
     "output_type": "display_data"
    }
   ],
   "source": [
    "import numpy as np\n",
    "import matplotlib.pyplot as plt\n",
    "import seaborn as sns\n",
    "from matplotlib.colors import LinearSegmentedColormap\n",
    "\n",
    "def plot_feature_activation_density(feature_index, topk_values, topk_indices, save_path=None, dpi=300):\n",
    "    \"\"\"\n",
    "    Create a publication-quality density plot for the activation values of a specific feature.\n",
    "    \n",
    "    :param feature_index: Index of the feature to plot\n",
    "    :param topk_values: numpy array of shape (num_examples, topk) containing the non-zero values for the topk indices\n",
    "    :param topk_indices: numpy array of shape (num_examples, topk) containing the indices of top-k features\n",
    "    :param save_path: path to save the figure (if None, the figure will be displayed)\n",
    "    :param dpi: resolution of the output figure\n",
    "    \"\"\"\n",
    "    # Extract activation values for the specified feature\n",
    "    feature_mask = topk_indices == feature_index\n",
    "    activation_values = topk_values[feature_mask]\n",
    "\n",
    "    # Set up the plot style\n",
    "    plt.rcParams['font.size'] = 14\n",
    "    plt.rcParams['axes.labelsize'] = 16\n",
    "    plt.rcParams['axes.titlesize'] = 18\n",
    "    plt.rcParams['xtick.labelsize'] = 12\n",
    "    plt.rcParams['ytick.labelsize'] = 12\n",
    "    \n",
    "    # Create custom colormap\n",
    "    colors = ['#FFA07A', '#20B2AA', '#778899']\n",
    "    n_bins = 100\n",
    "    cmap = LinearSegmentedColormap.from_list('custom', colors, N=n_bins)\n",
    "    \n",
    "    # Create the figure\n",
    "    fig, ax = plt.subplots(figsize=(12, 8))\n",
    "    \n",
    "    # Plot the density\n",
    "    sns.kdeplot(activation_values, fill=True, color=colors[1], \n",
    "                edgecolor=colors[2], linewidth=1.5, alpha=0.7, ax=ax)\n",
    "    \n",
    "    # Plot the histogram\n",
    "    sns.histplot(activation_values, kde=False, color=colors[0], \n",
    "                 edgecolor=colors[2], linewidth=1.5, alpha=0.5, ax=ax)\n",
    "    \n",
    "    # Customize the plot\n",
    "    ax.set_xlabel('Activation Value')\n",
    "    ax.set_ylabel('Density')\n",
    "    ax.set_title(f'Activation Density for Feature {feature_index}')\n",
    "    \n",
    "    # Add grid\n",
    "    ax.grid(True, linestyle='--', alpha=0.7)\n",
    "    \n",
    "    # Improve layout\n",
    "    plt.tight_layout()\n",
    "    \n",
    "    # Print some statistics\n",
    "    print(f\"Feature {feature_index} Statistics:\")\n",
    "    print(f\"Number of non-zero activations: {len(activation_values)}\")\n",
    "    print(f\"Mean: {np.mean(activation_values):.4f}\")\n",
    "    print(f\"Median: {np.median(activation_values):.4f}\")\n",
    "    print(f\"Standard Deviation: {np.std(activation_values):.4f}\")\n",
    "    print(f\"Min: {np.min(activation_values):.4f}\")\n",
    "    print(f\"Max: {np.max(activation_values):.4f}\")\n",
    "    \n",
    "    # Save or display the plot\n",
    "    if save_path:\n",
    "        plt.savefig(save_path, dpi=dpi, bbox_inches='tight')\n",
    "        print(f\"Figure saved to {save_path}\")\n",
    "    else:\n",
    "        plt.show()\n",
    "    \n",
    "    plt.close()\n",
    "\n",
    "# Example usage:\n",
    "feature_index = 1000\n",
    "plot_feature_activation_density(feature_index, topk_values, topk_indices)"
   ]
  },
  {
   "cell_type": "code",
   "execution_count": 43,
   "metadata": {},
   "outputs": [
    {
     "name": "stdout",
     "output_type": "stream",
     "text": [
      "Top activating abstracts:\n",
      "Activation: 0.06926242262125015\n",
      "We show that within the inverse seesaw mechanism for generating neutrino masses minimal supergravity is more likely to have a sneutrino as the lightest superparticle than the conventional neutralino. We also demonstrate that such schemes naturally reconcile the small neutrino masses with the correct relic sneutrino dark matter abundance and accessible direct detection rates in nuclear recoil experiments. \n",
      "\n",
      "Activation: 0.058602817356586456\n",
      "A new Majoron model is presented within the framework of the seesaw mechanism. Its Higgs sector consists of only doublet representations and the lepton-number violation takes place at the same scale of the electroweak symmetry breaking. This model is different from  the singlet- or triplet-Majoron model in several respects: it is free from the \\(\\rho\\)-parameter constraint and it provides moderately fast neutrino decay, but the constraint from the stellar cooling of red giants is satisfied only with an imposed approximate symmetry. A \\(\\tau\\) neutrino as heavy as 10 MeV is possible in this model despite various cosmological and astrophysical constraints. \n",
      "\n",
      "Activation: 0.058462049812078476\n",
      "{ In the framework of the seesaw mechanism with three heavy right-handed Majorana neutrinos and no Higgs triplets we carry out a systematic study of the structure of the right-handed neutrino sector. Using the current low-energy neutrino data as an input and assuming hierarchical Dirac-type neutrino masses $m_{Di}$, we calculate the masses $M_i$ and the mixing of the heavy neutrinos. We confront the inferred properties of these neutrinos  with the constraints coming from the requirement of a successful baryogenesis via leptogenesis. In the generic case the masses of the right-handed neutrinos are highly hierarchical: $M_i \\propto m_{Di}^2$; the lightest mass is $M_1 \\approx 10^3 - 10^6$ GeV and the generated baryon-to-photon ratio $\\eta_B\\lesssim 10^{-14}$ is much smaller than the observed value. We find the special cases which correspond to the level crossing points, with maximal mixing between two quasi-degenerate right-handed neutrinos. Two level crossing conditions are obtained: ${m}_{ee}\\approx 0$ (1-2 crossing) and $d_{12}\\approx 0$ (2-3 crossing), where ${m}_{ee}$ and $d_{12}$ are respectively the $11$-entry and the $12$-subdeterminant of the light neutrino mass matrix in the basis where the neutrino Yukawa couplings are diagonal. We show that sufficient lepton asymmetry can be produced only in the 1-2 crossing where $M_1 \\approx M_2 \\approx 10^{8}$ GeV, $M_3 \\approx 10^{14}$ GeV and $(M_2 -  M_1)/ M_2 \\lesssim 10^{-5}$. }    \\begin{document} \n",
      "\n",
      "Activation: 0.058209437876939774\n",
      "Self-consistent proton-neutron quasiparticle random phase approximation based on the spherical nonlinear point-coupling relativistic Hartree-Bogoliubov theory is established and used to investigate the $\\beta^+$/EC-decay half-lives of neutron-deficient Ar, Ca, Ti, Fe, Ni, Zn, Cd, and Sn isotopes. The isoscalar proton-neutron pairing is found to play an important role in reducing the decay half-lives, which is consistent with the same mechanism in the $\\beta$ decays of neutron-rich nuclei. The experimental $\\beta^+$/EC-decay half-lives can be well reproduced by a universal isoscalar proton-neutron pairing strength. \n",
      "\n",
      "Activation: 0.057188671082258224\n",
      "We show that the minimal Type-I Seesaw mechanism can successfully account for the observed dark matter abundance in the form of a keV sterile neutrino. This population can be produced by the decay of the  heavier neutral leptons, with masses above the electroweak mass scale, while they are in thermal equilibrium in the early Universe (freeze-in). Moreover, the implementation of the relevant phenomenological constraints (relic abundance, indirect detection and structure formation) on this model automatically selects a region of the parameter space featuring an approximate lepton number symmetry. \n",
      "\n",
      "Activation: 0.056516047567129135\n",
      "We propose a model for neutrino masses that simultaneously results in a new dark matter candidate, the right-handed neutrino. We derive the dark matter abundance in this model, show how the hierarchy of neutrino masses is obtained, and verify that the model is compatible with existing experimental results. The model provides an economical method of unifying two seemingly separate puzzles in contemporary particle physics and cosmology. \n",
      "\n",
      "Activation: 0.056435421109199524\n",
      "The title theory is formulated. It entails a quantum-coherent variant of the Fermi--Dirac distribution and casts new light on neutrino oscillations. It might enable the incorporation of neutrino mixing into the modeling of core-collapse supernovae and neutron-star mergers. \n",
      "\n",
      "Activation: 0.05584583804011345\n",
      "Dark matter captured by interaction with  electrons inside the Sun may annihilate via long-lived mediator to produce observable gamma ray signals. We utilize the Fermi Large Area Telescope data to put bounds on the dark matter electron scattering cross-section which are three to four orders of magnitude stronger than the existing limits for dark matter masses ranging between GeV to TeV scale. \n",
      "\n",
      "Activation: 0.05559248849749565\n",
      "{We study a superweakly interacting dark matter particle motivated by minimal walking technicolor theories. Our WIMP is a mixture of a sterile state and a state with the charges of a standard model fourth family neutrino. We show that the model can give the right amount of dark matter over a range of the WIMP mass and mixing angle. We compute bounds on the model parameters from the current accelerator data including the oblique corrections to the precision electroweak parameters, as well as from cryogenic experiments, Super-Kamiokande and from the IceCube experiment. We show that consistent dark matter solutions exist which satisfy all current constraints. However, almost the entire parameter range of the model lies within the the combined reach of the next generation experiments.} \n",
      "\n",
      "Activation: 0.05550801008939743\n",
      "Nuclear pairing is studied both in atomic nuclei and in neutron-star crusts in the unified framework of the energy-density functional theory using generalized Skyrme functionals complemented with a local pairing functional obtained from many-body calculations in homogeneous nuclear matter using realistic forces. \n",
      "\n",
      "\n",
      "\n",
      "\n",
      "\n",
      "Zero activation samples:\n",
      "We studied the developing conditions of sigmoid structure under the influence of magnetic non-potential characteristics of a rotating sunspot in the active region (AR) 12158. Vector magnetic field measurements from Helioseismic Magnetic Imager and coronal EUV observations from Atmospheric Imaging Assembly reveal that the erupting inverse-S sigmoid had roots in the location of the rotating sunspot. Sunspot rotates at a rate of 0-5deg/h with increasing trend in the first half followed by a decrease. Time evolution of many non-potential parameters had a well correspondence with the sunspot rotation. The evolution of the AR magnetic structure is approximated by a time series of force free equilibria. The NLFFF magnetic structure around the sunspot manifests the observed sigmoid structure. Field lines from the sunspot periphery constitute the body of the sigmoid and those from interior overly the sigmoid similar to a fluxrope structure. While the sunspot is being rotating, two major CME eruptions occurred in the AR. During the first (second) event, the coronal current concentrations enhanced (degraded) consistent with the photospheric net vertical current, however the magnetic energy is released during both the cases. The analysis results suggest that the magnetic connections of the sigmoid are driven by slow motion of sunspot rotation, which transforms to a highly twisted flux rope structure in a dynamical scenario. An exceeding critical twist in the flux rope probably leads to the loss of equilibrium and thus triggering the onset of two eruptions. \n",
      "\n",
      "{In this paper we investigate the induced inflation with two flat regions: one Starobinsky-like plateau in big field regime and one shorter plateau around the saddle point of the Einstein frame potential. This multi-phase inflationary scenario can be used to solve the problem of classical cosmology. The inflation at the saddle-point plateau is consistent with the data and can have arbitrarily low scale. The results can be useful in the context of the Higgs-Axion relaxation and in a certain limit they are equivalent to the $\\alpha$-attractors.} \n",
      "\n",
      "We present a simultaneous, multi-wavelength campaign targeting the nearby (7.2 pc) L8/L9 (optical/near-infrared) dwarf WISEP J060738.65+242953.4 in the mid-infrared, radio, and optical. Spitzer Space Telescope observations show no variability at the 0.2\\% level over 10 hours each in the 3.6 and 4.5 micron bands. {\\it Kepler} K2 monitoring over 36 days in Campaign 0 rules out stable periodic signals in the optical with amplitudes great than 1.5\\% and periods between 1.5 hours and 2 days.  Non-simultaneous Gemini optical spectroscopy detects lithium, constraining this L dwarf to be less than $\\sim 2$ Gyr old, but no Balmer emission is observed.  The low measured projected rotation velocity ($v \\sin i < 6$ km s$^{-1}$) and lack of variability are very unusual compared to other brown dwarfs, and we argue that this substellar object is likely viewed pole-on. We detect quiescent (non-bursting) radio emission with the VLA. Amongst radio detected L and T dwarfs, it has the lowest observed $L_\\nu$ and the lowest $v \\sin i$. We discuss the implications of a pole-on detection for various proposed radio emission scenarios. \n",
      "\n",
      "Optical fibers are a key component for high-resolution spectrographs to attain high precision in radial velocity measurements. We present a custom fiber with a novel core geometry - a 'D'-shape. From a theoretical standpoint, such a fiber should provide superior scrambling and modal noise mitigation, since unlike the commonly used circular and polygonal fiber cross sections, it shows chaotic scrambling. We report on the fabrication process of a test fiber and compare the optical properties, scrambling performance, and modal noise behavior of the D-fiber with those of common polygonal fibers. \n",
      "\n",
      "While the extended main-sequence turn-offs (eMSTOs) found in almost all 1--2 Gyr-old star clusters in the Magellanic Clouds are often explained by postulating extended star-formation histories, the tight subgiant branches (SGBs) seen in some clusters challenge this popular scenario. Puzzlingly, the SGB of the eMSTO cluster NGC 419 is significantly broader at bluer than at redder colors. We carefully assess and confirm the reality of this observational trend. If we would assume that the widths of the features in color--magnitude space were entirely owing to a range in stellar ages, the star-formation histories of the eMSTO stars and the blue SGB region would be significantly more prolonged than that of the red part of the SGB. This cannot be explained by assuming an internal age spread. We show that rotational deceleration of a population of rapidly rotating stars, a currently hotly debated alternative scenario, naturally explains the observed trend along the SGB. Our analysis shows that a `converging' SGB could be produced if the cluster is mostly composed of rapidly rotating stars that slow down over time owing to the conservation of angular momentum during their evolutionary expansion from main-sequence turn-off stars to red giants. \n",
      "\n",
      "{} {We present the discovery and characterisation of the exoplanets WASP-113b and WASP-114b by the WASP survey, {\\it SOPHIE} and {\\it CORALIE}.} { The planetary nature of the systems was established by performing follow-up photometric and spectroscopic observations. The follow-up data were combined with the WASP-photometry and analysed with an MCMC code to obtain system parameters.} {The host stars WASP-113 and WASP-114 are very similar.  They are both early G-type stars with an effective temperature of $\\sim5900\\,$K, [Fe/H]$\\sim 0.12$ and \\logg\\ $\\sim 4.1$dex. However, WASP-113 is older than WASP-114. Although the planetary companions have similar radii, WASP-114b is almost 4 times heavier than WASP-113b.\\ WASP-113b has a mass of $0.48\\,$ \\Mjup\\ and an orbital period of $\\sim 4.5\\,$days; WASP-114b has a mass of $1.77\\,$ \\Mjup and an orbital period of $\\sim 1.5\\,$days. Both planets have inflated radii, in particular WASP-113 with a radius anomaly of  $\\Re=0.35$. The high scale height of WASP-113b ($\\sim 950$ km ) makes it a good target for follow-up atmospheric observations.} {} \n",
      "\n",
      "For sufficiently wide orbital separations {\\it a}, the two members of a stellar binary evolve independently. This implies that in a wide double white dwarf (DWD), the more massive WD should always be produced first, when its more massive progenitor ends its main-sequence life, and should therefore be older and cooler than its companion. The bound, wide DWD HS 2220$+$2146 ($a\\approx500$ AU) does not conform to this picture: the more massive WD is the younger, hotter of the pair. We show that this discrepancy is unlikely to be due to past mass-transfer phases or to the presence of an unresolved companion. Instead, we propose that HS 2220$+$2146 formed through a new wide DWD evolutionary channel involving the merger of the inner binary in a hierarchical triple system. The resulting blue straggler and its wide companion then evolved independently, forming the WD pair seen today. Although we cannot rule out other scenarios, the most likely formation channel has the inner binary merging while both stars are still on the main sequence. This provides us with the tantalizing possibility that Kozai-Lidov oscillations may have played a role in the inner binary's merger. {\\it Gaia} may uncover hundreds more wide DWDs, leading to the identification of other systems like HS 2220$+$2146. There are already indications that other WD systems may have been formed through different, but related, hierarchical triple evolutionary scenarios. Characterizing these populations may allow for thorough testing of the efficiency with which KL oscillations induce stellar mergers. \n",
      "\n",
      "The Galactic Centre is a hotbed of astrophysical activity, with the injection of wind material from $\\sim$30 massive Wolf--Rayet (WR) stars orbiting within 12 arcsec of the supermassive black hole (SMBH) playing an important role. Hydrodynamic simulations of such colliding and accreting winds produce a complex density and temperature structure of cold wind material shocking with the ambient medium, creating a large reservoir of hot, X-ray-emitting gas. This work aims to confront the 3 Ms of \\textit{Chandra} X-ray Visionary Program observations of this diffuse emission by computing the X-ray emission from these hydrodynamic simulations of the colliding WR winds, amid exploring a variety of SMBH feedback mechanisms. The major success of the model is that it reproduces the spectral shape from the 2--5 arcsec ring around the SMBH, where most of the stellar wind material that is ultimately captured by Sgr A* is shock-heated and thermalized. This naturally explains that the hot gas comes from colliding WR winds, and that the wind speeds of these stars are, in general, well constrained. The flux level of these spectra, as well as 12 $\\times$ 12-arcsec$^2$ images of 4--9 keV, shows that the X-ray flux is tied to the SMBH feedback strength; stronger feedback clears out more hot gas, thereby decreasing the thermal X-ray emission. The model in which \\SAs produced an intermediate-strength outflow during the last few centuries best matches the observations to within about 10 per cent, showing that SMBH feedback is required to interpret the X-ray emission in this region. \n",
      "\n",
      "{The inner regions of the envelopes surrounding young protostars are characterised by a complex chemistry, with prebiotic molecules present on the scales where protoplanetary disks eventually may form. The Atacama Large Millimeter/submillimeter Array (ALMA) provides an unprecedented view of these regions zooming in on Solar System scales of nearby protostars and mapping the emission from rare species.} {The goal is to introduce a systematic survey, ``Protostellar Interferometric Line Survey (PILS)'', of the chemical complexity of one of the nearby astrochemical templates, the Class~0 protostellar binary IRAS~16293$-$2422, using ALMA, to understand the origin of the complex molecules formed in its vicinity. In addition to presenting the overall survey, the analysis in this paper focuses on new results for the prebiotic molecule glycolaldehyde, its isomers and rarer isotopologues and other related molecules.} {An unbiased spectral survey of IRAS~16293$-$2422 covering the full frequency range from 329 to 363~GHz (0.8~mm) has been obtained with ALMA, in addition to a few targeted observations at 3.0 and 1.3~mm. The data consist of full maps of the protostellar binary system with an angular resolution of 0.5$''$ (60~AU diameter), a spectral resolution of 0.2~\\kms\\ and a sensitivity of 4--5~mJy~beam$^{-1}$~km~s$^{-1}$ -- approximately two orders of magnitude better than any previous studies. } {More than 10,000 features are detected toward one component in the protostellar binary, corresponding to an average line density of approximately one line per 3~\\kms. Glycolaldehyde, its isomers, methyl formate and acetic acid, and its reduced alcohol, ethylene glycol, are clearly detected and their emission well-modeled with an excitation temperature of 300~K. For ethylene glycol both lowest state conformers, $aGg'$ and $gGg'$, are detected, the latter for the first time in the ISM. The abundance of glycolaldehyde is comparable to or slightly larger than that of ethylene glycol. In comparison to the Galactic Center these two species are over-abundant relative to methanol, possibly an indication of formation of the species at low temperatures in CO-rich ices during the infall of the material toward the central protostar. Both $^{13}$C and deuterated isotopologues of glycolaldehyde are detected, also for the first time ever in the ISM. For the deuterated species a D/H ratio of $\\approx$5\\% is found with no differences between the deuteration in the different functional groups of glycolaldehyde, in contrast to previous estimates for methanol and recent suggestions of significant equilibration between water and -OH functional groups at high temperatures. Measurements of the $^{13}$C-species lead to a $^{12}$C:$^{13}$C ratio of $\\approx$30, lower than the typical ISM value. This low ratio may reflect an enhancement of $^{13}$CO in the ice due to either ion-molecule reactions in the gas before freeze-out or differences in the temperatures where $^{12}$CO and $^{13}$CO ices sublimate.} {The results reinforce the importance of low temperature grain surface chemistry for the formation of prebiotic molecules seen here in the gas after sublimation of the entire ice mantle. Systematic surveys of the molecules thought to be chemically related, as well as the accurate measurements of their isotopic composition, hold strong promises for understanding the origin of prebiotic molecules in the earliest stages of young stars.} \n",
      "\n",
      "The relations between star formation and properties of molecular clouds are studied based on a sample of star forming regions in the Galactic Plane. \\added{Sources were selected by having radio recombination lines to provide identification of associated molecular clouds and dense clumps. Radio continuum and mid-infrared emission were used to determine star formation rates, while \\coo\\ and submillimeter dust continuum emission were used to obtain masses of molecular and dense gas, respectively.} \\replaced{This was accomplished mainly by two approaches:  exploring empirical relations between star formation rate and properties of molecular clouds in the data; and testing some previously proposed models or hypotheses about star formation.}{We test whether total molecular gas or dense gas provides the best predictor of star formation rate. We also test two specific theoretical models, one relying on the molecular mass divided by the free-fall time, the other using the free-fall time divided by the crossing time. Neither is supported by the data.} The data are also compared to those from nearby star forming regions and extragalactic data. The star formation ``efficiency,\" defined as star formation rate divided by mass, spreads over a large range when the mass refers to molecular gas\\added{; the standard deviation of the log of the efficiency decreases by a factor of three when the mass of relatively dense molecular gas is used rather than the mass of all the molecular gas.} \\deleted{The spread is much reduced if the mass of relatively dense molecular gas is used. Models that introduce free-fall time and/or dynamical time are not particularly effective.} \n",
      "\n"
     ]
    }
   ],
   "source": [
    "import numpy as np\n",
    "import json\n",
    "import random\n",
    "\n",
    "def get_feature_activations(feature_index, m, topk_indices, topk_values, abstract_texts_path, min_length=100):\n",
    "    \"\"\"\n",
    "    Get the top m activating abstracts and m samples of abstracts with zero activation for a given feature,\n",
    "    ensuring all returned abstracts are greater than min_length characters.\n",
    "    \n",
    "    :param feature_index: Index of the feature to analyze\n",
    "    :param m: Number of top activating abstracts and zero activation samples to return\n",
    "    :param topk_indices: numpy array of shape (num_abstracts, k) containing the indices of top-k features\n",
    "    :param topk_values: numpy array of shape (num_abstracts, k) containing the values of top-k features\n",
    "    :param abstract_texts_path: path to the JSON file containing abstract texts and doc_ids\n",
    "    :param min_length: minimum length of abstracts to consider (default 100)\n",
    "    :return: tuple of (top_m_abstracts, zero_activation_samples)\n",
    "    \"\"\"\n",
    "    # Load abstract texts and doc_ids\n",
    "    with open(abstract_texts_path, 'r') as f:\n",
    "        abstract_data = json.load(f)\n",
    "    \n",
    "    doc_ids = abstract_data['doc_ids']\n",
    "    abstracts = abstract_data['abstracts']\n",
    "    \n",
    "    # Find abstracts where the feature is activated\n",
    "    feature_mask = topk_indices == feature_index\n",
    "    activated_indices = np.where(feature_mask.any(axis=1))[0]\n",
    "    \n",
    "    # Get the activation values for the feature\n",
    "    activation_values = np.where(feature_mask, topk_values, 0).max(axis=1)\n",
    "    \n",
    "    # Sort activated indices by activation value\n",
    "    sorted_activated_indices = activated_indices[np.argsort(-activation_values[activated_indices])]\n",
    "    \n",
    "    # Get top m activating abstracts with length > min_length\n",
    "    top_m_abstracts = []\n",
    "    for i in sorted_activated_indices:\n",
    "        if len(abstracts[i]) > min_length:\n",
    "            top_m_abstracts.append((doc_ids[i], abstracts[i], activation_values[i]))\n",
    "        if len(top_m_abstracts) == m:\n",
    "            break\n",
    "    \n",
    "    # Find abstracts where the feature has zero activation\n",
    "    zero_activation_indices = np.where(~feature_mask.any(axis=1))[0]\n",
    "    \n",
    "    # Randomly sample m abstracts with zero activation and length > min_length\n",
    "    zero_activation_samples = []\n",
    "    random.shuffle(list(zero_activation_indices))\n",
    "    for i in zero_activation_indices:\n",
    "        if len(abstracts[i]) > min_length:\n",
    "            zero_activation_samples.append((doc_ids[i], abstracts[i], 0))\n",
    "        if len(zero_activation_samples) == m:\n",
    "            break\n",
    "    \n",
    "    return top_m_abstracts, zero_activation_samples\n",
    "\n",
    "# Example usage:\n",
    "feature_index = 1000\n",
    "m = 10\n",
    "topk_indices = np.load(\"sae_data/topk_indices.npy\")\n",
    "topk_values = np.load(\"sae_data/topk_values.npy\")\n",
    "abstract_texts_path = \"../data/vector_store/abstract_texts.json\"\n",
    "\n",
    "top_abstracts, zero_abstracts = get_feature_activations(feature_index, m, topk_indices, topk_values, abstract_texts_path)\n",
    "\n",
    "print(\"Top activating abstracts:\")\n",
    "for doc_id, abstract, activation in top_abstracts:\n",
    "    #print(f\"Doc ID: {doc_id}\")\n",
    "    print(f\"Activation: {activation}\")\n",
    "    print(f\"{abstract}\")  # Print first 100 characters\n",
    "    print()\n",
    "\n",
    "print(\"\\n\\n\\n\\nZero activation samples:\")\n",
    "for doc_id, abstract, _ in zero_abstracts:\n",
    "    #print(f\"Doc ID: {doc_id}\")\n",
    "    print(f\"{abstract}\")  # Print first 100 characters\n",
    "    print()"
   ]
  },
  {
   "cell_type": "markdown",
   "metadata": {},
   "source": [
    "# Autointerp"
   ]
  },
  {
   "cell_type": "code",
   "execution_count": 105,
   "metadata": {},
   "outputs": [],
   "source": [
    "autointerp_prompt = \"\"\" \n",
    "You are a meticulous AI and astronomy researcher conducting an important investigation into a certain neuron in a language model trained on astrophysics papers. Your task is to figure out what sort of behaviour this neuron is responsible for -- namely, on what general concepts, features, topics does this neuron fire? Here's how you'll complete the task:\n",
    "\n",
    "INPUT_DESCRIPTION: \n",
    "\n",
    "You will be given two inputs: 1) Max Activating Examples and 2) Zero Activating Examples.\n",
    "\n",
    "- MAX_ACTIVATING_EXAMPLES_DESCRIPTION\n",
    "You will be given several examples of text that activate the neuron, along with a number being how much it was activated (these number's absolute scale is meaningless, but the relative scale may be important). This means there is some feature, topic or concept in this text that 'excites' this neuron.\n",
    "\n",
    "You will also be given several examples of text that doesn't activate the neuron. This means the feature, topic or concept is not present in these texts.\n",
    "\n",
    "OUTPUT_DESCRIPTION:\n",
    "Given the inputs provided, complete the following tasks.\n",
    "\n",
    "Step 1: Based on the MAX_ACTIVATING_EXAMPLES provided, write down potential topics, concepts, and features that they share in common. These will need to be specific - remember, all of the text comes from astronomy, so these need to be highly specific astronomy concepts. You may need to look at different levels of granularity (i.e. subsets of a more general topic). List as many as you can think of. Give higher weight to concepts more present/prominent in examples with higher activations.\n",
    "Step 2: Based on the zero activating examples, rule out any of the topics/concepts/features listed above that are in the zero-activating examples. Systematically go through your list above.\n",
    "Step 3: Based on the above two steps, perform a thorough analysis of which feature, concept or topic, at what level of granularity, is likely to activate this neuron. Use Occam's razor, as long as it fits the provided evidence. Be highly rational and analytical here.\n",
    "Step 4: Based on step 4, summarise this concept in 1-8 words, in the form \"FINAL: <explanation>\". \n",
    "\n",
    "Here are the max-activating examples:\n",
    "\n",
    "{max_activating_examples}\n",
    "\n",
    "Here are the zero-activating examples:\n",
    "\n",
    "{zero_activating_examples}\n",
    "\n",
    "Work through the steps thoroughly and analytically to interpret our neuron.\n",
    "\"\"\""
   ]
  },
  {
   "cell_type": "code",
   "execution_count": 106,
   "metadata": {},
   "outputs": [],
   "source": [
    "m = 10\n",
    "feature_index = 1000\n",
    "top_abstracts, zero_abstracts = get_feature_activations(feature_index, m, topk_indices, topk_values, abstract_texts_path)\n",
    "\n",
    "# Join the abstracts into a single string\n",
    "max_activating_examples = \"\\n\\n------------------------\\n\".join([f\"Activation:{activation:.3f}\\n{abstract}\" for _, abstract, activation in top_abstracts])\n",
    "zero_abstracts = \"\\n\\n------------------------\\n\".join([abstract for _, abstract, _ in zero_abstracts])\n",
    "\n",
    "# Create the prompt\n",
    "prompt = autointerp_prompt.format(max_activating_examples=max_activating_examples, zero_activating_examples=zero_abstracts)\n",
    "\n"
   ]
  },
  {
   "cell_type": "code",
   "execution_count": 107,
   "metadata": {},
   "outputs": [],
   "source": [
    "from openai import OpenAI\n",
    "import yaml\n",
    "\n",
    "config = yaml.safe_load(open(\"../config.yaml\"))\n",
    "api_key = config['openai_api_key']\n",
    "\n",
    "client = OpenAI(\n",
    "  api_key=api_key,\n",
    ")\n",
    "\n",
    "response = client.chat.completions.create(\n",
    "    model=\"gpt-4o\",\n",
    "    messages=[\n",
    "        {\"role\": \"user\", \"content\": prompt}\n",
    "    ]\n",
    ")\n"
   ]
  },
  {
   "cell_type": "code",
   "execution_count": 108,
   "metadata": {},
   "outputs": [
    {
     "name": "stdout",
     "output_type": "stream",
     "text": [
      "Let's begin the process methodically, step-by-step. \n",
      "\n",
      "### Step 1: Identifying Potential Topics, Concepts, and Features\n",
      "\n",
      "We'll carefully analyze each of the max-activating examples to extract common themes, topics, concepts, and features.\n",
      "\n",
      "#### Activation: 0.069\n",
      "The example involves discussions on:\n",
      "- **Inverse seesaw mechanism for generating neutrino masses**.\n",
      "- **Neutrino masses and supergravity**.\n",
      "- **Sneutrino as the lightest superparticle**.\n",
      "- **Relic sneutrino dark matter abundance**.\n",
      "- **Direct detection rates in nuclear recoil experiments**.\n",
      "\n",
      "#### Activation: 0.059\n",
      "Key points include:\n",
      "- **New Majoron model within the framework of the seesaw mechanism**.\n",
      "- **Electroweak symmetry breaking and lepton-number violation**.\n",
      "- **Constraints from stellar cooling and cosmological/astrophysical constraints**.\n",
      "- **τ neutrino as heavy as 10 MeV**.\n",
      "\n",
      "#### Activation: 0.058\n",
      "This involves:\n",
      "- **Seesaw mechanism with Majorana neutrinos**.\n",
      "- **Hierarchical Dirac-type neutrino masses**.\n",
      "- **Baryogenesis via leptogenesis**.\n",
      "- **Light neutrino mass matrix and lepton asymmetry**.\n",
      "\n",
      "#### Activation: 0.058\n",
      "Topics mentioned:\n",
      "- **Proton-neutron quasiparticle random phase approximation**.\n",
      "- **Spherical nonlinear point-coupling relativistic Hartree-Bogoliubov theory**.\n",
      "- **Beta decay half-lives of neutron-deficient isotopes**.\n",
      "- **Isoscalar proton-neutron pairing**.\n",
      "\n",
      "#### Activation: 0.057\n",
      "Included themes:\n",
      "- **Minimal Type-I Seesaw mechanism**.\n",
      "- **Sterile neutrino as dark matter**.\n",
      "- **Constraints from relic abundance, indirect detection, and structure formation**.\n",
      "\n",
      "#### Activation: 0.057\n",
      "Focus on:\n",
      "- **Model for neutrino masses and dark matter**.\n",
      "- **Dark matter candidate: right-handed neutrino**.\n",
      "- **Hierarchy of neutrino masses**.\n",
      "- **Compatibility with experimental results**.\n",
      "\n",
      "#### Activation: 0.056\n",
      "Themes covered:\n",
      "- **Quantum-coherent variant of Fermi–Dirac distribution**.\n",
      "- **Neutrino oscillations in core-collapse supernovae and neutron-star mergers**.\n",
      "\n",
      "#### Activation: 0.056\n",
      "Mentions:\n",
      "- **Dark matter capture and annihilation within the Sun**.\n",
      "- **Gamma ray signals and Fermi Large Area Telescope data**.\n",
      "- **Dark matter electron scattering cross-section bounds**.\n",
      "\n",
      "#### Activation: 0.056\n",
      "Focus on:\n",
      "- **Superweakly interacting dark matter in minimal walking technicolor**.\n",
      "- **Consistency across accelerator data and cryogenic experiments**.\n",
      "- **Dark matter dynamics in various experiments**.\n",
      "\n",
      "#### Activation: 0.056\n",
      "Involves:\n",
      "- **Nuclear pairing in atomic nuclei and neutron-star crusts**.\n",
      "- **Energy-density functional theory with Skyrme functionals**.\n",
      "\n",
      "### Step 2: Examination of Zero Activating Examples\n",
      "\n",
      "Let's now identify zero-activating examples and see if they contain any of the key concepts from Step 1:\n",
      "\n",
      "- **Magnetic fields and sunspots**: No mentions of neutrinos, dark matter, seesaw mechanism, Majoron models, or proton-neutron pairing.\n",
      "- **Inflationary cosmology and Higgs-Axion**: No mentions of neutrinos, dark matter, seesaw mechanism, Majoron models, or proton-neutron pairing.\n",
      "- **Brown dwarfs and substellar objects**: No mentions of neutrinos, dark matter, seesaw mechanism, Majoron models, or proton-neutron pairing.\n",
      "- **Optical fibers and radial velocity**: No mentions of neutrinos, dark matter, seesaw mechanism, Majoron models, or proton-neutron pairing.\n",
      "- **Star clusters and main-sequence turn-offs**: No mentions of neutrinos, dark matter, seesaw mechanism, Majoron models, or proton-neutron pairing.\n",
      "- **Exoplanets and radial velocity measurements**: No mentions of neutrinos, dark matter, seesaw mechanism, Majoron models, or proton-neutron pairing.\n",
      "- **Galactic center and wolf-rayet stars**: No mentions of neutrinos, dark matter, seesaw mechanism, Majoron models, or proton-neutron pairing.\n",
      "- **Protostellar chemistry and ALMA**: No mentions of neutrinos, dark matter, seesaw mechanism, Majoron models, or proton-neutron pairing.\n",
      "- **Star formation and molecular clouds**: No mentions of neutrinos, dark matter, seesaw mechanism, Majoron models, or proton-neutron pairing.\n",
      "\n",
      "### Step 3: Analysis and Conclusion\n",
      "\n",
      "From Steps 1 and 2:\n",
      "\n",
      "- **Inverse seesaw mechanism**\n",
      "- **Neutrino masses and neutrino models (Type-I Seesaw, Majoron models)**\n",
      "- **Proton-neutron pairing and beta decay**\n",
      "- **Sterile neutrinos as dark matter**\n",
      "- **Cosmological constraints and dark matter models**\n",
      "- **Neutrino oscillations in astrophysical phenomena**\n",
      "\n",
      "We see that the common thread among the max-activating examples involves various **neutrino-related physics** topics including **neutrino masses, seesaw mechanisms, Majoron models, and dark matter candidates involving neutrinos**. These concepts are specific enough to not appear in the zero examples, which cover diverse astronomy themes but steer clear of detailed neutrino physics.\n",
      "\n",
      "### Step 4: Summarize the Concept\n",
      "\n",
      "Based on our analysis:\n",
      "FINAL: **Neutrino physics and dark matter models**\n"
     ]
    }
   ],
   "source": [
    "print(response.choices[0].message.content)"
   ]
  },
  {
   "cell_type": "code",
   "execution_count": 109,
   "metadata": {},
   "outputs": [
    {
     "name": "stdout",
     "output_type": "stream",
     "text": [
      "Interpretation: **Neutrino physics and dark matter models**\n"
     ]
    }
   ],
   "source": [
    "interpretation = response.choices[0].message.content.split(\"FINAL:\")[1].strip()\n",
    "print(f\"Interpretation: {interpretation}\")"
   ]
  },
  {
   "cell_type": "code",
   "execution_count": 121,
   "metadata": {},
   "outputs": [],
   "source": [
    "# Samples to predict\n",
    "top_abstracts, zero_abstracts = get_feature_activations(feature_index, m*2, topk_indices, topk_values, abstract_texts_path)\n",
    "\n",
    "# Keep the second k/2 \n",
    "top_abstracts = top_abstracts[m//2:]\n",
    "top_abstracts = [abstract for _, abstract, _ in top_abstracts]\n",
    "\n",
    "zero_abstracts = zero_abstracts[m//2:]"
   ]
  },
  {
   "cell_type": "code",
   "execution_count": 127,
   "metadata": {},
   "outputs": [],
   "source": [
    "prediction_base_prompt = \"\"\"\n",
    "You are an AI expert that is predicting which abstracts will activate a certain neuron in a language model trained on astrophysics papers. \n",
    "Your task is to predict which of the following abstracts will activate the neuron the most. Here's how you'll complete the task:\n",
    "\n",
    "INPUT_DESCRIPTION:\n",
    "You will be given the description of the type of paper abstracts on which the neuron activates. This description will be short.\n",
    "\n",
    "You will then be given an abstract. Based on the concept of the abstract, you will predict whether the neuron will activate or not.\n",
    "\n",
    "OUTPUT_DESCRIPTION:\n",
    "Given the inputs provided, complete the following tasks.\n",
    "\n",
    "Step 1: Based on the description of the type of paper abstracts on which the neuron activates, reason step by step about whether the neuron will activate on this abstract or not. Be highly rational and analytical here. The abstract may not be clear cut - it may contain topics/concepts close to the neuron description, but not exact. In this case, reason thoroughly and use your best judgement.\n",
    "Step 2: Based on the above step, predict whether the neuron will activate on this abstract or not. If you predict it will activate, give a confidence score from 0 to 1 (i.e. 1 if you're certain it will activate because it contains topics/concepts that match the description exactly, 0 if you're highly uncertain). If you predict it will not activate, give a confidence score from -1 to 0.\n",
    "Step 3: Provide the final prediction in the form \"PREDICTION: <number>\". Do NOT return anything after this.\n",
    "\n",
    "Here is the description/interpretation of the type of paper abstracts on which the neuron activates:\n",
    "{description}\n",
    "\n",
    "Here is the abstract to predict:\n",
    "{abstract}\n",
    "\n",
    "Work through the steps thoroughly and analytically to predict whether the neuron will activate on this abstract.\n",
    "\"\"\"\n",
    "\n",
    "# Choose a random abstract to predict\n",
    "#abstract_to_predict = random.choice(top_abstracts)\n",
    "\n",
    "# # Create the prediction prompt\n",
    "# prediction_prompt = prediction_base_prompt.format(description=interpretation, abstract=abstract_to_predict)\n",
    "\n",
    "# prediction_response = client.chat.completions.create(\n",
    "#     model=\"gpt-4o\",\n",
    "#     messages=[\n",
    "#         {\"role\": \"user\", \"content\": prediction_prompt}\n",
    "#     ]\n",
    "# )"
   ]
  },
  {
   "cell_type": "code",
   "execution_count": 119,
   "metadata": {},
   "outputs": [
    {
     "name": "stdout",
     "output_type": "stream",
     "text": [
      "\n",
      "You are an AI expert that is predicting which abstracts will activate a certain neuron in a language model trained on astrophysics papers. \n",
      "Your task is to predict which of the following abstracts will activate the neuron the most. Here's how you'll complete the task:\n",
      "\n",
      "INPUT_DESCRIPTION:\n",
      "You will be given the description of the type of paper abstracts on which the neuron activates. This description will be short.\n",
      "\n",
      "You will then be given an abstract. Based on the concept of the abstract, you will predict whether the neuron will activate or not.\n",
      "\n",
      "OUTPUT_DESCRIPTION:\n",
      "Given the inputs provided, complete the following tasks.\n",
      "\n",
      "Step 1: Based on the description of the type of paper abstracts on which the neuron activates, reason step by step about whether the neuron will activate on this abstract or not. Be highly rational and analytical here. The abstract may not be clear cut - it may contain topics/concepts close to the neuron description, but not exact. In this case, reason thoroughly and use your best judgement.\n",
      "Step 2: Based on the above step, predict whether the neuron will activate on this abstract or not. If you predict it will activate, give a confidence score from 0 to 1 (i.e. 1 if you're certain it will activate because it contains topics/concepts that match the description exactly, 0 if you're highly uncertain). If you predict it will not activate, give a confidence score from -1 to 0.\n",
      "Step 3: Provide the final prediction in the form \"PREDICTION: <number>\".\n",
      "\n",
      "Here is the description/interpretation of the type of paper abstracts on which the neuron activates:\n",
      "**Neutrino physics and dark matter models**\n",
      "\n",
      "Here is the abstract to predict:\n",
      "We study the cosmological effects of two-body dark matter decays where the products of the decay include a massless and a massive particle. We show that if the massive daughter particle is slightly warm it is  possible to relieve the tension between  distance ladder measurements of the present day Hubble parameter with measurements from the cosmic microwave background. \n",
      "\n",
      "Work through the steps thoroughly and analytically to predict whether the neuron will activate on this abstract.\n",
      "\n"
     ]
    }
   ],
   "source": [
    "print(prediction_prompt)"
   ]
  },
  {
   "cell_type": "code",
   "execution_count": 120,
   "metadata": {},
   "outputs": [
    {
     "name": "stdout",
     "output_type": "stream",
     "text": [
      "### Step 1:\n",
      "- **Neuron Description**: The neuron activates on paper abstracts related to \"Neutrino physics and dark matter models\".\n",
      "- **Abstract Review**: \n",
      "  - The abstract discusses two-body dark matter decays.\n",
      "  - The products of the decay include a massless and a massive particle.\n",
      "  - The focus is on cosmological effects, specifically how the slightly warm nature of the massive daughter particle can alleviate discrepancies between different measurements of the Hubble parameter.\n",
      "\n",
      "**Analysis**:\n",
      "  - **Dark Matter Models**: The abstract directly involves dark matter decay, which falls under the category of dark matter models.\n",
      "  - **Neutrino Physics**: The abstract mentions massless and massive particles as decay products. Neutrinos are often massless or nearly massless particles, and while the abstract does not explicitly mention neutrinos, the context of massless particles in dark matter decays could imply relevance to neutrino physics.\n",
      "\n",
      "### Step 2:\n",
      "- Based on the abstract's focus on dark matter and the involvement of massless and massive particle decays, it aligns closely with the neuron’s activation criteria. The implications for cosmology and Hubble parameter are secondary but relevant connections to the main theme.\n",
      "\n",
      "**Confidence Score**: The content fits well within the description, although not explicitly about neutrinos, it sufficiently aligns with dark matter models.\n",
      "- **Confidence**: 0.8\n",
      "\n",
      "### Step 3:\n",
      "**Final Prediction**: The neuron is likely to activate on this abstract.\n",
      "\n",
      "**PREDICTION**: 0.8\n"
     ]
    }
   ],
   "source": [
    "print(prediction_response.choices[0].message.content)"
   ]
  },
  {
   "cell_type": "code",
   "execution_count": 130,
   "metadata": {},
   "outputs": [
    {
     "name": "stdout",
     "output_type": "stream",
     "text": [
      "10 top abstracts\n",
      "10 zero abstracts\n"
     ]
    },
    {
     "name": "stderr",
     "output_type": "stream",
     "text": [
      "  5%|▌         | 1/20 [00:05<01:40,  5.27s/it]"
     ]
    },
    {
     "name": "stdout",
     "output_type": "stream",
     "text": [
      "Prediction: 0.9\n"
     ]
    },
    {
     "name": "stderr",
     "output_type": "stream",
     "text": [
      " 10%|█         | 2/20 [00:10<01:31,  5.10s/it]"
     ]
    },
    {
     "name": "stdout",
     "output_type": "stream",
     "text": [
      "Prediction: 0.9\n"
     ]
    },
    {
     "name": "stderr",
     "output_type": "stream",
     "text": [
      " 15%|█▌        | 3/20 [00:13<01:14,  4.41s/it]"
     ]
    },
    {
     "name": "stdout",
     "output_type": "stream",
     "text": [
      "Prediction: 0.7\n"
     ]
    },
    {
     "name": "stderr",
     "output_type": "stream",
     "text": [
      " 20%|██        | 4/20 [00:38<03:16, 12.25s/it]"
     ]
    },
    {
     "name": "stdout",
     "output_type": "stream",
     "text": [
      "Prediction: 0.9\n"
     ]
    },
    {
     "name": "stderr",
     "output_type": "stream",
     "text": [
      " 25%|██▌       | 5/20 [01:04<04:21, 17.44s/it]"
     ]
    },
    {
     "name": "stdout",
     "output_type": "stream",
     "text": [
      "Prediction: 0.9\n"
     ]
    },
    {
     "name": "stderr",
     "output_type": "stream",
     "text": [
      " 30%|███       | 6/20 [01:30<04:42, 20.19s/it]"
     ]
    },
    {
     "name": "stdout",
     "output_type": "stream",
     "text": [
      "Prediction: 1\n"
     ]
    },
    {
     "name": "stderr",
     "output_type": "stream",
     "text": [
      " 35%|███▌      | 7/20 [01:37<03:25, 15.84s/it]"
     ]
    },
    {
     "name": "stdout",
     "output_type": "stream",
     "text": [
      "Prediction: 0.9\n"
     ]
    },
    {
     "name": "stderr",
     "output_type": "stream",
     "text": [
      " 40%|████      | 8/20 [02:02<03:45, 18.77s/it]"
     ]
    },
    {
     "name": "stdout",
     "output_type": "stream",
     "text": [
      "Prediction: 0.7\n"
     ]
    },
    {
     "name": "stderr",
     "output_type": "stream",
     "text": [
      " 45%|████▌     | 9/20 [02:26<03:45, 20.50s/it]"
     ]
    },
    {
     "name": "stdout",
     "output_type": "stream",
     "text": [
      "Prediction: 1\n"
     ]
    },
    {
     "name": "stderr",
     "output_type": "stream",
     "text": [
      " 50%|█████     | 10/20 [02:50<03:37, 21.73s/it]"
     ]
    },
    {
     "name": "stdout",
     "output_type": "stream",
     "text": [
      "Prediction: 1\n"
     ]
    },
    {
     "name": "stderr",
     "output_type": "stream",
     "text": [
      " 55%|█████▌    | 11/20 [02:59<02:39, 17.71s/it]"
     ]
    },
    {
     "name": "stdout",
     "output_type": "stream",
     "text": [
      "Prediction: -1\n"
     ]
    },
    {
     "name": "stderr",
     "output_type": "stream",
     "text": [
      " 60%|██████    | 12/20 [03:26<02:44, 20.52s/it]"
     ]
    },
    {
     "name": "stdout",
     "output_type": "stream",
     "text": [
      "Prediction: -0.8\n"
     ]
    },
    {
     "name": "stderr",
     "output_type": "stream",
     "text": [
      " 65%|██████▌   | 13/20 [03:51<02:33, 21.92s/it]"
     ]
    },
    {
     "name": "stdout",
     "output_type": "stream",
     "text": [
      "Prediction: -1\n"
     ]
    },
    {
     "name": "stderr",
     "output_type": "stream",
     "text": [
      " 70%|███████   | 14/20 [03:58<01:43, 17.22s/it]"
     ]
    },
    {
     "name": "stdout",
     "output_type": "stream",
     "text": [
      "Prediction: -1\n"
     ]
    },
    {
     "name": "stderr",
     "output_type": "stream",
     "text": [
      " 75%|███████▌  | 15/20 [04:26<01:43, 20.67s/it]"
     ]
    },
    {
     "name": "stdout",
     "output_type": "stream",
     "text": [
      "Prediction: -0.8\n"
     ]
    },
    {
     "name": "stderr",
     "output_type": "stream",
     "text": [
      " 80%|████████  | 16/20 [04:51<01:27, 21.85s/it]"
     ]
    },
    {
     "name": "stdout",
     "output_type": "stream",
     "text": [
      "Prediction: -0.9\n"
     ]
    },
    {
     "name": "stderr",
     "output_type": "stream",
     "text": [
      " 85%|████████▌ | 17/20 [04:55<00:49, 16.50s/it]"
     ]
    },
    {
     "name": "stdout",
     "output_type": "stream",
     "text": [
      "Prediction: -0.8\n"
     ]
    },
    {
     "name": "stderr",
     "output_type": "stream",
     "text": [
      " 90%|█████████ | 18/20 [05:21<00:38, 19.40s/it]"
     ]
    },
    {
     "name": "stdout",
     "output_type": "stream",
     "text": [
      "Prediction: -0.9\n"
     ]
    },
    {
     "name": "stderr",
     "output_type": "stream",
     "text": [
      " 95%|█████████▌| 19/20 [05:47<00:21, 21.27s/it]"
     ]
    },
    {
     "name": "stdout",
     "output_type": "stream",
     "text": [
      "Prediction: -1\n"
     ]
    },
    {
     "name": "stderr",
     "output_type": "stream",
     "text": [
      "100%|██████████| 20/20 [06:13<00:00, 18.67s/it]"
     ]
    },
    {
     "name": "stdout",
     "output_type": "stream",
     "text": [
      "Prediction: -1\n"
     ]
    },
    {
     "name": "stderr",
     "output_type": "stream",
     "text": [
      "\n"
     ]
    }
   ],
   "source": [
    "from tqdm import tqdm\n",
    "\n",
    "# Samples to predict\n",
    "m = 10\n",
    "top_abstracts, zero_abstracts = get_feature_activations(feature_index, m*2, topk_indices, topk_values, abstract_texts_path)\n",
    "\n",
    "# Keep the second k/2 \n",
    "top_abstracts = [abstract for _, abstract, _ in top_abstracts]\n",
    "top_abstracts = top_abstracts[m:]\n",
    "print(f'{len(top_abstracts)} top abstracts')\n",
    "\n",
    "zero_abstracts = zero_abstracts[m:]\n",
    "print(f'{len(zero_abstracts)} zero abstracts')\n",
    "\n",
    "# Go through all top abstracts and all zero abstracts and predict\n",
    "predictions = []\n",
    "ground_truth = [1] * len(top_abstracts) + [0] * len(zero_abstracts)\n",
    "\n",
    "for abstract in tqdm(top_abstracts + zero_abstracts):\n",
    "    prediction_prompt = prediction_base_prompt.format(description=interpretation, abstract=abstract)\n",
    "\n",
    "    prediction_response = client.chat.completions.create(\n",
    "        model=\"gpt-4o\",\n",
    "        messages=[\n",
    "            {\"role\": \"user\", \"content\": prediction_prompt}\n",
    "        ]\n",
    "    )\n",
    "\n",
    "    prediction = prediction_response.choices[0].message.content.split(\"PREDICTION:\")[1].strip()\n",
    "    # Remove '*' from the prediction\n",
    "    prediction = prediction.replace(\"*\", \"\")\n",
    "    print(f\"Prediction: {prediction}\")\n",
    "    predictions.append(float(prediction))"
   ]
  },
  {
   "cell_type": "code",
   "execution_count": 136,
   "metadata": {},
   "outputs": [
    {
     "name": "stdout",
     "output_type": "stream",
     "text": [
      "Pearson correlation: 0.9944004281595773\n",
      "F1 score: 1.0\n"
     ]
    }
   ],
   "source": [
    "# Calculate metrics - Pearson correlation, F1\n",
    "\n",
    "# Pearson correlation\n",
    "from scipy.stats import pearsonr\n",
    "\n",
    "correlation, _ = pearsonr(ground_truth, predictions)\n",
    "\n",
    "print(f\"Pearson correlation: {correlation}\")\n",
    "\n",
    "# F1 score\n",
    "from sklearn.metrics import f1_score\n",
    "\n",
    "# Convert predictions to binary\n",
    "binary_predictions = [1 if p > 0 else 0 for p in predictions]\n",
    "\n",
    "f1 = f1_score(ground_truth, binary_predictions)\n",
    "\n",
    "print(f\"F1 score: {f1}\")"
   ]
  },
  {
   "cell_type": "markdown",
   "metadata": {},
   "source": [
    "## Refactor autointerp"
   ]
  },
  {
   "cell_type": "code",
   "execution_count": null,
   "metadata": {},
   "outputs": [],
   "source": [
    "from openai import OpenAI\n",
    "import yaml\n",
    "from tqdm import tqdm\n",
    "from scipy.stats import pearsonr\n",
    "from sklearn.metrics import f1_score\n",
    "\n",
    "# Load them\n",
    "topk_indices = np.load(\"sae_data/topk_indices.npy\")\n",
    "topk_values = np.load(\"sae_data/topk_values.npy\")\n",
    "\n",
    "abstract_texts_path = \"../data/vector_store/abstract_texts.json\"\n",
    "\n",
    "autointerp_prompt = \"\"\" \n",
    "You are a meticulous AI and astronomy researcher conducting an important investigation into a certain neuron in a language model trained on astrophysics papers. Your task is to figure out what sort of behaviour this neuron is responsible for -- namely, on what general concepts, features, topics does this neuron fire? Here's how you'll complete the task:\n",
    "\n",
    "INPUT_DESCRIPTION: \n",
    "\n",
    "You will be given two inputs: 1) Max Activating Examples and 2) Zero Activating Examples.\n",
    "\n",
    "- MAX_ACTIVATING_EXAMPLES_DESCRIPTION\n",
    "You will be given several examples of text that activate the neuron, along with a number being how much it was activated (these number's absolute scale is meaningless, but the relative scale may be important). This means there is some feature, topic or concept in this text that 'excites' this neuron.\n",
    "\n",
    "You will also be given several examples of text that doesn't activate the neuron. This means the feature, topic or concept is not present in these texts.\n",
    "\n",
    "OUTPUT_DESCRIPTION:\n",
    "Given the inputs provided, complete the following tasks.\n",
    "\n",
    "Step 1: Based on the MAX_ACTIVATING_EXAMPLES provided, write down potential topics, concepts, and features that they share in common. These will need to be specific - remember, all of the text comes from astronomy, so these need to be highly specific astronomy concepts. You may need to look at different levels of granularity (i.e. subsets of a more general topic). List as many as you can think of. Give higher weight to concepts more present/prominent in examples with higher activations.\n",
    "Step 2: Based on the zero activating examples, rule out any of the topics/concepts/features listed above that are in the zero-activating examples. Systematically go through your list above.\n",
    "Step 3: Based on the above two steps, perform a thorough analysis of which feature, concept or topic, at what level of granularity, is likely to activate this neuron. Use Occam's razor, as long as it fits the provided evidence. Be highly rational and analytical here.\n",
    "Step 4: Based on step 4, summarise this concept in 1-8 words, in the form \"FINAL: <explanation>\". \n",
    "\n",
    "Here are the max-activating examples:\n",
    "\n",
    "{max_activating_examples}\n",
    "\n",
    "Here are the zero-activating examples:\n",
    "\n",
    "{zero_activating_examples}\n",
    "\n",
    "Work through the steps thoroughly and analytically to interpret our neuron.\n",
    "\"\"\"\n",
    "\n",
    "config = yaml.safe_load(open(\"../config.yaml\"))\n",
    "api_key = config['openai_api_key']\n",
    "\n",
    "client = OpenAI(\n",
    "  api_key=api_key,\n",
    ")\n",
    "\n",
    "m = 10\n",
    "feature_index = 1000\n",
    "top_abstracts, zero_abstracts = get_feature_activations(feature_index, m, topk_indices, topk_values, abstract_texts_path)\n",
    "\n",
    "# Join the abstracts into a single string\n",
    "max_activating_examples = \"\\n\\n------------------------\\n\".join([f\"Activation:{activation:.3f}\\n{abstract}\" for _, abstract, activation in top_abstracts])\n",
    "zero_abstracts = \"\\n\\n------------------------\\n\".join([abstract for _, abstract, _ in zero_abstracts])\n",
    "\n",
    "# Create the prompt\n",
    "prompt = autointerp_prompt.format(max_activating_examples=max_activating_examples, zero_activating_examples=zero_abstracts)\n",
    "\n",
    "response = client.chat.completions.create(\n",
    "    model=\"gpt-4o\",\n",
    "    messages=[\n",
    "        {\"role\": \"user\", \"content\": prompt}\n",
    "    ]\n",
    ")\n",
    "\n",
    "interpretation = response.choices[0].message.content.split(\"FINAL:\")[1].strip()\n",
    "print(f\"Interpretation: {interpretation}\")\n",
    "\n",
    "# Samples to predict\n",
    "top_abstracts, zero_abstracts = get_feature_activations(feature_index, m*2, topk_indices, topk_values, abstract_texts_path)\n",
    "\n",
    "# Keep the second k/2 \n",
    "top_abstracts = top_abstracts[m//2:]\n",
    "top_abstracts = [abstract for _, abstract, _ in top_abstracts]\n",
    "\n",
    "zero_abstracts = zero_abstracts[m//2:]\n",
    "\n",
    "prediction_base_prompt = \"\"\"\n",
    "You are an AI expert that is predicting which abstracts will activate a certain neuron in a language model trained on astrophysics papers. \n",
    "Your task is to predict which of the following abstracts will activate the neuron the most. Here's how you'll complete the task:\n",
    "\n",
    "INPUT_DESCRIPTION:\n",
    "You will be given the description of the type of paper abstracts on which the neuron activates. This description will be short.\n",
    "\n",
    "You will then be given an abstract. Based on the concept of the abstract, you will predict whether the neuron will activate or not.\n",
    "\n",
    "OUTPUT_DESCRIPTION:\n",
    "Given the inputs provided, complete the following tasks.\n",
    "\n",
    "Step 1: Based on the description of the type of paper abstracts on which the neuron activates, reason step by step about whether the neuron will activate on this abstract or not. Be highly rational and analytical here. The abstract may not be clear cut - it may contain topics/concepts close to the neuron description, but not exact. In this case, reason thoroughly and use your best judgement.\n",
    "Step 2: Based on the above step, predict whether the neuron will activate on this abstract or not. If you predict it will activate, give a confidence score from 0 to 1 (i.e. 1 if you're certain it will activate because it contains topics/concepts that match the description exactly, 0 if you're highly uncertain). If you predict it will not activate, give a confidence score from -1 to 0.\n",
    "Step 3: Provide the final prediction in the form \"PREDICTION: <number>\". Do NOT return anything after this.\n",
    "\n",
    "Here is the description/interpretation of the type of paper abstracts on which the neuron activates:\n",
    "{description}\n",
    "\n",
    "Here is the abstract to predict:\n",
    "{abstract}\n",
    "\n",
    "Work through the steps thoroughly and analytically to predict whether the neuron will activate on this abstract.\n",
    "\"\"\"\n",
    "\n",
    "# Samples to predict\n",
    "num_to_predict = 5\n",
    "top_abstracts, zero_abstracts = get_feature_activations(feature_index, m*2, topk_indices, topk_values, abstract_texts_path)\n",
    "\n",
    "# Keep the second k/2 \n",
    "top_abstracts = [abstract for _, abstract, _ in top_abstracts]\n",
    "top_abstracts = top_abstracts[-num_to_predict:]\n",
    "print(f'{len(top_abstracts)} top abstracts')\n",
    "\n",
    "zero_abstracts = zero_abstracts[-num_to_predict:]\n",
    "print(f'{len(zero_abstracts)} zero abstracts')\n",
    "\n",
    "# Go through all top abstracts and all zero abstracts and predict\n",
    "predictions = []\n",
    "ground_truth = [1] * len(top_abstracts) + [0] * len(zero_abstracts)\n",
    "\n",
    "for abstract in tqdm(top_abstracts + zero_abstracts):\n",
    "    prediction_prompt = prediction_base_prompt.format(description=interpretation, abstract=abstract)\n",
    "\n",
    "    prediction_response = client.chat.completions.create(\n",
    "        model=\"gpt-4o\",\n",
    "        messages=[\n",
    "            {\"role\": \"user\", \"content\": prediction_prompt}\n",
    "        ]\n",
    "    )\n",
    "\n",
    "    prediction = prediction_response.choices[0].message.content.split(\"PREDICTION:\")[1].strip()\n",
    "    # Remove '*' from the prediction\n",
    "    prediction = prediction.replace(\"*\", \"\")\n",
    "    print(f\"Prediction: {prediction}\")\n",
    "    predictions.append(float(prediction))\n",
    "\n",
    "correlation, _ = pearsonr(ground_truth, predictions)\n",
    "\n",
    "print(f\"Pearson correlation: {correlation}\")\n",
    "\n",
    "# F1 score\n",
    "\n",
    "# Convert predictions to binary\n",
    "binary_predictions = [1 if p > 0 else 0 for p in predictions]\n",
    "\n",
    "f1 = f1_score(ground_truth, binary_predictions)\n",
    "\n",
    "print(f\"F1 score: {f1}\")"
   ]
  },
  {
   "cell_type": "code",
   "execution_count": 140,
   "metadata": {},
   "outputs": [
    {
     "name": "stdout",
     "output_type": "stream",
     "text": [
      "5 top abstracts\n",
      "5 zero abstracts\n"
     ]
    },
    {
     "name": "stderr",
     "output_type": "stream",
     "text": [
      " 10%|█         | 1/10 [00:03<00:31,  3.47s/it]"
     ]
    },
    {
     "name": "stdout",
     "output_type": "stream",
     "text": [
      "ChatCompletion(id='chatcmpl-9jAxe3QUX6lzGD0Q9Ol1nYXFbfBrh', choices=[Choice(finish_reason='stop', index=0, logprobs=None, message=ChatCompletionMessage(content='Step 1: \\nThe abstract mentions the type II seesaw mechanism for neutrino masses, which is related to the \"Neutrino Seesaw Mechanism\" part of the neuron description. Additionally, it discusses dark matter in the form of an unstable gravitino, which is related to the \"Dark Matter\" aspect of the neuron description. The abstract also talks about providing a natural explanation for certain experimental results and explaining neutrino masses without high scale physics, which are topics generally related to astrophysics.\\n\\nStep 2:\\nGiven that the abstract covers topics related to both the Neutrino Seesaw Mechanism and Dark Matter, and also touches on other aspects relevant to astrophysics, it is highly likely that the neuron will activate on this abstract. I am confident in this prediction.\\n\\nPREDICTION: 1.0', role='assistant', function_call=None, tool_calls=None))], created=1720553922, model='gpt-3.5-turbo-0125', object='chat.completion', service_tier=None, system_fingerprint=None, usage=CompletionUsage(completion_tokens=171, prompt_tokens=491, total_tokens=662))\n",
      "Prediction: 1.0\n"
     ]
    },
    {
     "name": "stderr",
     "output_type": "stream",
     "text": [
      " 20%|██        | 2/10 [00:07<00:28,  3.59s/it]"
     ]
    },
    {
     "name": "stdout",
     "output_type": "stream",
     "text": [
      "ChatCompletion(id='chatcmpl-9jAxhhBsx9ETncQEe7Cs1NDDTKl43', choices=[Choice(finish_reason='stop', index=0, logprobs=None, message=ChatCompletionMessage(content='Step 1: The description of the type of paper abstracts on which the neuron activates includes the \"Neutrino Seesaw Mechanism & Dark Matter.\" The abstract mentions light Majorana neutrinos and their right-handed counterparts in the context of a seesaw mechanism, which is relevant to the concept of the Neutrino Seesaw Mechanism. Additionally, the abstract discusses cosmological baryon number asymmetry, which could be related to dark matter indirectly. Overall, the abstract touches upon topics related to neutrinos and cosmology, which align with the neuron\\'s activation description.\\n\\nStep 2: Based on the analysis above, I predict that the neuron will activate on this abstract with a moderate confidence score of 0.6. While the abstract discusses relevant topics related to the Neutrino Seesaw Mechanism and cosmology, it does not explicitly mention dark matter. However, the overall context of the abstract aligns with the neuron\\'s activation description.\\n\\nPREDICTION: 0.6', role='assistant', function_call=None, tool_calls=None))], created=1720553925, model='gpt-3.5-turbo-0125', object='chat.completion', service_tier=None, system_fingerprint=None, usage=CompletionUsage(completion_tokens=205, prompt_tokens=467, total_tokens=672))\n",
      "Prediction: 0.6\n"
     ]
    },
    {
     "name": "stderr",
     "output_type": "stream",
     "text": [
      " 30%|███       | 3/10 [00:09<00:22,  3.25s/it]"
     ]
    },
    {
     "name": "stdout",
     "output_type": "stream",
     "text": [
      "ChatCompletion(id='chatcmpl-9jAxlLtWGmxn4rje57Oq97hDrRsdN', choices=[Choice(finish_reason='stop', index=0, logprobs=None, message=ChatCompletionMessage(content='Step 1:\\nThe description provided mentions the \"Neutrino Seesaw Mechanism & Dark Matter\". The abstract talks about a toy-model of matter bounce with two fermion species and a curvaton mechanism. It also mentions baryogenesis and constraints on dark matter particles.\\n\\nThe mention of fermion species and dark matter particles align with the neuron description. However, the abstract does not explicitly mention the Neutrino Seesaw Mechanism. It does discuss related topics such as curvaton mechanism and baryogenesis, which may activate the neuron to some extent.\\n\\nStep 2:\\nGiven that the abstract contains relevant topics such as fermion species and dark matter particles, but does not explicitly mention the Neutrino Seesaw Mechanism, I predict with medium confidence that the neuron will activate on this abstract. \\nConfidence score: 0.6\\n\\nPREDICTION: 0.6', role='assistant', function_call=None, tool_calls=None))], created=1720553929, model='gpt-3.5-turbo-0125', object='chat.completion', service_tier=None, system_fingerprint=None, usage=CompletionUsage(completion_tokens=185, prompt_tokens=472, total_tokens=657))\n",
      "Prediction: 0.6\n"
     ]
    },
    {
     "name": "stderr",
     "output_type": "stream",
     "text": [
      " 40%|████      | 4/10 [00:12<00:17,  2.98s/it]"
     ]
    },
    {
     "name": "stdout",
     "output_type": "stream",
     "text": [
      "ChatCompletion(id='chatcmpl-9jAxoiZ379xKWWfGXT8ISRFiVTa58', choices=[Choice(finish_reason='stop', index=0, logprobs=None, message=ChatCompletionMessage(content='Step 1: The abstract discusses the concept of sterile neutrinos as a dark matter candidate, which is related to the \"Neutrino Seesaw Mechanism & Dark Matter\" description. It talks about different mechanisms for sterile neutrino dark matter production, including the Dodelson-Widrow mechanism and the freeze-in mechanism. It also reviews motivations for such frameworks and their phenomenological signatures.\\n\\nStep 2: Given that the abstract directly discusses sterile neutrinos as dark matter candidates and various mechanisms for their production, it aligns closely with the description of the neuron that activates on papers related to the \"Neutrino Seesaw Mechanism & Dark Matter.\" Therefore, it is likely that the neuron will activate on this abstract.\\n\\nConfidence Score: 0.9\\n\\nPREDICTION: 1', role='assistant', function_call=None, tool_calls=None))], created=1720553932, model='gpt-3.5-turbo-0125', object='chat.completion', service_tier=None, system_fingerprint=None, usage=CompletionUsage(completion_tokens=164, prompt_tokens=526, total_tokens=690))\n",
      "Prediction: 1\n"
     ]
    },
    {
     "name": "stderr",
     "output_type": "stream",
     "text": [
      " 50%|█████     | 5/10 [00:15<00:14,  2.88s/it]"
     ]
    },
    {
     "name": "stdout",
     "output_type": "stream",
     "text": [
      "ChatCompletion(id='chatcmpl-9jAxrqTinW1dwPLOyDk7jQhkycf5N', choices=[Choice(finish_reason='stop', index=0, logprobs=None, message=ChatCompletionMessage(content='Step 1: The abstract discusses the inverse Seesaw scenario for neutrino masses, Lepton number symmetry, Majoron associated with spontaneous symmetry breaking, sterile neutrinos at the keV-MeV scale, and their potential role as dark matter. While the abstract does not explicitly mention the \"Neutrino Seesaw Mechanism & Dark Matter\" in the description, it covers related concepts such as neutrino masses, symmetry breaking, and dark matter components in the Universe. Therefore, there are significant overlaps with the neuron\\'s description.\\n\\nStep 2: Considering the overlap between the abstract content and the neuron description, I predict that the neuron will activate on this abstract with a relatively high confidence level. The abstract covers topics closely related to the neuron\\'s activation criteria, even though it does not directly mention the specific keywords in the neuron description.\\n\\nPREDICTION: 0.8', role='assistant', function_call=None, tool_calls=None))], created=1720553935, model='gpt-3.5-turbo-0125', object='chat.completion', service_tier=None, system_fingerprint=None, usage=CompletionUsage(completion_tokens=179, prompt_tokens=511, total_tokens=690))\n",
      "Prediction: 0.8\n"
     ]
    },
    {
     "name": "stderr",
     "output_type": "stream",
     "text": [
      " 60%|██████    | 6/10 [00:18<00:12,  3.15s/it]"
     ]
    },
    {
     "name": "stdout",
     "output_type": "stream",
     "text": [
      "ChatCompletion(id='chatcmpl-9jAxtzNFa8UQyvSArlr9xafExXukl', choices=[Choice(finish_reason='stop', index=0, logprobs=None, message=ChatCompletionMessage(content='Step 1: The abstract discusses the X-ray variability of a particular object based on ASCA observatory data. It mentions the power spectrum of the object in a certain frequency range, with a flat portion in the spectrum at specific frequencies. It also talks about periodic variability dominating over stochastic variability at lower frequencies and mentions a model that best fits the observations. There is a mention of jet nutation and the suggestion that the power spectrum may not reflect the disk structure at certain frequencies.\\n\\nStep 2: The abstract does not directly mention the Neutrino Seesaw Mechanism or Dark Matter. It focuses on X-ray variability of an object, which is not directly related to these topics. The topics discussed in the abstract do not have a clear connection to the description of the neuron activation, which is based on the Neutrino Seesaw Mechanism & Dark Matter.\\n\\nTherefore, based on the lack of direct relevance to the Neutrino Seesaw Mechanism & Dark Matter in the abstract, I predict that the neuron will not activate on this abstract.\\n\\nStep 3: PREDICTION: -0.8', role='assistant', function_call=None, tool_calls=None))], created=1720553937, model='gpt-3.5-turbo-0125', object='chat.completion', service_tier=None, system_fingerprint=None, usage=CompletionUsage(completion_tokens=226, prompt_tokens=716, total_tokens=942))\n",
      "Prediction: -0.8\n"
     ]
    },
    {
     "name": "stderr",
     "output_type": "stream",
     "text": [
      " 70%|███████   | 7/10 [00:22<00:10,  3.35s/it]"
     ]
    },
    {
     "name": "stdout",
     "output_type": "stream",
     "text": [
      "ChatCompletion(id='chatcmpl-9jAxxov8cP2xt2k99McysomoV734J', choices=[Choice(finish_reason='stop', index=0, logprobs=None, message=ChatCompletionMessage(content='Step 1: The abstract discusses the instability of the $f$-mode in neutron stars, driven by the emission of gravitational waves. It also talks about the coupling of the parent mode with pairs of daughter modes, exhibiting a variety of behaviors. The study focuses on neutron stars derived from supernovae and mergers, modeled as polytropes in a Newtonian context. There is no direct mention of the Neutrino Seesaw Mechanism or Dark Matter in this abstract.\\n\\nStep 2: Based on the analysis in Step 1, the abstract does not directly relate to the Neutrino Seesaw Mechanism or Dark Matter. While the concept of neutron stars is somewhat related to astrophysics, the specific topics described in the abstract do not align with the activation criteria of the neuron. Therefore, I predict that the neuron will not activate on this abstract.\\n\\nStep 3: PREDICTION: -0.7', role='assistant', function_call=None, tool_calls=None))], created=1720553941, model='gpt-3.5-turbo-0125', object='chat.completion', service_tier=None, system_fingerprint=None, usage=CompletionUsage(completion_tokens=191, prompt_tokens=597, total_tokens=788))\n",
      "Prediction: -0.7\n"
     ]
    },
    {
     "name": "stderr",
     "output_type": "stream",
     "text": [
      " 80%|████████  | 8/10 [00:25<00:06,  3.33s/it]"
     ]
    },
    {
     "name": "stdout",
     "output_type": "stream",
     "text": [
      "ChatCompletion(id='chatcmpl-9jAy14f4btqsXQrSR2WmUpdRplNn3', choices=[Choice(finish_reason='stop', index=0, logprobs=None, message=ChatCompletionMessage(content=\"Step 1: The abstract discusses the construction of a model for the inner crust of neutron stars using interactions from chiral effective field theory to calculate its equation of state, shear properties, and the spectrum of crustal shear modes. It also mentions studying uncertainties associated with nuclear physics input, crust composition, and neutron entrainment.\\n\\nWhile the abstract does mention neutron stars and nuclear physics, it does not directly discuss the Neutrino Seesaw Mechanism or Dark Matter. The focus is more on the properties of neutron stars and the calculations related to their crust. However, the topic of neutrinos or dark matter is not the central theme of this abstract.\\n\\nStep 2: Based on the analysis in Step 1, it is unlikely that this abstract will activate the neuron related to the Neutrino Seesaw Mechanism & Dark Matter. The abstract covers topics more related to neutron stars and nuclear physics calculations, which are not directly aligned with the neuron's description.\\n\\nConfidence score: -0.8\\n\\nPREDICTION: -0.8\", role='assistant', function_call=None, tool_calls=None))], created=1720553945, model='gpt-3.5-turbo-0125', object='chat.completion', service_tier=None, system_fingerprint=None, usage=CompletionUsage(completion_tokens=212, prompt_tokens=565, total_tokens=777))\n",
      "Prediction: -0.8\n"
     ]
    },
    {
     "name": "stderr",
     "output_type": "stream",
     "text": [
      " 90%|█████████ | 9/10 [00:28<00:03,  3.10s/it]"
     ]
    },
    {
     "name": "stdout",
     "output_type": "stream",
     "text": [
      "ChatCompletion(id='chatcmpl-9jAy4OKOpFZr0H7ADccCxjNEwlJ4G', choices=[Choice(finish_reason='stop', index=0, logprobs=None, message=ChatCompletionMessage(content=\"Step 1: \\nThe abstract discusses the formation of planetary systems around Proxima Centauri, Alpha Centauri A, and Alpha Centauri B, which are all stars in the Alpha Centauri system. It mentions N-body simulations to determine the plausibility of the scenario and the implications for planet formation in this system. The abstract does not explicitly mention the Neutrino Seesaw Mechanism or Dark Matter, which are the key concepts the neuron activates on. However, the abstract does focus on astrophysical phenomena and the dynamics of planetary formation, which are related to the field of astrophysics.\\n\\nStep 2:\\nGiven that the abstract does not directly mention the Neutrino Seesaw Mechanism or Dark Matter, the relevance of the content to the neuron's activation is not clear. However, since the abstract deals with astrophysical simulations and the formation of planetary systems around stars, there may be some relevance to the neuron's activation. I am uncertain about the activation of the neuron on this abstract, and I would assign a confidence score of -0.5.\\n\\nPREDICTION: -0.5\", role='assistant', function_call=None, tool_calls=None))], created=1720553948, model='gpt-3.5-turbo-0125', object='chat.completion', service_tier=None, system_fingerprint=None, usage=CompletionUsage(completion_tokens=232, prompt_tokens=676, total_tokens=908))\n",
      "Prediction: -0.5\n"
     ]
    },
    {
     "name": "stderr",
     "output_type": "stream",
     "text": [
      "100%|██████████| 10/10 [00:31<00:00,  3.11s/it]"
     ]
    },
    {
     "name": "stdout",
     "output_type": "stream",
     "text": [
      "ChatCompletion(id='chatcmpl-9jAy73FIwvFPE8Bcf0fvEzWfh1Hsk', choices=[Choice(finish_reason='stop', index=0, logprobs=None, message=ChatCompletionMessage(content=\"Step 1: The description of the neuron's activation indicates an interest in the Neutrino Seesaw Mechanism and Dark Matter. The abstract provided, however, focuses on the Cosmic Web Detachment (CWD) model in the context of galaxy evolution and star formation. While the abstract touches on cosmological processes and interactions, it does not directly mention neutrinos or dark matter. \\n\\nThe CWD model discusses the impact of cosmic web interactions on star-forming galaxies, including quenching mechanisms such as gas stripping, harassment, strangulation, and starvation. These mechanisms are driven by gravitational and mechanical processes, rather than neutrinos or dark matter.\\n\\nGiven that the abstract does not explicitly mention the Neutrino Seesaw Mechanism or Dark Matter, it is unlikely that the neuron will activate strongly based on this abstract.\\n\\nStep 2: Confidence score: -0.8\\n\\nPREDICTION: -0.8\", role='assistant', function_call=None, tool_calls=None))], created=1720553951, model='gpt-3.5-turbo-0125', object='chat.completion', service_tier=None, system_fingerprint=None, usage=CompletionUsage(completion_tokens=188, prompt_tokens=672, total_tokens=860))\n",
      "Prediction: -0.8\n",
      "Pearson correlation: 0.980828892547368\n",
      "F1 score: 1.0\n"
     ]
    },
    {
     "name": "stderr",
     "output_type": "stream",
     "text": [
      "\n"
     ]
    }
   ],
   "source": [
    "# Samples to predict\n",
    "num_to_predict = 5\n",
    "top_abstracts, zero_abstracts = get_feature_activations(feature_index, m*2, topk_indices, topk_values, abstract_texts_path)\n",
    "\n",
    "# Keep the second k/2 \n",
    "top_abstracts = [abstract for _, abstract, _ in top_abstracts]\n",
    "top_abstracts = top_abstracts[-num_to_predict:]\n",
    "print(f'{len(top_abstracts)} top abstracts')\n",
    "\n",
    "zero_abstracts = zero_abstracts[-num_to_predict:]\n",
    "print(f'{len(zero_abstracts)} zero abstracts')\n",
    "\n",
    "# Go through all top abstracts and all zero abstracts and predict\n",
    "predictions = []\n",
    "ground_truth = [1] * len(top_abstracts) + [0] * len(zero_abstracts)\n",
    "\n",
    "for abstract in tqdm(top_abstracts + zero_abstracts):\n",
    "    prediction_prompt = prediction_base_prompt.format(description=interpretation, abstract=abstract)\n",
    "\n",
    "    prediction_response = client.chat.completions.create(\n",
    "        model=\"gpt-3.5-turbo\",\n",
    "        messages=[\n",
    "            {\"role\": \"user\", \"content\": prediction_prompt}\n",
    "        ]\n",
    "    )\n",
    "\n",
    "    prediction = prediction_response.choices[0].message.content.split(\"PREDICTION:\")[1].strip()\n",
    "    # Remove '*' from the prediction\n",
    "    prediction = prediction.replace(\"*\", \"\")\n",
    "    print(f\"Prediction: {prediction}\")\n",
    "    predictions.append(float(prediction))\n",
    "\n",
    "correlation, _ = pearsonr(ground_truth, predictions)\n",
    "\n",
    "print(f\"Pearson correlation: {correlation}\")\n",
    "\n",
    "# F1 score\n",
    "\n",
    "# Convert predictions to binary\n",
    "binary_predictions = [1 if p > 0 else 0 for p in predictions]\n",
    "\n",
    "f1 = f1_score(ground_truth, binary_predictions)\n",
    "\n",
    "print(f\"F1 score: {f1}\")"
   ]
  },
  {
   "cell_type": "code",
>>>>>>> 78e6f49c8b1ad18c9ca7ec500fc84eb799afd3b1
   "execution_count": null,
   "metadata": {},
   "outputs": [],
   "source": []
  }
 ],
 "metadata": {
  "kernelspec": {
   "display_name": "saerch",
   "language": "python",
   "name": "python3"
  },
  "language_info": {
   "codemirror_mode": {
    "name": "ipython",
    "version": 3
   },
   "file_extension": ".py",
   "mimetype": "text/x-python",
   "name": "python",
   "nbconvert_exporter": "python",
   "pygments_lexer": "ipython3",
<<<<<<< HEAD
   "version": "3.10.0"
=======
   "version": "3.12.4"
>>>>>>> 78e6f49c8b1ad18c9ca7ec500fc84eb799afd3b1
  }
 },
 "nbformat": 4,
 "nbformat_minor": 2
}
