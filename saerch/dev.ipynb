{
 "cells": [
  {
   "cell_type": "markdown",
   "metadata": {},
   "source": [
    "## Abstract embeddings"
   ]
  },
  {
   "cell_type": "code",
   "execution_count": 143,
   "metadata": {},
   "outputs": [
    {
     "name": "stdout",
     "output_type": "stream",
     "text": [
      "Processed 271494 abstract embeddings.\n",
      "Shape of abstract embeddings: (271494, 1536)\n",
      "Length of abstract texts: 271494\n",
      "Length of document IDs: 271494\n",
      "Saved abstract embeddings and texts.\n"
     ]
    }
   ],
   "source": [
    "import numpy as np\n",
    "import pickle\n",
    "import json\n",
    "from typing import List\n",
    "from dataclasses import dataclass\n",
    "\n",
    "@dataclass\n",
    "class Document:\n",
    "    id: str\n",
    "    abstract: str\n",
    "    conclusions: str\n",
    "    arxiv_id: str\n",
    "    title: str = None\n",
    "    score: float = None\n",
    "    n_citation: int = None\n",
    "    keywords: List[str] = None\n",
    "\n",
    "# Load the full embeddings matrix\n",
    "embeddings = np.load('../data/vector_store/embeddings_matrix.npy')\n",
    "\n",
    "# Load the index mapping\n",
    "with open('../data/vector_store/index_mapping.pkl', 'rb') as f:\n",
    "    index_mapping = pickle.load(f)\n",
    "\n",
    "# Load the documents\n",
    "with open('../data/vector_store/documents.pkl', 'rb') as f:\n",
    "    documents = pickle.load(f)\n",
    "\n",
    "# Create lists to store the abstract embeddings and corresponding text\n",
    "abstract_embeddings = []\n",
    "abstract_texts = []\n",
    "doc_ids = []\n",
    "\n",
    "# Iterate through the index mapping to find abstract indices and corresponding text\n",
    "for doc_id, mappings in index_mapping.items():\n",
    "    if 'abstract' in mappings:\n",
    "        abstract_index = mappings['abstract']\n",
    "        abstract_embeddings.append(embeddings[abstract_index])\n",
    "        \n",
    "        # Find the corresponding document and extract the abstract text\n",
    "        doc = next((d for d in documents if d.id == doc_id), None)\n",
    "        if doc:\n",
    "            abstract_texts.append(doc.abstract)\n",
    "            doc_ids.append(doc_id)\n",
    "        else:\n",
    "            print(f\"Warning: Document with ID {doc_id} not found.\")\n",
    "\n",
    "# Convert lists to numpy arrays\n",
    "abstract_embeddings = np.array(abstract_embeddings)\n",
    "\n",
    "print(f\"Processed {len(abstract_embeddings)} abstract embeddings.\")\n",
    "print(f\"Shape of abstract embeddings: {abstract_embeddings.shape}\")\n",
    "print(f\"Length of abstract texts: {len(abstract_texts)}\")\n",
    "print(f\"Length of document IDs: {len(doc_ids)}\")\n",
    "\n",
    "# Save the abstract embeddings\n",
    "np.save('../data/vector_store/abstract_embeddings.npy', abstract_embeddings)\n",
    "\n",
    "# Save the abstract texts and document IDs\n",
    "with open('../data/vector_store/abstract_texts.json', 'w') as f:\n",
    "    json.dump({\n",
    "        'doc_ids': doc_ids,\n",
    "        'abstracts': abstract_texts\n",
    "    }, f)\n",
    "\n",
    "print(\"Saved abstract embeddings and texts.\")"
   ]
  },
  {
   "cell_type": "markdown",
   "metadata": {},
   "source": [
    "## Top-k values and indices"
   ]
  },
  {
   "cell_type": "code",
   "execution_count": 38,
   "metadata": {},
   "outputs": [
    {
     "name": "stderr",
     "output_type": "stream",
     "text": [
      "Processing abstracts: 100%|██████████| 266/266 [00:13<00:00, 20.01it/s]"
     ]
    },
    {
     "name": "stdout",
     "output_type": "stream",
     "text": [
      "Processing complete. Results saved in 'sae_data' folder.\n"
     ]
    },
    {
     "name": "stderr",
     "output_type": "stream",
     "text": [
      "\n"
     ]
    }
   ],
   "source": [
    "import torch\n",
    "import numpy as np\n",
    "from tqdm import tqdm\n",
    "import os\n",
    "from torch.utils.data import DataLoader, TensorDataset\n",
    "from topk_sae import FastAutoencoder  # Assuming train.py contains your FastAutoencoder class\n",
    "\n",
    "# Set grad to false\n",
    "torch.set_grad_enabled(False)\n",
    "\n",
    "# hypers\n",
    "d_model = 1536\n",
    "n_dirs = d_model * 6\n",
    "k = 64\n",
    "auxk = 128\n",
    "batch_size = 1024\n",
    "\n",
    "# Device configuration\n",
    "device = torch.device('cuda' if torch.cuda.is_available() else 'cpu')\n",
    "\n",
    "# Load the pre-trained model\n",
    "ae = FastAutoencoder(n_dirs, d_model, k, auxk).to(device)\n",
    "model_path = 'checkpoints/64_9216_128_final_epoch_50.pth'\n",
    "ae.load_state_dict(torch.load(model_path))\n",
    "ae.eval()\n",
    "\n",
    "# Load abstract embeddings\n",
    "abstract_embeddings = np.load(\"../data/vector_store/abstract_embeddings.npy\")\n",
    "abstract_embeddings = abstract_embeddings.astype(np.float32)\n",
    "\n",
    "# Create a DataLoader for efficient batching\n",
    "dataset = TensorDataset(torch.from_numpy(abstract_embeddings))\n",
    "dataloader = DataLoader(dataset, batch_size=batch_size, shuffle=False)\n",
    "\n",
    "# Prepare arrays to store results\n",
    "num_abstracts = len(abstract_embeddings)\n",
    "topk_indices = np.zeros((num_abstracts, k), dtype=np.int64)\n",
    "topk_values = np.zeros((num_abstracts, k), dtype=np.float32)\n",
    "\n",
    "# Process batches\n",
    "with torch.no_grad():\n",
    "    for i, (batch,) in enumerate(tqdm(dataloader, desc=\"Processing abstracts\")):\n",
    "        batch = batch.to(device)\n",
    "        _, info = ae(batch)\n",
    "        \n",
    "        start_idx = i * batch_size\n",
    "        end_idx = start_idx + batch.size(0)\n",
    "        \n",
    "        topk_indices[start_idx:end_idx] = info['topk_indices'].cpu().numpy()\n",
    "        topk_values[start_idx:end_idx] = info['topk_values'].cpu().numpy()\n",
    "\n",
    "# Create directory to save results\n",
    "os.makedirs(\"sae_data\", exist_ok=True)\n",
    "\n",
    "# Save results\n",
    "np.save(\"sae_data/topk_indices.npy\", topk_indices)\n",
    "np.save(\"sae_data/topk_values.npy\", topk_values)\n",
    "\n",
    "print(\"Processing complete. Results saved in 'sae_data' folder.\")"
   ]
  },
  {
   "cell_type": "markdown",
   "metadata": {},
   "source": [
    "# Visualisations"
   ]
  },
  {
   "cell_type": "code",
   "execution_count": 39,
   "metadata": {},
   "outputs": [],
   "source": [
    "import numpy as np\n",
    "\n",
    "# Load them\n",
    "topk_indices = np.load(\"sae_data/topk_indices.npy\")\n",
    "topk_values = np.load(\"sae_data/topk_values.npy\")"
   ]
  },
  {
   "cell_type": "markdown",
   "metadata": {},
   "source": [
    "## Log feature density"
   ]
  },
  {
   "cell_type": "code",
   "execution_count": 40,
   "metadata": {},
   "outputs": [
    {
     "name": "stdout",
     "output_type": "stream",
     "text": [
      "[0.00205863 0.01023422 0.00181557 ... 0.00298299 0.00016204 0.00116005]\n",
      "Num features:  9216\n",
      "Number of non-zero feature densities: 9213\n"
     ]
    },
    {
     "data": {
      "image/png": "[encoded data removed]",
      "text/plain": [
       "<Figure size 1200x800 with 1 Axes>"
      ]
     },
     "metadata": {},
     "output_type": "display_data"
    }
   ],
   "source": [
    "import numpy as np\n",
    "import matplotlib.pyplot as plt\n",
    "from matplotlib.colors import LinearSegmentedColormap\n",
    "import seaborn as sns\n",
    "\n",
    "# hypers\n",
    "d_model = 1536\n",
    "n_dirs = d_model * 6\n",
    "k = 64\n",
    "auxk = 128\n",
    "batch_size = 1024\n",
    "\n",
    "def plot_log_feature_density(topk_indices, save_path=None, dpi=300):\n",
    "    \"\"\"\n",
    "    Create a publication-quality log feature density plot.\n",
    "    \n",
    "    :param topk_indices: numpy array of shape (num_samples, k) containing the indices of top-k features\n",
    "    :param save_path: path to save the figure (if None, the figure will be displayed)\n",
    "    :param dpi: resolution of the output figure\n",
    "    \"\"\"\n",
    "    # Calculate feature density\n",
    "    num_samples, k = topk_indices.shape\n",
    "    num_features = n_dirs\n",
    "    feature_counts = np.bincount(topk_indices.flatten(), minlength=num_features)\n",
    "    feature_density = feature_counts / num_samples\n",
    "\n",
    "    print(feature_density)\n",
    "    print(\"Num features: \", num_features)\n",
    "    # Print non-zero feature density\n",
    "    print(f\"Number of non-zero feature densities: {np.count_nonzero(feature_density)}\")\n",
    "    \n",
    "    # Calculate log feature density\n",
    "    log_feature_density = np.log(feature_density + 1e-10)  # Add small constant to avoid log(0)\n",
    "    \n",
    "    # Set up the plot style\n",
    "    #plt.style.use('seaborn-whitegrid')\n",
    "    plt.rcParams['font.size'] = 14\n",
    "    plt.rcParams['axes.labelsize'] = 16\n",
    "    plt.rcParams['axes.titlesize'] = 18\n",
    "    plt.rcParams['xtick.labelsize'] = 12\n",
    "    plt.rcParams['ytick.labelsize'] = 12\n",
    "    \n",
    "    # Create custom colormap\n",
    "    colors = ['#FFA07A', '#20B2AA', '#778899']\n",
    "    n_bins = 100\n",
    "    cmap = LinearSegmentedColormap.from_list('custom', colors, N=n_bins)\n",
    "    \n",
    "    # Create the figure\n",
    "    fig, ax = plt.subplots(figsize=(12, 8))\n",
    "    \n",
    "    # Plot the histogram\n",
    "    sns.histplot(log_feature_density, kde=True, color=colors[1], \n",
    "                 edgecolor=colors[2], linewidth=1.5, alpha=0.7, ax=ax)\n",
    "    \n",
    "    # Customize the plot\n",
    "    ax.set_xlabel('Log Feature Density')#, fontweight='bold')\n",
    "    ax.set_ylabel('Frequency')#, fontweight='bold')\n",
    "    \n",
    "    # Add grid\n",
    "    ax.grid(True, linestyle='--', alpha=0.7)\n",
    "    \n",
    "    # Improve layout\n",
    "    plt.tight_layout()\n",
    "    \n",
    "    # Save or display the plot\n",
    "    if save_path:\n",
    "        plt.savefig(save_path, dpi=dpi, bbox_inches='tight')\n",
    "        print(f\"Figure saved to {save_path}\")\n",
    "    else:\n",
    "        plt.show()\n",
    "    \n",
    "    plt.close()\n",
    "\n",
    "# Plot the log feature density\n",
    "plot_log_feature_density(topk_indices)"
   ]
  },
  {
   "cell_type": "code",
   "execution_count": 142,
   "metadata": {},
   "outputs": [
    {
     "name": "stdout",
     "output_type": "stream",
     "text": [
      "Feature 2001 Statistics:\n",
      "Number of non-zero activations: 1940\n",
      "Mean: 0.0580\n",
      "Median: 0.0428\n",
      "Standard Deviation: 0.0397\n",
      "Min: 0.0219\n",
      "Max: 0.2843\n"
     ]
    },
    {
     "data": {
      "image/png": "[encoded data removed]",
      "text/plain": [
       "<Figure size 1200x800 with 1 Axes>"
      ]
     },
     "metadata": {},
     "output_type": "display_data"
    }
   ],
   "source": [
    "import numpy as np\n",
    "import matplotlib.pyplot as plt\n",
    "import seaborn as sns\n",
    "from matplotlib.colors import LinearSegmentedColormap\n",
    "\n",
    "def plot_feature_activation_density(feature_index, topk_values, topk_indices, save_path=None, dpi=300):\n",
    "    \"\"\"\n",
    "    Create a publication-quality density plot for the activation values of a specific feature.\n",
    "    \n",
    "    :param feature_index: Index of the feature to plot\n",
    "    :param topk_values: numpy array of shape (num_examples, topk) containing the non-zero values for the topk indices\n",
    "    :param topk_indices: numpy array of shape (num_examples, topk) containing the indices of top-k features\n",
    "    :param save_path: path to save the figure (if None, the figure will be displayed)\n",
    "    :param dpi: resolution of the output figure\n",
    "    \"\"\"\n",
    "    # Extract activation values for the specified feature\n",
    "    feature_mask = topk_indices == feature_index\n",
    "    activation_values = topk_values[feature_mask]\n",
    "\n",
    "    # Set up the plot style\n",
    "    plt.rcParams['font.size'] = 14\n",
    "    plt.rcParams['axes.labelsize'] = 16\n",
    "    plt.rcParams['axes.titlesize'] = 18\n",
    "    plt.rcParams['xtick.labelsize'] = 12\n",
    "    plt.rcParams['ytick.labelsize'] = 12\n",
    "    \n",
    "    # Create custom colormap\n",
    "    colors = ['#FFA07A', '#20B2AA', '#778899']\n",
    "    n_bins = 100\n",
    "    cmap = LinearSegmentedColormap.from_list('custom', colors, N=n_bins)\n",
    "    \n",
    "    # Create the figure\n",
    "    fig, ax = plt.subplots(figsize=(12, 8))\n",
    "    \n",
    "    # Plot the density\n",
    "    sns.kdeplot(activation_values, fill=True, color=colors[1], \n",
    "                edgecolor=colors[2], linewidth=1.5, alpha=0.7, ax=ax)\n",
    "    \n",
    "    # Plot the histogram\n",
    "    sns.histplot(activation_values, kde=False, color=colors[0], \n",
    "                 edgecolor=colors[2], linewidth=1.5, alpha=0.5, ax=ax)\n",
    "    \n",
    "    # Customize the plot\n",
    "    ax.set_xlabel('Activation Value')\n",
    "    ax.set_ylabel('Density')\n",
    "    ax.set_title(f'Activation Density for Feature {feature_index}')\n",
    "    \n",
    "    # Add grid\n",
    "    ax.grid(True, linestyle='--', alpha=0.7)\n",
    "    \n",
    "    # Improve layout\n",
    "    plt.tight_layout()\n",
    "    \n",
    "    # Print some statistics\n",
    "    print(f\"Feature {feature_index} Statistics:\")\n",
    "    print(f\"Number of non-zero activations: {len(activation_values)}\")\n",
    "    print(f\"Mean: {np.mean(activation_values):.4f}\")\n",
    "    print(f\"Median: {np.median(activation_values):.4f}\")\n",
    "    print(f\"Standard Deviation: {np.std(activation_values):.4f}\")\n",
    "    print(f\"Min: {np.min(activation_values):.4f}\")\n",
    "    print(f\"Max: {np.max(activation_values):.4f}\")\n",
    "    \n",
    "    # Save or display the plot\n",
    "    if save_path:\n",
    "        plt.savefig(save_path, dpi=dpi, bbox_inches='tight')\n",
    "        print(f\"Figure saved to {save_path}\")\n",
    "    else:\n",
    "        plt.show()\n",
    "    \n",
    "    plt.close()\n",
    "\n",
    "# Example usage:\n",
    "feature_index = 2001\n",
    "plot_feature_activation_density(feature_index, topk_values, topk_indices)"
   ]
  },
  {
   "cell_type": "code",
   "execution_count": 43,
   "metadata": {},
   "outputs": [
    {
     "name": "stdout",
     "output_type": "stream",
     "text": [
      "Top activating abstracts:\n",
      "Activation: 0.06926242262125015\n",
      "We show that within the inverse seesaw mechanism for generating neutrino masses minimal supergravity is more likely to have a sneutrino as the lightest superparticle than the conventional neutralino. We also demonstrate that such schemes naturally reconcile the small neutrino masses with the correct relic sneutrino dark matter abundance and accessible direct detection rates in nuclear recoil experiments. \n",
      "\n",
      "Activation: 0.058602817356586456\n",
      "A new Majoron model is presented within the framework of the seesaw mechanism. Its Higgs sector consists of only doublet representations and the lepton-number violation takes place at the same scale of the electroweak symmetry breaking. This model is different from  the singlet- or triplet-Majoron model in several respects: it is free from the \\(\\rho\\)-parameter constraint and it provides moderately fast neutrino decay, but the constraint from the stellar cooling of red giants is satisfied only with an imposed approximate symmetry. A \\(\\tau\\) neutrino as heavy as 10 MeV is possible in this model despite various cosmological and astrophysical constraints. \n",
      "\n",
      "Activation: 0.058462049812078476\n",
      "{ In the framework of the seesaw mechanism with three heavy right-handed Majorana neutrinos and no Higgs triplets we carry out a systematic study of the structure of the right-handed neutrino sector. Using the current low-energy neutrino data as an input and assuming hierarchical Dirac-type neutrino masses $m_{Di}$, we calculate the masses $M_i$ and the mixing of the heavy neutrinos. We confront the inferred properties of these neutrinos  with the constraints coming from the requirement of a successful baryogenesis via leptogenesis. In the generic case the masses of the right-handed neutrinos are highly hierarchical: $M_i \\propto m_{Di}^2$; the lightest mass is $M_1 \\approx 10^3 - 10^6$ GeV and the generated baryon-to-photon ratio $\\eta_B\\lesssim 10^{-14}$ is much smaller than the observed value. We find the special cases which correspond to the level crossing points, with maximal mixing between two quasi-degenerate right-handed neutrinos. Two level crossing conditions are obtained: ${m}_{ee}\\approx 0$ (1-2 crossing) and $d_{12}\\approx 0$ (2-3 crossing), where ${m}_{ee}$ and $d_{12}$ are respectively the $11$-entry and the $12$-subdeterminant of the light neutrino mass matrix in the basis where the neutrino Yukawa couplings are diagonal. We show that sufficient lepton asymmetry can be produced only in the 1-2 crossing where $M_1 \\approx M_2 \\approx 10^{8}$ GeV, $M_3 \\approx 10^{14}$ GeV and $(M_2 -  M_1)/ M_2 \\lesssim 10^{-5}$. }    \\begin{document} \n",
      "\n",
      "Activation: 0.058209437876939774\n",
      "Self-consistent proton-neutron quasiparticle random phase approximation based on the spherical nonlinear point-coupling relativistic Hartree-Bogoliubov theory is established and used to investigate the $\\beta^+$/EC-decay half-lives of neutron-deficient Ar, Ca, Ti, Fe, Ni, Zn, Cd, and Sn isotopes. The isoscalar proton-neutron pairing is found to play an important role in reducing the decay half-lives, which is consistent with the same mechanism in the $\\beta$ decays of neutron-rich nuclei. The experimental $\\beta^+$/EC-decay half-lives can be well reproduced by a universal isoscalar proton-neutron pairing strength. \n",
      "\n",
      "Activation: 0.057188671082258224\n",
      "We show that the minimal Type-I Seesaw mechanism can successfully account for the observed dark matter abundance in the form of a keV sterile neutrino. This population can be produced by the decay of the  heavier neutral leptons, with masses above the electroweak mass scale, while they are in thermal equilibrium in the early Universe (freeze-in). Moreover, the implementation of the relevant phenomenological constraints (relic abundance, indirect detection and structure formation) on this model automatically selects a region of the parameter space featuring an approximate lepton number symmetry. \n",
      "\n",
      "Activation: 0.056516047567129135\n",
      "We propose a model for neutrino masses that simultaneously results in a new dark matter candidate, the right-handed neutrino. We derive the dark matter abundance in this model, show how the hierarchy of neutrino masses is obtained, and verify that the model is compatible with existing experimental results. The model provides an economical method of unifying two seemingly separate puzzles in contemporary particle physics and cosmology. \n",
      "\n",
      "Activation: 0.056435421109199524\n",
      "The title theory is formulated. It entails a quantum-coherent variant of the Fermi--Dirac distribution and casts new light on neutrino oscillations. It might enable the incorporation of neutrino mixing into the modeling of core-collapse supernovae and neutron-star mergers. \n",
      "\n",
      "Activation: 0.05584583804011345\n",
      "Dark matter captured by interaction with  electrons inside the Sun may annihilate via long-lived mediator to produce observable gamma ray signals. We utilize the Fermi Large Area Telescope data to put bounds on the dark matter electron scattering cross-section which are three to four orders of magnitude stronger than the existing limits for dark matter masses ranging between GeV to TeV scale. \n",
      "\n",
      "Activation: 0.05559248849749565\n",
      "{We study a superweakly interacting dark matter particle motivated by minimal walking technicolor theories. Our WIMP is a mixture of a sterile state and a state with the charges of a standard model fourth family neutrino. We show that the model can give the right amount of dark matter over a range of the WIMP mass and mixing angle. We compute bounds on the model parameters from the current accelerator data including the oblique corrections to the precision electroweak parameters, as well as from cryogenic experiments, Super-Kamiokande and from the IceCube experiment. We show that consistent dark matter solutions exist which satisfy all current constraints. However, almost the entire parameter range of the model lies within the the combined reach of the next generation experiments.} \n",
      "\n",
      "Activation: 0.05550801008939743\n",
      "Nuclear pairing is studied both in atomic nuclei and in neutron-star crusts in the unified framework of the energy-density functional theory using generalized Skyrme functionals complemented with a local pairing functional obtained from many-body calculations in homogeneous nuclear matter using realistic forces. \n",
      "\n",
      "\n",
      "\n",
      "\n",
      "\n",
      "Zero activation samples:\n",
      "We studied the developing conditions of sigmoid structure under the influence of magnetic non-potential characteristics of a rotating sunspot in the active region (AR) 12158. Vector magnetic field measurements from Helioseismic Magnetic Imager and coronal EUV observations from Atmospheric Imaging Assembly reveal that the erupting inverse-S sigmoid had roots in the location of the rotating sunspot. Sunspot rotates at a rate of 0-5deg/h with increasing trend in the first half followed by a decrease. Time evolution of many non-potential parameters had a well correspondence with the sunspot rotation. The evolution of the AR magnetic structure is approximated by a time series of force free equilibria. The NLFFF magnetic structure around the sunspot manifests the observed sigmoid structure. Field lines from the sunspot periphery constitute the body of the sigmoid and those from interior overly the sigmoid similar to a fluxrope structure. While the sunspot is being rotating, two major CME eruptions occurred in the AR. During the first (second) event, the coronal current concentrations enhanced (degraded) consistent with the photospheric net vertical current, however the magnetic energy is released during both the cases. The analysis results suggest that the magnetic connections of the sigmoid are driven by slow motion of sunspot rotation, which transforms to a highly twisted flux rope structure in a dynamical scenario. An exceeding critical twist in the flux rope probably leads to the loss of equilibrium and thus triggering the onset of two eruptions. \n",
      "\n",
      "{In this paper we investigate the induced inflation with two flat regions: one Starobinsky-like plateau in big field regime and one shorter plateau around the saddle point of the Einstein frame potential. This multi-phase inflationary scenario can be used to solve the problem of classical cosmology. The inflation at the saddle-point plateau is consistent with the data and can have arbitrarily low scale. The results can be useful in the context of the Higgs-Axion relaxation and in a certain limit they are equivalent to the $\\alpha$-attractors.} \n",
      "\n",
      "We present a simultaneous, multi-wavelength campaign targeting the nearby (7.2 pc) L8/L9 (optical/near-infrared) dwarf WISEP J060738.65+242953.4 in the mid-infrared, radio, and optical. Spitzer Space Telescope observations show no variability at the 0.2\\% level over 10 hours each in the 3.6 and 4.5 micron bands. {\\it Kepler} K2 monitoring over 36 days in Campaign 0 rules out stable periodic signals in the optical with amplitudes great than 1.5\\% and periods between 1.5 hours and 2 days.  Non-simultaneous Gemini optical spectroscopy detects lithium, constraining this L dwarf to be less than $\\sim 2$ Gyr old, but no Balmer emission is observed.  The low measured projected rotation velocity ($v \\sin i < 6$ km s$^{-1}$) and lack of variability are very unusual compared to other brown dwarfs, and we argue that this substellar object is likely viewed pole-on. We detect quiescent (non-bursting) radio emission with the VLA. Amongst radio detected L and T dwarfs, it has the lowest observed $L_\\nu$ and the lowest $v \\sin i$. We discuss the implications of a pole-on detection for various proposed radio emission scenarios. \n",
      "\n",
      "Optical fibers are a key component for high-resolution spectrographs to attain high precision in radial velocity measurements. We present a custom fiber with a novel core geometry - a 'D'-shape. From a theoretical standpoint, such a fiber should provide superior scrambling and modal noise mitigation, since unlike the commonly used circular and polygonal fiber cross sections, it shows chaotic scrambling. We report on the fabrication process of a test fiber and compare the optical properties, scrambling performance, and modal noise behavior of the D-fiber with those of common polygonal fibers. \n",
      "\n",
      "While the extended main-sequence turn-offs (eMSTOs) found in almost all 1--2 Gyr-old star clusters in the Magellanic Clouds are often explained by postulating extended star-formation histories, the tight subgiant branches (SGBs) seen in some clusters challenge this popular scenario. Puzzlingly, the SGB of the eMSTO cluster NGC 419 is significantly broader at bluer than at redder colors. We carefully assess and confirm the reality of this observational trend. If we would assume that the widths of the features in color--magnitude space were entirely owing to a range in stellar ages, the star-formation histories of the eMSTO stars and the blue SGB region would be significantly more prolonged than that of the red part of the SGB. This cannot be explained by assuming an internal age spread. We show that rotational deceleration of a population of rapidly rotating stars, a currently hotly debated alternative scenario, naturally explains the observed trend along the SGB. Our analysis shows that a `converging' SGB could be produced if the cluster is mostly composed of rapidly rotating stars that slow down over time owing to the conservation of angular momentum during their evolutionary expansion from main-sequence turn-off stars to red giants. \n",
      "\n",
      "{} {We present the discovery and characterisation of the exoplanets WASP-113b and WASP-114b by the WASP survey, {\\it SOPHIE} and {\\it CORALIE}.} { The planetary nature of the systems was established by performing follow-up photometric and spectroscopic observations. The follow-up data were combined with the WASP-photometry and analysed with an MCMC code to obtain system parameters.} {The host stars WASP-113 and WASP-114 are very similar.  They are both early G-type stars with an effective temperature of $\\sim5900\\,$K, [Fe/H]$\\sim 0.12$ and \\logg\\ $\\sim 4.1$dex. However, WASP-113 is older than WASP-114. Although the planetary companions have similar radii, WASP-114b is almost 4 times heavier than WASP-113b.\\ WASP-113b has a mass of $0.48\\,$ \\Mjup\\ and an orbital period of $\\sim 4.5\\,$days; WASP-114b has a mass of $1.77\\,$ \\Mjup and an orbital period of $\\sim 1.5\\,$days. Both planets have inflated radii, in particular WASP-113 with a radius anomaly of  $\\Re=0.35$. The high scale height of WASP-113b ($\\sim 950$ km ) makes it a good target for follow-up atmospheric observations.} {} \n",
      "\n",
      "For sufficiently wide orbital separations {\\it a}, the two members of a stellar binary evolve independently. This implies that in a wide double white dwarf (DWD), the more massive WD should always be produced first, when its more massive progenitor ends its main-sequence life, and should therefore be older and cooler than its companion. The bound, wide DWD HS 2220$+$2146 ($a\\approx500$ AU) does not conform to this picture: the more massive WD is the younger, hotter of the pair. We show that this discrepancy is unlikely to be due to past mass-transfer phases or to the presence of an unresolved companion. Instead, we propose that HS 2220$+$2146 formed through a new wide DWD evolutionary channel involving the merger of the inner binary in a hierarchical triple system. The resulting blue straggler and its wide companion then evolved independently, forming the WD pair seen today. Although we cannot rule out other scenarios, the most likely formation channel has the inner binary merging while both stars are still on the main sequence. This provides us with the tantalizing possibility that Kozai-Lidov oscillations may have played a role in the inner binary's merger. {\\it Gaia} may uncover hundreds more wide DWDs, leading to the identification of other systems like HS 2220$+$2146. There are already indications that other WD systems may have been formed through different, but related, hierarchical triple evolutionary scenarios. Characterizing these populations may allow for thorough testing of the efficiency with which KL oscillations induce stellar mergers. \n",
      "\n",
      "The Galactic Centre is a hotbed of astrophysical activity, with the injection of wind material from $\\sim$30 massive Wolf--Rayet (WR) stars orbiting within 12 arcsec of the supermassive black hole (SMBH) playing an important role. Hydrodynamic simulations of such colliding and accreting winds produce a complex density and temperature structure of cold wind material shocking with the ambient medium, creating a large reservoir of hot, X-ray-emitting gas. This work aims to confront the 3 Ms of \\textit{Chandra} X-ray Visionary Program observations of this diffuse emission by computing the X-ray emission from these hydrodynamic simulations of the colliding WR winds, amid exploring a variety of SMBH feedback mechanisms. The major success of the model is that it reproduces the spectral shape from the 2--5 arcsec ring around the SMBH, where most of the stellar wind material that is ultimately captured by Sgr A* is shock-heated and thermalized. This naturally explains that the hot gas comes from colliding WR winds, and that the wind speeds of these stars are, in general, well constrained. The flux level of these spectra, as well as 12 $\\times$ 12-arcsec$^2$ images of 4--9 keV, shows that the X-ray flux is tied to the SMBH feedback strength; stronger feedback clears out more hot gas, thereby decreasing the thermal X-ray emission. The model in which \\SAs produced an intermediate-strength outflow during the last few centuries best matches the observations to within about 10 per cent, showing that SMBH feedback is required to interpret the X-ray emission in this region. \n",
      "\n",
      "{The inner regions of the envelopes surrounding young protostars are characterised by a complex chemistry, with prebiotic molecules present on the scales where protoplanetary disks eventually may form. The Atacama Large Millimeter/submillimeter Array (ALMA) provides an unprecedented view of these regions zooming in on Solar System scales of nearby protostars and mapping the emission from rare species.} {The goal is to introduce a systematic survey, ``Protostellar Interferometric Line Survey (PILS)'', of the chemical complexity of one of the nearby astrochemical templates, the Class~0 protostellar binary IRAS~16293$-$2422, using ALMA, to understand the origin of the complex molecules formed in its vicinity. In addition to presenting the overall survey, the analysis in this paper focuses on new results for the prebiotic molecule glycolaldehyde, its isomers and rarer isotopologues and other related molecules.} {An unbiased spectral survey of IRAS~16293$-$2422 covering the full frequency range from 329 to 363~GHz (0.8~mm) has been obtained with ALMA, in addition to a few targeted observations at 3.0 and 1.3~mm. The data consist of full maps of the protostellar binary system with an angular resolution of 0.5$''$ (60~AU diameter), a spectral resolution of 0.2~\\kms\\ and a sensitivity of 4--5~mJy~beam$^{-1}$~km~s$^{-1}$ -- approximately two orders of magnitude better than any previous studies. } {More than 10,000 features are detected toward one component in the protostellar binary, corresponding to an average line density of approximately one line per 3~\\kms. Glycolaldehyde, its isomers, methyl formate and acetic acid, and its reduced alcohol, ethylene glycol, are clearly detected and their emission well-modeled with an excitation temperature of 300~K. For ethylene glycol both lowest state conformers, $aGg'$ and $gGg'$, are detected, the latter for the first time in the ISM. The abundance of glycolaldehyde is comparable to or slightly larger than that of ethylene glycol. In comparison to the Galactic Center these two species are over-abundant relative to methanol, possibly an indication of formation of the species at low temperatures in CO-rich ices during the infall of the material toward the central protostar. Both $^{13}$C and deuterated isotopologues of glycolaldehyde are detected, also for the first time ever in the ISM. For the deuterated species a D/H ratio of $\\approx$5\\% is found with no differences between the deuteration in the different functional groups of glycolaldehyde, in contrast to previous estimates for methanol and recent suggestions of significant equilibration between water and -OH functional groups at high temperatures. Measurements of the $^{13}$C-species lead to a $^{12}$C:$^{13}$C ratio of $\\approx$30, lower than the typical ISM value. This low ratio may reflect an enhancement of $^{13}$CO in the ice due to either ion-molecule reactions in the gas before freeze-out or differences in the temperatures where $^{12}$CO and $^{13}$CO ices sublimate.} {The results reinforce the importance of low temperature grain surface chemistry for the formation of prebiotic molecules seen here in the gas after sublimation of the entire ice mantle. Systematic surveys of the molecules thought to be chemically related, as well as the accurate measurements of their isotopic composition, hold strong promises for understanding the origin of prebiotic molecules in the earliest stages of young stars.} \n",
      "\n",
      "The relations between star formation and properties of molecular clouds are studied based on a sample of star forming regions in the Galactic Plane. \\added{Sources were selected by having radio recombination lines to provide identification of associated molecular clouds and dense clumps. Radio continuum and mid-infrared emission were used to determine star formation rates, while \\coo\\ and submillimeter dust continuum emission were used to obtain masses of molecular and dense gas, respectively.} \\replaced{This was accomplished mainly by two approaches:  exploring empirical relations between star formation rate and properties of molecular clouds in the data; and testing some previously proposed models or hypotheses about star formation.}{We test whether total molecular gas or dense gas provides the best predictor of star formation rate. We also test two specific theoretical models, one relying on the molecular mass divided by the free-fall time, the other using the free-fall time divided by the crossing time. Neither is supported by the data.} The data are also compared to those from nearby star forming regions and extragalactic data. The star formation ``efficiency,\" defined as star formation rate divided by mass, spreads over a large range when the mass refers to molecular gas\\added{; the standard deviation of the log of the efficiency decreases by a factor of three when the mass of relatively dense molecular gas is used rather than the mass of all the molecular gas.} \\deleted{The spread is much reduced if the mass of relatively dense molecular gas is used. Models that introduce free-fall time and/or dynamical time are not particularly effective.} \n",
      "\n"
     ]
    }
   ],
   "source": [
    "import numpy as np\n",
    "import json\n",
    "import random\n",
    "\n",
    "def get_feature_activations(feature_index, m, topk_indices, topk_values, abstract_texts_path, min_length=100):\n",
    "    \"\"\"\n",
    "    Get the top m activating abstracts and m samples of abstracts with zero activation for a given feature,\n",
    "    ensuring all returned abstracts are greater than min_length characters.\n",
    "    \n",
    "    :param feature_index: Index of the feature to analyze\n",
    "    :param m: Number of top activating abstracts and zero activation samples to return\n",
    "    :param topk_indices: numpy array of shape (num_abstracts, k) containing the indices of top-k features\n",
    "    :param topk_values: numpy array of shape (num_abstracts, k) containing the values of top-k features\n",
    "    :param abstract_texts_path: path to the JSON file containing abstract texts and doc_ids\n",
    "    :param min_length: minimum length of abstracts to consider (default 100)\n",
    "    :return: tuple of (top_m_abstracts, zero_activation_samples)\n",
    "    \"\"\"\n",
    "    # Load abstract texts and doc_ids\n",
    "    with open(abstract_texts_path, 'r') as f:\n",
    "        abstract_data = json.load(f)\n",
    "    \n",
    "    doc_ids = abstract_data['doc_ids']\n",
    "    abstracts = abstract_data['abstracts']\n",
    "    \n",
    "    # Find abstracts where the feature is activated\n",
    "    feature_mask = topk_indices == feature_index\n",
    "    activated_indices = np.where(feature_mask.any(axis=1))[0]\n",
    "    \n",
    "    # Get the activation values for the feature\n",
    "    activation_values = np.where(feature_mask, topk_values, 0).max(axis=1)\n",
    "    \n",
    "    # Sort activated indices by activation value\n",
    "    sorted_activated_indices = activated_indices[np.argsort(-activation_values[activated_indices])]\n",
    "    \n",
    "    # Get top m activating abstracts with length > min_length\n",
    "    top_m_abstracts = []\n",
    "    for i in sorted_activated_indices:\n",
    "        if len(abstracts[i]) > min_length:\n",
    "            top_m_abstracts.append((doc_ids[i], abstracts[i], activation_values[i]))\n",
    "        if len(top_m_abstracts) == m:\n",
    "            break\n",
    "    \n",
    "    # Find abstracts where the feature has zero activation\n",
    "    zero_activation_indices = np.where(~feature_mask.any(axis=1))[0]\n",
    "    \n",
    "    # Randomly sample m abstracts with zero activation and length > min_length\n",
    "    zero_activation_samples = []\n",
    "    random.shuffle(list(zero_activation_indices))\n",
    "    for i in zero_activation_indices:\n",
    "        if len(abstracts[i]) > min_length:\n",
    "            zero_activation_samples.append((doc_ids[i], abstracts[i], 0))\n",
    "        if len(zero_activation_samples) == m:\n",
    "            break\n",
    "    \n",
    "    return top_m_abstracts, zero_activation_samples\n",
    "\n",
    "# Example usage:\n",
    "feature_index = 1000\n",
    "m = 10\n",
    "topk_indices = np.load(\"sae_data/topk_indices.npy\")\n",
    "topk_values = np.load(\"sae_data/topk_values.npy\")\n",
    "abstract_texts_path = \"../data/vector_store/abstract_texts.json\"\n",
    "\n",
    "top_abstracts, zero_abstracts = get_feature_activations(feature_index, m, topk_indices, topk_values, abstract_texts_path)\n",
    "\n",
    "print(\"Top activating abstracts:\")\n",
    "for doc_id, abstract, activation in top_abstracts:\n",
    "    #print(f\"Doc ID: {doc_id}\")\n",
    "    print(f\"Activation: {activation}\")\n",
    "    print(f\"{abstract}\")  # Print first 100 characters\n",
    "    print()\n",
    "\n",
    "print(\"\\n\\n\\n\\nZero activation samples:\")\n",
    "for doc_id, abstract, _ in zero_abstracts:\n",
    "    #print(f\"Doc ID: {doc_id}\")\n",
    "    print(f\"{abstract}\")  # Print first 100 characters\n",
    "    print()"
   ]
  },
  {
   "cell_type": "markdown",
   "metadata": {},
   "source": [
    "# Autointerp"
   ]
  },
  {
   "cell_type": "code",
   "execution_count": 105,
   "metadata": {},
   "outputs": [],
   "source": [
    "autointerp_prompt = \"\"\" \n",
    "You are a meticulous AI and astronomy researcher conducting an important investigation into a certain neuron in a language model trained on astrophysics papers. Your task is to figure out what sort of behaviour this neuron is responsible for -- namely, on what general concepts, features, topics does this neuron fire? Here's how you'll complete the task:\n",
    "\n",
    "INPUT_DESCRIPTION: \n",
    "\n",
    "You will be given two inputs: 1) Max Activating Examples and 2) Zero Activating Examples.\n",
    "\n",
    "- MAX_ACTIVATING_EXAMPLES_DESCRIPTION\n",
    "You will be given several examples of text that activate the neuron, along with a number being how much it was activated (these number's absolute scale is meaningless, but the relative scale may be important). This means there is some feature, topic or concept in this text that 'excites' this neuron.\n",
    "\n",
    "You will also be given several examples of text that doesn't activate the neuron. This means the feature, topic or concept is not present in these texts.\n",
    "\n",
    "OUTPUT_DESCRIPTION:\n",
    "Given the inputs provided, complete the following tasks.\n",
    "\n",
    "Step 1: Based on the MAX_ACTIVATING_EXAMPLES provided, write down potential topics, concepts, and features that they share in common. These will need to be specific - remember, all of the text comes from astronomy, so these need to be highly specific astronomy concepts. You may need to look at different levels of granularity (i.e. subsets of a more general topic). List as many as you can think of. Give higher weight to concepts more present/prominent in examples with higher activations.\n",
    "Step 2: Based on the zero activating examples, rule out any of the topics/concepts/features listed above that are in the zero-activating examples. Systematically go through your list above.\n",
    "Step 3: Based on the above two steps, perform a thorough analysis of which feature, concept or topic, at what level of granularity, is likely to activate this neuron. Use Occam's razor, as long as it fits the provided evidence. Be highly rational and analytical here.\n",
    "Step 4: Based on step 4, summarise this concept in 1-8 words, in the form \"FINAL: <explanation>\". \n",
    "\n",
    "Here are the max-activating examples:\n",
    "\n",
    "{max_activating_examples}\n",
    "\n",
    "Here are the zero-activating examples:\n",
    "\n",
    "{zero_activating_examples}\n",
    "\n",
    "Work through the steps thoroughly and analytically to interpret our neuron.\n",
    "\"\"\""
   ]
  },
  {
   "cell_type": "code",
   "execution_count": 106,
   "metadata": {},
   "outputs": [],
   "source": [
    "m = 10\n",
    "feature_index = 1000\n",
    "top_abstracts, zero_abstracts = get_feature_activations(feature_index, m, topk_indices, topk_values, abstract_texts_path)\n",
    "\n",
    "# Join the abstracts into a single string\n",
    "max_activating_examples = \"\\n\\n------------------------\\n\".join([f\"Activation:{activation:.3f}\\n{abstract}\" for _, abstract, activation in top_abstracts])\n",
    "zero_abstracts = \"\\n\\n------------------------\\n\".join([abstract for _, abstract, _ in zero_abstracts])\n",
    "\n",
    "# Create the prompt\n",
    "prompt = autointerp_prompt.format(max_activating_examples=max_activating_examples, zero_activating_examples=zero_abstracts)\n",
    "\n"
   ]
  },
  {
   "cell_type": "code",
   "execution_count": 107,
   "metadata": {},
   "outputs": [],
   "source": [
    "from openai import OpenAI\n",
    "import yaml\n",
    "\n",
    "config = yaml.safe_load(open(\"../config.yaml\"))\n",
    "api_key = config['openai_api_key']\n",
    "\n",
    "client = OpenAI(\n",
    "  api_key=api_key,\n",
    ")\n",
    "\n",
    "response = client.chat.completions.create(\n",
    "    model=\"gpt-4o\",\n",
    "    messages=[\n",
    "        {\"role\": \"user\", \"content\": prompt}\n",
    "    ]\n",
    ")\n"
   ]
  },
  {
   "cell_type": "code",
   "execution_count": 108,
   "metadata": {},
   "outputs": [
    {
     "name": "stdout",
     "output_type": "stream",
     "text": [
      "Let's begin the process methodically, step-by-step. \n",
      "\n",
      "### Step 1: Identifying Potential Topics, Concepts, and Features\n",
      "\n",
      "We'll carefully analyze each of the max-activating examples to extract common themes, topics, concepts, and features.\n",
      "\n",
      "#### Activation: 0.069\n",
      "The example involves discussions on:\n",
      "- **Inverse seesaw mechanism for generating neutrino masses**.\n",
      "- **Neutrino masses and supergravity**.\n",
      "- **Sneutrino as the lightest superparticle**.\n",
      "- **Relic sneutrino dark matter abundance**.\n",
      "- **Direct detection rates in nuclear recoil experiments**.\n",
      "\n",
      "#### Activation: 0.059\n",
      "Key points include:\n",
      "- **New Majoron model within the framework of the seesaw mechanism**.\n",
      "- **Electroweak symmetry breaking and lepton-number violation**.\n",
      "- **Constraints from stellar cooling and cosmological/astrophysical constraints**.\n",
      "- **τ neutrino as heavy as 10 MeV**.\n",
      "\n",
      "#### Activation: 0.058\n",
      "This involves:\n",
      "- **Seesaw mechanism with Majorana neutrinos**.\n",
      "- **Hierarchical Dirac-type neutrino masses**.\n",
      "- **Baryogenesis via leptogenesis**.\n",
      "- **Light neutrino mass matrix and lepton asymmetry**.\n",
      "\n",
      "#### Activation: 0.058\n",
      "Topics mentioned:\n",
      "- **Proton-neutron quasiparticle random phase approximation**.\n",
      "- **Spherical nonlinear point-coupling relativistic Hartree-Bogoliubov theory**.\n",
      "- **Beta decay half-lives of neutron-deficient isotopes**.\n",
      "- **Isoscalar proton-neutron pairing**.\n",
      "\n",
      "#### Activation: 0.057\n",
      "Included themes:\n",
      "- **Minimal Type-I Seesaw mechanism**.\n",
      "- **Sterile neutrino as dark matter**.\n",
      "- **Constraints from relic abundance, indirect detection, and structure formation**.\n",
      "\n",
      "#### Activation: 0.057\n",
      "Focus on:\n",
      "- **Model for neutrino masses and dark matter**.\n",
      "- **Dark matter candidate: right-handed neutrino**.\n",
      "- **Hierarchy of neutrino masses**.\n",
      "- **Compatibility with experimental results**.\n",
      "\n",
      "#### Activation: 0.056\n",
      "Themes covered:\n",
      "- **Quantum-coherent variant of Fermi–Dirac distribution**.\n",
      "- **Neutrino oscillations in core-collapse supernovae and neutron-star mergers**.\n",
      "\n",
      "#### Activation: 0.056\n",
      "Mentions:\n",
      "- **Dark matter capture and annihilation within the Sun**.\n",
      "- **Gamma ray signals and Fermi Large Area Telescope data**.\n",
      "- **Dark matter electron scattering cross-section bounds**.\n",
      "\n",
      "#### Activation: 0.056\n",
      "Focus on:\n",
      "- **Superweakly interacting dark matter in minimal walking technicolor**.\n",
      "- **Consistency across accelerator data and cryogenic experiments**.\n",
      "- **Dark matter dynamics in various experiments**.\n",
      "\n",
      "#### Activation: 0.056\n",
      "Involves:\n",
      "- **Nuclear pairing in atomic nuclei and neutron-star crusts**.\n",
      "- **Energy-density functional theory with Skyrme functionals**.\n",
      "\n",
      "### Step 2: Examination of Zero Activating Examples\n",
      "\n",
      "Let's now identify zero-activating examples and see if they contain any of the key concepts from Step 1:\n",
      "\n",
      "- **Magnetic fields and sunspots**: No mentions of neutrinos, dark matter, seesaw mechanism, Majoron models, or proton-neutron pairing.\n",
      "- **Inflationary cosmology and Higgs-Axion**: No mentions of neutrinos, dark matter, seesaw mechanism, Majoron models, or proton-neutron pairing.\n",
      "- **Brown dwarfs and substellar objects**: No mentions of neutrinos, dark matter, seesaw mechanism, Majoron models, or proton-neutron pairing.\n",
      "- **Optical fibers and radial velocity**: No mentions of neutrinos, dark matter, seesaw mechanism, Majoron models, or proton-neutron pairing.\n",
      "- **Star clusters and main-sequence turn-offs**: No mentions of neutrinos, dark matter, seesaw mechanism, Majoron models, or proton-neutron pairing.\n",
      "- **Exoplanets and radial velocity measurements**: No mentions of neutrinos, dark matter, seesaw mechanism, Majoron models, or proton-neutron pairing.\n",
      "- **Galactic center and wolf-rayet stars**: No mentions of neutrinos, dark matter, seesaw mechanism, Majoron models, or proton-neutron pairing.\n",
      "- **Protostellar chemistry and ALMA**: No mentions of neutrinos, dark matter, seesaw mechanism, Majoron models, or proton-neutron pairing.\n",
      "- **Star formation and molecular clouds**: No mentions of neutrinos, dark matter, seesaw mechanism, Majoron models, or proton-neutron pairing.\n",
      "\n",
      "### Step 3: Analysis and Conclusion\n",
      "\n",
      "From Steps 1 and 2:\n",
      "\n",
      "- **Inverse seesaw mechanism**\n",
      "- **Neutrino masses and neutrino models (Type-I Seesaw, Majoron models)**\n",
      "- **Proton-neutron pairing and beta decay**\n",
      "- **Sterile neutrinos as dark matter**\n",
      "- **Cosmological constraints and dark matter models**\n",
      "- **Neutrino oscillations in astrophysical phenomena**\n",
      "\n",
      "We see that the common thread among the max-activating examples involves various **neutrino-related physics** topics including **neutrino masses, seesaw mechanisms, Majoron models, and dark matter candidates involving neutrinos**. These concepts are specific enough to not appear in the zero examples, which cover diverse astronomy themes but steer clear of detailed neutrino physics.\n",
      "\n",
      "### Step 4: Summarize the Concept\n",
      "\n",
      "Based on our analysis:\n",
      "FINAL: **Neutrino physics and dark matter models**\n"
     ]
    }
   ],
   "source": [
    "print(response.choices[0].message.content)"
   ]
  },
  {
   "cell_type": "code",
   "execution_count": 109,
   "metadata": {},
   "outputs": [
    {
     "name": "stdout",
     "output_type": "stream",
     "text": [
      "Interpretation: **Neutrino physics and dark matter models**\n"
     ]
    }
   ],
   "source": [
    "interpretation = response.choices[0].message.content.split(\"FINAL:\")[1].strip()\n",
    "print(f\"Interpretation: {interpretation}\")"
   ]
  },
  {
   "cell_type": "code",
   "execution_count": 121,
   "metadata": {},
   "outputs": [],
   "source": [
    "# Samples to predict\n",
    "top_abstracts, zero_abstracts = get_feature_activations(feature_index, m*2, topk_indices, topk_values, abstract_texts_path)\n",
    "\n",
    "# Keep the second k/2 \n",
    "top_abstracts = top_abstracts[m//2:]\n",
    "top_abstracts = [abstract for _, abstract, _ in top_abstracts]\n",
    "\n",
    "zero_abstracts = zero_abstracts[m//2:]"
   ]
  },
  {
   "cell_type": "code",
   "execution_count": 127,
   "metadata": {},
   "outputs": [],
   "source": [
    "prediction_base_prompt = \"\"\"\n",
    "You are an AI expert that is predicting which abstracts will activate a certain neuron in a language model trained on astrophysics papers. \n",
    "Your task is to predict which of the following abstracts will activate the neuron the most. Here's how you'll complete the task:\n",
    "\n",
    "INPUT_DESCRIPTION:\n",
    "You will be given the description of the type of paper abstracts on which the neuron activates. This description will be short.\n",
    "\n",
    "You will then be given an abstract. Based on the concept of the abstract, you will predict whether the neuron will activate or not.\n",
    "\n",
    "OUTPUT_DESCRIPTION:\n",
    "Given the inputs provided, complete the following tasks.\n",
    "\n",
    "Step 1: Based on the description of the type of paper abstracts on which the neuron activates, reason step by step about whether the neuron will activate on this abstract or not. Be highly rational and analytical here. The abstract may not be clear cut - it may contain topics/concepts close to the neuron description, but not exact. In this case, reason thoroughly and use your best judgement.\n",
    "Step 2: Based on the above step, predict whether the neuron will activate on this abstract or not. If you predict it will activate, give a confidence score from 0 to 1 (i.e. 1 if you're certain it will activate because it contains topics/concepts that match the description exactly, 0 if you're highly uncertain). If you predict it will not activate, give a confidence score from -1 to 0.\n",
    "Step 3: Provide the final prediction in the form \"PREDICTION: <number>\". Do NOT return anything after this.\n",
    "\n",
    "Here is the description/interpretation of the type of paper abstracts on which the neuron activates:\n",
    "{description}\n",
    "\n",
    "Here is the abstract to predict:\n",
    "{abstract}\n",
    "\n",
    "Work through the steps thoroughly and analytically to predict whether the neuron will activate on this abstract.\n",
    "\"\"\"\n",
    "\n",
    "# Choose a random abstract to predict\n",
    "#abstract_to_predict = random.choice(top_abstracts)\n",
    "\n",
    "# # Create the prediction prompt\n",
    "# prediction_prompt = prediction_base_prompt.format(description=interpretation, abstract=abstract_to_predict)\n",
    "\n",
    "# prediction_response = client.chat.completions.create(\n",
    "#     model=\"gpt-4o\",\n",
    "#     messages=[\n",
    "#         {\"role\": \"user\", \"content\": prediction_prompt}\n",
    "#     ]\n",
    "# )"
   ]
  },
  {
   "cell_type": "code",
   "execution_count": 119,
   "metadata": {},
   "outputs": [
    {
     "name": "stdout",
     "output_type": "stream",
     "text": [
      "\n",
      "You are an AI expert that is predicting which abstracts will activate a certain neuron in a language model trained on astrophysics papers. \n",
      "Your task is to predict which of the following abstracts will activate the neuron the most. Here's how you'll complete the task:\n",
      "\n",
      "INPUT_DESCRIPTION:\n",
      "You will be given the description of the type of paper abstracts on which the neuron activates. This description will be short.\n",
      "\n",
      "You will then be given an abstract. Based on the concept of the abstract, you will predict whether the neuron will activate or not.\n",
      "\n",
      "OUTPUT_DESCRIPTION:\n",
      "Given the inputs provided, complete the following tasks.\n",
      "\n",
      "Step 1: Based on the description of the type of paper abstracts on which the neuron activates, reason step by step about whether the neuron will activate on this abstract or not. Be highly rational and analytical here. The abstract may not be clear cut - it may contain topics/concepts close to the neuron description, but not exact. In this case, reason thoroughly and use your best judgement.\n",
      "Step 2: Based on the above step, predict whether the neuron will activate on this abstract or not. If you predict it will activate, give a confidence score from 0 to 1 (i.e. 1 if you're certain it will activate because it contains topics/concepts that match the description exactly, 0 if you're highly uncertain). If you predict it will not activate, give a confidence score from -1 to 0.\n",
      "Step 3: Provide the final prediction in the form \"PREDICTION: <number>\".\n",
      "\n",
      "Here is the description/interpretation of the type of paper abstracts on which the neuron activates:\n",
      "**Neutrino physics and dark matter models**\n",
      "\n",
      "Here is the abstract to predict:\n",
      "We study the cosmological effects of two-body dark matter decays where the products of the decay include a massless and a massive particle. We show that if the massive daughter particle is slightly warm it is  possible to relieve the tension between  distance ladder measurements of the present day Hubble parameter with measurements from the cosmic microwave background. \n",
      "\n",
      "Work through the steps thoroughly and analytically to predict whether the neuron will activate on this abstract.\n",
      "\n"
     ]
    }
   ],
   "source": [
    "print(prediction_prompt)"
   ]
  },
  {
   "cell_type": "code",
   "execution_count": 120,
   "metadata": {},
   "outputs": [
    {
     "name": "stdout",
     "output_type": "stream",
     "text": [
      "### Step 1:\n",
      "- **Neuron Description**: The neuron activates on paper abstracts related to \"Neutrino physics and dark matter models\".\n",
      "- **Abstract Review**: \n",
      "  - The abstract discusses two-body dark matter decays.\n",
      "  - The products of the decay include a massless and a massive particle.\n",
      "  - The focus is on cosmological effects, specifically how the slightly warm nature of the massive daughter particle can alleviate discrepancies between different measurements of the Hubble parameter.\n",
      "\n",
      "**Analysis**:\n",
      "  - **Dark Matter Models**: The abstract directly involves dark matter decay, which falls under the category of dark matter models.\n",
      "  - **Neutrino Physics**: The abstract mentions massless and massive particles as decay products. Neutrinos are often massless or nearly massless particles, and while the abstract does not explicitly mention neutrinos, the context of massless particles in dark matter decays could imply relevance to neutrino physics.\n",
      "\n",
      "### Step 2:\n",
      "- Based on the abstract's focus on dark matter and the involvement of massless and massive particle decays, it aligns closely with the neuron’s activation criteria. The implications for cosmology and Hubble parameter are secondary but relevant connections to the main theme.\n",
      "\n",
      "**Confidence Score**: The content fits well within the description, although not explicitly about neutrinos, it sufficiently aligns with dark matter models.\n",
      "- **Confidence**: 0.8\n",
      "\n",
      "### Step 3:\n",
      "**Final Prediction**: The neuron is likely to activate on this abstract.\n",
      "\n",
      "**PREDICTION**: 0.8\n"
     ]
    }
   ],
   "source": [
    "print(prediction_response.choices[0].message.content)"
   ]
  },
  {
   "cell_type": "code",
   "execution_count": 130,
   "metadata": {},
   "outputs": [
    {
     "name": "stdout",
     "output_type": "stream",
     "text": [
      "10 top abstracts\n",
      "10 zero abstracts\n"
     ]
    },
    {
     "name": "stderr",
     "output_type": "stream",
     "text": [
      "  5%|▌         | 1/20 [00:05<01:40,  5.27s/it]"
     ]
    },
    {
     "name": "stdout",
     "output_type": "stream",
     "text": [
      "Prediction: 0.9\n"
     ]
    },
    {
     "name": "stderr",
     "output_type": "stream",
     "text": [
      " 10%|█         | 2/20 [00:10<01:31,  5.10s/it]"
     ]
    },
    {
     "name": "stdout",
     "output_type": "stream",
     "text": [
      "Prediction: 0.9\n"
     ]
    },
    {
     "name": "stderr",
     "output_type": "stream",
     "text": [
      " 15%|█▌        | 3/20 [00:13<01:14,  4.41s/it]"
     ]
    },
    {
     "name": "stdout",
     "output_type": "stream",
     "text": [
      "Prediction: 0.7\n"
     ]
    },
    {
     "name": "stderr",
     "output_type": "stream",
     "text": [
      " 20%|██        | 4/20 [00:38<03:16, 12.25s/it]"
     ]
    },
    {
     "name": "stdout",
     "output_type": "stream",
     "text": [
      "Prediction: 0.9\n"
     ]
    },
    {
     "name": "stderr",
     "output_type": "stream",
     "text": [
      " 25%|██▌       | 5/20 [01:04<04:21, 17.44s/it]"
     ]
    },
    {
     "name": "stdout",
     "output_type": "stream",
     "text": [
      "Prediction: 0.9\n"
     ]
    },
    {
     "name": "stderr",
     "output_type": "stream",
     "text": [
      " 30%|███       | 6/20 [01:30<04:42, 20.19s/it]"
     ]
    },
    {
     "name": "stdout",
     "output_type": "stream",
     "text": [
      "Prediction: 1\n"
     ]
    },
    {
     "name": "stderr",
     "output_type": "stream",
     "text": [
      " 35%|███▌      | 7/20 [01:37<03:25, 15.84s/it]"
     ]
    },
    {
     "name": "stdout",
     "output_type": "stream",
     "text": [
      "Prediction: 0.9\n"
     ]
    },
    {
     "name": "stderr",
     "output_type": "stream",
     "text": [
      " 40%|████      | 8/20 [02:02<03:45, 18.77s/it]"
     ]
    },
    {
     "name": "stdout",
     "output_type": "stream",
     "text": [
      "Prediction: 0.7\n"
     ]
    },
    {
     "name": "stderr",
     "output_type": "stream",
     "text": [
      " 45%|████▌     | 9/20 [02:26<03:45, 20.50s/it]"
     ]
    },
    {
     "name": "stdout",
     "output_type": "stream",
     "text": [
      "Prediction: 1\n"
     ]
    },
    {
     "name": "stderr",
     "output_type": "stream",
     "text": [
      " 50%|█████     | 10/20 [02:50<03:37, 21.73s/it]"
     ]
    },
    {
     "name": "stdout",
     "output_type": "stream",
     "text": [
      "Prediction: 1\n"
     ]
    },
    {
     "name": "stderr",
     "output_type": "stream",
     "text": [
      " 55%|█████▌    | 11/20 [02:59<02:39, 17.71s/it]"
     ]
    },
    {
     "name": "stdout",
     "output_type": "stream",
     "text": [
      "Prediction: -1\n"
     ]
    },
    {
     "name": "stderr",
     "output_type": "stream",
     "text": [
      " 60%|██████    | 12/20 [03:26<02:44, 20.52s/it]"
     ]
    },
    {
     "name": "stdout",
     "output_type": "stream",
     "text": [
      "Prediction: -0.8\n"
     ]
    },
    {
     "name": "stderr",
     "output_type": "stream",
     "text": [
      " 65%|██████▌   | 13/20 [03:51<02:33, 21.92s/it]"
     ]
    },
    {
     "name": "stdout",
     "output_type": "stream",
     "text": [
      "Prediction: -1\n"
     ]
    },
    {
     "name": "stderr",
     "output_type": "stream",
     "text": [
      " 70%|███████   | 14/20 [03:58<01:43, 17.22s/it]"
     ]
    },
    {
     "name": "stdout",
     "output_type": "stream",
     "text": [
      "Prediction: -1\n"
     ]
    },
    {
     "name": "stderr",
     "output_type": "stream",
     "text": [
      " 75%|███████▌  | 15/20 [04:26<01:43, 20.67s/it]"
     ]
    },
    {
     "name": "stdout",
     "output_type": "stream",
     "text": [
      "Prediction: -0.8\n"
     ]
    },
    {
     "name": "stderr",
     "output_type": "stream",
     "text": [
      " 80%|████████  | 16/20 [04:51<01:27, 21.85s/it]"
     ]
    },
    {
     "name": "stdout",
     "output_type": "stream",
     "text": [
      "Prediction: -0.9\n"
     ]
    },
    {
     "name": "stderr",
     "output_type": "stream",
     "text": [
      " 85%|████████▌ | 17/20 [04:55<00:49, 16.50s/it]"
     ]
    },
    {
     "name": "stdout",
     "output_type": "stream",
     "text": [
      "Prediction: -0.8\n"
     ]
    },
    {
     "name": "stderr",
     "output_type": "stream",
     "text": [
      " 90%|█████████ | 18/20 [05:21<00:38, 19.40s/it]"
     ]
    },
    {
     "name": "stdout",
     "output_type": "stream",
     "text": [
      "Prediction: -0.9\n"
     ]
    },
    {
     "name": "stderr",
     "output_type": "stream",
     "text": [
      " 95%|█████████▌| 19/20 [05:47<00:21, 21.27s/it]"
     ]
    },
    {
     "name": "stdout",
     "output_type": "stream",
     "text": [
      "Prediction: -1\n"
     ]
    },
    {
     "name": "stderr",
     "output_type": "stream",
     "text": [
      "100%|██████████| 20/20 [06:13<00:00, 18.67s/it]"
     ]
    },
    {
     "name": "stdout",
     "output_type": "stream",
     "text": [
      "Prediction: -1\n"
     ]
    },
    {
     "name": "stderr",
     "output_type": "stream",
     "text": [
      "\n"
     ]
    }
   ],
   "source": [
    "from tqdm import tqdm\n",
    "\n",
    "# Samples to predict\n",
    "m = 10\n",
    "top_abstracts, zero_abstracts = get_feature_activations(feature_index, m*2, topk_indices, topk_values, abstract_texts_path)\n",
    "\n",
    "# Keep the second k/2 \n",
    "top_abstracts = [abstract for _, abstract, _ in top_abstracts]\n",
    "top_abstracts = top_abstracts[m:]\n",
    "print(f'{len(top_abstracts)} top abstracts')\n",
    "\n",
    "zero_abstracts = zero_abstracts[m:]\n",
    "print(f'{len(zero_abstracts)} zero abstracts')\n",
    "\n",
    "# Go through all top abstracts and all zero abstracts and predict\n",
    "predictions = []\n",
    "ground_truth = [1] * len(top_abstracts) + [0] * len(zero_abstracts)\n",
    "\n",
    "for abstract in tqdm(top_abstracts + zero_abstracts):\n",
    "    prediction_prompt = prediction_base_prompt.format(description=interpretation, abstract=abstract)\n",
    "\n",
    "    prediction_response = client.chat.completions.create(\n",
    "        model=\"gpt-4o\",\n",
    "        messages=[\n",
    "            {\"role\": \"user\", \"content\": prediction_prompt}\n",
    "        ]\n",
    "    )\n",
    "\n",
    "    prediction = prediction_response.choices[0].message.content.split(\"PREDICTION:\")[1].strip()\n",
    "    # Remove '*' from the prediction\n",
    "    prediction = prediction.replace(\"*\", \"\")\n",
    "    print(f\"Prediction: {prediction}\")\n",
    "    predictions.append(float(prediction))"
   ]
  },
  {
   "cell_type": "code",
   "execution_count": 136,
   "metadata": {},
   "outputs": [
    {
     "name": "stdout",
     "output_type": "stream",
     "text": [
      "Pearson correlation: 0.9944004281595773\n",
      "F1 score: 1.0\n"
     ]
    }
   ],
   "source": [
    "# Calculate metrics - Pearson correlation, F1\n",
    "\n",
    "# Pearson correlation\n",
    "from scipy.stats import pearsonr\n",
    "\n",
    "correlation, _ = pearsonr(ground_truth, predictions)\n",
    "\n",
    "print(f\"Pearson correlation: {correlation}\")\n",
    "\n",
    "# F1 score\n",
    "from sklearn.metrics import f1_score\n",
    "\n",
    "# Convert predictions to binary\n",
    "binary_predictions = [1 if p > 0 else 0 for p in predictions]\n",
    "\n",
    "f1 = f1_score(ground_truth, binary_predictions)\n",
    "\n",
    "print(f\"F1 score: {f1}\")"
   ]
  },
  {
   "cell_type": "markdown",
   "metadata": {},
   "source": [
    "## Refactor autointerp"
   ]
  },
  {
   "cell_type": "code",
   "execution_count": null,
   "metadata": {},
   "outputs": [],
   "source": [
    "from openai import OpenAI\n",
    "import yaml\n",
    "from tqdm import tqdm\n",
    "from scipy.stats import pearsonr\n",
    "from sklearn.metrics import f1_score\n",
    "\n",
    "# Load them\n",
    "topk_indices = np.load(\"sae_data/topk_indices.npy\")\n",
    "topk_values = np.load(\"sae_data/topk_values.npy\")\n",
    "\n",
    "abstract_texts_path = \"../data/vector_store/abstract_texts.json\"\n",
    "\n",
    "autointerp_prompt = \"\"\" \n",
    "You are a meticulous AI and astronomy researcher conducting an important investigation into a certain neuron in a language model trained on astrophysics papers. Your task is to figure out what sort of behaviour this neuron is responsible for -- namely, on what general concepts, features, topics does this neuron fire? Here's how you'll complete the task:\n",
    "\n",
    "INPUT_DESCRIPTION: \n",
    "\n",
    "You will be given two inputs: 1) Max Activating Examples and 2) Zero Activating Examples.\n",
    "\n",
    "- MAX_ACTIVATING_EXAMPLES_DESCRIPTION\n",
    "You will be given several examples of text that activate the neuron, along with a number being how much it was activated (these number's absolute scale is meaningless, but the relative scale may be important). This means there is some feature, topic or concept in this text that 'excites' this neuron.\n",
    "\n",
    "You will also be given several examples of text that doesn't activate the neuron. This means the feature, topic or concept is not present in these texts.\n",
    "\n",
    "OUTPUT_DESCRIPTION:\n",
    "Given the inputs provided, complete the following tasks.\n",
    "\n",
    "Step 1: Based on the MAX_ACTIVATING_EXAMPLES provided, write down potential topics, concepts, and features that they share in common. These will need to be specific - remember, all of the text comes from astronomy, so these need to be highly specific astronomy concepts. You may need to look at different levels of granularity (i.e. subsets of a more general topic). List as many as you can think of. Give higher weight to concepts more present/prominent in examples with higher activations.\n",
    "Step 2: Based on the zero activating examples, rule out any of the topics/concepts/features listed above that are in the zero-activating examples. Systematically go through your list above.\n",
    "Step 3: Based on the above two steps, perform a thorough analysis of which feature, concept or topic, at what level of granularity, is likely to activate this neuron. Use Occam's razor, as long as it fits the provided evidence. Be highly rational and analytical here.\n",
    "Step 4: Based on step 4, summarise this concept in 1-8 words, in the form \"FINAL: <explanation>\". \n",
    "\n",
    "Here are the max-activating examples:\n",
    "\n",
    "{max_activating_examples}\n",
    "\n",
    "Here are the zero-activating examples:\n",
    "\n",
    "{zero_activating_examples}\n",
    "\n",
    "Work through the steps thoroughly and analytically to interpret our neuron.\n",
    "\"\"\"\n",
    "\n",
    "config = yaml.safe_load(open(\"../config.yaml\"))\n",
    "api_key = config['openai_api_key']\n",
    "\n",
    "client = OpenAI(\n",
    "  api_key=api_key,\n",
    ")\n",
    "\n",
    "m = 10\n",
    "feature_index = 1000\n",
    "top_abstracts, zero_abstracts = get_feature_activations(feature_index, m, topk_indices, topk_values, abstract_texts_path)\n",
    "\n",
    "# Join the abstracts into a single string\n",
    "max_activating_examples = \"\\n\\n------------------------\\n\".join([f\"Activation:{activation:.3f}\\n{abstract}\" for _, abstract, activation in top_abstracts])\n",
    "zero_abstracts = \"\\n\\n------------------------\\n\".join([abstract for _, abstract, _ in zero_abstracts])\n",
    "\n",
    "# Create the prompt\n",
    "prompt = autointerp_prompt.format(max_activating_examples=max_activating_examples, zero_activating_examples=zero_abstracts)\n",
    "\n",
    "response = client.chat.completions.create(\n",
    "    model=\"gpt-4o\",\n",
    "    messages=[\n",
    "        {\"role\": \"user\", \"content\": prompt}\n",
    "    ]\n",
    ")\n",
    "\n",
    "interpretation = response.choices[0].message.content.split(\"FINAL:\")[1].strip()\n",
    "print(f\"Interpretation: {interpretation}\")\n",
    "\n",
    "# Samples to predict\n",
    "top_abstracts, zero_abstracts = get_feature_activations(feature_index, m*2, topk_indices, topk_values, abstract_texts_path)\n",
    "\n",
    "# Keep the second k/2 \n",
    "top_abstracts = top_abstracts[m//2:]\n",
    "top_abstracts = [abstract for _, abstract, _ in top_abstracts]\n",
    "\n",
    "zero_abstracts = zero_abstracts[m//2:]\n",
    "\n",
    "prediction_base_prompt = \"\"\"\n",
    "You are an AI expert that is predicting which abstracts will activate a certain neuron in a language model trained on astrophysics papers. \n",
    "Your task is to predict which of the following abstracts will activate the neuron the most. Here's how you'll complete the task:\n",
    "\n",
    "INPUT_DESCRIPTION:\n",
    "You will be given the description of the type of paper abstracts on which the neuron activates. This description will be short.\n",
    "\n",
    "You will then be given an abstract. Based on the concept of the abstract, you will predict whether the neuron will activate or not.\n",
    "\n",
    "OUTPUT_DESCRIPTION:\n",
    "Given the inputs provided, complete the following tasks.\n",
    "\n",
    "Step 1: Based on the description of the type of paper abstracts on which the neuron activates, reason step by step about whether the neuron will activate on this abstract or not. Be highly rational and analytical here. The abstract may not be clear cut - it may contain topics/concepts close to the neuron description, but not exact. In this case, reason thoroughly and use your best judgement.\n",
    "Step 2: Based on the above step, predict whether the neuron will activate on this abstract or not. If you predict it will activate, give a confidence score from 0 to 1 (i.e. 1 if you're certain it will activate because it contains topics/concepts that match the description exactly, 0 if you're highly uncertain). If you predict it will not activate, give a confidence score from -1 to 0.\n",
    "Step 3: Provide the final prediction in the form \"PREDICTION: <number>\". Do NOT return anything after this.\n",
    "\n",
    "Here is the description/interpretation of the type of paper abstracts on which the neuron activates:\n",
    "{description}\n",
    "\n",
    "Here is the abstract to predict:\n",
    "{abstract}\n",
    "\n",
    "Work through the steps thoroughly and analytically to predict whether the neuron will activate on this abstract.\n",
    "\"\"\"\n",
    "\n",
    "# Samples to predict\n",
    "num_to_predict = 5\n",
    "top_abstracts, zero_abstracts = get_feature_activations(feature_index, m*2, topk_indices, topk_values, abstract_texts_path)\n",
    "\n",
    "# Keep the second k/2 \n",
    "top_abstracts = [abstract for _, abstract, _ in top_abstracts]\n",
    "top_abstracts = top_abstracts[-num_to_predict:]\n",
    "print(f'{len(top_abstracts)} top abstracts')\n",
    "\n",
    "zero_abstracts = zero_abstracts[-num_to_predict:]\n",
    "print(f'{len(zero_abstracts)} zero abstracts')\n",
    "\n",
    "# Go through all top abstracts and all zero abstracts and predict\n",
    "predictions = []\n",
    "ground_truth = [1] * len(top_abstracts) + [0] * len(zero_abstracts)\n",
    "\n",
    "for abstract in tqdm(top_abstracts + zero_abstracts):\n",
    "    prediction_prompt = prediction_base_prompt.format(description=interpretation, abstract=abstract)\n",
    "\n",
    "    prediction_response = client.chat.completions.create(\n",
    "        model=\"gpt-4o\",\n",
    "        messages=[\n",
    "            {\"role\": \"user\", \"content\": prediction_prompt}\n",
    "        ]\n",
    "    )\n",
    "\n",
    "    prediction = prediction_response.choices[0].message.content.split(\"PREDICTION:\")[1].strip()\n",
    "    # Remove '*' from the prediction\n",
    "    prediction = prediction.replace(\"*\", \"\")\n",
    "    print(f\"Prediction: {prediction}\")\n",
    "    predictions.append(float(prediction))\n",
    "\n",
    "correlation, _ = pearsonr(ground_truth, predictions)\n",
    "\n",
    "print(f\"Pearson correlation: {correlation}\")\n",
    "\n",
    "# F1 score\n",
    "\n",
    "# Convert predictions to binary\n",
    "binary_predictions = [1 if p > 0 else 0 for p in predictions]\n",
    "\n",
    "f1 = f1_score(ground_truth, binary_predictions)\n",
    "\n",
    "print(f\"F1 score: {f1}\")"
   ]
  },
  {
   "cell_type": "code",
   "execution_count": 140,
   "metadata": {},
   "outputs": [
    {
     "name": "stdout",
     "output_type": "stream",
     "text": [
      "5 top abstracts\n",
      "5 zero abstracts\n"
     ]
    },
    {
     "name": "stderr",
     "output_type": "stream",
     "text": [
      " 10%|█         | 1/10 [00:03<00:31,  3.47s/it]"
     ]
    },
    {
     "name": "stdout",
     "output_type": "stream",
     "text": [
      "ChatCompletion(id='chatcmpl-9jAxe3QUX6lzGD0Q9Ol1nYXFbfBrh', choices=[Choice(finish_reason='stop', index=0, logprobs=None, message=ChatCompletionMessage(content='Step 1: \\nThe abstract mentions the type II seesaw mechanism for neutrino masses, which is related to the \"Neutrino Seesaw Mechanism\" part of the neuron description. Additionally, it discusses dark matter in the form of an unstable gravitino, which is related to the \"Dark Matter\" aspect of the neuron description. The abstract also talks about providing a natural explanation for certain experimental results and explaining neutrino masses without high scale physics, which are topics generally related to astrophysics.\\n\\nStep 2:\\nGiven that the abstract covers topics related to both the Neutrino Seesaw Mechanism and Dark Matter, and also touches on other aspects relevant to astrophysics, it is highly likely that the neuron will activate on this abstract. I am confident in this prediction.\\n\\nPREDICTION: 1.0', role='assistant', function_call=None, tool_calls=None))], created=1720553922, model='gpt-3.5-turbo-0125', object='chat.completion', service_tier=None, system_fingerprint=None, usage=CompletionUsage(completion_tokens=171, prompt_tokens=491, total_tokens=662))\n",
      "Prediction: 1.0\n"
     ]
    },
    {
     "name": "stderr",
     "output_type": "stream",
     "text": [
      " 20%|██        | 2/10 [00:07<00:28,  3.59s/it]"
     ]
    },
    {
     "name": "stdout",
     "output_type": "stream",
     "text": [
      "ChatCompletion(id='chatcmpl-9jAxhhBsx9ETncQEe7Cs1NDDTKl43', choices=[Choice(finish_reason='stop', index=0, logprobs=None, message=ChatCompletionMessage(content='Step 1: The description of the type of paper abstracts on which the neuron activates includes the \"Neutrino Seesaw Mechanism & Dark Matter.\" The abstract mentions light Majorana neutrinos and their right-handed counterparts in the context of a seesaw mechanism, which is relevant to the concept of the Neutrino Seesaw Mechanism. Additionally, the abstract discusses cosmological baryon number asymmetry, which could be related to dark matter indirectly. Overall, the abstract touches upon topics related to neutrinos and cosmology, which align with the neuron\\'s activation description.\\n\\nStep 2: Based on the analysis above, I predict that the neuron will activate on this abstract with a moderate confidence score of 0.6. While the abstract discusses relevant topics related to the Neutrino Seesaw Mechanism and cosmology, it does not explicitly mention dark matter. However, the overall context of the abstract aligns with the neuron\\'s activation description.\\n\\nPREDICTION: 0.6', role='assistant', function_call=None, tool_calls=None))], created=1720553925, model='gpt-3.5-turbo-0125', object='chat.completion', service_tier=None, system_fingerprint=None, usage=CompletionUsage(completion_tokens=205, prompt_tokens=467, total_tokens=672))\n",
      "Prediction: 0.6\n"
     ]
    },
    {
     "name": "stderr",
     "output_type": "stream",
     "text": [
      " 30%|███       | 3/10 [00:09<00:22,  3.25s/it]"
     ]
    },
    {
     "name": "stdout",
     "output_type": "stream",
     "text": [
      "ChatCompletion(id='chatcmpl-9jAxlLtWGmxn4rje57Oq97hDrRsdN', choices=[Choice(finish_reason='stop', index=0, logprobs=None, message=ChatCompletionMessage(content='Step 1:\\nThe description provided mentions the \"Neutrino Seesaw Mechanism & Dark Matter\". The abstract talks about a toy-model of matter bounce with two fermion species and a curvaton mechanism. It also mentions baryogenesis and constraints on dark matter particles.\\n\\nThe mention of fermion species and dark matter particles align with the neuron description. However, the abstract does not explicitly mention the Neutrino Seesaw Mechanism. It does discuss related topics such as curvaton mechanism and baryogenesis, which may activate the neuron to some extent.\\n\\nStep 2:\\nGiven that the abstract contains relevant topics such as fermion species and dark matter particles, but does not explicitly mention the Neutrino Seesaw Mechanism, I predict with medium confidence that the neuron will activate on this abstract. \\nConfidence score: 0.6\\n\\nPREDICTION: 0.6', role='assistant', function_call=None, tool_calls=None))], created=1720553929, model='gpt-3.5-turbo-0125', object='chat.completion', service_tier=None, system_fingerprint=None, usage=CompletionUsage(completion_tokens=185, prompt_tokens=472, total_tokens=657))\n",
      "Prediction: 0.6\n"
     ]
    },
    {
     "name": "stderr",
     "output_type": "stream",
     "text": [
      " 40%|████      | 4/10 [00:12<00:17,  2.98s/it]"
     ]
    },
    {
     "name": "stdout",
     "output_type": "stream",
     "text": [
      "ChatCompletion(id='chatcmpl-9jAxoiZ379xKWWfGXT8ISRFiVTa58', choices=[Choice(finish_reason='stop', index=0, logprobs=None, message=ChatCompletionMessage(content='Step 1: The abstract discusses the concept of sterile neutrinos as a dark matter candidate, which is related to the \"Neutrino Seesaw Mechanism & Dark Matter\" description. It talks about different mechanisms for sterile neutrino dark matter production, including the Dodelson-Widrow mechanism and the freeze-in mechanism. It also reviews motivations for such frameworks and their phenomenological signatures.\\n\\nStep 2: Given that the abstract directly discusses sterile neutrinos as dark matter candidates and various mechanisms for their production, it aligns closely with the description of the neuron that activates on papers related to the \"Neutrino Seesaw Mechanism & Dark Matter.\" Therefore, it is likely that the neuron will activate on this abstract.\\n\\nConfidence Score: 0.9\\n\\nPREDICTION: 1', role='assistant', function_call=None, tool_calls=None))], created=1720553932, model='gpt-3.5-turbo-0125', object='chat.completion', service_tier=None, system_fingerprint=None, usage=CompletionUsage(completion_tokens=164, prompt_tokens=526, total_tokens=690))\n",
      "Prediction: 1\n"
     ]
    },
    {
     "name": "stderr",
     "output_type": "stream",
     "text": [
      " 50%|█████     | 5/10 [00:15<00:14,  2.88s/it]"
     ]
    },
    {
     "name": "stdout",
     "output_type": "stream",
     "text": [
      "ChatCompletion(id='chatcmpl-9jAxrqTinW1dwPLOyDk7jQhkycf5N', choices=[Choice(finish_reason='stop', index=0, logprobs=None, message=ChatCompletionMessage(content='Step 1: The abstract discusses the inverse Seesaw scenario for neutrino masses, Lepton number symmetry, Majoron associated with spontaneous symmetry breaking, sterile neutrinos at the keV-MeV scale, and their potential role as dark matter. While the abstract does not explicitly mention the \"Neutrino Seesaw Mechanism & Dark Matter\" in the description, it covers related concepts such as neutrino masses, symmetry breaking, and dark matter components in the Universe. Therefore, there are significant overlaps with the neuron\\'s description.\\n\\nStep 2: Considering the overlap between the abstract content and the neuron description, I predict that the neuron will activate on this abstract with a relatively high confidence level. The abstract covers topics closely related to the neuron\\'s activation criteria, even though it does not directly mention the specific keywords in the neuron description.\\n\\nPREDICTION: 0.8', role='assistant', function_call=None, tool_calls=None))], created=1720553935, model='gpt-3.5-turbo-0125', object='chat.completion', service_tier=None, system_fingerprint=None, usage=CompletionUsage(completion_tokens=179, prompt_tokens=511, total_tokens=690))\n",
      "Prediction: 0.8\n"
     ]
    },
    {
     "name": "stderr",
     "output_type": "stream",
     "text": [
      " 60%|██████    | 6/10 [00:18<00:12,  3.15s/it]"
     ]
    },
    {
     "name": "stdout",
     "output_type": "stream",
     "text": [
      "ChatCompletion(id='chatcmpl-9jAxtzNFa8UQyvSArlr9xafExXukl', choices=[Choice(finish_reason='stop', index=0, logprobs=None, message=ChatCompletionMessage(content='Step 1: The abstract discusses the X-ray variability of a particular object based on ASCA observatory data. It mentions the power spectrum of the object in a certain frequency range, with a flat portion in the spectrum at specific frequencies. It also talks about periodic variability dominating over stochastic variability at lower frequencies and mentions a model that best fits the observations. There is a mention of jet nutation and the suggestion that the power spectrum may not reflect the disk structure at certain frequencies.\\n\\nStep 2: The abstract does not directly mention the Neutrino Seesaw Mechanism or Dark Matter. It focuses on X-ray variability of an object, which is not directly related to these topics. The topics discussed in the abstract do not have a clear connection to the description of the neuron activation, which is based on the Neutrino Seesaw Mechanism & Dark Matter.\\n\\nTherefore, based on the lack of direct relevance to the Neutrino Seesaw Mechanism & Dark Matter in the abstract, I predict that the neuron will not activate on this abstract.\\n\\nStep 3: PREDICTION: -0.8', role='assistant', function_call=None, tool_calls=None))], created=1720553937, model='gpt-3.5-turbo-0125', object='chat.completion', service_tier=None, system_fingerprint=None, usage=CompletionUsage(completion_tokens=226, prompt_tokens=716, total_tokens=942))\n",
      "Prediction: -0.8\n"
     ]
    },
    {
     "name": "stderr",
     "output_type": "stream",
     "text": [
      " 70%|███████   | 7/10 [00:22<00:10,  3.35s/it]"
     ]
    },
    {
     "name": "stdout",
     "output_type": "stream",
     "text": [
      "ChatCompletion(id='chatcmpl-9jAxxov8cP2xt2k99McysomoV734J', choices=[Choice(finish_reason='stop', index=0, logprobs=None, message=ChatCompletionMessage(content='Step 1: The abstract discusses the instability of the $f$-mode in neutron stars, driven by the emission of gravitational waves. It also talks about the coupling of the parent mode with pairs of daughter modes, exhibiting a variety of behaviors. The study focuses on neutron stars derived from supernovae and mergers, modeled as polytropes in a Newtonian context. There is no direct mention of the Neutrino Seesaw Mechanism or Dark Matter in this abstract.\\n\\nStep 2: Based on the analysis in Step 1, the abstract does not directly relate to the Neutrino Seesaw Mechanism or Dark Matter. While the concept of neutron stars is somewhat related to astrophysics, the specific topics described in the abstract do not align with the activation criteria of the neuron. Therefore, I predict that the neuron will not activate on this abstract.\\n\\nStep 3: PREDICTION: -0.7', role='assistant', function_call=None, tool_calls=None))], created=1720553941, model='gpt-3.5-turbo-0125', object='chat.completion', service_tier=None, system_fingerprint=None, usage=CompletionUsage(completion_tokens=191, prompt_tokens=597, total_tokens=788))\n",
      "Prediction: -0.7\n"
     ]
    },
    {
     "name": "stderr",
     "output_type": "stream",
     "text": [
      " 80%|████████  | 8/10 [00:25<00:06,  3.33s/it]"
     ]
    },
    {
     "name": "stdout",
     "output_type": "stream",
     "text": [
      "ChatCompletion(id='chatcmpl-9jAy14f4btqsXQrSR2WmUpdRplNn3', choices=[Choice(finish_reason='stop', index=0, logprobs=None, message=ChatCompletionMessage(content=\"Step 1: The abstract discusses the construction of a model for the inner crust of neutron stars using interactions from chiral effective field theory to calculate its equation of state, shear properties, and the spectrum of crustal shear modes. It also mentions studying uncertainties associated with nuclear physics input, crust composition, and neutron entrainment.\\n\\nWhile the abstract does mention neutron stars and nuclear physics, it does not directly discuss the Neutrino Seesaw Mechanism or Dark Matter. The focus is more on the properties of neutron stars and the calculations related to their crust. However, the topic of neutrinos or dark matter is not the central theme of this abstract.\\n\\nStep 2: Based on the analysis in Step 1, it is unlikely that this abstract will activate the neuron related to the Neutrino Seesaw Mechanism & Dark Matter. The abstract covers topics more related to neutron stars and nuclear physics calculations, which are not directly aligned with the neuron's description.\\n\\nConfidence score: -0.8\\n\\nPREDICTION: -0.8\", role='assistant', function_call=None, tool_calls=None))], created=1720553945, model='gpt-3.5-turbo-0125', object='chat.completion', service_tier=None, system_fingerprint=None, usage=CompletionUsage(completion_tokens=212, prompt_tokens=565, total_tokens=777))\n",
      "Prediction: -0.8\n"
     ]
    },
    {
     "name": "stderr",
     "output_type": "stream",
     "text": [
      " 90%|█████████ | 9/10 [00:28<00:03,  3.10s/it]"
     ]
    },
    {
     "name": "stdout",
     "output_type": "stream",
     "text": [
      "ChatCompletion(id='chatcmpl-9jAy4OKOpFZr0H7ADccCxjNEwlJ4G', choices=[Choice(finish_reason='stop', index=0, logprobs=None, message=ChatCompletionMessage(content=\"Step 1: \\nThe abstract discusses the formation of planetary systems around Proxima Centauri, Alpha Centauri A, and Alpha Centauri B, which are all stars in the Alpha Centauri system. It mentions N-body simulations to determine the plausibility of the scenario and the implications for planet formation in this system. The abstract does not explicitly mention the Neutrino Seesaw Mechanism or Dark Matter, which are the key concepts the neuron activates on. However, the abstract does focus on astrophysical phenomena and the dynamics of planetary formation, which are related to the field of astrophysics.\\n\\nStep 2:\\nGiven that the abstract does not directly mention the Neutrino Seesaw Mechanism or Dark Matter, the relevance of the content to the neuron's activation is not clear. However, since the abstract deals with astrophysical simulations and the formation of planetary systems around stars, there may be some relevance to the neuron's activation. I am uncertain about the activation of the neuron on this abstract, and I would assign a confidence score of -0.5.\\n\\nPREDICTION: -0.5\", role='assistant', function_call=None, tool_calls=None))], created=1720553948, model='gpt-3.5-turbo-0125', object='chat.completion', service_tier=None, system_fingerprint=None, usage=CompletionUsage(completion_tokens=232, prompt_tokens=676, total_tokens=908))\n",
      "Prediction: -0.5\n"
     ]
    },
    {
     "name": "stderr",
     "output_type": "stream",
     "text": [
      "100%|██████████| 10/10 [00:31<00:00,  3.11s/it]"
     ]
    },
    {
     "name": "stdout",
     "output_type": "stream",
     "text": [
      "ChatCompletion(id='chatcmpl-9jAy73FIwvFPE8Bcf0fvEzWfh1Hsk', choices=[Choice(finish_reason='stop', index=0, logprobs=None, message=ChatCompletionMessage(content=\"Step 1: The description of the neuron's activation indicates an interest in the Neutrino Seesaw Mechanism and Dark Matter. The abstract provided, however, focuses on the Cosmic Web Detachment (CWD) model in the context of galaxy evolution and star formation. While the abstract touches on cosmological processes and interactions, it does not directly mention neutrinos or dark matter. \\n\\nThe CWD model discusses the impact of cosmic web interactions on star-forming galaxies, including quenching mechanisms such as gas stripping, harassment, strangulation, and starvation. These mechanisms are driven by gravitational and mechanical processes, rather than neutrinos or dark matter.\\n\\nGiven that the abstract does not explicitly mention the Neutrino Seesaw Mechanism or Dark Matter, it is unlikely that the neuron will activate strongly based on this abstract.\\n\\nStep 2: Confidence score: -0.8\\n\\nPREDICTION: -0.8\", role='assistant', function_call=None, tool_calls=None))], created=1720553951, model='gpt-3.5-turbo-0125', object='chat.completion', service_tier=None, system_fingerprint=None, usage=CompletionUsage(completion_tokens=188, prompt_tokens=672, total_tokens=860))\n",
      "Prediction: -0.8\n",
      "Pearson correlation: 0.980828892547368\n",
      "F1 score: 1.0\n"
     ]
    },
    {
     "name": "stderr",
     "output_type": "stream",
     "text": [
      "\n"
     ]
    }
   ],
   "source": [
    "# Samples to predict\n",
    "num_to_predict = 5\n",
    "top_abstracts, zero_abstracts = get_feature_activations(feature_index, m*2, topk_indices, topk_values, abstract_texts_path)\n",
    "\n",
    "# Keep the second k/2 \n",
    "top_abstracts = [abstract for _, abstract, _ in top_abstracts]\n",
    "top_abstracts = top_abstracts[-num_to_predict:]\n",
    "print(f'{len(top_abstracts)} top abstracts')\n",
    "\n",
    "zero_abstracts = zero_abstracts[-num_to_predict:]\n",
    "print(f'{len(zero_abstracts)} zero abstracts')\n",
    "\n",
    "# Go through all top abstracts and all zero abstracts and predict\n",
    "predictions = []\n",
    "ground_truth = [1] * len(top_abstracts) + [0] * len(zero_abstracts)\n",
    "\n",
    "for abstract in tqdm(top_abstracts + zero_abstracts):\n",
    "    prediction_prompt = prediction_base_prompt.format(description=interpretation, abstract=abstract)\n",
    "\n",
    "    prediction_response = client.chat.completions.create(\n",
    "        model=\"gpt-3.5-turbo\",\n",
    "        messages=[\n",
    "            {\"role\": \"user\", \"content\": prediction_prompt}\n",
    "        ]\n",
    "    )\n",
    "\n",
    "    prediction = prediction_response.choices[0].message.content.split(\"PREDICTION:\")[1].strip()\n",
    "    # Remove '*' from the prediction\n",
    "    prediction = prediction.replace(\"*\", \"\")\n",
    "    print(f\"Prediction: {prediction}\")\n",
    "    predictions.append(float(prediction))\n",
    "\n",
    "correlation, _ = pearsonr(ground_truth, predictions)\n",
    "\n",
    "print(f\"Pearson correlation: {correlation}\")\n",
    "\n",
    "# F1 score\n",
    "\n",
    "# Convert predictions to binary\n",
    "binary_predictions = [1 if p > 0 else 0 for p in predictions]\n",
    "\n",
    "f1 = f1_score(ground_truth, binary_predictions)\n",
    "\n",
    "print(f\"F1 score: {f1}\")"
   ]
  },
  {
   "cell_type": "code",
   "execution_count": null,
   "metadata": {},
   "outputs": [],
   "source": []
  }
 ],
 "metadata": {
  "kernelspec": {
   "display_name": "saerch",
   "language": "python",
   "name": "python3"
  },
  "language_info": {
   "codemirror_mode": {
    "name": "ipython",
    "version": 3
   },
   "file_extension": ".py",
   "mimetype": "text/x-python",
   "name": "python",
   "nbconvert_exporter": "python",
   "pygments_lexer": "ipython3",
   "version": "3.12.4"
  }
 },
 "nbformat": 4,
 "nbformat_minor": 2
}
