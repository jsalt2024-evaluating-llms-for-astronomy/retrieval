{
 "cells": [
  {
   "cell_type": "code",
   "execution_count": 3,
   "metadata": {},
   "outputs": [],
   "source": [
    "import pickle\n",
    "import numpy as np"
   ]
  },
  {
   "cell_type": "code",
   "execution_count": 8,
   "metadata": {},
   "outputs": [],
   "source": [
    "data_path = \"../data/vector_store/\"\n",
    "\n",
    "def load_data():\n",
    "    file = \"embeddings_matrix.npy\"\n",
    "    with open(data_path + file, 'rb') as f:\n",
    "        embeddings_matrix = np.load(f)\n",
    "    return embeddings_matrix"
   ]
  },
  {
   "cell_type": "code",
   "execution_count": 9,
   "metadata": {},
   "outputs": [
    {
     "name": "stdout",
     "output_type": "stream",
     "text": [
      "(543080, 1536)\n"
     ]
    }
   ],
   "source": [
    "embeddings = load_data()\n",
    "print(embeddings.shape)"
   ]
  },
  {
   "cell_type": "code",
   "execution_count": 18,
   "metadata": {},
   "outputs": [
    {
     "name": "stdout",
     "output_type": "stream",
     "text": [
      "Loaded 271540 abstract embeddings.\n",
      "Shape of abstract embeddings: (271540, 1536)\n"
     ]
    }
   ],
   "source": [
    "import numpy as np\n",
    "import pickle\n",
    "\n",
    "# Load the full embeddings matrix\n",
    "embeddings = np.load('../data/vector_store/embeddings_matrix.npy')\n",
    "\n",
    "# Load the index mapping\n",
    "with open('../data/vector_store/index_mapping.pkl', 'rb') as f:\n",
    "    index_mapping = pickle.load(f)\n",
    "\n",
    "# Create a list to store the indices of abstract embeddings\n",
    "abstract_indices = []\n",
    "\n",
    "# Iterate through the index mapping to find abstract indices\n",
    "for doc_id, mappings in index_mapping.items():\n",
    "    if 'abstract' in mappings:\n",
    "        abstract_indices.append(mappings['abstract'])\n",
    "\n",
    "# Convert the list to a numpy array for efficient indexing\n",
    "abstract_indices = np.array(abstract_indices)\n",
    "\n",
    "# Extract only the abstract embeddings\n",
    "abstract_embeddings = embeddings[abstract_indices]\n",
    "\n",
    "print(f\"Loaded {len(abstract_embeddings)} abstract embeddings.\")\n",
    "print(f\"Shape of abstract embeddings: {abstract_embeddings.shape}\")\n",
    "\n",
    "# You can now use or save the abstract_embeddings array as needed\n",
    "# For example, to save it:\n",
    "np.save('../data/vector_store/abstract_embeddings.npy', abstract_embeddings)"
   ]
  },
  {
   "cell_type": "code",
   "execution_count": null,
   "metadata": {},
   "outputs": [],
   "source": []
  }
 ],
 "metadata": {
  "kernelspec": {
   "display_name": "saerch",
   "language": "python",
   "name": "python3"
  },
  "language_info": {
   "codemirror_mode": {
    "name": "ipython",
    "version": 3
   },
   "file_extension": ".py",
   "mimetype": "text/x-python",
   "name": "python",
   "nbconvert_exporter": "python",
   "pygments_lexer": "ipython3",
   "version": "3.12.4"
  }
 },
 "nbformat": 4,
 "nbformat_minor": 2
}
