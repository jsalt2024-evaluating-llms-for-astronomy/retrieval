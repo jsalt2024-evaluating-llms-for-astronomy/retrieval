{
 "cells": [
  {
   "cell_type": "markdown",
   "metadata": {},
   "source": [
    "## Abstract embeddings"
   ]
  },
  {
   "cell_type": "code",
   "execution_count": 143,
   "metadata": {},
   "outputs": [
    {
     "name": "stdout",
     "output_type": "stream",
     "text": [
      "Processed 271494 abstract embeddings.\n",
      "Shape of abstract embeddings: (271494, 1536)\n",
      "Length of abstract texts: 271494\n",
      "Length of document IDs: 271494\n",
      "Saved abstract embeddings and texts.\n"
     ]
    }
   ],
   "source": [
    "import numpy as np\n",
    "import pickle\n",
    "import json\n",
    "from typing import List\n",
    "from dataclasses import dataclass\n",
    "\n",
    "@dataclass\n",
    "class Document:\n",
    "    id: str\n",
    "    abstract: str\n",
    "    conclusions: str\n",
    "    arxiv_id: str\n",
    "    title: str = None\n",
    "    score: float = None\n",
    "    n_citation: int = None\n",
    "    keywords: List[str] = None\n",
    "\n",
    "# Load the full embeddings matrix\n",
    "embeddings = np.load('../data/vector_store/embeddings_matrix.npy')\n",
    "\n",
    "# Load the index mapping\n",
    "with open('../data/vector_store/index_mapping.pkl', 'rb') as f:\n",
    "    index_mapping = pickle.load(f)\n",
    "\n",
    "# Load the documents\n",
    "with open('../data/vector_store/documents.pkl', 'rb') as f:\n",
    "    documents = pickle.load(f)\n",
    "\n",
    "# Create lists to store the abstract embeddings and corresponding text\n",
    "abstract_embeddings = []\n",
    "abstract_texts = []\n",
    "doc_ids = []\n",
    "\n",
    "# Iterate through the index mapping to find abstract indices and corresponding text\n",
    "for doc_id, mappings in index_mapping.items():\n",
    "    if 'abstract' in mappings:\n",
    "        abstract_index = mappings['abstract']\n",
    "        abstract_embeddings.append(embeddings[abstract_index])\n",
    "        \n",
    "        # Find the corresponding document and extract the abstract text\n",
    "        doc = next((d for d in documents if d.id == doc_id), None)\n",
    "        if doc:\n",
    "            abstract_texts.append(doc.abstract)\n",
    "            doc_ids.append(doc_id)\n",
    "        else:\n",
    "            print(f\"Warning: Document with ID {doc_id} not found.\")\n",
    "\n",
    "# Convert lists to numpy arrays\n",
    "abstract_embeddings = np.array(abstract_embeddings)\n",
    "\n",
    "print(f\"Processed {len(abstract_embeddings)} abstract embeddings.\")\n",
    "print(f\"Shape of abstract embeddings: {abstract_embeddings.shape}\")\n",
    "print(f\"Length of abstract texts: {len(abstract_texts)}\")\n",
    "print(f\"Length of document IDs: {len(doc_ids)}\")\n",
    "\n",
    "# Save the abstract embeddings\n",
    "np.save('../data/vector_store/abstract_embeddings.npy', abstract_embeddings)\n",
    "\n",
    "# Save the abstract texts and document IDs\n",
    "with open('../data/vector_store/abstract_texts.json', 'w') as f:\n",
    "    json.dump({\n",
    "        'doc_ids': doc_ids,\n",
    "        'abstracts': abstract_texts\n",
    "    }, f)\n",
    "\n",
    "print(\"Saved abstract embeddings and texts.\")"
   ]
  },
  {
   "cell_type": "markdown",
   "metadata": {},
   "source": [
    "## Top-k values and indices"
   ]
  },
  {
   "cell_type": "code",
   "execution_count": 145,
   "metadata": {},
   "outputs": [
    {
     "name": "stderr",
     "output_type": "stream",
     "text": [
      "Processing abstracts: 100%|██████████| 266/266 [00:13<00:00, 19.90it/s]"
     ]
    },
    {
     "name": "stdout",
     "output_type": "stream",
     "text": [
      "Processing complete. Results saved in 'sae_data' folder.\n"
     ]
    },
    {
     "name": "stderr",
     "output_type": "stream",
     "text": [
      "\n"
     ]
    }
   ],
   "source": [
    "import torch\n",
    "import numpy as np\n",
    "from tqdm import tqdm\n",
    "import os\n",
    "from torch.utils.data import DataLoader, TensorDataset\n",
    "from topk_sae import FastAutoencoder  # Assuming train.py contains your FastAutoencoder class\n",
    "\n",
    "# Set grad to false\n",
    "torch.set_grad_enabled(False)\n",
    "\n",
    "# hypers\n",
    "d_model = 1536\n",
    "n_dirs = d_model * 6\n",
    "k = 64\n",
    "auxk = 128\n",
    "batch_size = 1024\n",
    "\n",
    "# Device configuration\n",
    "device = torch.device('cuda' if torch.cuda.is_available() else 'cpu')\n",
    "\n",
    "# Load the pre-trained model\n",
    "ae = FastAutoencoder(n_dirs, d_model, k, auxk).to(device)\n",
    "model_path = 'checkpoints/64_9216_128_auxk_epoch_50.pth'\n",
    "ae.load_state_dict(torch.load(model_path))\n",
    "ae.eval()\n",
    "\n",
    "# Load abstract embeddings\n",
    "abstract_embeddings = np.load(\"../data/vector_store/abstract_embeddings.npy\")\n",
    "abstract_embeddings = abstract_embeddings.astype(np.float32)\n",
    "\n",
    "# Create a DataLoader for efficient batching\n",
    "dataset = TensorDataset(torch.from_numpy(abstract_embeddings))\n",
    "dataloader = DataLoader(dataset, batch_size=batch_size, shuffle=False)\n",
    "\n",
    "# Prepare arrays to store results\n",
    "num_abstracts = len(abstract_embeddings)\n",
    "topk_indices = np.zeros((num_abstracts, k), dtype=np.int64)\n",
    "topk_values = np.zeros((num_abstracts, k), dtype=np.float32)\n",
    "\n",
    "# Process batches\n",
    "with torch.no_grad():\n",
    "    for i, (batch,) in enumerate(tqdm(dataloader, desc=\"Processing abstracts\")):\n",
    "        batch = batch.to(device)\n",
    "        _, info = ae(batch)\n",
    "        \n",
    "        start_idx = i * batch_size\n",
    "        end_idx = start_idx + batch.size(0)\n",
    "        \n",
    "        topk_indices[start_idx:end_idx] = info['topk_indices'].cpu().numpy()\n",
    "        topk_values[start_idx:end_idx] = info['topk_values'].cpu().numpy()\n",
    "\n",
    "# Create directory to save results\n",
    "os.makedirs(\"sae_data\", exist_ok=True)\n",
    "\n",
    "# Save results\n",
    "np.save(\"sae_data/topk_indices.npy\", topk_indices)\n",
    "np.save(\"sae_data/topk_values.npy\", topk_values)\n",
    "\n",
    "print(\"Processing complete. Results saved in 'sae_data' folder.\")"
   ]
  },
  {
   "cell_type": "markdown",
   "metadata": {},
   "source": [
    "# Visualisations"
   ]
  },
  {
   "cell_type": "code",
   "execution_count": 146,
   "metadata": {},
   "outputs": [],
   "source": [
    "import numpy as np\n",
    "\n",
    "# Load them\n",
    "topk_indices = np.load(\"sae_data/topk_indices.npy\")\n",
    "topk_values = np.load(\"sae_data/topk_values.npy\")"
   ]
  },
  {
   "cell_type": "markdown",
   "metadata": {},
   "source": [
    "## Log feature density"
   ]
  },
  {
   "cell_type": "code",
   "execution_count": 147,
   "metadata": {},
   "outputs": [
    {
     "name": "stdout",
     "output_type": "stream",
     "text": [
      "[0.00366491 0.00296139 0.00693938 ... 0.00183429 0.03692899 0.05308036]\n",
      "Num features:  9216\n",
      "Number of non-zero feature densities: 9216\n"
     ]
    },
    {
     "data": {
      "image/png": "[encoded data removed]",
      "text/plain": [
       "<Figure size 1200x800 with 1 Axes>"
      ]
     },
     "metadata": {},
     "output_type": "display_data"
    }
   ],
   "source": [
    "import numpy as np\n",
    "import matplotlib.pyplot as plt\n",
    "from matplotlib.colors import LinearSegmentedColormap\n",
    "import seaborn as sns\n",
    "\n",
    "# hypers\n",
    "d_model = 1536\n",
    "n_dirs = d_model * 6\n",
    "k = 64\n",
    "auxk = 128\n",
    "batch_size = 1024\n",
    "\n",
    "def plot_log_feature_density(topk_indices, save_path=None, dpi=300):\n",
    "    \"\"\"\n",
    "    Create a publication-quality log feature density plot.\n",
    "    \n",
    "    :param topk_indices: numpy array of shape (num_samples, k) containing the indices of top-k features\n",
    "    :param save_path: path to save the figure (if None, the figure will be displayed)\n",
    "    :param dpi: resolution of the output figure\n",
    "    \"\"\"\n",
    "    # Calculate feature density\n",
    "    num_samples, k = topk_indices.shape\n",
    "    num_features = n_dirs\n",
    "    feature_counts = np.bincount(topk_indices.flatten(), minlength=num_features)\n",
    "    feature_density = feature_counts / num_samples\n",
    "\n",
    "    print(feature_density)\n",
    "    print(\"Num features: \", num_features)\n",
    "    # Print non-zero feature density\n",
    "    print(f\"Number of non-zero feature densities: {np.count_nonzero(feature_density)}\")\n",
    "    \n",
    "    # Calculate log feature density\n",
    "    log_feature_density = np.log(feature_density + 1e-10)  # Add small constant to avoid log(0)\n",
    "    \n",
    "    # Set up the plot style\n",
    "    #plt.style.use('seaborn-whitegrid')\n",
    "    plt.rcParams['font.size'] = 14\n",
    "    plt.rcParams['axes.labelsize'] = 16\n",
    "    plt.rcParams['axes.titlesize'] = 18\n",
    "    plt.rcParams['xtick.labelsize'] = 12\n",
    "    plt.rcParams['ytick.labelsize'] = 12\n",
    "    \n",
    "    # Create custom colormap\n",
    "    colors = ['#FFA07A', '#20B2AA', '#778899']\n",
    "    n_bins = 100\n",
    "    cmap = LinearSegmentedColormap.from_list('custom', colors, N=n_bins)\n",
    "    \n",
    "    # Create the figure\n",
    "    fig, ax = plt.subplots(figsize=(12, 8))\n",
    "    \n",
    "    # Plot the histogram\n",
    "    sns.histplot(log_feature_density, kde=True, color=colors[1], \n",
    "                 edgecolor=colors[2], linewidth=1.5, alpha=0.7, ax=ax)\n",
    "    \n",
    "    # Customize the plot\n",
    "    ax.set_xlabel('Log Feature Density')#, fontweight='bold')\n",
    "    ax.set_ylabel('Frequency')#, fontweight='bold')\n",
    "    \n",
    "    # Add grid\n",
    "    ax.grid(True, linestyle='--', alpha=0.7)\n",
    "    \n",
    "    # Improve layout\n",
    "    plt.tight_layout()\n",
    "    \n",
    "    # Save or display the plot\n",
    "    if save_path:\n",
    "        plt.savefig(save_path, dpi=dpi, bbox_inches='tight')\n",
    "        print(f\"Figure saved to {save_path}\")\n",
    "    else:\n",
    "        plt.show()\n",
    "    \n",
    "    plt.close()\n",
    "\n",
    "# Plot the log feature density\n",
    "plot_log_feature_density(topk_indices)"
   ]
  },
  {
   "cell_type": "code",
   "execution_count": 159,
   "metadata": {},
   "outputs": [
    {
     "name": "stdout",
     "output_type": "stream",
     "text": [
      "Feature 1001 Statistics:\n",
      "Number of non-zero activations: 595\n",
      "Mean: 0.0305\n",
      "Median: 0.0280\n",
      "Standard Deviation: 0.0119\n",
      "Min: 0.0143\n",
      "Max: 0.1458\n"
     ]
    },
    {
     "data": {
      "image/png": "[encoded data removed]",
      "text/plain": [
       "<Figure size 1200x800 with 1 Axes>"
      ]
     },
     "metadata": {},
     "output_type": "display_data"
    }
   ],
   "source": [
    "import numpy as np\n",
    "import matplotlib.pyplot as plt\n",
    "import seaborn as sns\n",
    "from matplotlib.colors import LinearSegmentedColormap\n",
    "\n",
    "def plot_feature_activation_density(feature_index, topk_values, topk_indices, save_path=None, dpi=300):\n",
    "    \"\"\"\n",
    "    Create a publication-quality density plot for the activation values of a specific feature.\n",
    "    \n",
    "    :param feature_index: Index of the feature to plot\n",
    "    :param topk_values: numpy array of shape (num_examples, topk) containing the non-zero values for the topk indices\n",
    "    :param topk_indices: numpy array of shape (num_examples, topk) containing the indices of top-k features\n",
    "    :param save_path: path to save the figure (if None, the figure will be displayed)\n",
    "    :param dpi: resolution of the output figure\n",
    "    \"\"\"\n",
    "    # Extract activation values for the specified feature\n",
    "    feature_mask = topk_indices == feature_index\n",
    "    activation_values = topk_values[feature_mask]\n",
    "\n",
    "    # Set up the plot style\n",
    "    plt.rcParams['font.size'] = 14\n",
    "    plt.rcParams['axes.labelsize'] = 16\n",
    "    plt.rcParams['axes.titlesize'] = 18\n",
    "    plt.rcParams['xtick.labelsize'] = 12\n",
    "    plt.rcParams['ytick.labelsize'] = 12\n",
    "    \n",
    "    # Create custom colormap\n",
    "    colors = ['#FFA07A', '#20B2AA', '#778899']\n",
    "    n_bins = 100\n",
    "    cmap = LinearSegmentedColormap.from_list('custom', colors, N=n_bins)\n",
    "    \n",
    "    # Create the figure\n",
    "    fig, ax = plt.subplots(figsize=(12, 8))\n",
    "    \n",
    "    # Plot the density\n",
    "    sns.kdeplot(activation_values, fill=True, color=colors[1], \n",
    "                edgecolor=colors[2], linewidth=1.5, alpha=0.7, ax=ax)\n",
    "    \n",
    "    # Plot the histogram\n",
    "    sns.histplot(activation_values, kde=False, color=colors[0], \n",
    "                 edgecolor=colors[2], linewidth=1.5, alpha=0.5, ax=ax)\n",
    "    \n",
    "    # Customize the plot\n",
    "    ax.set_xlabel('Activation Value')\n",
    "    ax.set_ylabel('Density')\n",
    "    ax.set_title(f'Activation Density for Feature {feature_index}')\n",
    "    \n",
    "    # Add grid\n",
    "    ax.grid(True, linestyle='--', alpha=0.7)\n",
    "    \n",
    "    # Improve layout\n",
    "    plt.tight_layout()\n",
    "    \n",
    "    # Print some statistics\n",
    "    print(f\"Feature {feature_index} Statistics:\")\n",
    "    print(f\"Number of non-zero activations: {len(activation_values)}\")\n",
    "    print(f\"Mean: {np.mean(activation_values):.4f}\")\n",
    "    print(f\"Median: {np.median(activation_values):.4f}\")\n",
    "    print(f\"Standard Deviation: {np.std(activation_values):.4f}\")\n",
    "    print(f\"Min: {np.min(activation_values):.4f}\")\n",
    "    print(f\"Max: {np.max(activation_values):.4f}\")\n",
    "    \n",
    "    # Save or display the plot\n",
    "    if save_path:\n",
    "        plt.savefig(save_path, dpi=dpi, bbox_inches='tight')\n",
    "        print(f\"Figure saved to {save_path}\")\n",
    "    else:\n",
    "        plt.show()\n",
    "    \n",
    "    plt.close()\n",
    "\n",
    "# Example usage:\n",
    "feature_index = 1001\n",
    "plot_feature_activation_density(feature_index, topk_values, topk_indices)"
   ]
  },
  {
   "cell_type": "code",
   "execution_count": 158,
   "metadata": {},
   "outputs": [
    {
     "name": "stdout",
     "output_type": "stream",
     "text": [
      "Top activating abstracts:\n",
      "Activation: 0.14581727981567383\n",
      "['The Nine Axes of Merit for Technosignature Searches']\n",
      "\n",
      "The diverse methodologies and myriad orthogonal proposals for the best technosignatures to search for in SETI can make it difficult to develop an effective and balanced search strategy, especially from a funding perspective. Here I propose a framework to compare the relative advantages and disadvantages of various proposed technosignatures based on nine \"axes of merit\". This framework was first developed at the NASA Technosignatures Workshop in Houston in 2018 and published in that report. I give the definition and rationale behind the nine axes as well as the history of each axis in the SETI and technosignature literature. These axes are then applied to three example classes of technosignature searches as an illustration of their use. An open-source software tool is available to allow technosignature researchers to make their own version of the figure.\n",
      "\n",
      "Activation: 0.10331396013498306\n",
      "['Representation of Signals as Series of Orthogonal Functions']\n",
      "\n",
      "This paper gives an introduction to the theory of orthogonal projection of functions or signals. Several kinds of decomposition are explored: Fourier, Fourier-Legendre, Fourier-Bessel series for 1D signals, and Spherical Harmonic series for 2D signals. We show how physical conditions and/or geometry can guide the choice of the base of functions for the decomposition. The paper is illustrated with several numerical examples.\n",
      "\n",
      "Activation: 0.08986034989356995\n",
      "['Weak lensing tomography with orthogonal polynomials']\n",
      "\n",
      "The topic of this paper is weak cosmic shear tomography where the line-of-sight weighting is carried out with a set of specifically constructed orthogonal polynomials, dubbed Tomography with Orthogonal Radial Distance Polynomial Systems (TaRDiS). We investigate the properties of these polynomials and employ weak convergence spectra, which have been obtained by weighting with these polynomials, for the estimation of cosmological parameters. We quantify their power in constraining parameters in a Fisher matrix technique and demonstrate how each polynomial projects out statistically independent information, and how the combination of multiple polynomials lifts degeneracies. The assumption of a reference cosmology is needed for the construction of the polynomials, and as a last point we investigate how errors in the construction with a wrong cosmological model propagate to misestimates in cosmological parameters. TaRDiS performs on a similar level as traditional tomographic methods and some key features of tomography are made easier to understand.\n",
      "\n",
      "Activation: 0.08560282737016678\n",
      "[\"Precision cosmology with a combination of wide and deep Sunyaev-Zel'dovich cluster surveys\"]\n",
      "\n",
      "We show the advantages of a wedding cake design for Sunyaev-Zel’dovich cluster surveys. We show that by dividing up a cluster survey into a wide and deep survey, one can essentially recover the cosmological information that would be diluted in a single survey of the same duration due to the uncertainties in our understanding of cluster physics. The parameter degeneracy directions of the deep and wide surveys are slightly different, and combining them breaks these degeneracies effectively. A variable depth survey with a few thousand clusters is as effective at constraining cosmological parameters as a single depth survey with a much larger cluster sample.\n",
      "\n",
      "Activation: 0.07574661076068878\n",
      "['Self-lensing flares from black hole binaries: General-relativistic ray tracing of black hole binaries']\n",
      "\n",
      "The self-lensing of a massive black hole binary (MBHB), which occurs when the two BHs are aligned close to the line of sight, is expected to produce periodic, short-duration flares. Here we study the shapes of self-lensing flares (SLFs) via general-relativistic ray tracing in a superimposed binary BH metric, in which the emission is generated by geometrically thin accretion flows around each component. The suite of models covers eccentric binary orbits, black hole spins, unequal mass binaries, and different emission model geometries. We explore the above parameter space and report how the light curves change as a function of, e.g., binary separation, inclination, and eccentricity. We also compare our light curves to those in the microlensing approximation, and show how strong deflections, as well as time-delay effects, change the size and shape of the SLF. If gravitational waves (GWs) from the inspiraling MBHB are observed by LISA, SLFs can help securely identify the source and localizing it on the sky, and to constrain the graviton mass by comparing the phasing of the SLFs and the GWs. Additionally, when these systems are viewed edge-on the SLF shows a distinct dip that can be directly correlated with the BH shadow size. This opens a new way to measure BH shadow sizes in systems that are unresolvable by current VLBI facilities.\n",
      "\n",
      "Activation: 0.07103927433490753\n",
      "['Penitentes as the origin of the bladed terrain of Tartarus Dorsa on Pluto']\n",
      "\n",
      "Penitentes are snow and ice features formed by erosion that, on Earth, are characterized by bowl-shaped depressions several tens of centimetres across, whose edges grade into spires up to several metres tall. Penitentes have been suggested as an explanation for anomalous radar data on Europa, but until now no penitentes have been identified conclusively on planetary bodies other than Earth. Regular ridges with spacings of 3,000 to 5,000 metres and depths of about 500 metres with morphologies that resemble penitentes have been observed by the New Horizons spacecraft in the Tartarus Dorsa region of Pluto (220°-250° E, 0°-20° N). Here we report simulations, based upon a recent model representing conditions on Pluto, in which deepening penitentes reproduce both the tri-modal (north-south, east-west and northeast-southwest) orientation and the spacing of the ridges of this bladed terrain. At present, these penitentes deepen by approximately one centimetre per orbital cycle and grow only during periods of relatively high atmospheric pressure, suggesting a formation timescale of several tens of millions of years, consistent with crater ages. This timescale implies that the penitentes formed from initial topographic variations of no more than a few tens of metres, consistent with Pluto’s youngest terrains.\n",
      "\n",
      "Activation: 0.06486231833696365\n",
      "[\"Hydrodynamic simulations of moonlet induced propellers in Saturn's rings: Application to Bleriot\"]\n",
      "\n",
      "One of the biggest successes of the Cassini mission is the detection of small moons (moonlets) embedded in Saturn's rings which cause S-shaped density structures in their close vicinity, called propellers (Spahn and Sremcevic 2000; Tiscareno et al. 2006; Sremcevic et al. 2007). Here, we present isothermal hydrodynamic simulations of moonlet-induced propellers in Saturn's A ring which denote a further development of the original model (Spahn and Sremcevic 2000). We find excellent agreement between these new hydrodynamic and corresponding N-body simulations. Furthermore, the hydrodynamic simulations confirm the predicted scaling laws (Spahn and Sremcevic 2000) and the analytical solution for the density in the propeller gaps (Sremcevic et al. 2002). Finally, this mean field approach allows us to simulate the pattern of the giant propeller Bleriot, which is too large to be modeled by direct N-body simulations. Our results are compared to two stellar occultation observations by the Cassini Ultraviolet Imaging Spectrometer (UVIS), that intersect the propeller Bleriot. Best fits to the UVIS optical depth profiles are achieved for a Hill radius of 590 m, which implies a moonlet diameter of about 860 m. Furthermore, the model favours a kinematic shear viscosity of the surrounding ring material of $\\nu_0 = 340$ cm^2/s, a dispersion velocity in the range of 0.3 cm/s $&lt; c_0 &lt;$ 1.5 cm/s, and a fairly high bulk viscosity $7 &lt; \\xi_0/\\nu_0 &lt; 17$. These large transport values might be overestimated by our isothermal ring model and should be reviewed by an extended model including thermal fluctuations.\n",
      "\n",
      "Activation: 0.06375589221715927\n",
      "['Analysis of spin directions of galaxies in the DESI Legacy Survey']\n",
      "\n",
      "The DESI Legacy Survey is a digital sky survey with a large footprint compared to other Earth-based surveys, covering both the Northern and Southern hemispheres. This paper shows the distribution of the spin directions of spiral galaxies imaged by DESI Legacy Survey. A\n",
      "\n",
      "Activation: 0.06060313433408737\n",
      "['Gravitational instantons and internal dimensions']\n",
      "\n",
      "We study instanton solutions in general relativity with a scalar field. The metric ansatz we use is composed of a particular warp product of general Einstein metrics, such as those found in a number of cosmological settings, including string cosmology, supergravity compactifications and general Kaluza Klein reductions. Using the Hartle-Hawking prescription the instantons we obtain determine whether metrics involving extra compact dimensions of this type are favoured as initial conditions for the universe. Specifically, we find that these product metric instantons, viewed as constrained instantons, do have a local minima in the action. These minima are then compared with the higher dimensional version of the Hawking-Turok instantons, and we argue that the latter always have lower action than those associated with these product metrics.\n",
      "\n",
      "Activation: 0.0605606883764267\n",
      "[\"Analyzing Bleriot's propeller gaps in Cassini NAC images\"]\n",
      "\n",
      "Among the great discoveries of the Cassini mission are the propeller-shaped structures created by small moonlets embedded in Saturn's dense rings. We analyze images of the sunlit side of Saturn's outer A ring, which show the propeller Bleriot with clearly visible partial propeller gaps. By determining radial brightness profiles at different azimuthal locations, we obtain the evolution of the gap minimum downstream of the moonlet. From the radial separation of the partial propeller gaps we estimate the Hill radius of Bleriot to be about 400m. Further, we fit the analytic solution from Sremcevic et al. (2002) describing the azimuthal evolution of the surface mass density in the propeller gap region to the azimuthal gap evolution obtained from Cassini images. From these fits, we estimate a kinematic shear viscosity in the range of 60 cm$^2$/s to 100 cm$^2$/s in Bleriot's ring region. These values are consistent with the parametrization given by Daisaka et al. (2001) and agree well with values estimated for the Encke gap edge (Tajeddine et al. 2017; Graetz et al. 2018).\n",
      "\n",
      "\n",
      "\n",
      "\n",
      "\n",
      "Zero activation samples:\n",
      "['Globular clusters as tracers of the host galaxy mass distribution: the Fornax dSph test case']\n",
      "\n",
      "The Fornax dwarf spheroidal galaxy is the most massive satellites of the Milky Way, claimed to be embedded in a huge dark matter halo, and the only among the Milky Way satellites hosting five globular clusters. Interestingly, their estimated masses, ages and positions seem hardly compatible with the presence of a significant dark matter component, as expected in the ΛCDM scheme. Indeed, if Fornax would have a CDM halo with a standard density profile, all its globular clusters should have sunk to the galactic centre many Gyr ago due to dynamical friction. Due to this, some authors proposed that the most massive clusters may have formed out of Fornax and later tidally captured. In this paper, we investigate the past evolution of the Fornax GC system by using both a recently developed, semi-analytical treatment of dynamical friction and direct N-body simulations of the orbital evolution of the globular clusters within Fornax and of Fornax galaxy around the Milky Way. Our results suggest that an `in situ' origin for all the clusters is likely if their observed positions are close to their spatial ones and their orbits are almost circular. Moreover, the Milky Way seems to accelerate the GC decay reducing the decay time of 15 per cent. Nevertheless, our results indicate that the GCs survival probability exceeds 50 per cent, even in the case of cuspy density profiles. We conclude that more detailed data are required to shed light on the Fornax dark matter content, to distinguish between a cuspy or a cored profile.\n",
      "\n",
      "['Impacts of fragmented accretion streams onto classical T Tauri stars: UV and X-ray emission lines']\n",
      "\n",
      "Context. The accretion process in classical T Tauri stars (CTTSs) can be studied through the analysis of some UV and X-ray emission lines which trace hot gas flows and act as diagnostics of the post-shock downfalling plasma. In the UV-band, where higher spectral resolution is available, these lines are characterized by rather complex profiles whose origin is still not clear. <BR /> Aims: We investigate the origin of UV and X-ray emission at impact regions of density structured (fragmented) accretion streams. We study if and how the stream fragmentation and the resulting structure of the post-shock region determine the observed profiles of UV and X-ray emission lines. <BR /> Methods: We modeled the impact of an accretion stream consisting of a series of dense blobs onto the chromosphere of a CTTS through two-dimensional (2D) magnetohydrodynamic (MHD) simulations. We explored different levels of stream fragmentation and accretion rates. From the model results, we synthesize C IV (1550 Å) and O VIII (18.97 Å) line profiles. <BR /> Results: The impacts of accreting blobs onto the stellar chromosphere produce reverse shocks propagating through the blobs and shocked upflows. These upflows, in turn, hit and shock the subsequent downfalling fragments. As a result, several plasma components differing for the downfalling velocity, density, and temperature are present altoghether. The profiles of C IV doublet are characterized by two main components: one narrow and redshifted to speed ≈ 50 km s<SUP>-1</SUP> and the other broader and consisting of subcomponents with redshift to speed in the range 200-400 km s<SUP>-1</SUP>. The profiles of O VIII lines appear more symmetric than C IV and are redshifted to speed ≈ 150 km s<SUP>-1</SUP>. <BR /> Conclusions: Our model predicts profiles of C IV line remarkably similar to those observed and explains their origin in a natural way as due to stream fragmentation. <P />Movies are available at <A href=\"http://www.aanda.org/10.1051/0004-6361/201628858/olm\">http://www.aanda.org</A>\n",
      "\n",
      "['Hybrid entropy stable HLL-type Riemann solvers for hyperbolic conservation laws']\n",
      "\n",
      "It is known that HLL-type schemes are more dissipative than schemes based on characteristic decompositions. However, HLL-type methods offer greater flexibility to large systems of hyperbolic conservation laws because the eigenstructure of the flux Jacobian is not needed. We demonstrate in the present work that several HLL-type Riemann solvers are provably entropy stable. Further, we provide convex combinations of standard dissipation terms to create hybrid HLL-type methods that have less dissipation while retaining entropy stability. The decrease in dissipation is demonstrated for the ideal MHD equations with a numerical example.\n",
      "\n",
      "['Dynamics of Saturn’s great storm of 2010-2011 from Cassini ISS and RPWS']\n",
      "\n",
      "Saturn’s quasi-periodic planet-encircling storms are the largest convecting cumulus outbursts in the Solar System. The last eruption was in 1990 (Sánchez-Lavega, A. [1994]. Chaos 4, 341-353). A new eruption started in December 2010 and presented the first-ever opportunity to observe such episodic storms from a spacecraft in orbit around Saturn (Fischer, G. et al. [2011]. Nature 475, 75-77; Sánchez-Lavega, A. et al. [2011]. Nature 475, 71-74; Fletcher, L.N. et al. [2011]. Science 332, 1413). Here, we analyze images acquired with the Cassini Imaging Science Subsystem (ISS), which captured the storm’s birth, evolution, and demise. In studying the end of the convective activity, we also analyze the Saturn Electrostatic Discharge (SED) signals detected by the Radio and Plasma Wave Science (RPWS) instrument. The storm’s initial position coincided with that of a previously known feature called the String of Pearls (SoPs) at 33°N planetocentric latitude. Intense cumulus convection at the westernmost point of the storm formed a particularly bright “head” that drifted at -26.9 ± 0.8 m s<SUP>-1</SUP> (negative denotes westward motion). On January 11, 2011, the size of the head was 9200 km and up to 34,000 km in the north-south and east-west dimensions, respectively. RPWS measurements show that the longitudinal extent of the lightning source expanded with the storm’s growth. The storm spawned the largest tropospheric vortex ever seen on Saturn. On January 11, 2011, the anticyclone was sized 11,000 km by 12,000 km in the north-south and east-west directions, respectively. Between January and September 2011, the vortex drifted at an average speed of -8.4 m s<SUP>-1</SUP>. We detect anticyclonic circulation in the new vortex. The vortex’s size gradually decreased after its formation, and its central latitude shifted to the north. The storm’s head moved westward and encountered the new anticyclone from the east in June 2011. After the head-vortex collision, the RPWS instrument detected that the SED activities became intermittent and declined over ∼40 days until the signals became undetectable in early August. In late August, the SED radio signals resurged for 9 days. The storm left a vast dark area between 32°N and 38°N latitudes, surrounded by a highly disturbed region that resembles the mid-latitudes of Jupiter. Using ISS images, we also made cloud-tracking wind measurements that reveal differences in the cloud-level zonal wind profiles before and after the storm.\n",
      "\n",
      "['Observed Variability at 1 and 4 μm in the Y0 Brown Dwarf WISEP J173835.52+273258.9']\n",
      "\n",
      "We have monitored photometrically the Y0 brown dwarf WISEP J173835.52+273258.9 (W1738) at both near- and mid-infrared wavelengths. This ≲1 Gyr old 400 K dwarf is at a distance of 8 pc and has a mass around 5 M <SUB>Jupiter</SUB>. We observed W1738 using two near-infrared filters at λ ≈ 1 μm, Y and J, on Gemini Observatory and two mid-infrared filters at λ ≈ 4 μm, [3.6] and [4.5], on the Spitzer observatory. Twenty-four hours were spent on the source by Spitzer on each of 2013 June 30 and October 30 UT. Between these observations, around 5 hr were spent on the source by Gemini on each of 2013 July 17 and August 23 UT. The mid-infrared light curves show significant evolution between the two observations separated by 4 months. We find that a double sinusoid can be fit to the [4.5] data, where one sinusoid has a period of 6.0 ± 0.1 hr and the other a period of 3.0 ± 0.1 hr. The near-infrared observations suggest variability with a ∼3.0 hr period, although only at a ≲2σ confidence level. We interpret our results as showing that the Y dwarf has a 6.0 ± 0.1 hr rotation period, with one or more large-scale surface features being the source of variability. The peak-to-peak amplitude of the light curve at [4.5] is 3%. The amplitude of the near-infrared variability, if real, may be as high as 5%-30%. Intriguingly, this size of variability and the wavelength dependence can be reproduced by atmospheric models that include patchy KCl and Na<SUB>2</SUB>S clouds and associated small changes in surface temperature. The small number of large features, as well as the timescale for evolution of the features, is very similar to what is seen in the atmospheres of the solar system gas giants.\n",
      "\n",
      "['Dispersion by pulsars, magnetars, fast radio bursts and massive electromagnetism at very low radio frequencies']\n",
      "\n",
      "Our understanding of the universe relies mostly on electromagnetism. As photons are the messengers, fundamental physics is concerned in testing their properties. Photon mass upper limits have been earlier set through pulsar observations, but new investigations are offered by the excess of dispersion measure (DM), sometimes observed with pulsar and magnetar data at low frequencies, or with the fast radio bursts (FRBs), of yet unknown origin. Arguments for the excess of DM do not reach a consensus, but are not mutually exclusive. Thus, we remind that for massive electromagnetism, dispersion goes as the inverse of the frequency squared. Thereby, new avenues are offered also by the recently operating ground observatories in 10-80 MHz domain and by the proposed Orbiting Low Frequency Antennas for Radio astronomy (OLFAR). The latter acts as a large aperture dish by employing a swarm of nano-satellites observing the sky for the first time in the 0.1-15 MHz spectrum. The swarm must be deployed sufficiently away from the ionosphere to avoid distorsions from terrestrial interference, especially during solar maxima, and offer stable conditions for calibration during observations.\n",
      "\n",
      "['Setting the volatile composition of (exo)planet-building material. Does chemical evolution in disk midplanes matter?']\n",
      "\n",
      "Context. The atmospheres of extrasolar planets are thought to be built largely through accretion of pebbles and planetesimals. Such pebbles are also the building blocks of comets. The chemical composition of their volatiles are usually taken to be inherited from the ices in the collapsing cloud. However, chemistry in the protoplanetary disk midplane can modify the composition of ices and gases. <BR /> Aims: To investigate if and how chemical evolution affects the abundances and distributions of key volatile species in the midplane of a protoplanetary disk in the 0.2-30 AU range. <BR /> Methods: A disk model used in planet population synthesis models is adopted, providing temperature, density and ionisation rate at different radial distances in the disk midplane. A full chemical network including gas-phase, gas-grain interactions and grain-surface chemistry is used to evolve chemistry in time, for 1 Myr. Both molecular (inheritance from the parent cloud) and atomic (chemical reset) initial conditions are investigated. <BR /> Results: Great diversity is observed in the relative abundance ratios of the main considered species: H<SUB>2</SUB>O, CO, CO<SUB>2</SUB>, CH<SUB>4</SUB>, O<SUB>2</SUB>, NH<SUB>3</SUB> and N<SUB>2</SUB>. The choice of ionisation level, the choice of initial abundances, as well as the extent of chemical reaction types included are all factors that affect the chemical evolution. The only exception is the inheritance scenario with a low ionisation level, which results in negligible changes compared with the initial abundances, regardless of whether or not grain-surface chemistry is included. The grain temperature plays an important role, especially in the critical 20-28 K region where atomic H no longer sticks long enough to the surface to react, but atomic O does. Above 28 K, efficient grain-surface production of CO<SUB>2</SUB> ice is seen, as well as O<SUB>2</SUB> gas and ice under certain conditions, at the expense of H<SUB>2</SUB>O and CO. H<SUB>2</SUB>O ice is produced on grain surfaces only below 28 K. For high ionisation levels at intermediate disk radii, CH<SUB>4</SUB> gas is destroyed and converted into CO and CO<SUB>2</SUB> (in contrast with previous models), and similarly NH<SUB>3</SUB> gas is converted into N<SUB>2</SUB>. At large radii around 30 AU, CH<SUB>4</SUB> ice is enhanced leading to a low gaseous CO abundance. As a result, the overall C/O ratios for gas and ice change significantly with radius and with model assumptions. For high ionisation levels, chemical processing becomes significant after a few times 10<SUP>5</SUP> yr. <BR /> Conclusions: Chemistry in the disk midplane needs to be considered in the determination of the volatile composition of planetesimals. In the inner &lt;30 AU disk, interstellar ice abundances are preserved only if the ionisation level is low, or if these species are included in larger bodies within 10<SUP>5</SUP> yr.\n",
      "\n",
      "['The Data Reduction Pipeline for the SDSS-IV MaNGA IFU Galaxy Survey']\n",
      "\n",
      "Mapping Nearby Galaxies at Apache Point Observatory (MaNGA) is an optical fiber-bundle integral-field unit (IFU) spectroscopic survey that is one of three core programs in the fourth-generation Sloan Digital Sky Survey (SDSS-IV). With a spectral coverage of 3622-10354 Å and an average footprint of ∼500 arcsec<SUP>2</SUP> per IFU the scientific data products derived from MaNGA will permit exploration of the internal structure of a statistically large sample of 10,000 low-redshift galaxies in unprecedented detail. Comprising 174 individually pluggable science and calibration IFUs with a near-constant data stream, MaNGA is expected to obtain ∼100 million raw-frame spectra and ∼10 million reduced galaxy spectra over the six-year lifetime of the survey. In this contribution, we describe the MaNGA Data Reduction Pipeline algorithms and centralized metadata framework that produce sky-subtracted spectrophotometrically calibrated spectra and rectified three-dimensional data cubes that combine individual dithered observations. For the 1390 galaxy data cubes released in Summer 2016 as part of SDSS-IV Data Release 13, we demonstrate that the MaNGA data have nearly Poisson-limited sky subtraction shortward of ∼8500 Å and reach a typical 10σ limiting continuum surface brightness μ = 23.5 AB arcsec<SUP>-2</SUP> in a five-arcsecond-diameter aperture in the g-band. The wavelength calibration of the MaNGA data is accurate to 5 km s<SUP>-1</SUP> rms, with a median spatial resolution of 2.54 arcsec FWHM (1.8 kpc at the median redshift of 0.037) and a median spectral resolution of σ = 72 km s<SUP>-1</SUP>.\n",
      "\n",
      "['Dark matter directional detection: comparison of the track direction determination']\n",
      "\n",
      "Several directional techniques have been proposed for a directional detection of Dark matter, among others anisotropic crystal detectors, nuclear emulsion plates, and low-pressure gaseous TPCs. The key point is to get access to the initial direction of the nucleus recoiling due to the elastic scattering by a WIMP. In this article, we aim at estimating, for each method, how the information of the recoil track initial direction is preserved in different detector materials. We use the SRIM simulation code to emulate the motion of the first recoiling nucleus in each material. We propose the use of a new observable, D, to quantify the preservation of the initial direction of the recoiling nucleus in the detector. We show that in an emulsion mix and an anisotropic crystal, the initial direction is lost very early, while in a typical TPC gas mix, the direction is well preserved.\n",
      "\n",
      "['Oscillating chiral tensor spectrum from axionic inflation']\n",
      "\n",
      "We study axionic inflation with a modulated potential and examine if the primordial tensor power spectrum exhibits oscillatory feature, which is testable with future space-based gravitational-wave experiments such as DECIGO and BBO. In the case of single-field axion monodromy inflation, it turns out that it is difficult to detect an oscillation in the spectrum due to the suppression of the sub-Planckian decay constant of the axion. On the other hand, in the case of aligned chromo-natural inflation where the axion is coupled to a SU(2) gauge field, it turns out that a sizable oscillation in the tensor spectrum can occur due to the enhancement of chiral gravitational waves sourced by the gauge field. We expect that this feature will be a new probe for axion phenomenologies in the early Universe through chiral gravitational waves.\n",
      "\n"
     ]
    }
   ],
   "source": [
    "import numpy as np\n",
    "import json\n",
    "import random\n",
    "\n",
    "def get_feature_activations(feature_index, m, topk_indices, topk_values, abstract_texts_path, min_length=100):\n",
    "    \"\"\"\n",
    "    Get the top m activating abstracts and m samples of abstracts with zero activation for a given feature,\n",
    "    ensuring all returned abstracts are greater than min_length characters.\n",
    "    \n",
    "    :param feature_index: Index of the feature to analyze\n",
    "    :param m: Number of top activating abstracts and zero activation samples to return\n",
    "    :param topk_indices: numpy array of shape (num_abstracts, k) containing the indices of top-k features\n",
    "    :param topk_values: numpy array of shape (num_abstracts, k) containing the values of top-k features\n",
    "    :param abstract_texts_path: path to the JSON file containing abstract texts and doc_ids\n",
    "    :param min_length: minimum length of abstracts to consider (default 100)\n",
    "    :return: tuple of (top_m_abstracts, zero_activation_samples)\n",
    "    \"\"\"\n",
    "    # Load abstract texts and doc_ids\n",
    "    with open(abstract_texts_path, 'r') as f:\n",
    "        abstract_data = json.load(f)\n",
    "    \n",
    "    doc_ids = abstract_data['doc_ids']\n",
    "    abstracts = abstract_data['abstracts']\n",
    "    \n",
    "    # Find abstracts where the feature is activated\n",
    "    feature_mask = topk_indices == feature_index\n",
    "    activated_indices = np.where(feature_mask.any(axis=1))[0]\n",
    "    \n",
    "    # Get the activation values for the feature\n",
    "    activation_values = np.where(feature_mask, topk_values, 0).max(axis=1)\n",
    "    \n",
    "    # Sort activated indices by activation value\n",
    "    sorted_activated_indices = activated_indices[np.argsort(-activation_values[activated_indices])]\n",
    "    \n",
    "    # Get top m activating abstracts with length > min_length\n",
    "    top_m_abstracts = []\n",
    "    for i in sorted_activated_indices:\n",
    "        if len(abstracts[i]) > min_length:\n",
    "            top_m_abstracts.append((doc_ids[i], abstracts[i], activation_values[i]))\n",
    "        if len(top_m_abstracts) == m:\n",
    "            break\n",
    "    \n",
    "    # Find abstracts where the feature has zero activation\n",
    "    zero_activation_indices = np.where(~feature_mask.any(axis=1))[0]\n",
    "    \n",
    "    # Randomly sample m abstracts with zero activation and length > min_length\n",
    "    zero_activation_samples = []\n",
    "    random.shuffle(list(zero_activation_indices))\n",
    "    for i in zero_activation_indices:\n",
    "        if len(abstracts[i]) > min_length:\n",
    "            zero_activation_samples.append((doc_ids[i], abstracts[i], 0))\n",
    "        if len(zero_activation_samples) == m:\n",
    "            break\n",
    "    \n",
    "    return top_m_abstracts, zero_activation_samples\n",
    "\n",
    "# Example usage:\n",
    "feature_index = 1001\n",
    "m = 10\n",
    "topk_indices = np.load(\"sae_data/topk_indices.npy\")\n",
    "topk_values = np.load(\"sae_data/topk_values.npy\")\n",
    "abstract_texts_path = \"../data/vector_store/abstract_texts.json\"\n",
    "\n",
    "top_abstracts, zero_abstracts = get_feature_activations(feature_index, m, topk_indices, topk_values, abstract_texts_path)\n",
    "\n",
    "print(\"Top activating abstracts:\")\n",
    "for doc_id, abstract, activation in top_abstracts:\n",
    "    #print(f\"Doc ID: {doc_id}\")\n",
    "    print(f\"Activation: {activation}\")\n",
    "    print(f\"{abstract}\")  # Print first 100 characters\n",
    "    print()\n",
    "\n",
    "print(\"\\n\\n\\n\\nZero activation samples:\")\n",
    "for doc_id, abstract, _ in zero_abstracts:\n",
    "    #print(f\"Doc ID: {doc_id}\")\n",
    "    print(f\"{abstract}\")  # Print first 100 characters\n",
    "    print()"
   ]
  },
  {
   "cell_type": "markdown",
   "metadata": {},
   "source": [
    "# Autointerp"
   ]
  },
  {
   "cell_type": "code",
   "execution_count": 105,
   "metadata": {},
   "outputs": [],
   "source": [
    "autointerp_prompt = \"\"\" \n",
    "You are a meticulous AI and astronomy researcher conducting an important investigation into a certain neuron in a language model trained on astrophysics papers. Your task is to figure out what sort of behaviour this neuron is responsible for -- namely, on what general concepts, features, topics does this neuron fire? Here's how you'll complete the task:\n",
    "\n",
    "INPUT_DESCRIPTION: \n",
    "\n",
    "You will be given two inputs: 1) Max Activating Examples and 2) Zero Activating Examples.\n",
    "\n",
    "- MAX_ACTIVATING_EXAMPLES_DESCRIPTION\n",
    "You will be given several examples of text that activate the neuron, along with a number being how much it was activated (these number's absolute scale is meaningless, but the relative scale may be important). This means there is some feature, topic or concept in this text that 'excites' this neuron.\n",
    "\n",
    "You will also be given several examples of text that doesn't activate the neuron. This means the feature, topic or concept is not present in these texts.\n",
    "\n",
    "OUTPUT_DESCRIPTION:\n",
    "Given the inputs provided, complete the following tasks.\n",
    "\n",
    "Step 1: Based on the MAX_ACTIVATING_EXAMPLES provided, write down potential topics, concepts, and features that they share in common. These will need to be specific - remember, all of the text comes from astronomy, so these need to be highly specific astronomy concepts. You may need to look at different levels of granularity (i.e. subsets of a more general topic). List as many as you can think of. Give higher weight to concepts more present/prominent in examples with higher activations.\n",
    "Step 2: Based on the zero activating examples, rule out any of the topics/concepts/features listed above that are in the zero-activating examples. Systematically go through your list above.\n",
    "Step 3: Based on the above two steps, perform a thorough analysis of which feature, concept or topic, at what level of granularity, is likely to activate this neuron. Use Occam's razor, as long as it fits the provided evidence. Be highly rational and analytical here.\n",
    "Step 4: Based on step 4, summarise this concept in 1-8 words, in the form \"FINAL: <explanation>\". \n",
    "\n",
    "Here are the max-activating examples:\n",
    "\n",
    "{max_activating_examples}\n",
    "\n",
    "Here are the zero-activating examples:\n",
    "\n",
    "{zero_activating_examples}\n",
    "\n",
    "Work through the steps thoroughly and analytically to interpret our neuron.\n",
    "\"\"\""
   ]
  },
  {
   "cell_type": "code",
   "execution_count": 106,
   "metadata": {},
   "outputs": [],
   "source": [
    "m = 10\n",
    "feature_index = 1000\n",
    "top_abstracts, zero_abstracts = get_feature_activations(feature_index, m, topk_indices, topk_values, abstract_texts_path)\n",
    "\n",
    "# Join the abstracts into a single string\n",
    "max_activating_examples = \"\\n\\n------------------------\\n\".join([f\"Activation:{activation:.3f}\\n{abstract}\" for _, abstract, activation in top_abstracts])\n",
    "zero_abstracts = \"\\n\\n------------------------\\n\".join([abstract for _, abstract, _ in zero_abstracts])\n",
    "\n",
    "# Create the prompt\n",
    "prompt = autointerp_prompt.format(max_activating_examples=max_activating_examples, zero_activating_examples=zero_abstracts)\n",
    "\n"
   ]
  },
  {
   "cell_type": "code",
   "execution_count": 107,
   "metadata": {},
   "outputs": [],
   "source": [
    "from openai import OpenAI\n",
    "import yaml\n",
    "\n",
    "config = yaml.safe_load(open(\"../config.yaml\"))\n",
    "api_key = config['openai_api_key']\n",
    "\n",
    "client = OpenAI(\n",
    "  api_key=api_key,\n",
    ")\n",
    "\n",
    "response = client.chat.completions.create(\n",
    "    model=\"gpt-4o\",\n",
    "    messages=[\n",
    "        {\"role\": \"user\", \"content\": prompt}\n",
    "    ]\n",
    ")\n"
   ]
  },
  {
   "cell_type": "code",
   "execution_count": 108,
   "metadata": {},
   "outputs": [
    {
     "name": "stdout",
     "output_type": "stream",
     "text": [
      "Let's begin the process methodically, step-by-step. \n",
      "\n",
      "### Step 1: Identifying Potential Topics, Concepts, and Features\n",
      "\n",
      "We'll carefully analyze each of the max-activating examples to extract common themes, topics, concepts, and features.\n",
      "\n",
      "#### Activation: 0.069\n",
      "The example involves discussions on:\n",
      "- **Inverse seesaw mechanism for generating neutrino masses**.\n",
      "- **Neutrino masses and supergravity**.\n",
      "- **Sneutrino as the lightest superparticle**.\n",
      "- **Relic sneutrino dark matter abundance**.\n",
      "- **Direct detection rates in nuclear recoil experiments**.\n",
      "\n",
      "#### Activation: 0.059\n",
      "Key points include:\n",
      "- **New Majoron model within the framework of the seesaw mechanism**.\n",
      "- **Electroweak symmetry breaking and lepton-number violation**.\n",
      "- **Constraints from stellar cooling and cosmological/astrophysical constraints**.\n",
      "- **τ neutrino as heavy as 10 MeV**.\n",
      "\n",
      "#### Activation: 0.058\n",
      "This involves:\n",
      "- **Seesaw mechanism with Majorana neutrinos**.\n",
      "- **Hierarchical Dirac-type neutrino masses**.\n",
      "- **Baryogenesis via leptogenesis**.\n",
      "- **Light neutrino mass matrix and lepton asymmetry**.\n",
      "\n",
      "#### Activation: 0.058\n",
      "Topics mentioned:\n",
      "- **Proton-neutron quasiparticle random phase approximation**.\n",
      "- **Spherical nonlinear point-coupling relativistic Hartree-Bogoliubov theory**.\n",
      "- **Beta decay half-lives of neutron-deficient isotopes**.\n",
      "- **Isoscalar proton-neutron pairing**.\n",
      "\n",
      "#### Activation: 0.057\n",
      "Included themes:\n",
      "- **Minimal Type-I Seesaw mechanism**.\n",
      "- **Sterile neutrino as dark matter**.\n",
      "- **Constraints from relic abundance, indirect detection, and structure formation**.\n",
      "\n",
      "#### Activation: 0.057\n",
      "Focus on:\n",
      "- **Model for neutrino masses and dark matter**.\n",
      "- **Dark matter candidate: right-handed neutrino**.\n",
      "- **Hierarchy of neutrino masses**.\n",
      "- **Compatibility with experimental results**.\n",
      "\n",
      "#### Activation: 0.056\n",
      "Themes covered:\n",
      "- **Quantum-coherent variant of Fermi–Dirac distribution**.\n",
      "- **Neutrino oscillations in core-collapse supernovae and neutron-star mergers**.\n",
      "\n",
      "#### Activation: 0.056\n",
      "Mentions:\n",
      "- **Dark matter capture and annihilation within the Sun**.\n",
      "- **Gamma ray signals and Fermi Large Area Telescope data**.\n",
      "- **Dark matter electron scattering cross-section bounds**.\n",
      "\n",
      "#### Activation: 0.056\n",
      "Focus on:\n",
      "- **Superweakly interacting dark matter in minimal walking technicolor**.\n",
      "- **Consistency across accelerator data and cryogenic experiments**.\n",
      "- **Dark matter dynamics in various experiments**.\n",
      "\n",
      "#### Activation: 0.056\n",
      "Involves:\n",
      "- **Nuclear pairing in atomic nuclei and neutron-star crusts**.\n",
      "- **Energy-density functional theory with Skyrme functionals**.\n",
      "\n",
      "### Step 2: Examination of Zero Activating Examples\n",
      "\n",
      "Let's now identify zero-activating examples and see if they contain any of the key concepts from Step 1:\n",
      "\n",
      "- **Magnetic fields and sunspots**: No mentions of neutrinos, dark matter, seesaw mechanism, Majoron models, or proton-neutron pairing.\n",
      "- **Inflationary cosmology and Higgs-Axion**: No mentions of neutrinos, dark matter, seesaw mechanism, Majoron models, or proton-neutron pairing.\n",
      "- **Brown dwarfs and substellar objects**: No mentions of neutrinos, dark matter, seesaw mechanism, Majoron models, or proton-neutron pairing.\n",
      "- **Optical fibers and radial velocity**: No mentions of neutrinos, dark matter, seesaw mechanism, Majoron models, or proton-neutron pairing.\n",
      "- **Star clusters and main-sequence turn-offs**: No mentions of neutrinos, dark matter, seesaw mechanism, Majoron models, or proton-neutron pairing.\n",
      "- **Exoplanets and radial velocity measurements**: No mentions of neutrinos, dark matter, seesaw mechanism, Majoron models, or proton-neutron pairing.\n",
      "- **Galactic center and wolf-rayet stars**: No mentions of neutrinos, dark matter, seesaw mechanism, Majoron models, or proton-neutron pairing.\n",
      "- **Protostellar chemistry and ALMA**: No mentions of neutrinos, dark matter, seesaw mechanism, Majoron models, or proton-neutron pairing.\n",
      "- **Star formation and molecular clouds**: No mentions of neutrinos, dark matter, seesaw mechanism, Majoron models, or proton-neutron pairing.\n",
      "\n",
      "### Step 3: Analysis and Conclusion\n",
      "\n",
      "From Steps 1 and 2:\n",
      "\n",
      "- **Inverse seesaw mechanism**\n",
      "- **Neutrino masses and neutrino models (Type-I Seesaw, Majoron models)**\n",
      "- **Proton-neutron pairing and beta decay**\n",
      "- **Sterile neutrinos as dark matter**\n",
      "- **Cosmological constraints and dark matter models**\n",
      "- **Neutrino oscillations in astrophysical phenomena**\n",
      "\n",
      "We see that the common thread among the max-activating examples involves various **neutrino-related physics** topics including **neutrino masses, seesaw mechanisms, Majoron models, and dark matter candidates involving neutrinos**. These concepts are specific enough to not appear in the zero examples, which cover diverse astronomy themes but steer clear of detailed neutrino physics.\n",
      "\n",
      "### Step 4: Summarize the Concept\n",
      "\n",
      "Based on our analysis:\n",
      "FINAL: **Neutrino physics and dark matter models**\n"
     ]
    }
   ],
   "source": [
    "print(response.choices[0].message.content)"
   ]
  },
  {
   "cell_type": "code",
   "execution_count": 109,
   "metadata": {},
   "outputs": [
    {
     "name": "stdout",
     "output_type": "stream",
     "text": [
      "Interpretation: **Neutrino physics and dark matter models**\n"
     ]
    }
   ],
   "source": [
    "interpretation = response.choices[0].message.content.split(\"FINAL:\")[1].strip()\n",
    "print(f\"Interpretation: {interpretation}\")"
   ]
  },
  {
   "cell_type": "code",
   "execution_count": 121,
   "metadata": {},
   "outputs": [],
   "source": [
    "# Samples to predict\n",
    "top_abstracts, zero_abstracts = get_feature_activations(feature_index, m*2, topk_indices, topk_values, abstract_texts_path)\n",
    "\n",
    "# Keep the second k/2 \n",
    "top_abstracts = top_abstracts[m//2:]\n",
    "top_abstracts = [abstract for _, abstract, _ in top_abstracts]\n",
    "\n",
    "zero_abstracts = zero_abstracts[m//2:]"
   ]
  },
  {
   "cell_type": "code",
   "execution_count": 127,
   "metadata": {},
   "outputs": [],
   "source": [
    "prediction_base_prompt = \"\"\"\n",
    "You are an AI expert that is predicting which abstracts will activate a certain neuron in a language model trained on astrophysics papers. \n",
    "Your task is to predict which of the following abstracts will activate the neuron the most. Here's how you'll complete the task:\n",
    "\n",
    "INPUT_DESCRIPTION:\n",
    "You will be given the description of the type of paper abstracts on which the neuron activates. This description will be short.\n",
    "\n",
    "You will then be given an abstract. Based on the concept of the abstract, you will predict whether the neuron will activate or not.\n",
    "\n",
    "OUTPUT_DESCRIPTION:\n",
    "Given the inputs provided, complete the following tasks.\n",
    "\n",
    "Step 1: Based on the description of the type of paper abstracts on which the neuron activates, reason step by step about whether the neuron will activate on this abstract or not. Be highly rational and analytical here. The abstract may not be clear cut - it may contain topics/concepts close to the neuron description, but not exact. In this case, reason thoroughly and use your best judgement.\n",
    "Step 2: Based on the above step, predict whether the neuron will activate on this abstract or not. If you predict it will activate, give a confidence score from 0 to 1 (i.e. 1 if you're certain it will activate because it contains topics/concepts that match the description exactly, 0 if you're highly uncertain). If you predict it will not activate, give a confidence score from -1 to 0.\n",
    "Step 3: Provide the final prediction in the form \"PREDICTION: <number>\". Do NOT return anything after this.\n",
    "\n",
    "Here is the description/interpretation of the type of paper abstracts on which the neuron activates:\n",
    "{description}\n",
    "\n",
    "Here is the abstract to predict:\n",
    "{abstract}\n",
    "\n",
    "Work through the steps thoroughly and analytically to predict whether the neuron will activate on this abstract.\n",
    "\"\"\"\n",
    "\n",
    "# Choose a random abstract to predict\n",
    "#abstract_to_predict = random.choice(top_abstracts)\n",
    "\n",
    "# # Create the prediction prompt\n",
    "# prediction_prompt = prediction_base_prompt.format(description=interpretation, abstract=abstract_to_predict)\n",
    "\n",
    "# prediction_response = client.chat.completions.create(\n",
    "#     model=\"gpt-4o\",\n",
    "#     messages=[\n",
    "#         {\"role\": \"user\", \"content\": prediction_prompt}\n",
    "#     ]\n",
    "# )"
   ]
  },
  {
   "cell_type": "code",
   "execution_count": 119,
   "metadata": {},
   "outputs": [
    {
     "name": "stdout",
     "output_type": "stream",
     "text": [
      "\n",
      "You are an AI expert that is predicting which abstracts will activate a certain neuron in a language model trained on astrophysics papers. \n",
      "Your task is to predict which of the following abstracts will activate the neuron the most. Here's how you'll complete the task:\n",
      "\n",
      "INPUT_DESCRIPTION:\n",
      "You will be given the description of the type of paper abstracts on which the neuron activates. This description will be short.\n",
      "\n",
      "You will then be given an abstract. Based on the concept of the abstract, you will predict whether the neuron will activate or not.\n",
      "\n",
      "OUTPUT_DESCRIPTION:\n",
      "Given the inputs provided, complete the following tasks.\n",
      "\n",
      "Step 1: Based on the description of the type of paper abstracts on which the neuron activates, reason step by step about whether the neuron will activate on this abstract or not. Be highly rational and analytical here. The abstract may not be clear cut - it may contain topics/concepts close to the neuron description, but not exact. In this case, reason thoroughly and use your best judgement.\n",
      "Step 2: Based on the above step, predict whether the neuron will activate on this abstract or not. If you predict it will activate, give a confidence score from 0 to 1 (i.e. 1 if you're certain it will activate because it contains topics/concepts that match the description exactly, 0 if you're highly uncertain). If you predict it will not activate, give a confidence score from -1 to 0.\n",
      "Step 3: Provide the final prediction in the form \"PREDICTION: <number>\".\n",
      "\n",
      "Here is the description/interpretation of the type of paper abstracts on which the neuron activates:\n",
      "**Neutrino physics and dark matter models**\n",
      "\n",
      "Here is the abstract to predict:\n",
      "We study the cosmological effects of two-body dark matter decays where the products of the decay include a massless and a massive particle. We show that if the massive daughter particle is slightly warm it is  possible to relieve the tension between  distance ladder measurements of the present day Hubble parameter with measurements from the cosmic microwave background. \n",
      "\n",
      "Work through the steps thoroughly and analytically to predict whether the neuron will activate on this abstract.\n",
      "\n"
     ]
    }
   ],
   "source": [
    "print(prediction_prompt)"
   ]
  },
  {
   "cell_type": "code",
   "execution_count": 120,
   "metadata": {},
   "outputs": [
    {
     "name": "stdout",
     "output_type": "stream",
     "text": [
      "### Step 1:\n",
      "- **Neuron Description**: The neuron activates on paper abstracts related to \"Neutrino physics and dark matter models\".\n",
      "- **Abstract Review**: \n",
      "  - The abstract discusses two-body dark matter decays.\n",
      "  - The products of the decay include a massless and a massive particle.\n",
      "  - The focus is on cosmological effects, specifically how the slightly warm nature of the massive daughter particle can alleviate discrepancies between different measurements of the Hubble parameter.\n",
      "\n",
      "**Analysis**:\n",
      "  - **Dark Matter Models**: The abstract directly involves dark matter decay, which falls under the category of dark matter models.\n",
      "  - **Neutrino Physics**: The abstract mentions massless and massive particles as decay products. Neutrinos are often massless or nearly massless particles, and while the abstract does not explicitly mention neutrinos, the context of massless particles in dark matter decays could imply relevance to neutrino physics.\n",
      "\n",
      "### Step 2:\n",
      "- Based on the abstract's focus on dark matter and the involvement of massless and massive particle decays, it aligns closely with the neuron’s activation criteria. The implications for cosmology and Hubble parameter are secondary but relevant connections to the main theme.\n",
      "\n",
      "**Confidence Score**: The content fits well within the description, although not explicitly about neutrinos, it sufficiently aligns with dark matter models.\n",
      "- **Confidence**: 0.8\n",
      "\n",
      "### Step 3:\n",
      "**Final Prediction**: The neuron is likely to activate on this abstract.\n",
      "\n",
      "**PREDICTION**: 0.8\n"
     ]
    }
   ],
   "source": [
    "print(prediction_response.choices[0].message.content)"
   ]
  },
  {
   "cell_type": "code",
   "execution_count": 130,
   "metadata": {},
   "outputs": [
    {
     "name": "stdout",
     "output_type": "stream",
     "text": [
      "10 top abstracts\n",
      "10 zero abstracts\n"
     ]
    },
    {
     "name": "stderr",
     "output_type": "stream",
     "text": [
      "  5%|▌         | 1/20 [00:05<01:40,  5.27s/it]"
     ]
    },
    {
     "name": "stdout",
     "output_type": "stream",
     "text": [
      "Prediction: 0.9\n"
     ]
    },
    {
     "name": "stderr",
     "output_type": "stream",
     "text": [
      " 10%|█         | 2/20 [00:10<01:31,  5.10s/it]"
     ]
    },
    {
     "name": "stdout",
     "output_type": "stream",
     "text": [
      "Prediction: 0.9\n"
     ]
    },
    {
     "name": "stderr",
     "output_type": "stream",
     "text": [
      " 15%|█▌        | 3/20 [00:13<01:14,  4.41s/it]"
     ]
    },
    {
     "name": "stdout",
     "output_type": "stream",
     "text": [
      "Prediction: 0.7\n"
     ]
    },
    {
     "name": "stderr",
     "output_type": "stream",
     "text": [
      " 20%|██        | 4/20 [00:38<03:16, 12.25s/it]"
     ]
    },
    {
     "name": "stdout",
     "output_type": "stream",
     "text": [
      "Prediction: 0.9\n"
     ]
    },
    {
     "name": "stderr",
     "output_type": "stream",
     "text": [
      " 25%|██▌       | 5/20 [01:04<04:21, 17.44s/it]"
     ]
    },
    {
     "name": "stdout",
     "output_type": "stream",
     "text": [
      "Prediction: 0.9\n"
     ]
    },
    {
     "name": "stderr",
     "output_type": "stream",
     "text": [
      " 30%|███       | 6/20 [01:30<04:42, 20.19s/it]"
     ]
    },
    {
     "name": "stdout",
     "output_type": "stream",
     "text": [
      "Prediction: 1\n"
     ]
    },
    {
     "name": "stderr",
     "output_type": "stream",
     "text": [
      " 35%|███▌      | 7/20 [01:37<03:25, 15.84s/it]"
     ]
    },
    {
     "name": "stdout",
     "output_type": "stream",
     "text": [
      "Prediction: 0.9\n"
     ]
    },
    {
     "name": "stderr",
     "output_type": "stream",
     "text": [
      " 40%|████      | 8/20 [02:02<03:45, 18.77s/it]"
     ]
    },
    {
     "name": "stdout",
     "output_type": "stream",
     "text": [
      "Prediction: 0.7\n"
     ]
    },
    {
     "name": "stderr",
     "output_type": "stream",
     "text": [
      " 45%|████▌     | 9/20 [02:26<03:45, 20.50s/it]"
     ]
    },
    {
     "name": "stdout",
     "output_type": "stream",
     "text": [
      "Prediction: 1\n"
     ]
    },
    {
     "name": "stderr",
     "output_type": "stream",
     "text": [
      " 50%|█████     | 10/20 [02:50<03:37, 21.73s/it]"
     ]
    },
    {
     "name": "stdout",
     "output_type": "stream",
     "text": [
      "Prediction: 1\n"
     ]
    },
    {
     "name": "stderr",
     "output_type": "stream",
     "text": [
      " 55%|█████▌    | 11/20 [02:59<02:39, 17.71s/it]"
     ]
    },
    {
     "name": "stdout",
     "output_type": "stream",
     "text": [
      "Prediction: -1\n"
     ]
    },
    {
     "name": "stderr",
     "output_type": "stream",
     "text": [
      " 60%|██████    | 12/20 [03:26<02:44, 20.52s/it]"
     ]
    },
    {
     "name": "stdout",
     "output_type": "stream",
     "text": [
      "Prediction: -0.8\n"
     ]
    },
    {
     "name": "stderr",
     "output_type": "stream",
     "text": [
      " 65%|██████▌   | 13/20 [03:51<02:33, 21.92s/it]"
     ]
    },
    {
     "name": "stdout",
     "output_type": "stream",
     "text": [
      "Prediction: -1\n"
     ]
    },
    {
     "name": "stderr",
     "output_type": "stream",
     "text": [
      " 70%|███████   | 14/20 [03:58<01:43, 17.22s/it]"
     ]
    },
    {
     "name": "stdout",
     "output_type": "stream",
     "text": [
      "Prediction: -1\n"
     ]
    },
    {
     "name": "stderr",
     "output_type": "stream",
     "text": [
      " 75%|███████▌  | 15/20 [04:26<01:43, 20.67s/it]"
     ]
    },
    {
     "name": "stdout",
     "output_type": "stream",
     "text": [
      "Prediction: -0.8\n"
     ]
    },
    {
     "name": "stderr",
     "output_type": "stream",
     "text": [
      " 80%|████████  | 16/20 [04:51<01:27, 21.85s/it]"
     ]
    },
    {
     "name": "stdout",
     "output_type": "stream",
     "text": [
      "Prediction: -0.9\n"
     ]
    },
    {
     "name": "stderr",
     "output_type": "stream",
     "text": [
      " 85%|████████▌ | 17/20 [04:55<00:49, 16.50s/it]"
     ]
    },
    {
     "name": "stdout",
     "output_type": "stream",
     "text": [
      "Prediction: -0.8\n"
     ]
    },
    {
     "name": "stderr",
     "output_type": "stream",
     "text": [
      " 90%|█████████ | 18/20 [05:21<00:38, 19.40s/it]"
     ]
    },
    {
     "name": "stdout",
     "output_type": "stream",
     "text": [
      "Prediction: -0.9\n"
     ]
    },
    {
     "name": "stderr",
     "output_type": "stream",
     "text": [
      " 95%|█████████▌| 19/20 [05:47<00:21, 21.27s/it]"
     ]
    },
    {
     "name": "stdout",
     "output_type": "stream",
     "text": [
      "Prediction: -1\n"
     ]
    },
    {
     "name": "stderr",
     "output_type": "stream",
     "text": [
      "100%|██████████| 20/20 [06:13<00:00, 18.67s/it]"
     ]
    },
    {
     "name": "stdout",
     "output_type": "stream",
     "text": [
      "Prediction: -1\n"
     ]
    },
    {
     "name": "stderr",
     "output_type": "stream",
     "text": [
      "\n"
     ]
    }
   ],
   "source": [
    "from tqdm import tqdm\n",
    "\n",
    "# Samples to predict\n",
    "m = 10\n",
    "top_abstracts, zero_abstracts = get_feature_activations(feature_index, m*2, topk_indices, topk_values, abstract_texts_path)\n",
    "\n",
    "# Keep the second k/2 \n",
    "top_abstracts = [abstract for _, abstract, _ in top_abstracts]\n",
    "top_abstracts = top_abstracts[m:]\n",
    "print(f'{len(top_abstracts)} top abstracts')\n",
    "\n",
    "zero_abstracts = zero_abstracts[m:]\n",
    "print(f'{len(zero_abstracts)} zero abstracts')\n",
    "\n",
    "# Go through all top abstracts and all zero abstracts and predict\n",
    "predictions = []\n",
    "ground_truth = [1] * len(top_abstracts) + [0] * len(zero_abstracts)\n",
    "\n",
    "for abstract in tqdm(top_abstracts + zero_abstracts):\n",
    "    prediction_prompt = prediction_base_prompt.format(description=interpretation, abstract=abstract)\n",
    "\n",
    "    prediction_response = client.chat.completions.create(\n",
    "        model=\"gpt-4o\",\n",
    "        messages=[\n",
    "            {\"role\": \"user\", \"content\": prediction_prompt}\n",
    "        ]\n",
    "    )\n",
    "\n",
    "    prediction = prediction_response.choices[0].message.content.split(\"PREDICTION:\")[1].strip()\n",
    "    # Remove '*' from the prediction\n",
    "    prediction = prediction.replace(\"*\", \"\")\n",
    "    print(f\"Prediction: {prediction}\")\n",
    "    predictions.append(float(prediction))"
   ]
  },
  {
   "cell_type": "code",
   "execution_count": 136,
   "metadata": {},
   "outputs": [
    {
     "name": "stdout",
     "output_type": "stream",
     "text": [
      "Pearson correlation: 0.9944004281595773\n",
      "F1 score: 1.0\n"
     ]
    }
   ],
   "source": [
    "# Calculate metrics - Pearson correlation, F1\n",
    "\n",
    "# Pearson correlation\n",
    "from scipy.stats import pearsonr\n",
    "\n",
    "correlation, _ = pearsonr(ground_truth, predictions)\n",
    "\n",
    "print(f\"Pearson correlation: {correlation}\")\n",
    "\n",
    "# F1 score\n",
    "from sklearn.metrics import f1_score\n",
    "\n",
    "# Convert predictions to binary\n",
    "binary_predictions = [1 if p > 0 else 0 for p in predictions]\n",
    "\n",
    "f1 = f1_score(ground_truth, binary_predictions)\n",
    "\n",
    "print(f\"F1 score: {f1}\")"
   ]
  },
  {
   "cell_type": "markdown",
   "metadata": {},
   "source": [
    "## Refactor autointerp"
   ]
  },
  {
   "cell_type": "code",
   "execution_count": null,
   "metadata": {},
   "outputs": [],
   "source": [
    "from openai import OpenAI\n",
    "import yaml\n",
    "from tqdm import tqdm\n",
    "from scipy.stats import pearsonr\n",
    "from sklearn.metrics import f1_score\n",
    "\n",
    "# Load them\n",
    "topk_indices = np.load(\"sae_data/topk_indices.npy\")\n",
    "topk_values = np.load(\"sae_data/topk_values.npy\")\n",
    "\n",
    "abstract_texts_path = \"../data/vector_store/abstract_texts.json\"\n",
    "\n",
    "autointerp_prompt = \"\"\" \n",
    "You are a meticulous AI and astronomy researcher conducting an important investigation into a certain neuron in a language model trained on astrophysics papers. Your task is to figure out what sort of behaviour this neuron is responsible for -- namely, on what general concepts, features, topics does this neuron fire? Here's how you'll complete the task:\n",
    "\n",
    "INPUT_DESCRIPTION: \n",
    "\n",
    "You will be given two inputs: 1) Max Activating Examples and 2) Zero Activating Examples.\n",
    "\n",
    "- MAX_ACTIVATING_EXAMPLES_DESCRIPTION\n",
    "You will be given several examples of text that activate the neuron, along with a number being how much it was activated (these number's absolute scale is meaningless, but the relative scale may be important). This means there is some feature, topic or concept in this text that 'excites' this neuron.\n",
    "\n",
    "You will also be given several examples of text that doesn't activate the neuron. This means the feature, topic or concept is not present in these texts.\n",
    "\n",
    "OUTPUT_DESCRIPTION:\n",
    "Given the inputs provided, complete the following tasks.\n",
    "\n",
    "Step 1: Based on the MAX_ACTIVATING_EXAMPLES provided, write down potential topics, concepts, and features that they share in common. These will need to be specific - remember, all of the text comes from astronomy, so these need to be highly specific astronomy concepts. You may need to look at different levels of granularity (i.e. subsets of a more general topic). List as many as you can think of. Give higher weight to concepts more present/prominent in examples with higher activations.\n",
    "Step 2: Based on the zero activating examples, rule out any of the topics/concepts/features listed above that are in the zero-activating examples. Systematically go through your list above.\n",
    "Step 3: Based on the above two steps, perform a thorough analysis of which feature, concept or topic, at what level of granularity, is likely to activate this neuron. Use Occam's razor, as long as it fits the provided evidence. Be highly rational and analytical here.\n",
    "Step 4: Based on step 4, summarise this concept in 1-8 words, in the form \"FINAL: <explanation>\". \n",
    "\n",
    "Here are the max-activating examples:\n",
    "\n",
    "{max_activating_examples}\n",
    "\n",
    "Here are the zero-activating examples:\n",
    "\n",
    "{zero_activating_examples}\n",
    "\n",
    "Work through the steps thoroughly and analytically to interpret our neuron.\n",
    "\"\"\"\n",
    "\n",
    "config = yaml.safe_load(open(\"../config.yaml\"))\n",
    "api_key = config['openai_api_key']\n",
    "\n",
    "client = OpenAI(\n",
    "  api_key=api_key,\n",
    ")\n",
    "\n",
    "m = 10\n",
    "feature_index = 1000\n",
    "top_abstracts, zero_abstracts = get_feature_activations(feature_index, m, topk_indices, topk_values, abstract_texts_path)\n",
    "\n",
    "# Join the abstracts into a single string\n",
    "max_activating_examples = \"\\n\\n------------------------\\n\".join([f\"Activation:{activation:.3f}\\n{abstract}\" for _, abstract, activation in top_abstracts])\n",
    "zero_abstracts = \"\\n\\n------------------------\\n\".join([abstract for _, abstract, _ in zero_abstracts])\n",
    "\n",
    "# Create the prompt\n",
    "prompt = autointerp_prompt.format(max_activating_examples=max_activating_examples, zero_activating_examples=zero_abstracts)\n",
    "\n",
    "response = client.chat.completions.create(\n",
    "    model=\"gpt-4o\",\n",
    "    messages=[\n",
    "        {\"role\": \"user\", \"content\": prompt}\n",
    "    ]\n",
    ")\n",
    "\n",
    "interpretation = response.choices[0].message.content.split(\"FINAL:\")[1].strip()\n",
    "print(f\"Interpretation: {interpretation}\")\n",
    "\n",
    "# Samples to predict\n",
    "top_abstracts, zero_abstracts = get_feature_activations(feature_index, m*2, topk_indices, topk_values, abstract_texts_path)\n",
    "\n",
    "# Keep the second k/2 \n",
    "top_abstracts = top_abstracts[m//2:]\n",
    "top_abstracts = [abstract for _, abstract, _ in top_abstracts]\n",
    "\n",
    "zero_abstracts = zero_abstracts[m//2:]\n",
    "\n",
    "prediction_base_prompt = \"\"\"\n",
    "You are an AI expert that is predicting which abstracts will activate a certain neuron in a language model trained on astrophysics papers. \n",
    "Your task is to predict which of the following abstracts will activate the neuron the most. Here's how you'll complete the task:\n",
    "\n",
    "INPUT_DESCRIPTION:\n",
    "You will be given the description of the type of paper abstracts on which the neuron activates. This description will be short.\n",
    "\n",
    "You will then be given an abstract. Based on the concept of the abstract, you will predict whether the neuron will activate or not.\n",
    "\n",
    "OUTPUT_DESCRIPTION:\n",
    "Given the inputs provided, complete the following tasks.\n",
    "\n",
    "Step 1: Based on the description of the type of paper abstracts on which the neuron activates, reason step by step about whether the neuron will activate on this abstract or not. Be highly rational and analytical here. The abstract may not be clear cut - it may contain topics/concepts close to the neuron description, but not exact. In this case, reason thoroughly and use your best judgement.\n",
    "Step 2: Based on the above step, predict whether the neuron will activate on this abstract or not. If you predict it will activate, give a confidence score from 0 to 1 (i.e. 1 if you're certain it will activate because it contains topics/concepts that match the description exactly, 0 if you're highly uncertain). If you predict it will not activate, give a confidence score from -1 to 0.\n",
    "Step 3: Provide the final prediction in the form \"PREDICTION: <number>\". Do NOT return anything after this.\n",
    "\n",
    "Here is the description/interpretation of the type of paper abstracts on which the neuron activates:\n",
    "{description}\n",
    "\n",
    "Here is the abstract to predict:\n",
    "{abstract}\n",
    "\n",
    "Work through the steps thoroughly and analytically to predict whether the neuron will activate on this abstract.\n",
    "\"\"\"\n",
    "\n",
    "# Samples to predict\n",
    "num_to_predict = 5\n",
    "top_abstracts, zero_abstracts = get_feature_activations(feature_index, m*2, topk_indices, topk_values, abstract_texts_path)\n",
    "\n",
    "# Keep the second k/2 \n",
    "top_abstracts = [abstract for _, abstract, _ in top_abstracts]\n",
    "top_abstracts = top_abstracts[-num_to_predict:]\n",
    "print(f'{len(top_abstracts)} top abstracts')\n",
    "\n",
    "zero_abstracts = zero_abstracts[-num_to_predict:]\n",
    "print(f'{len(zero_abstracts)} zero abstracts')\n",
    "\n",
    "# Go through all top abstracts and all zero abstracts and predict\n",
    "predictions = []\n",
    "ground_truth = [1] * len(top_abstracts) + [0] * len(zero_abstracts)\n",
    "\n",
    "for abstract in tqdm(top_abstracts + zero_abstracts):\n",
    "    prediction_prompt = prediction_base_prompt.format(description=interpretation, abstract=abstract)\n",
    "\n",
    "    prediction_response = client.chat.completions.create(\n",
    "        model=\"gpt-4o\",\n",
    "        messages=[\n",
    "            {\"role\": \"user\", \"content\": prediction_prompt}\n",
    "        ]\n",
    "    )\n",
    "\n",
    "    prediction = prediction_response.choices[0].message.content.split(\"PREDICTION:\")[1].strip()\n",
    "    # Remove '*' from the prediction\n",
    "    prediction = prediction.replace(\"*\", \"\")\n",
    "    print(f\"Prediction: {prediction}\")\n",
    "    predictions.append(float(prediction))\n",
    "\n",
    "correlation, _ = pearsonr(ground_truth, predictions)\n",
    "\n",
    "print(f\"Pearson correlation: {correlation}\")\n",
    "\n",
    "# F1 score\n",
    "\n",
    "# Convert predictions to binary\n",
    "binary_predictions = [1 if p > 0 else 0 for p in predictions]\n",
    "\n",
    "f1 = f1_score(ground_truth, binary_predictions)\n",
    "\n",
    "print(f\"F1 score: {f1}\")"
   ]
  },
  {
   "cell_type": "code",
   "execution_count": 140,
   "metadata": {},
   "outputs": [
    {
     "name": "stdout",
     "output_type": "stream",
     "text": [
      "5 top abstracts\n",
      "5 zero abstracts\n"
     ]
    },
    {
     "name": "stderr",
     "output_type": "stream",
     "text": [
      " 10%|█         | 1/10 [00:03<00:31,  3.47s/it]"
     ]
    },
    {
     "name": "stdout",
     "output_type": "stream",
     "text": [
      "ChatCompletion(id='chatcmpl-9jAxe3QUX6lzGD0Q9Ol1nYXFbfBrh', choices=[Choice(finish_reason='stop', index=0, logprobs=None, message=ChatCompletionMessage(content='Step 1: \\nThe abstract mentions the type II seesaw mechanism for neutrino masses, which is related to the \"Neutrino Seesaw Mechanism\" part of the neuron description. Additionally, it discusses dark matter in the form of an unstable gravitino, which is related to the \"Dark Matter\" aspect of the neuron description. The abstract also talks about providing a natural explanation for certain experimental results and explaining neutrino masses without high scale physics, which are topics generally related to astrophysics.\\n\\nStep 2:\\nGiven that the abstract covers topics related to both the Neutrino Seesaw Mechanism and Dark Matter, and also touches on other aspects relevant to astrophysics, it is highly likely that the neuron will activate on this abstract. I am confident in this prediction.\\n\\nPREDICTION: 1.0', role='assistant', function_call=None, tool_calls=None))], created=1720553922, model='gpt-3.5-turbo-0125', object='chat.completion', service_tier=None, system_fingerprint=None, usage=CompletionUsage(completion_tokens=171, prompt_tokens=491, total_tokens=662))\n",
      "Prediction: 1.0\n"
     ]
    },
    {
     "name": "stderr",
     "output_type": "stream",
     "text": [
      " 20%|██        | 2/10 [00:07<00:28,  3.59s/it]"
     ]
    },
    {
     "name": "stdout",
     "output_type": "stream",
     "text": [
      "ChatCompletion(id='chatcmpl-9jAxhhBsx9ETncQEe7Cs1NDDTKl43', choices=[Choice(finish_reason='stop', index=0, logprobs=None, message=ChatCompletionMessage(content='Step 1: The description of the type of paper abstracts on which the neuron activates includes the \"Neutrino Seesaw Mechanism & Dark Matter.\" The abstract mentions light Majorana neutrinos and their right-handed counterparts in the context of a seesaw mechanism, which is relevant to the concept of the Neutrino Seesaw Mechanism. Additionally, the abstract discusses cosmological baryon number asymmetry, which could be related to dark matter indirectly. Overall, the abstract touches upon topics related to neutrinos and cosmology, which align with the neuron\\'s activation description.\\n\\nStep 2: Based on the analysis above, I predict that the neuron will activate on this abstract with a moderate confidence score of 0.6. While the abstract discusses relevant topics related to the Neutrino Seesaw Mechanism and cosmology, it does not explicitly mention dark matter. However, the overall context of the abstract aligns with the neuron\\'s activation description.\\n\\nPREDICTION: 0.6', role='assistant', function_call=None, tool_calls=None))], created=1720553925, model='gpt-3.5-turbo-0125', object='chat.completion', service_tier=None, system_fingerprint=None, usage=CompletionUsage(completion_tokens=205, prompt_tokens=467, total_tokens=672))\n",
      "Prediction: 0.6\n"
     ]
    },
    {
     "name": "stderr",
     "output_type": "stream",
     "text": [
      " 30%|███       | 3/10 [00:09<00:22,  3.25s/it]"
     ]
    },
    {
     "name": "stdout",
     "output_type": "stream",
     "text": [
      "ChatCompletion(id='chatcmpl-9jAxlLtWGmxn4rje57Oq97hDrRsdN', choices=[Choice(finish_reason='stop', index=0, logprobs=None, message=ChatCompletionMessage(content='Step 1:\\nThe description provided mentions the \"Neutrino Seesaw Mechanism & Dark Matter\". The abstract talks about a toy-model of matter bounce with two fermion species and a curvaton mechanism. It also mentions baryogenesis and constraints on dark matter particles.\\n\\nThe mention of fermion species and dark matter particles align with the neuron description. However, the abstract does not explicitly mention the Neutrino Seesaw Mechanism. It does discuss related topics such as curvaton mechanism and baryogenesis, which may activate the neuron to some extent.\\n\\nStep 2:\\nGiven that the abstract contains relevant topics such as fermion species and dark matter particles, but does not explicitly mention the Neutrino Seesaw Mechanism, I predict with medium confidence that the neuron will activate on this abstract. \\nConfidence score: 0.6\\n\\nPREDICTION: 0.6', role='assistant', function_call=None, tool_calls=None))], created=1720553929, model='gpt-3.5-turbo-0125', object='chat.completion', service_tier=None, system_fingerprint=None, usage=CompletionUsage(completion_tokens=185, prompt_tokens=472, total_tokens=657))\n",
      "Prediction: 0.6\n"
     ]
    },
    {
     "name": "stderr",
     "output_type": "stream",
     "text": [
      " 40%|████      | 4/10 [00:12<00:17,  2.98s/it]"
     ]
    },
    {
     "name": "stdout",
     "output_type": "stream",
     "text": [
      "ChatCompletion(id='chatcmpl-9jAxoiZ379xKWWfGXT8ISRFiVTa58', choices=[Choice(finish_reason='stop', index=0, logprobs=None, message=ChatCompletionMessage(content='Step 1: The abstract discusses the concept of sterile neutrinos as a dark matter candidate, which is related to the \"Neutrino Seesaw Mechanism & Dark Matter\" description. It talks about different mechanisms for sterile neutrino dark matter production, including the Dodelson-Widrow mechanism and the freeze-in mechanism. It also reviews motivations for such frameworks and their phenomenological signatures.\\n\\nStep 2: Given that the abstract directly discusses sterile neutrinos as dark matter candidates and various mechanisms for their production, it aligns closely with the description of the neuron that activates on papers related to the \"Neutrino Seesaw Mechanism & Dark Matter.\" Therefore, it is likely that the neuron will activate on this abstract.\\n\\nConfidence Score: 0.9\\n\\nPREDICTION: 1', role='assistant', function_call=None, tool_calls=None))], created=1720553932, model='gpt-3.5-turbo-0125', object='chat.completion', service_tier=None, system_fingerprint=None, usage=CompletionUsage(completion_tokens=164, prompt_tokens=526, total_tokens=690))\n",
      "Prediction: 1\n"
     ]
    },
    {
     "name": "stderr",
     "output_type": "stream",
     "text": [
      " 50%|█████     | 5/10 [00:15<00:14,  2.88s/it]"
     ]
    },
    {
     "name": "stdout",
     "output_type": "stream",
     "text": [
      "ChatCompletion(id='chatcmpl-9jAxrqTinW1dwPLOyDk7jQhkycf5N', choices=[Choice(finish_reason='stop', index=0, logprobs=None, message=ChatCompletionMessage(content='Step 1: The abstract discusses the inverse Seesaw scenario for neutrino masses, Lepton number symmetry, Majoron associated with spontaneous symmetry breaking, sterile neutrinos at the keV-MeV scale, and their potential role as dark matter. While the abstract does not explicitly mention the \"Neutrino Seesaw Mechanism & Dark Matter\" in the description, it covers related concepts such as neutrino masses, symmetry breaking, and dark matter components in the Universe. Therefore, there are significant overlaps with the neuron\\'s description.\\n\\nStep 2: Considering the overlap between the abstract content and the neuron description, I predict that the neuron will activate on this abstract with a relatively high confidence level. The abstract covers topics closely related to the neuron\\'s activation criteria, even though it does not directly mention the specific keywords in the neuron description.\\n\\nPREDICTION: 0.8', role='assistant', function_call=None, tool_calls=None))], created=1720553935, model='gpt-3.5-turbo-0125', object='chat.completion', service_tier=None, system_fingerprint=None, usage=CompletionUsage(completion_tokens=179, prompt_tokens=511, total_tokens=690))\n",
      "Prediction: 0.8\n"
     ]
    },
    {
     "name": "stderr",
     "output_type": "stream",
     "text": [
      " 60%|██████    | 6/10 [00:18<00:12,  3.15s/it]"
     ]
    },
    {
     "name": "stdout",
     "output_type": "stream",
     "text": [
      "ChatCompletion(id='chatcmpl-9jAxtzNFa8UQyvSArlr9xafExXukl', choices=[Choice(finish_reason='stop', index=0, logprobs=None, message=ChatCompletionMessage(content='Step 1: The abstract discusses the X-ray variability of a particular object based on ASCA observatory data. It mentions the power spectrum of the object in a certain frequency range, with a flat portion in the spectrum at specific frequencies. It also talks about periodic variability dominating over stochastic variability at lower frequencies and mentions a model that best fits the observations. There is a mention of jet nutation and the suggestion that the power spectrum may not reflect the disk structure at certain frequencies.\\n\\nStep 2: The abstract does not directly mention the Neutrino Seesaw Mechanism or Dark Matter. It focuses on X-ray variability of an object, which is not directly related to these topics. The topics discussed in the abstract do not have a clear connection to the description of the neuron activation, which is based on the Neutrino Seesaw Mechanism & Dark Matter.\\n\\nTherefore, based on the lack of direct relevance to the Neutrino Seesaw Mechanism & Dark Matter in the abstract, I predict that the neuron will not activate on this abstract.\\n\\nStep 3: PREDICTION: -0.8', role='assistant', function_call=None, tool_calls=None))], created=1720553937, model='gpt-3.5-turbo-0125', object='chat.completion', service_tier=None, system_fingerprint=None, usage=CompletionUsage(completion_tokens=226, prompt_tokens=716, total_tokens=942))\n",
      "Prediction: -0.8\n"
     ]
    },
    {
     "name": "stderr",
     "output_type": "stream",
     "text": [
      " 70%|███████   | 7/10 [00:22<00:10,  3.35s/it]"
     ]
    },
    {
     "name": "stdout",
     "output_type": "stream",
     "text": [
      "ChatCompletion(id='chatcmpl-9jAxxov8cP2xt2k99McysomoV734J', choices=[Choice(finish_reason='stop', index=0, logprobs=None, message=ChatCompletionMessage(content='Step 1: The abstract discusses the instability of the $f$-mode in neutron stars, driven by the emission of gravitational waves. It also talks about the coupling of the parent mode with pairs of daughter modes, exhibiting a variety of behaviors. The study focuses on neutron stars derived from supernovae and mergers, modeled as polytropes in a Newtonian context. There is no direct mention of the Neutrino Seesaw Mechanism or Dark Matter in this abstract.\\n\\nStep 2: Based on the analysis in Step 1, the abstract does not directly relate to the Neutrino Seesaw Mechanism or Dark Matter. While the concept of neutron stars is somewhat related to astrophysics, the specific topics described in the abstract do not align with the activation criteria of the neuron. Therefore, I predict that the neuron will not activate on this abstract.\\n\\nStep 3: PREDICTION: -0.7', role='assistant', function_call=None, tool_calls=None))], created=1720553941, model='gpt-3.5-turbo-0125', object='chat.completion', service_tier=None, system_fingerprint=None, usage=CompletionUsage(completion_tokens=191, prompt_tokens=597, total_tokens=788))\n",
      "Prediction: -0.7\n"
     ]
    },
    {
     "name": "stderr",
     "output_type": "stream",
     "text": [
      " 80%|████████  | 8/10 [00:25<00:06,  3.33s/it]"
     ]
    },
    {
     "name": "stdout",
     "output_type": "stream",
     "text": [
      "ChatCompletion(id='chatcmpl-9jAy14f4btqsXQrSR2WmUpdRplNn3', choices=[Choice(finish_reason='stop', index=0, logprobs=None, message=ChatCompletionMessage(content=\"Step 1: The abstract discusses the construction of a model for the inner crust of neutron stars using interactions from chiral effective field theory to calculate its equation of state, shear properties, and the spectrum of crustal shear modes. It also mentions studying uncertainties associated with nuclear physics input, crust composition, and neutron entrainment.\\n\\nWhile the abstract does mention neutron stars and nuclear physics, it does not directly discuss the Neutrino Seesaw Mechanism or Dark Matter. The focus is more on the properties of neutron stars and the calculations related to their crust. However, the topic of neutrinos or dark matter is not the central theme of this abstract.\\n\\nStep 2: Based on the analysis in Step 1, it is unlikely that this abstract will activate the neuron related to the Neutrino Seesaw Mechanism & Dark Matter. The abstract covers topics more related to neutron stars and nuclear physics calculations, which are not directly aligned with the neuron's description.\\n\\nConfidence score: -0.8\\n\\nPREDICTION: -0.8\", role='assistant', function_call=None, tool_calls=None))], created=1720553945, model='gpt-3.5-turbo-0125', object='chat.completion', service_tier=None, system_fingerprint=None, usage=CompletionUsage(completion_tokens=212, prompt_tokens=565, total_tokens=777))\n",
      "Prediction: -0.8\n"
     ]
    },
    {
     "name": "stderr",
     "output_type": "stream",
     "text": [
      " 90%|█████████ | 9/10 [00:28<00:03,  3.10s/it]"
     ]
    },
    {
     "name": "stdout",
     "output_type": "stream",
     "text": [
      "ChatCompletion(id='chatcmpl-9jAy4OKOpFZr0H7ADccCxjNEwlJ4G', choices=[Choice(finish_reason='stop', index=0, logprobs=None, message=ChatCompletionMessage(content=\"Step 1: \\nThe abstract discusses the formation of planetary systems around Proxima Centauri, Alpha Centauri A, and Alpha Centauri B, which are all stars in the Alpha Centauri system. It mentions N-body simulations to determine the plausibility of the scenario and the implications for planet formation in this system. The abstract does not explicitly mention the Neutrino Seesaw Mechanism or Dark Matter, which are the key concepts the neuron activates on. However, the abstract does focus on astrophysical phenomena and the dynamics of planetary formation, which are related to the field of astrophysics.\\n\\nStep 2:\\nGiven that the abstract does not directly mention the Neutrino Seesaw Mechanism or Dark Matter, the relevance of the content to the neuron's activation is not clear. However, since the abstract deals with astrophysical simulations and the formation of planetary systems around stars, there may be some relevance to the neuron's activation. I am uncertain about the activation of the neuron on this abstract, and I would assign a confidence score of -0.5.\\n\\nPREDICTION: -0.5\", role='assistant', function_call=None, tool_calls=None))], created=1720553948, model='gpt-3.5-turbo-0125', object='chat.completion', service_tier=None, system_fingerprint=None, usage=CompletionUsage(completion_tokens=232, prompt_tokens=676, total_tokens=908))\n",
      "Prediction: -0.5\n"
     ]
    },
    {
     "name": "stderr",
     "output_type": "stream",
     "text": [
      "100%|██████████| 10/10 [00:31<00:00,  3.11s/it]"
     ]
    },
    {
     "name": "stdout",
     "output_type": "stream",
     "text": [
      "ChatCompletion(id='chatcmpl-9jAy73FIwvFPE8Bcf0fvEzWfh1Hsk', choices=[Choice(finish_reason='stop', index=0, logprobs=None, message=ChatCompletionMessage(content=\"Step 1: The description of the neuron's activation indicates an interest in the Neutrino Seesaw Mechanism and Dark Matter. The abstract provided, however, focuses on the Cosmic Web Detachment (CWD) model in the context of galaxy evolution and star formation. While the abstract touches on cosmological processes and interactions, it does not directly mention neutrinos or dark matter. \\n\\nThe CWD model discusses the impact of cosmic web interactions on star-forming galaxies, including quenching mechanisms such as gas stripping, harassment, strangulation, and starvation. These mechanisms are driven by gravitational and mechanical processes, rather than neutrinos or dark matter.\\n\\nGiven that the abstract does not explicitly mention the Neutrino Seesaw Mechanism or Dark Matter, it is unlikely that the neuron will activate strongly based on this abstract.\\n\\nStep 2: Confidence score: -0.8\\n\\nPREDICTION: -0.8\", role='assistant', function_call=None, tool_calls=None))], created=1720553951, model='gpt-3.5-turbo-0125', object='chat.completion', service_tier=None, system_fingerprint=None, usage=CompletionUsage(completion_tokens=188, prompt_tokens=672, total_tokens=860))\n",
      "Prediction: -0.8\n",
      "Pearson correlation: 0.980828892547368\n",
      "F1 score: 1.0\n"
     ]
    },
    {
     "name": "stderr",
     "output_type": "stream",
     "text": [
      "\n"
     ]
    }
   ],
   "source": [
    "# Samples to predict\n",
    "num_to_predict = 5\n",
    "top_abstracts, zero_abstracts = get_feature_activations(feature_index, m*2, topk_indices, topk_values, abstract_texts_path)\n",
    "\n",
    "# Keep the second k/2 \n",
    "top_abstracts = [abstract for _, abstract, _ in top_abstracts]\n",
    "top_abstracts = top_abstracts[-num_to_predict:]\n",
    "print(f'{len(top_abstracts)} top abstracts')\n",
    "\n",
    "zero_abstracts = zero_abstracts[-num_to_predict:]\n",
    "print(f'{len(zero_abstracts)} zero abstracts')\n",
    "\n",
    "# Go through all top abstracts and all zero abstracts and predict\n",
    "predictions = []\n",
    "ground_truth = [1] * len(top_abstracts) + [0] * len(zero_abstracts)\n",
    "\n",
    "for abstract in tqdm(top_abstracts + zero_abstracts):\n",
    "    prediction_prompt = prediction_base_prompt.format(description=interpretation, abstract=abstract)\n",
    "\n",
    "    prediction_response = client.chat.completions.create(\n",
    "        model=\"gpt-3.5-turbo\",\n",
    "        messages=[\n",
    "            {\"role\": \"user\", \"content\": prediction_prompt}\n",
    "        ]\n",
    "    )\n",
    "\n",
    "    prediction = prediction_response.choices[0].message.content.split(\"PREDICTION:\")[1].strip()\n",
    "    # Remove '*' from the prediction\n",
    "    prediction = prediction.replace(\"*\", \"\")\n",
    "    print(f\"Prediction: {prediction}\")\n",
    "    predictions.append(float(prediction))\n",
    "\n",
    "correlation, _ = pearsonr(ground_truth, predictions)\n",
    "\n",
    "print(f\"Pearson correlation: {correlation}\")\n",
    "\n",
    "# F1 score\n",
    "\n",
    "# Convert predictions to binary\n",
    "binary_predictions = [1 if p > 0 else 0 for p in predictions]\n",
    "\n",
    "f1 = f1_score(ground_truth, binary_predictions)\n",
    "\n",
    "print(f\"F1 score: {f1}\")"
   ]
  },
  {
   "cell_type": "code",
   "execution_count": null,
   "metadata": {},
   "outputs": [],
   "source": []
  }
 ],
 "metadata": {
  "kernelspec": {
   "display_name": "saerch",
   "language": "python",
   "name": "python3"
  },
  "language_info": {
   "codemirror_mode": {
    "name": "ipython",
    "version": 3
   },
   "file_extension": ".py",
   "mimetype": "text/x-python",
   "name": "python",
   "nbconvert_exporter": "python",
   "pygments_lexer": "ipython3",
   "version": "3.12.4"
  }
 },
 "nbformat": 4,
 "nbformat_minor": 2
}
