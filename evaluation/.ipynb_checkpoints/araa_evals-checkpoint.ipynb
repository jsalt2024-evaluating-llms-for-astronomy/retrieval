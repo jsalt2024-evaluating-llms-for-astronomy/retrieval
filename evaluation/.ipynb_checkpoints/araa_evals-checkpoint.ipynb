{
 "cells": [
  {
   "cell_type": "code",
   "execution_count": 1,
   "id": "f51e5de1",
   "metadata": {},
   "outputs": [
    {
     "name": "stdout",
     "output_type": "stream",
     "text": [
      "Intel MKL WARNING: Support of Intel(R) Streaming SIMD Extensions 4.2 (Intel(R) SSE4.2) enabled only processors has been deprecated. Intel oneAPI Math Kernel Library 2025.0 will require Intel(R) Advanced Vector Extensions (Intel(R) AVX) instructions.\n",
      "Intel MKL WARNING: Support of Intel(R) Streaming SIMD Extensions 4.2 (Intel(R) SSE4.2) enabled only processors has been deprecated. Intel oneAPI Math Kernel Library 2025.0 will require Intel(R) Advanced Vector Extensions (Intel(R) AVX) instructions.\n"
     ]
    }
   ],
   "source": [
    "import json\n",
    "import re\n",
    "import numpy as np\n",
    "import anthropic\n",
    "import requests\n",
    "from bs4 import BeautifulSoup\n",
    "import nest_asyncio\n",
    "import asyncio\n",
    "from playwright.async_api import async_playwright\n",
    "from markdownify import markdownify as md\n",
    "import yaml"
   ]
  },
  {
   "cell_type": "code",
   "execution_count": 2,
   "id": "1d98806f",
   "metadata": {},
   "outputs": [],
   "source": [
    "ads_token = \"6pmanBZytaNltPsonmdbJATGnDZO7mAxluAxgYfz\""
   ]
  },
  {
   "cell_type": "code",
   "execution_count": 264,
   "id": "8755a676",
   "metadata": {},
   "outputs": [
    {
     "data": {
      "text/plain": [
       "['10.48550/arXiv.0909.0948',\n",
       " '2009arXiv0909.0948A',\n",
       " 'arXiv:0909.0948',\n",
       " '2009ARA&A..47..481A',\n",
       " '10.1146/annurev.astro.46.060407.145222']"
      ]
     },
     "execution_count": 264,
     "metadata": {},
     "output_type": "execute_result"
    }
   ],
   "source": [
    "from urllib.parse import urlencode, quote_plus\n",
    "\n",
    "query = {\"q\": \"bibstem:ara&a\", \"fl\": \"title, year, bibcode, identifier\", \"rows\":1000}\n",
    "\n",
    "encoded_query = urlencode(query)\n",
    "\n",
    "results = requests.get(\"https://api.adsabs.harvard.edu/v1/search/query?{}\".format(encoded_query), \\\n",
    "                       headers={'Authorization': 'Bearer ' + ads_token})\n",
    "\n",
    "json_results = results.json()"
   ]
  },
  {
   "cell_type": "code",
   "execution_count": 265,
   "id": "0aafd663",
   "metadata": {
    "scrolled": true
   },
   "outputs": [],
   "source": [
    "with open('araa.json', 'w') as f:\n",
    "    json.dump(json_results, f)"
   ]
  },
  {
   "cell_type": "code",
   "execution_count": 3,
   "id": "2397b829",
   "metadata": {},
   "outputs": [],
   "source": [
    "with open('araa.json', 'r') as f:\n",
    "    json_results = json.load(f)"
   ]
  },
  {
   "cell_type": "code",
   "execution_count": 53,
   "id": "dc6c0755",
   "metadata": {},
   "outputs": [],
   "source": [
    "def pull_arxiv_and_doi(idlist):\n",
    "    arXiv_pattern = r'arXiv:\\d{4}\\.\\d{4}'\n",
    "    arxiv, doi = \"\", \"\"\n",
    "    for item in idlist:\n",
    "        if re.match(arXiv_pattern, item):\n",
    "            arxiv = item.split('arXiv:')[1]\n",
    "        elif '10.1146/annurev' in item:\n",
    "            doi = item\n",
    "    return arxiv, doi"
   ]
  },
  {
   "cell_type": "code",
   "execution_count": 54,
   "id": "67c6cabf",
   "metadata": {},
   "outputs": [],
   "source": [
    "def format_reviews(json_docs, cutoff = 2000):\n",
    "    all_reviews = []\n",
    "    for result in json_docs:\n",
    "        if int(result['year']) > cutoff:\n",
    "            arxiv, doi = pull_arxiv_and_doi(result['identifier'])\n",
    "            if doi != \"\" and arxiv != \"\":\n",
    "                url = \"https://www.annualreviews.org/content/journals/\" + doi\n",
    "                all_reviews.append({'title': result['title'][0], \"id\": arxiv, 'url': url, })\n",
    "    return all_reviews"
   ]
  },
  {
   "cell_type": "code",
   "execution_count": 55,
   "id": "7f4f3c7f",
   "metadata": {
    "scrolled": true
   },
   "outputs": [],
   "source": [
    "reviews = format_reviews(json_results['response']['docs'])"
   ]
  },
  {
   "cell_type": "code",
   "execution_count": 190,
   "id": "8173d1c5",
   "metadata": {},
   "outputs": [],
   "source": [
    "review_list = [\"\"\"{ \"title\": \"Circumbinary Accretion: From Binary Stars to Massive Binary Black Holes\",\n",
    "                \"id\": \"2211.00028\",\n",
    "                \"url\": \"https://www.annualreviews.org/content/journals/10.1146/annurev-astro-052622-022933\"} \"\"\",\n",
    "                \"\"\"{ \"title\": \"Hydrodynamical Simulations of the Galaxy Population: Enduring Successes and Outstanding Challenges\",\n",
    "                \"id\": \"2309.17075\",\n",
    "                \"url\": \"https://www.annualreviews.org/content/journals/10.1146/annurev-astro-041923-043618\"}\"\"\"]"
   ]
  },
  {
   "cell_type": "code",
   "execution_count": 191,
   "id": "f8edd32b",
   "metadata": {},
   "outputs": [],
   "source": [
    "reviews = [json.loads(text) for text in review_list]"
   ]
  },
  {
   "cell_type": "code",
   "execution_count": 322,
   "id": "17eab082",
   "metadata": {},
   "outputs": [
    {
     "name": "stdout",
     "output_type": "stream",
     "text": [
      "araa.json             \u001b[34mcomputer-vision\u001b[m\u001b[m       \u001b[34mraptor\u001b[m\u001b[m\r\n",
      "araa_evals.ipynb      \u001b[34mir-tutorial-notebooks\u001b[m\u001b[m\r\n",
      "\u001b[34margubot\u001b[m\u001b[m               \u001b[34mjhu-mt-hw\u001b[m\u001b[m\r\n"
     ]
    }
   ],
   "source": [
    "!ls"
   ]
  },
  {
   "cell_type": "code",
   "execution_count": 8,
   "id": "f822cb41",
   "metadata": {},
   "outputs": [],
   "source": [
    "with open(\"/users/christineye/retrieval/config.yaml\", 'r') as stream:\n",
    "    api_key = yaml.safe_load(stream)['anthropic_api_key']"
   ]
  },
  {
   "cell_type": "code",
   "execution_count": 9,
   "id": "424cd56e",
   "metadata": {},
   "outputs": [],
   "source": [
    "client = anthropic.Anthropic(api_key = api_key)\n",
    "\n",
    "def generate_query(text):\n",
    "    message = client.messages.create(\n",
    "        model=\"claude-3-5-sonnet-20240620\",\n",
    "        max_tokens=100,\n",
    "        temperature=0,\n",
    "        system=\"\"\"You are an expert astronomer. Given a paragraph from a scientific paper, return a specific research query that the paragraph answers.\n",
    "                    Formulate the question such that it is focused and concise, but covers all topics in the paragraph. \n",
    "                    Be concise and return just the question.\"\"\",\n",
    "        messages=[{ \"role\": \"user\", \n",
    "                   \"content\": [{   \"type\": \"text\",  \"text\": text, } ]}]\n",
    "    )\n",
    "    \n",
    "    return message.content[0].text"
   ]
  },
  {
   "cell_type": "code",
   "execution_count": 24,
   "id": "132cd741",
   "metadata": {},
   "outputs": [
    {
     "data": {
      "text/plain": [
       "'What do numerical simulations reveal about the formation and evolution of circumbinary accretion disks around binary massive black holes following galaxy mergers?'"
      ]
     },
     "execution_count": 24,
     "metadata": {},
     "output_type": "execute_result"
    }
   ],
   "source": [
    "generate_query(review[\"text\"])"
   ]
  },
  {
   "cell_type": "code",
   "execution_count": 10,
   "id": "e0cb3efd",
   "metadata": {},
   "outputs": [],
   "source": [
    "import requests\n",
    "\n",
    "def download_html(url):\n",
    "    req = urllib.request.Request(url)\n",
    "    req.add_header('User-Agent', 'Mozilla/5.0 (Windows NT 10.0; Win64; x64; rv:106.0) Gecko/20100101 Firefox/106.0')\n",
    "    req.add_header('Accept', 'text/html,application/xhtml+xml,application/xml;q=0.9,image/avif,image/webp,*/*;q=0.8')\n",
    "    req.add_header('Accept-Language', 'en-US,en;q=0.5')\n",
    "\n",
    "    r = urllib.request.urlopen(req).read()\n",
    "    soup = BeautifulSoup(r, features=\"html.parser\")\n",
    "    \n",
    "    return soup.get_text()"
   ]
  },
  {
   "cell_type": "code",
   "execution_count": 11,
   "id": "1020c477",
   "metadata": {},
   "outputs": [],
   "source": [
    "nest_asyncio.apply()\n",
    "\n",
    "async def fetch_page_content(url):\n",
    "    async with async_playwright() as playwright:\n",
    "        browser = await playwright.chromium.launch(headless=False)  # Set headless=True if you don't need a browser UI\n",
    "        context = await browser.new_context()\n",
    "        page = await context.new_page()\n",
    "\n",
    "        await page.goto(url)\n",
    "        await page.wait_for_load_state('networkidle')\n",
    "\n",
    "        content = await page.content()\n",
    "\n",
    "        await browser.close()\n",
    "        \n",
    "        soup = BeautifulSoup(content, 'html.parser')\n",
    "        \n",
    "        paragraphs = [md(p.text) for p in soup.find_all('p')]\n",
    "        \n",
    "        return paragraphs\n",
    "\n",
    "async def fetch_multiple_pages(urls):\n",
    "    tasks = [fetch_page_content(url) for url in urls]\n",
    "    return await asyncio.gather(*tasks)\n",
    "\n",
    "def get_page_contents(reviews):\n",
    "    urls = [review[\"url\"] for review in reviews]\n",
    "    return asyncio.run(fetch_multiple_pages(urls))"
   ]
  },
  {
   "cell_type": "code",
   "execution_count": 12,
   "id": "95d04ece",
   "metadata": {},
   "outputs": [],
   "source": [
    "def scrape_citations(text):\n",
    "    patterns = ['([A-Z][a-z´]+)\\s+(\\d{4})', # Name Year\n",
    "                '([A-Z][a-z´]+) et al\\. (\\d{4})', # Name et al. Year\n",
    "                '([A-Z][a-z´]+) et al\\. \\((\\d{4})\\)', # Name et al. (Year)\n",
    "                '([A-Z][a-z´]+) & ([A-Z][a-z]+) (\\d{4})', # Name & Name Year\n",
    "                '([A-Z][a-z´]+) & ([A-Z][a-z]+) \\((\\d{4})\\)',\n",
    "                '([A-Z][a-z´]+),\\s+([A-Z][a-z]+) & ([A-Z][a-z]+) (\\d{4})']\n",
    "    \n",
    "    citations = []\n",
    "    for pattern in patterns:\n",
    "        for match in re.findall(pattern, text):\n",
    "            citations.append(match)\n",
    "    \n",
    "    return citations"
   ]
  },
  {
   "cell_type": "code",
   "execution_count": 13,
   "id": "cb7406d2",
   "metadata": {},
   "outputs": [],
   "source": [
    "def citation_density(content, k, mode = \"topk\", maxn = 12):\n",
    "    num_citations = np.array([len(scrape_citations(p)) for p in content])\n",
    "    \n",
    "    if mode == \"topk\":\n",
    "        indices = np.flip(np.argsort(num_citations))[:k]\n",
    "    elif mode == \"threshold\":\n",
    "        mask = np.logical_and(num_citations >= k, num_citations < maxn)\n",
    "        indices = np.arange(len(content))[mask]\n",
    "    \n",
    "    return np.sort(indices)"
   ]
  },
  {
   "cell_type": "code",
   "execution_count": 14,
   "id": "d8175183",
   "metadata": {},
   "outputs": [],
   "source": [
    "def get_best_paragraphs(content, k, mode = \"threshold\"):\n",
    "    indices = citation_density(content, k, mode)\n",
    "    string = \"\"\n",
    "    \n",
    "    for index in indices:\n",
    "        string += str(index)\n",
    "        string += \": \"\n",
    "        string += content[index]\n",
    "        string += \"\\n\\n\"\n",
    "    \n",
    "    return string"
   ]
  },
  {
   "cell_type": "code",
   "execution_count": 15,
   "id": "cbd26855",
   "metadata": {},
   "outputs": [],
   "source": [
    "def claude_paragraphs(paper):\n",
    "    message = client.messages.create(\n",
    "        model=\"claude-3-5-sonnet-20240620\",\n",
    "        max_tokens=500,\n",
    "        temperature=0,\n",
    "        system=\"\"\"You are an expert astronomer. Given this list of paragraphs from a scientific paper, generate a focused research question for each paragraph.\n",
    "                Formulate the question such that it is focused and concise, but covers all topics in the paragraph. \n",
    "                Then assess which paragraphs are most on-topic and closely related to their research question.\n",
    "                If the question has multiple sub-questions, a good and focused paragraph shoudl address all of them.\n",
    "                Return the 3 best question-paragraph pairs in this format: (index, question).\n",
    "                Be concise and do not include any text before or after the formatted question-answer pairs.\"\"\",\n",
    "                # Also return the 3 paragraphs and corresponding questions that are least on-topic and related to the research question.\n",
    "        messages=[{\"role\": \"user\",\n",
    "                \"content\": [{\"type\": \"text\", \"text\": paper,}] }]\n",
    "    )\n",
    "    \n",
    "    return message"
   ]
  },
  {
   "cell_type": "code",
   "execution_count": 30,
   "id": "0f1d992c",
   "metadata": {},
   "outputs": [
    {
     "data": {
      "text/plain": [
       "161"
      ]
     },
     "execution_count": 30,
     "metadata": {},
     "output_type": "execute_result"
    }
   ],
   "source": [
    "len(reviews) # only after 2000; only with arXiv"
   ]
  },
  {
   "cell_type": "code",
   "execution_count": 75,
   "id": "b362194f",
   "metadata": {
    "scrolled": true
   },
   "outputs": [
    {
     "name": "stdout",
     "output_type": "stream",
     "text": [
      "29\n"
     ]
    },
    {
     "name": "stderr",
     "output_type": "stream",
     "text": [
      "Task exception was never retrieved\n",
      "future: <Task finished name='Task-2622' coro=<Connection.run() done, defined at /Users/christineye/anaconda3/lib/python3.9/site-packages/playwright/_impl/_connection.py:265> exception=KeyboardInterrupt()>\n",
      "Traceback (most recent call last):\n",
      "  File \"/Users/christineye/anaconda3/lib/python3.9/site-packages/IPython/core/interactiveshell.py\", line 3526, in run_code\n",
      "    exec(code_obj, self.user_global_ns, self.user_ns)\n",
      "  File \"/var/folders/kg/0g3xrys53nd6r_vs_7tph9y00000gn/T/ipykernel_4675/2564133765.py\", line 7, in <module>\n",
      "    content = get_page_contents(batch)\n",
      "  File \"/var/folders/kg/0g3xrys53nd6r_vs_7tph9y00000gn/T/ipykernel_4675/4225371177.py\", line 28, in get_page_contents\n",
      "    return asyncio.run(fetch_multiple_pages(urls))\n",
      "  File \"/Users/christineye/anaconda3/lib/python3.9/site-packages/nest_asyncio.py\", line 30, in run\n",
      "    return loop.run_until_complete(task)\n",
      "  File \"/Users/christineye/anaconda3/lib/python3.9/site-packages/nest_asyncio.py\", line 92, in run_until_complete\n",
      "    self._run_once()\n",
      "  File \"/Users/christineye/anaconda3/lib/python3.9/site-packages/nest_asyncio.py\", line 133, in _run_once\n",
      "    handle._run()\n",
      "  File \"/Users/christineye/anaconda3/lib/python3.9/asyncio/events.py\", line 80, in _run\n",
      "    self._context.run(self._callback, *self._args)\n",
      "  File \"/Users/christineye/anaconda3/lib/python3.9/asyncio/tasks.py\", line 256, in __step\n",
      "    result = coro.send(None)\n",
      "  File \"/Users/christineye/anaconda3/lib/python3.9/site-packages/playwright/_impl/_connection.py\", line 272, in run\n",
      "    await self._transport.connect()\n",
      "  File \"/Users/christineye/anaconda3/lib/python3.9/site-packages/playwright/_impl/_transport.py\", line 120, in connect\n",
      "    self._proc = await asyncio.create_subprocess_exec(\n",
      "  File \"/Users/christineye/anaconda3/lib/python3.9/asyncio/subprocess.py\", line 236, in create_subprocess_exec\n",
      "    transport, protocol = await loop.subprocess_exec(\n",
      "  File \"/Users/christineye/anaconda3/lib/python3.9/asyncio/base_events.py\", line 1676, in subprocess_exec\n",
      "    transport = await self._make_subprocess_transport(\n",
      "  File \"/Users/christineye/anaconda3/lib/python3.9/asyncio/unix_events.py\", line 197, in _make_subprocess_transport\n",
      "    transp = _UnixSubprocessTransport(self, protocol, args, shell,\n",
      "  File \"/Users/christineye/anaconda3/lib/python3.9/asyncio/base_subprocess.py\", line 36, in __init__\n",
      "    self._start(args=args, shell=shell, stdin=stdin, stdout=stdout,\n",
      "  File \"/Users/christineye/anaconda3/lib/python3.9/asyncio/unix_events.py\", line 789, in _start\n",
      "    self._proc = subprocess.Popen(\n",
      "  File \"/Users/christineye/anaconda3/lib/python3.9/subprocess.py\", line 951, in __init__\n",
      "    self._execute_child(args, executable, preexec_fn, close_fds,\n",
      "  File \"/Users/christineye/anaconda3/lib/python3.9/subprocess.py\", line 1777, in _execute_child\n",
      "    part = os.read(errpipe_read, 50000)\n",
      "KeyboardInterrupt\n"
     ]
    },
    {
     "name": "stdout",
     "output_type": "stream",
     "text": [
      "30\n",
      "31\n",
      "32\n"
     ]
    }
   ],
   "source": [
    "batch_size = 5\n",
    "\n",
    "for i in range(len(reviews) // batch_size + 1)[29:]:\n",
    "    print(i)\n",
    "    batch = reviews[i * batch_size : i * batch_size + (batch_size - 1)]\n",
    "    content = get_page_contents(batch)\n",
    "\n",
    "    for j, paper in enumerate(content):\n",
    "        if \"institutional or personal subscription\" not in paper[-1]:\n",
    "            review = reviews[i * batch_size + j].copy()\n",
    "            review['text'] = paper\n",
    "            reviews_with_text.append(review)"
   ]
  },
  {
   "cell_type": "code",
   "execution_count": 78,
   "id": "3f81bca8",
   "metadata": {},
   "outputs": [],
   "source": [
    "with open('araa_papers.json', 'w') as f:\n",
    "    json.dump(reviews_with_text, f)"
   ]
  },
  {
   "cell_type": "code",
   "execution_count": 37,
   "id": "2a05a0c0",
   "metadata": {
    "scrolled": true
   },
   "outputs": [
    {
     "data": {
      "text/plain": [
       "[{'title': 'The Chemical Composition of the Sun',\n",
       "  'id': '0909.0948',\n",
       "  'url': 'https://www.annualreviews.org/content/journals/10.1146/annurev.astro.46.060407.145222'},\n",
       " {'title': 'Coevolution (Or Not) of Supermassive Black Holes and Host Galaxies',\n",
       "  'id': '1304.7762',\n",
       "  'url': 'https://www.annualreviews.org/content/journals/10.1146/annurev-astro-082708-101811'},\n",
       " {'title': 'Cosmic Star-Formation History',\n",
       "  'id': '1403.0007',\n",
       "  'url': 'https://www.annualreviews.org/content/journals/10.1146/annurev-astro-081811-125615'},\n",
       " {'title': 'Star Formation in the Milky Way and Nearby Galaxies',\n",
       "  'id': '1204.3552',\n",
       "  'url': 'https://www.annualreviews.org/content/journals/10.1146/annurev-astro-081811-125610'},\n",
       " {'title': 'The Circumgalactic Medium',\n",
       "  'id': '1709.09180',\n",
       "  'url': 'https://www.annualreviews.org/content/journals/10.1146/annurev-astro-091916-055240'},\n",
       " {'title': 'Observational Evidence of Active Galactic Nuclei Feedback',\n",
       "  'id': '1204.4114',\n",
       "  'url': 'https://www.annualreviews.org/content/journals/10.1146/annurev-astro-081811-125521'},\n",
       " {'title': 'Theory of Star Formation',\n",
       "  'id': '0707.3514',\n",
       "  'url': 'https://www.annualreviews.org/content/journals/10.1146/annurev.astro.45.051806.110602'},\n",
       " {'title': 'The CO-to-H<SUB>2</SUB> Conversion Factor',\n",
       "  'id': '1301.3498',\n",
       "  'url': 'https://www.annualreviews.org/content/journals/10.1146/annurev-astro-082812-140944'},\n",
       " {'title': 'The Galaxy in Context: Structural, Kinematic, and Integrated Properties',\n",
       "  'id': '1602.07702',\n",
       "  'url': 'https://www.annualreviews.org/content/journals/10.1146/annurev-astro-081915-023441'},\n",
       " {'title': 'Small-Scale Challenges to the ΛCDM Paradigm',\n",
       "  'id': '1707.04256',\n",
       "  'url': 'https://www.annualreviews.org/content/journals/10.1146/annurev-astro-091916-055313'}]"
      ]
     },
     "execution_count": 37,
     "metadata": {},
     "output_type": "execute_result"
    }
   ],
   "source": [
    "reviews[:10]"
   ]
  },
  {
   "cell_type": "code",
   "execution_count": 236,
   "id": "c4fa5de6",
   "metadata": {},
   "outputs": [],
   "source": [
    "message = claude_paragraphs(get_best_paragraphs(contents[1], 5))"
   ]
  },
  {
   "cell_type": "code",
   "execution_count": 245,
   "id": "67fcc8d9",
   "metadata": {},
   "outputs": [
    {
     "data": {
      "text/plain": [
       "'(9, How have cosmological simulations of galaxy formation improved over time in reproducing observed galaxy properties, and what key challenges remain?)'"
      ]
     },
     "execution_count": 245,
     "metadata": {},
     "output_type": "execute_result"
    }
   ],
   "source": [
    "message.content[0].text.split('\\n\\n')[1]"
   ]
  },
  {
   "cell_type": "code",
   "execution_count": 238,
   "id": "82690594",
   "metadata": {},
   "outputs": [
    {
     "name": "stdout",
     "output_type": "stream",
     "text": [
      "Here are the 3 best question-paragraph pairs based on relevance and focus:\n",
      "\n",
      "(9, How have cosmological simulations of galaxy formation improved over time in reproducing observed galaxy properties, and what key challenges remain?)\n",
      "\n",
      "(55, How do cosmological simulations model the multiphase structure of the interstellar medium given resolution limitations?)\n",
      "\n",
      "(151, What are the main limitations of current state-of-the-art cosmological simulations of galaxy formation, and what key physical processes are still neglected?)\n"
     ]
    }
   ],
   "source": [
    "print(message.content[0].text)"
   ]
  },
  {
   "cell_type": "code",
   "execution_count": null,
   "id": "6ea1a611",
   "metadata": {},
   "outputs": [],
   "source": [
    "# ask it to consider time?"
   ]
  },
  {
   "cell_type": "code",
   "execution_count": 251,
   "id": "5430aa38",
   "metadata": {},
   "outputs": [],
   "source": [
    "def process_paragraphs(content):\n",
    "    paragraphs = get_best_paragraphs(content, 5)\n",
    "    message = claude_paragraphs(paragraphs)\n",
    "    message = message.content[0].text\n",
    "    \n",
    "    results = []\n",
    "    for pair in message.split('\\n\\n'):\n",
    "        if '(' in pair:\n",
    "            index, question = pair[1:-1].split(',', 1)\n",
    "            paragraph = content[int(index)]\n",
    "            results.append({'question': question, 'paragraph': paragraph, 'citations': scrape_citations(paragraph)})\n",
    "    \n",
    "    return results"
   ]
  },
  {
   "cell_type": "code",
   "execution_count": 59,
   "id": "bb84410d",
   "metadata": {},
   "outputs": [
    {
     "name": "stdout",
     "output_type": "stream",
     "text": [
      "The autoreload extension is already loaded. To reload it, use:\n",
      "  %reload_ext autoreload\n"
     ]
    }
   ],
   "source": [
    "%load_ext autoreload\n",
    "%autoreload 2"
   ]
  },
  {
   "cell_type": "code",
   "execution_count": 60,
   "id": "322974ac",
   "metadata": {},
   "outputs": [],
   "source": [
    "import multi_paper"
   ]
  },
  {
   "cell_type": "code",
   "execution_count": 79,
   "id": "a073d9be",
   "metadata": {},
   "outputs": [],
   "source": [
    "papers = multi_paper.load_papers(from_file = True)"
   ]
  },
  {
   "cell_type": "code",
   "execution_count": 90,
   "id": "fd6b800f",
   "metadata": {},
   "outputs": [
    {
     "name": "stdout",
     "output_type": "stream",
     "text": [
      "Number of papers: 86\n"
     ]
    }
   ],
   "source": [
    "print('Number of papers:', len(papers))\n",
    "\n",
    "test_papers = papers[:1]\n",
    "query_pairs = []\n",
    "for paper in test_papers:\n",
    "    query_pairs.append(multi_paper.process_paper(paper))"
   ]
  },
  {
   "cell_type": "code",
   "execution_count": 91,
   "id": "ff659d6a",
   "metadata": {
    "scrolled": true
   },
   "outputs": [
    {
     "data": {
      "text/plain": [
       "[{'title': 'Cosmic Star-Formation History',\n",
       "  'id': '1403.0007',\n",
       "  'question': ' What is the appropriate FUV conversion factor for calculating star formation rates at high redshift, and how does it compare to commonly used values?',\n",
       "  'paragraph': 'In this review, we adopt a constant FUV conversion factor \\n\\n year−1 erg−1 s Hz (we typically leave out the units) as a compromise value based on the evolutionary scenario from \\nFigure 3\\n. The widely used value from Kennicutt (1998) (and based on the calibration by Madau et al. 1998b), \\n\\n, is 20% larger than our calibration. Other recent analyses based on the GALAXEV libraries have also found lower mean conversion factors, for both low- and high-redshift galaxy populations (e.g., Salim et al. 2007, Haardt & Madau 2012). The FUV conversion tabulated in Kennicutt & Evans (2012) (from Murphy et al. 2011), if rescaled from the Kroupa to Salpeter IMF, is very close to the z = 0 solar metallicity value of \\n\\n in \\nFigure 3\\n, but our somewhat smaller value should be more representative for the peak era of cosmic star formation at high redshift. Some authors express FUV luminosity as L\\nFUV=νL\\nν in solar units. In that case, \\n\\n at 1,500 Å, and the conversion factor will depend on the wavelength.',\n",
       "  'citations': [('Madau', '2012'),\n",
       "   ('Madau', '1998'),\n",
       "   ('Salim', '2007'),\n",
       "   ('Murphy', '2011'),\n",
       "   ('Haardt', 'Madau', '2012'),\n",
       "   ('Kennicutt', 'Evans', '2012')]},\n",
       " {'title': 'Cosmic Star-Formation History',\n",
       "  'id': '1403.0007',\n",
       "  'question': ' How do the infrared spectral energy distributions of galaxies at high redshift compare to local templates, and what are the implications for deriving star formation rates from mid-infrared observations?',\n",
       "  'paragraph': 'In practice, observations of IR-luminous galaxies detected at high redshift with both Spitzer and Herschel have demonstrated that the IR SEDs for many galaxies are well behaved and that variations can be understood at least in part. Several pre-Herschel studies (Daddi et al. 2007; Papovich et al. 2007; Magnelli et al. 2009, 2011) compared 24-μm observations of distant galaxies with those of other SFR tracers, including Spitzer FIR measurements (either individual detections or stacked averages) and radio emission. On average, the MIR to FIR flux ratios for galaxies at z≲1.3 match those predicted by local IR SED templates such as those of Chary & Elbaz (2001), implying that 24-μm-derived SFRs should be reliable. However, at higher redshift, 1.31011\\nL\\n⊙ and >1012\\nL\\n⊙, respectively) are merger-driven starbursts, but at z≈2 where the SFRs and sSFRs of galaxies are globally much larger, the majority of LIRGs and ULIRGs are “normal” main-sequence galaxies. Their IR SEDs are more similar to those of ordinary, local star-forming spiral galaxies and have smaller bolometric corrections from observed 24-μm data (rest frame λ ≈8 μm) than those predicted by SED templates designed to match local LIRGs and ULIRGs. Elbaz et al. (2011) constructed a “universal” main-sequence SED from the ensemble of high-z Spitzer and Herschel photometry for galaxies in the Great Observatories Origins Deep Survey (GOODS) fields at 0.3<z<2.5. This SED leads to consistent total IR luminosities for the large majority of galaxies over that redshift range. Although no single template can be used to accurately derive L\\nIR or SFR from MIR observations for all galaxies, we now have a better understanding of how this can be done on average, which may be sufficient for deriving the global redshift evolution of the IR luminosity density or its corresponding SFRD. Rodighiero et al. (2011) (see also Sargent et al. 2012) showed that starbursts (whose IR SEDs deviate significantly from those of the main-sequence population) account for only 10% of the global SFRD at z≈2. With the data now available from Herschel and Spitzer, a broad understanding of the evolving IRLF and IR luminosity density, at least at 0<z<2.5, seems within reach.',\n",
       "  'citations': [('Daddi', '2007'),\n",
       "   ('Papovich', '2007'),\n",
       "   ('Magnelli', '2009'),\n",
       "   ('Sargent', '2012'),\n",
       "   ('Elbaz', '2011'),\n",
       "   ('Rodighiero', '2011'),\n",
       "   ('Chary', 'Elbaz', '2001')]},\n",
       " {'title': 'Cosmic Star-Formation History',\n",
       "  'id': '1403.0007',\n",
       "  'question': ' How does dust attenuation in high-redshift galaxies compare to local galaxies, and what are the limitations of using the UV spectral slope to estimate extinction?',\n",
       "  'paragraph': \"Attempts to measure and correct for dust extinction in high-z galaxies have generally used the UV spectral slope (designated β) as a measure of UV reddening and have adopted empirical correlations between UV reddening and UV extinction. Calzetti et al. (1994, 2000) used ultraviolet and optical spectroscopy to derive an empirical, average dust attenuation curve for a sample of local UV-bright star-forming galaxies. Meurer et al. (1999) (later updated by Overzier et al. 2011) used UV and FIR data for a similar local sample to empirically calibrate the relation between UV reddening (β) and UV extinction (IRX≡L\\nIR/L\\nFUV, which can be directly related to A\\nFUV). The reasonably tight IRX-β relation obeyed by the local UV-bright galaxies is broadly consistent with the Calzetti attenuation law, hence reinforcing its popularity. However, other local studies showed clearly that some galaxies deviate from these relations. Goldader et al. (2002) found that nearby ULIRGs deviate strongly from the Meurer IRX-β relation; these ULIRGs have very large values of IRX but often with relatively blue UV spectral index β. This was interpreted to mean that the observed UV light from local ULIRGs is relatively unreddened star formation in the host galaxy that is unrelated to the bolometrically dominant star formation, which is entirely obscured from view at UV-optical wavelengths and detected only in the FIR. Instead, observations of ordinary spiral galaxies (Kong et al. 2004, Buat et al. 2005) measured redder values of β for a given IRX. This is generally taken as evidence that light from older and less massive stars contributes significantly to the near-UV emission, leading to redder UV colors for reasons unrelated to extinction. In general, different relative distributions of stars and dust can lead to different net attenuation properties. Extinction can easily be patchy: Winds from star-forming regions can blow away dust on certain timescales, whereas other regions that are younger or more deeply embedded in the galaxy's ISM remain more heavily obscured. Dust heating also depends on geometry, leading to different distributions of dust temperatures and different emission spectra at IR and submillimeter wavelengths.\",\n",
       "  'citations': [('Overzier', '2011'),\n",
       "   ('Kong', '2004'),\n",
       "   ('Buat', '2005'),\n",
       "   ('Meurer', '1999'),\n",
       "   ('Goldader', '2002')]}]"
      ]
     },
     "execution_count": 91,
     "metadata": {},
     "output_type": "execute_result"
    }
   ],
   "source": [
    "query_pairs[0]"
   ]
  },
  {
   "cell_type": "code",
   "execution_count": 116,
   "id": "791203b8",
   "metadata": {},
   "outputs": [],
   "source": [
    "with open('../data/multi_paper_examples.json', 'w') as json_file:\n",
    "    for paper in query_pairs:\n",
    "        for entry in paper:\n",
    "            json.dump(entry, json_file, indent = 4)\n",
    "            json_file.write('\\n')"
   ]
  },
  {
   "cell_type": "code",
   "execution_count": 121,
   "id": "84a629a0",
   "metadata": {},
   "outputs": [],
   "source": [
    "with open('../data/multi_paper_examples.json', 'w') as json_file:\n",
    "    for paper in query_pairs:\n",
    "        for entry in paper:\n",
    "            partial_json = json.dumps({k: v for k, v in entry.items() if k != 'citations'}, indent=2)\n",
    "            citations_json = json.dumps(entry['citations'], separators=(',', ':'))\n",
    "            combined_json = partial_json.rstrip('}') + ',\"citations\": ' + citations_json + '\\n}'\n",
    "            json_file.write(combined_json)\n",
    "            json_file.write('\\n')"
   ]
  },
  {
   "cell_type": "code",
   "execution_count": null,
   "id": "860fdd15",
   "metadata": {},
   "outputs": [],
   "source": []
  }
 ],
 "metadata": {
  "kernelspec": {
   "display_name": "Python 3 (ipykernel)",
   "language": "python",
   "name": "python3"
  },
  "language_info": {
   "codemirror_mode": {
    "name": "ipython",
    "version": 3
   },
   "file_extension": ".py",
   "mimetype": "text/x-python",
   "name": "python",
   "nbconvert_exporter": "python",
   "pygments_lexer": "ipython3",
   "version": "3.9.15"
  }
 },
 "nbformat": 4,
 "nbformat_minor": 5
}
