{
 "cells": [
  {
   "cell_type": "code",
   "execution_count": 253,
   "id": "f51e5de1",
   "metadata": {},
   "outputs": [],
   "source": [
    "import json\n",
    "import re\n",
    "import numpy as np\n",
    "import anthropic\n",
    "import requests\n",
    "from bs4 import BeautifulSoup\n",
    "import nest_asyncio\n",
    "import asyncio\n",
    "from playwright.async_api import async_playwright\n",
    "from markdownify import markdownify as md"
   ]
  },
  {
   "cell_type": "code",
   "execution_count": 254,
   "id": "1d98806f",
   "metadata": {},
   "outputs": [],
   "source": [
    "ads_token = \"6pmanBZytaNltPsonmdbJATGnDZO7mAxluAxgYfz\""
   ]
  },
  {
   "cell_type": "code",
   "execution_count": 264,
   "id": "8755a676",
   "metadata": {},
   "outputs": [
    {
     "data": {
      "text/plain": [
       "['10.48550/arXiv.0909.0948',\n",
       " '2009arXiv0909.0948A',\n",
       " 'arXiv:0909.0948',\n",
       " '2009ARA&A..47..481A',\n",
       " '10.1146/annurev.astro.46.060407.145222']"
      ]
     },
     "execution_count": 264,
     "metadata": {},
     "output_type": "execute_result"
    }
   ],
   "source": [
    "from urllib.parse import urlencode, quote_plus\n",
    "\n",
    "query = {\"q\": \"bibstem:ara&a\", \"fl\": \"title, year, bibcode, identifier\", \"rows\":1000}\n",
    "\n",
    "encoded_query = urlencode(query)\n",
    "\n",
    "results = requests.get(\"https://api.adsabs.harvard.edu/v1/search/query?{}\".format(encoded_query), \\\n",
    "                       headers={'Authorization': 'Bearer ' + ads_token})\n",
    "\n",
    "json_results = results.json()\n",
    "# temp['response']['docs'][0]['bibcode']\n",
    "temp['response']['docs'][0]['identifier']"
   ]
  },
  {
   "cell_type": "code",
   "execution_count": 265,
   "id": "0aafd663",
   "metadata": {
    "scrolled": true
   },
   "outputs": [],
   "source": [
    "with open('araa.json', 'w') as f:\n",
    "    json.dump(json_results, f)"
   ]
  },
  {
   "cell_type": "code",
   "execution_count": 282,
   "id": "23183ee3",
   "metadata": {
    "scrolled": true
   },
   "outputs": [
    {
     "data": {
      "text/plain": [
       "{'responseHeader': {'status': 0,\n",
       "  'QTime': 15,\n",
       "  'params': {'q': 'bibstem:ara&a',\n",
       "   'fl': 'title,year,bibcode,identifier',\n",
       "   'start': '0',\n",
       "   'internal_logging_params': 'X-Amzn-Trace-Id=Root=1-667b7230-76ccb31d00b7f5d865e8d248',\n",
       "   'rows': '10',\n",
       "   'wt': 'json'}},\n",
       " 'response': {'numFound': 998,\n",
       "  'start': 0,\n",
       "  'docs': [{'bibcode': '2009ARA&A..47..481A',\n",
       "    'identifier': ['10.48550/arXiv.0909.0948',\n",
       "     '2009arXiv0909.0948A',\n",
       "     'arXiv:0909.0948',\n",
       "     '2009ARA&A..47..481A',\n",
       "     '10.1146/annurev.astro.46.060407.145222'],\n",
       "    'title': ['The Chemical Composition of the Sun'],\n",
       "    'year': '2009'},\n",
       "   {'bibcode': '1998ARA&A..36..189K',\n",
       "    'identifier': ['1998ARA&A..36..189K',\n",
       "     'arXiv:astro-ph/9807187',\n",
       "     '10.48550/arXiv.astro-ph/9807187',\n",
       "     '1998astro.ph..7187K',\n",
       "     '10.1146/annurev.astro.36.1.189'],\n",
       "    'title': ['Star Formation in Galaxies Along the Hubble Sequence'],\n",
       "    'year': '1998'},\n",
       "   {'bibcode': '2013ARA&A..51..511K',\n",
       "    'identifier': ['2013ARA&A..51..511K',\n",
       "     '2013arXiv1304.7762K',\n",
       "     'arXiv:1304.7762',\n",
       "     '10.1146/annurev-astro-082708-101811',\n",
       "     '10.48550/arXiv.1304.7762'],\n",
       "    'title': ['Coevolution (Or Not) of Supermassive Black Holes and Host Galaxies'],\n",
       "    'year': '2013'},\n",
       "   {'bibcode': '2014ARA&A..52..415M',\n",
       "    'identifier': ['10.48550/arXiv.1403.0007',\n",
       "     'arXiv:1403.0007',\n",
       "     '2014ARA&A..52..415M',\n",
       "     '2014arXiv1403.0007M',\n",
       "     '10.1146/annurev-astro-081811-125615'],\n",
       "    'title': ['Cosmic Star-Formation History'],\n",
       "    'year': '2014'},\n",
       "   {'bibcode': '2012ARA&A..50..531K',\n",
       "    'identifier': ['10.1146/annurev-astro-081811-125610',\n",
       "     'arXiv:1204.3552',\n",
       "     '2012ARA&A..50..531K',\n",
       "     '10.48550/arXiv.1204.3552',\n",
       "     '2012arXiv1204.3552K'],\n",
       "    'title': ['Star Formation in the Milky Way and Nearby Galaxies'],\n",
       "    'year': '2012'},\n",
       "   {'bibcode': '1993ARA&A..31..473A',\n",
       "    'identifier': ['10.1146/annurev.aa.31.090193.002353',\n",
       "     '1993ARA&A..31..473A'],\n",
       "    'title': ['Unified models for active galactic nuclei and quasars.'],\n",
       "    'year': '1993'},\n",
       "   {'bibcode': '1990ARA&A..28..215D',\n",
       "    'identifier': ['10.1146/annurev.aa.28.090190.001243',\n",
       "     '1990ARA&A..28..215D'],\n",
       "    'title': ['H I in the galaxy.'],\n",
       "    'year': '1990'},\n",
       "   {'bibcode': '2017ARA&A..55..389T',\n",
       "    'identifier': ['2017arXiv170909180T',\n",
       "     'arXiv:1709.09180',\n",
       "     '10.1146/annurev-astro-091916-055240',\n",
       "     '2017ARA&A..55..389T',\n",
       "     '10.48550/arXiv.1709.09180'],\n",
       "    'title': ['The Circumgalactic Medium'],\n",
       "    'year': '2017'},\n",
       "   {'bibcode': '2012ARA&A..50..455F',\n",
       "    'identifier': ['arXiv:1204.4114',\n",
       "     '10.1146/annurev-astro-081811-125521',\n",
       "     '2012ARA&A..50..455F',\n",
       "     '10.48550/arXiv.1204.4114',\n",
       "     '2012arXiv1204.4114F'],\n",
       "    'title': ['Observational Evidence of Active Galactic Nuclei Feedback'],\n",
       "    'year': '2012'},\n",
       "   {'bibcode': '1992ARA&A..30..543M',\n",
       "    'identifier': ['10.1146/annurev.aa.30.090192.002551',\n",
       "     '1992ARA&A..30..543M'],\n",
       "    'title': ['Smoothed particle hydrodynamics.'],\n",
       "    'year': '1992'}]}}"
      ]
     },
     "execution_count": 282,
     "metadata": {},
     "output_type": "execute_result"
    }
   ],
   "source": [
    "json_results"
   ]
  },
  {
   "cell_type": "code",
   "execution_count": 283,
   "id": "dc6c0755",
   "metadata": {},
   "outputs": [],
   "source": [
    "def pull_arxiv(idlist):\n",
    "    pattern = r'arXiv:\\d{4}\\.\\d{4}'\n",
    "    for item in idlist:\n",
    "        if re.match(pattern, item):\n",
    "            return item.split('arXiv:')[1]\n",
    "    return \"\""
   ]
  },
  {
   "cell_type": "code",
   "execution_count": 304,
   "id": "4addf48d",
   "metadata": {},
   "outputs": [],
   "source": [
    "def pull_doi(idlist):\n",
    "    for item in idlist:\n",
    "        if '10.1146/annurev' in item:\n",
    "            return item\n",
    "    return \"\""
   ]
  },
  {
   "cell_type": "code",
   "execution_count": 316,
   "id": "67c6cabf",
   "metadata": {},
   "outputs": [],
   "source": [
    "def format_reviews(json_docs, cutoff = 2000):\n",
    "    all_reviews = []\n",
    "    for result in json_docs:\n",
    "        if int(result['year']) > cutoff:\n",
    "            arxiv = pull_arxiv(result['identifier'])\n",
    "            doi = pull_doi(result['identifier'])\n",
    "\n",
    "            url = \"https://www.annualreviews.org/content/journals/\" + doi\n",
    "            all_reviews.append({'title': result['title'][0], \"id\": arxiv, 'url': url, })\n",
    "    \n",
    "    return all_reviews"
   ]
  },
  {
   "cell_type": "code",
   "execution_count": 317,
   "id": "7f4f3c7f",
   "metadata": {
    "scrolled": true
   },
   "outputs": [
    {
     "data": {
      "text/plain": [
       "[{'title': 'The Chemical Composition of the Sun',\n",
       "  'id': '0909.0948',\n",
       "  'url': 'https://www.annualreviews.org/content/journals/10.1146/annurev.astro.46.060407.145222'},\n",
       " {'title': 'Coevolution (Or Not) of Supermassive Black Holes and Host Galaxies',\n",
       "  'id': '1304.7762',\n",
       "  'url': 'https://www.annualreviews.org/content/journals/10.1146/annurev-astro-082708-101811'},\n",
       " {'title': 'Cosmic Star-Formation History',\n",
       "  'id': '1403.0007',\n",
       "  'url': 'https://www.annualreviews.org/content/journals/10.1146/annurev-astro-081811-125615'},\n",
       " {'title': 'Star Formation in the Milky Way and Nearby Galaxies',\n",
       "  'id': '1204.3552',\n",
       "  'url': 'https://www.annualreviews.org/content/journals/10.1146/annurev-astro-081811-125610'},\n",
       " {'title': 'The Circumgalactic Medium',\n",
       "  'id': '1709.09180',\n",
       "  'url': 'https://www.annualreviews.org/content/journals/10.1146/annurev-astro-091916-055240'},\n",
       " {'title': 'Observational Evidence of Active Galactic Nuclei Feedback',\n",
       "  'id': '1204.4114',\n",
       "  'url': 'https://www.annualreviews.org/content/journals/10.1146/annurev-astro-081811-125521'}]"
      ]
     },
     "execution_count": 317,
     "metadata": {},
     "output_type": "execute_result"
    }
   ],
   "source": [
    "format_reviews(json_results['response']['docs'])"
   ]
  },
  {
   "cell_type": "code",
   "execution_count": 190,
   "id": "8173d1c5",
   "metadata": {},
   "outputs": [],
   "source": [
    "review_list = [\"\"\"{ \"title\": \"Circumbinary Accretion: From Binary Stars to Massive Binary Black Holes\",\n",
    "                \"id\": \"2211.00028\",\n",
    "                \"url\": \"https://www.annualreviews.org/content/journals/10.1146/annurev-astro-052622-022933\"} \"\"\",\n",
    "                \"\"\"{ \"title\": \"Hydrodynamical Simulations of the Galaxy Population: Enduring Successes and Outstanding Challenges\",\n",
    "                \"id\": \"2309.17075\",\n",
    "                \"url\": \"https://www.annualreviews.org/content/journals/10.1146/annurev-astro-041923-043618\"}\"\"\"]"
   ]
  },
  {
   "cell_type": "code",
   "execution_count": 191,
   "id": "f8edd32b",
   "metadata": {},
   "outputs": [],
   "source": [
    "reviews = [json.loads(text) for text in review_list]"
   ]
  },
  {
   "cell_type": "code",
   "execution_count": 318,
   "id": "0d30ab47",
   "metadata": {},
   "outputs": [],
   "source": [
    "import yaml"
   ]
  },
  {
   "cell_type": "code",
   "execution_count": 322,
   "id": "17eab082",
   "metadata": {},
   "outputs": [
    {
     "name": "stdout",
     "output_type": "stream",
     "text": [
      "araa.json             \u001b[34mcomputer-vision\u001b[m\u001b[m       \u001b[34mraptor\u001b[m\u001b[m\r\n",
      "araa_evals.ipynb      \u001b[34mir-tutorial-notebooks\u001b[m\u001b[m\r\n",
      "\u001b[34margubot\u001b[m\u001b[m               \u001b[34mjhu-mt-hw\u001b[m\u001b[m\r\n"
     ]
    }
   ],
   "source": [
    "!ls"
   ]
  },
  {
   "cell_type": "code",
   "execution_count": 325,
   "id": "f822cb41",
   "metadata": {},
   "outputs": [],
   "source": [
    "with open(\"/users/christineye/retrieval/config.yaml\", 'r') as stream:\n",
    "    api_key = yaml.safe_load(stream)['anthropic_api_key']"
   ]
  },
  {
   "cell_type": "code",
   "execution_count": 23,
   "id": "424cd56e",
   "metadata": {},
   "outputs": [],
   "source": [
    "client = anthropic.Anthropic(api_key = api_key)\n",
    "\n",
    "def generate_query(text):\n",
    "    message = client.messages.create(\n",
    "        model=\"claude-3-5-sonnet-20240620\",\n",
    "        max_tokens=100,\n",
    "        temperature=0,\n",
    "        system=\"\"\"You are an expert astronomer. Given a paragraph from a scientific paper, return a specific research query that the paragraph answers.\n",
    "                    Formulate the question such that it is focused and concise, but covers all topics in the paragraph. \n",
    "                    Be concise and return just the question.\"\"\",\n",
    "        messages=[{ \"role\": \"user\", \n",
    "                   \"content\": [{   \"type\": \"text\",  \"text\": text, } ]}]\n",
    "    )\n",
    "    \n",
    "    return message.content[0].text"
   ]
  },
  {
   "cell_type": "code",
   "execution_count": 24,
   "id": "132cd741",
   "metadata": {},
   "outputs": [
    {
     "data": {
      "text/plain": [
       "'What do numerical simulations reveal about the formation and evolution of circumbinary accretion disks around binary massive black holes following galaxy mergers?'"
      ]
     },
     "execution_count": 24,
     "metadata": {},
     "output_type": "execute_result"
    }
   ],
   "source": [
    "generate_query(review[\"text\"])"
   ]
  },
  {
   "cell_type": "code",
   "execution_count": 41,
   "id": "e0cb3efd",
   "metadata": {},
   "outputs": [],
   "source": [
    "import requests\n",
    "\n",
    "def download_html(url):\n",
    "    req = urllib.request.Request(url)\n",
    "    req.add_header('User-Agent', 'Mozilla/5.0 (Windows NT 10.0; Win64; x64; rv:106.0) Gecko/20100101 Firefox/106.0')\n",
    "    req.add_header('Accept', 'text/html,application/xhtml+xml,application/xml;q=0.9,image/avif,image/webp,*/*;q=0.8')\n",
    "    req.add_header('Accept-Language', 'en-US,en;q=0.5')\n",
    "\n",
    "    r = urllib.request.urlopen(req).read()\n",
    "    soup = BeautifulSoup(r, features=\"html.parser\")\n",
    "    \n",
    "    return soup.get_text()"
   ]
  },
  {
   "cell_type": "code",
   "execution_count": 232,
   "id": "1020c477",
   "metadata": {},
   "outputs": [],
   "source": [
    "nest_asyncio.apply()\n",
    "\n",
    "async def fetch_page_content(url):\n",
    "    async with async_playwright() as playwright:\n",
    "        browser = await playwright.chromium.launch(headless=False)  # Set headless=True if you don't need a browser UI\n",
    "        context = await browser.new_context()\n",
    "        page = await context.new_page()\n",
    "\n",
    "        await page.goto(url)\n",
    "        await page.wait_for_load_state('networkidle')\n",
    "\n",
    "        content = await page.content()\n",
    "\n",
    "        await browser.close()\n",
    "        \n",
    "        soup = BeautifulSoup(content, 'html.parser')\n",
    "        \n",
    "        paragraphs = [md(p.text) for p in soup.find_all('p')]\n",
    "        \n",
    "        return paragraphs\n",
    "\n",
    "async def fetch_multiple_pages(urls):\n",
    "    tasks = [fetch_page_content(url) for url in urls]\n",
    "    return await asyncio.gather(*tasks)\n",
    "\n",
    "def get_page_contents(reviews):\n",
    "    urls = [review[\"url\"] for review in reviews]\n",
    "    return asyncio.run(fetch_multiple_pages(urls))"
   ]
  },
  {
   "cell_type": "code",
   "execution_count": 199,
   "id": "95d04ece",
   "metadata": {},
   "outputs": [],
   "source": [
    "def scrape_citations(text):\n",
    "    patterns = ['([A-Z][a-z´]+)\\s+(\\d{4})', # Name Year\n",
    "                '([A-Z][a-z´]+) et al\\. (\\d{4})', # Name et al. Year\n",
    "                '([A-Z][a-z´]+) et al\\. \\((\\d{4})\\)', # Name et al. (Year)\n",
    "                '([A-Z][a-z´]+) & ([A-Z][a-z]+) (\\d{4})', # Name & Name Year\n",
    "                '([A-Z][a-z´]+) & ([A-Z][a-z]+) \\((\\d{4})\\)',\n",
    "                '([A-Z][a-z´]+),\\s+([A-Z][a-z]+) & ([A-Z][a-z]+) (\\d{4})']\n",
    "    \n",
    "    citations = []\n",
    "    for pattern in patterns:\n",
    "        for match in re.findall(pattern, text):\n",
    "            citations.append(match)\n",
    "    \n",
    "    return citations"
   ]
  },
  {
   "cell_type": "code",
   "execution_count": 200,
   "id": "cb7406d2",
   "metadata": {},
   "outputs": [],
   "source": [
    "def citation_density(content, k, mode = \"topk\", maxn = 12):\n",
    "    num_citations = np.array([len(scrape_citations(p)) for p in content])\n",
    "    \n",
    "    if mode == \"topk\":\n",
    "        indices = np.flip(np.argsort(num_citations))[:k]\n",
    "    elif mode == \"threshold\":\n",
    "        mask = np.logical_and(num_citations >= k, num_citations < maxn)\n",
    "        indices = np.arange(len(content))[mask]\n",
    "    \n",
    "    return np.sort(indices)"
   ]
  },
  {
   "cell_type": "code",
   "execution_count": 201,
   "id": "d8175183",
   "metadata": {},
   "outputs": [],
   "source": [
    "def get_best_paragraphs(content, k, mode = \"threshold\"):\n",
    "    indices = citation_density(content, k, mode)\n",
    "    string = \"\"\n",
    "    \n",
    "    for index in indices:\n",
    "        string += str(index)\n",
    "        string += \": \"\n",
    "        string += content[index]\n",
    "        string += \"\\n\\n\"\n",
    "    \n",
    "    return string"
   ]
  },
  {
   "cell_type": "code",
   "execution_count": 239,
   "id": "cbd26855",
   "metadata": {},
   "outputs": [],
   "source": [
    "def claude_paragraphs(paper):\n",
    "    message = client.messages.create(\n",
    "        model=\"claude-3-5-sonnet-20240620\",\n",
    "        max_tokens=500,\n",
    "        temperature=0,\n",
    "        system=\"\"\"You are an expert astronomer. Given this list of paragraphs from a scientific paper, generate a focused research question for each paragraph.\n",
    "                Formulate the question such that it is focused and concise, but covers all topics in the paragraph. \n",
    "                Then assess which paragraphs are most on-topic and closely related to their research question.\n",
    "                If the question has multiple sub-questions, a good and focused paragraph shoudl address all of them.\n",
    "                Return the 3 best question-paragraph pairs in this format: (index, question).\n",
    "                Be concise and do not include any text before or after the formatted question-answer pairs.\"\"\",\n",
    "                # Also return the 3 paragraphs and corresponding questions that are least on-topic and related to the research question.\n",
    "        messages=[{\"role\": \"user\",\n",
    "                \"content\": [{\"type\": \"text\", \"text\": paper,}] }]\n",
    "    )\n",
    "    \n",
    "    return message"
   ]
  },
  {
   "cell_type": "code",
   "execution_count": 233,
   "id": "dde4a27d",
   "metadata": {},
   "outputs": [],
   "source": [
    "contents = get_page_contents(reviews)"
   ]
  },
  {
   "cell_type": "code",
   "execution_count": 236,
   "id": "c4fa5de6",
   "metadata": {},
   "outputs": [],
   "source": [
    "message = claude_paragraphs(get_best_paragraphs(contents[1], 5))"
   ]
  },
  {
   "cell_type": "code",
   "execution_count": 245,
   "id": "67fcc8d9",
   "metadata": {},
   "outputs": [
    {
     "data": {
      "text/plain": [
       "'(9, How have cosmological simulations of galaxy formation improved over time in reproducing observed galaxy properties, and what key challenges remain?)'"
      ]
     },
     "execution_count": 245,
     "metadata": {},
     "output_type": "execute_result"
    }
   ],
   "source": [
    "message.content[0].text.split('\\n\\n')[1]"
   ]
  },
  {
   "cell_type": "code",
   "execution_count": 238,
   "id": "82690594",
   "metadata": {},
   "outputs": [
    {
     "name": "stdout",
     "output_type": "stream",
     "text": [
      "Here are the 3 best question-paragraph pairs based on relevance and focus:\n",
      "\n",
      "(9, How have cosmological simulations of galaxy formation improved over time in reproducing observed galaxy properties, and what key challenges remain?)\n",
      "\n",
      "(55, How do cosmological simulations model the multiphase structure of the interstellar medium given resolution limitations?)\n",
      "\n",
      "(151, What are the main limitations of current state-of-the-art cosmological simulations of galaxy formation, and what key physical processes are still neglected?)\n"
     ]
    }
   ],
   "source": [
    "print(message.content[0].text)"
   ]
  },
  {
   "cell_type": "code",
   "execution_count": null,
   "id": "6ea1a611",
   "metadata": {},
   "outputs": [],
   "source": [
    "# ask it to consider time?"
   ]
  },
  {
   "cell_type": "code",
   "execution_count": 251,
   "id": "5430aa38",
   "metadata": {},
   "outputs": [],
   "source": [
    "def process_paragraphs(content):\n",
    "    paragraphs = get_best_paragraphs(content, 5)\n",
    "    message = claude_paragraphs(paragraphs)\n",
    "    message = message.content[0].text\n",
    "    \n",
    "    results = []\n",
    "    for pair in message.split('\\n\\n'):\n",
    "        if '(' in pair:\n",
    "            index, question = pair[1:-1].split(',', 1)\n",
    "            paragraph = content[int(index)]\n",
    "            results.append({'question': question, 'paragraph': paragraph, 'citations': scrape_citations(paragraph)})\n",
    "    \n",
    "    return results"
   ]
  },
  {
   "cell_type": "code",
   "execution_count": 252,
   "id": "da08ee18",
   "metadata": {
    "scrolled": false
   },
   "outputs": [
    {
     "data": {
      "text/plain": [
       "[{'question': ' How do circumbinary accretion disks form around young stellar binaries and what have observations revealed about their properties?',\n",
       "  'paragraph': 'Circumbinary accretion disks are a natural byproduct of binary star formation via disk fragmentation (e.g., Bonnell & Bate 1994, Kratter et al. 2008, Offner et al. 2022). A number of these disks have been observed around Class I/II young stellar binaries—well-known examples include GG Tau, DQ Tau, and UZ Tau E (e.g., Dutrey et al. 1994, Mathieu et al. 1997, Phuong et al. 2020)—and recently even around much younger Class 0 objects like L1448 IRS3B (Tobin et al. 2016) and IRAS 16293-2422 A (Maureira et al. 2020). With Atacama Large Millimeter/submillimeter Array (ALMA), many CBDs have been discovered through direct imaging (e.g., Czekala et al. 2021). Recent observations have revealed that the disk can be highly misaligned with the central binary (Kennedy et al. 2019)—an issue we address in Section 5. The observed properties of “mature” stellar binaries (such as the mass ratio distribution) may have been shaped by circumbinary accretion at the earlier (protostellar) phase (see Section 4.2).',\n",
       "  'citations': [('Bate', '1994'),\n",
       "   ('Kratter', '2008'),\n",
       "   ('Offner', '2022'),\n",
       "   ('Dutrey', '1994'),\n",
       "   ('Mathieu', '1997'),\n",
       "   ('Phuong', '2020'),\n",
       "   ('Tobin', '2016'),\n",
       "   ('Maureira', '2020'),\n",
       "   ('Czekala', '2021'),\n",
       "   ('Kennedy', '2019'),\n",
       "   ('Bonnell', 'Bate', '1994')]},\n",
       " {'question': ' How does the mass ratio of a binary affect accretion from a circumbinary disk?',\n",
       "  'paragraph': 'Early SPH simulations of young stellar binaries accreting from gaseous environments (e.g., Bate & Bonnell 1997, Bate 2000, Bate et al. 2002) revealed that the accretion flow depends sensitively on the binary mass ratio q\\nb = M\\n2/M\\n1, and that even over short timescales, the secondary grows in mass faster than the primary (e.g., Bate 2000). Farris et al. (2014) conducted the first systematic study of circumbinary accretion as a function of q\\nb for circular binaries using an early version of the code DISCO. These simulations confirmed the existence of preferential accretion onto the secondary and also found that the time variability of accretion is a function of q\\nb. Using a similar setup, Muñoz et al. (2020) carried out AREPO simulations for q\\nb between 0.1 and 1 until a quasi-steady state was reached. Although they found some quantitative discrepancies with Farris et al. (2014), they confirmed that both preferential accretion and the accretion variability depend on q\\nb.\\n',\n",
       "  'citations': [('Bonnell', '1997'),\n",
       "   ('Bate', '2000'),\n",
       "   ('Bate', '2000'),\n",
       "   ('Bate', '2002'),\n",
       "   ('Farris', '2014'),\n",
       "   ('Farris', '2014'),\n",
       "   ('Bate', 'Bonnell', '1997')]},\n",
       " {'question': ' What discoveries have been made regarding circumbinary planets and what are their key characteristics?',\n",
       "  'paragraph': 'One of the most exciting results in exoplanetary science in recent years was the discovery of CBPs. The Kepler mission has discovered 13 CBPs around 11 eclipsing binaries (e.g., Doyle et al. 2011, Welsh & Orosz 2018, Socia et al. 2020), and the TESS mission has so far (as of Oct. 2022) detected two CBP systems (Kostov et al. 2020, 2021). Most of these are large planets (with radii between 0.3R\\nJ and R\\nJ) in a sub-AU, nearly coplanar orbit around the host binary. A handful of CBP systems have been discovered using gravitational microlensing (OGLE-2007-BLG-349; Bennett et al. 2016), and direct imaging (e.g., HD 106906; Bailey et al. 2014, Lagrange et al. 2016, Rodet et al. 2017). In addition, a number of CBP systems have been inferred using eclipse timing variations of binaries (e.g., NN Serpentis; Qian et al. 2009, Beuermann et al. 2010), although the validity of these planets remains uncertain.',\n",
       "  'citations': [('Orosz', '2018'),\n",
       "   ('Doyle', '2011'),\n",
       "   ('Socia', '2020'),\n",
       "   ('Kostov', '2020'),\n",
       "   ('Bennett', '2016'),\n",
       "   ('Bailey', '2014'),\n",
       "   ('Lagrange', '2016'),\n",
       "   ('Rodet', '2017'),\n",
       "   ('Qian', '2009'),\n",
       "   ('Beuermann', '2010'),\n",
       "   ('Welsh', 'Orosz', '2018')]}]"
      ]
     },
     "execution_count": 252,
     "metadata": {},
     "output_type": "execute_result"
    }
   ],
   "source": [
    "process_paragraphs(contents[0])"
   ]
  },
  {
   "cell_type": "code",
   "execution_count": null,
   "id": "bb84410d",
   "metadata": {},
   "outputs": [],
   "source": []
  }
 ],
 "metadata": {
  "kernelspec": {
   "display_name": "Python 3 (ipykernel)",
   "language": "python",
   "name": "python3"
  },
  "language_info": {
   "codemirror_mode": {
    "name": "ipython",
    "version": 3
   },
   "file_extension": ".py",
   "mimetype": "text/x-python",
   "name": "python",
   "nbconvert_exporter": "python",
   "pygments_lexer": "ipython3",
   "version": "3.9.15"
  }
 },
 "nbformat": 4,
 "nbformat_minor": 5
}
