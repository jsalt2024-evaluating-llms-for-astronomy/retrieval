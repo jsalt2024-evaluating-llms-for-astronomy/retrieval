{
 "cells": [
  {
   "cell_type": "code",
   "execution_count": null,
   "id": "f51e5de1",
   "metadata": {},
   "outputs": [
    {
     "name": "stdout",
     "output_type": "stream",
     "text": [
      "Intel MKL WARNING: Support of Intel(R) Streaming SIMD Extensions 4.2 (Intel(R) SSE4.2) enabled only processors has been deprecated. Intel oneAPI Math Kernel Library 2025.0 will require Intel(R) Advanced Vector Extensions (Intel(R) AVX) instructions.\n",
      "Intel MKL WARNING: Support of Intel(R) Streaming SIMD Extensions 4.2 (Intel(R) SSE4.2) enabled only processors has been deprecated. Intel oneAPI Math Kernel Library 2025.0 will require Intel(R) Advanced Vector Extensions (Intel(R) AVX) instructions.\n"
     ]
    }
   ],
   "source": [
    "import json\n",
    "import re\n",
    "import numpy as np\n",
    "import anthropic\n",
    "import requests\n",
    "from bs4 import BeautifulSoup\n",
    "import nest_asyncio\n",
    "import asyncio\n",
    "from playwright.async_api import async_playwright\n",
    "from markdownify import markdownify as md\n",
    "import yaml"
   ]
  },
  {
   "cell_type": "code",
   "execution_count": 1,
   "id": "1d98806f",
   "metadata": {},
   "outputs": [],
   "source": [
    "ads_token = \"6pmanBZytaNltPsonmdbJATGnDZO7mAxluAxgYfz\""
   ]
  },
  {
   "cell_type": "code",
   "execution_count": 912,
   "id": "8755a676",
   "metadata": {},
   "outputs": [],
   "source": [
    "from urllib.parse import urlencode, quote_plus\n",
    "\n",
    "query = {\"q\": \"bibstem:ara&a\", \"fl\": \"title, year, bibcode, identifier\", \"rows\":1}\n",
    "\n",
    "encoded_query = urlencode(query)\n",
    "\n",
    "results = requests.get(\"https://api.adsabs.harvard.edu/v1/search/query?{}\".format(encoded_query), \\\n",
    "                       headers={'Authorization': 'Bearer ' + ads_token})\n",
    "\n",
    "json_results = results.json()"
   ]
  },
  {
   "cell_type": "code",
   "execution_count": 265,
   "id": "0aafd663",
   "metadata": {
    "scrolled": true
   },
   "outputs": [],
   "source": [
    "with open('araa.json', 'w') as f:\n",
    "    json.dump(json_results, f)"
   ]
  },
  {
   "cell_type": "code",
   "execution_count": 3,
   "id": "2397b829",
   "metadata": {},
   "outputs": [],
   "source": [
    "with open('araa.json', 'r') as f:\n",
    "    json_results = json.load(f)"
   ]
  },
  {
   "cell_type": "code",
   "execution_count": 53,
   "id": "dc6c0755",
   "metadata": {},
   "outputs": [],
   "source": [
    "def pull_arxiv_and_doi(idlist):\n",
    "    arXiv_pattern = r'arXiv:\\d{4}\\.\\d{4}'\n",
    "    arxiv, doi = \"\", \"\"\n",
    "    for item in idlist:\n",
    "        if re.match(arXiv_pattern, item):\n",
    "            arxiv = item.split('arXiv:')[1]\n",
    "        elif '10.1146/annurev' in item:\n",
    "            doi = item\n",
    "    return arxiv, doi"
   ]
  },
  {
   "cell_type": "code",
   "execution_count": 54,
   "id": "67c6cabf",
   "metadata": {},
   "outputs": [],
   "source": [
    "def format_reviews(json_docs, cutoff = 2000):\n",
    "    all_reviews = []\n",
    "    for result in json_docs:\n",
    "        if int(result['year']) > cutoff:\n",
    "            arxiv, doi = pull_arxiv_and_doi(result['identifier'])\n",
    "            if doi != \"\" and arxiv != \"\":\n",
    "                url = \"https://www.annualreviews.org/content/journals/\" + doi\n",
    "                all_reviews.append({'title': result['title'][0], \"id\": arxiv, 'url': url, })\n",
    "    return all_reviews"
   ]
  },
  {
   "cell_type": "code",
   "execution_count": 913,
   "id": "7f4f3c7f",
   "metadata": {
    "scrolled": true
   },
   "outputs": [],
   "source": [
    "reviews = format_reviews(json_results['response']['docs'])"
   ]
  },
  {
   "cell_type": "code",
   "execution_count": 190,
   "id": "8173d1c5",
   "metadata": {},
   "outputs": [],
   "source": [
    "review_list = [\"\"\"{ \"title\": \"Circumbinary Accretion: From Binary Stars to Massive Binary Black Holes\",\n",
    "                \"id\": \"2211.00028\",\n",
    "                \"url\": \"https://www.annualreviews.org/content/journals/10.1146/annurev-astro-052622-022933\"} \"\"\",\n",
    "                \"\"\"{ \"title\": \"Hydrodynamical Simulations of the Galaxy Population: Enduring Successes and Outstanding Challenges\",\n",
    "                \"id\": \"2309.17075\",\n",
    "                \"url\": \"https://www.annualreviews.org/content/journals/10.1146/annurev-astro-041923-043618\"}\"\"\"]"
   ]
  },
  {
   "cell_type": "code",
   "execution_count": 191,
   "id": "f8edd32b",
   "metadata": {},
   "outputs": [],
   "source": [
    "reviews = [json.loads(text) for text in review_list]"
   ]
  },
  {
   "cell_type": "code",
   "execution_count": 322,
   "id": "17eab082",
   "metadata": {},
   "outputs": [
    {
     "name": "stdout",
     "output_type": "stream",
     "text": [
      "araa.json             \u001b[34mcomputer-vision\u001b[m\u001b[m       \u001b[34mraptor\u001b[m\u001b[m\r\n",
      "araa_evals.ipynb      \u001b[34mir-tutorial-notebooks\u001b[m\u001b[m\r\n",
      "\u001b[34margubot\u001b[m\u001b[m               \u001b[34mjhu-mt-hw\u001b[m\u001b[m\r\n"
     ]
    }
   ],
   "source": [
    "!ls"
   ]
  },
  {
   "cell_type": "code",
   "execution_count": 8,
   "id": "f822cb41",
   "metadata": {},
   "outputs": [],
   "source": [
    "with open(\"/users/christineye/retrieval/config.yaml\", 'r') as stream:\n",
    "    api_key = yaml.safe_load(stream)['anthropic_api_key']"
   ]
  },
  {
   "cell_type": "code",
   "execution_count": 9,
   "id": "424cd56e",
   "metadata": {},
   "outputs": [],
   "source": [
    "client = anthropic.Anthropic(api_key = api_key)\n",
    "\n",
    "def generate_query(text):\n",
    "    message = client.messages.create(\n",
    "        model=\"claude-3-5-sonnet-20240620\",\n",
    "        max_tokens=100,\n",
    "        temperature=0,\n",
    "        system=\"\"\"You are an expert astronomer. Given a paragraph from a scientific paper, return a specific research query that the paragraph answers.\n",
    "                    Formulate the question such that it is focused and concise, but covers all topics in the paragraph. \n",
    "                    Be concise and return just the question.\"\"\",\n",
    "        messages=[{ \"role\": \"user\", \n",
    "                   \"content\": [{   \"type\": \"text\",  \"text\": text, } ]}]\n",
    "    )\n",
    "    \n",
    "    return message.content[0].text"
   ]
  },
  {
   "cell_type": "code",
   "execution_count": 24,
   "id": "132cd741",
   "metadata": {},
   "outputs": [
    {
     "data": {
      "text/plain": [
       "'What do numerical simulations reveal about the formation and evolution of circumbinary accretion disks around binary massive black holes following galaxy mergers?'"
      ]
     },
     "execution_count": 24,
     "metadata": {},
     "output_type": "execute_result"
    }
   ],
   "source": [
    "generate_query(review[\"text\"])"
   ]
  },
  {
   "cell_type": "code",
   "execution_count": 10,
   "id": "e0cb3efd",
   "metadata": {},
   "outputs": [],
   "source": [
    "import requests\n",
    "\n",
    "def download_html(url):\n",
    "    req = urllib.request.Request(url)\n",
    "    req.add_header('User-Agent', 'Mozilla/5.0 (Windows NT 10.0; Win64; x64; rv:106.0) Gecko/20100101 Firefox/106.0')\n",
    "    req.add_header('Accept', 'text/html,application/xhtml+xml,application/xml;q=0.9,image/avif,image/webp,*/*;q=0.8')\n",
    "    req.add_header('Accept-Language', 'en-US,en;q=0.5')\n",
    "\n",
    "    r = urllib.request.urlopen(req).read()\n",
    "    soup = BeautifulSoup(r, features=\"html.parser\")\n",
    "    \n",
    "    return soup.get_text()"
   ]
  },
  {
   "cell_type": "code",
   "execution_count": 11,
   "id": "1020c477",
   "metadata": {},
   "outputs": [],
   "source": [
    "nest_asyncio.apply()\n",
    "\n",
    "async def fetch_page_content(url):\n",
    "    async with async_playwright() as playwright:\n",
    "        browser = await playwright.chromium.launch(headless=False)  # Set headless=True if you don't need a browser UI\n",
    "        context = await browser.new_context()\n",
    "        page = await context.new_page()\n",
    "\n",
    "        await page.goto(url)\n",
    "        await page.wait_for_load_state('networkidle')\n",
    "\n",
    "        content = await page.content()\n",
    "\n",
    "        await browser.close()\n",
    "        \n",
    "        soup = BeautifulSoup(content, 'html.parser')\n",
    "        \n",
    "        paragraphs = [md(p.text) for p in soup.find_all('p')]\n",
    "        \n",
    "        return paragraphs\n",
    "\n",
    "async def fetch_multiple_pages(urls):\n",
    "    tasks = [fetch_page_content(url) for url in urls]\n",
    "    return await asyncio.gather(*tasks)\n",
    "\n",
    "def get_page_contents(reviews):\n",
    "    urls = [review[\"url\"] for review in reviews]\n",
    "    return asyncio.run(fetch_multiple_pages(urls))"
   ]
  },
  {
   "cell_type": "code",
   "execution_count": 12,
   "id": "95d04ece",
   "metadata": {},
   "outputs": [],
   "source": [
    "def scrape_citations(text):\n",
    "    patterns = ['([A-Z][a-z´]+)\\s+(\\d{4})', # Name Year\n",
    "                '([A-Z][a-z´]+) et al\\. (\\d{4})', # Name et al. Year\n",
    "                '([A-Z][a-z´]+) et al\\. \\((\\d{4})\\)', # Name et al. (Year)\n",
    "                '([A-Z][a-z´]+) & ([A-Z][a-z]+) (\\d{4})', # Name & Name Year\n",
    "                '([A-Z][a-z´]+) & ([A-Z][a-z]+) \\((\\d{4})\\)',\n",
    "                '([A-Z][a-z´]+),\\s+([A-Z][a-z]+) & ([A-Z][a-z]+) (\\d{4})']\n",
    "    \n",
    "    citations = []\n",
    "    for pattern in patterns:\n",
    "        for match in re.findall(pattern, text):\n",
    "            citations.append(match)\n",
    "    \n",
    "    return citations"
   ]
  },
  {
   "cell_type": "code",
   "execution_count": 13,
   "id": "cb7406d2",
   "metadata": {},
   "outputs": [],
   "source": [
    "def citation_density(content, k, mode = \"topk\", maxn = 12):\n",
    "    num_citations = np.array([len(scrape_citations(p)) for p in content])\n",
    "    \n",
    "    if mode == \"topk\":\n",
    "        indices = np.flip(np.argsort(num_citations))[:k]\n",
    "    elif mode == \"threshold\":\n",
    "        mask = np.logical_and(num_citations >= k, num_citations < maxn)\n",
    "        indices = np.arange(len(content))[mask]\n",
    "    \n",
    "    return np.sort(indices)"
   ]
  },
  {
   "cell_type": "code",
   "execution_count": 14,
   "id": "d8175183",
   "metadata": {},
   "outputs": [],
   "source": [
    "def get_best_paragraphs(content, k, mode = \"threshold\"):\n",
    "    indices = citation_density(content, k, mode)\n",
    "    string = \"\"\n",
    "    \n",
    "    for index in indices:\n",
    "        string += str(index)\n",
    "        string += \": \"\n",
    "        string += content[index]\n",
    "        string += \"\\n\\n\"\n",
    "    \n",
    "    return string"
   ]
  },
  {
   "cell_type": "code",
   "execution_count": 137,
   "id": "cbd26855",
   "metadata": {},
   "outputs": [],
   "source": [
    "def claude_paragraphs(paper):\n",
    "    message = client.messages.create(\n",
    "        model=\"claude-3-5-sonnet-20240620\",\n",
    "        max_tokens=500,\n",
    "        temperature=0,\n",
    "        system=\"\"\"You are an expert astronomer. Given this list of paragraphs from a scientific paper, generate a focused research question for each paragraph.\n",
    "                Formulate the question such that it is focused and concise, but covers all topics in the paragraph. \n",
    "                Then assess which paragraphs are most on-topic and closely related to their research question.\n",
    "                If the question has multiple sub-questions, a good and focused paragraph shoudl address all of them.\n",
    "                Return the 3 best question-paragraph pairs in this format: (index, question).\n",
    "                Do not include any text before or after each (index, question), including any introduction or rationale.\"\"\",\n",
    "                # Also return the 3 paragraphs and corresponding questions that are least on-topic and related to the research question.\n",
    "        messages=[{\"role\": \"user\",\n",
    "                \"content\": [{\"type\": \"text\", \"text\": paper,}] }]\n",
    "    )\n",
    "    \n",
    "    return message"
   ]
  },
  {
   "cell_type": "code",
   "execution_count": 30,
   "id": "0f1d992c",
   "metadata": {},
   "outputs": [
    {
     "data": {
      "text/plain": [
       "161"
      ]
     },
     "execution_count": 30,
     "metadata": {},
     "output_type": "execute_result"
    }
   ],
   "source": [
    "len(reviews) # only after 2000; only with arXiv"
   ]
  },
  {
   "cell_type": "code",
   "execution_count": 75,
   "id": "b362194f",
   "metadata": {
    "scrolled": true
   },
   "outputs": [
    {
     "name": "stdout",
     "output_type": "stream",
     "text": [
      "29\n"
     ]
    },
    {
     "name": "stderr",
     "output_type": "stream",
     "text": [
      "Task exception was never retrieved\n",
      "future: <Task finished name='Task-2622' coro=<Connection.run() done, defined at /Users/christineye/anaconda3/lib/python3.9/site-packages/playwright/_impl/_connection.py:265> exception=KeyboardInterrupt()>\n",
      "Traceback (most recent call last):\n",
      "  File \"/Users/christineye/anaconda3/lib/python3.9/site-packages/IPython/core/interactiveshell.py\", line 3526, in run_code\n",
      "    exec(code_obj, self.user_global_ns, self.user_ns)\n",
      "  File \"/var/folders/kg/0g3xrys53nd6r_vs_7tph9y00000gn/T/ipykernel_4675/2564133765.py\", line 7, in <module>\n",
      "    content = get_page_contents(batch)\n",
      "  File \"/var/folders/kg/0g3xrys53nd6r_vs_7tph9y00000gn/T/ipykernel_4675/4225371177.py\", line 28, in get_page_contents\n",
      "    return asyncio.run(fetch_multiple_pages(urls))\n",
      "  File \"/Users/christineye/anaconda3/lib/python3.9/site-packages/nest_asyncio.py\", line 30, in run\n",
      "    return loop.run_until_complete(task)\n",
      "  File \"/Users/christineye/anaconda3/lib/python3.9/site-packages/nest_asyncio.py\", line 92, in run_until_complete\n",
      "    self._run_once()\n",
      "  File \"/Users/christineye/anaconda3/lib/python3.9/site-packages/nest_asyncio.py\", line 133, in _run_once\n",
      "    handle._run()\n",
      "  File \"/Users/christineye/anaconda3/lib/python3.9/asyncio/events.py\", line 80, in _run\n",
      "    self._context.run(self._callback, *self._args)\n",
      "  File \"/Users/christineye/anaconda3/lib/python3.9/asyncio/tasks.py\", line 256, in __step\n",
      "    result = coro.send(None)\n",
      "  File \"/Users/christineye/anaconda3/lib/python3.9/site-packages/playwright/_impl/_connection.py\", line 272, in run\n",
      "    await self._transport.connect()\n",
      "  File \"/Users/christineye/anaconda3/lib/python3.9/site-packages/playwright/_impl/_transport.py\", line 120, in connect\n",
      "    self._proc = await asyncio.create_subprocess_exec(\n",
      "  File \"/Users/christineye/anaconda3/lib/python3.9/asyncio/subprocess.py\", line 236, in create_subprocess_exec\n",
      "    transport, protocol = await loop.subprocess_exec(\n",
      "  File \"/Users/christineye/anaconda3/lib/python3.9/asyncio/base_events.py\", line 1676, in subprocess_exec\n",
      "    transport = await self._make_subprocess_transport(\n",
      "  File \"/Users/christineye/anaconda3/lib/python3.9/asyncio/unix_events.py\", line 197, in _make_subprocess_transport\n",
      "    transp = _UnixSubprocessTransport(self, protocol, args, shell,\n",
      "  File \"/Users/christineye/anaconda3/lib/python3.9/asyncio/base_subprocess.py\", line 36, in __init__\n",
      "    self._start(args=args, shell=shell, stdin=stdin, stdout=stdout,\n",
      "  File \"/Users/christineye/anaconda3/lib/python3.9/asyncio/unix_events.py\", line 789, in _start\n",
      "    self._proc = subprocess.Popen(\n",
      "  File \"/Users/christineye/anaconda3/lib/python3.9/subprocess.py\", line 951, in __init__\n",
      "    self._execute_child(args, executable, preexec_fn, close_fds,\n",
      "  File \"/Users/christineye/anaconda3/lib/python3.9/subprocess.py\", line 1777, in _execute_child\n",
      "    part = os.read(errpipe_read, 50000)\n",
      "KeyboardInterrupt\n"
     ]
    },
    {
     "name": "stdout",
     "output_type": "stream",
     "text": [
      "30\n",
      "31\n",
      "32\n"
     ]
    }
   ],
   "source": [
    "batch_size = 5\n",
    "\n",
    "for i in range(len(reviews) // batch_size + 1)[29:]:\n",
    "    print(i)\n",
    "    batch = reviews[i * batch_size : i * batch_size + (batch_size - 1)]\n",
    "    content = get_page_contents(batch)\n",
    "\n",
    "    for j, paper in enumerate(content):\n",
    "        if \"institutional or personal subscription\" not in paper[-1]:\n",
    "            review = reviews[i * batch_size + j].copy()\n",
    "            review['text'] = paper\n",
    "            reviews_with_text.append(review)"
   ]
  },
  {
   "cell_type": "code",
   "execution_count": 833,
   "id": "3f81bca8",
   "metadata": {},
   "outputs": [],
   "source": [
    "with open('araa_papers.json', 'w') as f:\n",
    "    for paper in reviews_with_text:\n",
    "        paper_json = json.dumps(paper, indent = 2)\n",
    "        f.write(paper_json)\n",
    "        f.write('\\n')"
   ]
  },
  {
   "cell_type": "code",
   "execution_count": 37,
   "id": "2a05a0c0",
   "metadata": {
    "scrolled": true
   },
   "outputs": [
    {
     "data": {
      "text/plain": [
       "[{'title': 'The Chemical Composition of the Sun',\n",
       "  'id': '0909.0948',\n",
       "  'url': 'https://www.annualreviews.org/content/journals/10.1146/annurev.astro.46.060407.145222'},\n",
       " {'title': 'Coevolution (Or Not) of Supermassive Black Holes and Host Galaxies',\n",
       "  'id': '1304.7762',\n",
       "  'url': 'https://www.annualreviews.org/content/journals/10.1146/annurev-astro-082708-101811'},\n",
       " {'title': 'Cosmic Star-Formation History',\n",
       "  'id': '1403.0007',\n",
       "  'url': 'https://www.annualreviews.org/content/journals/10.1146/annurev-astro-081811-125615'},\n",
       " {'title': 'Star Formation in the Milky Way and Nearby Galaxies',\n",
       "  'id': '1204.3552',\n",
       "  'url': 'https://www.annualreviews.org/content/journals/10.1146/annurev-astro-081811-125610'},\n",
       " {'title': 'The Circumgalactic Medium',\n",
       "  'id': '1709.09180',\n",
       "  'url': 'https://www.annualreviews.org/content/journals/10.1146/annurev-astro-091916-055240'},\n",
       " {'title': 'Observational Evidence of Active Galactic Nuclei Feedback',\n",
       "  'id': '1204.4114',\n",
       "  'url': 'https://www.annualreviews.org/content/journals/10.1146/annurev-astro-081811-125521'},\n",
       " {'title': 'Theory of Star Formation',\n",
       "  'id': '0707.3514',\n",
       "  'url': 'https://www.annualreviews.org/content/journals/10.1146/annurev.astro.45.051806.110602'},\n",
       " {'title': 'The CO-to-H<SUB>2</SUB> Conversion Factor',\n",
       "  'id': '1301.3498',\n",
       "  'url': 'https://www.annualreviews.org/content/journals/10.1146/annurev-astro-082812-140944'},\n",
       " {'title': 'The Galaxy in Context: Structural, Kinematic, and Integrated Properties',\n",
       "  'id': '1602.07702',\n",
       "  'url': 'https://www.annualreviews.org/content/journals/10.1146/annurev-astro-081915-023441'},\n",
       " {'title': 'Small-Scale Challenges to the ΛCDM Paradigm',\n",
       "  'id': '1707.04256',\n",
       "  'url': 'https://www.annualreviews.org/content/journals/10.1146/annurev-astro-091916-055313'}]"
      ]
     },
     "execution_count": 37,
     "metadata": {},
     "output_type": "execute_result"
    }
   ],
   "source": [
    "reviews[:10]"
   ]
  },
  {
   "cell_type": "code",
   "execution_count": 236,
   "id": "c4fa5de6",
   "metadata": {},
   "outputs": [],
   "source": [
    "message = claude_paragraphs(get_best_paragraphs(contents[1], 5))"
   ]
  },
  {
   "cell_type": "code",
   "execution_count": 245,
   "id": "67fcc8d9",
   "metadata": {},
   "outputs": [
    {
     "data": {
      "text/plain": [
       "'(9, How have cosmological simulations of galaxy formation improved over time in reproducing observed galaxy properties, and what key challenges remain?)'"
      ]
     },
     "execution_count": 245,
     "metadata": {},
     "output_type": "execute_result"
    }
   ],
   "source": [
    "message.content[0].text.split('\\n\\n')[1]"
   ]
  },
  {
   "cell_type": "code",
   "execution_count": 238,
   "id": "82690594",
   "metadata": {},
   "outputs": [
    {
     "name": "stdout",
     "output_type": "stream",
     "text": [
      "Here are the 3 best question-paragraph pairs based on relevance and focus:\n",
      "\n",
      "(9, How have cosmological simulations of galaxy formation improved over time in reproducing observed galaxy properties, and what key challenges remain?)\n",
      "\n",
      "(55, How do cosmological simulations model the multiphase structure of the interstellar medium given resolution limitations?)\n",
      "\n",
      "(151, What are the main limitations of current state-of-the-art cosmological simulations of galaxy formation, and what key physical processes are still neglected?)\n"
     ]
    }
   ],
   "source": [
    "print(message.content[0].text)"
   ]
  },
  {
   "cell_type": "code",
   "execution_count": 164,
   "id": "03275cf6",
   "metadata": {},
   "outputs": [
    {
     "data": {
      "text/plain": [
       "{'title': 'Theory of Star Formation',\n",
       " 'id': '0707.3514',\n",
       " 'url': 'https://www.annualreviews.org/content/journals/10.1146/annurev.astro.45.051806.110602',\n",
       " 'text': ['We use cookies to track usage and preferences.I Understand',\n",
       "  'We review current understanding of star formation, outlining an overall theoretical framework and the observations that motivate it. A conception of star formation has emerged in which turbulence plays a dual role, both creating overdensities to initiate gravitational contraction or collapse, and countering the effects of gravity in these overdense regions. The key dynamical processes involved in star formation—turbulence, magnetic fields, and self-gravity—are highly nonlinear and multidimensional. Physical arguments are used to identify and explain the features and scalings involved in star formation, and results from numerical simulations are used to quantify these effects. We divide star formation into large-scale and small-scale regimes and review each in turn. Large scales range from galaxies to giant molecular clouds (GMCs) and their substructures. Important problems include how GMCs form and evolve, what determines the star formation rate (SFR), and what determines the initial mass function (IMF). Small scales range from dense cores to the protostellar systems they beget. We discuss formation of both low- and high-mass stars, including ongoing accretion. The development of winds and outflows is increasingly well understood, as are the mechanisms governing angular momentum transport in disks. Although outstanding questions remain, the framework is now in place to build a comprehensive theory of star formation that will be tested by the next generation of telescopes.',\n",
       "  'Article metrics loading...',\n",
       "  'We review current understanding of star formation, outlining an overall theoretical framework and the observations that motivate it. A conception of star formation has emerged in which turbulence plays a dual role, both creating overdensities to initiate gravitational contraction or collapse, and countering the effects of gravity in these overdense regions. The key dynamical processes involved in star formation—turbulence, magnetic fields, and self-gravity—are highly nonlinear and multidimensional. Physical arguments are used to identify and explain the features and scalings involved in star formation, and results from numerical simulations are used to quantify these effects. We divide star formation into large-scale and small-scale regimes and review each in turn. Large scales range from galaxies to giant molecular clouds (GMCs) and their substructures. Important problems include how GMCs form and evolve, what determines the star formation rate (SFR), and what determines the initial mass function (IMF). Small scales range from dense cores to the protostellar systems they beget. We discuss formation of both low- and high-mass stars, including ongoing accretion. The development of winds and outflows is increasingly well understood, as are the mechanisms governing angular momentum transport in disks. Although outstanding questions remain, the framework is now in place to build a comprehensive theory of star formation that will be tested by the next generation of telescopes.',\n",
       "  'Stars are the “atoms” of the universe, and the problem of how stars form is at the nexus of much of contemporary astrophysics. By transforming gas into stars, star formation determines the structure and evolution of galaxies. By tapping the nuclear energy in the gas left over from the Big Bang, it determines the luminosity of galaxies and, quite possibly, leads to the reionization of the Universe. Most of the elements—including those that make up the world around us—are formed in stars. Finally, the process of star formation is inextricably tied up with the formation and early evolution of planetary systems.',\n",
       "  'The problem of star formation can be divided into two broad categories: microphysics and macrophysics. The microphysics of star formation deals with how individual stars (or binaries) form. Do stars of all masses acquire most of their mass via gravitational collapse of a single dense core? How are the properties of a star or binary determined by the properties of the medium from which it forms? How does the gas that goes into a protostar lose its magnetic flux and angular momentum? How do massive stars form in the face of intense radiation pressure? What are the properties of the protostellar disks, jets, and outflows associated with young stellar objects (YSOs), and what governs their dynamical evolution?',\n",
       "  'The macrophysics of star formation deals with the formation of systems of stars, ranging from clusters to galaxies. How are giant molecular clouds (GMCs), the loci of most star formation, themselves formed out of diffuse interstellar gas? What processes determine the distribution of physical conditions within star-forming regions, and why does star formation occur in only a small fraction of the available gas? How is the rate at which stars form determined by the properties of the natal GMC or, on a larger scale, of the interstellar medium (ISM) in a galaxy? What determines the mass distribution of forming stars: Is it the initial mass function (IMF)? Most stars form in clusters (Lada & Lada 2003); how do stars form in such a dense environment and in the presence of enormous radiative and mechanical feedback from other YSOs?',\n",
       "  'Many of these questions, particularly those related to the microphysics of star formation, were discussed in the classic review by Shu, Adams & Lizano (1987). Much has changed since then. Observers have made enormous strides in characterizing star formation on all scales and in determining the properties of the medium from which stars form. Aided by powerful computers, theorists have been able to numerically model the complex physical and chemical processes associated with star formation in three dimensions. Perhaps most important, a new paradigm has emerged, in which large-scale, supersonic turbulence governs the macrophysics of star formation.',\n",
       "  'This review focuses on the advances made in star formation since 1987, with an emphasis on the role of turbulence. Recent relevant reviews include those on the physics of star formation (Larson 2003), and on the role of supersonic turbulence in star formation (Mac Low & Klessen 2004, Ballesteros-Paredes et al. 2007). The review by Zinnecker & Yorke (2007, in this volume) provides a different perspective on high-mass star formation, while that by Bergin & Tafalla (2007, in this volume) gives a more detailed description of dense cores just prior to star formation. Because the topic is vast, we must necessarily exclude a number of relevant topics from this review: primordial star formation (see Bromm & Larson 2004), planet formation, astrochemistry, the detailed physics of disks and outflows, radiative transfer, and the properties of YSOs.',\n",
       "  'In Section 2, we begin with an overview of basic physical processes and scales involved in star formation, covering turbulence (Section 2.1), self gravity (2.2), and magnetic fields (2.3). In Section 3, we review the macrophysics of star formation, focusing on the physical state of GMCs, clumps, and cores (3.1); the formation, evolution, and destruction of GMCs (3.2); core mass functions and the IMF (3.3); and the large-scale rate of star formation (3.4). Section 4 reviews the microphysics of star formation, covering low-mass star formation (4.1), disks and winds (4.2), and high-mass star formation (4.3). We conclude in Section 5 with an overview of the star-formation process.',\n",
       "  'As emphasized in Section 1, many of the advances in the theory of star formation since the review by Shu, Adams & Lizano (1987) have been based on realistic evaluation and incorporation of the effects of turbulence. Turbulence is in fact important in essentially all branches of astrophysics that involve gas dynamics, and many communities have contributed to the recent progress in understanding and characterizing turbulence in varying regimes. [Chandrasekhar (1949) presaged this development, in choosing the then-new theory of turbulence as the topic of his Henry Norris Russell prize lecture.] Here, we concentrate on the parameter regimes of turbulence applicable within the cold interstellar medium and the physical properties of these flows that appear particularly influential for controlling star formation.',\n",
       "  'Our discussion provides an overview only; pointers are given to excellent recent reviews that summarize the large and growing literature on this subject. General references include Frisch (1995), Biskamp (2003), and Falgarone & Passot (2003). A much more extensive literature survey and discussion of interstellar turbulence, including both diffuse-ISM and dense-ISM regimes, is presented by Elmegreen & Scalo (2004) and Scalo & Elmegreen (2004). A recent review focusing on the detailed physics of turbulent cascades in magnetized plasmas is Schekochihin & Cowley (2005).',\n",
       "  'Turbulence is defined by the Oxford English Dictionary as a state of “violent commotion, agitation, or disturbance,” with a turbulent fluid further defined as one “in which the velocity at any point fluctuates irregularly.” Although turbulence is, by definition, an irregular state of motion, a central concept is that order nevertheless persists as scale-dependent spatial correlations among the flow variables. These correlations can be measured in many ways; common mathematical descriptions include autocorrelation functions, structure functions, and power spectra.',\n",
       "  'One of the most fundamental quantities, which is also one of the most intuitive to understand, is the root mean square (RMS) velocity difference between two points separated by a distance r. With the velocity structure function of order p defined as \\n\\n, this quantity is given as \\n\\n. The autocorrelation function of the velocity is related to the structure function: \\n\\n; note that the autocorrelation with zero lag is A(0) = 〈|v|2〉, as S\\n2 (0) = 0. The power spectrum of velocity, P(k) ≡ |v(k)|2, is the Fourier transform of the autocorrelation function. For zero mean velocity, the velocity dispersion averaged over a volume ℓ3, σ\\nv\\n (ℓ)2, is equal to the power spectrum integrated with k\\nmin = 2π/ℓ. If turbulence is isotropic and the system in which it is observed is spatially symmetric with each dimension ≈ℓ, then the 1D velocity dispersion along a given line of sight (a direct observable) will be related to the 3D velocity dispersion by \\n\\n. Analogous structure functions, correlation functions, and power spectra can also be defined for the magnetic field, as well as other fluid variables, including the density (see Section 2.1.4). Delta-variance techniques provide similar information, and are particularly useful for reducing edge effects when making comparisons with observational data (Bensch, Stutzki & Ossenkopf 2001).',\n",
       "  'For isotropic turbulence, Sp\\n and A are functions only of r = |r|, and P is a function only of k = |k|. The Fourier amplitude |v(k)| is then (on average) only a function of ℓ = 2π/k, and can be denoted by v(ℓ); to emphasize that these velocities are perturbations about a background state, the amplitude of a given Fourier component is often written as δ v(k) or δ v(ℓ). When there is a large dynamic range between the scales associated with relevant physical parameters (see Section 2.1.3), correlations often take on power-law forms. If P(k) ∝ k\\n−n\\n for an isotropic flow, then',\n",
       "  'with q = (n − 3)/2. Sometimes indices n′ of 1D (angle-averaged), rather than 3D, power spectra are reported; these are related by n′ = n − 2.',\n",
       "  'The turbulent scaling relations reflect the basic physics governing the flow. The classical theory of Kolmogorov (1941) applies to incompressible flow, i.e., when the velocities are negligible compared to the thermal speed σth = (P\\nth/ρ)1/2 (where ρ is the density and P\\nth is the thermal pressure); σth is equal to the sound speed cs\\n = (γ Pth\\n/ρ)1/2 in an isothermal (γ = 1) gas. In incompressible flows, energy is dissipated and turbulent motions are damped only for scales smaller than the Reynolds scale ℓν at which the viscous terms in the hydrodynamic equations, ∼ν v(ℓ)/ℓ2, exceed the nonlinear coupling terms between scales, ∼v(ℓ)2/ℓ; here ν is the kinematic viscosity. At scales large compared to ℓν, and small compared to the system as a whole, the rate of specific energy transfer \\n\\n between scales is assumed to be conserved, and equal to the dissipation rate at the Reynolds scale. From dimensional analysis, \\n\\n, which implies n = 11/3 and q = 1/3 for the so-called inertial range in Kolmogorov turbulence. The Kolmogorov theory includes the exact result that \\n\\n.',\n",
       "  'Because velocities \\n\\n in molecular clouds are in general not small compared to cs\\n, at least for sufficently large ℓ, one cannot expect the Kolmogorov theory to apply. In particular, some portion of the energy at a given scale must be directly dissipated via shocks, rather than cascading conservatively through intermediate scales until ℓν is reached. In the limit of zero pressure, the system would consist of a network of (overlapping) shocks; this state is often referred to as Burgers turbulence (Frisch & Bec 2001). Because the power spectrum corresponding to a velocity discontinuity in one dimension has P(k) ∝ k\\n−2, an isotropic system of shocks in three dimensions would also yield power-law scalings for the velocity correlations, with n = 4 and q = 1/2. Note that correlations can take on a power-law form even if there is not a conservative inertial cascade; a large range of spatial scales with consistent physics is still required.',\n",
       "  'Turbulence in a magnetized system must differ from the unmagnetized case because of the additional wave families and nonlinear couplings involved, as well as the additional diffusive processes—including resistive and ion-neutral drift terms (see Section 2.1.3). When the magnetic field B is strong, in the sense that the Alfvén speed \\n\\n satisfies \\n\\n, a directionality is introduced such that the correlations of the flow variables may depend differently on r\\n||, r\\n⊥, k\\n||, and k\\n⊥, the displacement and wavevector components parallel and perpendicular to \\n\\n.',\n",
       "  'For incompressible magnetohydrodynamics (MHD) turbulence, Goldreich & Sridhar (1995) introduced the idea of a critically balanced anisotropic cascade, in which the nonlinear mixing time perpendicular to the magnetic field and the propagation time along the magnetic field remain comparable for wavepackets at all scales, so that \\n\\n. Interactions between oppositely directed Alfvén wavepackets traveling along magnetic fields cannot change their parallel wavenumbers \\n\\n, so that the energy transfers produced by these collisions involve primarily k\\n⊥; i.e., the cascade is through spatial scales ℓ⊥ = 2π/k\\n⊥, with v(ℓ⊥)3/ℓ⊥ ∼ constant. Combining critical balance with a perpendicular cascade yields anisotropic power spectra (larger in the k\\n⊥ direction); at a given level of power, the theory predicts k\\n|| ∝ k\\n⊥\\n2/3. Magnetic fields and velocities are predicted to have the same power spectra.',\n",
       "  'Unfortunately, for the case of strong compressibility (cs\\n ^Lt; v) and moderate or strong magnetic fields (cs\\n ≪ v\\nA ≲ v), which generally applies within molecular clouds, there is as yet no simple conceptual theory to characterize the energy transfer between scales and to describe the spatial correlations in the velocity and magnetic fields. On global scales, the flow may be dominated by large-scale (magnetized) shocks that directly transfer energy from macroscopic to microscopic degrees of freedom. Even if velocity differences are not sufficient to induce (magnetized) shocks, for trans-sonic motions compressibility implies strong coupling among all the MHD wave families. However, within a sufficiently small subvolume of a cloud (and away from shock interfaces), velocity differences may be sufficiently subsonic that the incompressible MHD limit and the Alfvénic cascade approximately holds locally.',\n",
       "  'Even without direct energy transfer from large to small scales in shocks, a key property of turbulence not captured in classical models is intermittency effects—the strong (space-time) localization of dissipation in vortex sheets or filaments, which can occur even with a conservative energy cascade. (Shocks in compressible flows represent a different class of intermittent structures.) Signatures of intermittency are particularly evident in departures of high-order structure function exponents from the value p/3, and in non-Gaussian tails of velocity-increment probability distribution functions (PDFs) (e.g., Lis et al. 1996, Sreenivasan & Antonia 1997). Proposed methods to account for intermittency in predicting correlation functions for incompressible, unmagnetized turbulence have been discussed by She & Leveque (1994) and Dubrulle (1994). Boldyrev (2002) proposed an adaptation of this framework for the compressible MHD case, but omitted direct dissipation of large-scale modes in shocks. Research on formal turbulence theory is quite active (see Elmegreen & Scalo 2004 for a review of the recent theoretical literature relevant to the ISM), although a comprehensive framework remains elusive.',\n",
       "  'Large-scale numerical simulations afford a complementary theoretical approach to model turbulence and to explore the spatial correlations within flows. Numerical experiments can be used to test formal theoretical proposals, and to provide controlled, quantitative means to interpret observations—within the context of known physics—when formal theories are either nonexistant or limited in detail. In drawing on the results of numerical experiments, it is important to ensure that the computational techniques employed adequately capture the relevant dynamical processes. For systems in which there are steep gradients of velocities and densities, grid-based methods are more accurate in following details of the evolving flow (such as development of instabilities) than smooth particle hydrodynamics (SPH) methods, which have been shown to have difficulty capturing shocks and other discontinuities (Agertz et al. 2007, submitted).',\n",
       "  'Spatial correlations within turbulent flows have been evaluated using numerical simulations in a variety of regimes. Overall, results are consistent with theoretical predictions in that power-law scalings in the velocity and magnetic field power spectra (or structure functions) are clear when there is sufficient numerical resolution to separate driving and dissipative scales. At resolutions of 5123 and above, results with a variety of numerical methods show angle-averaged power-law slopes n = 7/2-11/3 (i.e., 3.5-3.67) for incompressible (i.e., v/cs\\n ≪ 1) MHD flows (Müller, Biskamp & Grappin 2003; Haugen, Brandenburg & Dobler 2004; Müller & Grappin 2005) and n = 3.5 − 4.0 for strongly compressible (v/cs\\n ≳ 5) flows both with (Vestuto et al. 2003, Padoan et al. 2007) and without (Kritsuk, Norman & Padoan 2006) magnetic fields. Consistent with expectations, spectra are steeper for compressive velocity components than for magnetic fields (and also sheared velocity components if the magnetic field is moderate or strong), and steeper for more supersonic and/or more weakly magnetized models (see also Boldyrev, Nordlund & Padoan 2002; Padoan et al. 2004).',\n",
       "  'When strong mean magnetic fields are present, there is clear anisotropy in the power spectrum, generally consistent with the scaling prediction of Goldreich & Sridhar (1995), for both incompressible and compressible MHD turbulence (Cho & Vishniac 2000; Maron & Goldreich 2001; Cho, Lazarian & Vishniac 2002a; Cho & Lazarian 2003; Vestuto, Ostriker & Stone 2003).',\n",
       "  'In order to identify the sources of turbulence in astronomical systems, it is also important to determine the behavior of velocity and magnetic field correlations on spatial scales larger than the driving scale. Numerical simulations, both for incompressible (Maron & Goldreich 2001; Haugen, Brandenburg & Dobler 2004) and compressible MHD turbulence (Vestuto, Ostriker & Stone 2003), show that the power spectra below the driving wavenumber scale are nearly flat, n ≈ 0; that is, inverse cascade effects are limited. For spatially localized forcing (rather than forcing localized in k-space), Nakamura & Li (2007) also found a break in the power spectrum, at wavelength comparable to the momentum injection scale. Thus, the forcing scale for internally driven turbulence in a system can be inferred observationally from the peak or knee of the velocity correlation function. If v(ℓ) continues to rise up to ℓ ∼ L, the overall scale of a system, this implies that turbulence is either (a) externally driven, (b) imposed in the initial conditions when the system is formed, or (c) driven internally to reach large scales. Note that for systems forced at multiple scales, or both internally and externally, breaks may be evident in the velocity correlation function (or power spectrum).',\n",
       "  'Recent numerical simulations under quite disparate physical regimes have reached remarkably similar conclusions for the dissipation rates of turbulence. On dimensional grounds, the specific energy dissipation rate should equal ε U\\n3/ℓ0, where E = U\\n2/2 is the total specific kinetic energy, ℓ0 is the spatial wavelength of the main energy-containing scale (comparable to the driving scale for forced turbulence; ℓ0 ≤ L), and ε is a dimensionless coefficient. For incompressible turbulence, the largest-scale (40963 zones) incompressible, unmagnetized, driven-turbulence simulations to date (Kaneda et al. 2003) yield a dimensionless dissipation coefficent ε = 0.6. For driven incompressible MHD turbulence (at 10243 resolution), the measured dimensionless dissipation rate \\n\\n also works out to be ε = 0.6 (Haugen, Brandenburg & Dobler 2004). Quite comparable results also hold for strongly compressible (U/cs\\n = 5) turbulence at a range of magnetizations v\\nA/cs\\n = 0-10; Stone, Ostriker & Gammie (1998) found that ε = 0.6 − 0.7 for simulations at resolution up to 5123 zones. For decaying compressible MHD turbulence, damping timescales are also comparable to the flow crossing time ℓ0/v(ℓ0) on the energy-containing scale (Mac Low et al. 1998; Stone, Ostriker & Gammie 1998; Mac Low 1999; Padoan & Nordlund 1999). Thus, although very different physical processes are involved in turbulence dissipation under different circumstances, the overall damping rates summed over all available channels (including shock, reconnection, and shear structures) are nevertheless quite comparable. Defining the turbulent dissipation timescale as \\n\\n and the flow crossing time over the main energy-containing scale as tf\\n = ℓ0/U, t\\ndiss = tf\\n/(2ε). Because velocities in GMCs increase up to the largest scale, ℓ0 → d, the cloud diameter. Assuming that on average \\n\\n, the turbulent dissipation time based on numerical results is therefore given by',\n",
       "  'This result is in fact consistent with the assumption of Mestel & Spitzer (1956) that turbulence in GMCs would decay within a crossing time.',\n",
       "  'The above results apply to homogenous, isotropic turbulence, but under certain circumstances if special symmetries apply, turbulent damping rates may be lower. One such case is for incompressible turbulence consisting of Alfvén waves all propagating in the same direction along the magnetic field. Note that for the incompressibility condition ∇ ⋅ v = 0 to apply, turbulent amplitudes must be quite low (v ≪ cs\\n). Because Alfvén waves are exact solutions of the incompressible MHD equations, no nonlinear interactions, and hence no turbulent cascade, can develop if only waves with a single propagation direction are present in this case (see, e.g., Chandran 2004 for a mathematical and physical discussion). A less extreme situation is to have an imbalance in the flux of Alfvén waves propagating upward and downward along a given magnetic field direction. Maron & Goldreich (2001) show that in decaying incompressible MHD turbulence, the power in both upward- and downward-propagating components decreases together until the lesser component is depleted. Cho, Lazarian & Vishniac (2002a) quantify decay times of imbalanced incompressible turbulence, finding for example that if the initial imbalance is ≈50% or ≈70%, then the time to decay to half the initial energy is increased by a factor 1.5 or 2.3, respectively, compared to the case of no imbalance.',\n",
       "  'For even moderate-amplitude subsonic velocities, however, Alfvén waves couple to other wave families, and the purely Alfvénic cascade is lost. For strongly supersonic motions, as are present in GMCs, the mode coupling is quite strong. As a consequence, even a single circularly polarized Alfvén wave cannot propagate without losses; a parametric instability known as the decay instability (Sagdeev & Galeev 1969) develops in which three daughter waves (a forward-propagating compressive wave and two oppositely propagating Alfvén waves when β ≪ 1) grow at the expense of the mother wave. The initial growth rate of the instability is γ = (0.1-0.3)kvA when v(k)/cs\\n = 1 − 3 and β ≡ 2cs\\n\\n2/v\\nA\\n2 = 0.2, and larger for greater amplitudes and smaller β (Goldstein 1978). The ultimate result is decay into fully developed turbulence (Ghosh & Goldstein 1994; Del Zanna, Velli & Londrillo 2001). Thus, for conditions that apply within GMCs, even if there were a localized source of purely Alfvénic waves (i.e., initially 100% imbalanced), the power would rapidly be converted to balanced, broad-spectrum turbulence with a short decay time. The conclusion that turbulent damping times within GMCs are expected to be comparable to flow crossing times has important implications for understanding evolution in star-forming regions; these are discussed in Sections 3.1 and 3.2.2.',\n",
       "  'In classical incompressible turbulence, the only physical scales that enter are the outer scale ℓ0 at which the medium is stirred, and the inner Reynolds scale ℓν at which viscous dissipation occurs. Assuming Kolmogorov scaling ν(ℓ) = ν(ℓ0)(ℓ/ℓ0)1/3\\n\\n[for ν(ℓ) ∼ σν (ℓ) ∼ Δ ν(ℓ)], the dissipation scale is',\n",
       "  'Here Re ≡ v(ℓ0)ℓ0/ν is the overall Reynolds number of the flow; if turbulence increases up to the largest scales then Re = UL/ν. With ν ∼ cs\\n λmfp for λmfp, the mean free path for particle collisions, \\n\\n. In fact, the velocity-size scaling within GMCs has power-law index q closer to 1/2 than 1/3 on large scales, because large-scale velocities are supersonic and therefore the compressible-turbulence results apply. Allowing for a transition from q = 1/2 to q = 1/3 at an intermediate scale ℓ\\ns\\n where v(ℓ\\ns\\n) = cs\\n (see below), \\n\\n. Using typical GMC parameters so that \\n\\n and ℓ\\ns\\n = 0.03 pc yields \\n\\n. This is tiny compared to the sizes, ∼0.1 pc, of self-gravitating cores in which individual stars form.',\n",
       "  'The length ℓ\\ns\\n introduced above marks the scale at which the RMS turbulent velocity is equal to the sound speed. At larger scales, velocities are supersonic and compressions are strong; at smaller scales, velocities are subsonic and compressions are weak. Taking \\n\\n, the sonic scale is \\n\\n, or \\n\\n when q ≈ 1/2. Density perturbations with characteristic scales ∼ℓ\\ns\\n will have order-unity amplitude in an unmagnetized medium. In a magnetized medium, the amplitude of the perturbation imposed by a flow of speed v will depend on the direction of the flow relative to the magnetic field. Flows along the magnetic field will be as for an unmagnetized medium, whereas flows perpendicular to the magnetic field will create order-unity density perturbations only if \\n\\n. Note that the thermal scale, at which the line-of-sight turbulent velocity dispersion \\n\\n is equal to the 1D thermal speed σth, is larger than ℓ\\ns\\n by a factor of ∼3.',\n",
       "  'Another scale that is important for MHD turbulence in fully-ionized gas is the resistive scale; below this scale Ohmic diffusion would smooth out strong bends in the magnetic field, or would allow folded field lines to reconnect. The resistive scale ℓη is estimated by equating the diffusion term ∼η B(ℓ)/(4π ℓ2) to the flux-dragging term ∼v(ℓ)B(ℓ)/ℓ in the magnetic induction equation. Defining the magnetic Reynolds number as Rm ≡ ν(ℓ0)ℓ0 4π/η, and taking v(ℓ) ∼ cs\\n (ℓ/ℓ\\ns\\n)1/3 at small scales, this yields ℓη/ℓν = (Re/Rm)3/4. Because the magnetic Prandtl number Rm/Re is very large (∼106), the magnetic field could, for a highly-ionized medium, remain structured at quite small scales (see Cho, Lazarian & Vishniac 2002b for discussion of this in the diffuse ISM).',\n",
       "  'In fact, under the weakly-ionized conditions in star-forming regions, ambipolar diffusion (ion-neutral drift) becomes important well before the resistive (or Ohmic diffusion) scale is reached. Physically, the characteristic ambipolar diffusion scale ℓ\\nAD\\n is the smallest scale for which the magnetic field (which is frozen to the ions) is well coupled to the bulk of the gas for a partially ionized medium. An estimate of ℓ\\nAD\\n is obtained by equating the ion-neutral drift speed, \\n\\n, with the turbulent velocity, δ v. Here, \\n\\n is the ion-neutral collision rate coefficient (Draine, Roberge & Dalgarno 1983), and mi m and ρi ρ are the ion and neutral mass, and ion and neutral density. The resulting ambipolar diffusion scale, assuming mi\\n ≫ m (for either metal or molecular cations) and \\n\\n, is',\n",
       "  'Here, v\\nA is the Alfvén speed associated with the large-scale magnetic field B\\n0.',\n",
       "  'The ambipolar diffusion scale (Equation 4) depends critically on the fractional ionization, which varies greatly within star-forming regions. Regions with moderate AV\\n ≲ 5 can have relatively large ionization fraction owing to UV photoionization, whereas regions with large AV\\n are ionized primarily by cosmic rays (see Section 2.3.1). For example, if the electrons are attached to polycyclic aromatic hydrocarbons (PAHs) in dense cores, the ion density is \\n\\n (Tielens 2005), where ζCR is the cosmic-ray ionization rate per H atom. Because ni\\n ∝ n\\n1/2, we can express Equation 4 in terms of column density and magnetic-field strength as \\n\\n.',\n",
       "  'For spatial wavelengths λ = 2π/k < π ℓ\\nAD\\n, MHD waves are unable to propagate in the coupled neutral-ion fluid, because the collision frequency of neutrals with ions, ni\\n α\\nin\\n, is less than (half) the wave frequency ω = kv\\nA. For λ > π ℓ\\nAD\\n, MHD waves are damped at a rate of ω π ℓ\\nAD\\n/λ (Kulsrud & Pearce 1969). Thus, at scales ℓ ≲ ℓ\\nAD\\n, the magnetic field will be essentially straight and uniform in magnitude, and any further turbulent cascade will be as for an unmagnetized medium. The scale ℓ\\nAD\\n is also comparable to the thickness of the C-type shocks that are typical under prevailing conditions within GMCs (Draine & McKee 1993). Further discussion of the interaction between turbulence and ambipolar diffusion is given by Zweibel (2002), Fatuzzo & Adams (2002), and Heitsch et al. (2004).',\n",
       "  'When turbulent velocities at a given scale are supersonic, they impose density variations within the flow at that scale. For star-forming regions, in which turbulent velocities are increasingly supersonic for scales ≳ 0.1 pc, the density becomes strongly structured over a wide range of scales (\\nFigure 1\\n). This density structure—which is crucial to the star-formation process—can be characterized statistically in a variety of ways.',\n",
       "  '',\n",
       "  '\\n Figure 1\\u2002\\n Click to view',\n",
       "  '',\n",
       "  'The simplest (one-point) statistic is the distribution of mass (or volume) as a function of density, usually referred to as the density PDF (probability density function). For isothermal gas and supersonic turbulence (either forced or decaying), a number of 3D numerical simulations both with (Ostriker, Stone & Gammie 2001; Ostriker 2003; Li et al. 2004) and without (Nordlund & Padoan 1999, Klessen 2000) magnetic fields have shown that the density PDF approaches a log-normal distribution when self-gravity is unimportant. This functional form can be understood (Vázquez-Semadeni 1994, Passot & Vázquez-Semadeni 1998) to arise as a consequence of multiple, independent dynamical events that alter the density according to \\n\\n, where δ\\ni\\n is > 0 (or < 0) for compressions (or rarefactions). From the Central Limit Theorem, \\n\\n is the sum of independent random variables, and should therefore approach a Gaussian distribution. When the equation of state departs from a simple isothermal form, the density PDF still follows a log-normal distribution over a range of densities, but aquires power-law tails either at high or low density depending on whether the equation of state is softer or stiffer than isothermal (Passot & Vázquez-Semadeni 1998, Scalo et al. 1998; see also Wada 2001).',\n",
       "  'For a log-normal distribution, the fraction of volume (V) or mass (M) as a function of \\n\\n is given by f(x)dx with',\n",
       "  'where the mean and dispersion of the distributions are related by μ\\nx\\n = σ\\nx\\n\\n2/2, and the upper and lower signs correspond to volume- and mass-weighting, respectively. For a log-normal distribution, the mass-weighted median density (half of the mass is at densities above and below this value) is \\n\\n, whereas the mass-weighted mean density is \\n\\n. Based on 3D unmagnetized simulations, Padoan, Jones & Nordlund (1997) propose that \\n\\n. Other 3D simulations with magnetic fields (β = 0.02 − 2) have found μ\\nx\\n ≈ 0.5 − 1 for \\n\\n (Ostriker et al. 2001). These models confirm that the mean density contrast generally grows as the turbulence level increases, but find no one-to-one relationship between μ\\nx\\n and \\n\\n [or the fast magnetosonic Mach number, \\n\\n]. The large scatter at large \\n\\n is because the flow is dominated by a small number of large-amplitude modes (i.e., large cosmic variance), some of which are compressive and some of which are shear. With magnetic fields, Ostriker, Stone & Gammie (2001) found that the lower envelope of the μ\\nx\\n distribution increases with \\n\\n according to \\n\\n for \\n\\n.',\n",
       "  'Because the velocity field is spatially correlated, the density distribution will also show spatial correlations over a range of scales. Density correlations can be characterized in terms of the autocorrelation function, the power spectrum, and structure functions of various orders (cf. Section 2.1.1); usually, analyses are applied to \\n\\n. Using delta-variance techniques, Mac Low & Ossenkopf (2000) show that correlations in density decrease for wavelengths above the velocity driving scale, and that there are relatively modest differences in the density correlations between unmagnetized and magnetized models when all other properties are controlled.',\n",
       "  '\\nKim & Ryu (2005) have analyzed the dependence of the spectral index on Mach number for 3D turbulence forced at large spatial scales, using isothermal, unmagnetized simulations at resolution 5123. For \\n\\n, the indices n\\nρ or n\\nρ′ of the density power spectrum |δ ρ (k)|2 are similar to those of the velocity field in incompressible turbulence—i.e., near n = 11/3 or n′ = 5/3; this is simply because \\n\\n for low-amplitude quasi-sonic compressions (note that even when \\n\\n, the Mach number for the compressive component of the velocity field is < 1). As the Mach number increases, the density power spectrum flattens, reaching n\\nρ′ ≈ 0.5 for \\n\\n. For comparison, a 1D top hat—corresponding to a large clump in three dimensions—would have n′ = 2, whereas a 1D delta function—corresponding to a thin sheet or filament in three dimensions—would have n\\nρ′ = 0. Note that for the density to take the form of multiple delta functions, the velocity field must generally be a composite of step functions—corresponding to shocks—and has n′ = 2 for the velocity power spectrum (as discussed above). The low value of n\\nρ′ at large Mach number implies the density structure becomes dominated by curved sheets and filaments. Curved sheets represent stagnation regions (of the compressive velocity field) where shocked gas from colliding flows settles, and filaments mark the intersections of these curved sheets.',\n",
       "  'Other statistical descriptions of density structure include fractal dimensions (e.g., Elmegreen & Falgarone 1996, Stutzki et al. 1998), multifractal spectra (Chappell & Scalo 2001), and hierarchical structure trees (Houlahan & Scalo 1992); see Elmegreen & Scalo (2004) for a discussion. The spatial correlation of density can also be characterized in terms of clump mass functions. Clump-finding techniques have been applied to simulations of supersonic tubulent flows by a number of groups; these results are discussed and compared to observation in Section 3.3.',\n",
       "  'For observed astrophysical systems, the intrinsic properties of turbulence cannot be directly obtained, owing to line-of-sight projection and the convolution of density and velocity in producing observed emission. A number of different techniques have been developed, calibrated using simulations, and applied to observed data, in order to deduce characteristics of the 3D turbulent flow from the available observations, which include spectral line data cubes (from molecular transitions), continuum emission maps (from dust), maps of extinction (using background stars), and maps of polarization (in extinction and emission from dust). Elmegreen & Scalo (2004) review the extensive literature on observations of turbulence. Here, we mention just a few results.',\n",
       "  'The defining property of turbulent motion—in contrast to, for example, the purely random motions of gas particles in a Maxwell-Boltzmann distribution or the highly systematic motions of stars in a rotating system—is the stochastic yet scale-dependent behavior of flow correlations. Larson (1981) was the first to draw attention to the genuine turbulent nature of motions internal to star-forming regions, as expressed by an empirical scaling law of the form in Equation 1 with q = 0.38. Using more homogeneous data, Solomon et al. (1987) obtained a linewidth-size scaling index q ≈ 0.5 for GMCs as a whole. Passot, Pouquet & Woodward (1988) pointed out that the linewidth-size scaling σ\\nv\\n (ℓ) ∝ ℓ1/2 observed in star-forming regions is indeed what would be predicted for Burgers turbulence, a more appropriate model than Kolmogorov turbulence given the strongly supersonic conditions.',\n",
       "  'Many subsequent studies have been made of observed scaling behavior of velocities, both for subsystems of a given star-forming region, and for systems that are spatially disjointed. A number of methods have been developed for these investigations, including autocorrelation analysis (Miesch & Bally 1994) and delta-variance analysis (Ossenkopf et al. 2006) applied to line centroids, the spectral correlation function (Rosolowsky et al. 1999), velocity channel analysis (Lazarian & Pogosyan 2004, Padoan et al. 2006), and principal component analysis (PCA) (Brunt & Heyer 2002). Overall, analyses agree in finding power-law linewidth-size relations, with similar coefficients and power-law exponents close to q = 0.5. The lack of features in velocity correlations at intermediate scales, and more generally the secular increase in velocity dispersion up to sizes comparable to the whole of a GMC, indicates that turbulence is driven on large scales within or external to GMCs (e.g., Ossenkopf & Mac Low 2002, Brunt 2003).',\n",
       "  'Interestingly, turbulence appears to have a universal character within most of the molecular gas in the Milky Way, in the sense that the same scaling laws with the same coeffcients fit both entire GMCs and moderate-density substructures (observed via CO lines) within them. Using PCA, Heyer & Brunt (2004) find a fit to the amplitudes of line-of-sight velocity components as a function of scale following',\n",
       "  'based on composite data of all PCA components from scales L\\npca ∼ 0.03 − 30 pc in a sample of 27 molecular clouds. Using data just within individual clouds, Heyer & Brunt (2004) find a mean scaling exponent that is slightly lower, q = 0.49 ± 0.15. Note that the lengths L\\npca entering the relation (Equation 6) are the characteristic scales of PCA eigenmodes, and may differ from size scales defined in other ways. For example, the effective GMC cloud diameters as measured by Solomon et al. 1987 are on average about four times the maximum L\\npca found in each cloud. Based on the scaling law above, the sonic length will be similar, ℓ\\ns\\n ∼ 0.03 pc (allowing for varying definitions of size), in all GMCs. We discuss this empirical result further in Section 3.1; note that strongly self-gravitating clumps with high density and surface densities depart from the relation given in Equation 6.',\n",
       "  'For evaluating the density distribution, the most unbiased measurements use dust extinction maps (see Lada, Alves & Lombardi 2007 and references therein). A promising new technique for observing the density distribution uses scattered IR light (Foster & Goodman 2006), which can probe the structure of molecular clouds for visual extinctions of 1–20 mag at very high spatial resolution (Padoan, Juvela & Pelkonen 2006). Consistent with the prediction of numerical simulations (Ostriker, Stone & Gammie 2001; Vázquez-Semadeni & García 2001), distributions of extinction follow log-normal functional forms to an excellent approximation; distributions of integrated intensity from molecular lines, however, are not log-normal (Ridge et al. 2006), presumably owing to a combination of chemistry and/or optical depth effects. Column density distributions, of course, cannot be directly inverted to obtain volume density distributions. Because the Fourier transform of the column density, N(kx, ky\\n), is equal to δ ρ (kx, ky; kz\\n = 0) (up to an overall normalization; here z is the line-of-sight direction) if statistical isotropy holds, then at least the shape of the density power spectrum can be obtained from a well-sampled map of column density. Assuming isotropy, integrated-intensity 12CO and 13CO line maps yield density power spectra |δ ρ (k)|2 ∝ k\\n−n\\nρ\\n\\n with n\\nρ = 2.5 − 2.8 (Bensch, Stutzki & Ossenkopf 2001), which is consistent with the large \\n\\n results for density power spectra \\nn′ρ = n\\nρ − 2 ≈ 0.5 obtained in the simulations of Kim & Ryu (2005). In principle, features in the density power spectrum should be evident both at the sonic scale, ℓ\\ns\\n, and the Jeans scale (these scales are comparable in star-forming regions—Padoan 1995). A first step toward identifying features in the density power spectrum, using velocity-integrated CO intensity, was taken by Blitz & Williams (1997). It will be very interesting to investigate column density power spectra based on high-resolution extinction maps in both self-gravitating GMCs and unbound molecular clouds to evaluate the slopes and search for evidence of these breaks.',\n",
       "  'Other measures of density structure, including the fractal dimension D ≈ 2.3 empirically measured by Elmegreen & Falgarone (1996), are in agreement with simulations of strongly compressible turbulence (Kritsuk, Norman & Padoan 2006). In addition, the typical range of density contrasts obtained for 3D supersonic tubulence (see Section 2.1.4) is consistent with the compressions required to explain the low effective volume filling factors of gas deduced from CO observations of GMCs (Ostriker, Gammie & Stone 1999). If \\n\\n (Equations), then the mass-weighted mean density is \\n\\n, so that μ\\nx\\n ≈ 1.5 yields a local density n = 103 when \\n\\n, in agreement with inferred filling factors ∼ 0.1 (Bally et al. 1987; Williams, Blitz & Stark 1995). Observational estimates of the density and filling factor are often made under the assumption of a constant clump density, however, not the broad distribution of densities expected for a log normal distribution, which may introduce some differences. In more detail, Padoan et al. (1999) have shown that the statistical properties of 13CO spectra seen in the star-forming Perseus molecular cloud can be well reproduced by synthetic non-local thermodynamic equilibrium (LTE) spectra created using simulation data cubes from nonself-gravitating supersonic turbulence simulations.',\n",
       "  'The effects of self-gravity on a turbulent cloud can be analyzed with the aid of the virial theorem, which in Lagrangian form (i.e., for a fixed mass) is',\n",
       "  '(Chandrasekhar & Fermi 1953b, Mestel & Spitzer 1956), where I = int r\\n2\\ndm is proportional to the trace of the inertia tensor of the cloud. (It is often assumed that the sign of Ï determines whether the cloud is expanding or contracting, but in fact it determines the acceleration of the expansion or contraction; Ballesteros-Paredes 2006.) The term',\n",
       "  'is the total kinetic energy in the cloud (thermal plus bulk), where σ2 is the 1D mean square velocity [including both thermal σth\\n2 and nonthermal (turbulent) \\n\\n terms] in the cloud, V\\ncl is the volume of the cloud, and \\n\\n is the surface kinetic term. The term',\n",
       "  'is the net magnetic energy, and includes the effects of the distortion of the field outside the cloud. The volume and surface magnetic terms cancel for a completely uniform magnetic field, because a uniform field exerts no force. Finally,',\n",
       "  'is the gravity term, equal to the gravitational self-energy (1/2) int ρ Ψ dV provided that the acceleration due to masses outside the system is negligible (as is generally the case for dense clouds embedded in a diffuse turbulent background; Dib et al. 2007).',\n",
       "  'The virial theorem can also be written in Eulerian form, so that it applies to a fixed volume (McKee & Zweibel 1992); in that case, the surface term for the kinetic energy includes the dynamic pressure \\n\\n, and the theorem itself includes a term (1/2) \\n\\n on the left-hand side. This form of the virial theorem is particularly appropriate in a turbulent medium, in which the mass of a cloud is not necessarily fixed. With this form of the equation, clouds that are actively forming or dispersing may have surface kinetic terms comparable to the volume kinetic terms.',\n",
       "  '\\nBallesteros-Paredes, Vázquez-Semadeni & Scalo (1999) examined the various terms in the Eulerian virial theorem for clumps and cores in their turbulent, self-gravitating MHD simulations, and found that the time-dependent terms on the left-hand side are significant, and that the surface terms are generally comparable to the volume terms. Dib et al. (2007) confirmed this and also found that only objects with large density contrasts are virialized. However, in contrast to the other terms in the virial theorem, the time-dependent terms can change sign, so they become less important if the virial theorem is averaged over time for an individual cloud (provided the cloud lives more than a dynamical time) or if it is averaged over an ensemble of clouds (McKee 1999). In Section 3.1, we discuss the application of the virial theorem both to observed molecular clouds, clumps, and cores, and to condensations identified within numerical simulations.',\n",
       "  'The virial parameter is defined as being proportional to the ratio of the total kinetic energy to the gravitational energy (Bertoldi & McKee 1992; cf. Falgarone, Puget & Perault 1992),',\n",
       "  'where the numerical coefficient is chosen so that αvir = 1 for a uniform, unmagnetized gas sphere in virial balance (\\n\\n; but note that such a sphere is not in hydrostatic equilibrium). This relation implies that the mean pressure in a cloud is proportional to the square of the mean surface density, \\n\\n,',\n",
       "  'where \\n\\n is a numerical factor of order unity for gravitationally bound objects (McKee & Tan 2003). The total pressure includes the magnetic pressure; fluctuating magnetic fields have an energy that is about 60% of that of the turbulent kinetic energy (Stone, Ostriker & Gammie 1998) and contribute an effective pressure support that is about 30% of the turbulent kinetic pressure support (McKee & Tan 2003; note that \\n\\n and \\n\\n appear in Equation 7 with coefficients 2 and 1, respectively). Gravitationally bound objects have αvir ∼ 1, which (because M ∼ ρ R\\n3) defines gravitational length, time, and mass scales,',\n",
       "  'respectively. These scales, derived essentially from dimensional analysis, govern the structure and stability of self-gravitating clouds (the density ρ can be chosen to be the central density, the mean density, or the density at the surface, depending on the application). The gravitational timescale is often expressed in terms of the free-fall time, which is the time for a pressure-free, spherical cloud to collapse to a point owing to its self-gravity,',\n",
       "  'where the numerical value is based on a He abundance of 10% by number.',\n",
       "  'The simplest case of a self-gravitating cloud is a static isothermal cloud with no magnetic field. For a given surface pressure P\\nth,0 = ρ0 σth\\n2, the critical mass, M\\ncr—i.e., the maximum mass for such a cloud to be in hydrostatic equilibrium (stable or unstable)—is the Bonnor-Ebert mass (Bonnor 1956, Ebert 1957),',\n",
       "  \"For conditions typical of dense clumps within low-mass star-forming regions, this is of order a solar mass: \\n\\n, where k\\nB is Boltzmann's constant and the pressure is normalized to the mean kinetic pressure in a typical GMC (Section 3.1) (which is similar to the mean thermal pressure in dense clumps). Note that the Bonnor-Ebert mass is very nearly equal to the characteristic gravitational mass MG\\n (ρ0) when evaluated with the conditions at the surface of the cloud. The radius of a Bonnor-Ebert sphere is R\\nBE = 0.486 σth/(Gρ0)1/2 = 0.486 RG\\n (ρ0); this is comparable to the Jeans length (see below).\",\n",
       "  'The importance of the magnetic field to cloud structure is determined by the ratio of the mass to the magnetic critical mass M\\nΦ, which is defined by the condition that the magnetic energy must be equal to the gravitational energy, \\n\\n, for a cold cloud in magnetostatic equilibrium:',\n",
       "  'where Φ is the magnetic flux threading the cloud (e.g., see the review by McKee et al. 1993). Magnetic fields alone cannot prevent gravitational collapse in magnetically supercritical clouds (M > M\\nΦ), whereas gravitational collapse is not possible in magnetically subcritical clouds (M < M\\nΦ); keep in mind, however, that M can change as the result of flows along the field, and M\\nΦ can change owing to ambipolar diffusion. The numerical coefficient c\\nΦ depends on the internal distribution of density and magnetic fields. A cold cloud with a poloidal field and a constant mass-to-flux ratio has c\\nΦ = 0.17 (Tomisaka, Ikeuchi & Nakamura 1988), essentially identical to the critical value of the mass-to-flux ratio for an infinite cold sheet, \\n\\n (Nakano & Nakamura 1978). For clouds with two other distributions of the mass-to-flux ratio, Tomisaka, Ikeuchi & Nakamura (1988) found that the critical mass-to-flux ratio for the central flux tube corresponds to c\\nΦ ≃ 0.17 − 0.18. For more complex field geometries, the magnetic flux does not determine the mass that can be supported by magnetic stresses; for example, if the field is poloidal, with half the field pointing one way and half the other, so that the total flux is zero, the mass that could be supported would initially be M\\nΦ, but it would go to zero as the field reconnects. For a random field, arguments based on McKee & Holliman (1999) suggest that the mass that can be supported by magnetic fields is comparable to that in Equation 16, but with Φ replaced by π R\\n2 〈B\\n2〉1/2. Of course, when turbulent magnetic fields are present so are turbulent velocities, which lend their own support to the cloud (see below).',\n",
       "  'The magnetic critical mass can also be expressed in terms of the mean density and magnetic field in the cloud (Mouschovias & Spitzer 1976),',\n",
       "  'For an ellipsoidal cloud of size 2Z along the axis of symmetry and radius R normal to the axis, this becomes (Bertoldi & McKee 1992)',\n",
       "  'where the latter expression uses \\n\\n. Note that MB\\n has the same form as the gravitational mass MG\\n, with the velocity dispersion σ replaced by the Alfvén velocity \\n\\n. Based on the idea that cores form from sheets that are supported by kinetic pressure along the magnetic field and magnetic tension in the (perpendicular) plane, Shu, Li & Allen (2004) have introduced another mass scale, \\n\\n, which yields values ∼M\\n⊙ when σ → σth and \\n\\n μG.',\n",
       "  'Just as in the case of stellar structure, it is useful to consider polytropic models of molecular clouds, in which the pressure is a power-law function of the density,',\n",
       "  'where K is constant and γ\\np\\n is often written as 1 + 1/n. Here, P(r) and ρ (r) represent the total pressure and density averaged over the surface of a sphere of radius r. This approach is based on the microturbulent approximation, in which the turbulent pressure ρ σnt\\n2 is included in the total pressure (Chandrasekhar 1951a,b); this is equivalent to assuming that the random dynamical motions are isotropic. For a given cloud at a given time, this is reasonable for small-scale motions, but the approximation becomes worse as the scale of the motion becomes comparable to the scale on which the pressure is being evaluated. However, just as in the case of the virial theorem, the microturbulent approximation becomes better—for objects that live more than a dynamical time—if a time average is taken. Polytropes are spherical, so polytropic models apply only to objects with well-defined centers; for such objects, an angular average is also necessary, which improves the accuracy of the microturbulent approximation. Star-forming clumps and cores often appear centrally concentrated and are therefore suitable for modeling with a polytrope, whereas many GMCs do not appear to have well-defined centers and are not very suitable for polytropic models.',\n",
       "  'For a polytrope, the velocity dispersion obeys σ2 = P/ρ ∝ ργ\\np − 1. If the mean density decreases with increasing scale (as it does for an object in hydrostatic equilibrium), it follows that the velocity dispersion increases with scale for γp < 1, which is consistent with observations of molecular clouds (Maloney 1988). [Because n = 1/(γp − 1) is negative in this case, such polytropes are often referred to as negative-index polytropes.] The stability of a polytrope depends on both γp and on its adiabatic index γ, which describes the change in the pressure associated with a given perturbation in density, δ ln P = γ δ ln ρ. The value γ = 4/3 is critical for spherical clouds: clouds with γ > 4/3 are gravitationally stable for arbitrarily large masses, whereas those with γ < 4/3 are unstable for sufficiently large masses, or, at fixed mass, for sufficiently high ambient pressures. Correspondingly, the gravitational mass MG\\n is independent of density for γ = 4/3. Polytropes with γp < 6/5 must be confined by an ambient pressure (Chandrasekhar 1939), and their properties are determined by the pressure of the ambient medium. McKee & Holliman (1999) show that polytropes with 0 < γp ≤ 1 have masses ≤1.182 MG\\n (ρ0); the mean density and pressure of these polytropes are <3.8 times the surface values.',\n",
       "  'As discussed in Section 2.1.5, turbulent regions exhibit a line width–size relation in which the velocity dispersion averaged over a volume increases systematically with size scale, σnt ∝ rq\\n. Observations often show q ≃ 1/2, the value expected for Burgers turbulence (see Section 2.1.1). In general, this linewidth-size relation reflects the statistical increase in velocity differences with separation between two points, rather than the absolute increase in the local turbulent velocity amplitude with distance from a common center. If the medium is gravitationally stratified, however, the central point has a physical significance, and it is not currently known whether in this situation q varies significantly (locally or globally) from its value in a nonstratified medium. Observations of individual low-mass cores indicate increasing linewidths away from the centers, with q ≃ 1/2 on large scales (Goodman et al. 1998); similar observations for star-forming clumps or high-mass cores, which are supersonically turbulent, are not yet available. In polytropic models with σnt ∝ ρ(γp−1)/2 ∝ rq\\n, the density follows a power-law in radius, ρ ∝ r\\n−kρ\\n, with k\\nρ = 2q/(1 − γp). In hydrostatic equilibrium, k\\nρ = 2/(2 − γp) must hold, so that q = (1 − γp)/(2 − γp); the value q = 1/2 thus corresponds to γp → 0. This has motivated the study of equations of state for turbulent gas that include a pressure proportional to the logarithm of the density, so-called logatropes (Lizano & Shu 1989, Gehman et al. 1996). McLaughlin & Pudritz (1996) pointed out a difficulty with previous logatropic models and developed a variant that overcame this problem; however, their model leads to linewidths that actually decrease near the edge of the cloud (McKee & Tan 2003). An alternative model for clouds in which the inner regions are supported by thermal pressure and the envelopes are supported by turbulent pressure is the TNT (thermal/nonthermal) model, in which the density is assumed to be given by the sum of two power-laws, one with k\\nρ = 2, representing a singular isothermal sphere (SIS), and one with k\\nρ < 2, representing a turbulent envelope (Myers & Fuller 1992, Caselli & Myers 1995). A more rigorous formulation of this type of model is that of a composite polytrope, in which the core and envelope of the cloud have different values of γp (Curry & McKee 2000).',\n",
       "  'Cosmological simulations show that self-gravitating, pressureless matter condenses into filamentary structures (e.g., Springel et al. 2005). This reflects the nature of evolution of cold, triaxial mass distributions under self-gravity (Lin, Mestel & Shu 1965): the first collapse is along the shortest axis, and the second collapse is along the (original) intermediate axis, resulting in a filament aligned along the (original) long axis. Molecular clouds often exhibit filamentary structure as well (Schneider & Elmegreen 1979; Mizuno et al. 1995; Nagahama et al. 1998; Lada, Alves & Lada 1999). This may reflect the effects of self-gravitational evolution, similar to cosmic structure formation. However, it may also reflect the effects of strongly supersonic turbulence. Converging turbulent flows produce curved sheets of shocked gas at stagnation surfaces, and the loci of these sheet intersections are filaments. The morphology of cold, diffuse HI is similar to that in GMCs (e.g., Heiles & Troland 2003, McClure-Griffiths et al. 2006), suggesting that at least some of the filamentary structure in star-forming clouds originates with multiscale supersonic turbulence; the filaments that are created by turbulent flows may also be (or become) self-gravitating.',\n",
       "  'Virial balance in filamentary clouds implies \\n\\n, where ℓ is a length along the filament and m\\nℓ is the mass per unit length. Fiege & Pudritz (2000) have shown that the virial gravity term for a cylindrical cloud with an arbitrary density profile is \\n\\n, which, in contrast to the spherical case, is unchanged by radial compression. They also showed that the critical mass/length is m\\nℓ,cr = 2σ2/G. Filaments with γ = γp ≥ 1 are stable against compression, because the ratio of kinetic energy to gravitational energy does not decrease during compression. Isothermal filaments have a density ρ = ρ\\nc\\n/[+ (r/r\\n0)2]2\\n, where r\\n0 = (2/π)1/2\\nRG\\n (ρ\\nc\\n) (Ostriker 1964; the properties of filaments with γp ≥ 1 are not strongly affected by the ambient medium for r ≫ r\\n0, which is why their properties are determined by the central density ρc). However, observed filaments often have ρ ∝ 1/r\\n2 rather than 1/r\\n4 (Lada, Alves & Lada 1999). Fiege & Pudritz (2000) have shown that isothermal filaments with helical magnetic fields of the right magnitude can give rise to such a density profile; alternatively, Nakamura & Umemura (2002) have shown that negative index polytropes with γp slightly less than unity have ρ ∝ 1/r\\n2.',\n",
       "  'In general, masses in excess of the critical mass are subject to fragmentation. In an isothermal, uniform medium of density ρ0, the minimum wavelength for gravitational fragmentation is the Jeans length,',\n",
       "  'The corresponding Jeans mass is \\n\\n, where we have adopted the definition of Binney & Tremaine (1987) (the Jeans mass is elsewhere often defined as \\n\\n, which is even larger than the Bonnor-Ebert mass). For slabs and filaments, there is a fastest growing mode, which will determine the spacing of fragments. For an isothermal slab with a surface density Σ and with ρ\\nc\\n ≫ ρ0 it is \\n\\n, where the Jeans length is defined in terms of the midplane density ρc. An isothermal filament with ρc ≫ ρ0 has m\\nℓ ≃ m\\nℓ,cr and \\n\\n (Larson 1985). These estimates assume that the gas is optically thin; if it becomes opaque, fragmentation stops. Low & Lynden-Bell (1976) show that fragmentation ceases for masses ≲0.004M\\n⊙ (including He—see Whitworth et al. 2007), and that this is relatively insensitive to parameters.',\n",
       "  'For a thin, rotating disk, rotation stabilizes self-gravitational contraction for wavelengths greater than the Toomre length \\n\\n, where κ is the epicyclic frequency (Toomre 1964). In order for a rotating gas disk to fragment, the maximum instability scale imposed by angular momentum considerations must exceed the minimum length for fragmentation set by thermal pressure. The Toomre parameter \\n\\n, and must be ≲ 0.7 − 1 for gravitational fragmentation in an isothermal rotating disk, depending on the strength of magnetic fields (Goldreich & Lynden-Bell 1965; Kim, Ostriker & Stone 2002). Allowing for turbulence and for the additional gravity of a stellar disk (for large-scale galactic instabilities), the critical Q is larger (see Section 3.2.1). Real gases are not strictly isothermal; Gammie (2001) has shown that in a Keplerian disk, the cooling time t\\ncool and angular velocity Ω = κ must satisfy the condition t\\ncool ≲ 3Ω−1 for gravitational runaway to occur (the coefficient 3 is based on 2D simulations with γeff = 2, allowing for dimensional reduction; Rice et al. (2005) showed that this coefficient can change by a factor of a few depending on the adopted γ). Nonlinear instability develops when Q is small even for adiabatic disks, but gravitational collapse of the condensations that form is ultimately halted if γ is sufficiently large (Kim & Ostriker 2001).',\n",
       "  'The ISM is strongly magnetized, whereas stars are weakly magnetized. How the mass-to-flux ratio increases so dramatically during star formation is one of the classic problems of star formation (Mestel & Spitzer 1956). We shall characterize this ratio by the ratio of the mass to the magnetic critical mass for poloidal fields, μΦ ≡ M/M\\nΦ (Equation 16, Section 2.2). Heiles & Troland (2005) found that the median field in the cold HI phase of the ISM (the Cold Neutral Medium, or CNM) is \\n\\n, and that the CNM is organized into sheets with column densities \\n\\n; the maximum column presumably reflects the transition to molecular hydrogen. It follows that the CNM is magnetically very subcritical, μΦ < 0.16 (throughout this section; we evaluate M\\nΦ with c\\nΦ = 1/2π, the value appropriate for sheets). There are thus two parts to the magnetic flux problem: How does the mass-to-flux ratio increase to μΦ ≳ 2 so that gravitational collapse can readily occur, and then how does it increase to the very large values (∼105 − 8) characteristic of stars?',\n",
       "  'Astronomers have two primary methods of measuring the strength of magnetic fields in the dense ISM: the Zeeman effect, which measures the line-of-sight component, B\\nlos; and the Chandrasekhar-Fermi method (Chandrasekhar & Fermi 1953), which measures the component of the field in the plane of the sky, B\\npos, by comparing the fluctuations in the direction of B\\npos with those in the velocity field (see the reviews by Crutcher 2005 and Heiles & Crutcher 2005; note that in the diffuse ISM, magnetic field strengths are also obtained by Faraday rotation and synchrotron observations, with results consistent with Zeeman observations). The morphology of the field, which is needed for the Chandrasekhar-Fermi method, can be measured from dust polarization and from linear polarization of spectral lines (Goldreich & Kylafis 1981). The largest compilation of magnetic field strengths in molecular clouds remains that of Crutcher (1999), although it must be noted that the median temperature of the regions with detected fields is 40 K, significantly greater than average. Inferring the intrinsic field strength and column density from measurements of the line-of-sight components is somewhat subtle (Heiles & Troland 2005); in particular, care must be exercised in evaluating the average value of B\\n∥/B using logarithmic values, because \\n\\n. However, it is straightforward to infer the median values: B\\nmed = 2B\\nlos, med and, for sheets, N\\nmed = N\\nlos, med/2. Most of the structures Crutcher (1999) studied are relatively dense cores, so it is plausible that they are not sheet-like; in that case, the median value of μΦ is 1.65±0.2 [Heiles & Crutcher 2005; note that the values in Crutcher (1999) are based on c\\nΦ = 0.12, whereas we are using c\\nΦ = 1/2π], the cores are supercritical, and the magnetic field is unable to significantly impede gravitational collapse. On the other hand, if the objects in his sample are, in fact, sheet-like, then the median value of μΦ is reduced to 0.8 and the typical core is about critical. However, it should be noted that none of the cores have observed line-of-sight fields strong enough to ensure that they are subcritical, and for many cases only upper limits on the magnetic field strength are obtained. Subsequent OH Zeeman observations by Bourke et al. (2001) have strengthened these conclusions, although these authors suggest that observations with higher spatial resolution are needed to determine whether the relatively low fields they infer (mostly upper limits) are in part due to variations in the field structure within the telescope beam.',\n",
       "  '\\nCrutcher (1999) also reached a number of other conclusions on the role of magnetic fields in cores and clumps within molecular clouds from his sample: the observed structures are in approximate virial equilibrium; the kinetic and magnetic energies are in approximate equipartition, as expected theoretically (Zweibel & McKee 1995); correspondingly, the Alfvén Mach number is \\n\\n; the observed motions are highly supersonic, with \\n\\n; and, to within the errors, B ∝ ρ1/2, which corresponds to a constant Alfvén velocity (for sources with measured fields, as opposed to upper limits, the average value is v\\nA ≃ 2 km s−1, as found previously by Heiles et al. 1993). Basu (2000) showed that the dispersion of the Alfvén Mach number is significantly less than that in the Alfvén velocity in this sample. He argued that a constant value of \\n\\n is to be expected if the clouds are strongly bound, so that the surface pressure is negligible, and if μΦ is about constant. Adopting a median value \\n\\n, from Crutcher (1999) gives a median value for the magnetic field of',\n",
       "  'The value of the density in this relation is N\\nH/(4R/3), where R is the mean projected radius. Projection effects could cause the actual density to differ from this, but the change is not large for triaxial clouds of the type considered by Basu (2000).',\n",
       "  'As yet, observations of the mass-to-flux ratio on large scales, up to that of GMCs, are not available. The definition of μΦ implies',\n",
       "  'where the numerical evaluations are based on c\\nΦ = 1/2π, the visual extinction is \\n\\n, and δgr is the dust-to-gas ratio normalized to the local interstellar value. Typical Galactic GMCs have N\\nH = 1.5 × 1022 cm−2 (see Section 3.1), corresponding to critical magnetic field strength (i.e., such that μΦ = 1) of B\\ncr = 57 μG for the large-scale mean field. In regions with densities n\\nH ≈ 2 × 103 cm−3, the lowest for which molecular-line Zeeman observations are available, Crutcher (1999) reports line-of-sight magnetic field strengths of ≤21 μG. Allowing for an increase of up to a factor of two for projection effects, and for the fact that the mean magnetic field strength will not increase as the density is reduced by a factor of ∼10 to reach the volume-averaged value in GMCs, we infer that GMCs are supercritical. GMC magnetic fields are not too weak, however: 450 μm polarimetry of four GMCs shows that the orientation of the field appears to be preserved during the formation of the GMCs and that the energy in the field is comparable to the turbulent energy (Li et al. 2006).',\n",
       "  'Theoretical arguments are consistent with the empirical evidence that GMCs as well as their subparts are supercritical with respect to their mean magnetic fields. Models of self-gravitating, isothermal, magnetized clouds show that large pressure contrasts between the center of the cloud and the edge occur only when the cloud is near its critical mass; furthermore, if the kinetic energy is comparable to the magnetic energy, then large pressure contrasts occur only for M > M\\nΦ. Extending the earlier work of Mouschovias (1976), Tomisaka, Ikeuchi & Nakamura (1988) found that for the cases they considered with 8π P/B\\n2 = 1, the central pressure significantly exceeds the surface pressure only when M is quite close to M\\ncr, and that in these cases the cloud is magnetically supercritical, M > M\\nΦ. Using this work, McKee (1989) showed that the critical mass is M\\ncr ≃ M\\nΦ + M\\nBE for quiescent clouds; he assumed that this relation applies to turbulent clouds as well, with σth replaced by the total velocity dispersion σ, but the validity of this assumption remains to be demonstrated. Because, on large scales, the turbulent magnetic energy is likely comparable to or larger than the mean magnetic energy, and the kinetic energy is at least as large as the magnetic energy (and much greater than the thermal energy), then clouds with αvir ∼ 1 have M ≳ 2M\\nΦ. Nakano (1998) has given a similar, more precise argument that the smaller-scale and less-turbulent cores that form stars are also magnetically supercritical. In both cases, the basic argument is that if gravity is strong enough to overcome both kinetic energy (turbulent plus thermal) and magnetic fields (turbulent and ordered) in order to form a bound object, then it is certainly strong compared to the support from mean magnetic fields alone. Note that this argument does not apply to objects that are not bound, but instead are the result of colliding flows (Section 3.2.1). It is of great importance to determine observationally the relative importance of magnetic fields and gravity in the large-scale structure of molecular clouds.',\n",
       "  'Most detailed modeling of magnetic fields in nonturbulent clouds is based on the assumption that the field is poloidal (e.g., Mouschovias 1987); such fields always tend to support clouds against gravity. However, the toroidal component of a helical field exerts a confining force, and can lead to prolate clouds (Tomisaka 1991, Fiege & Pudritz 2000). From a virial analysis of several filamentary clouds, Fiege & Pudritz (2000) find that the self-gravity and the pressure of the ambient medium are inadequate to account for the high mean pressures that are observed in the clouds; they conclude that the data can be explained if these clouds are confined by helical fields. The principal uncertainty in this analysis is that in most cases there is no direct measurement of the ambient pressure.',\n",
       "  'There are two mechanisms for increasing the mass-to-flux ratio, flows along magnetic fields and ambipolar diffusion. In the part of a bound molecular cloud that is shielded from the interstellar radiation field so that the ionization is caused by cosmic rays, the ambipolar diffusion time is about 10 times the free-fall time in the absence of turbulence (Mouschovias 1987) and several times faster than this in the presence of turbulence (Fatuzzo & Adams 2002, Zweibel 2002, Nakamura & Li 2005). However, most of the mass of a GMC is ionized primarily by far ultraviolet (FUV) radiation from stars (McKee 1989), and in this gas the ambipolar diffusion time is much longer. GMCs are very porous, and as a result an even larger fraction of the volume of the cloud is likely to be ionized above the level set by cosmic rays. It follows that flux-freezing is a good approximation on large scales in molecular clouds. Mestel (1985) introduced the concept of the accumulation length, L\\n0, the size of the region required to achieve a given mass-to-flux ratio when flux-freezing applies, μΦ = M/M\\nΦ ∝ n\\n0\\nL\\n0/B\\n0\\n. In our notation this yields',\n",
       "  'where B\\n0, −6 ≡ B\\n0/(1 μG). Using n\\n0 ∼ 1 cm−3 for the mean density in the diffuse ISM (because GMC columns are much greater than those of individual CNM clouds) and B\\n0, −6 ∼ 6 for the mean field in the solar vicinity (because the mean field should be similar to the CNM field—Piontek & Ostriker 2005) gives a large value for this length, ∼ 1 kpc if GMCs have μΦ ∼ 2. In fact, as we discuss in Section 3.2.1, GMC formation from large-scale self-gravitating galactic disk instabilities indeed involves very large accumulation lengths and yields supercritical clouds.',\n",
       "  'As discussed above, current observations do not determine whether ambipolar diffusion is necessary for the initiation of gravitational collapse. Theoretical simulations suggest that in the absence of ambipolar diffusion, star formation is strongly suppressed in magnetically subcritical regions, even if μΦ is only slightly less than unity (Krasnopolsky & Gammie 2005). However, similar simulations show that magnetic fields have a relatively small effect in slowing the rate of star formation if the gas is supercritical (Ostriker, Gammie & Stone 1999; Heitsch, Mac Low & Klessen 2001; Li et al. 2004; Vázquez-Semadeni, Kim & Ballesteros-Paredes 2005; Vázquez-Semadeni et al. 2005; Nakamura & Li 2005). The primary effect of magnetic fields may be to shift the initial collapse to higher masses. Simulations with ambipolar diffusion in weakly ionized plasmas are very challenging. In the strong-coupling approximation, in which the ions are not treated as a separate fluid but the field diffuses relative to the flow, explicit MHD codes have time steps ∝ Δ x\\n2, which is prohibitive at high resolution (Mac Low et al. 1995). If the ions are treated as a separate fluid, explicit codes must resolve Alfvén waves in the ions as well as Alfvén waves in the coupled ion-neutral fluid. For ionizations ≲ 10−6, the Alfvén velocity in the ions can exceed 103 km s−1, leading to very small time steps. A potential way around this problem is to increase the ion mass and decrease the ion-neutral coupling constant so that the momentum exchange rate between the ions and neutrals is unchanged (Li, McKee & Klein et al. 2006; Oishi & Mac Low 2006).',\n",
       "  'One regime in which ambipolar diffusion (or the lack of it) could have a strong effect on the star-formation rate (SFR) is in the outer layers of GMCs, which are dominated by FUV ionization. FUV photoionization slows ambipolar diffusion, and therefore star formation, when it dominates cosmic-ray ionization, which occurs for visual extinctions AV\\n ≲ 4 mag from the surface or ∼8 mag along a line of sight through the cloud (McKee 1989). Suppression of star formation in the outer layers of GMCs has been confirmed in the L1630 region of Orion (Li, Evans & Lada 1997) and in Taurus (Onishi et al. 1998). To the extent that ambipolar diffusion is essential for forming molecular cores, the absence or near absence of submillimeter cores in the outer layers of Ophiuchus (Johnstone, Di Francesco & Kirk 2004) and Perseus (Hatchell et al. 2005, Enoch et al. 2006) is qualitatively consistent with this prediction. On the other hand, Strom, Strom & Merrill (1993) find that there is a substantial distributed population of young stars in L1641, although this population is relatively old (5–7 Myr).',\n",
       "  'The chemistry of molecular clouds is a full subject in its own right. Here we summarize several developments that affect the ionization, which governs the coupling between the gas and the magnetic field. (a) Photodissociation regions (PDRs) are regions of the ISM that are predominantly neutral and in which the chemistry and heating are predominantly due to FUV radiation (see the review by Hollenbach & Tielens 1999). Most of the nonstellar IR radiation and most of the millimeter and submillimeter CO emission in galaxies originates in PDRs. In the typical interstellar radiation field, photoionization dominates ionization by cosmic rays for extinctions AV\\n < 4 mag, which includes most of the molecular gas in the Galaxy (McKee 1989). (b) PAHs, which contain a few percent of the carbon atoms, often dominate the mid-IR spectrum of star-forming regions and galaxies. It is frequently assumed that PAHs have a low abundance in molecular clouds owing to accretion onto dust grains; if this is not the case, they can dominate the ionization balance, because electrons react with them very rapidly (Lepp et al. 1988). (c) H3\\n+ is a critical ion in initiating ion-molecule reactions in molecular clouds. For many years, the rate of dissociative recombination, H3\\n+ + e → H2 + H or H + H + H, was uncertain, but careful laboratory experiments have shown that the rate coefficient for this reaction is large: a fit to the results of McCall et al. (2003) gives \\n\\n cm3 s−1. In order to maintain the observed abundance of H3\\n+ in the face of this high recombination rate, these authors inferred a very high cosmic-ray ionization rate, ζCR = 6 × 10−16 s−1 per H atom (including secondary ionizations), in a diffuse molecular cloud along the line of sight to ζ Per. Models involving two gas phases give somewhat lower values of ζCR (e.g., Dalgarno 2006), but the correct value is now quite uncertain. In dense clouds, Dalgarno (2006) concludes that the ionization rate is ζCR ≃ 2.5 − 5 × 10−17 s−1. (d) Recent observations have established that carbon-bearing molecules freeze out onto dust grains at high densities (n\\nH ∼ 105 cm−3) in low-mass cores, with nitrogen-bearing molecules freezing out at higher densities (Di Francesco et al. 2007). This affects the ionization, as it removes abundant ions such as HCO+ from the gas.',\n",
       "  'Although the chemistry determining the ionization in molecular clouds is complex, simple analytic estimates are possible. In the outer layers of PDRs, carbon is photoionized so that ne\\n ≃ n (C). In regions ionized by cosmic rays, the degree of ionization is given by',\n",
       "  'if the ionization is dominated by molecular ions (including PAHs), where α is the relevant recombination rate in the chemistry that determines the ionization fraction. If PAHs are depleted, then α ≃ 10−6 cm3 s−1 is the dissociative recombination rate for heavy molecules provided the density is high enough that H3\\n+ is destroyed primarily by reactions with such molecules; for lower densities, where the ionization is dominated by H3\\n+, one has α = α\\nd\\n (H3\\n+). If PAHs are sufficiently abundant that most of the electrons are attached to PAHs, then α ≃ 3 × 10−7 cm3 s−1 (Tielens 2005) and ne\\n in Equation 24 includes the electrons attached to PAHs. Metal ions can be readily included in the analytic theory (McKee 1989), but they do not appear to be important in dense cores (Maret, Bergin & Lada 2006). Equation 24 is consistent with the results of Padoan et al. (2004) at late times and at high densities for α = α\\nd\\n (HCO+), which they took to be 2.5 × 10−6 cm3 s−1.',\n",
       "  'The molecular gas out of which stars form is found in molecular clouds, which occupy a small fraction of the volume of the ISM but, inside the solar circle, comprise a significant fraction of the mass. The terminology for the structure of molecular clouds is not fixed; here we follow the discussion in Williams, Blitz & McKee (2000). GMCs have masses in excess of 104 M⊙ and contain most of the molecular mass. Molecular clouds have a hierarchical structure that extends from the scale of the cloud down to the thermal Jeans mass in the case of gravitationally bound clouds, and down to much smaller masses for unbound structures (Langer et al. 1995, Heithausen et al. 1998). Overdense regions (at a range of scales) within GMCs are termed clumps. Star-forming clumps are the massive clumps out of which stellar clusters form, and they are generally gravitationally bound. Cores are the regions out of which individual stars (or small multiple systems like binaries) form, and are necessarily gravitationally bound. As remarked above, this terminology is not universal; e.g., Ward-Thompson et al. (2007) use “prestellar core” to refer to a core, and “cluster-forming core” to refer to a star-forming clump.',\n",
       "  'A molecular cloud is surrounded by a layer of atomic gas that shields the molecules from the interstellar UV radiation field; in the solar vicinity, this layer is observed to have a column density N\\nH ≃ 2 × 1020 cm−2, corresponding to a visual extinction AV\\n = 0.1 mag (Bohlin, Savage & Drake 1978). A larger column density, N\\nH ≃ 1.4 × 1021 cm−2, is required for CO to form (van Dishoeck & Black 1988). The layer of gas in which the hydrogen is molecular but the carbon is atomic is difficult to observe, and has been termed “dark gas” (Grenier, Casandjian & Terrier 2005).',\n",
       "  'The mass of a molecular cloud is generally inferred from its luminosity in the J = 1 − 0 line of 12CO or 13CO. Because 12CO is optically thick, estimating the column density of H2 molecules from the 12CO line intensity I\\nCO (in units of K km s−1) requires multiplication by an “X-factor,” an appropriate name because it is not well understood theoretically; this is defined as X ≡ N(H2)/I\\nCO. Various methods have been used to infer the value of X in the Galaxy: In one method, observations of γ rays emitted by cosmic rays interacting with the ISM give the total amount of interstellar matter; the mass of molecular gas follows by subtracting the neutral atomic hydrogen (HI) contribution. With this technique, Strong & Mattox (1996) infer X = 1.9 × 1020 cm−2(K km s−1)−1. In another method, subtracting the HI-associated dust emission from the total observed dust emission in the IR gives a local value X = 1.8 × 1020 cm−2(K km s−1)−1 (Dame, Hartmann & Thaddeus 2001). Note that both of these methods account for all the molecular hydrogen gas, including the dark gas. Allowing for the atomic shielding layer around a molecular cloud (but not the dark-gas layer), Elmegreen (1989) predicted \\nX ∝ (G\\n0/Z)3/8/Tb\\n\\n, where G\\n0 is proportional to the intensity of FUV radiation that can photodissociate H2, Z is the metallicity, and Tb\\n is the brightness temperature of the line. Maloney & Black (1988) concluded that Tb\\n should be substantially reduced in regions of low metallicity. Observing the 13CO line is advantageous in that it is optically thin in all but the high-density cores. Conversion from 13CO intensity to column density involves an assumption of LTE (using temperatures derived from 12CO), and a fixed H2 to 13CO abundance. Because 13CO may be subthermally excited in diffuse regions, however, column densities there will be underestimated. Near-IR extinction mapping (Lada, Alves & Lombardi 2007) offers the prospect of obtaining more accurate masses, at least for nearby molecular clouds.',\n",
       "  'The observed mass distribution of GMCs is a power-law with a relatively sharp cutoff. Let \\n\\n be the number of GMCs with masses in the range M to M + dM. Observations of GMCs inside the solar circle (but excluding the Galactic Center) are consistent with the mass distribution of the form (Williams & McKee 1997)',\n",
       "  'with no GMCs above Mu\\n. Here \\n\\n is equal to the number of clouds eliminated from the distribution by the cutoff at Mu\\n. With \\n\\n, α = 0.6, and Mu\\n = 6 × 106\\nM\\n⊙, this cloud mass distribution accounts for all the molecular mass observed inside the solar circle excluding the Galactic Center. An independent analysis by Rosolowsky (2005) finds a similar slope (α = 0.5 ± 0.1), but a somewhat smaller maximum mass (Mu\\n = 3 × 106\\nM\\n⊙, although this does not include the several most massive clouds). These results are necessarily approximate owing to the difficulties in identifying clouds from position-velocity data in the inner Galaxy—in particular, blending of clouds along the line of sight is likely to make the true value of the slope steeper (Rosolowsky 2005). However, the main implications are likely to be robust. First, most of the mass in GMCs is in large clouds—a significant fraction is in clouds with M > 106\\nM\\n⊙, and >80% is in clouds with M > 105\\nM\\n⊙ (see also Stark & Lee 2006). And second, because \\n\\n, the upper limit of the mass distribution, Mu\\n, has a physical significance (McKee & Williams 1997). If there were no cutoff to the distribution, one would expect about 100 GMCs more massive than 6 × 106\\nM\\n⊙ in the Galaxy, whereas there are none. This upper mass limit may be set by the processes that form GMCs out of diffuse gas (see Section 3.2.1). It should be noted that the GMCs are embedded in more massive HI superclouds (sometimes encompassing multiple GMCs), which also appear to be gravitationally bound (Elmegreen & Elmegreen 1987). In other Local Group galaxies, GMC mass distributions have similar power-laws to that in the Milky Way, with the exception of M33, which has \\n\\n (Blitz et al. 2007). In more distant galaxies, giant molecular associations (GMAs) with masses up to ∼107\\nM\\n⊙ have been observed (Vogel, Kulkarni & Scoville 1988; Sakamoto et al. 1999).',\n",
       "  \"In a seminal paper, Larson (1981) summarized some of the key dynamical features of GMCs in what are often referred to as Larson's laws. The first result is that GMCs obey a linewidth-size relation: GMCs are supersonically turbulent with velocity dispersions that increase as a power of the size. For GMCs in the first Galactic quadrant, almost all of which are inside the solar circle, Solomon et al. (1987) found\",\n",
       "  'where R\\npc ≡ R/(1 pc). (Note that the coefficient in this relation is based on a distance to the Galactic Center of 10 kpc; we have not adjusted this value for a more accurate distance because the change is within the errors.) Heyer & Brunt (2004) find that this cloud-to-cloud relation extends to the structure functions within individual GMCs as well (see Equation 6 in Section 2.1.5), and argue that this demonstrates the universality of the turbulence in moderate-density gas in molecular clouds (see below).',\n",
       "  \"Larson's second law is that GMCs are gravitationally bound (αvir ≃ 1; see Equation 11). (It should be noted that though molecular gas is generally bound in the Galaxy, different physical conditions can lead to substantial amounts of unbound molecular gas or bound atomic gas—Elmegreen 1993b.) Solomon et al. (1987) determined the masses of clouds in their sample using the virial theorem with αvir = 1.1, and then determined the X-factor. Including He and adjusting the distance to the Galactic Center to 8.5 kpc from 10 kpc, their value of the X-factor corresponding to a typical GMC with a mass of 106\\nM\\n⊙ (see above) is 1.9 × 1020 cm−2(K km s−1)−1, the same as the value determined from γ-ray observations; hence, the GMCs in their sample are gravitationally bound on average. (Note that this argument is approximate because the γ-ray value for the X-factor includes the dark gas, whereas the value from the virial theorem includes only part of this gas, depending on the morphology of the GMC.) Observations of 13CO, which is optically thin, permit a direct measurement of the mass, provided the abundance is known. Such observations of a sample of GMCs in the outer Galaxy, where blending of different clouds along the line of sight is negligible, confirm that molecular clouds with M ≳ 104\\nM\\n⊙ (i.e., GMCs) are bound (Heyer, Carpenter & Snell 2001). Lower mass clouds become progressively less bound (see also Maloney 1990), and unbound molecular clouds are for many purposes equivalent to nonself-gravitating clumps within larger GMCs. Based on observations in 13CO and other species that are believed to be optically thin, clump mass functions within GMCs follow \\n\\n with αclump = 0.3 − 0.7 (Blitz 1993; Williams, de Geus & Blitz 1994). The slope of the clump mass function is similar to that for GMCs as a whole (see Equation 25), possibly because both are determined by turbulent processes within larger, gravitationally bound systems.\",\n",
       "  \"Larson's third law is that GMCs all have similar column densities. For the Solomon et al. (1987) sample, the mean column density is \\n\\n cm−2; this corresponds to an extinction of AV\\n = 7.5 mag with the local dust-to-gas ratio. The corresponding mean surface density of GMCs is \\n\\n. However, GMCs in the outer Galaxy are observed to have smaller column densities (Heyer, Carpenter & Snell 2001), in part because of the greater sensitivity of these observations.\",\n",
       "  'As Larson pointed out, these three relations are not independent; any two of them imply the third. Indeed, if we express the linewidth-size relation as σ ≡ σpc\\nR\\npc\\n1/2, then',\n",
       "  \"relates the three scaling laws. Observations supporting a universal turbulence law (Equation 6) in the Galaxy, and thus small differences in σpc between inner- and outer-Galaxy GMCs (Heyer & Brunt 2004; Heyer, Williams & Brunt 2006) imply that the value of Σ is about the same for all GMCs with αvir ∼ 1, regardless of Galactic location. Observational confirmation of this conclusion would be valuable. Provided Larson's Laws apply, the mean kinetic pressure within GMCs is independent of mass and size, and is given by \\n\\n. For inner-Galaxy GMCs, this is \\n\\n. These results can also be expressed in terms of the sonic length ℓ\\ns\\n (see Section 2.1.3), because \\n\\n if σ ≈ σnt ≫ cs\\n and ℓ = 2R. Gravitationally bound objects (αvir ∼ 1) that obey a linewidth-size relation with an exponent ≃1/2 necessarily have surface densities \\n\\n. The small observed variation in Σ for the set of inner-Galaxy GMCs is then equivalent to a small variation in ℓ\\ns\\n in those clouds (because cs\\n is observed to be about constant). In terms of ℓ\\ns\\n, the mean kinetic pressure in GMCs is \\n\\n.\",\n",
       "  \"Do Larson's laws apply in other galaxies? Blitz et al. (2007) summarize observations of GMCs in galaxies in the Local Group, in which the metallicity varies over the range (0.1 − 1) solar. They find that the GMCs in most of these galaxies would have luminous masses within a factor two of their virial masses if X = 4 × 1020 cm−2 (K km s−1)−1; alternatively, if X has the same value as in the Galaxy, then the GMCs are only marginally bound (αvir ≃ 2). They conclude that metallicity does not have a significant effect on X because the ratio of the virial mass to the CO luminosity is constant in M33, despite a factor of 10 variation in metallicity. (Note, however, that Elmegreen 1989 argues that X depends on the ratio of the metallicity to the intensity of the FUV radiation field, which is not addressed by these results.) Although there is insufficient dynamic range for clear evidence of a relationship between linewidth and size based on current observations, the data are consistent with σ ∝ R\\n1/2 but with values of σpc (and therefore ℓ\\ns\\n) that vary from galaxy to galaxy. Blitz et al. (2007) also find that GMC surface densities have a relatively small range within any given Local Group galaxy, and vary from ∼50 M\\n⊙ pc−2 for the SMC (L. Blitz, personal communication) to >100 M\\n⊙ pc−2 for M33.\",\n",
       "  'There are currently two main conceptual frameworks for interpreting the data on GMC properties. One conception of GMCs is that they are dynamic, transient entities in which the turbulence is driven by large-scale colliding gas flows that create the cloud (e.g., Heitsch et al. 2005, Vázquez-Semadeni et al. 2006, Ballesteros-Paredes et al. 2007). This picture naturally explains why GMCs are turbulent (at least in the initial stages), and why the linewidth-size relation within clouds has an exponent of 1/2—simply due to the scaling properties of supersonic turbulence. However, it is less obvious why αvir ∼ 1 and why Σ has a particular value, because small-scale dense structures may form (and collapse) at stagnation points in a high-velocity compressive flow before sufficient material has collected to create a large-scale GMC. Indeed, based on simulations with a converging flow of ∼20 km s−2 with no stellar feedback, Vázquez-Semadeni et al. (2007) find that star formation occurs when the column density is NH\\n ≈ 1021 cm−2, a factor of 10 below the mean observed value for GMCs. They also find that αvir remains near unity after self-gravity becomes important, although the kinetic energy is primarily due to the gravitational collapse of the cloud, not to internal turbulence. Zuckerman & Palmer (1974) argued many years ago that GMCs cannot be in a state of global collapse without leading to an unrealistically high SFR. Proponents of the transient GMC picture counter by pointing out that most of the gas in GMCs is unbound and never forms stars (e.g., Clark et al. 2005); the global collapse is reversed by feedback from stars that form in the fraction of the gas that is overdense and bound. Indeed, individual star formation proceeds more rapidly than global collapse in essentially all turbulent simulations (see also Section 3.2.2). However, dominance of global collapse and expansion over large-scale random turbulent motions has not been confirmed from observations.',\n",
       "  'In the second conceptual framework, GMCs are formed by large-scale self-gravitating instabilities (see Section 3.2.1), and the turbulence they contain is due to a combination of inheritance from the diffuse ISM, conversion of gravitational energy to turbulent energy during contraction, and energy injection from newly formed stars (Section 3.2.2); the balance among these terms presumably shifts in time. In the work of Chièze (1987), Elmegreen (1989), Maloney (1988), McKee & Holliman (1999), and McKee (1999), GMCs are treated as quasi-equilibrium, self-gravitating objects, so that the virial parameter is near-unity by definition. Whether or not equilibrium holds, the virial parameter is initially of order unity in scenarios involving gravitational instability because GMCs separate from the diffuse ISM as defined structures when they become gravitationally bound. For a quasi-equilibrium, the mean surface density is set by the pressure of the ambient ISM (see Section 2.2), which in turn is just the weight of the overlying ISM. Elmegreen (1989) has given explicit expressions for how the coefficient in the linewidth-size relation and the surface density depend on the external pressure, finding results that are comparable with observed values. In particular, the cloud surface density scales with the mean surrounding surface density of the ISM. Even if GMCs are not equilibria, if they are formed due to self-gravitating instabilities in spiral arms (e.g., Kim & Ostriker 2002, 2006) they must initially have surface densities a factor of a few above the mean arm gas density, consistent with observations. Provided that stellar feedback destroys clouds within a few (large-scale) dynamical times before gravitational collapse accelerates, the mean surface density would never greatly exceed the value at the time of formation. Simple models of cloud evolution with stellar feedback (e.g., Krumholz, Matzner & McKee 2006) suggest that the scenario of slow evolution with αvir = 1 − 2 is self-consistent and yields realistic star-formation efficiencies, but more complete studies are needed.',\n",
       "  'The two approaches to interpreting GMC dynamics correspond to two alternate views on GMC lifetimes. Elmegreen (2000) argued that, over a wide range of scales, star formation occurs in about 1 − 2 dynamical crossing times of the system, \\n\\n. Ballesteros-Paredes, Hartmann & Vázquez-Semadeni (1999) and Hartmann, Ballesteros-Paredes & Bergin (2001) focused on the particular case of star formation in Taurus, and argued that it occurred in about one dynamical time. The alternate view is that GMCs are gravitationally bound and live at least 2 − 3, and possibly more, crossing times, t\\ncross ≃ 10M\\n6\\n1/4 Myr, where M\\n6 ≡ M/(106\\nM\\n⊙) and a virial parameter αvir ∼ 1 = 2 is assumed (Palla & Stahler 2000; Huff & Stahler 2006; Tan, Krumholz & McKee 2006; note that the crossing time in the nearby star-forming region in Taurus is ∼106 years, whereas in a large GMC it is ∼107 years). However, GMCs (as opposed to structures within them) cannot be too close to being equilibria, because they do not appear to have a systematic, global density stratification, nor does the linewidth-size relation within individual clouds differ from that in unstratified clouds. (Note that logatropic clouds can account for the observed relation δ v ∝ ℓ1/2 only if they are unbound—see Section 2.2). Estimates (empirical and theoretical) of GMC lifetimes are discussed in Section 3.2.2. It should be borne in mind that the difference between the two scenarios is only a factor of ∼2 − 3 for GMC lifetimes, which makes it difficult to obtain an unambiguous observational resolution purely based on timescales. However, there are major physical distinctions between the limiting cases of the scenarios that are under consideration—e.g., collapse triggered in colliding flows versus a quasi-steady state supported by internally driven turbulence. As complete numerical simulations are developed to flesh out the current proposals, it will be possible to distinguish among them using detailed kinematic observations.',\n",
       "  'GMCs are highly clumped, so that a typical molecule is in a region with a density significantly greater than average. Liszt (1993) finds that the typical density of molecular gas in the Galactic plane is n\\nH ≃ 3 × 103 cm−3; Sanders et al. (1993) find a somewhat higher value from a multitransition study, n\\nH ≃ (4 − 12) × 103 cm−3. However, the mean density in GMCs is considerably less: because \\n\\n and \\n\\n,',\n",
       "  'where we have normalized the column density to the typical value in the Solomon et al. (1987) sample. The effective filling factor of this molecular gas is then',\n",
       "  'Note that because f ≤ 1, clouds with M ≲ 103\\nM\\n⊙ must have column densities less than the Solomon et al. (1987) value if their typical density is ∼3000 cm−3. The small filling factor of molecular gas in GMCs is expected in turbulent clouds (Section 2.1.4). It should be noted that star-forming clumps are themselves clumpy, and contain the cores that will evolve into stars.',\n",
       "  'The nature of the interclump medium is uncertain; it is not even known if it is atomic or molecular (Williams, Blitz & McKee 2000). Hennebelle & Inutsuka (2006) have suggested that the damping of hydromagnetic waves incident from the ambient ISM could maintain an interclump medium made up of warm HI.',\n",
       "  \"The physical conditions in clumps and cores have been thoroughly reviewed by Di Francesco et al. (2007) and Ward-Thompson et al. (2007), and we address only a few issues here. First, how well are Larson's laws obeyed in clumps and cores? Most 13CO clumps are unbound, and therefore do not obey Larson's laws (e.g., Carr 1987); the mass distribution of such clumps can extend in an unbroken power-law from several tens of solar masses down to Jupiter masses (Heithausen et al. 1998). However, Bertoldi & McKee (1992) found that most of the mass in the clouds is concentrated in the most massive clumps, and these appear to be gravitationally bound. The virial parameter for the unbound clumps decreases with increasing mass, in a manner similar to that observed for both the small molecular clouds and clumps within GMCs in the outer Galaxy (Heyer, Carpenter & Snell 2001). They found that the velocity dispersion in the unbound clumps is approximately independent of clump mass (or, because the clump density is also about constant in each cloud, of clump size): the unbound clumps do not obey a linewidth-size relation. Heyer, Carpenter & Snell (2001) find the same result for clumps in the outer Galaxy. By contrast, Falgarone, Puget & Perault (1992) found that unbound clumps do obey a line width–size relation, albeit with considerable scatter. Bertoldi & McKee (1992) showed that the kinetic pressure in the unbound clumps in their study is comparable to that in the host molecular cloud, which is P ≃ GΣMC\\n2 (Equation 12). Further evidence on whether clumps or cores are bound is imprinted in their shapes and density structure and is discussed below.\",\n",
       "  'It is difficult to determine from the data whether there is a linewidth-size relation within individual clumps and cores. For low-mass cores, Barranco & Goodman (1998) (see also Goodman et al. 1998, Tafalla et al. 2004) found that the nonthermal linewidth decreases and then reaches a minimum plateau level at a finite impact parameter ∼ 0.1 pc from the center of the core. Because of projection effects, however, it is not possible to determine whether the observed turbulence pervades the whole volume interior to that radial impact parameter, or whether the turbulence is primarily in a shell surrounding a more quiescent core; it is also possible that the nonthermal linewidth is due to coherent oscillations of the cores (Keto et al. 2006). A linewidth-size relation in the ensemble of different gravitationally bound clumps and cores is expected only if they have similar surface densities (Equation 27). Jijina, Myers & Adams (1999) carried out a comprehensive study of cores and star-forming clumps (in our terminology; dense cores in theirs) observed in NH3 and found that the objects with and without associated IRAS (Infrared Astronomical Satellite) sources each obeyed a nonthermal linewidth-size relation with slopes of about 0.5 and 0.8, respectively. When the sample was divided into objects associated with or without clusters (defined as having at least 30 embedded YSOs), the cluster sample had a weak correlation between linewidth and size with a slope of only about 0.2, whereas the noncluster sample had a stronger correlation with a slope of about 0.6. However, as remarked above, Heyer, Carpenter & Snell (2001) found no evidence for a linewidth-size relation for small (<104\\nM\\n⊙) molecular clouds in the outer Galaxy; furthermore, they did not find evidence for a constant surface density at any mass. Plume et al. (1997) observed a sample of clumps that are forming high-mass stars, and did not find a linewidth-size relation.',\n",
       "  'The lack of an observed linewidth-size relation in observed unbound clumps within a given cloud is at first puzzling, because defined volumes should sample from the overall structure function of the GMC, which follows δ v ∝ ℓ0.5 (Section 2.1.5). Analysis of turbulence simulations offers a resolution to this puzzle, suggesting that many apparent clumps in moderate-density tracers such as 13CO are not, in fact, single physical entities. Observationally, clumps are generally identified as connected overdense peaks in position-velocity data cubes, with the line-of-sight velocity acting as a surrogate for line-of-sight position. Analysis of simulations shows, however, that many position-velocity clumps in fact consist of separate physical structures superimposed on the sky; correspondingly, many physically coherent structures have two or more separate components when observed in line-of-sight velocity (Pichardo et al. 2000; Ostriker, Stone & Gammie 2001; Ballesteros-Paredes & Mac Low 2002). Because low-contrast apparent clumps with any plane-of-sky size may sample from the velocity field along the whole line of sight, the linewidth varies only very weakly with size. Because a fraction of the apparent clumps sample velocities from a range of line-of-sight distances no larger than their transverse extent, however, Ostriker, Stone & Gammie (2001) argued that the lower envelope of the clump linewidth-size distribution should follow the scaling defined by the true 3D power spectrum; this is generally consistent with observations (Stutzki & Guesten 1990; Williams, de Geus & Blitz 1994).',\n",
       "  \"What about Larson's third law? Because gravitationally bound clumps have P ≃ GΣbd clump\\n2, and the mean pressure in a stable, bound clump without an internal energy source cannot be much greater than the ambient pressure, it follows that typically Σbd clump is comparable to ΣGMC (e.g., McKee 1999). The high-mass, star-forming clumps studied by Plume et al. (1997) violate this conclusion: They have \\n\\n with considerable dispersion, which is much greater than the typical GMC surface density ∼170 M\\n⊙ pc−2. There are several possible explanations for this, and it is important to determine which is correct: Are these clumps just the innermost, densest parts of much larger clumps? Do they have much higher pressures than their surroundings but are avoiding gravitational collapse owing to energy injection from star formation? Or are they the result of a clump-clump collision that produced unusually high pressures?\",\n",
       "  'The density structure, velocity structure, and shape of cores offer potential means for determining whether they are dynamic objects, with short lifetimes, or quasi-equilibrium, gravitationally bound, objects. The observation of the Bok globule B68 in near-IR absorption revealed an angle-averaged density profile consistent with that of a Bonnor-Ebert sphere to high accuracy (Alves, Lada & Lada 2001). Since then, a number of other isolated globules and cores have been studied with the same technique and fit to Bonnor-Ebert profiles, showing that starless cases are usually close to the critical limit, whereas cases with stars often match supercritical profiles (Teixeira, Lada & Alves 2005; Kandori et al. 2005). Profiles of dense cores have also been obtained using submillimeter dust emission (see Di Francesco et al. 2007). A recent study by Kirk, Ward-Thompson & André (2005) found that bright starless cores have density profiles consistent with supercritical Bonnor-Ebert spheres.',\n",
       "  'Consistency of density profiles with the Bonnor-Ebert profile does not, however, necessarily imply that a core is bound. Analysis of dense concentrations that arise in turbulence simulations show that Bonnor-Ebert profiles often provide a good fit to these structures (provided they are averaged over angles), even when they are transients rather than true bound cores (Ballesteros-Paredes et al. 2007). Even if a cloud with a Bonnor-Ebert profile is bound, however, it need not be in equilibrium: Myers (2005) and Kandori et al. (2005) have shown that density profiles of collapsing cores initiated from near-critical equilibria in fact follow the shapes of static supercritical equilibria very closely. The reason for this is that initially these cores collapse slowly, so that they are approximately in equilibrium; at later times, they evolve via “outside-in” collapse to a state that is marginally Jeans unstable everywhere (ρ ∝ r\\n−2—Section 4.1) except in a central core, which is similar to the density profile of a highly supercritical Bonnor-Ebert sphere. Thus, not only the density structure but also the level of the internal velocity dispersion and detailed shape of the line profiles must be used in order to distinguish between transient, truly equilibrium, and collapsing objects (Keto & Field 2005).',\n",
       "  'Core shapes also provide information on whether cores are transient or are bound, quasi-equilibrium objects. In the absence of a magnetic field, a quasi-equilibrium, bound cloud is approximately spherical. If the cloud is threaded by a magnetic field that tends to support the cloud against gravity, it will be oblate; if the field tends to compress the cloud (as is possible for some helical fields–Fiege & Pudritz 2000), it will be prolate. If one assumes axisymmetry, the distribution of observed axis ratios implies dense cores are primarily prolate (Ryden 1996). However, this conclusion appears to be an artifact of the assumption of axisymmetry: using the method of analysis for triaxial clouds developed by Basu (2000) and Jones, Basu & Dubinski (2001), Jones & Basu (2002) concluded that cores with sizes <1 pc are, in fact, oblate. Basu (2000) showed that if the magnetic field is aligned with the minor axis, as in most quasi-equilibrium models, the projection of the field on the plane of the sky will not generally be aligned with the projection of the minor axis, and he argued that the limited polarization data available are consistent with the theoretical expectation that the field in the cloud is aligned with the minor axis of the cloud. Kerton et al. (2003) showed that larger structures, extending up to GMCs, are intermediate between oblate and prolate, and are clearly distinct from the smaller objects. This is consistent with the analyses of clump shapes in turbulence simulations by Gammie et al. (2003), and Li et al. (2004), who found that the majority of objects are triaxial. The data on cores and small clumps are thus consistent with (but do not prove) that they are bound, quasi-equilibrium objects. Large clumps and GMCs appear to be farther from equilibrium.',\n",
       "  'A key feature of the cores that form individual low-mass stars is that they have low nonthermal velocities, whether these cores are found in isolation or clustered with other cores (Di Francesco et al. 2007, Ward-Thompson et al. 2007). The mean 1D velocity dispersion in starless cores based on the sample of Benson & Myers (1989) is 0.11 km s−1, such that the 3D velocity dispersion is approximately sonic. This places constraints on theoretical models, and in particular may constrain the nature of turbulent driving. Klessen et al. (2005) compared the results for cores identified in two (unmagnetized) simulations with the same RMS Mach number ≈10, one driven on large scales and the other driven on small scales; the time correlation of the driving force is short for both cases. They found that only with large-scale driving is the mean turbulence level within cores approximately sonic; in the small-scale driving case the preponderance of cores are supersonic. Klessen et al. (2005) also found that the starless cores in their large-scale-driving models are within a factor of a few of kinetic and gravitational energy equipartition. In the 2D MHD simulations of Nakamura & Li (2005) that implement driving by instantaneous injection of radial wind momentum when (low-mass) stars are formed, the dense cores that are identified also primarily have subsonic internal motions. Importantly, both types of models show that dense, quiescent cores can form in a turbulent environment; the slow, diffusive formation of quiescent cores central to the older picture of star formation does not seem to be required.',\n",
       "  'What happens to dense cores once they form? Cores that have sufficient internal turbulence compared to their self-gravity will redisperse within a crossing time. Cores that reach low enough turbulence and magnetization levels (allowing for dissipation) within a few local free-fall times will collapse if M > M\\ncr. Vázquez-Semadeni et al. (2005) found that in globally supercritical 3D simulations with driven turbulence, cores that collapse do so within 3–6 local free-fall times of their formation. Nakamura & Li (2005) found via 2D simulations including ambipolar diffusion that even when the mass in the simulation volume is 20% less than critical, supercritical cores can form; these then either collapse or redisperse within several local free-fall times. In both cases (see also Krasnopolsky & Gammie 2005), only magnetically supercritical cores collapse, as expected. Quiescent cores that are stable against gravitational collapse could in principle survive for a long time (Lizano & Shu 1989), undergoing oscillations in response to fluctuations in the ambient medium (Keto & Field 2005, Keto et al. 2006). Because they are only lightly bound, however, such failed cores can also be destroyed relatively easily by the larger-scale, more powerful turbulence in the surrounding GMC. This process is clearly seen in numerical simulations; Vázquez-Semadeni et al. (2005) and Nakamura & Li (2005) found that the bound cores that subsequently disperse do so in 1–6 × t\\nff. Quiescent, magnetically subcritical cores with thermal pressure ρcore\\ncs\\n\\n2 exceeding the mean turbulent pressure \\n\\n (so that the core would collapse in the absence of magnetic support) cannot easily be destroyed, however, and it is likely that they remain intact until they merge with other cores to become supercritical. Simulations have not yet afforded sufficient statistics to determine the mean time to collapse or dispersal as a function of core properties and cloud turbulence level, or whether there is a threshold density above which ultimate collapse is inevitable.',\n",
       "  'Observationally, core lifetimes can be estimated by using chemical clocks or from statistical inference. The formation of complex molecules takes ∼105 years at typical core densities, but this clock can be reset by events that bring fresh C and C+ into the core, such as turbulence or outflows (Langer et al. 2000). A potentially more robust clock is provided by observations of cold HI in cores: Goldsmith & Li (2005) infer ages of 106.5−7 years for five dark clouds from the low observed values of the H0/H2 ratio. These age estimates would be reduced if clumping is significant and hence the time-averaged molecule formation rate is accelerated, but, as in the case of complex molecules, they would be increased if turbulent mixing were effective in bringing in fresh atomic hydrogen. In simulations of molecule formation in a turbulent (and therefore clumpy) medium, Glover & Mac Low (2007) find that H2 formation is indeed accelerated when compared with the nonturbulent case, although the atomic fractions they found are substantially greater than those observed by Goldsmith & Li (2005). If confirmed, these ages, which are considerably greater than a free-fall time, would suggest that these dark clouds are quasi-equilibrium structures.',\n",
       "  'Statistical studies of core lifetimes are based on comparing the number of starless cores with the number of cores with embedded YSOs and the number of visible T Tauri stars (TTSs). The ages of the cores (starless and with embedded YSOs) can then be inferred from the ages of the T Tauri population, provided that most of the observed starless cores will eventually become stars. The results of several such studies have been summarized by Ward-Thompson et al. (2007), who conclude that lifetimes are typically 3 − 5 t\\nff for starless cores with densities n\\nH2\\n = 103.5 − 105.5 cm−3. This is not consistent with dynamical collapse, nor is it consistent with a long period (> 5 t\\nff) of ambipolar diffusion. It is consistent with the ambipolar diffusion in observed magnetic fields (Section 2.3), which are approximately magnetically critical. Of course, cores are created with a range of properties, and observational statistics are subject to an evolutionary selection effect: Cores that are born or become supercritical evolve rapidly into collapse, and are no longer counted among the starless population. Given a population with a range of intrinsic lifetimes (but similar birth rates), the longest-lived objects will be the best represented. The data rule out the possibility that most cores are born very subcritical and lose their magnetic flux slowly, over ∼10t\\nff.',\n",
       "  'The angular momentum of cores was initially regarded as a bottleneck for star formation, but extensive theoretical analysis led to the conclusion that magnetic fields would provide an effective braking mechanism (e.g., Mestel 1985; Mouschovias 1987). Observations have established that the angular momentum, or equivalently, the rotational energy, of cores is indeed small (e.g., Goodman et al. 1993; Jijina, Myers & Adams 1999; Caselli et al. 2002; Pirogov et al. 2003). Goodman et al. (1993) characterized the rotational energy by the parameter',\n",
       "  'which is the ratio of the rotational energy to the gravitational binding energy for a uniformly rotating, constant density sphere; they found a median value βrot ≃ 0.03. The specific angular momenta j in this sample range from 6 × 1020 − 4 × 1022 cm2 s−1 and increase with size approximately as j ∝ R\\n3/2. Interestingly enough, Burkert & Bodenheimer (2000) showed that rotation arising from sampling turbulent fluctuations with a Burgers power spectrum (and normalization matched to observations) is adequate to account for the observations; in this picture, the role of magnetic braking on small scales is unclear. (However, magnetic braking appears to be clearly significant in regulating the spin of GMAs and hence GMCs—Rosolowsky et al. 2003; Kim, Ostriker & Stone 2003). Because j ∝ vR and v ∝ R\\n1/2 for large-scale turbulence, the observed j ∝ R\\n3/2 relation is what would be expected if core turbulence scales similarly. Li et al. (2004) indeed find agreement with this scaling from cores identified in their simulations. Gammie et al. (2003) and Jappsen et al. (2005) both find that the mean specific angular momentum of cores in their models [using grid-based MHD and (unmagnetized) SPH, respectively] is given in terms of the sound speed and large-scale Jeans length by ∼0.1cs\\n λJ; Jappsen et al. (2005) show that if the mean density is adjusted so that core masses match those in observed regions, then the mean angular momentum distributions match as well. For cores that collapse, Jappsen et al. (2005) also found that the distributions of βrot are similar to those obtained by Goodman et al. (1993).',\n",
       "  'In principle, GMCs could form either by bottom-up or by top-down processes. In bottom-up formation, successive inelastic collisions of cold HI clouds would gradually increase the mean cloud size and mass until that of a (self-gravitating) GMC is reached (e.g., Field & Saslaw 1965, Kwan 1979). The difficulty with this coagulation scenario, as was recognized early, is that it is very slow; e.g., Kwan (1979) found that the time needed for the peak of the mass distribution to exceed 105\\nM\\n⊙ is more than 2 × 108 years. The binary collision time for spherical clouds of radius R\\ncl and density ρcl is \\n\\n, where \\n\\n is the density averaged over large scales and σ is the 1D velocity dispersion over the mean intercloud separation (see Binney & Tremaine 1987, Equation 8–122; note that for considering agglomeration we neglect grazing collisions, choosing a maximum impact parameter R\\ncl). Expressed in terms of the cloud gathering scale \\n\\n in the diffuse ISM, or in terms of the cloud surface density \\n\\n, the collision time is',\n",
       "  'The mean intercloud separation is comparable to 2R\\ngath, which exceeds the atomic disk scale height H ≈ 150 pc (Malhotra 1995) for \\n\\n. We can use Equation 31 to estimate the collision time if all the diffuse ISM gas were apportioned into equal-mass clouds with equal surface density. Using \\n\\n for the nonthermal velocity dispersion in the diffuse ISM at large (≳ H) scales (Heiles & Troland 2003), Σcl ≈ 170 M\\n⊙ pc−2 for the mean GMC column (Solomon et al. 1987), and mean density of \\n\\n typical of the diffuse ISM at the Solar circle (Dickey & Lockman 1990), this yields a collision timescale >5 × 108 years. Gravitational focusing in principle decreases the cloud-cloud collision time, but in practice this does not help in forming GMCs from atomic clouds because the reduction factor for the collision time, [1 + π GR\\ncl Σcl/σ2]−1, is near unity until the clouds are quite massive (≳ 105\\nM\\n⊙). Even if the background density were arbitrarily (and unrealistically) enhanced by a factor of 100 to approach ρcl, the total time of 40 Myr required to build clouds from 104\\nM\\n⊙ to 5 × 106\\nM\\n⊙ (by successive stages of collisions) would still exceed the estimated GMC lifetimes. These lifetimes are set by the time required to destroy clouds by a combination of photodissociation and mechanical unbinding by expanding HII regions (see Section 3.2.2). Thus, if coagulation were the only way to build GMCs, the process would be truncated by destructive star formation before achieving the high GMC masses in which most molecular mass is actually found.',\n",
       "  'Given the timescale problem and other difficulties of bottom-up GMC formation (e.g., Blitz & Shu 1980), starting in the 1980s the focus shifted to top-down mechanisms involving large-scale instabilities in the diffuse ISM (e.g., Elmegreen 1979, 1995). The two basic physical processes that could trigger growth of massive GMCs involve (a) differential vertical buoyancy of varying-density regions along magnetic field lines parallel to the midplane, or (b) differential in-plane self-gravity of regions with varying surface density. The first type of instability is generically termed a Parker instability (Parker 1966). The second type of instability is generically a Jeans instability, although the simplest form of Jeans instability involving just self-gravity and pressure cannot occur, owing to galactic (sheared) rotation (see Section 2.2). If the background rotational shear is strong, as in the interarm regions of grand design spirals or in flocculent galaxies, there is no true instability but instead a process known as swing amplification (Goldreich & Lynden-Bell 1965, Toomre 1981); the dimensionless shear rate must be d ln Ω/d ln R ≲ −0.3 for swing amplification to occur (Kim & Ostriker 2001). If, however, the mean background dimensionless shear rate is low (as in the inner parts of galaxies where rotation is nearly solid-body, or as in spiral arms), another type of gravitational instability can develop provided magnetic fields are present to transfer angular momentum out of growing condensations (Elmegreen 1987, Kim & Ostriker 2001); this is referred to as a magneto-Jeans instability (MJI).',\n",
       "  'The characteristic azimuthal spatial scale for Parker instabilities is λϕ ≈ 4π H (Shu 1974). Growth rates are ∝ v\\nA/H, which tends to increase in spiral arms; thus these regions have traditionally been considered most favorable for growth of Parker modes (Mouschovias, Shu & Woodward 1974). Numerical simulations have shown, however, that Parker instability is not on its own able to create structures resembling GMCs, because the instability is self-limiting and saturates with only order-unity surface density enhancement (Kim et al. 1998; Santillán et al. 2000; Kim, Ryu & Jones 2001; Kim, Ostriker & Stone 2002). Spiral arms are also the most favorable regions for self-gravitating instabilities (Elmegreen 1994), because the characteristic (thin-disk) growth rate ∝ GΣgal/cs\\n is highest there. [Here, Σgal is the mean gas surface density averaged over large (greater than kpc) scales in the plane of the disk.] Because the spatial wavelengths of Parker and MJI modes are similar, in principle growth of the former could help trigger the latter within spiral arms (Elmegreen 1982a,b). In fact, it appears that turbulence excited in spiral shocks, together with vertical shear of the horizontal flow, may suppress growth of large-scale Parker modes in arm regions (Kim & Ostriker 2006). Thus, although the Parker instability is important in removing excess magnetic flux from the disk and in transporting cosmic rays (e.g., Hanasz & Lesch 2000), it may be of limited importance in the formation of GMCs.',\n",
       "  'Self-gravitating instabilities, unlike buoyancy instabilities, lead to ever-increasing density contrast if other processes do not intervene. The same is true for the swing amplifier if the (finite) growth is sufficient to precipitate gravitational runaway. The notion that there should be a threshold for star formation depending on the Toomre parameter,',\n",
       "  'is based on the idea that star-forming clouds can form by large-scale self-gravitating collective effects only if Q is sufficiently low. Here κ2 ≡ R\\n−3 ∥ (Ω2\\nR\\n4)/∥ R is the squared epicyclic frequency, and cs\\n is the mean sound speed of the gas. Numerical simulations have been used to determine the nonlinear instability criterion, finding that gravitationally bound clouds form provided Q < Q\\ncrit ≈ 1.5 in model disks that allow for realistic vertical thickness, turbulent magnetic fields, and a live stellar component (Kim, Ostriker & Stone 2003; Li, Mac Low & Klessen 2005b; Kim & Ostriker 2007; these models do not include global spiral structure in the gas imposed by variations in the stellar gravitational potential—see below.) These results agree with empirical findings for the mean value of Q at the star-formation threshold radii in nearby galaxies (e.g., Quirk 1972, Kennicutt 1989, Martin & Kennicutt 2001).',\n",
       "  'The masses of bound clouds formed via self-gravity in galactic disk models where the background gas surface density is relatively uniform are typically a few to ten times the 2D Jeans mass,',\n",
       "  'depending on the specific ingredients of the model (Kim, Ostriker & Stone 2002, 2003; Kim & Ostriker 2007).',\n",
       "  'Observations of external galaxies with prominent spiral structure show that most of the molecular gas is concentrated in the spiral arms (e.g., Helfer et al. 2003, Engargiola et al. 2003), and within the Milky Way the most massive clouds that contain most of the mass and forming stars are strongly associated with spiral arms (Solomon, Sanders & Rivolo 1985; Solomon & Rivolo 1989; Heyer & Terebey 1998; Stark & Lee 2006). The observed relationship between GMCs and spiral structure suggests that molecular clouds are preferentially born in the high density gas that makes up the arms; this is consistent with theoretical expectations because growth rates for all proposed mechanisms increase with the gas surface density. As noted above, collisional coagulation is expected to be too slow in spiral arms; gravitational instabilities are, however, faster (e.g., Elmegreen 1990). Taking the ratio of the collision rate t\\ncollis\\n−1 to the characteristic growth rate of the MJI, π GΣgal/cs\\n, and setting σ = cs\\n and H ≈ cs\\n\\n2/(π GΣgal) (because gas gravity dominates stellar gravity in the arm), the result is \\n\\n. Thus, the collision rate is lower than the self-gravity contraction rate by roughly the surface filling factor of clouds in the arm, ∼0.2 − 0.5 if the arm surface density is enhanced by a factor of 3–6 above the mean value.',\n",
       "  'To obtain realistic estimates of the masses and other properties of clouds formed via gravitational instabilities, it is necessary to include the effects of spiral structure in detailed numerical models. Diffuse gas entering a spiral arm will in general undergo a shock, significantly increasing the background density (e.g., Roberts 1969; Shu, Milione & Roberts 1973); gas self-gravity enhances the maximum compression factor and also tends to symmetrize the gas density profile across the arm (Lubow, Cowie & Balbus 1986). In addition to strong variations in the gas surface density, spiral structure induces corresponding local variations in the gas flow velocity (both compression and streaming). Because the Jeans length is not small compared to the scale of these variations, the background arm profile must be taken into account in studying growth of self-gravitating condensations (Balbus 1988). Kim & Ostriker (2002) performed 2D MHD simulations of this process, showing that bound condensations develop both within the spiral arms themselves and also downstream from the arms in trailing gaseous spurs. Based on 3D local MHD simulations (Kim & Ostriker 2006) and 2D thick disk global simulations (Shetty & Ostriker 2006), bound gas condensations formed in spiral arms (and arm spurs) have typical masses 1 − 3 × 107\\nM\\n⊙. This value is about 10 times the thin-disk 2D Jeans mass using the peak arm density in Equation 33, or comparable to the value of the thick disk Jeans mass M\\n\\nJ\\n thick = 2π cs\\n\\n2\\nH/G, which is obtained using the gravitational kernel Φ\\nk\\n = −2π GΣ\\nk\\n/(k + k\\n2\\nH).',\n",
       "  'The masses of the bound structures formed via self-gravitating instabilities are comparable to the upper end of the mass function of GMCs in the Milky Way (see Equation 25), allowing for HI envelopes; they are also comparable to the masses of GMAs that have been observed in external spiral galaxies (e.g., Vogel, Kulkarni & Scoville 1988; Aalto et al. 1999; Rand, Lord & Higdon 1999). In addition, the morphology and spacing of spiral-arm spurs predicted to form via self-gravity effects are consistent with structures that have been observed at a variety of wavelengths (e.g., Elmegreen 1980; La Vigne, Vogel & Ostriker 2006). This spacing (of several times the Jeans length in the arm, cs\\n\\n2/[GΣgal, arm]) is similar to that of giant HII regions arranged as “beads on a string” along spiral arms in many grand design spirals (Elmegreen & Elmegreen 1983), and also similar to the spacings of giant IR clumps observed with Spitzer along the spiral arms of interacting galaxies IC 2163 and NGC 2207 (Elmegreen et al. 2006). These giant IR clumps typically host a number of individual (optically observed) HII regions associated with star clusters. Although current millimeter-wavelength observations have insufficient resolution to identify subcondensations within GMAs in external galaxies, it is expected that their internal turbulence would create density substructure, just as the internal turbulence of GMCs fragments them into clumps. Because the mean density within GMCs is comparable to the typical density of cold clouds in the atomic medium, the pre-existing cloudy structure of the diffuse ISM would contribute to, but not dominate, the internal structure within GMCs. In this top-down picture, the more massive, self-gravitating, substructures within GMAs (or analogous atomic superclouds) would then become gravitationally bound GMCs.',\n",
       "  'Although large-scale self-gravitating instabilities appear necessary for forming massive GMCs, and many low-mass GMCs may form via fragmentation of massive GMCs or GMAs, it remains possible that a proportion of the low-mass GMCs form through other mechanisms. Several recent studies have explored the possibility of GMC assembly via colliding supersonic flows (e.g., Chernin, Efremov & Voinovich 1995; Vázquez-Semadeni, Passot & Pouquet 1995; Ballesteros-Paredes et al. 1999; Heitsch et al. 2005; Vázquez-Semadeni et al. 2007); in this scenario the postshock gas in the stagnation region (which in fact becomes turbulent) represents the nascent GMC. For diffuse ISM gas at mean density \\n\\n with relative (converging) velocity v\\nrel, a total column of shocked gas Σcl builds up over time',\n",
       "  'note that modulo order-unity coefficients this time are the same as the result in Equation 31, with the velocity dispersion of the cloud distribution replaced by the relative velocity of the converging flow. Correlated flows can only be maintained up to the flow timescale over the largest spatial scale of the turbulence, ∼2H ∼ 300 pc. With v\\nrel equal to the RMS relative velocity \\n\\n for a Gaussian with 1D velocity dispersion σ ≈ 7 km s−1, this is ≈ 2 × 107 years, yielding a column ≈1021 cm−2 for \\n\\n (note that the shock velocity is about v\\nrel/2). If the interstellar magnetic field does not limit the compression of the shocked gas (an artificial assumption, requiring flow along field lines only), the postshock gas would have high enough density for significant amounts of H2 to form within the overall accumulation time, and the shielding from the diffuse UV is sufficient for CO to begin to form (Hartmann, Ballesteros-Paredes & Bergin 2001; Bergin et al. 2004). However, it should be noted that for a shock velocity of 10 km s−1, corresponding to a relative velocity of 20 km s−1, less than half the C is in CO after 108 years according to the 1D calculations of Bergin et al. (2004). Turbulence-induced clumping can accelerate molecule formation rates (Elmegreen 2000, Glover & Mac Low 2007), alleviating the timescale problem. The molecule formation rate is proportional to the mass-weighted mean density 〈n〉\\nM\\n, which is larger than the volume-weighted mean density \\n\\n in a turbulent flow (see Section 2.1.4). Because \\n\\n for typical turbulence levels in GMCs, this reduces the typical molecule formation time (Tielens 2005), \\n\\n, to 1–2 Myr. Even so, the discussion above shows that the maximum column density produced in the colliding-flow scenario is ∼1021 cm−2, which is lower by an order of magnitude than the mean value of the column of molecular gas in Milky Way GMCs; thus, this process can account for at most a small fraction of the molecular gas mass in GMCs. Because gravitational instabilities are suppressed by the high Q values in interarm regions, however, the turbulent accumulation mechanism may be more important there. Potentially, this may account for the observed difference (see above) between arm and interarm GMC masses in the Milky Way, as well as for the very low surface densities Σcl observed for many of the outer-Galaxy molecular clouds (Heyer, Carpenter & Snell 2001).',\n",
       "  'Finally, we note that the dynamical considerations for gravitationally bound cloud formation apply whether the diffuse gas is primarily atomic, as is the case in the Solar Neighborhood and the outer portions of galaxies more generally, or whether the diffuse gas is primarily molecular, as is true in the inner portions of many galaxies. The time- and length scales involved depend on the effective pressure in the diffuse gas, which includes thermal as well as turbulent and magnetic terms. If the diffuse gas is primarily molecular (or cold atomic) by mass, then the mean turbulent and Alfvén speeds will exceed the thermal speed in the dense gas. The thermal sound speed cs\\n in Equations 32 and 33 must then be replaced by an appropriately defined c\\neff that incorporates the effects of turbulent kinetic and magnetic pressures (the form of c\\neff would depend on the detailed multiphase structure of the gas). Similarly, the characteristic timescale for self-gravitating cloud formation becomes',\n",
       "  'Turbulent velocity dispersions and magnetic field strengths are observed to be similar in the cold and warm diffuse gas in the Solar Neighborhood (Heiles & Troland 2003, 2005), and both observations and simulations (Piontek & Ostriker 2005) show that magnetic pressure is generally a factor of two larger than the thermal pressure.',\n",
       "  'The transition from having primarily atomic to primarily molecular gas typically occurs where the total gas surface density Σgal ≈ 12 M\\n⊙ pc−2 (Wong & Blitz 2002; Blitz & Rosolowsky 2004) and where the mean midplane pressure is inferred to lie in the range P/k = 104 − 105 K cm−3 (Blitz & Rosolowsky 2006). This transition occurs due to a combination of increased self-shielding (hence a lower H2 dissociation rate) as Σgal increases, and increased density (hence increased H2 formation rate) as both Σgal and the stellar surface density increase toward the center of a galaxy (Elmegreen 1993a, Blitz & Rosolowsky 2004).',\n",
       "  'GMCs are born in spiral arms downstream from the large-scale shock fronts and begin life in a very turbulent state. As they contract under the influence of gravity, this turbulence decays, although the rate of decay is slowed by compression. Mestel & Spitzer (1956) conjectured that turbulence would decay in about a crossing time, and for that reason rejected turbulence as a mechanism for supporting clouds against gravitational collapse (see also Mouschovias, Tassis & Kunz 2006, who argue for magnetic support). Indeed, in simulations that do not include energy injection, the contraction eventually evolves into free-fall collapse (cf. Vázquez-Semadeni et al. 2007, who simulated the formation of molecular clouds in colliding flows, as discussed above), which is generally not observed. Furthermore, as discussed in Section 3.1, turbulence in molecular clouds is observed to be ubiquitous, suggesting that there is some mechanism acting to inject turbulent energy into clouds. How important is energy injection to the structure and evolution of molecular clouds?',\n",
       "  'Broadly speaking, there are two modes of energy injection, external and internal. External mechanisms tap the turbulence in the diffuse ISM, and because these modes are large scale, external driving would tend to yield a power spectrum that rises all the way to the largest scale in the GMC (see Section 2.1.1). In terms of total amplitudes, however, external driving may have limited practical importance. For example, though cloud-cloud collisions could drive turbulence, they may be too rare to be important (except possibly within the denser portions of spiral arms; see above). Magnetorotational instability (MRI) in the Galactic disk (Sellwood & Balbus 1999) connects GMCs to the diffuse ISM by threaded field lines and could therefore help drive GMC turbulence, but it is difficult for this to be effective because GMCs live for only a small fraction of a rotation period (see below), and because MRI is modest compared to other kinetic turbulence drivers in inner galaxies (Piontek & Ostriker 2005). Supernovae are the dominant energy source in most of the diffuse ISM (Mac Low & Klessen 2004), with instabilities in spiral shocks making a significant contribution in spiral arm regions (Kim, Kim & Ostriker 2006). It is difficult, however, for these (or other) processes to transmit energy from the diffuse ISM into molecular clouds, which are much denser (Yorke et al. 1989). In fact, the density contrast between molecular clouds and the ambient medium means that energy tends to be reflected from clouds rather than being transmitted into them [e.g., Elmegreen (1999) and Heitsch & Burkert (2002) showed this for externally generated Alfvén waves]. Thus, external energy is primarily limited to the turbulence GMCs inherit from their formation stages.',\n",
       "  'Internal energy injection is caused by feedback from protostars and newly formed stars. This mechanism is observed to be important, but it remains to be shown that it can account for the ubiquity of turbulence given that star formation is intermittent in both space and time. For example, Mooney & Solomon (1988) find that one-fourth of a sample of inner-Galaxy GMCs show no evidence for the presence of O stars. Norman & Silk (1980) were the first to analyze the importance of energy injection by stellar outflows. At the time of their work, bipolar outflows from protostars were unknown, and they focused on winds from TTSs. They suggested that these winds would blow cavities that would govern the structure of the clouds. Franco (1983) and Franco & Cox (1983) considered rotationally driven winds from protostars as well as T Tauri winds. They estimated the SFR required to keep swept-up shells colliding at a rate high enough to keep the cloud turbulent, and showed that this was roughly consistent with estimates of the Galactic SFR. The effect of stellar energy injection on the surrounding molecular cloud can be described in terms of an energy equation for the cloud (McKee 1989, 1999; Krumholz, Matzner & McKee 2006), \\n\\n where e is the energy per unit mass (including gravitational energy) and \\n\\n and \\n\\n represent energy gains and losses, respectively. The injection of energy into a cloud by stars is often accompanied by mass loss from the cloud. Under the simplifying assumption that mass lost from the cloud does not change the energy per unit mass, the specific energy losses are due to the decay of MHD turbulence, which occurs at a rate (see Section 2.1.2)',\n",
       "  'For a cloud of fixed size, the largest driving scale is λ ≃ 2R; for a cloud undergoing global expansion and contraction, the largest scale is λ ≃ 4R. Next, consider the energy gains. Because the shocks associated with the energy injection are radiative, most of the energy injected by outflows is radiated away. The outflow energy available to drive turbulence in the cloud is about \\n\\n, where pw\\n = mw vw\\n is the momentum, mw\\n the mass, and vw\\n the velocity of the (proto)stellar outflow; as a result, \\n\\n, where \\n\\n is the SFR and M is the cloud (or clump) mass. Balancing the energy gains and losses, \\n\\n, then gives the SFR necessary to maintain the turbulent motions. Norman & Silk (1980), Franco (1983), and McKee (1989) all estimated outflow momenta pw\\n/m\\n\\\\* ≃ 50 − 70 km s−1 for a typical stellar mass m\\n\\\\* = 0.5 M\\n⊙ and found that the energy injection rate was sufficient to support star-forming clouds against collapse. Li & Nakamura (2006) and Nakamura & Li (2007) have carried out 3D MHD simulations of a forming star cluster and found that the rate at which energy is input from protostellar winds maintains the surrounding gas in approximate virial equilibrium. Matzner (2007) has given a general discussion of turbulence driven by protostellar outflows. In particular, he has shown on the basis of dimensional analysis that if outflows occur at a rate per unit volume \\n\\n and inject an average momentum \\n\\n into a medium of density ρ0, then on scales small compared to that at which the outflows overlap, the linewidth-size relation is \\n\\n, where the coefficient is of order unity.',\n",
       "  'There are both observational and theoretical caveats to this picture. Observationally, Richer et al. (2000) cite pw\\n/m\\n\\\\* ≃ 0.3vK\\n, where vK\\n is the Keplerian velocity at the stellar surface; for vK\\n ≃ 200 km s−1, this is pw\\n/m\\n\\\\* ≃ 60 km s−1, in agreement with the values used in these models of energy injection and in agreement with both X-wind and disk models of protostellar outflows. However, some recent observations are in striking disagreement with these estimates: Based on observations of CO outflows by Bontemps et al. (1996), Walawender, Bally & Reipurth (2005) infer a much lower average outflow momentum pw\\n = 1.2 M\\n⊙ km s−1 (it should be noted, however, that they infer a much larger momentum, pw\\n = 18 M\\n⊙ km s−1, in a protostellar jet). Quillen et al. (2005) discovered a number of CO cavities in NGC 1333, which they identified as fossil outflows with pw\\n ∼ 1 M\\n⊙ km s−1; this estimate of the momentum has been confirmed in numerical simulations of fossil outflows (Cunningham et al. 2006). Like Walawender, Bally & Reipurth, they concluded that these outflows could support a region of active star formation like NGC 1333 against gravity, but outflows could not support the larger Perseus cloud in which it is embedded. Clearly, more observational work is needed to determine the rate of protostellar energy injection.',\n",
       "  'The theoretical caveat is that protostellar outflows are unlikely to be effective on the scale of GMCs. Turbulent driving yields a flat power spectrum at scales larger than the input scale of turbulence, regardless of magnetization (see Section 2.1.1). Because the scale of protostellar jets and outflows is small compared to that of a GMC, driving by low-mass stars is inconsistent with observed turbulence spectra that continue rising up to scales of tens of parsecs (see Section 2.1.5); this effect is partly ameliorated by the clustering of stars, because protostellar outflows from a cluster will extend to larger scales than those from individual stars. Protostellar outflows remain a viable energy source for clumps and cores within GMCs, however.',\n",
       "  'Massive stars can inject more momentum into GMCs through HII regions than do the much more numerous low-mass stars through their outflows (Matzner 2002); in addition, HII regions can inject energy on the scale of the GMC (\\nFigure 2\\n), overcoming the limitation of protostellar outflows in this regard. The dominant destruction mechanism for GMCs is via photoevaporation by blister HII regions (see below). The momentum given to a GMC by the loss of a mass δ M in a blister HII region is about 2c\\nII δ M, where c\\nII ≃ 10 km s−1 is the sound speed in the HII region (the factor 2 represents the sum of the thermal and ram pressures in a blister HII region). If the overall star-formation efficiency is εGMC, then a cloud of initial mass M will form a mass of stars εGMC\\nM and will lose a mass (1 − εGMC)M via photoevaporation. The ratio of the momentum given to the cloud by HII regions to that given by protostellar winds is then',\n",
       "  'where we used the value pw\\n/m\\n\\\\* ≃ 60 km s−1 from Richer et al. (2000); if protostellar momentum injection is less efficient than this, then HII regions are correspondingly more important. (Note that if the cloud is disrupted before it is photoevaporated, as can happen to smaller GMCs—see below—both the mass loss and the star formation will be reduced, but p\\nHII/pw\\n will be relatively unaffected.) For GMCs, which have star-formation efficiencies εGMC about a few percent, HII regions dominate the energy injection by an order of magnitude. Large OB associations do not occur in small molecular clouds, so photoevaporation is less important in such clouds; Matzner (2002) estimates that protostellar outflows dominate the energy injection for clouds with masses ≲4 × 104\\nM\\n⊙.',\n",
       "  '',\n",
       "  '\\n Figure 2\\u2002\\n Click to view',\n",
       "  '',\n",
       "  'The same HII regions that inject energy to support GMCs also destroy them. Blitz & Shu (1980) estimated that HII regions would inject enough energy to unbind a GMC in about 107 years. Using a simple analytic model for the evolution of blister HII regions developed by Whitworth (1979) and confirmed in numerical simulations by Yorke et al. (1989), Williams & McKee (1997) concluded that an expanding HII region would sweep up more mass than it ionized, so that a very large HII region would disrupt the cloud before ionizing it. The condition for cloud disruption—that the cloud be engulfed by the HII region—is difficult to meet for massive GMCs (≳106\\nM\\n⊙), but relatively common for small GMCs. Indeed, the Orion molecular cloud may well have been disrupted by previous generations of star formation. If one assumes that the specific SFR is independent of GMC mass, then the observed rate of star formation in the Galaxy implies that GMCs with masses ∼106\\nM\\n⊙ live for about 30 Myr. Matzner (2002) assumed that the SFR in a cloud is self-regulating and found that the specific SFR increases with cloud mass; as a result, he obtained smaller lifetimes for large GMCs, ∼20 Myr. Krumholz, Matzner & McKee (2006) obtained a similar value with a more complete model for GMC evolution (see below).',\n",
       "  'Observational estimates of GMC lifetimes are difficult, although chemical clocks can be used to measure the lifetime of clumps and cores within them (see Section 3.1.2). For the Large Magellanic Cloud (LMC) and M33, Blitz et al. (2007) discuss empirical measures of GMC lifetimes based on their spatial correlation with HII regions and young clusters and associations. About 25% of the GMCs show no evidence for high-mass star formation. This can be interpreted as a delay in the onset of star formation due either to the effects of magnetic fields (McKee 1989, Tassis & Mouschovias 2004), or to the time required to create cluster-forming clumps in a turbulent cloud (from simulations this time is ∼1 − 3t\\nff; e.g., Heitsch, Mac Low & Klessen 2001; Ostriker, Stone & Gammie 2001; Krasnopolsky & Gammie 2005; Vázquez-Semadeni et al. 2005); alternatively, if the SFR undergoes significant fluctuations (e.g., Krumholz, Matzner & McKee 2006), it could simply represent a lull in the SFR. In the LMC, about 60% of star clusters with ages <10 Myr are within 40 pc of a GMC, whereas older clusters have no significant spatial correlation with GMCs; Blitz et al. (2007) therefore infer that GMCs are destroyed within about 6 Myr of cluster formation. There are also slightly more than twice as many clouds harboring small HII regions as those containing large HII regions and clusters; they infer a lifetime of 14 Myr for this stage. These statistics imply that the typical time interval between when an HII region turns on and when the cloud is destroyed is ∼20 Myr. Including the GMCs without high-mass stars, they infer a total GMC lifetime of 27 Myr. There are several caveats to this analysis, however. First, the GMCs are identified only by their CO emission; because CO is more readily destroyed in the low-metallicity environment of the LMC than in the Galaxy (van Dishoeck & Black 1988), some GMCs could have been missed, both in the early stages of evolution when the density is low and in the late stage when the UV flux is high. Second, the mean mass of the clouds increases in going from the starless sample and the small-HII sample to the cluster sample; in fact, the two largest clouds are in the cluster sample, and overall just 10–15% of massive (M > 105.5\\nM\\n⊙) GMCs in the LMC and M33 lack (high-mass) star formation. The naive interpretation of this secular trend is that massive GMCs (which contain most of the molecular mass) have a more rapid onset of star formation than do low-mass clouds, although this is not a unique explanation. Next, the associations are unbound and dissolve rapidly; clusters dissolve more slowly, but one still cannot assume that their relative numbers accurately track the relative lifetimes. It is not clear how these latter two issues affect the analysis. Finally, large associations could displace the clouds by the rocket effect rather than destroy them (a process termed cloud shuffling by Elmegreen 1979). Nonetheless, observations of extragalactic GMCs offer the most promising avenue for getting an observational handle on GMC evolution.',\n",
       "  'How do GMCs and the star-forming clumps within them evolve in the presence of stellar and protostellar feedback? In the quasi-static approximation, a molecular cloud will be in approximate virial equilibrium. Under the additional assumption that the rate-limiting step in star formation is ambipolar diffusion, McKee (1989) found that GMCs contract under the influence of their self-gravity until the contraction is halted by stellar feedback; the equilibrium is stable and the column density is AV\\n ≃ 4 − 8 mag, comparable to the observed value. Dropping the assumption of quasi-static evolution and using the time-dependent virial theorem for a spherical, homologous cloud, Matzner & McKee (1999) found that a star-forming clump undergoes several bursts of star formation. Krumholz, Matzner & McKee (2006) extended this work by using a theory for the SFR that is consistent with the Kennicutt-Schmidt law (Krumholz & McKee 2005—see Section 3.4) and the full time-dependent virial and energy equations to solve for the evolution of GMCs that are large enough (≳ 105\\nM\\n⊙) that HII regions dominate the energy injection (Matzner 2002). Their time-dependent integrations assume spherical, homologous evolution for each GMC, and follow the formation and dynamical effects of many individual HII regions, with stars selected from the IMF. Blister HII regions act to destroy the clouds, but they also provide a confining pressure owing to the recoil associated with the mass loss. The prinicipal results of the time-dependent models are (a) clouds live for a few crossing times, ∼30 Myr for clouds with M ≳ 106\\nM\\n⊙, in agreement with observational estimates; (b) clouds are close to equilibrium, with virial parameters αvir ≃ 1 − 2; (c) the column density of the clouds is N\\nH ≃ 1022 cm−2, in agreement with observations; (d) large clouds are destroyed by photoevaporation, but small clouds (M ≲ 2 × 105\\nM\\n⊙) are disrupted before half their mass is photoionized; and (e) GMCs convert ∼5 − 10% of their mass into stars before they are destroyed. HII regions are unable to support GMCs with columns significantly greater than 1022 cm−2. Krumholz, Matzner & McKee (2006) conjecture that such clouds can occur in regions in which the mean density is not much less than the density in the GMCs, so that external driving is more efficient; such conditions could occur in starbursts. Testing and extension of these cloud evolution/destruction models via full 3D numerical simulations has not yet been attempted, but development and verification of the necessary computational codes is well underway (Krumholz, Stone & Gardiner 2007, submitted; Mac Low et al. 2007, submitted; Mellema et al. 2006).',\n",
       "  'How is the distribution of stellar masses, or IMF, established? This is one of most basic questions a complete theory of star formation must answer, but also one of the most difficult. Current evidence suggests that the IMF is quite similar in many different locations throughout the Milky Way, with the possible exception of star clusters formed very near the Galactic Center (Scalo 1998b presents evidence for significant variations in the IMF, but Elmegreen 1999 argues that much, if not all, of this is consistent with the expected statistical variations). The standard IMF of Kroupa (2001) is a three-part power-law with breaks at 0.08 M\\n⊙ and 0.5 M\\n⊙; i.e., \\n\\n with α = 1.3 for 0.5 < m\\n\\\\*/M\\n⊙ < 50, α = 0.3 for 0.08 < m\\n\\\\*/M\\n⊙ < 0.5, and α = −0.7 for 0.01 < m\\n\\\\*/M\\n⊙ < 0.08. The slope of the IMF at m\\n\\\\* ≳ M\\n⊙ was originally identified by Salpeter (1955), who found α = 1.35. Up to ∼ 1 M\\n⊙, a log-normal functional form \\n\\n provides a smooth fit for the observed mass distribution (Miller & Scalo 1979), with Chabrier (2005) finding that mc\\n ≈ 0.2 M\\n⊙ and σ ≈ 0.55 apply both for individual stars in the disk and in young clusters; the system IMF (i.e., counting binaries as single systems) has mc\\n = 0.25 M\\n⊙. Thus, the main properties of the IMF that any theory must explain are (a) the Salpeter power-law slope at high mass, (b) the break and turnover slightly below ∼1 M\\n⊙, (c) the upper limit on stellar masses ∼150 M\\n⊙ (Elmegreen 2000, Figer 2005, Oey & Clarke 2005), and (d) the universality of these features over a wide range of star-forming environments, apparently independent of the mean density, turbulence level, magnetic field strength, and to large extent also metallicity. Theory predicts that there should be a lower limit on (sub)stellar masses (Low & Lynden-Bell 1976), but this has not been confirmed observationally.',\n",
       "  'Important additional information has been provided by recent millimeter and submillimeter continuum surveys covering both cluster regions and larger areas in star-forming systems (e.g., Motte, André & Neri 1998; Testi & Sargent 1998; Johnstone et al. 2000, 2001; Motte et al. 2001; Beuther & Schilke 2004; Reid & Wilson 2005, 2006a; Stanke et al. 2006; Enoch et al. 2006; Nutter & Ward-Thompson 2007). Within continuum maps, high-density concentrations representing (starless) cores have been identified in sufficient numbers (and with sufficent resolution) that core mass functions (CMFs) analogous to the IMF can be defined. Similar CMFs may be derived using extinction data from well-sampled maps (Lada, Alves & Lombardi 2007) and molecular line maps in high-density tracers (Onishi et al. 2002). Studies of the CMF using extinction maps are only just beginning, but they promise to be very important given the lower systematic errors that are possible with this method. An excellent recent summary of the statistical properties of observed cores is given by Ward-Thompson et al. (2007).',\n",
       "  'The CMFs derived from many independent studies and methods are in good agreement with each other, and are remarkably similar in functional form to the stellar IMF. In particular, regardless of the total mass and size of the star-forming cloud, and regardless of whether cores are well separated or highly clustered, the high-end CMF (above 1 M\\n⊙) is consistent with a power-law. Applying a uniform analysis to data from 11 high- and low-mass star-forming regions, Reid & Wilson (2006b) find α = 0.8 − 2.1, with the mean value α = 1.4. Observed CMFs for relatively nearby clouds in the references cited above also show a peak and turnover at low mass in the range of ∼0.2 − 1 M\\n⊙. For distant clouds, the peak core mass is larger, but lack of resolution and hence low-mass incompleteness affects these results. Observed well-resolved CMF distributions are thus very similar to the stellar IMF, but shifted to higher mass by a factor of a few. For CMFs derived from millimeter and submillimeter observations, this factor involves some uncertainty associated with conversion from dust emissivity to total mass. The CMF derived from extinction in the Pipe nebula, which is not subject to this uncertainty, is shifted to higher masses by a factor of three with respect to the standard stellar IMF (Alves, Lombardi & Lada 2007).',\n",
       "  'The mirroring of the universal IMF by the (possibly also universal) CMF suggests that the stellar mass distribution is imposed early in the star-forming process. The final mass of a star appears to be controlled by the available reservoir of the core from which it forms, rather than, for example, being defined by a termination of accretion owing to internal stellar processes. The shift of the observed CMF relative to the IMF nevertheless implies that stellar feedback and other processes in the collapse or postcollapse stage affect stellar masses. Magnetized protostellar disk winds are believed to reduce the stellar mass compared to core mass by a factor of a few (see discussion in Section 4.2.6). In particular, Matzner & McKee (2000) predicted that the efficiency of a single star-formation event in an individual core is εcore ≈ 0.25 − 0.7, depending on the degree of flattening, which is comparable to the values implied by the observations cited above. Because the efficiency is not sensitive to the parameters involved, this implies a similar shift from CMF to IMF at all masses. Given the uncertainty in the CMF normalization, the inefficiency of single star formation may account for essentially the whole CMF→IMF shift. Some further fragmentation of presently observed massive cores during their collapse may also occur, but provided that the majority of the mass goes into a single object, this will leave the high-mass end of the CMF relatively unchanged. Because the CMF is already dominated by low-mass cores (by mass as well as by number), the addition of low-mass stars formed as fragments from collapsing high-mass cores would negligibly affect the low-mass end of the IMF.',\n",
       "  'Molecular line observations of low-mass cores, whether found in isolation (as in Taurus) or in close proximity to other cores in a dense, cluster-forming clump (as in ρ Oph), show that these cores have very low nonthermal internal velocities (André et al. 2007). Because weak internal turbulence implies that little density substructure is present within these cores, they are unlikely to undergo subsequent fragmentation during collapse, except to form binaries. The low-mass portion of the CMF should therefore be conserved in mapping to the IMF, modulo mass removal by outflows. Although cores in the high-mass end of the CMF are turbulent and thus, in principle, subject to further fragmentation, the agreement between the CMF and IMF suggests that this is not a dominant effect.',\n",
       "  \"The environments of observed prestellar cores provide further clues to the processes involved in their formation. Most stars form in clusters (Lada & Lada 2003; see Section 4.3.5), and correspondingly, most (starless) molecular cores are part of larger cluster-forming dense clumps. These cluster-forming clumps [referred to as cluster-forming cores by Ward-Thompson et al. (2007)], as observed for example in Ophiuchus, Serpens, Perseus, and Orion, have supersonic internal turbulent linewidths (even though the individual cores within them are subthermal). Compared to isolated cores, the cores in clusters tend to be more compact in overall size and have higher densities and column densities; they are also lower in mass (Ward-Thompson et al. 2007). The column densities of cluster-forming clumps are generally quite large, and in particular they exceed the mean column densities of the GMCs in which they are formed. In Perseus, where 80% of the millimeter cores lie in groups and 50% are in clusters (Enoch et al. 2006), 50% of the total cloud mass is at AV\\n < 4 and 80% is at AV\\n < 6, whereas 90% of the mass in prestellar cores is in larger structures that have AV\\n > 6, and 50% is at AV\\n > 8 (Kirk, Johnstone & Di Francesco 2006). Similarly in Ophiuchus, the prestellar cores are found in high-column density regions (AV\\n > 15 for > 90% of the core mass), whereas most of the cloud's mass has much lower column densities (70% is at AV\\n < 7) (Johnstone, Di Francesco & Kirk 2004). The prestellar cores themselves represent only a tiny fraction of the total cloud mass: 5% in Perseus (Enoch et al. 2006), and 3% in Ophiuchus (Johnstone, Di Francesco & Kirk 2004); this is comparable to the net observed star-formation efficiency over the lifetime of a GMC (see Section 3.4). On the largest scales, GMCs generally consist of collections of filaments, and both the clusters of cores and most of the individual isolated cores are embedded in these filaments. The structure formation that produces cores, and eventually stars, is therefore clearly a hierarchical process.\",\n",
       "  'Many theories have been proposed that aim to explain the IMF or some aspect of it, and more recently to explain the CMF as well (see Elmegreen 2001 and Bonnell, Larson & Zinnecker 2007 for recent reviews). Although none of the proposals to date have won general acceptance, several have introduced elements that are likely to be important in the eventual theory that is developed. Numerical simulations have been valuable in demonstrating that the general characteristics of observed CMFs arise naturally in turbulent, self-gravitating flows, and they have also been useful in testing certain specific hypotheses. However, many features that are seen in the simulations are not yet understood in a fundamental sense, and limited numerical resolution may affect some existing results.',\n",
       "  'A variety of different numerical models have been used in computational studies of the mass distributions of bound and unbound condensations in turbulent, self-gravitating systems. Most models have adopted an isothermal equation of state: using SPH techniques, Klessen & Burkert (2001), Bonnell, Bate & Vine (2003), Bonnell, Clarke & Bate (2006), and Klessen (2001) analyzed decaying-turbulence models with a variety of power spectra, and Klessen (2001) and Ballesteros-Paredes et al. (2006) analyzed driven-turbulence models. Using grid-based codes in the unmagnetized case, Ballesteros-Paredes et al. (2006) and Padoan et al. (2007) analyzed driven-turbulence models. Using grid-based codes and including magnetic fields, Gammie et al. (2003) analyzed decaying-turbulence models, and Vázquez-Semadeni, Ballesteros-Paredes & Rodriguez (1997), Ballesteros-Paredes & Mac Low (2002), Li et al. (2004) and Padoan et al. (2007) analyzed driven-turbulence models. Tilley & Pudritz (2004) analyzed decaying-turbulence unmagnetized models from a grid-based code.',\n",
       "  'Other simulations have investigated the effects of nonisothermal equations of state. Li, Klessen & Mac Low (2003) analyzed driven-turbulence SPH simulations that used a range of polytropic indices. Bate, Bonnell & Bromm (2003) and Bate & Bonnell (2005) analyzed the results of SPH decaying-turbulence simulations with a switch from isothermal to T ∝ ρ0.4 at density 10−13 g cm−3, to represent the transition from optically-thin to -thick conditions. Jappsen et al. (2005) and Bonnell, Clarke & Bate (2006) investigated the result of switching from a weakly cooling to weakly heating barotropic equation of state at a range of densities n ∼ 104 − 107 cm−3, using driven- and decaying-turbulence SPH simulations, respectively.',\n",
       "  'The distributions obtained by applying clump-finding techniques to simulation data cubes share many characteristics, generally showing clump mass functions dominated by the low-mass end and tails at high mass that are (marginally) consistent with power-laws having indices similar to the Salpeter value. In detail, however, the mass functions depend on the adopted clump-finding algorithm and on parameters such as density threshold levels and smoothing scales, as well as on physical properties including the Mach number and the history of a system.',\n",
       "  \"In many simulations that include self-gravity, the high-end slope tends to become shallower over time, as massive objects grow larger. This change in slope may not represent realistic evolution, if massive condensations in fact should undergo fragmentation that the simulations do not follow. Failure to capture fragmentation during collapse could affect results from either grid-based or SPH simulations. Fragmentation is seeded by turbulence, which imposes fluctuations in the density (Sasao 1973). These fluctuations grow as a condensation collapses, and in principle could ultimately result in fragmentation if they become locally Jeans unstable (Hunter 1962, Lynden-Bell 1973). Fluctuations at smaller and smaller mass scales would grow to be highly nonlinear if collapse were to proceed unchecked, so in order to capture this numerically, turbulence at scales below the sonic scale would have to be resolved before collapse commences in a given region. However, it is likely that in reality fragmentation of collapsing high mass condensations is prevented by real physical effects, rather than numerical effects: accretion onto stars formed early in the collapse process heats the surrounding gas significantly, which helps limit further fragmentation (Krumholz 2006), and for condensations in cluster-forming regions, outflows from nearby stars inject small-scale turbulence that may provide support sufficient to prevent rapid localized collapse (Tan, Krumholz & McKee 2006; Nakamura & Li 2007; see also Klessen 2001). Until physical processes enter to limit further breakup of massive condensations during their evolution, self-similarity implies they would fragment owing to the same turbulent processes that produced the massive condensations in the first place. This is presumably why the IMF in clusters is the same as that in distributed star formation. Observed dense clumps break up into individual small cores when imaged at high resolution, suggesting that much of the fragmentation is in place prior to collapse. Indeed, the fact that the turnover of the IMF is similar to the Jeans or Bonner-Ebert mass evaluated at the mean turbulent kinetic pressure within GMCs (see Section 3.1.1), P\\nkin/k\\nB ∼ 3 × 105 K cm−3, suggests that the ambient pressure that sets the typical star's mass is not significantly increased above this level by collapse prior to fragmentation. However, note that the correspondence between the turnover in the IMF and the Bonnor-Ebert mass evaluated at the mean turbulent pressure appears to break down in star clusters like the Orion Nebula Cluster (Hillenbrand & Hartmann 1998) and globular clusters (Paresce & De Marchi 2000), which are believed to have formed at substantially greater pressures (McKee & Tan 2003); the reason for this is not clear.\",\n",
       "  'A common numerical shortcut to studying cluster formation is to focus on just a single cluster, rather than the whole hierarchical system; this allows the collapse and fragmentation to be better resolved. Models of this kind initiate a simulation at high density with comparable internal turbulent and gravitational energy. However, this approach misses an aspect of the real situation that may be quite important: Self-gravitating massive condensations develop out of nonself-gravitating gas in which pertubations have already been imposed by turbulence. In simulations where the initial kinetic energy does not exceed the gravitational energy, collapse occurs before the turbulence is able to imprint a realistic density structure on the system, such that the subsequent fragmentation may also be unrealistic. In particular, this may lead to massive fragments continuing to grow over time as they capture low-turbulence unstructured gas from their surroundings (competitive accretion; see Section 4.1.2). To obtain a reliable measure of the high-end CMF from numerical models, it will be necessary to perform simulations that include large scales as well as cluster scales, and adequately resolve massive condensations both prior to and during collapse. In addition, physical processes representing the feedback from star formation must be properly included in order to impose realistic limits on fragmentation, coalescence, and accretion after collapse begins.',\n",
       "  'Another feature of numerical simulations that is at least qualitatively in accord with observations is the presence of a resolved peak and turnover in the CMF. Exactly how the location of this peak depends on model parameters, however, is not yet well determined. In some simulations, the CMF peak is found to be at masses comparable to the initial Jeans mass of the system (these are primarily low-Mach-number simulations), whereas in other simulations the peak is at much lower mass (these are primarily at high Mach number). The turbulent power spectrum can also affect the position of the CMF peak, and in some simulations the peak is seen to move to larger mass over time. In fact, the position of the peak for an isothermal simulation with a fixed turbulence scaling law must be a function of two dimensionless parameters, the ratio of the total mass in the system to the initial Jeans mass, and the turbulent Mach number on the largest scale. For magnetized simulations, an additional parameter is the ratio of mass to the magnetic critical mass. Although limited dependence on parameters has been explored, a comprehensive and controlled study has not yet been performed. Note that the mass-weighted density in a turbulent system increases as the turbulent Mach number increases (see Section 2.1.4), so that the Jeans mass at the typical (mass-weighted) cloud density decreases as the turbulence level increases, for a given mean (volume-weighted) density and Jeans mass. This probably accounts for why the peak of the CMF was found to be far below the mean Jeans mass in studies with high \\n\\n, and close to the mean Jeans mass in studies with lower \\n\\n.',\n",
       "  \"A recurrent theme in star-formation theory is that the characteristic mass—defined by the peak of the IMF—is the Jeans mass at some preferred density. An upper limit on the preferred density, and hence a lower limit on the fragment mass, is the value at which which the optical depth is unity over a Jeans length; this yields a minimum fragment mass ≈0.007 M\\n⊙ (Low & Lynden-Bell 1976). More recently, Larson (2005) has argued that the thermal coupling of gas to dust at densities above n\\nH = nc\\n ≈ 106 cm−3 results in a shift from weakly decreasing to weakly increasing temperature as a function of density (T ∝ ρ-0.27 changes to T ∝ ρ0.07 at T\\nmin ∼ 5 K), and that the Jeans mass ∼0.3 M\\n⊙ at this inflection point sets the preferred mass scale in the IMF. Part of Larson's argument is that if structure is filamentary, then the filaments will contract radially while γ < 1; fragmentation into protostellar cores would occur when the filament's central density reaches nc\\n and γ exceeds unity. This argument does not take into account, however, that the mass per unit length of a filament may be determined primarily by the turbulence that originally creates it. In this case, the density nc\\n defines a Jeans length (see Equation 20 in Section 2.2), so that the mass scale that emerges would be set by this (fixed) length scale ∼λ\\nJ\\n (nc\\n) times the (variable) filament mass per unit length. The simulations of Jappsen et al. (2005), which vary the density nc\\n at which the temperature minimum occurs, provide qualitative support for Larson's proposal in that the peak of the CMF moves to lower mass as nc\\n increases. The scaling of peak mass with nc\\n in the simulations is not consistent with the predicted m\\npeak ∝ nc\\n\\n-0.95 scaling, however. In addition, these models did not test dependence on other parameters that may be important, such as the Mach number of the turbulence or the total mass of the system.\",\n",
       "  'A recent comprehensive proposal to explain the CMF and IMF has been advanced by Padoan & Nordlund (2002, 2004). They argue that because the strength of any given compression (in a shock) is related to its corresponding (preshock) spatial scale ℓ, a power-law turbulence spectrum |v(ℓ)| ∝ ℓ\\nq\\n will result in a distribution of clump masses that itself follows a power-law. In particular, they propose that the clump mass function produced by turbulence in a magnetized medium will obey \\n\\n. They further propose that at a given mass m, the fraction of clumps created by turbulence that collapse is obtained by integrating the density PDF down to the density at which that mass would be Jeans unstable, i.e., ρmin = π5 σth\\n6/(36m\\n2\\nG\\n3). With this prescription, at high mass the limit of the integral ρmin → 0 and they find α = 3/(3 − 2q) ≈ 1.4. The position of the CMF peak would depend on the properties of the density PDF; for a log-normal PDF (fM\\n; see Equation 5 in Section 2.1.4) with μ\\nx\\n = 0.5 − 2, the peak mass would be between 0.8 − 0.1 times the Jeans mass at the mean (volume-weighted) density in the cloud.',\n",
       "  \"The proposal of Padoan & Nordlund is attractive in its overall thrust, and analysis of numerical simulations (Padoan et al. 2007) shows promising consistency with some of the model predictions, such as a steepening of the CMF (larger α) with steeper velocity power spectrum (larger q). The Padoan & Nordlund proposal, however, also suffers from missing links in its theoretical underpinnings: (a) The effective value of vA\\n is defined by Padoan & Nordlund such that the typical compression ρ′/ρ in a shock moving at v is a factor v/vA\\n (in fact, compression factors depend on the magnetic field direction as well as strength). This effective vA\\n is assumed to be independent of scale, and for numerical comparisons with data they adopt a value small compared to the typical value in a GMC of ∼2 km s−1. (b) The argument used to obtain α = 3/(3 − 2q) for turbulence-induced clumps assumes that each preshock volume ℓ3 maps to a number of postshock volumes of mass m that is independent of ℓ; i.e., \\n\\n Although this is plausible, other arguments can be made that draw on the scale-free nature of turbulence, yet yield different results. Fleck (1996) and Elmegreen & Falgarone (1996) have argued that in nonself-gravitating turbulence one obtains \\n\\n. This scaling corresponds to converting a constant fraction of the mass or volume behind every shock into clumps, \\n\\n, where ℓ′ = ℓ v\\nA/v = ℓ ρ/ρ′ is the postshock scale. One might also propose that the filling factor of postshock clumps within the whole volume should be constant, i.e., \\n\\n. This leads to \\n\\n, or α = 0.75 for q = 1/2. Although the assumption \\n\\n in the Padoan & Nordlund formulation yields results that are in agreement with measured CMFs, a physical argument is needed to explain why this is the correct choice among several plausible alternatives. In particular, as Padoan & Nordlund's argument for the slope α = 3/(3 − 2q) involves only turbulence, why does this value of α disagree with the distinctly shallower empirical mass spectrum (αclump ∼ 0.5; see Section 3.1) of nonself-gravitating clumps in GMCs? (c) The argument Padoan & Nordlund use to obtain a formula for the mass function does not appear to take account of substructure within clumps at a given mass scale, although the presence of substructure is implicit in their picture. In particular, they assume that any region that is unstable by the thermal Jeans criterion will collapse. An implicit requirement for this is that at each density, a contiguous volume containing a mass in excess of the Jeans mass is present. More generally, because hierarchical density structures are clearly important in nature (most cores and stars are clustered), any fundamental theory should identify how this comes about. Given these difficulties, it appears premature to accept the Padoan & Nordlund proposal in its current form, although it is promising as a basis for future development.\",\n",
       "  'Much of this review focuses on the detailed physical processes of star formation at and below GMC scales. To understand the structure of a given galaxy, however, or the evolution of a population of galaxies over cosmological timescales, often only a very gross characterization of the star-formation processes—such as the overall SFR and the resulting IMF—is adequate. Many empirical studies of disk galaxies characterize the SFR in terms of the number of stars formed per unit time per unit area ˙ Σ\\\\*; this is usually reported using either averages over the whole of a galaxy within some outer radius R, or using azimuthal averages over an annulus of width dR to give ˙ Σ\\\\* (R). Both of these methods average over regions that may have widely varying SFRs, and the results must be carefully interpreted as strong nonlinearities are involved. Fortunately, with the data becoming available from large-scale galactic mapping surveys (e.g., SONG and SINGS; Helfer et al. 2003; Kennicutt et al. 2003), it will soon be possible to characterize SFRs on scales large compared to individual GMCs but small enough to separately measure, e.g., SFRs for arm and interarm regions.',\n",
       "  'More fundamental than ˙ Σ\\\\* is the star-formation or gas consumption timescale. This is defined by \\n\\n, where Σ\\ng\\n is the gas surface density; the second equality assumes that the same area average is used for the total gas mass Mg\\n and SFR M\\n\\\\*. The resulting timescale depends on the gas tracer(s) chosen, which determines the range of gas densities included in Σ\\ng\\n. For a chemical species tracing gas in a class of structures denoted by S that have mean internal gas density 〈ρ〉\\nV\\n = ρ\\nS\\n, and total mass MS\\n, a convenient fiducial time for comparison to \\n\\n is the free-fall time obtained by using ρS in Equation 14. The star-formation or gas consumption rate is then',\n",
       "  'where the efficiency over a free-fall time is \\n\\n (see Krumholz & McKee 2005 and Krumholz & Tan 2007; note that they denote this quantity by SFRff,S\\n). Note that the star-formation efficiency εff,S\\n over the free-fall time at the mean local density of structures S differs from the star-formation efficiency ε\\nS\\n over the mean lifetime of individual structures in class S, which is discussed below. The definition in Equation 38 is particularly useful for describing star formation on local scales within GMCs, in which different molecular transitions trace a relatively limited range of densities, and in which densities can be obtained for individual structures that are spatially resolved and have mass measurements from dust continuum or extinction observations. Because most of the molecular gas, and essentially all star formation, is found within GMCs, the SFR in a region with local surface density in GMCs, ΣGMC, is given by \\n\\n. Here, t\\nff,GMC is calculated using the free-fall time within GMCs in a given region. Typical mean densities within GMCs are nH\\n ∼ 100 cm−3, implying t\\nff,GMC ∼ 4 Myr, but this may vary owing to the effects of spiral arms, for example. In clumps or cores within GMCs, ρS can be larger by orders of magnitude compared to ρGMC, yielding a corresponding decrease in t\\nff.',\n",
       "  'The values of εff,S\\n are generally low (≲ 0.01) over a wide range of density tracers (see below), and vary only weakly with ρS. Krumholz & Tan (2006) point out that this suggests that turbulence is limiting star formation, although magnetic regulation is also possible (but probably not on GMC scales, because they appear to be magnetically supercritical—Section 2.3). In the turbulence-regulation picture, the low overall efficiency of star formation on GMC scales (over their own free-fall times) is dictated by the low fraction of gas that concentrates into structures that are sufficiently dense to collapse before being redispersed by turbulence. The weak variation of ϵff,S\\n with density follows naturally if the density obeys a log-normal distribution, which is consistent both with numerical simulations of supersonic turbulent flows and with observations of extinction statistics (Sections 2.1.4 and 2.1.5). For a log-normal distribution defined by Equation 5, let MS\\n be the mass with densities in the range δ xS\\n surrounding \\n\\n, where \\n\\n is obtained by dividing total GMC mass by total GMC volume. Then because the SFR M\\n\\\\* is independent of tracer,',\n",
       "  'where \\n\\n is the (mass-weighted) mean within a GMC. With μ\\nx\\n ∼ 1.5 [corresponding to mass-weighted mean density \\n\\n, typical of GMCs] and δ xS\\n ∼ 1, εff,S\\n/εff,GMC is between 1.4 and 3.4 for 1 < ρ\\nS\\n/〈ρ〉\\nM\\n < 10; larger values of μ\\nx\\n keep εff,S\\n ∼ εff,GMC over a larger range of densities. Approximate constancy of εff,S\\n over a range of densities implies the approximate relation \\nM\\n\\nS\\n ∝ t\\nff ∝ ρ\\nS\\n\\n-1/2\\n from Equation 38. Physically, this is because the equilibrium fraction of mass in a GMC in structures at densities significantly above \\n\\n is equal to the ratio of the destruction time to the formation time of those structures, t\\ndest,S\\n/t\\nform,S\\n. In a turbulent medium, the destruction time is of order the dynamical time of the structure, which decreases with increasing density and decreasing size, whereas the formation time is of order the dynamical time of the GMC for all structures, because the large-scale flow dominates. Note, however, that this discussion does not apply to regions in which self-gravity is strong but turbulence is weak, as occurs in low-mass prestellar cores. In such cores, εff rises by an order of magnitude or more to ∼0.1. Quiescent cores have individual lifetimes of a few t\\nff (see Section 3.1.2), and net efficiency of star formation in each core ∼1/3 owing to the action of protostellar winds (see Sections 3.3.1 and 4.2.6). These structures have evolved to have internal densities (and hence self-gravity) high enough that they can resist destruction by the ambient turbulence. In regions such as forming clusters, where self-gravity causes strong departures from the overall log-normal density distribution in GMCs and high gravity is offset by locally driven turbulence, the relation (Equation 39) would also not be expected to apply.',\n",
       "  'Even within a given density regime, there may be significant cloud-to-cloud variations in local conditions such that t\\n\\nS\\\\* need not be a universal quantity even for structures observed in a given tracer. Indeed, Mooney & Solomon (1988) showed that for Milky Way GMCs with virial masses (traced in CO) M\\nCO = 104 − 5 × 106\\nM\\n⊙ and IR luminosities \\n\\n, the ratio \\nt\\nGMC,\\\\* ∝ M\\nCO/L\\nIR\\n varies over two orders of magnitude and is not correlated with M\\nCO. Williams & McKee (1997) came to a similar conclusion from their analysis of OB associations and GMCs in the Galaxy. With a total GMC mass ≃ 109\\nM\\n⊙ in the Galaxy and a SFR of several M\\n⊙ year−1, the mean value of t\\nGMC,\\\\* ≈ 3 × 108 years, which translates to εff,GMC ∼ 0.01 if \\n\\n in GMCs. For dense gas clumps in GMCs, however, it appears that conditions are more uniform, such that there is less scatter in t\\n\\nS\\\\* for dense gas tracers. In particular, Wu et al. (2005) show that the ratio \\n\\n measured in Milky Way star-forming regions agrees with the same values measured in high-redshift galaxies (Gao & Solomon 2004), for which there is only one order of magnitude scatter. Wu et al. (2005) estimate a corresponding star-formation timescale of t\\nHCN,\\\\* = 8 × 107 years. If the typical density of HCN-emitting gas is ∼105 cm−3, the corresponding efficiency per free-fall time is εff,HCN ∼ 0.002. Krumholz & Tan (2007) apply slightly different factors to convert total HCN and IR luminosities to gas masses and SFRs, and obtain εff,HCN ∼ 0.006. These values of εff are small compared to those for individual cores (∼0.1), which in clustered regions (where most stars form) have densities ∼107 cm−3 (Ward-Thompson et al. 2007) that are large compared to the densities traced by HCN.',\n",
       "  'In spite of the large scatter in t\\n\\nS\\\\* from one local region to another (in various density tracers), empirical studies have shown that when averaged over large scales, t\\n\\ng\\\\* is correlated with the global properties of gas in a galaxy. The early studies of Schmidt (1959, 1963) sought to characterize the SFR as a power-law (with index >1) in the mean gas density (both volume and surface density); this would then translate to t\\n\\ng\\\\* (or t\\nff/εff) that varies as a negative power of gas density. More recently, following Kennicutt (1989), a number of empirical studies of disk galaxies have identified and explored Kennicutt-Schmidt laws of the form \\n\\n, for which \\nt\\n\\ng\\\\* ∝ Σ\\ng\\n\\n-p\\n. The original study by Kennicutt investigated correlations of \\n\\n (based on Hα) with the total Σ\\ng\\n (R) (including both atomic and molecular gas); he found an index p = 0.3 for Σ\\ng\\n (R) above a threshold level. Kennicutt (1998) studied correlations of global averages of \\n\\n with Σ\\ng\\n (again combining atomic and molecular gas). For the whole sample including normal galaxies, the centers of normal galaxies, and starbursts, the fitted index is p = 0.4; the index is slightly larger for just normal spirals. Recent years have seen a number of other studies of the \\n\\n relationship based on annular averages in galaxies, using Hα, radio continuum, or far-IR to measure star formation, and using either the total gas surface density or just the molecular gas contribution from CO observations (Murgia et al. 2002, Wong & Blitz 2002, Boissier et al. 2003, Heyer et al. 2004, Komugi et al. 2005, Schuster et al. 2007). Most of these studies have found p in the range 0.3 − 0.4, although larger values of p have been obtained in some analyses that include both atomic and molecular gas. For dense gas as traced by HCN, Gao & Solomon (2004) found a linear relationship between the integrated SFR and the total mass of dense gas, i.e., p = 0, based on a sample including both normal galaxies and luminous/ultraluminous IR galaxies. For the same sample, the fitted SFR-gas mass index is p = 0.7 for less dense molecular gas observed in CO lines. All of these fits involve (at least) an order of magnitude scatter about the mean relation. Taken together, these results imply that the amount of dense gas available for star formation increases nonlinearly with the global amount of lower-density gas, but that the SFR in this dense gas is independent of global galactic properties.',\n",
       "  'A second approach to characterizing global SFRs introduces the global timescale associated with the galaxy, the orbital period t\\norb = 2π/Ω. For grand design spirals, the SFR is expected to be proportional to the rate at which gas passes through spiral arms, because GMCs are expected (and observed) to form rapidly in the high-surface-density gas behind the spiral shock (e.g., Roberts 1969; Kim & Ostriker 2002, 2006; Shetty & Ostriker 2006). Shu (1973) appears to have been the first to propose this idea and showed that it is roughly consistent with observations of star formation in the Galaxy. Wyse (1986) proposed that GMCs, and hence stars, are the result of atomic cloud-cloud collisions at a rate ∝ Σ\\ng\\n\\n2 (Ω − Ω\\np\\n), where Ω\\np\\n is the pattern speed. More generally, Wyse & Silk (1989) suggested that the SFR should scale as \\n\\n. This has been confirmed by Kennicutt (1998); the resulting two forms for the Kennicutt-Schmidt law are',\n",
       "  'The fact that there are two forms of the star-formation law implies that there is a correlation between Σ\\ng\\n and Ω; Krumholz & McKee (2005) found Ω ∝ Σ\\ng\\n\\n0.49 for a sample comprised of both normal and starburst galaxies (Kennicutt 1998, Downes & Solomon 1998). The reason for this correlation is not known at present, but may be related to an overall tendency for velocity dispersions to increase at large surface densities (see below). The corresponding gas consumption time is t\\n\\ng\\\\*/t\\norb ≈ 10 with t\\n\\ng\\\\* evaluated for the entire galaxy and t\\norb evaluated at the outer edge of the star formation. Subsequent observations have found t\\nmol,\\\\*/t\\norb ∼ 10 − 100 when considering the molecular gas alone (Wong & Blitz 2002, Murgia et al. 2002).',\n",
       "  'Because most star formation is observed to take place within bound GMCs, it is useful to introduce f\\nGMC ≡ ΣGMC/Σ\\ng\\n, i.e., the fraction of gas that is found in GMCs. The surface densities must be averaged over a region containing a large number of GMCs, because the specific SFR has very large fluctuations; the average can be over a local patch of a galaxy, an azimuthal ring, or an entire galaxy. Equation 38 implies',\n",
       "  'This form of the star-formation law is particularly useful if most of the gas is in GMCs, f\\nGMC ≃ 1. Because the gas density in the midplane ρ\\ng\\n ∝ Ω2/GQ\\n2 in terms of the Toomre Q parameter, and because \\n\\n, it follows that \\n\\n (Krumholz & McKee 2005; see below), which is similar to the orbital time form of the Kennicutt-Schmidt law.',\n",
       "  'An alternative expression for the SFR follows by noting that if GMCs form from diffuse gas at a rate M\\ndiffuse/t\\ndiffuse and are destroyed by star formation at a rate M\\nGMC/t\\nGMC, then f\\nGMC = t\\nGMC/t\\nlc, where t\\nlc ≡ t\\ndiffuse + t\\nGMC is the life-cycle time for gas in the galaxy. The mean efficiency of star formation in any GMC over its lifetime \\nt\\nGMC is εGMC = εff,GMC (t\\nGMC/t\\nff,GMC); in the Milky Way, the observed average value of εGMC is about 0.05 (e.g., Williams & McKee 1997), corresponding to t\\nGMC/t\\nff,GMC ≈ 5. The SFR is then',\n",
       "  'This equation leads to a simple interpretation of the empirical result \\n\\n for grand design spirals. In this situation the mean life-cycle time of the gas should be equal to the timescale between successive encounters with spiral arms, t\\nlc = (2π/m)(Ω − Ω\\np\\n)−1 for an m-armed spiral. If εGMC varies only modestly with radius, then well inside corotation (which is most of the star-forming disk) the overall SFR should obey \\n\\n. More generally, consider an arbitrary disk galaxy in which the gas is primarily diffuse, so that the GMC formation time t\\ndiffuse is much greater than the GMC destruction time (or lifetime) t\\nGMC, and as a result the life-cycle time t\\nlc ≃ t\\ndiffuse. The characteristic timescale t\\ndiffuse for formation of self-gravitating structures in a disk with surface density Σ\\ng\\n is the 2D Jeans time \\nt\\n\\nJ,2D\\n = c\\neff/(GΣ\\ng\\n) (Equation 35). (Actual GMC formation timescales differ from t\\n\\nJ,2D\\n due to rotation and disk-thickness effects—see references in Section 3.2.1). Using the definition of the Toomre Q parameter (Equation 32), \\n\\n, so that from Equation 42, \\n\\n. Thus, both the diffuse-dominated and GMC-dominated cases yield \\n\\n, assuming that the efficiency factors are comparable in different regions of a galaxy and from one galaxy to another. Because star formation tends to deplete the gas in any region until Q is near the critical value Q\\ncrit ≃ 1.5 (theory: Quirk 1972; observation: Martin & Kennicutt 2001, Wong & Blitz 2002, Murgia et al. 2002, Boissier et al. 2003), this yields the orbital time form of the Kennicutt-Schmidt law (including the normalization) when εGMC ≈ 0.05. GMC formation on a timescale ∼t\\n\\nJ,2D\\n, implying a SFR of \\n\\n if εGMC is weakly varying, also yields the other form of the Kennicutt-Schmidt law if the effective velocity dispersion increases with surface density according to c\\neff ∝ Σ\\ng\\n\\n1−p\\n. A significant increase in the gas velocity dispersion at small radii, where Σ\\ng\\n is generally larger, has been noted in several galaxies (Kenney, Carlstrom & Young 1993; Sakamoto 1996; Walsh et al. 2002; Lundgren et al. 2004; Schuster et al. 2007), although there is no quantitative theory for this increase.',\n",
       "  'A quantitative theory for the galactic SFR must determine the star-formation efficiency (e.g., εff,GMC or εGMC) as well as the corresponding overall rate. [An exception is the theory of Silk (1997), who notes that the porosity of hot gas in a galaxy is determined by the SFR; the SFR can thus be expressed in terms of the porosity, but this remains uncertain.] Tan (2000) proposed that the overall SFR is determined by cloud-cloud collisions, but he set the efficiency based on comparison with observations. Elmegreen (2002, 2003) suggested that the SFR per unit volume is \\n\\n, where f\\ncore is the fraction of gas in dense cores; the value of this was set by comparison with observation. Simulations by Kravtsov (2003), by Li, Mac Low & Klessen (2005a,b; 2006), and by Tasker & Bryan (2006) show that the fraction of high-density gas scales as Σ\\ng\\n\\n1.4, but the definition of high-density is arbitrary and the dependence of the SFR on this definition is not known.',\n",
       "  \"A theory for the star-formation efficiency per free-fall time has been given by Krumholz & McKee (2005); for galaxies in which f\\nGMC ≃ 1, this is proposed as a complete theory of the Kennicutt-Schmidt law. The first three assumptions underlying the theory have been discussed above: They assume that star formation occurs primarily in GMCs, so that the SFR is described by Equation 41, that the density PDF in GMCs is log normal, as inferred from simulations of turbulence in gas that is approximately isothermal (Section 2.1.4), and that the IMF has the standard form. The final assumption is that low-mass stars form in all gas dense enough that the sonic length in the surrounding turbulent gas exceeds the Jeans length (λ\\nJ\\n < ℓ\\ns\\n) (Padoan 1995) with an efficiency εcore ∼ 1/2 from the theoretical estimate of Matzner & McKee (2000). The condition that λ\\nJ\\n < ℓ\\ns\\n ensures that critical Bonnor-Ebert spheres are not torn apart by turbulence; the corresponding critical density implies that the thermal pressure in the cores matches the turbulent pressure in the environment, \\n\\n. An important part of this last assumption is that the regions that are dense enough to satisfy λ\\nJ\\n < ℓ\\ns\\n have masses large enough to collapse. The normalization for the SFR is based on the simulations of Vázquez-Semadeni, Ballesteros-Paredes & Klessen (2003). These assumptions lead to a star-formation efficiency \\n\\n. Because the virial parameter in GMCs is of order unity and the Mach numbers are somewhat smaller than 100 in regions where they have been observed (and greater than a few 100 even in unresolved starbursts), this corresponds to a typical εff,GMC ∼ 0.02. For galaxies in which the gas is not fully molecular, Krumholz & McKee (2005) adopt the phenomenological result for f\\nGMC obtained by Blitz & Rosolowsky (2006). They show that the resulting SFR agrees well with Kennicutt's observed relations (Equation 40).\",\n",
       "  'Finally, we remark that controversy continues to surround the question of what physical process defines the observed outer-disk thresholds R\\nth for active star formation. Kennicutt (1989) and Martin & Kennicutt (2001) argue that disk thresholds are set by gravitational stability considerations in shearing, rotating disks, and find a mean value of Q ≈ 1.4 when they adopt a constant value c\\neff = 6 km s−1 for their sample. Numerical simulations of isothermal gas disks, including both disk thickness effects and the gravity from an active stellar disk, quantitatively support this conclusion (Li, Mac Low & Klessen 2005a; Kim & Ostriker 2007). However, Schaye (2004), building on the suggestion of Elmegreen & Parravano (1994), argues that star-formation thresholds are defined by the condition that the pressure is high enough that a cold component of the atomic ISM can exist. This transition point depends on the UV intensity and metallicity (e.g., Wolfire et al. 2003), but typically corresponds to threshold surface density ∼3 − 10 M\\n⊙ pc−2. Schaye essentially reverses the argument for a Q threshold: He argues that when a significant fraction of the ISM becomes cold, Q drops significantly and gravitational instability ensues. An advantage of this proposal is that it can naturally account for the isolated patches of star formation that occur outside R\\nth (Ferguson et al. 1998, Boissier et al. 2006), because star formation occurs wherever the pressure of gas exceeds the critical value. However, though the model gives a necessary condition for star formation, it does not give a sufficient condition: Some of the galaxies in the Martin & Kennicutt (2001) sample have R\\nth inside the radius at which the gas becomes molecular, which in turn is inside the radius at which cold atomic gas first appears (see also de Blok & Walter 2006, who find evidence of a cold atomic component even in nonstar-forming regions). In these cases, it is possible that MRI-driven turbulence in the outer disk maintains Q > 1 even when some of the gas is cold (Piontek & Ostriker 2007).',\n",
       "  'Star formation is traditionally divided into two parts: Low-mass stars form in a time short compared to the Kelvin-Helmholz time, t\\nKH = Gm\\n\\\\*\\n2/RL, whereas high-mass stars form in a time ≳ t\\nKH (Kahn 1974). This distinction between low-mass and high-mass protostars is not fully satisfactory, however, because for a sufficiently high accretion rate any protostar would be classified as low-mass. We somewhat arbitrarily divide low- and high-mass stars at a mass of 8 M\\n⊙. Protostars that will form stars with masses significantly below this value have luminosities dominated by accretion, and they form from cores that have masses on the order of the thermal Jeans mass. Protostars above this mass have luminosities that are dominated by nuclear burning unless the accretion rate is very high, and if they form from molecular cores, those cores are significantly above the thermal Jeans mass. Low-mass stars undergo extensive premain-sequence evolution in the Hertzsprung-Russell diagram, from the point on the birthline, where they cease accreting and are revealed (Stahler 1983; see also Larson 1972), to the main sequence. Here we briefly review the current understanding of how such stars form.',\n",
       "  'As discussed above, low-mass stars appear to form from gravitationally bound cores. The timescale for the collapse of these cores determines both the timescale for the formation of a star and the accretion luminosity. Note that the rate of infall onto the star-disk system, \\n\\n, can differ from the rate of accretion onto the protostar, M\\n\\\\*, because some of the infalling gas can be temporarily stored in the disk. The collapse of such cores and the growth of the resulting protostars has been reviewed by Larson (2003), and we draw on this work here. At the outset of theoretical studies of star formation, it was realized that isothermal cores undergoing gravitational collapse become very centrally concentrated, with a density profile that becomes approximately ρ ∝ r\\n−2 (Bodenheimer & Sweigart 1968, Larson 1969). Prior to the formation of the protostar, there is a central, thermally supported region of size r ≃ λ\\nJ\\n. Collapse of a marginally unstable core begins near the outer radius. The r\\n−2 density gradient is created as the wave of collapse propagates inward, leaving every scale marginally unstable as the collapse accelerates (cf. Larson 2003). That is, because λ\\nJ\\n ∼ cs\\n/(Gρ)1/2 (Equation 20), a sphere that is marginally unstable at each scale, r ∼ λ\\nJ\\n, will have ρ ∼ cs\\n\\n2/(Gr\\n2) when the protostar is first formed; the corresponding infall rate is',\n",
       "  'where the gravitational mass and radius are defined in Equation 13 and ϕin is a numerical factor that is typically ≳ 1. (When the effect of protostellar outflows is included, the infall rate is reduced by a factor εcore < 1.) Although this result was first derived for an isothermal sphere, Stahler, Shu & Taam (1980) emphasize that it should apply approximately to the collapse of any cloud that is initially in approximate hydrostatic equilibrium, with \\ncs\\n\\n2 → c\\neff\\n2 = cs\\n\\n2 + vA\\n\\n2 + v\\nturb\\n2\\n including the effects of magnetic fields and turbulence as well as thermal pressure; Shu, Adams & Lizano (1987) suggest that c\\neff ≲ 2cs\\n, however. This infall rate explicitly depends only on the sound speed, but it implicitly depends on the density of the core: because the core was assumed to be initially in hydrostatic equilibrium, Equation 43 is equivalent to \\n\\n.',\n",
       "  \"There are two limiting cases for the gravitational collapse of an isothermal sphere. In the first case, originally considered by Larson (1969) and Penston (1969) and extended by Hunter (1977), one begins with a static cloud of constant density and follows the formation of the r\\n−2 density profile. At the time when the protostar first forms (i.e., when the central density reaches infinity in this idealized calculation), the collapse is highly dynamic, with an infall velocity of 3.3cs\\n. The infall rate onto the star is large, rapidly increasing from \\n\\n at the moment of protostar formation to \\n\\n. In the physically unrealistic case of an infinite, uniform medium, the accretion rate would remain at this high value; in practice, the accretion rate rapidly declines after the formation of a point mass (see below). In the opposite case, considered by Shu (1977), one assumes that the evolution to the r\\n−2 density profile is quasi-static (most likely owing to the effects of magnetic fields—see below), so that the infall velocities are negligible at the moment of protostar formation. The resulting initial configuration is the SIS, which is an unstable hydrostatic equilibrium. The collapse is initiated at the center, and the point at which the gas begins to fall inward propagates outward at the sound speed (the expansion wave): R\\new = cs t. This solution is therefore termed an inside-out collapse. For r ≥ R\\new, the density is that of a SIS, ρ = cs\\n\\n2/(2π Gr\\n2); for r < R\\new, the gas accelerates until it reaches free fall, with v = − (2Gm\\n\\\\*/r)1/2 and ρ0 ∝ r\\n−3/2. The generalized post-core-formation solutions of Hunter (1977) share the same density and velocity scalings at small radii. The infall rate for Shu's expansion wave solution is constant in time,\",\n",
       "  'The total mass inside the expansion wave at time t is \\n\\n, so that about half this mass is in the protostar (i.e., f\\new ≡ m\\n\\\\*/m\\new ≃ 1/2). Larson (2003) describes the Larson-Penston-Hunter and Shu solutions as fast and slow collapse, respectively, and suggests that reality is somewhere in between. A general discussion of the family of self-similar, isothermal collapse solutions has been given by Whitworth & Summers (1985).',\n",
       "  'Observations suggest that the cores that form low-mass stars initially have density profiles that approximate those of Bonnor-Ebert spheres (Section 3.1). Foster & Chevalier (1993) used time-dependent simulations to follow the collapse of such spheres under the assumption that support is by thermal pressure alone. They found that the collapse of the innermost, nearly uniform, part of a critical Bonnor-Ebert sphere (i.e., one with a center-to-edge density contrast of 14.1) approaches, but does not reach, the Larson-Penston solution prior to and at the time of core formation. Shortly thereafter, the infall rate begins to decline; there is no phase of constant infall for a critical Bonnor-Ebert sphere. However, a sphere that is initially in an unstable equilibrium with a larger center-to-edge density contrast has an extended (outer) region in which the density scales as r\\n−2. In this case the infall rate starts off as in the critical Bonnor-Ebert case and then declines to the constant value for an SIS. The infall rate eventually decreases below the SIS value when a rarefaction wave from the boundary of the cloud reaches the origin (see Vorobyov & Basu 2005a). Numerical simulations of gravitational collapse in an unmagnetized, turbulent medium show that the initial spike and subsequent decline of the infall rate are typical (Schmeja & Klessen 2004).',\n",
       "  'Most of the theoretical work (except for simulations) on low-mass star formation has neglected the role of turbulence in the core. This is generally a valid approximation for low-mass cores, but it becomes increasingly inaccurate as the core mass increases. When turbulence is included, it is generally in the microturbulent approximation. Bonazzola et al. (1987, 1992) treated the turbulent pressure as being scale-dependent, and suggested that turbulence could stabilize GMCs while allowing smaller scales to undergo gravitational collapse. Lizano & Shu (1989) introduced a phenomenological model for turbulence, a logotropic equation of state (Section 2.2), to treat the contraction of the core. Myers & Fuller (1992) and Caselli & Myers (1995) modeled cores that are supported in part by turbulent motions with a density distribution that is the sum of an r\\n-r power-law for a thermal core and a flatter power-law for the turbulent envelope. Turbulent cores also can be approximately modeled as polytropes with γ\\np\\n < 1 (Section 2.2), and when cores collapse, the adiabatic index γ can exceed unity (McKee & Zweibel 1995; Vázquez-Semadeni, Canto & Lizano 1998). Ogino, Tomisako & Nakamuro (1999) generalized the Foster & Chevalier (1993) calculation and found that both the peak infall rate and the rate of decline of the infall rate are increased for γ = γ\\np\\n > 1. McLaughlin & Pudritz (1997) generalized the Shu solution to singular polytropic and singular logatropic spheres. They showed that the expansion wave accelerates in time as R\\new ∝ t\\n2−γ\\np\\n\\n and the infall rate increases as \\n\\n (logatropes correspond to γ\\np\\n → 0). The ratio of the mass in the protostar to that engulfed by the expansion wave is f\\new ≃ 1/2,1/6, and 1/33 for γ\\np\\n = 1,2/3, and a logatrope, respectively. The infall rate for a singular polytropic sphere can also be expressed as \\n\\n, where t\\nff is the free-fall time measured at the initial density of the gas just accreting onto the star and ϕ\\\\* ≃ 1.62 − 0.96/(2 − γ\\np\\n) (McKee & Tan 2002; this is valid for 0 < γ\\np\\n < 1.2). Inside-out collapse solutions for clouds that are initially contracting and that have γ ≠ γ\\np\\n have been developed by Fatuzzo, Adams & Myers (2004). For clouds that are supported in part by turbulence, the decay of the turbulence can initiate the collapse of the core (Myers & Lazarian 1998).',\n",
       "  'In the innermost regions of the collapsing core, the opacity eventually becomes large enough that the gas switches from approximately isothermal behavior to adiabatic behavior. The initial calculations were carried out by Larson (1969), and recent calculations include those by Masunaga, Miyama & Inutsuka (1998), Masunaga & Inutsuka (2000), and Wuchterl & Tscharnuter (2003); all assume spherical symmetry. The gas begins to become adiabatic at a density ρ ∼ 10−13 g cm−3. The first core forms when the gas becomes hot enough to stop the collapse, and an accretion shock forms at a radius ∼ 5 AU and with an enclosed mass ∼0.05 M\\n⊙. Once the gas is hot enough to dissociate the molecular hydrogen, a second collapse ensues and the protostar is formed. When opacity effects are included, the maximum infall rate is limited to about 13cs\\n\\n3/G (Larson 2003), and the average infall rate over the time required to assemble 80% of the final stellar mass is about 1.5–3 times the SIS value (Wuchterl & Tscharnuter 2003).',\n",
       "  'The two classical problems of star formation are the angular momentum problem and the magnetic flux problem: A star has far less angular momentum and magnetic flux than an equivalent mass in the ISM. Magnetic fields effectively remove angular momentum so long as the contraction of the core is sub-Alfvénic and the neutral and ionized components of the infalling gas are reasonably well coupled (e.g., Mestel 1985, Mouschovias 1987). Once either of these conditions breaks down, the gas will collapse with (near-)constant specific angular momentum, j = ϖ v\\nϕ, where ϖ is the cylindrical radius, provided the transport of angular momentum by turbulence and gravitational torques is unimportant. For collapse at constant j, a disk will form with a radius',\n",
       "  'where \\n\\n is the Keplerian velocity, m\\n\\\\*d\\n is the mass of the star and disk (assumed to be equal to the initial mass M[ϖ0]), βrot is the rotational energy parameter defined in Equation 30, and ϖ\\n0\\n and Ω\\n0\\n are the initial cylindrical radius and angular velocity. In the collapse to a disk, the radius shrinks by a factor 3 βrot. Note that if the rotational velocity is proportional to the velocity dispersion, as might be expected for a cloud supported by turbulent motions (Burkert & Bodenheimer 2000), then βrot (ϖ0) is constant (Goodman et al. 1993), and the disk radius is a fixed fraction of the initial radius. However, clouds supported primarily by thermal pressure are generally assumed to be in uniform rotation. Recall that Goodman et al. (1993) found that cores typically have βrot (R\\ncore) ∼ 0.02.',\n",
       "  'As in the nonrotating case, two limits for rotating collapse have received the greatest attention. These studies have generally assumed isothermality and have focused on inviscid, axisymmetric flow, although the latter conditions are likely to be violated in real disks, as discussed in Section 4.2 below. If the core initially has constant density and is rotating slowly, then it collapses to a disk that evolves to a configuration with a singular surface density profile, Σ ∝ ϖ−1 (Norman, Wilson & Barton 1980; Narita, Hayashi & Miyama 1984). The self-similar solution for the collapse of a rotating disk has been obtained by Saigo & Hanawa (1998), who pointed out that this solution is the analog of the Larson-Penston-Hunter solution for nonrotating collapse (i.e., it includes the time after the formation of the central singularity in Σ). A quasi-equilibrium disk with a radius Rd\\n ≃ j\\n2/Gm\\n\\\\*d\\n (Equation 45) grows after formation of the central singularity. Because both M(ϖ) and j scale as ϖ2 in the inner part of the initial spherical cloud, it follows that j ∝ M(ϖ0). Angular momentum is conserved during disk formation, so when a mass M(ϖ0) = m\\n\\\\*d\\n has collapsed into the disk, Rd\\n ∝ j\\n2/m\\n\\\\*d\\n ∝ m\\n\\\\*d\\n, which grows linearly in time in the isothermal case. Note also that because Σ ∝ ϖ−1 in the disk, it follows that after disk formation M and therefore j ∝ ϖ; as a result, the rotational velocity in the disk is constant, independent of ϖ. The infall rate into the central disk is about (3 − 11)cs\\n\\n3/G, depending on the angular momentum; this is significantly less than that for the nonrotating Larson-Penston-Hunter solution (Saigo & Hanawa 1998). In this solution the gas outside the equilbrium disk is dynamically contracting and is assumed to be itself in a thin disk. Numerical calculations indicate that relaxation of the thin disk approximation increases the accretion rate by about a factor of two for the case they considered.',\n",
       "  'Alternatively, if the core settles into a centrally concentrated, spherical, quasi-equilibrium state prior to collapse, a slow, inside-out collapse ensues. The density distribution of the supersonically infalling gas in the vicinity of the disk has been determined by Ulrich (1976) and by Cassen & Moosman (1981) under the assumptions that the mass is dominated by the central protostar and that the gas is spherically symmetric far from the protostar. The outer radius of the disk is given by Equation 45, but the disk is far from Keplerian—there is a large inward velocity that leads to a dynamically contracting outer disk and quasi-equilibrium inner disk (Stahler et al. 1994). This solution for the inner part of the infall can be joined smoothly to the solution for the collapse of an SIS (Terebey, Shu & Cassen 1984). More generally, if the cloud initially has a power-law density profile (ρ ∝ r\\n−kρ) with k\\nρ > 1, then it is straightforward to show that, for Ω0 = const, the disk radius is \\n\\n. For the collapse of a slowly rotating SIS (k\\nρ = 2), this equation implies that the disk radius varies as Rd\\n ∝ m\\n\\\\*d\\n\\n3 ∝ t\\n3 (Cassen & Moosman 1981). This rapid increase in disk radius with time is based on the assumption that the cloud can evolve to a rigidly rotating SIS. Subsequent work (described below) shows that even when magnetic fields are included, this condition is difficult to realize, and Rd\\n tends to increase only linearly with time.',\n",
       "  '\\n\\nEffects of magnetic fields.\\n\\u2003\\n Poloidal magnetic fields prevent gravitational collapse when they are sufficiently strong (subcritical cores), and they inhibit contraction otherwise (supercritical cores), as discussed in Section 2.2. Magnetic tension acts to dilute the force of gravity. In nonrotating disks, this effect can be modeled approximately by adopting an effective gravitational constant (Basu 1997, Nakamura & Hanawa 1997, Shu & Li 1997), G\\neff = (1 − μΦ\\n−2)G, where μΦ ≡ M/M\\nΦ (Section 2.2) is assumed to be independent of r and must be greater than unity for gravitationally bound clouds; this equation is exact if the disk is also thin (Shu & Li 1997). As a result, the mass of a thin, nonrotating, isothermal, magnetically supercritical disk in equilibrium is M(r) = [1/(1 − μΦ\\n−2)]2cs\\n\\n2\\nr/G (Li & Shu 1996), which can be much larger than in the absence of magnetic support. If such a disk is initially in static equilibrium (which is difficult to arrange), the infall rate resulting from an inside-out collapse has ϕin = 1/(1 − μΦ\\n−2) in Equation 43 to within about 5% (Li & Shu 1997, Allen, Shu & Li 2003).',\n",
       "  'Mouschovias and his students have carried out an extensive set of calculations on the evolution of a magnetized disk assuming that the disk is thin and axisymmetric, which reduces the calculation to one spatial dimension. They followed the evolution from a subcritical initial state to supercritical collapse under the influence of ambipolar diffusion (Fiedler & Mouschovias 1993), including the effects of charged grains (Ciolek & Mouschovias 1994, 1996, 1998) and rotation (Basu & Mouschovias 1994, 1995a,b). In these calculations, the magnetic field has a characteristic hour-glass shape in which the field is normal to the disk and flares above and below it; observations that are consistent with this geometry have been obtained recently at a resolution of 700 AU (Girart, Rao & Marrone 2006). Galli & Shu (1993a,b) show that even if the magnetized core began with a spherical shape, it would collapse to a disk, which they term a pseudodisk as it is not rotationally supported. The calculations of Mouschovias and his students cited above typically began in a very subcritical state, with μΦ ≃ 0.25, and stopped when the central density reached 109.5 cm−3, which is about the point at which the central regions are expected to become opaque and nonisothermal. They found that thermal pressure exerts an outward force ≃30% of that due to gravity, whereas centrifugal accelerations are negligible in this phase of evolution. The central part of the core undergoes an extended phase of evolution until it becomes supercritical, at which point the contraction accelerates and the mass-to-flux ratio increases more slowly.',\n",
       "  '\\nBasu (1997) has given a semianalytic treatment of these results. He showed that the surface density profile in the inner core is \\n\\n, where Σ\\nc\\n is the central surface density and \\nR(t) = 2cs\\n\\n2/GΣ\\nc\\n (t) is the radius of the region in which thermal pressure is sufficiently strong to maintain an approximately constant density (Narita, Hayashi & Miyama 1984 found a similar result for rotating collapse without a magnetic field). The supercritical core has a radius R\\ncrit obtained by setting the central surface density equal to twice the critical value [Σ\\nc\\n = μΦ\\nB\\n0/(2π G\\n1/2) with μϕ = 2, where B\\n0 is the initial field strength in the core]. He showed that the slow increase in the mass-to-flux ratio, μΦ ∝ Σ0.05, results in a significant reduction in magnetic support at high densities. The density profile in the inner part of the disk (r ≪ R\\ncrit) has k\\nρ ≃ 2, but the increasing relative importance of magnetic forces in the outer regions cause it to flatten out so that the mean value in the entire core is k\\nρ ≃ 1.6. Basu found that the rotational velocity is independent of r, just as Saigo & Hanawa (1998) did for the nonmagnetic case. Extending the problem to include the time after protostar formation, Contopoulos, Ciolek & Königl (1998) obtained a similarity solution to the nonrotating collapse problem with ambipolar diffusion and found an infall rate \\n\\n at the time of protostar formation. Two-dimensional numerical calculations have confirmed this result and have shown that the infall rate subsequently drops by somewhat less than a factor of 2 (Ciolek & Königl 1998).',\n",
       "  '\\nShu, Li & Allen (2004) have considered very different initial conditions, in which a uniform field threads a SIS. Because the flux-to-mass ratio is zero at the origin and increases outward, magnetic effects are negligible at the center and become important only at a characteristic length scale R\\nch = π c\\n2\\n\\ns\\n/G\\n1/2\\nB, corresponding to the condition that MG\\n ∼ M\\nΦ (a similar length scale arises in studies of collapse with ambipolar diffusion, as may be inferred from Basu & Mouschovias 1995b). They follow the collapse under the assumption that the flux is frozen to the gas and find that the infall rate declines after the expansion wave reaches R\\nch; this is analogous to the result of Ciolek & Mouschovias (1995), who found a similar result for the case of collapse with ambipolar diffusion when the expansion wave reached a point at which the ambipolar diffusion was inhibited by photoionization. The initial conditions assumed by Shu, Li & Allen (2004) lead to a poloidal field that decreases inward, whereas calculations that start from nonsingular initial conditions and include ambipolar diffusion find that the poloidal field strongly increases inward.',\n",
       "  'A full similarity solution for the evolution of the collapsing core after it has fallen into a thin disk and a protostar has formed at the center, including rotation, magnetic fields, and ambipolar diffusion, has been obtained by Krasnopolsky & Königl (2002). They assumed that the gas is in a thin disk with a constant rotational velocity (see above); how this assumption would be affected by turbulence, which would thicken the disk and transport angular momentum, is unclear. The infalling gas goes through two shocks, a C-shock (which has a structure dominated by ambipolar diffusion—e.g., Draine & McKee 1993) and a shock at the outer edge of the centrifugally supported disk. When the protostar reaches 1 M\\n⊙, the C-shock is at about 103 AU and the centrifugal shock is at about 102 AU, consistent with data on T Tauri systems (see Section 4.2.1 below). Within the self-similar framework, they found that magnetic braking can be adequate to maintain accretion onto the central protostar; in this case there would be no need for internal disk stresses to drive accretion. The infall rate in their fiducial case is 4.7cs\\n\\n3/G; for a gas at 10 K, this corresponds to a star-formation time \\n\\n years. Their solution does not include an outflow, but they show how one might be included and estimate that this could reduce the accretion rate by a factor of ≲3. In sum, based on the theoretical work to date, it is clear that the infall rate is proportional to c\\neff\\n3/G, where c\\neff is an effective sound speed (Stahler, Shu & Taam 1980), but the value of the coefficient and its time dependence have yet to be determined in realistic cases.',\n",
       "  'The magnetic flux problem in star formation is that stars have very large values for the mass-to-flux ratio (μΦ ∼ 104 − 105 in magnetic stars, ∼ 108 in the Sun—Nakano 1983), whereas they form from gas with μΦ ∼ 1. This problem does not have an adequate solution yet, but it appears that it must be resolved in part on scales ≲ 1000 AU and in part on smaller (∼AU) scales. Detailed calculations of the ionization state of the infalling and accreting gas show that the ionization becomes low enough that the field decouples from the gas at densities of order 1010.5 − 1011.5 cm−3 (Nishi, Nakano & Umebayashi 1991; Desch & Mouschovias 2001; Nakano, Nishi & Umebayashi 2002); decoupling occurs at a somewhat lower density after the formation of the central protostar, owing to the stronger gravitational force (Ciolek & Königl 1998). Li & McKee (1996) showed that once the field decouples from the gas, magnetic flux accumulates in the accretion disk as the gas flows through the field and onto the protostar. The pressure associated with this field is strong enough to drive a C-shock (which has a structure dominated by ambipolar diffusion) into the infalling gas. The radius of the shock is predicted to be several thousand AU at the end of the infall phase of a 1-M\\n⊙ star; inside the shock, the field is approximately uniform (except close to the star) and the gas settles into an infalling, dense disk that they identified with the outer disk observed in HL Tau (Hayashi, Ohashi & Miyama 1993).',\n",
       "  'These results have been confirmed and improved upon by Contopoulos, Ciolek & Königl (1998), Ciolek & Königl (1998), and Krasnopolsky & Königl (2002). Tassis & Mouschovias (2005) have carried out 2D axisymmetric calculations with careful attention to the evolution of the ionization and find that the location of the shock oscillates, leading to fluctuations in the accretion rate; it is important to determine if this effect persists in a full 3D simulation. Tassis & Mouschovias (2007a,b,c) find that the magnetic field in the central region (r ≲ 10 AU) is about 0.1 G at the end of their calculation, when the central star has a mass ∼0.01 M\\n⊙; this is at the low end of the fields inferred in the early solar nebula from meteorites, which are in the range of 0.1 = 10 G (Morfill, Spruit & Levy 1993). They show that ohmic dissipation becomes as important as ambipolar diffusion at densities ≳ 1012.5 cm−3, but it does not affect the total magnetic flux. However, even though these processes significantly reduce the field within a few AU of the protostar, they are not sufficient to reduce the magnetic flux in the protostar to the observed value (Nakano & Umebayashi 1986, Li & McKee 1996, Ciolek & Königl 1998, Li 1998, Tassis & Mouschovias 2005). It is possible that turbulent diffusion (Li & McKee 1996) or magnetic reconnection (Mestel & Strittmatter 1967, Galli & Shu 1993b) plays a role in further reducing the magnetic flux. Reconnection alters the topology of the field and can displace the region in which the flux crosses the forming or accreting disk. However, reconnection cannot actually destroy flux (a common misconception), because at sufficient distance from the protostar the plasma is a good conductor and the total flux inside this conductor must be conserved. At the present time, the solution to the magnetic flux problem remains incomplete.',\n",
       "  'As remarked above (Section 4.1.1), magnetic fields are thought to play a critical role in solving the classical angular momentum problem by means of magnetic braking (Mestel 1985, Mouschovias 1987). Indeed, magnetic braking when the field is frozen to the matter is so effective that Allen, Li & Shu (2003) and Galli et al. (2006) have argued that magnetic reconnection is required to reduce the field and therefore the braking enough that a Keplerian disk can form. The infall solution of Krasnopolsky & Königl (2002), which includes ambipolar diffusion, and the numerical simulations of Hujeirat et al. (2000), which include both turbulence and ambipolar diffusion, suggest that Keplerian disks can form without reconnection, but nonetheless indicate that predicting the evolution of the specific angular momentum of the infalling gas is a complex problem. However, it is not clear that any of these theoretical models are consistent with the observations of Ohashi et al. (1997), which show that the specific angular momentum in gas associated with several protostars in Taurus is constant for 10−3 pc < r < 0.03 pc.',\n",
       "  'Numerical simulations, as opposed to numerical integration of the underlying partial differential equations, are required to study core collapse in 2D or 3D without additional assumptions (such as self-similarity or a thin-disk condition). A critical review of numerical simulations of low-mass star formation is given by Klein et al. (2007). To date, such simulations have not included ambipolar diffusion, nor have they simultaneously included radiative transfer and magnetic fields; most simulations have also stopped prior to the formation of the protostar. A prediction of these simulations is that a slow (v ∼ cs\\n ∼ 0.2 km s−1) outflow should occur at large radii (∼103 AU; Tomisaka 1998, 2002; Banerjee & Pudritz 2006). These authors suggest that this outflow is related to the observed bipolar outflows, but Allen, Li & Shu (2003) disagree. In any case, this large-scale outflow could be important in setting the outer boundary conditions for the jets and higher-velocity outflows that are observed (see Sections 4.2.4, 4.2.5).',\n",
       "  'Once a protostar star has formed by gravitational collapse of a core, it can continue to grow by gravitational accretion from the ambient medium. Most treatments of this process do not distinguish between the gas that accretes directly onto the star and the gas that first falls onto the disk. Hoyle & Lyttleton (1939) first developed the theory of accretion by a moving point mass, and Bondi (1952) extended the theory to the case in which the star is at rest in a medium of finite temperature. Today, gravitational accretion by a stationary object is generally referred to as Bondi accretion, whereas that by a moving object is referred to as Bondi-Hoyle accretion. If the density and sound speed far from the star are ρ and cs\\n, respectively, and the star is moving at a velocity \\n\\n through the ambient medium, then the characteristic radius from which the star accretes is',\n",
       "  'The accretion rate is',\n",
       "  'where ϕBH is a number of order unity that fluctuates somewhat due to instabilities in the flow (Ruffert & Arnett 1994).',\n",
       "  'There are a number of assumptions that go into this result: (a) The mass inside R\\nBH is dominated by the mass of the star—i.e., the self-gravity of the accreting gas is negligible. One can show that',\n",
       "  'so that this condition is equivalent to requiring that the stellar mass be small compared to the Bonnor-Ebert mass (Equation 15) in the ambient medium (for \\n\\n). (b) The tidal gravitational field is negligible; when it is not, R\\nBH is replaced by the tidal radius (Bonnell et al. 2001a). (c) The magnetic field is negligible. Based on dimensional scalings, a rough approximation for the effect of a magnetic field on the accretion rate would be to make the replacement v\\n0 → (v\\n0\\n2 + vA\\n\\n2)1/2. (d) The ambient gas is moving at a uniform velocity. In fact, gas in molecular clouds is generally supersonically turbulent, so that an accreting star experiences large fluctuations in both the density and velocity of the accreting material. Krumholz, McKee & Klein (2006) showed that the mean accretion rate in a turbulent medium is given by Equation 47 with ρ equal to the mean density, \\n\\n replaced by \\n\\n, and \\n\\n, provided that the 3D Mach number \\n\\n of the turbulence is large compared to \\n\\n and compared to unity (they verified this result for \\n\\n and \\n\\n). This result was derived from simulations of isothermal gas, but it should be approximately valid for other equations of state also. The median accretion rate is significantly less than the mean, however.',\n",
       "  'The dominant paradigm for star formation is gravitational collapse, but an alternative is that stars (or at least relatively massive stars) are formed primarily by the capture and subsequent accretion of matter that is initially unbound to the star (Zinnecker 1982, Bonnell et al. 1997). Because protostars compete for gas from a common reservoir, this process is termed “competitive accretion.” The simulations of Bonnell et al. (1997) show that a few of the fragments gain most of the mass; these are the ones that reside primarily in the central regions of the clump and have the highest accretion rates. Because gravitational accretion scales as m\\n\\\\*\\n2, initial differences in protostellar masses are amplified. This process has the potential of producing the IMF, and it also naturally leads to massive stars being centrally concentrated in clusters, as observed (Bonnell et al. 2001b). A key issue for competitive accretion is, What is the level of turbulence in the ambient medium? There is general agreement that competitive accretion is ineffective if the medium has turbulent energy comparable to gravitational energy, with αvir order unity (see Equation 11), whereas it is effective if the turbulence is sufficiently weak, αvir ≪ 1 (Bonnell et al. 2001a; Krumholz, McKee & Klein 2005a; magnetic fields, which tend to suppress accretion, have not been considered yet). Bonnell and his collaborators (Bonnell & Bate 2006 and references therein) argue that the gas throughout star-forming clumps has a very low turbulent velocity so that protostars in clusters can accrete efficiently. However, Krumholz, McKee & Klein (2005a) argue that stellar feedback and the cascade of turbulence from larger scales ensure that the star-forming clumps are sufficiently turbulent to be approximately virialized and to therefore have negligible competitive accretion. Analysis of data from several star-forming clumps shows that stars in these clumps could grow by only 0.1 − 1% in a dynamical time; this is far too small to be significant. The timescale for the formation of star clusters is an important discriminant between these models: Star clusters form in about 2t\\nff if turbulence is allowed to decay (Bonnell, Bate & Vine 2003), whereas it can take significantly longer if turbulence is maintained (Bonnell, Bate & Vine 2003). The observational evidence discussed by Tan, Krumholz & McKee (2006) and Krumholz & Tan (2007) favors the longer formation time. This controversy can be resolved through more detailed observations of gas motions in star-forming clumps and through more realistic simulations that allow for the evolution of the turbulent density fluctuations as the clump forms and evolves to a star-forming state, and that incorporate stellar feedback.',\n",
       "  'The growth of protostars can be inferred through observations of the mass distribution surrounding the protostar, the velocity distribution of this circumstellar gas, and the nonstellar radiative flux. The mass and/or temperature distribution on both small and large spatial scales can be inferred by modeling the spectral energy distribution (SED) of the continuum. Protostellar SEDs are conventionally divided into four classes, which are believed to represent an evolutionary progression [Myers et al. (1987) divided sources into two classes; Lada (1987) introduced Classes I–III; Adams, Lada & Shu (1987) discussed a similar classification; and André, Ward-Thompson & Barsony (1993) introduced Class 0]. André, Ward-Thompson & Barsony (2000) have summarized the classification scheme:',\n",
       "  'These classes can also be defined in terms of the bolometric temperature, which is the temperature of a black body with the same mean frequency as the SED of the YSO (Myers & Ladd 1993).',\n",
       "  'Unfortunately, the geometry of the source can confound this classification scheme (e.g., Masunaga & Inutsuka 2000). It is well recognized that a given source can appear as a Class II source at small or moderate inclination angles (so that the central star is visible) and as a Class I source at large inclination angles (so that the central source is obscured by the disk). A similar ambiguity can involve Class 0 sources if the protostellar envelope is flattened owing to the presence of a large-scale magnetic field or contains cavities created by protostellar jets. White et al. (2007) summarize the observational evidence that many of the properties of Class I and Class II sources are similar, which is consistent with inclination effects confusing the evolutionary interpretation of the SEDs. This ambiguity can be alleviated by radio or submillimeter observations of the envelopes, which yield masses that are independent of inclination; Motte & André (2001) find that about 40% of the sources in Taurus that are classified as Class I on the basis of their SEDs have envelope masses <0.1 M\\n⊙ and are thus unlikely to be true protostars. More sophisticated modeling of the SEDs can also clarify the evolutionary sequence of YSOs; for example, Robitaille et al. (2006) have calculated 2 × 105 model SEDs, including the effects of outflow cavities, that can be automatically compared with observed SEDs to infer the properties of the source. Counts of sources at different evolutionary stages together with an estimate for the age for one of the stages allows one to infer the lifetimes for all the stages. Typical estimates for the ages are 1 − 2 × 105 years for Class I sources and 1 − 3 × 104 years for Class 0 sources (André, Ward-Thompson & Barsony 2000).',\n",
       "  'There is a significant discrepancy between the protostellar accretion rates that are observed and those that are expected, resulting in the so-called luminosity problem (Kenyon et al. 1990). The luminosity due to accretion onto the star is',\n",
       "  'where f\\nacc is the fraction of the gravitational potential energy released by accretion, the rest being carried off in a wind or absorbed by the star (e.g., Ostriker & Shu 1995), 0.25 M\\n⊙ is the typical mass of a protostar (i.e., half the mass of a typical star), and 2.5 R\\n⊙ is the corresponding radius (Stahler 1988). There are two main ways to estimate the expected average accretion rate, \\n\\n. (a) Because both the mass ejected from the disk and the mass stored in the disk are generally a small fraction of the stellar mass (see Section 4.2), the average accretion rate \\n\\n should be comparable to the infall rate \\n\\n. Theoretically, for T = 10 K, this is \\n\\n year−1 (Equations 43, 44). If the fraction of the core mass that goes into the star is εcore ≃ 1/3 (Matzner & McKee 2000; Alves, Lombardi & Lada 2007), and if the envelope infall rate is that expected from rotating, magnetized collapse (ϕin ≃ 5—Krasnopolsky & Königl 2002), then the infall rate is \\n\\n year−1. Observationally, the properties of the envelopes around Class I objects inferred from the SEDs give similar infall rates (Kenyon, Calvet & Hartmann 1993), so this estimate for ϵcore ϕin cannot be too far off. (b) A direct estimate of the average accretion rate is that forming a 0.5 M\\n⊙ star in 2 × 105 years, the estimated upper limit on the duration of the embedded stage, requires \\n\\n year−1, comparable to the estimated infall rate. The average luminosity corresponding to this accretion rate is 〈L〉 ≃ 8 L\\n⊙. The problem is that the observed median luminosity of the bona fide Class I sources (i.e., those with significant molecular envelopes) in Taurus is about 0.5 − 1 L\\n⊙ (White & Hillenbrand 2004 and Motte & André 2001, respectively), almost an order of magnitude smaller. The problem is significantly worse than this, however, as only a small fraction of the luminosity is due to accretion (Muzerolle, Hartmann & Calvet 1998); White & Hillenbrand (2004) find that the fraction is about 25%. The clearest statement of the luminosity problem is as an accretion rate problem: The observed accretion rates in Class I protostars are 1–2 orders of magnitude smaller than those needed to form a star during the lifetime of a Class I object.',\n",
       "  '\\nKenyon et al. (1990) suggested two solutions to this problem. One solution is that significant accretion continues into the T Tauri stage, but this appears to be ruled out by the fact that such stars accrete very slowly (10−8\\nM\\n⊙ year−1; see Section 4.2.1), and there is not a significant disk or envelope mass reservoir that they can draw on for episodic accretion. The other solution is that most of the accretion occurs in the embedded stage, but it is episodic, so that the median accretion rate is much smaller than the mean. They suggested that the high accretion-rate stage of protostellar accretion could correspond to FU Orionis objects, which are very luminous (typically 200 − 800 L\\n⊙—Hartmann & Kenyon 1996) and have have accretion rates ∼10−4\\nM\\n⊙ year−1. Such outbursts could be due to thermal instability (Bell & Lin 1994, Bell et al. 1995), although this would only affect the inner disk, and hence the outburst would be limited in duration and total mass accreted; or to gravitational instability in the disk (see Section 4.2.2 and Vorobyov & Basu 2005b, 2006). However, Hartmann & Kenyon (1996) estimate that the observed FU Ori objects can account for only about 5 − 20% of the mass of stars forming in the solar vicinity; this discrepancy has not disappeared in the intervening decade. Recent observational studies of the central stars in Class I sources differ on their evolutionary status: White & Hillenbrand (2004) argue that the Class I protostars are similar to TTSs and are thus past the main protostellar accretion phase, whereas Doppmann et al. (2005) come to the opposite conclusion. If protostars are close to their final mass by the time they become Class I sources, then they must gain most of their mass in the Class 0 stage. In this case the luminosity problem remains, albeit in a milder form: The mean accretion rate required to form a 0.5 M\\n⊙ star in 3 × 104 years (the estimated upper limit on the lifetime of a Class 0 source—André, Ward-Thompson & Barsony 2000) is 1.7 × 10−5\\nM\\n⊙ year−1, corresponding to \\n\\n; by contrast, the median luminosity of the Class 0 sources listed by André, Ward-Thompson & Barsony (2000) is about 10 L\\n⊙. This luminosity problem could be alleviated if a significant fraction of the accretion energy is carried off by the powerful protostellar outflows that accompany these sources, so that f\\nacc ≲ 1/2. However, accounting for a value of the infall rate as high as the inferred accretion rate onto the star remains a theoretical challenge: The magnetized collapse models discussed above give infall rates of a few × 10−6\\nM\\n⊙ year−1 (for εcore ∼ 1/3), significantly less than required. A resolution of the luminosity problem thus remains elusive.',\n",
       "  'Spectroscopic observations using molecular transitions can give both the mass and velocity distributions in collapsing cores (Myers, Evans & Ohashi 2000), but to date the spatial resolution of these data is generally ≳ 100 AU. Evidence for infall in unresolved cores is provided by the infall asymmetry (Lucas 1976, Leung & Brown 1977, Myers et al. 1996): optically thick, infalling gas in which the excitation temperature rises toward the center produces a characteristic line profile in which the blue wing is stronger than the red wing. Observations of samples of starless cores (Lee, Myers & Tafalla 1999, 2001), Class 0 sources (Gregersen et al. 1997), and Class I sources (Gregersen et al. 2000) show a blue excess [(blue asymmetries—red asymmetries)/(number of sources)] of about 0.25 − 0.35, indicating that many of these sources are undergoing collapse (Myers, Evans & Ohashi 2000). Unfortunately, it has proven difficult to carry out unambiguous observational tests of the theoretical models for protostellar accretion. Furuya, Kitamura & Shinnaga (2006) mapped the infall in a young Class 0 source and found reasonably good agreement with the Larson-Penston-Hunter solution (ϕin ≃ 20 in Equation 43); this source appears to be very young, because for r > 100 AU there is no evidence for the ρ ∝ r\\n−3/2 density profile expected for accretion onto a protostar of significant mass. Tafalla et al. (1998) and Lee, Myers & Tafalla (2001) found that infall is more extended than expected in inside-out collapse models, although this infall may reflect the formation of small clusters rather than individual stars. They also found that the infall velocity is faster than expected in standard ambipolar diffusion models; however, the velocities are consistent with the collapse of magnetically supercritical cores (Ciolek & Basu 2000). A potentially important result is that Ohashi et al. (1997) found that cores in Taurus are in solid body rotation on scales ≳ 0.03 pc but conserve angular momentum on smaller scales. The physical significance of this length scale could be inferred by determining its value in other molecular clouds.',\n",
       "  '\\n\\nBrown dwarfs.\\n\\u2003\\n Because brown dwarfs represent the low-mass extreme of star formation, they can shed light on the earliest stages of star formation. As a result of a great deal of observational work over the past decade, it has been established that most brown dwarfs form by the same mechanism as most stars (Luhman et al. 2007, Whitworth et al. 2007): the IMF, velocity and spatial distributions at birth, multiplicity, accretion rates, circumstellar disks, and outflows are all continuous extensions of those for hydrogen-burning stars. This is to be expected, as stars near the H-burning limit at 0.075 M\\n⊙ reach their final mass long before hydrogen burning commences. Following Whitworth et al. (2007) and Chabrier et al. (2007), we shall assume that brown dwarfs form by gravitational instability on a dynamical timescale, and that their composition reflects that of the ambient ISM. By contrast, planets are believed to form in circumstellar disks and to have an elemental composition with an excess of heavy elements. With these definitions, the observational distinction between giant planets with masses ≳ MJ\\n and small brown dwarfs is somewhat indistinct, but should eventually be amenable to spectroscopic determination (Chabrier et al. 2007). The lower limit to the mass of a brown dwarf is set by the condition that the star becomes opaque to the radiation it emits while undergoing gravitational collapse (Low & Lynden-Bell 1976); including helium, this is about 4 × 10−3\\nM\\n⊙ ≃ 4 MJ\\n\\n (Whitworth et al. 2007). The smallest brown dwarfs detected to date have masses ∼(0.01 − 0.02) M\\n⊙ (Luhman et al. 2007).',\n",
       "  'In order for a brown dwarf to form, its mass must exceed the Bonnor-Ebert mass, even if it forms via shock compression (Elmegreen & Elmegreen 1978); the pressure at the surface of the core that forms the brown dwarf must therefore be \\n\\n K cm−3. Assuming that brown dwarfs form by turbulent fragmentation, Padoan & Nordlund (2004) show that such pressures can be reached in a large enough fraction of the mass of the cluster IC348 to account for the brown dwarfs observed there. This model is based on the asumption that the gas is isothermal and that as a result the density PDF is a log-normal distribution (Equation 5). The remaining mystery is, Why is the IMF of brown dwarfs relatively constant (at least to within a factor of two) when their numbers are exponentially sensitive to the mean of the log-normal distribution, which depends on the Mach number at the largest scale in the cloud? This is part of the larger mystery as to why the IMF appears to be universal, but in the brown dwarf regime the exponential sensitivity to ambient conditions potentially offers an opportunity to determine how ambient conditions affect the IMF.',\n",
       "  '\\nWhitworth et al. (2007) review a number of other mechanisms for brown dwarf formation that could contribute in some cases:',\n",
       "  '\\n\\nBinaries.\\n\\u2003\\n Stars are roughly evenly divided between those that are in multiple systems (mainly binaries) and those that are single. For stars of mass ∼1 M\\n⊙, Duquennoy & Mayor (1991) found that the fraction of stellar systems that are multiple—i.e., the ratio of the total number of binaries, triples, etc. divided by the total number of systems, including single stars—is f\\nmult = 0.58. Multiplicity declines for smaller masses, and Reid & Gizis (1997) find f\\nmult ≃ 0.3 for stars in the Solar Neighborhood, which are primarily M stars. Lada (2006) finds a similar result when one averages over the entire IMF: The majority of stellar systems (as opposed to the majority of stars) are single. The fraction of singles is smaller at birth, however: Higher-order multiples (triples, etc.) are often dynamically unstable, and in dense environments collisions among stellar systems can disrupt wide binaries (Kroupa, Petr & McCaughrean 1999). Observations summarized by Duchêne et al. (2007) show that the multiplicity among TTSs in low-density associations such as Taurus-Auriga and Ophiuchus and among Class I sources in high-density regions such as L1641 in Orion is about twice as high as among field stars. In dense star-forming regions like Orion, however, this excess multiplicity is soon erased—for example, the multiplicity in the Orion Nebula Cluster (which is older than L1641) is the same as in the field. This introduces a complication in comparing the CMF with the IMF (Section 3.3): On average, cores produce more than one star, and the properties of the resulting stellar systems evolve with time. This is not a major complication, however, because each core typically produces only 2–3 stars (Goodwin & Kroupa 2005), and the distribution of secondary masses in typical binaries appears to follow the field star IMF (Goodwin et al. 2007). It should be noted that the multiplicity of the stars is imprinted on their spatial distribution: Larson (1995) found a clear break in the density of companions in Taurus at about 0.04 pc, separating binaries and multiple stars from larger scale clusters.',\n",
       "  'Binaries raise two important issues in the theory of star formation: What is the role of binaries in reducing the angular momentum inherited by protostars? What determines how molecular cores fragment? Binaries do not appear to be effective in taking up the angular momentum of the initial core: Fisher (2004) has shown that turbulent molecular cores must lose 99–99.9% of their initial angular momentum in order to qualitatively account for a number of features of the binary population with periods ≳ 103 days. This angular momentum loss is generally assumed to be due to magnetic braking (Section 4.1.1), but Jappsen & Klessen (2004) suggest that gravitational torques can also contribute. Binaries can remove angular momentum on small scales by ejecting a companion, which hardens the remaining binary. However, Goodwin & Kroupa (2005) point out two limitations on this process: (a) it tends to create equal mass binaries, which are not common for typical stars, and (b) it would create a population of single stars significantly larger than observed.',\n",
       "  'There is an extensive literature on the fragmentation of protostellar cores into binary and multiple protostars that is reviewed by Bodenheimer et al. (2000), Duchêne et al. (2007), and Goodwin et al. (2007). Simulations of fragmentation are very challenging because of the enormous range of scales involved, and it does not appear that any of the simulations carried out to date have enough resolution and enough physics (i.e., including MHD and radiative transfer) to adequately address the problem (Klein et al. 2007). In particular, a number of simulations produce 5–10 fragments per core, whereas observations show that most cores produce only 2–3 fragments (Goodwin & Kroupa 2005).',\n",
       "  'Because protostellar cores are rotating, collapse with conservation of angular momentum results in the formation of a centrifugally-supported disk (Section 4.1.1). Observed sizes and rotation parameters for low-mass dense cores predict disk sizes ≲ 1000 AU, consistent with high-resolution submillimeter continuum observations that indicate average (dust) disk sizes around TTSs of ≈200 AU (Andrews & Williams 2006); similar results are obtained using millimeter interferometry (Kitamura et al. 2002). The disks around T Tauri disks extend inward to ∼0.04 AU based on modeling of observed CO vibrational emission lines (Najita et al. 2006); these inner radii are smaller than the inner disk radii inferred for dust disks, presumably because the dust sublimates. The initial sizes of circumstellar disks are more difficult to determine, because protostellar systems in the earliest stages (prior to the T Tauri stage) are still enshrouded in dusty envelopes that emit at similar wavelengths to the disk; in a few cases where the inner envelope emission can be spatially separated out, disk sizes appear similar (e.g., Jørgensen et al. 2005).',\n",
       "  'Masses of protostellar disks are estimated using the continuum flux in millimeter and submillimeter wavelengths. The first disk mass estimates for TTSs were obtained from observations of the total flux at a single millimeter wavelength under the assumption of optically thin emission (e.g., Beckwith et al. 1990), but subject to an uncertainty in the overall normalization owing to the uncertainty in the dust opacity coefficient [because M\\ndisk ∝ F\\nν/(ν2 κν)]. Multiwavelength (submillimeter to centimeter) observations suggest that the dust opacity law κν ∝ νβ has a distinctly shallower slope β than holds for dust in the diffuse ISM, presumably owing to grain growth (e.g., Beckwith & Sargent 1991; Beckwith, Henning & Nakagawa 2000). Interpretation of the multiwavelength flux data as implying a change in β is complicated by the fact that some of the short-wavelength emission can be optically thick (which yields F\\nν ∝ ν2 independent of β for a disk that is optically thick at all ν). However, spatially resolved observations can be combined with modeling to correct for optically thick contributions varying with ν and R, with the resulting median being β ≲ 1 (e.g., Natta et al. 2007, Andrews & Williams 2007, Lommen et al. 2007), suggesting that the largest grains are in fact centimeter-size pebbles (e.g., Wilner et al. 2005, Rodmann et al. 2006). Total disk masses for T Tauri systems are estimated to be in the range ∼10−3 − 10−1\\nM\\n⊙ with a median near 0.005 M\\n⊙ from submillimeter observations (e.g., Andrews & Williams 2005), but these may severely underestimate the true masses if a large fraction of the grains have grown to millimeter or centimeter sizes and thus emit only weakly in the submillimeter (Hartmann et al. 2006, Natta et al. 2007). Determining the distribution of mass within disks is difficult because submillimeter emission is likely optically thick in the inner regions, whereas at longer wavelengths there is insufficient resolution to probe the inner-disk regions (Andrews & Williams 2007). Finally, we note that disk mass determinations assume a cosmic ratio of gas to dust; at late evolutionary stages, photoevaporation may preferentially remove gas, and planet formation may preferentially remove dust.',\n",
       "  'The thermal structure of protostellar disks is likely quite complex. Disks can be heated both externally via irradiation from the central star, and internally from dissipation and thermalization of orbital kinetic energy as the gas accretes (Calvet et al. 1991, Chiang & Goldreich 1997). As a consequence, the vertical temperature distribution depends on details of the system and can have a local minimum at intermediate altitude (D’Alessio et al. 1998). The vertical temperature distribution together with its dependence on radius must be self-consistently calculated, because the flaring of the disk surface affects the amount of radiation intercepted from the central star (see discussion and references in Dullemond et al. 2007). In addition, gas and dust temperatures may differ in the upper atmospheres where the densities are low and stellar X rays strongly heat the gas (Najita et al. 2006). Quite sophisticated radial-vertical radiative models (including grain growth and settling) have been developed that agree well with observed SEDs from micrometer to millimeter wavelengths [see e.g., Dullemond & Dominik (2004), D’Alessio et al. (2006) and references therein]. The IR emission signatures, including PAH features at 3 − 13 μ and edge-on silhouette images, as well as scattered-light/polarization observations in optical and near-IR frequencies, indicate that although some grains have grown to large sizes, small grains still remain in disk atmospheres (see references and discussion in Dullemond et al. 2007 and Natta et al. 2007).',\n",
       "  'Disk lifetimes are inferred based on stellar ages combined with IR and millimeter/submillimeter emission signatures, which are sensitive to warm dust. Multi-wavelength Spitzer observations of the nearby star-forming cluster IC 348 (Lada et al. 2006) show that for ∼70% of stars, disks have become optically thin in the IR (implying inner disks R ≲ 20 AU have been removed) within the 2- to 3-Myr age of the system; disk fractions are slightly higher (∼50%) for Solar-type stars than in those of higher or lower mass; observations of other clusters are consistent with these results (Sicilia-Aguilar et al. 2006a). L-band observations of disk frequencies in clusters spanning a range of ages (Haisch, Lada & Lada 2001) suggests that overall disk lifetimes are ≈6 Myr. Even in the 10-Myr-old cluster NCG 7160, however, a few percent of stars still show IR signatures of disks (Sicilia-Aguilar et al. 2006a), and disk lifetimes appear to be inversely correlated with the mass of the star (Hernandez et al. 2007). Signatures (or their absence) of dusty disk emission are also well correlated with evidence (or lack) of accretion in gaseous emission line profiles (see below) in systems at a range of ages, indicating that gas and dust disks have similar lifetimes (Jayawardhana et al. 2006, Sicilia-Aguilar et al. 2006b). Andrews & Williams (2005) found, for a large sample of YSOs in Taurus-Auriga, that in general those systems with near-IR signatures of inner disks also have submillimeter signatures of outer disks, and vice versa; they conclude that inner and outer disk lifetimes agree within 105 years.',\n",
       "  'Accretion in YSO systems is studied using a variety of diagnostics (see e.g., Calvet, Hartmann & Strom (2000)), including continuum veiling of photospheric absorption lines and optical emission lines, which are respectively believed to arise from hot (shocked) gas on the stellar surface and from gas that is falling onto the star along magnetic flux tubes. Gullbring et al. (1998) measured a median accretion rate for million-year-old TTSs of ∼10−8\\nM\\n⊙ year−1, and White & Ghez (2001) found similar accretion rates for the primaries in T Tauri binary systems. A recent compilation of observations (White & Basri 2003, Muzerolle et al. 2003, Calvet et al. 2004) shows an approximate dependence of the accretion rate on stellar mass \\n\\n, although with considerable scatter (Muzerolle et al. 2005). This scaling of the accretion rate with stellar mass is potentially explained by Bondi-Hoyle accretion from the ambient molecular cloud (Padoan et al. 2005). However, such a model accounts only for the infall rate onto the star-disk system, not the disk accretion rate; these need not agree. In addition, it does not account for the accretion seen in TTSs outside molecular clouds (Hartmann et al. 2006). During their embedded stages (a few × 105 years), low-mass stars have typical disk accretion rates similar to or slightly larger than those of T\\\\_Tauri Stars (TTSs) (White et al. 2007). As discussed in Section 4.1.3, the infall rates from protostellar envelopes typically exceed disk accretion rates by a factor of 10–100, so it is possible that mass is stored in the disk and released intermittently, in brief but prodigious accretion events similar to FU Ori outbursts (Kenyon et al. 1990, Hartmann & Kenyon 1996).',\n",
       "  'For high-mass protostars, observations suggest that there are at least two classes of disks (Cesaroni et al. 2007). In moderate-luminosity sources corresponding to B stars (L≲ a few ×104\\nL\\n⊙), the disks appear to be Keplerian, with masses significantly less than the stellar mass and timescales for mass transfer ∼105 years. In luminous sources (L ≳ 105\\nL\\n⊙), the disks are large (4 − 30 × 103 AU) and massive (60 − 500 M\\n⊙). Consistent with the discussion in Sections 4.1.1.1 and 4.1.1.2, the disks are observed to be non-Keplerian on these large scales. To distinguish these structures from the disks observed around B stars, Cesaroni (2005) terms them toroids. The inferred infall rates in these disks are of order 2 × 10−3 − 2 × 10−2\\nM\\n⊙ year−1, corresponding to mass transfer timescales of order 104 years (Zhang 2005). In view of their large size and mass, they may be circumcluster structures rather than circumstellar ones. Indeed, one of the best studied luminous sources, G10.8–0.4, is inferred to have an embedded cluster of stars with a total mass ∼300 M\\n⊙ (Sollins et al. 2005). Simulations of the formation of an individual massive star in a turbulent medium give a disk size ∼103 AU, significantly smaller than the size of the toroids (Krumholz, Klein & McKee 2005). To date, no disks have been observed in the luminous sources on scales ≲103 AU. Most likely, this is because of the observational difficulties in observing such disks; it should be borne in mind, however, that there is no direct evidence that these sources are in fact protostellar. Including disks around both B stars and the toroids around luminous sources, Zhang (2005) finds that the mass infall rate in the disks scales as \\n\\n, although there are substantial uncertainties in the data for the luminous sources.',\n",
       "  'The most fundamental theoretical question about YSO disks is what makes them accrete; although many mechanisms have been investigated, the problem is still open. In large part this is because the accretion process depends on a complicated interplay of MHD, radiative transfer, chemistry, and even solid state physics. The MHD is itself nonideal, because the medium is partially ionized, and in addition self-gravity is important in many circumstances. Self-gravity effects and the level of electrical conductivity are very sensitive to thermal and ionization properties, which in turn are determined by chemistry and radiative transfer (including X-rays and cosmic rays), and the latter are strongly affected by grain properties that evolve in time due to sticking and fragmentation. Compounding the difficulty imposed by the interactions among the physical processes involved is the lack of exact knowledge of initial and boundary conditions: How does collapse of the rotating protostellar core shape the distribution of mass in the disk, starting from the initial disk-building stage and continuing (although at a reduced rate) with later infall? Finally, there is the difficulty imposed by the huge dynamic range in space and time; disks themselves span a range of ∼104 in radius and 106 in orbital period, while the small aspect ratio H/R ≪ 1 (where H is the scale height of the disk) implies a further extension in dynamic range is required for numerical models that resolve the disk interior.',\n",
       "  'Processes proposed to transport angular momentum in YSO disks generally fall into one of three categories: purely hydrodynamic mechanisms, MHD mechanisms, and self-gravitating mechanisms (e.g., see the reviews of Stone et al. 2000 and Gammie & Johnson 2005). Within the past decade, it has become possible to investigate mechanisms in each class using high-resolution time-dependent numerical simulations in two and three dimensions, in which the stresses that produce transport are explicitly obtained as spatial correlations of component velocities, magnetic fields, and the density and pressure for a self-consistent flow. Prior to the computational revolution that made these investigations possible, and continuing into the present for modeling in which large radial domains and long-term evolution is required, many studies have made use of the so-called alpha prescription for angular momentum transport. In this approach (Shakura & Sunyaev 1973, Lynden-Bell & Pringle 1974, Pringle 1981), a stress tensor is defined that yields an effective viscous torque between adjacent rings in a differentially rotating disk. On dimensional grounds, and using the fact that the shear stress should be zero for solid-body rotation, this stress can be written as \\n\\n; i.e., the effective kinematic viscosity is taken to obey \\n\\n. This effective viscosity Ansatz makes it possible to study disk evolution with a purely hydrodynamic, 1D model. Although the α-model approach has been essential to progress on modeling disk observables, it is limited in its ability to capture realistic dynamics because the coefficient is arbitrary (and usually taken as spatially constant) and the adopted functional form for T\\n\\nR,ϕ, though dimensionally correct, may not reproduce the true behavior of nonlinear, time-dependent, 3D flows (e.g., see Ogilvie 2003; Pessah, Chan & Psaltis 2007, submitted). For a Keplerian disk, −d ln Ω/d ln R = 3/2 and in steady state the mass accretion rate is \\n\\n; i.e., the ratio of radial inflow speed to orbital speed is \\n\\n. Observed accretion rates of TTSs require α ∼10−2 (Hartmann et al. 1998). Because the effective viscosity is equal to a characteristic length scale for angular momentum transport times at characteristic transport speed, the empirically determined viscosity corresponds to a few percent of the value that would be obtained if transport occurred at sonic speeds over distances comparable to the scale height of the disk.',\n",
       "  'Using the infall rate scaling of Equation 43, the ratio of the disk accretion rate to the infall rate is:',\n",
       "  'where we have assumed that the gravitational potential is dominated by the star. The outer-disk temperature is not much larger than the temperature in the core, and R/H ∼ 10 for the outer disk, so the disk accretion rate is much lower than the infall rate unless M\\ndisk/m\\n\\\\* or α/ϕin exceeds ∼0.1. This is not the case for TTSs, but during the embedded stages the disk masses may be larger, and (possibly as a consequence of larger M\\ndisk and self-gravity; see below) the values of α may be larger as well.',\n",
       "  '\\n\\nHydrodynamic mechanisms.\\n\\u2003\\n The simplest transport mechanisms would be purely hydrodynamic. Turbulence generated either through convection (owing to vertical or radial entropy gradients), through shear-driven hydrodynamic instabilities, or through external agents (such as time-dependent, clumpy infall) could in principle develop velocity field correlations 〈ρ δ vR\\n δ vϕ〉 of the correct sign (>0) to transport angular momentum outward. Ryu & Goodman (1992) showed, however, that convective modes tend to transport angular momentum inward, rather than outward, and Stone & Balbus (1996) confirmed from 3D numerical simulations with turbulence driven by convection that angular momentum transport is inward. Convection driven by radial entropy gradients also transports angular momentum inward and is generally stabilized by differential rotation (Johnson & Gammie 2006).',\n",
       "  'Several analytic studies have shown that purely hydrodynamic disturbances in Keplerian-shear disks are able to experience large transient growth (Chagelishvili et al. 2003; Klahr 2004; Umurhan & Regev 2004; Johnson & Gammie 2005a; Afshordi, Mukhopadhyay & Narayan 2005), especially for the case of 2D (i.e., z-independent) columnar structures. Conceivably, transient growth of sheared waves could lead to self-sustained turbulence with outward transport of angular momentum, if new leading wavelets could be continually reseeded in the flow via nonlinear interactions (Lithwick 2007, submitted). Although transient growth is indeed seen in 2D (R − ϕ) numerical simulations, it is subject to secondary Kelvin-Helmholtz instability that limits the growth when \\n\\n (Shen, Stone & Gardiner 2006). The turbulence that results also appears to decay without creating leading wavelets to complete the feedback loop, but this may be due to limited numerical resolution. Other numerical evidence, together with analytic arguments, suggest that nonlinear shear-driven hydrodynamic instabilities are unable to maintain turbulence for Rayleigh-stable rotational profiles (in which angular momentum increases outward, i.e., κ2/Ω2 = 2d ln (Ω R\\n2)/d ln R > 0) (Balbus, Hawley & Stone 1996; Hawley, Balbus & Winters 1999). Because simulations using the same numerical methods show that analogous Cartesian shear flows do exhibit nonlinear instability, rotating systems are presumably stabilized by Coriolis forces and the epicyclic motion that results. One potential concern is that the effective Reynolds numbers of numerical experiments are too low to realize nonlinear shear-driven instabilities and self-sustained turbulence. Very recently, however, Ji et al. (2006) reported from laboratory experiments at Reynolds numbers up to millions that hydrodynamic flows with Keplerian-like rotation profiles in fact show extremely low levels of angular momentum transport, corresponding to α < 10−6.',\n",
       "  'Although it may be difficult to grow perturbations from instabilities in uniform Keplerian disks, it is still possible that disks are born with large internal perturbations, and that ongoing infall at all radii can continually resupply them. Simulations have shown that 2D disks with nonuniform vorticity tend to develop large-scale, persistent vortices that are able to transport angular momentum outward (Umurhan & Regev 2004, Johnson & Gammie 2005b). Three-dimensional simulations, however, show that vortex columns tend to be destroyed (Barranco & Marcus 2005; Shen, Stone & Gardiner 2006). Although off-midplane vortices can be long-lived (Barranco & Marcus 2005), the angular momentum transport in 3D simulations is an order of magnitude lower than for the 2D case (Shen, Stone & Gardiner 2006) and secularly decays. Further investigation of this process is needed, and it is particularly important to assess whether vorticity can be injected at a high enough rate to maintain the effective levels of α ∼10−2 needed to explain observed TTS accretion.',\n",
       "  '\\n\\nMHD mechanisms.\\n\\u2003\\n The introduction of magnetic fields considerably alters the dynamics of circumstellar disks. The realization by Balbus & Hawley (1991) that weakly or moderately magnetized, differentially rotating disks are subject to a powerful local instability—now generically referred to as the MRI—revolutionized the theory of accreting systems. Early axisymmetric numerical simulations showed robust growth and development of the so-called channel solution (Hawley & Balbus 1991), whereas 3D numerical simimulations showed emergence of quasi-steady state saturated turbulence (Brandenburg et al. 1995; Hawley, Gammie & Balbus 1995; Matsumoto & Tajima 1995) in which the angular momentum transport is outward and is dominated by the magnetic stresses 〈 − BR B\\nϕ/(4π)〉. Much effort has been devoted to exploring the MRI as a basic mechanism driving accretion in a variety of systems; Balbus & Hawley (1998) and Balbus (2003) summarize many of these developments. The effective value of α depends on the mean vertical magnetic flux, which presumably evolves over long timescales, and can easily exceed 0.1 (e.g., Hawley, Gammie & Balbus 1996; Stone et al. 1996; Sano et al. 2004).',\n",
       "  \"Although MRI almost certainly plays an important role in driving accretion in YSO systems, it is not a magic bullet. The difficulty is that substantial portions of these disks may have ionization too low for MRI to be effective (Gammie 1996; Jin 1996; Glassgold, Najita & Igea 1997; D’Alessio et al. 1998; Igea & Glassgold 1999), creating a “dead zone.” A critical review of the requirements for MRI to develop in partially ionized disks is given in Gammie & Johnson (2005); Ohmic diffusion appears to be the main limiting effect, with the saturated-state value of α dropping when vA,z\\n\\n2/η Ω ≲ 1 where η is the resistivity (Sano & Stone 2002; Turner, Sano & Dziourkevitch 2006). In the very innermost parts of YSO disks (R ≲ 0.1 AU), alkali metals are collisionally ionized where the stellar irradiation maintains the temperature above ∼ 2000 K, so MRI can operate. In the outer disk (beyond several AU), and in the mid-disk's surface layers, column densities are low enough (Σ < Σ\\na\\n ∼ 100 g cm−2) that X rays or cosmic rays can penetrate the disk to ionize it. (For comparison, the surface density in the minimum Solar nebula is Σ = 1700(R/AU)-1.5 g cm−2—Hayashi, Nakazawa & Nakagawa 1985.) Unfortunately, the extent of the MRI-active region in the outer disk is very sensitive to the presence and size distribution of dust particles; if small grains are present and well-mixed, the active region is quite limited, whereas it can become very large if all the dust is incorporated in large particles or settles to the midplane (Sano et al. 2000; Fromang, Terquem & Balbus 2002; Desch 2004; Salmeron & Wardle 2005). Even if ionizing radiation is limited to the surface layers by high total disk columns, if small grains are absent (an extreme assumption) the gas-phase recombination rate is low enough such that turbulence with rapid vertical mixing can maintain non-negligible ionization in the interior. Turner, Sano & Dziourkevitch (2007) have shown, using direct numerical simulations, that the dead zone can be effectively eliminated in this (optimistic) scenario; though the very center of the disk at 1 AU is not unstable to MRI, the interior is still conductive enough that magnetic fields generated nearer the surface can induce accretion in the midplane.\",\n",
       "  'One of the possible consequences of spatially varying conductivity in disks is that the accretion rate will, in general, vary with radius. If only a surface layer Σ\\na\\n is active, in the sense of being sufficiently conductive to support MRI with effective viscosity coefficient α\\na\\n, then the accretion rate in that layer will be \\n\\n. Because Σ\\na\\n varies slowly with radius (for the case of external ionization) while the combination σth\\n2/Ω tends to decrease inward, dropout from the accretion flow can accumulate within the dead zone that is sandwiched between active layers (Gammie 1996). If the dead zone remains completely inactive, then matter will build up until it becomes dynamically unstable and begins to transport angular momentum by gravitational stresses (see below), potentially leading to transient bursts of accretion (Gammie 1996; Armitage, Livio & Pringle 2001).',\n",
       "  'Finally, we note that MHD winds (see Section 4.2.5) may remove angular momentum from disks, driving the matter remaining in the disk to accrete in order to maintain centrifugal balance. The angular momentum deficit is tranferred to the disk by magnetic stresses, so that only the matter that is well-coupled to magnetic fields will be affected. Thus, the above considerations regarding ionization also apply to wind-driven accretion.',\n",
       "  '\\n\\nSelf-gravitational mechanisms.\\n\\u2003\\n Accretion disks that have sufficiently small values of the Toomre parameter \\n\\n are subject to nonlinear growth of density perturbations via the swing amplifier (see Sections 2.2, 3.2.1). Then, in addition to hydrodynamic Reynolds stresses 〈ρ vR v\\nϕ〉 and MHD Maxwell stresses 〈BR B\\nϕ/(4π)〉, gravitational Newton stresses 〈gR g\\nϕ/(4π G)〉 (where g = − ∇ Φ) also contribute to the radial transport of angular momentum. Gammie (2001) showed that if the disk is in equilibrium such that cooling removes the energy dissipated by mass accretion at a rate per unit area Σσth\\n2/[(γ − 1)t\\ncool], then α−1 = (9/4)γ (γ − 1)Ω t\\ncool\\n, where γ is the effective (2D) adiabatic index (which takes into account vertical degrees of freedom, and depends on the 3D index and degree of self-gravity). Numerical simulations with simple cooling prescriptions (constant t\\ncool Ω) show that the disk can settle into a self-regulated state with Q near unity (Gammie 2001, Lodato & Rice 2004, Mejía et al. 2005, Rice, Lodato & Armitage 2005), provided that t\\ncool Ω is not too small (in which case the disk fragments). For disks that are not externally illuminated, Johnson & Gammie (2003) performed 2D simulations with realistic opacities (and a one-zone vertical radiative transfer approximation for cooling), and found that the transition between fragmentation and nonfragmentation lies in the range t\\ncool Ω = 1 − 10. The corresponding Σ at the transition point increases with Ω, such that outer disks are the most active regions gravitationally. Values of α up to 0.5 are possible, with the equilibrium condition prediction satisfied down to t\\ncool Ω ≈ 3 and α ≈ 0.1. Using a 3D model of a 0.07 M\\n⊙ disk with realistic cooling, Boley et al. (2006) find a value of α ∼0.01 over a large range of radii >20 AU.',\n",
       "  'In view of the limitations on α, Cesaroni et al. (2007) argue that accretion rates are limited to values substantially smaller than inferred for the formation of high-mass stars (Section 4.3.1). However, Krumholz, Klein & McKee (2007) find that disks around high-mass protostars can transfer mass inward at the same rate that it falls in. They carried out simulations of high-mass star formation in a turbulent medium and included radiative transfer rather than prescribing the heating and cooling rates. They found that large amplitude m = 1 modes develop that give effective values of α of order unity, in qualitative agreement with the isothermal disk results of Laughlin & Bodenheimer (1994).',\n",
       "  'Disks that are illuminated sufficiently strongly will have the temperature set by the external radiation field rather than internal dissipation of energy. In that case, whether self-gravity is important or not depends essentially on the amount of matter present in a given region. Where the surface density is high enough so that Q is near but not below the critical value ≈ 1.4, self-gravitational stresses will be appreciable but not so large as to cause fragmentation. Analytic estimates assuming steady state and accretion heating as well as irradiation (Matzner & Levin 2005, Rafikov 2005) indicate that fragmentation is only possible in the outer portions of disks, although more massive disks, around more massive stars, are more subject to fragmentation (Kratter & Matzner 2006). At temperatures comparable to those in observed systems, disks with masses ≳ 0.1 M\\n⊙ are candidates for having significant mass transport owing to self-gravitating torques (Mayer et al. 2004). Thus, self-gravity is likely to be particularly important during the embedded stage of disk evolution, when disk masses are the largest. Vorobyov & Basu (2005b, 2006) propose, based on results of 2D simulations, that recurrent bursts of accretion owing to self-gravity are likely to develop during the early stages of protostellar evolution. A number of other results from models of self-gravitating disk evolution (with an emphasis on criteria for planet formation through fragmentation) are presented in the review of Durisen et al. (2007).',\n",
       "  'Although a large proportion of the mass in the disk ultimately accretes onto the star, conservation of angular momentum requires that some of the matter be left behind. MHD winds during the main lifetime of the disk remove some of this material (see Section 4.2.5). What remains is either incorporated into planets or removed by photoevaporation. Although planet formation is inextricably coupled to disk evolution, recent developments in this exciting—and rapidly expanding—field are too extensive to summarize here. A number of excellent recent reviews appear in Protostars and Planets V.',\n",
       "  'Disks can be irradiated by UV and X-ray photons originating either in their own central stars or in other nearby, luminous stars (see e.g., reviews of Hollenbach, Yorke & Johnstone 2000 and Dullemond et al. 2007). Extreme UV (EUV) radiation penetrates only the surface layer of the disk, where it heats the gas to ∼104 K (the ionization and heating depth is determined by the Strömgren condition); FUV penetrates deeper into the disk (where densities are higher), but heats gas to only a few 100 K (Hollenbach et al. 1994; Johnstone, Hollenbach & Bally 1998). The characteristic radial scale in the disk for a thermally driven wind is the gravitational radius \\nrg\\n = Gm\\n\\\\* μ/(kT), where T is the temperature at the base of the flow. Pressure gradients enable flows to emerge down to (0.1 − 0.2)rg\\n (Begelman, McKee & Shields 1983; Adams et al. 2004; Font et al. 2004). EUV-driven winds are most important in the inner disk, because the gravitational potential there is too deep for FUV-heated regions at modest temperatures to escape.',\n",
       "  \"Observations discussed above (see also Simon & Prato 1995 and Wolk & Walter 1996) indicate that the inner and outer disks surrounding YSOs disperse nearly simultaneously and on a very short (∼105 years) timescale, based on the small number of transition objects between classical and weak T Tauri systems and the typical classical TTS lifetimes of a few to several million years. Because the accretion time of the outer disk itself determines the system lifetime, rapid removal of the outer disk must be accomplished by other means; photoevaporation is the most natural candidate. Models of photoevaporation that also include viscous disk evolution (which allow spreading both inward and outward) have very recently shown that rapid and near-simultaneous removal of the whole disk indeed occurs (Clarke, Gendrin & Sotomayor 2001; Alexander, Clarke & Pringle 2006a,b). In this process, the accretion rate declines slowly over time until the photoevaporative mass loss rate at some location in the inner disk exceeds the rate at which mass is supplied from larger radii. The inner disk, which is no longer resupplied from outside, then drains rapidly into the star. At the same time, the radiative flux onto the outer disk grows as it is no longer attenuated by the inner disk's atmosphere; the photoevaporation rate in the outer disk climbs dramatically, and it is removed as well.\",\n",
       "  \"Young stellar systems drive very powerful winds. The clearest observable manifestations of YSO winds are the central Herbig-Haro jets consisting of knots of ionized gas (v ≳ 100 km s−1), and the larger-scale bipolar outflows consisting of expanding lobes of molecular gas (v ∼ 10 km s−1; see \\nFigure 3\\n). Jet-like outflows (i.e., high-v, narrow molecular structures) are also observed in some circumstances (see below). The high velocities of jets indicate that they represent (a part of) the primary wind from the inner part of the star-disk system, whereas the low velocities and large masses of (broad) molecular outflows indicate that they are made of gas from the star's environment that has been accelerated by an interaction with the wind. In addition to these observed signatures, there may be significant gas in a large-scale primary wind surrounding the jet, which remains undectected owing to lower excitation conditions (low density, temperature, and/or ionization fraction).\",\n",
       "  '',\n",
       "  '\\n Figure 3\\u2002\\n Click to view',\n",
       "  '',\n",
       "  'Outflows are ubiquitous in high-mass star formation as well as in low-mass star formation (Shepherd & Churchwell 1996). Outflows from high-mass protostellar objects (HMPOs) with L < 105\\nL\\n⊙ (corresponding to m\\n\\\\* < 25 M\\n⊙—Arnett 1996) are collimated (Beuther et al. 2002b), but somewhat less so than those in low-mass protostars (Wu et al. 2004). In some cases, jets are observed with the outflows, and in these cases the momentum of the jet is generally large enough to drive the observed outflow (Shepherd 2005). No well-collimated flow has been observed in a source with L > 105\\nL\\n⊙; as remarked above, disks that are clearly circumstellar have not been observed in such sources either. Beuther & Shepherd (2005) have proposed an evolutionary sequence that is consistent with much of these data: A protostar that eventually will become an O star first passes through the HMPO stage with no HII region and with a well-collimated jet. When the star becomes sufficiently massive and close to the main sequence that it produces an HII region, the outflow becomes less collimated. The collimation systematically decreases as the star grows in mass and the HII region evolves from hypercompact to ultracompact (see Section 4.3.4). The remainder of this section focuses on winds and outflows from low-mass stars, which have been observed in much greater detail than their high-mass counterparts.',\n",
       "  'Recent reviews focusing on the observational properties of jets include those of Eisloffel et al. (2000), Reipurth & Bally (2001), and Ray et al. (2007). Jets are most commonly observed at high resolution in optical forbidden lines of O, S, and N, as well as Hα, but recent observations have also included work in the near-IR and near-UV. For CTTs, which are YSOs that are themselves optically revealed, observed optical jets are strongly collimated (aspect ratio at least 10:1, and sometimes 100:1), and in several cases extend up to distances more than a parsec from the central source (Bally, Reipurth & Davis 2007). The jets contain both individual bright knots with bow-shock morphology and more diffuse emission between these knots.',\n",
       "  'The emission diagnostics from bright knots are generally consistent with heating by shocks of a few tens of kilometers per second (Hartigan, Raymond & Hartmann 1987; Hartigan, Morse & Raymond 1994), producing postshock temperatures of Te\\n ≈ 104 K. The electron density ne\\n, ionization fraction xe\\n = ne\\n/n\\nH, and temperature Te\\n can be estimated using line ratios (Bacciotti & Eislöffel 1999). Analyses of spectra from a number of jets yields a range of parameters ne\\n = (50 − 3 × 103) cm−3 and xe\\n = 0.03 − 0.6 so that n = (103 − 105) cm−3 (Podio et al. 2006). The total mass loss rate in jets \\n\\n, and hence the total jet momentum flux, \\n\\n, can be estimated using jet densities and velocities together with an emission filling factor, yielding \\n\\n for classical TTSs (Podio et al. 2006). For Class 0 sources, which are much more luminous and have much higher accretion rates, estimated mass-loss rates in jets based on OI emission (from shocked gas) extend up to \\n\\n (Ceccarelli et al. 1997). Inferred values of \\n\\n are generally correlated with estimates of \\n\\nxs from veiling (Hartigan, Edwards & Ghandour 1995), with the ratio in the range of 0.05 − 0.1 (Ray et al. 2007).',\n",
       "  'The densities and temperatures obtained from jet diagnostics indicate internal pressures \\n\\n in the jet, exceeding the ambient pressure in the surrounding core and GMC by a factor of 102 − 104. In principle, infalling envelope gas could provide a nozzle to collimate an emerging wind, but simulations indicate that only relatively weak winds can be so confined as to produce a narrow jet (Delamarter, Frank & Hartmann 2000). This implies that observed jets must be contained within a broader wind, with collimation likely produced by magnetic hoop stresses (see below). Emission line analyses in fact indicate that a lower-velocity [∼(10 − 50) km s−1] wind component is present near the source, surrounding the high-velocity flow of a few 100 km s−1 that emerges as the large-scale jet (Hartigan, Edwards & Ghandour 1995; Hirth, Mundt & Solf 1997; Bacciotti et al. 2000; Pyo et al. 2005). Because velocities of MHD winds scale with the Keplerian rotation speed of the footpoint (see below), the presence of both high- and low-velocity components suggests that winds are driven from a range of radii in the disk. Recent high-resolution observations have detected signatures of differential rotation in jets, using near-UV, optical, and near-IR lines (Bacciotti et al. 2002, Ray et al. 2007); these also indicate a range of wind launch points.',\n",
       "  'Recent reviews of the observational properties of molecular outflows include those of Bachiller & Tafalla (1999), Richer et al. (2000), and Arce et al. (2007). Like jets, classical molecular outflows can extend to distances of 0.1 − 1 pc from the central star, but they have much lower velocities (up to a few tens of kilometers per second) and collimation (aspect ratio ∼ 3 − 10). In a few very young, embedded sources, molecular jets with much higher velocities and aspect ratios have been observed in H2, CO, and SiO lines (e.g., Gueth & Guilloteau 1999, Beuther et al. 2002a, Lee et al. 2007). The total momentum flux carried in CO outflows is correlated with the bolometric luminosity of the source and is discussed in Section 3.2.2. For embedded sources with L\\nbol = 1 − 105\\nL\\n⊙, the momentum flux is \\n\\n (Richer et al. 2000); in optically revealed sources, this declines considerably (e.g., Bontemps et al. 1996).',\n",
       "  'Detailed spectroscopic and morphological analysis of outflows enable intercomparisons with theoretical models. Mapping of outflows reveals both simple expanding shells and more complex features such as multiple cavities and bow shock structures that are suggestive of episodic ejection events (Lee et al. 2002); outflow lobes become broader and more irregular over time (Arce & Sargent 2006). Channel maps and position-velocity diagrams in some sources show parabolic structures that are consistent with driving by wide-angle winds and, in other sources, show spur structures that are consistent with jet driving (Lee et al. 2000, 2001). The strongly curved morphology of internal bow shocks (as seen in both molecular and atomic tracers) indicates that the wind must have velocities that decrease away from the poles, because a time-variable wind with latitudinally-constant velocity produces nearly flat internal shocks (Lee et al. 2001). This implies, in turn, that the wind is driven from a range of radii in the disk, rather than arising from only a narrow region.',\n",
       "  'It was recognized very early on that jets and outflows contain more momentum than could possibly be driven by radiation pressure (Lada 1985), whereas the high efficiencies and velocities found by Blandford & Payne (1982) for MHD winds driven from accretion disks in near-Keplerian rotation suggested that the same magnetocentrifugal mechanism could drive winds in YSO systems (Pudritz & Norman 1983). The main requirement for these winds to develop is for the disk to be threaded by magnetic fields of sufficient strength. The mathematical theory of MHD winds and jets is presented in, e.g., Spruit (1996) and Pudritz (2004).',\n",
       "  \"Over the years, two main types of MHD wind models for YSO systems have been explored. One, the x-wind model (see Shu et al. 1994 and references in Shu et al. 2000 and Shang, Li & Hirano 2007), focuses on the interaction region between the stellar magnetosphere and the inner accretion disk as the source of the wind. In this model, a large portion of the stellar dipole flux is taken to be concentrated into a small range of radii near the point where the magnetosphere and disk corotate. Because YSOs are rapid rotators the corotation point is close to the star, and the wind that would be launched could have terminal speed of a few 100 km s−1, as is observed in jets. The second class of MHD wind models assumes that a much larger region of the disk is threaded by open field lines, such that there would be a range of terminal wind speeds, reflecting the range of rotation speeds at the magnetic field's footpoints in the disk (see references in Konigl & Pudritz 2000 and Pudritz et al. 2007). For disk winds, the poloidal magnetic flux could in part be generated locally (e.g., by an MRI dynamo), in part be advected inward with the collapse of the prestellar core, and in part originate in the star and diffuse outward into the disk. Because one type of wind would not exclude the other, it is likely that both x-winds and disk winds are present at some level. This might help, for example, explain particular features of jets such as their strong central density concentration as well as the apparent decrease in velocity from inside to outside.\",\n",
       "  'The observed rotation velocities in jets can be used to infer the launch point in the disk (Anderson et al. 2003). From the Bernoulli equation for a cold flow along a streamline that rotates with angular velocity Ω\\n0\\n, the quantity \\n\\n is constant, where Φ\\ng\\n = −Gm\\n\\\\*/r is the gravitational potential and in this section R denotes the cylindrical radius. At R\\nobs, where the wind is observed (sufficiently beyond the Alfvén transition), the dominant terms in the \\n\\n equation are the first and the last terms on the right-hand side. For the cases of interest, v\\nϕ,obs ≪ v\\n\\np,obs, where vp\\n is the poloidal velocity, and \\n\\n, so that \\n\\n. The specific angular momentum \\n\\n is also conserved along streamlines. One can show that this is equal to Ω0\\nRA\\n\\n2, where RA\\n is the Alfvén radius of the wind. Because j is dominated by the kinetic term at large distance (where the wind is superfast-magnetosonic), observations can be used to infer the ratio \\n\\n. For the low velocity component of DG Tau, Anderson et al. (2003) find, from calculating Ω\\n0\\n as above, that the wind launch point radii are ∼0.3 − 4 AU, implying a disk wind. The high velocity component could originate as either an x-wind or a disk wind from smaller radii. For DG Tau, the inferred ratio RA\\n/R\\n0 ≈ 2 − 3 is also consistent with numerical solutions that have been obtained for disk winds (see Pudritz et al. 2007 for a summary). This implies that the angular momentum carried by the wind, \\n\\n, which equals the angular momentum lost by the disk, \\n\\n, can drive accretion at a rate \\n\\n.',\n",
       "  'The acceleration of MHD winds is provided by a combination of the centrifugal flinging effect produced by rigid poloidal fields and gradients in the toroidal magnetic pressure in the poloidal direction (e.g., Spruit (1996)). Beyond the Alfvén surface, magnetic hoop stresses will tend to bend streamlines toward the poles. Full cylindrical streamline collimation, in the sense of \\n\\n asymptotically, can only occur if B\\nϕ\\nR is finite for R → ∞ (Heyvaerts & Norman 1989). Using solutions in which all velocities scale as v, vA\\n ∝ r\\n-1/2 and the density and magnetic field, respectively, scale as ρ ∝ r\\n-q and B ∝ r\\n−(1 + q)/2, Ostriker (1997) showed, however, that cylindrically collimated disk winds are slow, in the sense that the asymptotic value of vp\\n/Ω0\\nR\\n0 is at most a few tenths. Because observed jets are fast, they must either have their streamlines collimated by a slower external wind or else be collimated primarily in density rather than velocity. Time-dependent simulations have also shown that the degree of collimation in the flow depends on the distribution of magnetic flux in the disk; cases with steeper distributions of B with R tend to be less collimated in terms of streamline shapes (Fendt 2006; Pudritz, Rogers & Ouyed 2006).',\n",
       "  'The idea that nearly radially flowing wide-angle MHD winds may produce a jetlike core, with density stratified on cylinders, was first introduced by Shu et al. (1995) in the context of x-winds. This effect holds more generally, however, as can be seen both analytically (Matzner & McKee 1999) and in simulations (see below). Asymptotically, the density approaches ρ → |B\\nϕ| Rk/(Ω0\\nR\\n2), where k is the (conserved) mass flux-to-magnetic flux ratio (also termed the mass-loading parameter). Because nearly radially flowing winds must be nearly force-free, |B\\nϕ|R varies weakly with R, such that if the range of k/Ω0 over footpoints is smaller than the range of R over which the solution applies (which is generally very large), the wind density will vary as r\\n-R. The r\\n-R dependence cannot continue to the origin; Matzner & McKee (1999) suggested that precession, internal shocks due to fluctuating wind velocity, or magnetic instabilities would result in a flattening of the density close to the axis so that the momentum flux in the wind \\n\\n, where θ is the angle of the flow relative to the axis and θ0 ≪ 1 measures the size of the flattened region. This distribution gives approximately equal amounts of momentum in each logarithmic interval of angle for θ > θ0. Several time-dependent numerical MHD simulations have demonstrated this density collimation effect for wide-angle winds (Gardiner, Frank & Hartmann 2003; Krasnopolsky, Li & Blandford 2003; Anderson et al. 2005).',\n",
       "  'Magnetized winds are subject to a variety of instabilities (e.g., Kim & Ostriker 2000, Hardee 2004), which may contribute to enhancing the confinement of the jet, structuring the jet column (yielding wanders, twists, and clumps), and mixing with the ambient medium at interfaces. Because jets are likely surrounded by wider winds, they are to some extent protected from the development of Kelvin-Helmholtz and helical modes that that disrupt jets propagating through ambient gas, although development of axisymmetric pinch modes may still contribute to the formation of HH knots (Hardee & Rosen 2002). In addition, lightly loaded poloidal flux within the central core of the wind/jet may help suppress the growth of large-scale pinch and kink instabilities (Ostriker & Shu 1995, Anderson et al. 2006). Time-dependent simulations focusing on the portion of the wind flow above the disk show that while steady winds are possible in certain ranges of the mass-loading parameter for a given distribution of magnetic flux, in other ranges no steady solution is possible (Ouyed & Pudritz 1999, Anderson et al. 2005). Because the spectral diagnostics of HH objects indicate shock speeds of a few tens of kilometers per second, it is plausible that they form due to nonlinear steepening and shocking of wind instabilities.',\n",
       "  'Overall, the structure and kinematics of molecular outflows suggest that they are driven by winds that originate from a range of radii in the disk, with a dense central core (seen as a jet) surrounded by a lower density, lower velocity wide-angle wind. Jet driving and wind driving of outflows have traditionally been explored separately, although in practice they would operate in tandem.',\n",
       "  'Jets drive outflows as bow shocks, with ambient material swept into a thin shell and carried away from the body of the jet as the shock overtakes and entrains it (Raga & Cabrit 1993, Masson & Chernin 1993), mixing newly shocked material with material that is already flowing outward (Smith, Suttner & Yorke 1997). The leading bow shock is itself created owing to pressure forces at the circumferential boundary of the working surface at the head of the jet, which drive transverse flows. Jets with internal shocks can create analogous bow shocks, with the difference that internal bow shocks would propagate into the wind that surrounds the jet, whereas the leading bow shock would propagate into the ambient medium. Leading bow shocks tend to be fairly narrow, because the cooling of shocked gas in the working surface limits the transverse thrust that can be applied to the shell (Downes & Ray 1999). As a consequence, the width of the shell increases only as the cube root of the distance from the head of the jet (Masson & Chernin 1993, Ostriker et al. 2001). Thus, bow shocks have difficulty explaining broad outflows. However, the convex spur velocity features seen in some systems agree well with the predictions of bow shock models (Lee et al. 2001, Ostriker et al. 2001).',\n",
       "  'For wide-angle winds, the momentum flux contained in the transverse bulk motion of the wind is large compared to the thrust that could be provided by pressure forces in the shell of shocked (strongly cooling) gas, so that a momentum-conserving “snowplow” flow is a good approximation. Shu et al. (1991) developed the “wind-swept shell” model of outflows based on this concept, which was able to explain the large opening angles seen in most outflows. Li & Shu (1996) and Matzner & McKee (1999) extended the wind-swept shell analytic model to incorporate the characteristic r\\n-R density stratification and logarithmic collimation of streamlines of asymptotic wide-angle MHD winds, as well as allow for latitudinal density stratification in the surrounding core. The mass-velocity and position-velocity relations for these analytic models agree well with those in observed outflows. Numerical simulations of outflows swept up by wide-angle winds (Lee et al. 2001, Shang et al. 2006) are in good agreement with the results of analytic models.',\n",
       "  'Outflows affect the immediate environment of the forming star (removing mass from the core before it can collapse into a disk), the clump in which the core forms (also removing mass, and injecting energy), and the larger-scale cloud (injecting energy). The effects of energy injection on clumps forming clusters of stars, and on GMCs as a whole, are discussed in Section 4.3.5 and Section 3.2.2, respectively. Mass removal by winds is related to the star-formation efficiency, which we discuss below.',\n",
       "  'The star-formation efficiency ε can be defined for individual cores, for star-forming clumps, or for GMCs. The correspondence between the CMF and the IMF has been discussed in Section 3.3; they are related by the core star-formation efficiency, εcore ≡ m\\n\\\\*/M\\ncore. (The individual-star IMF must also take into account the multiplicity of the stars formed in a given core.) Nakano, Hasegawa & Norman (1995) showed that outflows from protostars could reverse the infall and determine εcore; they assumed spherical winds and found εcore ∼ a few percent. Matzner & McKee (2000) calculated the dynamics of the outflows including collimation and obtained εcore ∼ 0.25 − 0.75, depending on the degree of flattening of the core owing to magnetic support. Subsequent observations suggest εcore ≃ 1/5 −1/3 (Section 3.3.1), at the low end of this range. They also evaluated the star-formation efficiency for a star-forming clump and found typical values somewhat less than 0.5. The predicted values of ε are inversely proportional to the momentum per unit mass in the outflow, pw\\n/m\\n\\\\*; they are consistent with observation for pw\\n/m\\n\\\\* ∼ 40 km s−1 as assumed, but not if pw\\n/m\\n\\\\* is much smaller (see Section 3.2.2 for a discussion of the values of pw\\n inferred from observation). Both Nakano, Hasegawa & Norman (1995) and Matzner & McKee (2000) found that εcore is only weakly dependent on the core mass, so that the CMF and the IMF should be similar in shape, as observed (Section 3.3).',\n",
       "  'High-mass protostars are characterized by Kelvin-Helmholtz times that are smaller than the accretion time, so that they undergo nuclear burning while still accreting (Section 4.1). This leads to two powerful feedback effects that do not apply to low-mass protostars—radiation pressure and photoionization (Larson & Starrfield 1971). Furthermore, high-mass protostars tend to form in dense clusters, so that interaction with other protostars and newly formed stars may be important in their evolution. Drawing on the review by Beuther et al. (2007), we first summarize work on infall onto high-mass protostars and then discuss the feedback effects.',\n",
       "  'High-mass star formation is generally taken to be a scaled-up version of low-mass star formation: The accretion rate is \\n\\n, where the effective sound speed c\\neff includes the effects of thermal gas pressure, magnetic pressure, and turbulence (Stahler, Shu & Taam 1980, although they did not address the issue of high-mass star formation). As discussed in Section 4.1, there may be a numerical factor of a few in front of the c\\n3\\neff/G. Wolfire & Cassinelli (1987) found that accretion rates of order 10−3\\nM\\n⊙ year−1 are needed to overcome the effects of radiation pressure for the highest stellar masses, and attributed this to the high values of c\\neff in high-mass star-forming regions. Myers & Fuller (1992) used their thermal/nonthermal model (Section 2.2) to infer formation times for (10 − 30) M\\n⊙ stars of (6 − 10) × 105 years; the turbulent envelopes allow equilibrium cores to have greater densities and shorter collapse times than those supported by thermal pressure alone. Caselli & Myers (1995) extended this to more massive stars and found formation times >106 years for stars of 100 M\\n⊙, a significant fraction of the main sequence lifetime. However, by modeling the SEDs of high-mass protostars, Osorio, Lizano & D’Alessio (1999) inferred that high-mass stars form in somewhat less than 105 years and favored a logatropic model for the density distribution of the core. Nakano et al. (2000) inferred an accretion rate of 10−2\\nM\\n⊙ year−1 (corresponding to a formation time of a few thousand years) for the source IRc2 in Orion based on the assumption that the accretion rate is ∼10 c\\n3\\neff/G, with the effective sound speed c\\neff determined from the observed linewidth.',\n",
       "  'The turbulent core model for high-mass star formation (McKee & Tan 2002, 2003) follows from the assumption that such stars form in turbulent, gravitationally bound cores (virial parameter αvir ∼ 1). The turbulence is self-similar on all scales above the Bonnor-Ebert scale, where thermal pressure dominates. The star-forming clump and the protostellar cores within it are assumed to be centrally concentrated so that the pressure and density have a power-law dependence on radius, P ∝ r\\n−kP\\n\\n, ρ ∝ r\\n−kρ. It follows that the cores are polytropes (Section 2.2), and because the Bonnor-Ebert scale is small, the cores are approximately singular. The protostellar infall rate is determined by the surface density of the protostellar core, which in turn is comparable to that of the clump in which it is embedded. The regions of high-mass star formation studied by Plume et al. (1997) have surface densities Σcl ∼ 1 g cm−3, corresponding to visual extinctions AV\\n ∼ 200 mag; these values are similar to those for observed star clusters in the Galaxy (e.g., ∼0.2 g cm−2 in the Orion Nebula Cluster, 0.8 g cm−2 for the median globular cluster and ∼ 4 g cm−2 in the Arches Cluster). By contrast, regions of low-mass star formation have Σ ∼ 0.03 g cm−2, corresponding to AV\\n ∼ 7 mag (Onishi et al. 1996). The radius of a protostellar core is',\n",
       "  'where m\\n\\\\*f\\n is the final stellar mass. The second expression is based on the result that the surface density of a typical core is comparable to that of the clump in which it is embedded; cores near the center of a clump have higher surface densities, and the sizes are correspondingly smaller. Using the results of McLaughlin & Pudritz (1997) for the inside-out collapse of a singular polytrope and adopting k\\nρ = 3/2, a typical density power-law from Plume et al. (1997), McKee & Tan (2003) found that the typical infall rate and the corresponding time to form a star of mass m\\n\\\\*f\\n are',\n",
       "  'and',\n",
       "  'where Σcl is the surface density (in g cm−2) of the several thousand M\\n⊙ clump in which the star is forming. For typical values of Σcl ∼ 1 g cm−2, the star-formation time is of order 105 years and the infall rate is of order 10−3\\nM\\n⊙ year−1. This infall rate is large enough to overcome the effects of radiation pressure at the dust destruction front, thereby addressing one of the key theoretical difficulties for models of high-mass star formation (see below). The mean infall rate could be somewhat larger than given in Equation 52 if the core was initially overdense or contracting, and turbulence in the core could generate large fluctuations in the infall rate. However, the infall rate given above is only a few times greater than the free-fall value and is unlikely to be much larger.',\n",
       "  'The key assumptions in this model are that stars form from preassembled cores (although because the cores are turbulent, there will be significant mass exchange with the ambient medium); that the cores and the clumps in which they are embedded are in approximate virial equilibrium; and that they are magnetically supercritical, so that the magnetic field does not significantly limit the rate of accretion. Evidence in support of the first assumption has been obtained by Beuther, Sridharan & Saito (2005) and Sridharan et al. (2005); the remaining assumptions are also subject to observational test. The model is necessarily approximate, as it treats the turbulence as a local pressure (the microturbulent approximation), and because it incorporates all the feedback effects owing to radiation pressure and photoevaporation in the core star-formation efficiency, εcore, which was assumed to be of order 1/2. Some of the large density fluctuations in the supersonically turbulent cores will form low-mass stars, but most of the mass of the core is assumed to go into one or two massive stars. Dobbs, Bonnell & Clark (2005) have criticized the model on the ground that the massive cores would fragment and form many low-mass stars rather than a single massive star, but radiative heating by the rapidly accreting high-mass protostar strongly suppresses fragmentation (Krumholz 2006; Krumholz, Klein & McKee 2007). The turbulent core model is consistent with the correspondence between the CMF and the IMF (Section 3.3), and it naturally allows for the disks and winds associated with high-mass stars (see Section 4.2) because it is an extrapolation of low-mass star-formation theory. The cores are predicted to be denser than the clump in which they are embedded by about (M\\nclump/M\\ncore)1/2, which is much greater than unity for stellar mass cores embedded in clumps with M > 103\\nM\\n⊙; this naturally overcomes the crowding problem.',\n",
       "  'An alternative class of gravitational collapse models involves rapidly accelerating accretion (\\n\\n with q > 1, so that m\\n\\\\* → ∞ in a finite time in the absence of other effects). Building on the work of Norberg & Maeder (2000), Behrend & Maeder (2001) assumed that the accretion rates are proportional to the mass outflow rates observed in protostellar outflows; because the outflows are swept-up material, the justification for this assumption is unclear. They found t\\n\\\\*f\\n ∼ 3 × 105 years for massive stars, with most of the growth occurring in the last 10% of this time. In the competitive accretion model (Bonnell et al. 1997; see Section 4.1.2), massive stars form via Bondi-Hoyle accretion (\\n\\n). Keto (2002, 2003) has studied this model further, focusing on the associated HII regions. For a 10-M\\n⊙ star in a typical high-mass star-forming clump observed by Plume et al. (1997), which has a mass ∼4000 M\\n⊙ and a virial parameter of order unity, the BH accretion rate is much smaller than that expected in the turbulent core model (McKee & Tan 2003), even after allowing for the turbulent enhancement factor ϕBH (Equation 47). The rate of BH accretion increases if the virial parameter is small, if the infall occurs onto a cluster of stars that is much more massive than a single star (as Keto comments), or if the infall occurs from a significantly less massive clump. In the latter two cases the assumptions underlying BH accretion begin to break down, and further study is needed to determine the infall rate. Edgar & Clarke (2004) have shown that radiation pressure halts BH accretion when the star is moving supersonically relative to the gas for m\\n\\\\* > 10 M\\n⊙, because the luminosity is large enough that radiation pressure deflects gas away from the star.',\n",
       "  'In view of the challenges facing conventional theories of high-mass star formation, Bonnell, Bate & Zinnecker (1998) made the radical suggestion that high-mass stars form via stellar collisions. This model requires stellar densities of ∼108 stars pc−3 during the brief period in which the stars grow by merging. This coalescence model produces an IMF that is in qualitative agreement with observations, although no feedback effects were included in the calculations (Bonnell et al. 2001b). This model faces a number of challenges: (a) The required stellar density is far greater than has been observed in any Galactic star cluster. For example, W3 IRS5 is one of the densest clusters observed to date, with five proto OB stars in a sphere of radius 0.015 pc (Megeath, Wilson & Corbin 2005); the corresponding stellar density ∼4 × 105 pc−3 is lower than required by the coalescence model by more than two orders of magnitude, although it must be borne in mind that the number of lower mass stars in that volume is currently unknown. (b) For large OB protoclusters, the hypothesized ultradense state would produce a very luminous, compact source, yet this has never been observed. (c) The mass loss that is hypothesized to reduce the cluster density to observed values must be finely tuned in order to leave the cluster marginally bound. (d) Finally, it is difficult to see how the model could account for the observed disks and outflows discussed above. Bally & Zinnecker (2005) discuss a number of observational tests of the coalescence model, and suggest that the wide-angle outflow from OMC-1 in the Orion molecular cloud could be due to the merger of two protostars that released 1048 − 1049 erg. Two variants of the coalescence model have been suggested: Stahler, Palla & Ho (2000) proposed that gas bound to the protostars could increase the cross section for collisions, although they did not explain why this would result in stellar coalescence rather than the formation of a binary. Bonnell & Bate (2005) have proposed an explanation for this: assuming that the gas has negligible angular momentum (which is plausible if the turbulence is weak, as assumed in the competitive accretion model), then accretion drives the stars in the binary to closer separations and ultimately to a merger. The stellar density required for the binary coalescence model is ∼ 3 × 106 stars pc−3, substantially smaller than in the direct coalescence model but higher than observed nonetheless. However, Krumholz & Thompson (2006) argue that pre-main-sequence evolution of tight, high-mass protostellar binaries can lead to equal-mass binaries, as often observed, rather than to mergers.',\n",
       "  '\\nBeuther et al. (2007) have summarized the current state of observations of high-mass star formation. They divide the formation of individual high-mass stars into four stages:',\n",
       "  'The earliest stages of high-mass star formation may occur in the Infrared Dark Clouds (IRDCs–Egan et al. 1998), which have properties consistent with being the dense clumps out of which clusters eventually form (Simon et al. 2006). To date, few true HMSCs have been detected—high-mass cores often appear to have some signatures of star formation. In the turbulent core model, this could be because the central densities in the cores are much greater than the mean densities (in contrast to the case for low-mass cores), and the timescale for gravitational collapse is correspondingly shorter. The lack of true HMSCs is also consistent with the competitive accretion model or the coalescence model, because in these models HMSCs do not exist. Evidence for HMSCs harboring low-/intermediate-mass protostars, or possibly relatively low-mass HMPOs, has been obtained only recently (Beuther et al. 2005, Sridharan et al. 2005). HMPOs are often (but not always) associated with hot molecular cores (HMCs), which have a rich chemistry (van der Tak 2005). HMPOs are often associated with H2O and Class II CH3OH maser emission, although the interpretation of this emission remains ambiguous. HMPOs are also associated with HII regions (see Section 4.3.4); many should have hypercompact HII regions and some should be associated with ultracompact HII regions, but most ultracompact HII regions are associated with the final stars.',\n",
       "  'Observational tests of infall models for high-mass protostars are difficult owing to their large distances (typically ≳ 2 kpc), crowding, large extinctions, and confounding effects of HII regions. Several tests are possible: if confirmed, the correspondence between the CMF and the IMF (Section 3.3) would be consistent with the turbulent core model; the properties of disks and winds associated with HMPOs can provide important clues (Section 4.2.1); the SEDs of embedded sources provide information on the distribution of circumstellar matter on scales smaller than can be directly resolved (Osorio, Lizano & D’Alessio 1999; Chakrabarti & McKee 2005; Whitney et al. 2005); and chemical clocks can provide direct measures of the timescale for the growth of HMPOs. To this end, Doty, van Dishoeck & Tan (2006) have developed the first model for the chemical evolution of an HMPO, including the evolution of the central source, infall, and adsorption and desorption of ices from grains. They find that the timescale for the warm chemistry is set by the time it takes for matter to flow through the warm region, and that the total age of the HMPO they study (AFGL 2591) is (0.3 − 1) × 105 years.',\n",
       "  'One measure of the importance of radiation pressure is to compare the stellar luminosity with the luminosity at which the force due to radiation pressure balances gravity. Because dust provides the dominant opacity to nonionizing radiation in the ISM, this generalized Eddington luminosity is',\n",
       "  'where κ\\nd\\n is the dust opacity per unit mass, and c is the speed of light. The dust in the infalling gas sublimates when it reaches the dust destruction front at \\n\\n cm (Wolfire & Cassinelli 1987). We approximate the radiation field outside R\\ndd as a black body with a temperature T that declines with radius. As an example, consider the Pollack et al. (1994) dust model: κ\\nd\\n (T) first rises with temperature as the average frequency increases, but then declines for T ≳ 600 K as some of the grain species sublimate. The maximum opacity is κ ≃ 8 cm2 g−1, which leads to \\nLE,d\\n ≃ 1600(m\\n\\\\*/M\\n⊙) L\\n⊙\\n. Because main-sequence stars have luminosities \\nL ≃ 10(m\\n\\\\*/M\\n⊙)3\\nL\\n⊙\\n for 7 M\\n⊙ ≲ m\\n\\\\* ≲ 20M\\n⊙\\n (inferred from Arnett 1996), the infalling gas and dust pass through a region in which the force due to the IR radiation exceeds that due to gravity if m\\n\\\\* ≳ 13M\\n⊙. For somewhat larger masses, the net force is outward over a sufficiently large region such that the infall is stopped. At the dust destruction front, the gas and dust are exposed to the stellar UV radiation, for which κ ∼ 200 cm2 g−1. However, this radiation interacts with the matter only once with this opacity, because it is emitted in the IR after absorption; as a result, the condition for the infall to persist is that its momentum must exceed that of the radiation, \\n\\n (Larson & Starrfield 1971, Kahn 1974, Wolfire & Cassinelli 1987). High infall rates ∼10−3\\nM\\n⊙ year−1 can overcome the UV radiation problem, but not the IR one.',\n",
       "  'Several mechanisms have been proposed to permit the formation of massive stars in the face of radiation pressure.',\n",
       "  'The HII regions associated with HMPOs provide strong feedback on infall and accretion, and may play a role in defining the maximum stellar mass. They are classified into two types: Ultra-compact HII (UCHII) regions have diameters (0.01 − 0.1) pc, densities ≥ 104 cm−3, and emission measures ∫ ne\\n\\n2\\ndl ≥ 107 pc cm−6 (Wood & Churchwell 1989). Hypercompact HII (HCHII) regions have diameters < 0.01 pc with emission measures ≥ 108 pc cm−6 (Beuther et al. 2007; for a slightly different definition and a review of both types of HII region, see Hoare et al. 2007). HCHII regions often appear in tight groups in high-mass star-forming regions, and they often have broad radio recombination lines with widths that can exceed 100 km s−1.',\n",
       "  'The high accretion rates characteristic of HMPOs delay the point at which the stars reach the main sequence (McKee & Tan 2003, Krumholz & Thompson 2006), thereby delaying the time at which the photosphere is hot enough to produce an HII region. High accretion rates also quench the emission of ionizing photons once the star has reached the main sequence (Walmsley 1995). Close to the star—i.e., inside the gravitational radius \\nrg\\n = Gm\\n\\\\*/ci\\n\\n2 = 3.2 × 1015 (m\\n\\\\*/30 M\\n⊙) cm, where ci\\n ≃ 10 km s−1 is the isothermal sound speed of the ionized gas—spherically accreting gas is in free fall, with ρ ∝ r\\n-3/2. For an ionizing photon luminosity S, the radius of the HCHII region is',\n",
       "  'where',\n",
       "  '(Omukai & Inutsuka 2002), where α(2) is the recombination rate to excited states of hydrogen and where we have replaced the proton mass in their expression with μH = 2.34 × 10−24 g, the mass per hydrogen nucleus. Provided the accretion is spherical, the HII region is quenched for S ≲ S\\ncr. If S/S\\ncr is not too large (≲ 7), R\\nHCHII is less than rg\\n/2, and the infall velocity at the Stromgren radius exceeds 2ci\\n, the minimum velocity of an R-critical ionization front; as a result there is no shock in the accretion flow and the HII region cannot undergo the classical pressure-driven expansion (Keto 2002). If the accretion is via a disk, as is generally expected, then the ionizing photons can escape out of the plane of the disk, and the HII region will not be trapped (Keto & Wood 2006; Keto 2007). Disk accretion is often associated with the production of winds, and Tan & McKee (2003) have suggested that such winds confine HCHII regions: The winds clear the gas along the axis, and the ionizing radiation then illuminates the inner surfaces of the winds. If correct, this offers the possibility of a powerful diagnostic for determining the nature of disk winds associated with massive stars. van der Tak & Menten (2005) found very compact radio emission aligned with the outflows in two high-mass protostellar sources, consistent with this picture. When the ionizing luminosity becomes large enough, however, the wind will become ionized and the HII region will evolve to a UCHII state. The ionizing photons will photoevaporate the surface of the disk at a rate of order \\n\\n few × 10−5 (S/1049 s−1)1/2\\nM\\n⊙ year−1; absorption of ionizing photons by dust can significantly affect this (Hollenbach et al. 1994, Richling & Yorke 1997). This mass-loss rate is too small to be important in setting the maximum mass of the star (although it can be important in primordial star formation—McKee & Tan, in preparation). Absorption of ionizing photons by dust must also be taken into account when inferring the ionizing luminosity of the central star from the properties of the HII region (Dopita et al. 2006 and references therein).',\n",
       "  'Most stars are born in clusters (e.g., Lada & Lada 2003, Allen et al. 2007), and this is particularly true of high-mass stars. The mass distribution of clusters appears to obey a universal power-law, \\n\\n, with α≃ 1. With this distribution, \\n\\n const: Taken together, clusters in each decade of mass have the same total number of stars. Lada & Lada (2003) find that very young clusters within 2 kpc of the Sun that are still embedded in their natal molecular clouds obey this power-law for M ≳ 50 M\\n⊙; the upper limit of the observed distribution is set by the largest cluster expected in the area they surveyed. The mass distribution of OB associations in the Galaxy also has a power-law distribution with α ≃ 1 (McKee & Williams 1997); they inferred that the distribution extended from ∼ 50 M\\n⊙ to 2 × 105\\nM\\n⊙ and could account for all the stars formed in the Galaxy. Kennicutt, Edgar & Hodge (1989) found that the luminosity distribution of HII regions in disk galaxies obeys \\n\\n, which is consistent with an r\\n-M distribution because the luminosity is proportional to mass for associations that are large enough to fully sample the IMF. The distribution of OB associations in the SMC has α = 1 from the largest associations down to associations with a single OB star (Oey, King & Parker 2004). The star clusters in the “Antennae” galaxies show α = 1 over the mass range 104\\nM\\n⊙ < M < 106\\nM\\n⊙\\n (Zhang & Fall 1999); this is one of the best determined cluster mass functions, and has an error, including systematic errors, estimated at ± 0.1. The mass distributions of open clusters and globular clusters are also consistent with an r\\n-M distribution at birth (Elmegreen & Efremov 1997). Dowell, Buckalew & Tan (2007, submitted) found α ≃ 0.9 for clusters in irregular galaxies and α ≃ 0.75 in disk galaxies, but comment that this result could be affected by the low spatial resolution of the data. The r\\n-M mass distribution of clusters is intermediate between the high-mass part of the IMF (M\\n-1.35) on the one hand, and the observed mass distribution of GMCs (M\\n-0.6) and the clumps within them (M\\n-0.3 → M\\n-0.7; Section 3.1) on the other. It is important to understand the origin of the difference between the cluster IMF and the mass function of GMCs and clumps if it is real, and not an artifact of limited statistics.',\n",
       "  'The structure of star clusters contains clues to their formation. High-mass stars in Galactic clusters that are massive enough to contain a number of such stars are observed to be segregated toward the center of the cluster. Hillenbrand & Hartmann (1998) analyzed the spatial distribution of stars in the Orion Nebula Cluster (ONC) and concluded that the high-mass stars were born preferentially near the center. Using N-body simulations, Bonnell & Davies (1998) showed that it takes a relaxation time, \\n\\n for \\n\\n), for high-mass stars to collect near the center of a cluster due to dynamical interactions. In the case of the ONC, they argued that significant dynamical mass segregation has occurred, but not enough to account for the observed central concentration of OB stars; they concluded therefore that the observed mass segregation is primordial. Tan, Krumholz & McKee (2006) suggested both a greater age and a longer crossing time for the ONC, but the basic conclusion does not change. In NGC 3603, the most luminous Galactic star cluster that is not heavily obscured, Stolte et al. (2006) found that the maximum mass of the stars decreases away from the center of the cluster, with all the most massive stars being quite close to the center, and again concluded that the segregation is primordial. These arguments for primordial mass segregation have been weakened by the realization that subclustering in the initial cluster significantly accelerates the rate of dynamical mass segregation (McMillan, Vesperini & Portegies Zwart 2007). In addition, most estimates do not account for dynamical friction between the stars and the surrounding gas, which can considerably reduce the mass segregation timescale (Ostriker 1999). However, recent observations have reinforced the argument for primordial mass segregation: Megeath, Wilson & Corbin (2005) have found a Trapezium-like cluster in W3 IRS5 that is deeply embedded in molecular gas and is only half the radius of the ONC. In ρ Oph, Stanke et al. (2006) found direct evidence for primordial mass segregation by showing that the CMF exhibits mass segregation as well; this also supports the correspondence between the CMF and the IMF discussed in Section 3.3. The large fraction of O stars that are runaways can be naturally explained if they originate in dense, mass-segregated clusters and undergo dynamical interactions (Clarke & Pringle 1992). The cluster R136 in the LMC appears to be an exception to the rule that high-mass stars are centrally concentrated, because half the massive stars are located outside the central core (Stolte et al. 2006).',\n",
       "  'Only a small fraction of clusters survive as bound clusters to an age of 108 years—Lada & Lada (2003) estimate this fraction as 4 = 7%. In order for a cluster to remain bound, its natal clump must have a high star-formation efficiency. Analytic estimates suggest that if the gas in the clump is removed suddenly, such as by an HII region, one requires εclump > 0.5 in order for the cluster to remain bound, whereas if the gas is removed gradually, the cluster will expand adiabatically and lower values suffice (Hills 1980; Mathieu 1983). Numerical calculations show that a fraction of the cluster survives even if the mass ejection is abrupt (Lada, Margulis & Dearborn 1984). Kroupa, Aarseth & Hurley (2001) modeled the evolution of the ONC with εclump = 0.3 and a sudden mass ejection; they concluded that 30% of the mass of the ONC would remain bound and that it would evolve into a cluster like the Pleiades. Star-formation efficiencies in the embedded clusters in the Solar Neighborhood are observed to be ≃0.1 − 0.3 (Lada & Lada 2003); because star formation is ongoing in these clusters, the final value of the star-formation efficiency, εclump, is near the upper limit of this range. Matzner & McKee (2000) calculated the star-formation efficiency for clumps in which the mass loss is dominated by protostellar outflows (\\nM ≲ 1 − 3 × 103\\nM\\n⊙\\n). (Note that the clump star-formation efficiency, εclump, which is the fraction of the mass of a clump that goes into a cluster of stars, is distinct from the core star-formation efficiency, εcore, which is the fraction of a core mass that goes into a single or binary star.) They estimated εclump ≃ 0.4 for clumps with escape velocities v\\nesc ≃ 2 km s−1, comparable to the observed value. The star-formation efficiency is predicted to rise with v\\nesc—i.e., with increasing mass and/or density of the clump.',\n",
       "  'The star-formation efficiency for larger clusters, ranging up to globular clusters and super star clusters (SSCs; e.g., Ho & Filippenko 1996) is most likely determined by the HII regions that form in the clusters. Because globular clusters are much more centrally concentrated than open clusters that form in the disk of the Galaxy today, it is likely that their star-formation efficiency, εclump, was higher. (Note that a high star-formation efficiency over the life of the clump, εclump, is consistent with a low value of the star-formation efficiency per free-fall time, εff,clump, only if clusters form over a number of free-fall times, and conversely, cluster formation in 1–2 dynamical times requires a relatively high value of εff,clump—see Section 3.4.) Using a simple phenomenological model, Elmegreen & Efremov (1997) showed how εclump should increase with both the mass of the natal clump and its pressure, P ∝ Σcl\\n2. They point out that high pressures are naturally produced in merging galaxies, accounting for the large number of SSCs seen in such systems. The high surface densities of globular clusters implies that they necessarily formed in high pressure environments (see also McKee & Tan 2003). High star-formation efficiencies are possible in a clump with embedded HII regions because their destructive effect is significantly reduced in a clump composed of dense cores (Tan & McKee 2001, Dale et al. 2005). For sufficiently massive and concentrated clusters, the escape velocity exceeds the sound speed of ionized gas, and this can further increase the star-formation efficiency (Kroupa & Boily 2002, Matzner 2002, Tan & McKee 2004).',\n",
       "  'How do stars form in clusters? The natal clumps of embedded clusters in the Solar Neighborhood have densities ∼104 − 5 cm−3 and masses ∼102 − 3\\nM\\n⊙ (Lada & Lada 2003), and more broadly distributed high-mass star-forming clumps in the Galaxy have densities ∼105 cm−3 and masses ∼103.5\\nM\\n⊙ (Plume et al. 1997). These extreme conditions have led to suggestions that the process of high-mass star formation is qualitatively different from that observed in regions of low-mass star formation (Section 4.3.1) or that it is triggered by an external effect. In a review of triggered star formation, Elmegreen (1992) pointed out that triggering generally does not affect the star-formation efficiency by more than a factor of two. In any case, triggered star formation loses much of its meaning in a theory of star formation based on turbulence, because in most cases the triggering event is just a manifestation of the intermittency of the turbulence. The observed correspondence between the CMF and the IMF (Section 3.3) and the constancy of the star-formation efficiency per free-fall time (Section 3.4) suggest a more unified picture in which stars form via gravitational collapse in a turbulent medium over most, if not all, the range of observed clustering.',\n",
       "  'Key goals of a theory of star formation are to predict the rate of star formation and the distribution of stellar masses on the macroscopic scale, and to predict the properties of individual stars from the initial conditions on the microscopic scale. In the past decade, there has been a paradigm shift in the theory from star formation in a quasi-static medium to star formation that occurs in a supersonically turbulent one, and this has led to significant progress on both fronts. Based on our current understanding, the narrative of star formation contains the following elements:',\n",
       "  'The coming decade will test and revise this narrative of star formation, particularly with the advent of ALMA and JWST, and with the continued advances in numerical simulation. Turning this narrative into a quantitative, predictive theory will provide a foundation for addressing many of the outstanding questions in astrophysics today, ranging from the formation of planets to the evolution of galaxies and the origin of the elements.',\n",
       "  'The authors are not aware of any biases that might be perceived as affecting the objectivity of this review.',\n",
       "  \"We are grateful to our expert readers, J. Bally, G. Basri, S. Basu, E. Bergin, L. Blitz, R. Crutcher, B. Elmegreen, C. Gammie, L. Hartmann, M. Heyer, R. Kennicutt, S. Kenyon, M. Krumholz, C. Lada, Z.-Y. Li, C. Matzner, S. Offner, P. Padoan, J. Tan, E. Vázquez-Semadeni, and E. Zweibel, for their insightful comments on draft sections of the manuscript, and to our editor, E. van Dishoek, for her comments on the entire manuscript. We are also grateful to C.-F. Lee for his help producing the figure of HH111 and to Nathan Smith for his help with the figure of the Carina Nebula. The work of C.F.M. and E.C.O. was supported by the National Science Foundation under grants AST 0606831 and AST 0507315, respectively. In preparing this review, we have relied upon the search and archive facilities provided by NASA's Astrophysics Data System Bibliographic Services.\",\n",
       "  'Literature Cited',\n",
       "  'Data & Media loading...',\n",
       "  'Literature Cited',\n",
       "  '',\n",
       "  '',\n",
       "  '']}"
      ]
     },
     "execution_count": 164,
     "metadata": {},
     "output_type": "execute_result"
    }
   ],
   "source": [
    "papers[1]"
   ]
  },
  {
   "cell_type": "code",
   "execution_count": null,
   "id": "6ea1a611",
   "metadata": {},
   "outputs": [],
   "source": [
    "# ask it to consider time?"
   ]
  },
  {
   "cell_type": "code",
   "execution_count": 251,
   "id": "5430aa38",
   "metadata": {},
   "outputs": [],
   "source": [
    "def process_paragraphs(content):\n",
    "    paragraphs = get_best_paragraphs(content, 5)\n",
    "    message = claude_paragraphs(paragraphs)\n",
    "    message = message.content[0].text\n",
    "    \n",
    "    results = []\n",
    "    for pair in message.split('\\n\\n'):\n",
    "        if '(' in pair:\n",
    "            index, question = pair[1:-1].split(',', 1)\n",
    "            paragraph = content[int(index)]\n",
    "            results.append({'question': question, 'paragraph': paragraph, 'citations': scrape_citations(paragraph)})\n",
    "    \n",
    "    return results"
   ]
  },
  {
   "cell_type": "code",
   "execution_count": 145,
   "id": "d9e0c116",
   "metadata": {},
   "outputs": [
    {
     "data": {
      "text/plain": [
       "9"
      ]
     },
     "execution_count": 145,
     "metadata": {},
     "output_type": "execute_result"
    }
   ],
   "source": [
    "len(set(scrape_citations(papers[0]['text'][93])))"
   ]
  },
  {
   "cell_type": "code",
   "execution_count": 1035,
   "id": "bb84410d",
   "metadata": {},
   "outputs": [
    {
     "name": "stdout",
     "output_type": "stream",
     "text": [
      "The autoreload extension is already loaded. To reload it, use:\n",
      "  %reload_ext autoreload\n"
     ]
    }
   ],
   "source": [
    "%load_ext autoreload\n",
    "%autoreload 2"
   ]
  },
  {
   "cell_type": "code",
   "execution_count": 60,
   "id": "0cda230a",
   "metadata": {},
   "outputs": [],
   "source": [
    "import multi_paper"
   ]
  },
  {
   "cell_type": "code",
   "execution_count": 708,
   "id": "77560650",
   "metadata": {},
   "outputs": [
    {
     "name": "stdout",
     "output_type": "stream",
     "text": [
      "Number of reviews: 189\n"
     ]
    }
   ],
   "source": [
    "review_json = multi_paper.load_araa(from_file = True)\n",
    "reviews = multi_paper.format_reviews(review_json)\n",
    "print('Number of reviews:', len(reviews))"
   ]
  },
  {
   "cell_type": "code",
   "execution_count": 712,
   "id": "a77ac85b",
   "metadata": {},
   "outputs": [],
   "source": [
    "from tqdm import tqdm"
   ]
  },
  {
   "cell_type": "code",
   "execution_count": 724,
   "id": "c03cc414",
   "metadata": {},
   "outputs": [
    {
     "name": "stderr",
     "output_type": "stream",
     "text": [
      "100%|█████████████████████████████████████████████| 6/6 [04:37<00:00, 46.30s/it]\n"
     ]
    }
   ],
   "source": [
    "batch_size = 10\n",
    "\n",
    "for i in tqdm(range(len(reviews) // batch_size + 1)[13:]):\n",
    "    batch = reviews[i * batch_size : i * batch_size + (batch_size - 1)]\n",
    "    content = multi_paper.get_page_contents(batch)\n",
    "\n",
    "    for j, paper in enumerate(content):\n",
    "        \n",
    "        paper['paragraphs'] = [re.sub('\\(#right-ref-[A-Za-z0-9]+\\)', '', p) for p in paper['paragraphs']]\n",
    "        \n",
    "        if \"institutional or personal subscription\" not in paper['paragraphs'][-1]:\n",
    "            if review['title'] not in [rev['title'] for rev in reviews_with_text]:\n",
    "                review = reviews[i * batch_size + j].copy()\n",
    "                review['text'] = paper['paragraphs']\n",
    "                review['fullbib'] = paper['references']\n",
    "                reviews_with_text.append(review)"
   ]
  },
  {
   "cell_type": "code",
   "execution_count": 727,
   "id": "3df8237c",
   "metadata": {
    "scrolled": true
   },
   "outputs": [
    {
     "data": {
      "text/plain": [
       "['Cosmic Star-Formation History',\n",
       " 'The Circumgalactic Medium',\n",
       " 'The Galaxy in Context: Structural, Kinematic, and Integrated Properties',\n",
       " 'Small-Scale Challenges to the ΛCDM Paradigm',\n",
       " 'Intermediate-Mass Black Holes',\n",
       " 'Relativistic Jets from Active Galactic Nuclei',\n",
       " 'Hot Accretion Flows Around Black Holes',\n",
       " 'Magnetars',\n",
       " 'Understanding Galaxy Evolution Through Emission Lines',\n",
       " 'The Coevolution of Galaxies and Supermassive Black Holes: Insights from Surveys of the Contemporary Universe',\n",
       " 'The Faintest Dwarf Galaxies',\n",
       " 'Quasars and the Intergalactic Medium at Cosmic Dawn',\n",
       " 'Masses, Radii, and the Equation of State of Neutron Stars',\n",
       " 'The Assembly of the First Massive Black Holes',\n",
       " 'Galaxy Formation and Reionization: Key Unknowns and Expected Breakthroughs by the James Webb Space Telescope',\n",
       " 'Key Physical Processes in the Circumgalactic Medium',\n",
       " 'The First Stars: Formation, Properties, and Impact',\n",
       " 'Observations of Protoplanetary Disk Structures',\n",
       " 'Revisiting the Unified Model of Active Galactic Nuclei',\n",
       " 'Accretion onto Pre-Main-Sequence Stars',\n",
       " 'Theoretical Challenges in Galaxy Formation',\n",
       " 'Carrington Events',\n",
       " 'Hydrodynamical Simulations of the Galaxy Population: Enduring Successes and Outstanding Challenges',\n",
       " 'Tidal Disruption Events',\n",
       " 'Star Clusters Across Cosmic Time',\n",
       " 'Origins of Hot Jupiters',\n",
       " 'Streams, Substructures, and the Early History of the Milky Way',\n",
       " 'Mass Loss: Its Effect on the Evolution and Fate of High-Mass Stars',\n",
       " 'Obscured Active Galactic Nuclei',\n",
       " 'The Occurrence and Architecture of Exoplanetary Systems',\n",
       " 'The Evolution of Galaxy Structure Over Cosmic Time',\n",
       " 'Protoplanetary Disk Chemistry',\n",
       " 'The Cold Interstellar Medium of Galaxies in the Local Universe',\n",
       " 'Short-Duration Gamma-Ray Bursts',\n",
       " 'Observational Clues to the Progenitors of Type Ia Supernovae',\n",
       " 'Structure and Kinematics of Early-Type Galaxies from Integral Field Spectroscopy',\n",
       " 'The Cosmic Baryon and Metal Cycles',\n",
       " 'Exoplanetary Atmospheres: Key Insights, Challenges, and Prospects',\n",
       " 'Star-Forming Galaxies at Cosmic Noon',\n",
       " 'Photodissociation and X-Ray-Dominated Regions',\n",
       " 'Observations of the icy universe.',\n",
       " 'Powerful Outflows and Feedback from Active Galactic Nuclei',\n",
       " 'Exoplanet Statistics and Theoretical Implications',\n",
       " 'Gaussian Process Regression for Astronomical Time Series',\n",
       " 'The Dust Attenuation Law in Galaxies',\n",
       " 'Observational Constraints on Black Hole Spin',\n",
       " 'The Interstellar Dust Properties of Nearby Galaxies',\n",
       " 'Ultraluminous X-Ray Sources',\n",
       " 'Gravitational Instabilities in Circumstellar Disks',\n",
       " 'Astrochemistry During the Formation of Stars',\n",
       " 'Protostellar Outflows',\n",
       " 'Atomic Hydrogen in the Milky Way: A Stepping Stone in the Evolution of Galaxies',\n",
       " 'Pulsar Magnetospheres and Their Radiation',\n",
       " 'Near-Field Cosmology with Extremely Metal-Poor Stars',\n",
       " 'Fast Radio Bursts: An Extragalactic Enigma',\n",
       " 'Circumbinary Accretion: From Binary Stars to Massive Binary Black Holes',\n",
       " 'Observations of the Lyman-α Universe',\n",
       " 'New Insights into Classical Novae',\n",
       " 'Theory and Diagnostics of Hot Star Mass Loss',\n",
       " 'Spirals in Galaxies',\n",
       " 'Debris Disks: Structure, Composition, and Variability',\n",
       " 'Interstellar Dust Grain Alignment',\n",
       " 'Tidal Dissipation in Stars and Giant Planets',\n",
       " 'Asteroseismology Across the Hertzsprung-Russell Diagram',\n",
       " 'Angular Momentum Transport in Stellar Interiors',\n",
       " 'Advances in Optical/Infrared Interferometry',\n",
       " 'Weak Lensing for Precision Cosmology',\n",
       " 'First Multimessenger Observations of a Neutron Star Merger',\n",
       " 'The Evolution of the Intergalactic Medium',\n",
       " 'Observing Interstellar and Intergalactic Magnetic Fields',\n",
       " 'Spatially Resolved Spectroscopic Properties of Low-Redshift Star-Forming Galaxies',\n",
       " 'New Insights into the Evolution of Massive Stars and Their Effects on Our Understanding of Early Galaxies',\n",
       " 'Dynamical Evolution of the Early Solar System',\n",
       " 'Solar Dynamo Theory',\n",
       " 'The Most Luminous Supernovae',\n",
       " 'Photometric Redshifts for Next-Generation Surveys',\n",
       " 'Magnetohydrodynamics Simulations of Active Galactic Nucleus Disks and Jets',\n",
       " 'Chemodynamical History of the Galactic Bulge',\n",
       " 'On the Cool Side: Modeling the Atmospheres of Brown Dwarfs and Giant Planets',\n",
       " 'Accuracy and Precision of Industrial Stellar Abundances',\n",
       " 'Six Decades of Spiral Density Wave Theory',\n",
       " 'Markov Chain Monte Carlo Methods for Bayesian Data Analysis in Astronomy',\n",
       " 'Red Clump Stars',\n",
       " 'Galactic Dynamos',\n",
       " 'The Properties of the Solar Corona and Its Connection to the Solar Wind',\n",
       " 'How to Characterize Habitable Worlds and Signs of Life',\n",
       " 'Evolution and Mass Loss of Cool Ageing Stars: a Daedalean Story',\n",
       " 'Wave Dark Matter',\n",
       " 'Magnetohydrodynamic Waves in the Solar Corona',\n",
       " 'The Magellanic Stream: Circumnavigating the Galaxy',\n",
       " 'Evidence for Initial Mass Function Variation in Massive Early-Type Galaxies',\n",
       " 'The Quest for B Modes from Inflationary Gravitational Waves',\n",
       " 'The Nine Lives of Cosmic Rays in Galaxies',\n",
       " 'Gamma-Ray Observations of Active Galactic Nuclei']"
      ]
     },
     "execution_count": 727,
     "metadata": {},
     "output_type": "execute_result"
    }
   ],
   "source": [
    "[rev['title'] for rev in reviews_with_text]"
   ]
  },
  {
   "cell_type": "code",
   "execution_count": 725,
   "id": "3fba7b30",
   "metadata": {},
   "outputs": [],
   "source": [
    "with open('araa_papers.json', 'w') as f:\n",
    "    json.dump(reviews_with_text, f)"
   ]
  },
  {
   "cell_type": "code",
   "execution_count": 803,
   "id": "aabb8dfe",
   "metadata": {
    "scrolled": true
   },
   "outputs": [
    {
     "name": "stdout",
     "output_type": "stream",
     "text": [
      "Number of papers: 94\n",
      "0\n",
      "1\n",
      "2\n",
      "3\n",
      "4\n",
      "5\n",
      "6\n",
      "7\n",
      "8\n",
      "9\n",
      "10\n",
      "11\n",
      "12\n",
      "13\n",
      "14\n",
      "15\n",
      "16\n",
      "17\n",
      "18\n",
      "19\n",
      "20\n",
      "21\n",
      "22\n",
      "23\n",
      "24\n",
      "25\n",
      "26\n",
      "27\n",
      "28\n",
      "29\n",
      "30\n",
      "31\n",
      "32\n",
      "33\n",
      "34\n",
      "35\n",
      "36\n",
      "37\n",
      "38\n",
      "39\n",
      "40\n",
      "41\n",
      "42\n",
      "43\n",
      "44\n",
      "45\n",
      "46\n",
      "47\n",
      "48\n",
      "49\n",
      "50\n",
      "51\n",
      "52\n",
      "53\n",
      "54\n",
      "55\n",
      "56\n",
      "57\n",
      "58\n",
      "59\n",
      "60\n",
      "61\n",
      "62\n",
      "63\n",
      "64\n",
      "65\n",
      "66\n",
      "67\n",
      "68\n",
      "69\n",
      "70\n",
      "71\n",
      "72\n",
      "73\n",
      "74\n",
      "75\n",
      "76\n",
      "77\n",
      "78\n",
      "79\n",
      "80\n",
      "81\n",
      "82\n",
      "83\n",
      "84\n",
      "85\n",
      "86\n",
      "87\n",
      "88\n",
      "89\n",
      "90\n",
      "91\n"
     ]
    },
    {
     "ename": "RateLimitError",
     "evalue": "Error code: 429 - {'type': 'error', 'error': {'type': 'rate_limit_error', 'message': 'Number of request tokens has exceeded your daily rate limit (https://docs.anthropic.com/en/api/rate-limits); see the response headers for current usage. Please reduce the prompt length or the maximum tokens requested, or try again later. You may also contact sales at https://www.anthropic.com/contact-sales to discuss your options for a rate limit increase.'}}",
     "output_type": "error",
     "traceback": [
      "\u001b[0;31m---------------------------------------------------------------------------\u001b[0m",
      "\u001b[0;31mRateLimitError\u001b[0m                            Traceback (most recent call last)",
      "Cell \u001b[0;32mIn[803], line 6\u001b[0m\n\u001b[1;32m      4\u001b[0m \u001b[38;5;28;01mfor\u001b[39;00m i, paper \u001b[38;5;129;01min\u001b[39;00m \u001b[38;5;28menumerate\u001b[39m(reviews_with_text):\n\u001b[1;32m      5\u001b[0m     \u001b[38;5;28mprint\u001b[39m(i)\n\u001b[0;32m----> 6\u001b[0m     query_pairs\u001b[38;5;241m.\u001b[39mappend(\u001b[43mmulti_paper\u001b[49m\u001b[38;5;241;43m.\u001b[39;49m\u001b[43mprocess_paper\u001b[49m\u001b[43m(\u001b[49m\u001b[43mpaper\u001b[49m\u001b[43m)\u001b[49m)\n",
      "File \u001b[0;32m~/retrieval/evaluation/multi_paper.py:245\u001b[0m, in \u001b[0;36mprocess_paper\u001b[0;34m(paper, verbose, mode, k)\u001b[0m\n\u001b[1;32m    243\u001b[0m content \u001b[38;5;241m=\u001b[39m paper[\u001b[38;5;124m'\u001b[39m\u001b[38;5;124mtext\u001b[39m\u001b[38;5;124m'\u001b[39m]\n\u001b[1;32m    244\u001b[0m paragraphs \u001b[38;5;241m=\u001b[39m get_best_paragraphs(content, k, mode)\n\u001b[0;32m--> 245\u001b[0m message \u001b[38;5;241m=\u001b[39m \u001b[43mclaude_paragraphs\u001b[49m\u001b[43m(\u001b[49m\u001b[43mparagraphs\u001b[49m\u001b[43m)\u001b[49m\n\u001b[1;32m    246\u001b[0m message \u001b[38;5;241m=\u001b[39m message\u001b[38;5;241m.\u001b[39mcontent[\u001b[38;5;241m0\u001b[39m]\u001b[38;5;241m.\u001b[39mtext\n\u001b[1;32m    248\u001b[0m pqueries \u001b[38;5;241m=\u001b[39m []\n",
      "File \u001b[0;32m~/retrieval/evaluation/multi_paper.py:225\u001b[0m, in \u001b[0;36mclaude_paragraphs\u001b[0;34m(paper)\u001b[0m\n\u001b[1;32m    223\u001b[0m \u001b[38;5;28;01mdef\u001b[39;00m \u001b[38;5;21mclaude_paragraphs\u001b[39m(paper):\n\u001b[1;32m    224\u001b[0m     \u001b[38;5;66;03m# literally using a less overloaded character '{' to split the paragraphs}\u001b[39;00m\n\u001b[0;32m--> 225\u001b[0m     message \u001b[38;5;241m=\u001b[39m \u001b[43mclient\u001b[49m\u001b[38;5;241;43m.\u001b[39;49m\u001b[43mmessages\u001b[49m\u001b[38;5;241;43m.\u001b[39;49m\u001b[43mcreate\u001b[49m\u001b[43m(\u001b[49m\n\u001b[1;32m    226\u001b[0m \u001b[43m        \u001b[49m\u001b[43mmodel\u001b[49m\u001b[38;5;241;43m=\u001b[39;49m\u001b[38;5;124;43m\"\u001b[39;49m\u001b[38;5;124;43mclaude-3-5-sonnet-20240620\u001b[39;49m\u001b[38;5;124;43m\"\u001b[39;49m\u001b[43m,\u001b[49m\n\u001b[1;32m    227\u001b[0m \u001b[43m        \u001b[49m\u001b[43mmax_tokens\u001b[49m\u001b[38;5;241;43m=\u001b[39;49m\u001b[38;5;241;43m500\u001b[39;49m\u001b[43m,\u001b[49m\n\u001b[1;32m    228\u001b[0m \u001b[43m        \u001b[49m\u001b[43mtemperature\u001b[49m\u001b[38;5;241;43m=\u001b[39;49m\u001b[38;5;241;43m0\u001b[39;49m\u001b[43m,\u001b[49m\n\u001b[1;32m    229\u001b[0m \u001b[43m        \u001b[49m\u001b[43msystem\u001b[49m\u001b[38;5;241;43m=\u001b[39;49m\u001b[38;5;124;43m\"\"\"\u001b[39;49m\u001b[38;5;124;43mYou are an expert astronomer. Given this list of paragraphs from a scientific paper, generate a focused research question for each paragraph that is answered by the paragraph text.\u001b[39;49m\n\u001b[1;32m    230\u001b[0m \u001b[38;5;124;43m                Formulate the question such that it is expert-level, focused, and relevant to the paragraph. Be concise.\u001b[39;49m\n\u001b[1;32m    231\u001b[0m \u001b[38;5;124;43m                Then assess which paragraphs are most on-topic and closely related to their research question.\u001b[39;49m\n\u001b[1;32m    232\u001b[0m \u001b[38;5;124;43m                If the question has multiple sub-questions, a good and focused paragraph should address all of them.\u001b[39;49m\n\u001b[1;32m    233\u001b[0m \u001b[38;5;124;43m                Return the 3 best question-paragraph pairs in this format: \u001b[39;49m\u001b[38;5;124;43m{\u001b[39;49m\u001b[38;5;124;43mindex, question}.\u001b[39;49m\n\u001b[1;32m    234\u001b[0m \u001b[38;5;124;43m                Do not include any text before or after each \u001b[39;49m\u001b[38;5;124;43m{\u001b[39;49m\u001b[38;5;124;43mindex, question}, including any introduction or rationale.\u001b[39;49m\u001b[38;5;124;43m\"\"\"\u001b[39;49m\u001b[43m,\u001b[49m\n\u001b[1;32m    235\u001b[0m \u001b[43m                \u001b[49m\u001b[38;5;66;43;03m# Also return the 3 paragraphs and corresponding questions that are least on-topic and related to the research question.\u001b[39;49;00m\n\u001b[1;32m    236\u001b[0m \u001b[43m        \u001b[49m\u001b[43mmessages\u001b[49m\u001b[38;5;241;43m=\u001b[39;49m\u001b[43m[\u001b[49m\u001b[43m{\u001b[49m\u001b[38;5;124;43m\"\u001b[39;49m\u001b[38;5;124;43mrole\u001b[39;49m\u001b[38;5;124;43m\"\u001b[39;49m\u001b[43m:\u001b[49m\u001b[43m \u001b[49m\u001b[38;5;124;43m\"\u001b[39;49m\u001b[38;5;124;43muser\u001b[39;49m\u001b[38;5;124;43m\"\u001b[39;49m\u001b[43m,\u001b[49m\n\u001b[1;32m    237\u001b[0m \u001b[43m                \u001b[49m\u001b[38;5;124;43m\"\u001b[39;49m\u001b[38;5;124;43mcontent\u001b[39;49m\u001b[38;5;124;43m\"\u001b[39;49m\u001b[43m:\u001b[49m\u001b[43m \u001b[49m\u001b[43m[\u001b[49m\u001b[43m{\u001b[49m\u001b[38;5;124;43m\"\u001b[39;49m\u001b[38;5;124;43mtype\u001b[39;49m\u001b[38;5;124;43m\"\u001b[39;49m\u001b[43m:\u001b[49m\u001b[43m \u001b[49m\u001b[38;5;124;43m\"\u001b[39;49m\u001b[38;5;124;43mtext\u001b[39;49m\u001b[38;5;124;43m\"\u001b[39;49m\u001b[43m,\u001b[49m\u001b[43m \u001b[49m\u001b[38;5;124;43m\"\u001b[39;49m\u001b[38;5;124;43mtext\u001b[39;49m\u001b[38;5;124;43m\"\u001b[39;49m\u001b[43m:\u001b[49m\u001b[43m \u001b[49m\u001b[43mpaper\u001b[49m\u001b[43m,\u001b[49m\u001b[43m}\u001b[49m\u001b[43m]\u001b[49m\u001b[43m \u001b[49m\u001b[43m}\u001b[49m\u001b[43m]\u001b[49m\n\u001b[1;32m    238\u001b[0m \u001b[43m    \u001b[49m\u001b[43m)\u001b[49m\n\u001b[1;32m    240\u001b[0m     \u001b[38;5;28;01mreturn\u001b[39;00m message\n",
      "File \u001b[0;32m~/anaconda3/lib/python3.9/site-packages/anthropic/_utils/_utils.py:277\u001b[0m, in \u001b[0;36mrequired_args.<locals>.inner.<locals>.wrapper\u001b[0;34m(*args, **kwargs)\u001b[0m\n\u001b[1;32m    275\u001b[0m             msg \u001b[38;5;241m=\u001b[39m \u001b[38;5;124mf\u001b[39m\u001b[38;5;124m\"\u001b[39m\u001b[38;5;124mMissing required argument: \u001b[39m\u001b[38;5;132;01m{\u001b[39;00mquote(missing[\u001b[38;5;241m0\u001b[39m])\u001b[38;5;132;01m}\u001b[39;00m\u001b[38;5;124m\"\u001b[39m\n\u001b[1;32m    276\u001b[0m     \u001b[38;5;28;01mraise\u001b[39;00m \u001b[38;5;167;01mTypeError\u001b[39;00m(msg)\n\u001b[0;32m--> 277\u001b[0m \u001b[38;5;28;01mreturn\u001b[39;00m \u001b[43mfunc\u001b[49m\u001b[43m(\u001b[49m\u001b[38;5;241;43m*\u001b[39;49m\u001b[43margs\u001b[49m\u001b[43m,\u001b[49m\u001b[43m \u001b[49m\u001b[38;5;241;43m*\u001b[39;49m\u001b[38;5;241;43m*\u001b[39;49m\u001b[43mkwargs\u001b[49m\u001b[43m)\u001b[49m\n",
      "File \u001b[0;32m~/anaconda3/lib/python3.9/site-packages/anthropic/resources/messages.py:904\u001b[0m, in \u001b[0;36mMessages.create\u001b[0;34m(self, max_tokens, messages, model, metadata, stop_sequences, stream, system, temperature, tool_choice, tools, top_k, top_p, extra_headers, extra_query, extra_body, timeout)\u001b[0m\n\u001b[1;32m    870\u001b[0m \u001b[38;5;129m@required_args\u001b[39m([\u001b[38;5;124m\"\u001b[39m\u001b[38;5;124mmax_tokens\u001b[39m\u001b[38;5;124m\"\u001b[39m, \u001b[38;5;124m\"\u001b[39m\u001b[38;5;124mmessages\u001b[39m\u001b[38;5;124m\"\u001b[39m, \u001b[38;5;124m\"\u001b[39m\u001b[38;5;124mmodel\u001b[39m\u001b[38;5;124m\"\u001b[39m], [\u001b[38;5;124m\"\u001b[39m\u001b[38;5;124mmax_tokens\u001b[39m\u001b[38;5;124m\"\u001b[39m, \u001b[38;5;124m\"\u001b[39m\u001b[38;5;124mmessages\u001b[39m\u001b[38;5;124m\"\u001b[39m, \u001b[38;5;124m\"\u001b[39m\u001b[38;5;124mmodel\u001b[39m\u001b[38;5;124m\"\u001b[39m, \u001b[38;5;124m\"\u001b[39m\u001b[38;5;124mstream\u001b[39m\u001b[38;5;124m\"\u001b[39m])\n\u001b[1;32m    871\u001b[0m \u001b[38;5;28;01mdef\u001b[39;00m \u001b[38;5;21mcreate\u001b[39m(\n\u001b[1;32m    872\u001b[0m     \u001b[38;5;28mself\u001b[39m,\n\u001b[0;32m   (...)\u001b[0m\n\u001b[1;32m    902\u001b[0m     timeout: \u001b[38;5;28mfloat\u001b[39m \u001b[38;5;241m|\u001b[39m httpx\u001b[38;5;241m.\u001b[39mTimeout \u001b[38;5;241m|\u001b[39m \u001b[38;5;28;01mNone\u001b[39;00m \u001b[38;5;241m|\u001b[39m NotGiven \u001b[38;5;241m=\u001b[39m \u001b[38;5;241m600\u001b[39m,\n\u001b[1;32m    903\u001b[0m ) \u001b[38;5;241m-\u001b[39m\u001b[38;5;241m>\u001b[39m Message \u001b[38;5;241m|\u001b[39m Stream[RawMessageStreamEvent]:\n\u001b[0;32m--> 904\u001b[0m     \u001b[38;5;28;01mreturn\u001b[39;00m \u001b[38;5;28;43mself\u001b[39;49m\u001b[38;5;241;43m.\u001b[39;49m\u001b[43m_post\u001b[49m\u001b[43m(\u001b[49m\n\u001b[1;32m    905\u001b[0m \u001b[43m        \u001b[49m\u001b[38;5;124;43m\"\u001b[39;49m\u001b[38;5;124;43m/v1/messages\u001b[39;49m\u001b[38;5;124;43m\"\u001b[39;49m\u001b[43m,\u001b[49m\n\u001b[1;32m    906\u001b[0m \u001b[43m        \u001b[49m\u001b[43mbody\u001b[49m\u001b[38;5;241;43m=\u001b[39;49m\u001b[43mmaybe_transform\u001b[49m\u001b[43m(\u001b[49m\n\u001b[1;32m    907\u001b[0m \u001b[43m            \u001b[49m\u001b[43m{\u001b[49m\n\u001b[1;32m    908\u001b[0m \u001b[43m                \u001b[49m\u001b[38;5;124;43m\"\u001b[39;49m\u001b[38;5;124;43mmax_tokens\u001b[39;49m\u001b[38;5;124;43m\"\u001b[39;49m\u001b[43m:\u001b[49m\u001b[43m \u001b[49m\u001b[43mmax_tokens\u001b[49m\u001b[43m,\u001b[49m\n\u001b[1;32m    909\u001b[0m \u001b[43m                \u001b[49m\u001b[38;5;124;43m\"\u001b[39;49m\u001b[38;5;124;43mmessages\u001b[39;49m\u001b[38;5;124;43m\"\u001b[39;49m\u001b[43m:\u001b[49m\u001b[43m \u001b[49m\u001b[43mmessages\u001b[49m\u001b[43m,\u001b[49m\n\u001b[1;32m    910\u001b[0m \u001b[43m                \u001b[49m\u001b[38;5;124;43m\"\u001b[39;49m\u001b[38;5;124;43mmodel\u001b[39;49m\u001b[38;5;124;43m\"\u001b[39;49m\u001b[43m:\u001b[49m\u001b[43m \u001b[49m\u001b[43mmodel\u001b[49m\u001b[43m,\u001b[49m\n\u001b[1;32m    911\u001b[0m \u001b[43m                \u001b[49m\u001b[38;5;124;43m\"\u001b[39;49m\u001b[38;5;124;43mmetadata\u001b[39;49m\u001b[38;5;124;43m\"\u001b[39;49m\u001b[43m:\u001b[49m\u001b[43m \u001b[49m\u001b[43mmetadata\u001b[49m\u001b[43m,\u001b[49m\n\u001b[1;32m    912\u001b[0m \u001b[43m                \u001b[49m\u001b[38;5;124;43m\"\u001b[39;49m\u001b[38;5;124;43mstop_sequences\u001b[39;49m\u001b[38;5;124;43m\"\u001b[39;49m\u001b[43m:\u001b[49m\u001b[43m \u001b[49m\u001b[43mstop_sequences\u001b[49m\u001b[43m,\u001b[49m\n\u001b[1;32m    913\u001b[0m \u001b[43m                \u001b[49m\u001b[38;5;124;43m\"\u001b[39;49m\u001b[38;5;124;43mstream\u001b[39;49m\u001b[38;5;124;43m\"\u001b[39;49m\u001b[43m:\u001b[49m\u001b[43m \u001b[49m\u001b[43mstream\u001b[49m\u001b[43m,\u001b[49m\n\u001b[1;32m    914\u001b[0m \u001b[43m                \u001b[49m\u001b[38;5;124;43m\"\u001b[39;49m\u001b[38;5;124;43msystem\u001b[39;49m\u001b[38;5;124;43m\"\u001b[39;49m\u001b[43m:\u001b[49m\u001b[43m \u001b[49m\u001b[43msystem\u001b[49m\u001b[43m,\u001b[49m\n\u001b[1;32m    915\u001b[0m \u001b[43m                \u001b[49m\u001b[38;5;124;43m\"\u001b[39;49m\u001b[38;5;124;43mtemperature\u001b[39;49m\u001b[38;5;124;43m\"\u001b[39;49m\u001b[43m:\u001b[49m\u001b[43m \u001b[49m\u001b[43mtemperature\u001b[49m\u001b[43m,\u001b[49m\n\u001b[1;32m    916\u001b[0m \u001b[43m                \u001b[49m\u001b[38;5;124;43m\"\u001b[39;49m\u001b[38;5;124;43mtool_choice\u001b[39;49m\u001b[38;5;124;43m\"\u001b[39;49m\u001b[43m:\u001b[49m\u001b[43m \u001b[49m\u001b[43mtool_choice\u001b[49m\u001b[43m,\u001b[49m\n\u001b[1;32m    917\u001b[0m \u001b[43m                \u001b[49m\u001b[38;5;124;43m\"\u001b[39;49m\u001b[38;5;124;43mtools\u001b[39;49m\u001b[38;5;124;43m\"\u001b[39;49m\u001b[43m:\u001b[49m\u001b[43m \u001b[49m\u001b[43mtools\u001b[49m\u001b[43m,\u001b[49m\n\u001b[1;32m    918\u001b[0m \u001b[43m                \u001b[49m\u001b[38;5;124;43m\"\u001b[39;49m\u001b[38;5;124;43mtop_k\u001b[39;49m\u001b[38;5;124;43m\"\u001b[39;49m\u001b[43m:\u001b[49m\u001b[43m \u001b[49m\u001b[43mtop_k\u001b[49m\u001b[43m,\u001b[49m\n\u001b[1;32m    919\u001b[0m \u001b[43m                \u001b[49m\u001b[38;5;124;43m\"\u001b[39;49m\u001b[38;5;124;43mtop_p\u001b[39;49m\u001b[38;5;124;43m\"\u001b[39;49m\u001b[43m:\u001b[49m\u001b[43m \u001b[49m\u001b[43mtop_p\u001b[49m\u001b[43m,\u001b[49m\n\u001b[1;32m    920\u001b[0m \u001b[43m            \u001b[49m\u001b[43m}\u001b[49m\u001b[43m,\u001b[49m\n\u001b[1;32m    921\u001b[0m \u001b[43m            \u001b[49m\u001b[43mmessage_create_params\u001b[49m\u001b[38;5;241;43m.\u001b[39;49m\u001b[43mMessageCreateParams\u001b[49m\u001b[43m,\u001b[49m\n\u001b[1;32m    922\u001b[0m \u001b[43m        \u001b[49m\u001b[43m)\u001b[49m\u001b[43m,\u001b[49m\n\u001b[1;32m    923\u001b[0m \u001b[43m        \u001b[49m\u001b[43moptions\u001b[49m\u001b[38;5;241;43m=\u001b[39;49m\u001b[43mmake_request_options\u001b[49m\u001b[43m(\u001b[49m\n\u001b[1;32m    924\u001b[0m \u001b[43m            \u001b[49m\u001b[43mextra_headers\u001b[49m\u001b[38;5;241;43m=\u001b[39;49m\u001b[43mextra_headers\u001b[49m\u001b[43m,\u001b[49m\u001b[43m \u001b[49m\u001b[43mextra_query\u001b[49m\u001b[38;5;241;43m=\u001b[39;49m\u001b[43mextra_query\u001b[49m\u001b[43m,\u001b[49m\u001b[43m \u001b[49m\u001b[43mextra_body\u001b[49m\u001b[38;5;241;43m=\u001b[39;49m\u001b[43mextra_body\u001b[49m\u001b[43m,\u001b[49m\u001b[43m \u001b[49m\u001b[43mtimeout\u001b[49m\u001b[38;5;241;43m=\u001b[39;49m\u001b[43mtimeout\u001b[49m\n\u001b[1;32m    925\u001b[0m \u001b[43m        \u001b[49m\u001b[43m)\u001b[49m\u001b[43m,\u001b[49m\n\u001b[1;32m    926\u001b[0m \u001b[43m        \u001b[49m\u001b[43mcast_to\u001b[49m\u001b[38;5;241;43m=\u001b[39;49m\u001b[43mMessage\u001b[49m\u001b[43m,\u001b[49m\n\u001b[1;32m    927\u001b[0m \u001b[43m        \u001b[49m\u001b[43mstream\u001b[49m\u001b[38;5;241;43m=\u001b[39;49m\u001b[43mstream\u001b[49m\u001b[43m \u001b[49m\u001b[38;5;129;43;01mor\u001b[39;49;00m\u001b[43m \u001b[49m\u001b[38;5;28;43;01mFalse\u001b[39;49;00m\u001b[43m,\u001b[49m\n\u001b[1;32m    928\u001b[0m \u001b[43m        \u001b[49m\u001b[43mstream_cls\u001b[49m\u001b[38;5;241;43m=\u001b[39;49m\u001b[43mStream\u001b[49m\u001b[43m[\u001b[49m\u001b[43mRawMessageStreamEvent\u001b[49m\u001b[43m]\u001b[49m\u001b[43m,\u001b[49m\n\u001b[1;32m    929\u001b[0m \u001b[43m    \u001b[49m\u001b[43m)\u001b[49m\n",
      "File \u001b[0;32m~/anaconda3/lib/python3.9/site-packages/anthropic/_base_client.py:1249\u001b[0m, in \u001b[0;36mSyncAPIClient.post\u001b[0;34m(self, path, cast_to, body, options, files, stream, stream_cls)\u001b[0m\n\u001b[1;32m   1235\u001b[0m \u001b[38;5;28;01mdef\u001b[39;00m \u001b[38;5;21mpost\u001b[39m(\n\u001b[1;32m   1236\u001b[0m     \u001b[38;5;28mself\u001b[39m,\n\u001b[1;32m   1237\u001b[0m     path: \u001b[38;5;28mstr\u001b[39m,\n\u001b[0;32m   (...)\u001b[0m\n\u001b[1;32m   1244\u001b[0m     stream_cls: \u001b[38;5;28mtype\u001b[39m[_StreamT] \u001b[38;5;241m|\u001b[39m \u001b[38;5;28;01mNone\u001b[39;00m \u001b[38;5;241m=\u001b[39m \u001b[38;5;28;01mNone\u001b[39;00m,\n\u001b[1;32m   1245\u001b[0m ) \u001b[38;5;241m-\u001b[39m\u001b[38;5;241m>\u001b[39m ResponseT \u001b[38;5;241m|\u001b[39m _StreamT:\n\u001b[1;32m   1246\u001b[0m     opts \u001b[38;5;241m=\u001b[39m FinalRequestOptions\u001b[38;5;241m.\u001b[39mconstruct(\n\u001b[1;32m   1247\u001b[0m         method\u001b[38;5;241m=\u001b[39m\u001b[38;5;124m\"\u001b[39m\u001b[38;5;124mpost\u001b[39m\u001b[38;5;124m\"\u001b[39m, url\u001b[38;5;241m=\u001b[39mpath, json_data\u001b[38;5;241m=\u001b[39mbody, files\u001b[38;5;241m=\u001b[39mto_httpx_files(files), \u001b[38;5;241m*\u001b[39m\u001b[38;5;241m*\u001b[39moptions\n\u001b[1;32m   1248\u001b[0m     )\n\u001b[0;32m-> 1249\u001b[0m     \u001b[38;5;28;01mreturn\u001b[39;00m cast(ResponseT, \u001b[38;5;28;43mself\u001b[39;49m\u001b[38;5;241;43m.\u001b[39;49m\u001b[43mrequest\u001b[49m\u001b[43m(\u001b[49m\u001b[43mcast_to\u001b[49m\u001b[43m,\u001b[49m\u001b[43m \u001b[49m\u001b[43mopts\u001b[49m\u001b[43m,\u001b[49m\u001b[43m \u001b[49m\u001b[43mstream\u001b[49m\u001b[38;5;241;43m=\u001b[39;49m\u001b[43mstream\u001b[49m\u001b[43m,\u001b[49m\u001b[43m \u001b[49m\u001b[43mstream_cls\u001b[49m\u001b[38;5;241;43m=\u001b[39;49m\u001b[43mstream_cls\u001b[49m\u001b[43m)\u001b[49m)\n",
      "File \u001b[0;32m~/anaconda3/lib/python3.9/site-packages/anthropic/_base_client.py:931\u001b[0m, in \u001b[0;36mSyncAPIClient.request\u001b[0;34m(self, cast_to, options, remaining_retries, stream, stream_cls)\u001b[0m\n\u001b[1;32m    922\u001b[0m \u001b[38;5;28;01mdef\u001b[39;00m \u001b[38;5;21mrequest\u001b[39m(\n\u001b[1;32m    923\u001b[0m     \u001b[38;5;28mself\u001b[39m,\n\u001b[1;32m    924\u001b[0m     cast_to: Type[ResponseT],\n\u001b[0;32m   (...)\u001b[0m\n\u001b[1;32m    929\u001b[0m     stream_cls: \u001b[38;5;28mtype\u001b[39m[_StreamT] \u001b[38;5;241m|\u001b[39m \u001b[38;5;28;01mNone\u001b[39;00m \u001b[38;5;241m=\u001b[39m \u001b[38;5;28;01mNone\u001b[39;00m,\n\u001b[1;32m    930\u001b[0m ) \u001b[38;5;241m-\u001b[39m\u001b[38;5;241m>\u001b[39m ResponseT \u001b[38;5;241m|\u001b[39m _StreamT:\n\u001b[0;32m--> 931\u001b[0m     \u001b[38;5;28;01mreturn\u001b[39;00m \u001b[38;5;28;43mself\u001b[39;49m\u001b[38;5;241;43m.\u001b[39;49m\u001b[43m_request\u001b[49m\u001b[43m(\u001b[49m\n\u001b[1;32m    932\u001b[0m \u001b[43m        \u001b[49m\u001b[43mcast_to\u001b[49m\u001b[38;5;241;43m=\u001b[39;49m\u001b[43mcast_to\u001b[49m\u001b[43m,\u001b[49m\n\u001b[1;32m    933\u001b[0m \u001b[43m        \u001b[49m\u001b[43moptions\u001b[49m\u001b[38;5;241;43m=\u001b[39;49m\u001b[43moptions\u001b[49m\u001b[43m,\u001b[49m\n\u001b[1;32m    934\u001b[0m \u001b[43m        \u001b[49m\u001b[43mstream\u001b[49m\u001b[38;5;241;43m=\u001b[39;49m\u001b[43mstream\u001b[49m\u001b[43m,\u001b[49m\n\u001b[1;32m    935\u001b[0m \u001b[43m        \u001b[49m\u001b[43mstream_cls\u001b[49m\u001b[38;5;241;43m=\u001b[39;49m\u001b[43mstream_cls\u001b[49m\u001b[43m,\u001b[49m\n\u001b[1;32m    936\u001b[0m \u001b[43m        \u001b[49m\u001b[43mremaining_retries\u001b[49m\u001b[38;5;241;43m=\u001b[39;49m\u001b[43mremaining_retries\u001b[49m\u001b[43m,\u001b[49m\n\u001b[1;32m    937\u001b[0m \u001b[43m    \u001b[49m\u001b[43m)\u001b[49m\n",
      "File \u001b[0;32m~/anaconda3/lib/python3.9/site-packages/anthropic/_base_client.py:1014\u001b[0m, in \u001b[0;36mSyncAPIClient._request\u001b[0;34m(self, cast_to, options, remaining_retries, stream, stream_cls)\u001b[0m\n\u001b[1;32m   1012\u001b[0m \u001b[38;5;28;01mif\u001b[39;00m retries \u001b[38;5;241m>\u001b[39m \u001b[38;5;241m0\u001b[39m \u001b[38;5;129;01mand\u001b[39;00m \u001b[38;5;28mself\u001b[39m\u001b[38;5;241m.\u001b[39m_should_retry(err\u001b[38;5;241m.\u001b[39mresponse):\n\u001b[1;32m   1013\u001b[0m     err\u001b[38;5;241m.\u001b[39mresponse\u001b[38;5;241m.\u001b[39mclose()\n\u001b[0;32m-> 1014\u001b[0m     \u001b[38;5;28;01mreturn\u001b[39;00m \u001b[38;5;28;43mself\u001b[39;49m\u001b[38;5;241;43m.\u001b[39;49m\u001b[43m_retry_request\u001b[49m\u001b[43m(\u001b[49m\n\u001b[1;32m   1015\u001b[0m \u001b[43m        \u001b[49m\u001b[43moptions\u001b[49m\u001b[43m,\u001b[49m\n\u001b[1;32m   1016\u001b[0m \u001b[43m        \u001b[49m\u001b[43mcast_to\u001b[49m\u001b[43m,\u001b[49m\n\u001b[1;32m   1017\u001b[0m \u001b[43m        \u001b[49m\u001b[43mretries\u001b[49m\u001b[43m,\u001b[49m\n\u001b[1;32m   1018\u001b[0m \u001b[43m        \u001b[49m\u001b[43merr\u001b[49m\u001b[38;5;241;43m.\u001b[39;49m\u001b[43mresponse\u001b[49m\u001b[38;5;241;43m.\u001b[39;49m\u001b[43mheaders\u001b[49m\u001b[43m,\u001b[49m\n\u001b[1;32m   1019\u001b[0m \u001b[43m        \u001b[49m\u001b[43mstream\u001b[49m\u001b[38;5;241;43m=\u001b[39;49m\u001b[43mstream\u001b[49m\u001b[43m,\u001b[49m\n\u001b[1;32m   1020\u001b[0m \u001b[43m        \u001b[49m\u001b[43mstream_cls\u001b[49m\u001b[38;5;241;43m=\u001b[39;49m\u001b[43mstream_cls\u001b[49m\u001b[43m,\u001b[49m\n\u001b[1;32m   1021\u001b[0m \u001b[43m    \u001b[49m\u001b[43m)\u001b[49m\n\u001b[1;32m   1023\u001b[0m \u001b[38;5;66;03m# If the response is streamed then we need to explicitly read the response\u001b[39;00m\n\u001b[1;32m   1024\u001b[0m \u001b[38;5;66;03m# to completion before attempting to access the response text.\u001b[39;00m\n\u001b[1;32m   1025\u001b[0m \u001b[38;5;28;01mif\u001b[39;00m \u001b[38;5;129;01mnot\u001b[39;00m err\u001b[38;5;241m.\u001b[39mresponse\u001b[38;5;241m.\u001b[39mis_closed:\n",
      "File \u001b[0;32m~/anaconda3/lib/python3.9/site-packages/anthropic/_base_client.py:1062\u001b[0m, in \u001b[0;36mSyncAPIClient._retry_request\u001b[0;34m(self, options, cast_to, remaining_retries, response_headers, stream, stream_cls)\u001b[0m\n\u001b[1;32m   1058\u001b[0m \u001b[38;5;66;03m# In a synchronous context we are blocking the entire thread. Up to the library user to run the client in a\u001b[39;00m\n\u001b[1;32m   1059\u001b[0m \u001b[38;5;66;03m# different thread if necessary.\u001b[39;00m\n\u001b[1;32m   1060\u001b[0m time\u001b[38;5;241m.\u001b[39msleep(timeout)\n\u001b[0;32m-> 1062\u001b[0m \u001b[38;5;28;01mreturn\u001b[39;00m \u001b[38;5;28;43mself\u001b[39;49m\u001b[38;5;241;43m.\u001b[39;49m\u001b[43m_request\u001b[49m\u001b[43m(\u001b[49m\n\u001b[1;32m   1063\u001b[0m \u001b[43m    \u001b[49m\u001b[43moptions\u001b[49m\u001b[38;5;241;43m=\u001b[39;49m\u001b[43moptions\u001b[49m\u001b[43m,\u001b[49m\n\u001b[1;32m   1064\u001b[0m \u001b[43m    \u001b[49m\u001b[43mcast_to\u001b[49m\u001b[38;5;241;43m=\u001b[39;49m\u001b[43mcast_to\u001b[49m\u001b[43m,\u001b[49m\n\u001b[1;32m   1065\u001b[0m \u001b[43m    \u001b[49m\u001b[43mremaining_retries\u001b[49m\u001b[38;5;241;43m=\u001b[39;49m\u001b[43mremaining\u001b[49m\u001b[43m,\u001b[49m\n\u001b[1;32m   1066\u001b[0m \u001b[43m    \u001b[49m\u001b[43mstream\u001b[49m\u001b[38;5;241;43m=\u001b[39;49m\u001b[43mstream\u001b[49m\u001b[43m,\u001b[49m\n\u001b[1;32m   1067\u001b[0m \u001b[43m    \u001b[49m\u001b[43mstream_cls\u001b[49m\u001b[38;5;241;43m=\u001b[39;49m\u001b[43mstream_cls\u001b[49m\u001b[43m,\u001b[49m\n\u001b[1;32m   1068\u001b[0m \u001b[43m\u001b[49m\u001b[43m)\u001b[49m\n",
      "File \u001b[0;32m~/anaconda3/lib/python3.9/site-packages/anthropic/_base_client.py:1014\u001b[0m, in \u001b[0;36mSyncAPIClient._request\u001b[0;34m(self, cast_to, options, remaining_retries, stream, stream_cls)\u001b[0m\n\u001b[1;32m   1012\u001b[0m \u001b[38;5;28;01mif\u001b[39;00m retries \u001b[38;5;241m>\u001b[39m \u001b[38;5;241m0\u001b[39m \u001b[38;5;129;01mand\u001b[39;00m \u001b[38;5;28mself\u001b[39m\u001b[38;5;241m.\u001b[39m_should_retry(err\u001b[38;5;241m.\u001b[39mresponse):\n\u001b[1;32m   1013\u001b[0m     err\u001b[38;5;241m.\u001b[39mresponse\u001b[38;5;241m.\u001b[39mclose()\n\u001b[0;32m-> 1014\u001b[0m     \u001b[38;5;28;01mreturn\u001b[39;00m \u001b[38;5;28;43mself\u001b[39;49m\u001b[38;5;241;43m.\u001b[39;49m\u001b[43m_retry_request\u001b[49m\u001b[43m(\u001b[49m\n\u001b[1;32m   1015\u001b[0m \u001b[43m        \u001b[49m\u001b[43moptions\u001b[49m\u001b[43m,\u001b[49m\n\u001b[1;32m   1016\u001b[0m \u001b[43m        \u001b[49m\u001b[43mcast_to\u001b[49m\u001b[43m,\u001b[49m\n\u001b[1;32m   1017\u001b[0m \u001b[43m        \u001b[49m\u001b[43mretries\u001b[49m\u001b[43m,\u001b[49m\n\u001b[1;32m   1018\u001b[0m \u001b[43m        \u001b[49m\u001b[43merr\u001b[49m\u001b[38;5;241;43m.\u001b[39;49m\u001b[43mresponse\u001b[49m\u001b[38;5;241;43m.\u001b[39;49m\u001b[43mheaders\u001b[49m\u001b[43m,\u001b[49m\n\u001b[1;32m   1019\u001b[0m \u001b[43m        \u001b[49m\u001b[43mstream\u001b[49m\u001b[38;5;241;43m=\u001b[39;49m\u001b[43mstream\u001b[49m\u001b[43m,\u001b[49m\n\u001b[1;32m   1020\u001b[0m \u001b[43m        \u001b[49m\u001b[43mstream_cls\u001b[49m\u001b[38;5;241;43m=\u001b[39;49m\u001b[43mstream_cls\u001b[49m\u001b[43m,\u001b[49m\n\u001b[1;32m   1021\u001b[0m \u001b[43m    \u001b[49m\u001b[43m)\u001b[49m\n\u001b[1;32m   1023\u001b[0m \u001b[38;5;66;03m# If the response is streamed then we need to explicitly read the response\u001b[39;00m\n\u001b[1;32m   1024\u001b[0m \u001b[38;5;66;03m# to completion before attempting to access the response text.\u001b[39;00m\n\u001b[1;32m   1025\u001b[0m \u001b[38;5;28;01mif\u001b[39;00m \u001b[38;5;129;01mnot\u001b[39;00m err\u001b[38;5;241m.\u001b[39mresponse\u001b[38;5;241m.\u001b[39mis_closed:\n",
      "File \u001b[0;32m~/anaconda3/lib/python3.9/site-packages/anthropic/_base_client.py:1062\u001b[0m, in \u001b[0;36mSyncAPIClient._retry_request\u001b[0;34m(self, options, cast_to, remaining_retries, response_headers, stream, stream_cls)\u001b[0m\n\u001b[1;32m   1058\u001b[0m \u001b[38;5;66;03m# In a synchronous context we are blocking the entire thread. Up to the library user to run the client in a\u001b[39;00m\n\u001b[1;32m   1059\u001b[0m \u001b[38;5;66;03m# different thread if necessary.\u001b[39;00m\n\u001b[1;32m   1060\u001b[0m time\u001b[38;5;241m.\u001b[39msleep(timeout)\n\u001b[0;32m-> 1062\u001b[0m \u001b[38;5;28;01mreturn\u001b[39;00m \u001b[38;5;28;43mself\u001b[39;49m\u001b[38;5;241;43m.\u001b[39;49m\u001b[43m_request\u001b[49m\u001b[43m(\u001b[49m\n\u001b[1;32m   1063\u001b[0m \u001b[43m    \u001b[49m\u001b[43moptions\u001b[49m\u001b[38;5;241;43m=\u001b[39;49m\u001b[43moptions\u001b[49m\u001b[43m,\u001b[49m\n\u001b[1;32m   1064\u001b[0m \u001b[43m    \u001b[49m\u001b[43mcast_to\u001b[49m\u001b[38;5;241;43m=\u001b[39;49m\u001b[43mcast_to\u001b[49m\u001b[43m,\u001b[49m\n\u001b[1;32m   1065\u001b[0m \u001b[43m    \u001b[49m\u001b[43mremaining_retries\u001b[49m\u001b[38;5;241;43m=\u001b[39;49m\u001b[43mremaining\u001b[49m\u001b[43m,\u001b[49m\n\u001b[1;32m   1066\u001b[0m \u001b[43m    \u001b[49m\u001b[43mstream\u001b[49m\u001b[38;5;241;43m=\u001b[39;49m\u001b[43mstream\u001b[49m\u001b[43m,\u001b[49m\n\u001b[1;32m   1067\u001b[0m \u001b[43m    \u001b[49m\u001b[43mstream_cls\u001b[49m\u001b[38;5;241;43m=\u001b[39;49m\u001b[43mstream_cls\u001b[49m\u001b[43m,\u001b[49m\n\u001b[1;32m   1068\u001b[0m \u001b[43m\u001b[49m\u001b[43m)\u001b[49m\n",
      "File \u001b[0;32m~/anaconda3/lib/python3.9/site-packages/anthropic/_base_client.py:1029\u001b[0m, in \u001b[0;36mSyncAPIClient._request\u001b[0;34m(self, cast_to, options, remaining_retries, stream, stream_cls)\u001b[0m\n\u001b[1;32m   1026\u001b[0m         err\u001b[38;5;241m.\u001b[39mresponse\u001b[38;5;241m.\u001b[39mread()\n\u001b[1;32m   1028\u001b[0m     log\u001b[38;5;241m.\u001b[39mdebug(\u001b[38;5;124m\"\u001b[39m\u001b[38;5;124mRe-raising status error\u001b[39m\u001b[38;5;124m\"\u001b[39m)\n\u001b[0;32m-> 1029\u001b[0m     \u001b[38;5;28;01mraise\u001b[39;00m \u001b[38;5;28mself\u001b[39m\u001b[38;5;241m.\u001b[39m_make_status_error_from_response(err\u001b[38;5;241m.\u001b[39mresponse) \u001b[38;5;28;01mfrom\u001b[39;00m \u001b[38;5;28;01mNone\u001b[39;00m\n\u001b[1;32m   1031\u001b[0m \u001b[38;5;28;01mreturn\u001b[39;00m \u001b[38;5;28mself\u001b[39m\u001b[38;5;241m.\u001b[39m_process_response(\n\u001b[1;32m   1032\u001b[0m     cast_to\u001b[38;5;241m=\u001b[39mcast_to,\n\u001b[1;32m   1033\u001b[0m     options\u001b[38;5;241m=\u001b[39moptions,\n\u001b[0;32m   (...)\u001b[0m\n\u001b[1;32m   1036\u001b[0m     stream_cls\u001b[38;5;241m=\u001b[39mstream_cls,\n\u001b[1;32m   1037\u001b[0m )\n",
      "\u001b[0;31mRateLimitError\u001b[0m: Error code: 429 - {'type': 'error', 'error': {'type': 'rate_limit_error', 'message': 'Number of request tokens has exceeded your daily rate limit (https://docs.anthropic.com/en/api/rate-limits); see the response headers for current usage. Please reduce the prompt length or the maximum tokens requested, or try again later. You may also contact sales at https://www.anthropic.com/contact-sales to discuss your options for a rate limit increase.'}}"
     ]
    }
   ],
   "source": [
    "print('Number of papers:', len(reviews_with_text))\n",
    "\n",
    "query_pairs = []\n",
    "for i, paper in enumerate(reviews_with_text):\n",
    "    print(i)\n",
    "    query_pairs.append(multi_paper.process_paper(paper))"
   ]
  },
  {
   "cell_type": "code",
   "execution_count": 942,
   "id": "04bf47c3",
   "metadata": {},
   "outputs": [],
   "source": [
    "ref = {\"surnames\": [\"Savage\", \"Spangler\", \"Fischer\"], \"year\": \"2013\", \"collab\": None}"
   ]
  },
  {
   "cell_type": "code",
   "execution_count": 943,
   "id": "171caf35",
   "metadata": {},
   "outputs": [
    {
     "name": "stdout",
     "output_type": "stream",
     "text": [
      "first_author:Savage author:Spangler author:Fischer year:2013\n",
      "[{'bibcode': '2013ApJ...765...42S', 'author': ['Savage, Allison H.', 'Spangler, Steven R.', 'Fischer, Patrick D.'], 'identifier': ['10.1088/0004-637X/765/1/42', '2013ApJ...765...42S', 'arXiv:1206.5173', '2012arXiv1206.5173S', '10.48550/arXiv.1206.5173'], 'title': ['Probing the Rosette Nebula Stellar Bubble with Faraday Rotation'], 'year': '2013'}]\n",
      "['10.1088/0004-637X/765/1/42', '2013ApJ...765...42S', 'arXiv:1206.5173', '2012arXiv1206.5173S', '10.48550/arXiv.1206.5173']\n"
     ]
    },
    {
     "data": {
      "text/plain": [
       "'1206.5173'"
      ]
     },
     "execution_count": 943,
     "metadata": {},
     "output_type": "execute_result"
    }
   ],
   "source": [
    "multi_paper.search_arxiv(ref)"
   ]
  },
  {
   "cell_type": "code",
   "execution_count": 952,
   "id": "6dfe3b0b",
   "metadata": {
    "scrolled": true
   },
   "outputs": [
    {
     "name": "stderr",
     "output_type": "stream",
     "text": [
      "49it [00:07,  6.14it/s]"
     ]
    },
    {
     "name": "stdout",
     "output_type": "stream",
     "text": [
      "48 ['0501638', '0509413', '0407037', '0609798', '0306121', '1010.3702']\n"
     ]
    },
    {
     "name": "stderr",
     "output_type": "stream",
     "text": [
      "\r\n",
      "50it [00:16,  2.43it/s]"
     ]
    },
    {
     "name": "stdout",
     "output_type": "stream",
     "text": [
      "49 ['0607560', '0406054', '1701.04640', '1703.09544', '1701.07160', '1708.07292', '0803.1214', '0803.1214']\n"
     ]
    },
    {
     "name": "stderr",
     "output_type": "stream",
     "text": [
      "\r\n",
      "51it [01:04,  2.26s/it]"
     ]
    },
    {
     "name": "stdout",
     "output_type": "stream",
     "text": [
      "50 ['0606242', '1501.03681', '0502543', '1304.0674', '1307.3558', '1204.0009', '0904.0603', '0910.1107']\n",
      "Failed on Dawson 2008\n"
     ]
    },
    {
     "name": "stderr",
     "output_type": "stream",
     "text": [
      "\r\n",
      "52it [01:13,  2.62s/it]"
     ]
    },
    {
     "name": "stdout",
     "output_type": "stream",
     "text": [
      "51 ['1511.05853', '0810.2556', '1105.6097', '1101.1296', '1204.5570', '1105.3073', '1810.12158', '1207.4837', '1105.4605']\n"
     ]
    },
    {
     "name": "stderr",
     "output_type": "stream",
     "text": [
      "\r\n",
      "53it [01:30,  3.59s/it]"
     ]
    },
    {
     "name": "stdout",
     "output_type": "stream",
     "text": [
      "52 ['1211.2803', '1201.3635', '0510310', '2007.06580', '1405.4040', '1312.4970', '1401.5471', '1210.3346']\n"
     ]
    },
    {
     "name": "stderr",
     "output_type": "stream",
     "text": [
      "\r\n",
      "54it [01:35,  3.69s/it]"
     ]
    },
    {
     "name": "stdout",
     "output_type": "stream",
     "text": [
      "53 ['1102.1748']\n",
      "Failed on Popov 2010\n"
     ]
    },
    {
     "name": "stderr",
     "output_type": "stream",
     "text": [
      "\r\n",
      "55it [01:47,  4.64s/it]"
     ]
    },
    {
     "name": "stdout",
     "output_type": "stream",
     "text": [
      "54 ['1505.05893', '1808.03710', '1404.2934', '1604.03909', '1405.5945', '1611.00458', '1810.04354', '1711.08110']\n"
     ]
    },
    {
     "name": "stderr",
     "output_type": "stream",
     "text": [
      "\r\n",
      "56it [02:01,  6.02s/it]"
     ]
    },
    {
     "name": "stdout",
     "output_type": "stream",
     "text": [
      "55 ['1610.07263', '1204.1073', '0809.0311', '0911.2032', '0204175', '1507.06998', '1202.6063', '0406304', '1110.4866', '2103.15707', '1904.12048', '1503.05561', '1605.01730']\n"
     ]
    },
    {
     "name": "stderr",
     "output_type": "stream",
     "text": [
      "\r\n",
      "57it [02:12,  6.76s/it]"
     ]
    },
    {
     "name": "stdout",
     "output_type": "stream",
     "text": [
      "56 ['0803.1924', '1106.0496', '1011.0426', '1011.0430', '0003465', '0710.2697', '1710.03002', '1710.10271', '0202204']\n"
     ]
    },
    {
     "name": "stderr",
     "output_type": "stream",
     "text": [
      "\r\n",
      "58it [02:18,  6.62s/it]"
     ]
    },
    {
     "name": "stdout",
     "output_type": "stream",
     "text": [
      "57 ['1307.8115', '1709.00763', '1209.0625', '1610.02401', '1701.03094', '2007.15742']\n"
     ]
    },
    {
     "name": "stderr",
     "output_type": "stream",
     "text": [
      "\r\n",
      "59it [02:30,  7.91s/it]"
     ]
    },
    {
     "name": "stdout",
     "output_type": "stream",
     "text": [
      "58 ['1402.1237', '0908.0700', '1602.03837', '1505.06712', '1805.09640', '1305.2099', '1809.04605', '1209.0455', '1206.5443', '1112.0944']\n"
     ]
    },
    {
     "name": "stderr",
     "output_type": "stream",
     "text": [
      "\r\n",
      "60it [02:34,  6.94s/it]"
     ]
    },
    {
     "name": "stdout",
     "output_type": "stream",
     "text": [
      "59 ['1407.5062']\n"
     ]
    },
    {
     "name": "stderr",
     "output_type": "stream",
     "text": [
      "\r\n",
      "61it [02:49,  9.04s/it]"
     ]
    },
    {
     "name": "stdout",
     "output_type": "stream",
     "text": [
      "60 ['0807.1134', '0906.2536', '0907.1389', '0906.3704', '0111384', '1002.3469', '0204034']\n",
      "Failed on Boogert 2015\n"
     ]
    },
    {
     "name": "stderr",
     "output_type": "stream",
     "text": [
      "\r\n",
      "62it [02:54,  7.81s/it]"
     ]
    },
    {
     "name": "stdout",
     "output_type": "stream",
     "text": [
      "61 ['0301488', '0608003', '0809.2094', '1309.6489', '0304489', '0211342']\n",
      "62 []\n"
     ]
    },
    {
     "name": "stderr",
     "output_type": "stream",
     "text": [
      "\r\n",
      "64it [02:56,  5.01s/it]"
     ]
    },
    {
     "name": "stdout",
     "output_type": "stream",
     "text": [
      "63 ['2007.06488']\n"
     ]
    },
    {
     "name": "stderr",
     "output_type": "stream",
     "text": [
      "\r\n",
      "65it [03:05,  6.00s/it]"
     ]
    },
    {
     "name": "stdout",
     "output_type": "stream",
     "text": [
      "64 ['1510.06960', '1201.2052', '0904.1938', '1511.08425', '1602.03056', '1601.00004', '1308.2914', '1612.08453', '1805.00802']\n"
     ]
    },
    {
     "name": "stderr",
     "output_type": "stream",
     "text": [
      "\r\n",
      "66it [03:08,  5.23s/it]"
     ]
    },
    {
     "name": "stdout",
     "output_type": "stream",
     "text": [
      "65 []\n",
      "Failed on Blazek 2017\n",
      "Failed on Troxel 2017\n"
     ]
    },
    {
     "name": "stderr",
     "output_type": "stream",
     "text": [
      "\r\n",
      "67it [03:23,  7.65s/it]"
     ]
    },
    {
     "name": "stdout",
     "output_type": "stream",
     "text": [
      "66 ['1501.07897', '1503.03757', '1406.1506', '1510.03962', '0003014', '0101213', '0003008', '1707.01072', '0609591', '1606.05338', '1609.09085', '1110.3193', '1704.05858', '1507.05598']\n"
     ]
    },
    {
     "name": "stderr",
     "output_type": "stream",
     "text": [
      "\r\n",
      "68it [03:47, 12.12s/it]"
     ]
    },
    {
     "name": "stdout",
     "output_type": "stream",
     "text": [
      "67 ['1710.05863', '1710.05856', '1710.05444', '1710.05455', '1710.05459', '1710.06426', '1710.05431', '1903.08173', '1806.10596', '1903.06712', '1710.05854', '1710.05864', '1710.05457', '1710.05446', '1710.05843', '1805.11829', '1710.05461', '1710.05437', '1710.05452', '1710.05433', '1710.05435', '1710.05449']\n"
     ]
    },
    {
     "name": "stderr",
     "output_type": "stream",
     "text": [
      "\r\n",
      "69it [04:12, 15.74s/it]"
     ]
    },
    {
     "name": "stdout",
     "output_type": "stream",
     "text": [
      "68 ['1307.2259', '1306.2314', '0003365', '1208.4417', '1102.1891', '1104.0712', '0604358', '0411072', '0501562', '1310.2253', '0407372']\n"
     ]
    },
    {
     "name": "stderr",
     "output_type": "stream",
     "text": [
      "\r\n",
      "70it [04:16, 12.60s/it]"
     ]
    },
    {
     "name": "stdout",
     "output_type": "stream",
     "text": [
      "69 ['1502.06296', '1504.00142', '1106.0931', '0301558', '1510.04664', '1206.5173']\n"
     ]
    },
    {
     "name": "stderr",
     "output_type": "stream",
     "text": [
      "\r\n",
      "71it [04:24, 11.01s/it]"
     ]
    },
    {
     "name": "stdout",
     "output_type": "stream",
     "text": [
      "70 ['1802.08213', '0308272', '0908.3017', '1502.01027', '0602038', '0311060', '1405.2041', '1607.05289', '1504.07010', '1403.0007', '0705.0973', '0403293']\n"
     ]
    },
    {
     "name": "stderr",
     "output_type": "stream",
     "text": [
      "\r\n",
      "72it [04:38, 12.02s/it]"
     ]
    },
    {
     "name": "stdout",
     "output_type": "stream",
     "text": [
      "71 ['0309134', '0311060']\n"
     ]
    },
    {
     "name": "stderr",
     "output_type": "stream",
     "text": [
      "\r\n",
      "73it [04:43,  9.88s/it]"
     ]
    },
    {
     "name": "stdout",
     "output_type": "stream",
     "text": [
      "72 ['0003421', '0802.2033', '0706.1713', '0706.1713']\n"
     ]
    },
    {
     "name": "stderr",
     "output_type": "stream",
     "text": [
      "\r\n",
      "74it [04:47,  8.09s/it]"
     ]
    },
    {
     "name": "stdout",
     "output_type": "stream",
     "text": [
      "73 ['0405052', '1210.1209']\n"
     ]
    },
    {
     "name": "stderr",
     "output_type": "stream",
     "text": [
      "\r\n",
      "75it [05:03, 10.55s/it]"
     ]
    },
    {
     "name": "stdout",
     "output_type": "stream",
     "text": [
      "74 ['0910.0059', '1611.09353', '1702.05494', '1609.08145', '1701.02596', '0709.0302', '1211.2003', '1208.3217', '1204.1891', '0112051', '1803.01875', '1001.1156', '1710.05843', '1103.5165', '0612408', '0612617']\n",
      "Failed on Cawthon 2020\n",
      "Failed on Stölzner 2020\n"
     ]
    },
    {
     "name": "stderr",
     "output_type": "stream",
     "text": [
      "\r\n",
      "76it [05:10,  9.58s/it]"
     ]
    },
    {
     "name": "stdout",
     "output_type": "stream",
     "text": [
      "75 ['2001.03621', '0609591', '2104.06774', '1805.12574', '1704.05988']\n"
     ]
    },
    {
     "name": "stderr",
     "output_type": "stream",
     "text": [
      "\r\n",
      "77it [05:15,  8.05s/it]"
     ]
    },
    {
     "name": "stdout",
     "output_type": "stream",
     "text": [
      "76 ['0606352', '0708.0148']\n",
      "Failed on Schultheis 2017\n"
     ]
    },
    {
     "name": "stderr",
     "output_type": "stream",
     "text": [
      "\r\n",
      "78it [05:30, 10.23s/it]"
     ]
    },
    {
     "name": "stdout",
     "output_type": "stream",
     "text": [
      "77 ['1302.1613', '1212.2317', '1308.0593', '1007.5065', '1008.0519', '0502316', '1301.0638']\n"
     ]
    },
    {
     "name": "stderr",
     "output_type": "stream",
     "text": [
      "\r\n",
      "79it [05:35,  8.48s/it]"
     ]
    },
    {
     "name": "stdout",
     "output_type": "stream",
     "text": [
      "78 ['0005557', '1201.4483', '0111385']\n"
     ]
    },
    {
     "name": "stderr",
     "output_type": "stream",
     "text": [
      "\r\n",
      "80it [05:42,  8.29s/it]"
     ]
    },
    {
     "name": "stdout",
     "output_type": "stream",
     "text": [
      "79 ['1511.05985', '1612.06309', '1609.07283', '1704.03465', '1703.04027', '1609.07416', '1708.01949', '1804.06394', '1612.07355']\n",
      "80 []\n",
      "Failed on Wasserstein 2016\n"
     ]
    },
    {
     "name": "stderr",
     "output_type": "stream",
     "text": [
      "\r\n",
      "82it [05:45,  5.16s/it]"
     ]
    },
    {
     "name": "stdout",
     "output_type": "stream",
     "text": [
      "81 []\n"
     ]
    },
    {
     "name": "stderr",
     "output_type": "stream",
     "text": [
      "\r\n",
      "83it [05:54,  5.93s/it]"
     ]
    },
    {
     "name": "stdout",
     "output_type": "stream",
     "text": [
      "82 ['0112251', '0301219', '0201098', '0308547']\n"
     ]
    },
    {
     "name": "stderr",
     "output_type": "stream",
     "text": [
      "\r\n",
      "84it [05:59,  5.70s/it]"
     ]
    },
    {
     "name": "stdout",
     "output_type": "stream",
     "text": [
      "83 ['9903384']\n"
     ]
    },
    {
     "name": "stderr",
     "output_type": "stream",
     "text": [
      "\r\n",
      "85it [06:03,  5.25s/it]"
     ]
    },
    {
     "name": "stdout",
     "output_type": "stream",
     "text": [
      "84 ['1511.02313', '0912.0953', '1202.4001']\n"
     ]
    },
    {
     "name": "stderr",
     "output_type": "stream",
     "text": [
      "\r\n",
      "86it [06:17,  7.69s/it]"
     ]
    },
    {
     "name": "stdout",
     "output_type": "stream",
     "text": [
      "85 ['1005.4037', '1410.4199', '1409.1904', '1703.01424', '1501.03798', '1608.00620', '9911436']\n"
     ]
    },
    {
     "name": "stderr",
     "output_type": "stream",
     "text": [
      "\r\n",
      "87it [06:30,  9.24s/it]"
     ]
    },
    {
     "name": "stdout",
     "output_type": "stream",
     "text": [
      "86 []\n",
      "Failed on Aghanim 2020\n",
      "Failed on Weiner 2019\n"
     ]
    },
    {
     "name": "stderr",
     "output_type": "stream",
     "text": [
      "\r\n",
      "88it [06:47, 11.62s/it]"
     ]
    },
    {
     "name": "stdout",
     "output_type": "stream",
     "text": [
      "87 ['1801.05235', '1212.5225', '0608407', '1603.00464', '0003365', '2004.09487', '0306515']\n"
     ]
    },
    {
     "name": "stderr",
     "output_type": "stream",
     "text": [
      "\r\n",
      "89it [07:04, 13.17s/it]"
     ]
    },
    {
     "name": "stdout",
     "output_type": "stream",
     "text": [
      "88 ['1510.00977', '1801.05983', '1811.00461', '1410.5660', '1404.0670', '1501.06708']\n",
      "Failed on Nidever 2010\n"
     ]
    },
    {
     "name": "stderr",
     "output_type": "stream",
     "text": [
      "\r\n",
      "90it [07:08, 10.30s/it]"
     ]
    },
    {
     "name": "stdout",
     "output_type": "stream",
     "text": [
      "89 []\n"
     ]
    },
    {
     "name": "stderr",
     "output_type": "stream",
     "text": [
      "91it [07:15,  4.79s/it]"
     ]
    },
    {
     "name": "stdout",
     "output_type": "stream",
     "text": [
      "90 ['0011465', '1001.2965', '1301.0540', '0608471', '0805.0691', '0811.0163', '0411447', '0603444', '1110.4638']\n"
     ]
    },
    {
     "name": "stderr",
     "output_type": "stream",
     "text": [
      "\n"
     ]
    }
   ],
   "source": [
    "for j, paper in tqdm(enumerate(query_pairs)):\n",
    "    if j > 47:\n",
    "        multi_paper.arxiv_link(query_pairs[j])\n",
    "        print(j, query_pairs[j][0]['arxiv'])"
   ]
  },
  {
   "cell_type": "code",
   "execution_count": 877,
   "id": "660c9d61",
   "metadata": {},
   "outputs": [],
   "source": [
    "# van den Bosch, van de Voort, Planck Collab\n",
    "# can't distinguish between multiple identical author lists in the same year. could query volume but that's annoying"
   ]
  },
  {
   "cell_type": "code",
   "execution_count": 957,
   "id": "79c4438b",
   "metadata": {},
   "outputs": [],
   "source": [
    "fname = '../data/multi_paper_examples.json'\n",
    "with open(fname, 'w') as json_file:\n",
    "    for paper in query_pairs:\n",
    "        for entry in paper:\n",
    "            partial_json = json.dumps({k: v for k, v in entry.items() if k not in ['arxiv', 'citations', 'bibs']}, indent = 2)\n",
    "            if 'arxiv' in entry:\n",
    "                arxiv_json = json.dumps(list(entry['arxiv']), separators=(',', ':'))\n",
    "            else:\n",
    "                arxiv_json = \"\"\n",
    "            citations_json = json.dumps(entry['citations'], separators=(',', ':'))\n",
    "            combined_json = partial_json.rstrip('}') + ', \"citations\": ' + citations_json + ',\\n \"arxiv\": ' + arxiv_json + '\\n}'\n",
    "            json_file.write(combined_json)\n",
    "            json_file.write('\\n')"
   ]
  },
  {
   "cell_type": "code",
   "execution_count": 1000,
   "id": "4f954605",
   "metadata": {},
   "outputs": [],
   "source": [
    "query_pairs_formatted = {}\n",
    "for paper in query_pairs:\n",
    "    for i, query in enumerate(paper):\n",
    "        if query['id'] == \"\":\n",
    "            id_str = query['title'].split(' ')[0] + '_' + str(i + 1)\n",
    "        else:\n",
    "            id_str = query['id'].split('_')[0] + '_' + str(i + 1)\n",
    "        query_pairs_formatted[id_str] = {'title':query['title'], 'question':query['question'], \n",
    "                                        'text': query['paragraph'], 'citations':query['citations'],\n",
    "                                        'arxiv': list(query['arxiv'])}"
   ]
  },
  {
   "cell_type": "code",
   "execution_count": 1004,
   "id": "d0901fe5",
   "metadata": {},
   "outputs": [],
   "source": [
    "with open('../data/multi_paper.json', 'w') as f:\n",
    "    json.dump(query_pairs_formatted, f, indent = 2)"
   ]
  },
  {
   "cell_type": "code",
   "execution_count": 1001,
   "id": "6c370dd7",
   "metadata": {},
   "outputs": [
    {
     "data": {
      "text/plain": [
       "273"
      ]
     },
     "execution_count": 1001,
     "metadata": {},
     "output_type": "execute_result"
    }
   ],
   "source": [
    "len(query_pairs_formatted)"
   ]
  },
  {
   "cell_type": "code",
   "execution_count": 960,
   "id": "7b5b9ade",
   "metadata": {},
   "outputs": [],
   "source": [
    "fname = '../data/multi_paper_examples.json'\n",
    "with open(fname, 'w') as json_file:\n",
    "    for paper in query_pairs:\n",
    "        for entry in paper:\n",
    "            partial_json = json.dumps({k: v for k, v in entry.items() if k not in ['arxiv', 'citations', 'bibs']}, indent = 2)\n",
    "            if 'arxiv' in entry:\n",
    "                arxiv_json = json.dumps(list(entry['arxiv']), separators=(',', ':'))\n",
    "            else:\n",
    "                arxiv_json = \"\"\n",
    "            citations_json = json.dumps(entry['citations'], separators=(',', ':'))\n",
    "            combined_json = partial_json.rstrip('}') + ', \"citations\": ' + citations_json + ',\\n \"arxiv\": ' + arxiv_json + '\\n}'\n",
    "            json_file.write(combined_json)\n",
    "            json_file.write('\\n')"
   ]
  },
  {
   "cell_type": "code",
   "execution_count": 473,
   "id": "6bd42051",
   "metadata": {},
   "outputs": [],
   "source": [
    "def link_to_arxiv(review, citations):\n",
    "    cited_refs = []\n",
    "    for citation in set(citations):\n",
    "        for ref in review['fullbib']:\n",
    "            if ref['year'] == citation[-1]:\n",
    "                if set(citation[:-1]).issubset(ref['surnames']) or citation[0] == ref['collab']:\n",
    "                    cited_refs.append(ref)\n",
    "    \n",
    "    return cited_refs"
   ]
  },
  {
   "cell_type": "code",
   "execution_count": 743,
   "id": "001260eb",
   "metadata": {
    "scrolled": true
   },
   "outputs": [],
   "source": [
    "cited_refs = multi_paper.link_to_bib(reviews_with_text[0], citations)"
   ]
  },
  {
   "cell_type": "code",
   "execution_count": 744,
   "id": "b7b412c9",
   "metadata": {
    "scrolled": true
   },
   "outputs": [
    {
     "data": {
      "text/plain": [
       "[{'surnames': ['Guedes', 'Callegari', 'Madau', 'Mayer'],\n",
       "  'year': '2011',\n",
       "  'collab': None},\n",
       " {'surnames': ['Dubinski', 'Carlberg'], 'year': '1991', 'collab': None},\n",
       " {'surnames': ['Klypin', 'Trujillo-Gomez', 'Primack'],\n",
       "  'year': '2011',\n",
       "  'collab': None},\n",
       " {'surnames': ['Blumenthal', 'Faber', 'Primack', 'Rees'],\n",
       "  'year': '1984',\n",
       "  'collab': None},\n",
       " {'surnames': ['Hopkins', 'Quataert', 'Murray'],\n",
       "  'year': '2012',\n",
       "  'collab': None},\n",
       " {'surnames': ['Kuhlen', 'Krumholz', 'Madau', 'Smith', 'Wise'],\n",
       "  'year': '2012',\n",
       "  'collab': None},\n",
       " {'surnames': ['Stadel', 'Potter', 'Moore'], 'year': '2009', 'collab': None},\n",
       " {'surnames': ['Di Matteo', 'Springel', 'Hernquist'],\n",
       "  'year': '2005',\n",
       "  'collab': None},\n",
       " {'surnames': ['Springel', 'White', 'Jenkins'],\n",
       "  'year': '2005',\n",
       "  'collab': None},\n",
       " {'surnames': ['Ocvirk', 'Pichon', 'Teyssier'],\n",
       "  'year': '2008',\n",
       "  'collab': None},\n",
       " {'surnames': ['Hernquist', 'Springel'], 'year': '2003', 'collab': None},\n",
       " {'surnames': ['Springel', 'Hernquist'], 'year': '2003', 'collab': None},\n",
       " {'surnames': ['Zemp', 'Gnedin', 'Gnedin', 'Kravtsov'],\n",
       "  'year': '2012',\n",
       "  'collab': None},\n",
       " {'surnames': ['Yepes', 'Kates', 'Khokhlov', 'Klypin'],\n",
       "  'year': '1997',\n",
       "  'collab': None},\n",
       " {'surnames': ['Diemand', 'Kuhlen', 'Madau'], 'year': '2008', 'collab': None},\n",
       " {'surnames': ['Navarro', 'Steinmetz'], 'year': '2000', 'collab': None},\n",
       " {'surnames': ['Cole', 'Lacey', 'Baugh', 'Frenk'],\n",
       "  'year': '2000',\n",
       "  'collab': None},\n",
       " {'surnames': ['White', 'Rees'], 'year': '1978', 'collab': None},\n",
       " {'surnames': ['Agertz', 'Kravtsov', 'Leitner', 'Gnedin'],\n",
       "  'year': '2013',\n",
       "  'collab': None},\n",
       " {'surnames': ['Somerville', 'Primack'], 'year': '1999', 'collab': None},\n",
       " {'surnames': ['Peebles'], 'year': '1982', 'collab': None},\n",
       " {'surnames': ['Kauffmann', 'White', 'Guiderdoni'],\n",
       "  'year': '1993',\n",
       "  'collab': None},\n",
       " {'surnames': ['White', 'Frenk'], 'year': '1991', 'collab': None},\n",
       " {'surnames': ['Davis', 'Efstathiou', 'Frenk', 'White'],\n",
       "  'year': '1985',\n",
       "  'collab': None},\n",
       " {'surnames': ['Moore', 'Ghigna', 'Governato'],\n",
       "  'year': '1999',\n",
       "  'collab': None},\n",
       " {'surnames': ['Keres', 'Katz', 'Weinberg', 'Dave'],\n",
       "  'year': '2005',\n",
       "  'collab': None},\n",
       " {'surnames': ['Katz', 'Weinberg', 'Hernquist'],\n",
       "  'year': '1996',\n",
       "  'collab': None},\n",
       " {'surnames': ['Governato', 'Brook', 'Mayer'], 'year': '2010', 'collab': None}]"
      ]
     },
     "execution_count": 744,
     "metadata": {},
     "output_type": "execute_result"
    }
   ],
   "source": [
    "cited_refs"
   ]
  },
  {
   "cell_type": "code",
   "execution_count": null,
   "id": "e5906595",
   "metadata": {},
   "outputs": [],
   "source": [
    "len(query_pairs)"
   ]
  },
  {
   "cell_type": "code",
   "execution_count": 350,
   "id": "88dacac3",
   "metadata": {},
   "outputs": [],
   "source": [
    "import arxiv\n",
    "arxiv_client = arxiv.Client()"
   ]
  },
  {
   "cell_type": "code",
   "execution_count": 686,
   "id": "140cee4b",
   "metadata": {},
   "outputs": [],
   "source": [
    "def search_arxiv(ref):\n",
    "    #print(ref)\n",
    "    query = \"\"\n",
    "    for i, surname in enumerate(ref['surnames']):\n",
    "        if '-' not in surname: query += \"au:\"\n",
    "        query += surname.replace(\"'\",\"\")\n",
    "        \n",
    "        if i != len(ref['surnames']) - 1: query += \" AND \"\n",
    "    #query += ref['year'] doesn't work super well\n",
    "    search = arxiv.Search(query = query, max_results = 10)\n",
    "    results = arxiv_client.results(search)\n",
    "    \n",
    "    for r in results:\n",
    "        \n",
    "        valid = True\n",
    "        if r.published.year > int(ref['year']) + 2 or r.published.year < int(ref['year']) - 2:\n",
    "            continue\n",
    "        for i, surname in enumerate(ref['surnames']):\n",
    "            if surname not in r.authors[i].name:\n",
    "                valid = False\n",
    "                break\n",
    "        if valid: return r.entry_id.split('/')[-1]\n",
    "    return None"
   ]
  },
  {
   "cell_type": "code",
   "execution_count": 687,
   "id": "23e51a1a",
   "metadata": {
    "scrolled": true
   },
   "outputs": [
    {
     "data": {
      "text/plain": [
       "{'surnames': ['Amaro-Seoane', 'Gair', 'Pound', 'Hughes', 'Sopuerta'],\n",
       " 'given_names': ['P', 'JR', 'A', 'SA', 'CF'],\n",
       " 'year': '2015',\n",
       " 'source': 'J. Phys. Conf. Ser.',\n",
       " 'collab': None}"
      ]
     },
     "execution_count": 687,
     "metadata": {},
     "output_type": "execute_result"
    }
   ],
   "source": [
    "cited_refs[5]"
   ]
  },
  {
   "cell_type": "code",
   "execution_count": 688,
   "id": "9bd9fb09",
   "metadata": {},
   "outputs": [
    {
     "data": {
      "text/plain": [
       "'http://arxiv.org/abs/1307.6556v1'"
      ]
     },
     "execution_count": 688,
     "metadata": {},
     "output_type": "execute_result"
    }
   ],
   "source": [
    "search_arxiv(cited_refs[2])"
   ]
  },
  {
   "cell_type": "code",
   "execution_count": 674,
   "id": "9701e10a",
   "metadata": {},
   "outputs": [
    {
     "name": "stdout",
     "output_type": "stream",
     "text": [
      "http://arxiv.org/abs/1410.0958v1\n"
     ]
    }
   ],
   "source": [
    "for r in arxiv_client.results(arxiv.Search(query=\"Amaro-Seoane AND au:Gair AND au:Pound AND au:Hughes AND au:Sopuerta\")):\n",
    "    print(r)"
   ]
  },
  {
   "cell_type": "code",
   "execution_count": null,
   "id": "7e2c2b2d",
   "metadata": {},
   "outputs": [],
   "source": [
    "# special characters \n",
    "# dashes"
   ]
  },
  {
   "cell_type": "code",
   "execution_count": 15,
   "id": "146395d7",
   "metadata": {},
   "outputs": [
    {
     "name": "stdout",
     "output_type": "stream",
     "text": [
      "test\n"
     ]
    }
   ],
   "source": [
    "import multi_paper"
   ]
  },
  {
   "cell_type": "code",
   "execution_count": 54,
   "id": "11b09728",
   "metadata": {},
   "outputs": [],
   "source": [
    "reviews = multi_paper.load_araa(from_file = True)"
   ]
  },
  {
   "cell_type": "code",
   "execution_count": 55,
   "id": "d62bfd26",
   "metadata": {},
   "outputs": [
    {
     "name": "stderr",
     "output_type": "stream",
     "text": [
      "  0%|          | 0/19 [00:00<?, ?it/s]/Users/christineye/anaconda3/envs/jsalt-retrieval/lib/python3.10/site-packages/markdownify/__init__.py:96: MarkupResemblesLocatorWarning: The input looks more like a filename than markup. You may want to open this file and pass the filehandle into Beautiful Soup.\n",
      "  soup = BeautifulSoup(html, 'html.parser')\n",
      "100%|██████████| 19/19 [20:46<00:00, 65.59s/it]\n"
     ]
    }
   ],
   "source": [
    "reviews_with_text = multi_paper.scrape_all_papers(reviews, from_web = True)"
   ]
  },
  {
   "cell_type": "code",
   "execution_count": 56,
   "id": "52e21089",
   "metadata": {},
   "outputs": [],
   "source": [
    "with open('./multi_data/araa_papers.json', 'w', encoding='utf-8') as file:\n",
    "    for item in reviews_with_text:\n",
    "        json.dump(item, file)\n",
    "        file.write('\\n')"
   ]
  },
  {
   "cell_type": "code",
   "execution_count": 1080,
   "id": "1e13bf43",
   "metadata": {},
   "outputs": [],
   "source": [
    "best_sentences = multi_paper.get_best_sentences_from_paper(reviews_with_text[0]['text'], mode = \"threshold\", k = 5)"
   ]
  },
  {
   "cell_type": "code",
   "execution_count": 1078,
   "id": "32b6c2d6",
   "metadata": {},
   "outputs": [
    {
     "data": {
      "text/plain": [
       "('The “dark side” of galaxy formation can be modeled with high accuracy and has been explored in detail through N-body numerical simulations of increasing resolution and size (,    , 2008   ).',\n",
       " [('Stadel', '2009'),\n",
       "  ('Dubinski', 'Carlberg', '1991'),\n",
       "  ('Klypin', '2011'),\n",
       "  ('Diemand', '2008'),\n",
       "  ('Davis', '1985'),\n",
       "  ('Moore', '1999'),\n",
       "  ('Springel', '2005')])"
      ]
     },
     "execution_count": 1078,
     "metadata": {},
     "output_type": "execute_result"
    }
   ],
   "source": [
    "best_sentences[0]"
   ]
  },
  {
   "cell_type": "code",
   "execution_count": 1084,
   "id": "a2364c85",
   "metadata": {},
   "outputs": [
    {
     "data": {
      "text/plain": [
       "[{'title': 'Cosmic Star-Formation History',\n",
       "  'id': '1403.0007',\n",
       "  'question': 'Research question: How do parameter uncertainties and degeneracies in semianalytic models and subgrid implementations of galaxy formation affect the predictive power of these approaches?',\n",
       "  'paragraph': ('The purely phenomenological treatment of complex physical processes that is at the core of semianalytic schemes of galaxy formation (  ) and—at a much higher level of realism—the “subgrid modeling” of star formation and stellar feedback that must be implemented even in the more accurate cosmological hydrodynamic simulations (      ) are sensitive to poorly determined parameters and suffer from various degeneracies, a weakness that has traditionally prevented robust predictions to be made in advance of specific observations.',\n",
       "   [('Ocvirk', '2008'),\n",
       "    ('White', 'Frenk', '1991'),\n",
       "    ('Agertz', '2013'),\n",
       "    ('Keres', '2005'),\n",
       "    ('Katz', '1996'),\n",
       "    ('Springel', 'Hernquist', '2003'),\n",
       "    ('Governato', '2010'),\n",
       "    ('Guedes', '2011'),\n",
       "    ('Kauffmann', '1993'),\n",
       "    ('Zemp', '2012'),\n",
       "    ('Yepes', '1997'),\n",
       "    ('Hopkins', '2012'),\n",
       "    ('Kuhlen', '2012'),\n",
       "    ('Cole', '2000'),\n",
       "    ('Somerville', 'Primack', '1999'),\n",
       "    ('Navarro', 'Steinmetz', '2000')]),\n",
       "  'citations': [('Ocvirk', '2008'),\n",
       "   ('White', 'Frenk', '1991'),\n",
       "   ('Agertz', '2013'),\n",
       "   ('Keres', '2005'),\n",
       "   ('Katz', '1996'),\n",
       "   ('Springel', 'Hernquist', '2003'),\n",
       "   ('Governato', '2010'),\n",
       "   ('Guedes', '2011'),\n",
       "   ('Kauffmann', '1993'),\n",
       "   ('Zemp', '2012'),\n",
       "   ('Yepes', '1997'),\n",
       "   ('Hopkins', '2012'),\n",
       "   ('Kuhlen', '2012'),\n",
       "   ('Cole', '2000'),\n",
       "   ('Somerville', 'Primack', '1999'),\n",
       "   ('Navarro', 'Steinmetz', '2000')],\n",
       "  'bibs': [{'surnames': ['Ocvirk', 'Pichon', 'Teyssier'],\n",
       "    'year': '2008',\n",
       "    'collab': None},\n",
       "   {'surnames': ['White', 'Frenk'], 'year': '1991', 'collab': None},\n",
       "   {'surnames': ['Agertz', 'Kravtsov', 'Leitner', 'Gnedin'],\n",
       "    'year': '2013',\n",
       "    'collab': None},\n",
       "   {'surnames': ['Keres', 'Katz', 'Weinberg', 'Dave'],\n",
       "    'year': '2005',\n",
       "    'collab': None},\n",
       "   {'surnames': ['Katz', 'Weinberg', 'Hernquist'],\n",
       "    'year': '1996',\n",
       "    'collab': None},\n",
       "   {'surnames': ['Hernquist', 'Springel'], 'year': '2003', 'collab': None},\n",
       "   {'surnames': ['Springel', 'Hernquist'], 'year': '2003', 'collab': None},\n",
       "   {'surnames': ['Governato', 'Brook', 'Mayer'],\n",
       "    'year': '2010',\n",
       "    'collab': None},\n",
       "   {'surnames': ['Guedes', 'Callegari', 'Madau', 'Mayer'],\n",
       "    'year': '2011',\n",
       "    'collab': None},\n",
       "   {'surnames': ['Kauffmann', 'White', 'Guiderdoni'],\n",
       "    'year': '1993',\n",
       "    'collab': None},\n",
       "   {'surnames': ['Zemp', 'Gnedin', 'Gnedin', 'Kravtsov'],\n",
       "    'year': '2012',\n",
       "    'collab': None},\n",
       "   {'surnames': ['Yepes', 'Kates', 'Khokhlov', 'Klypin'],\n",
       "    'year': '1997',\n",
       "    'collab': None},\n",
       "   {'surnames': ['Hopkins', 'Quataert', 'Murray'],\n",
       "    'year': '2012',\n",
       "    'collab': None},\n",
       "   {'surnames': ['Kuhlen', 'Krumholz', 'Madau', 'Smith', 'Wise'],\n",
       "    'year': '2012',\n",
       "    'collab': None},\n",
       "   {'surnames': ['Cole', 'Lacey', 'Baugh', 'Frenk'],\n",
       "    'year': '2000',\n",
       "    'collab': None},\n",
       "   {'surnames': ['Somerville', 'Primack'], 'year': '1999', 'collab': None},\n",
       "   {'surnames': ['Navarro', 'Steinmetz'], 'year': '2000', 'collab': None}]},\n",
       " {'title': 'Cosmic Star-Formation History',\n",
       "  'id': '1403.0007',\n",
       "  'question': 'Research question: What are some prominent examples of high-redshift galaxies observed in the early universe, particularly in the redshift range of z=4-7?',\n",
       "  'paragraph': ('Notable examples (not an exhaustive list) include and ) at z = 4 to 6 and a,band ) at z≈7.',\n",
       "   [('Bowler', '2012'),\n",
       "    ('Castellano', '2010'),\n",
       "    ('Yoshida', '2006'),\n",
       "    ('Tilvi', '2013'),\n",
       "    ('McLure', '2009'),\n",
       "    ('Ouchi', '2004'),\n",
       "    ('Ouchi', '2009'),\n",
       "    ('Iwata', '2007')]),\n",
       "  'citations': [('Bowler', '2012'),\n",
       "   ('Castellano', '2010'),\n",
       "   ('Yoshida', '2006'),\n",
       "   ('Tilvi', '2013'),\n",
       "   ('McLure', '2009'),\n",
       "   ('Ouchi', '2004'),\n",
       "   ('Ouchi', '2009'),\n",
       "   ('Iwata', '2007')],\n",
       "  'bibs': [{'surnames': ['Bowler', 'Dunlop', 'McLure'],\n",
       "    'year': '2012',\n",
       "    'collab': None},\n",
       "   {'surnames': ['Yoshida', 'Shimasaku', 'Kashikawa'],\n",
       "    'year': '2006',\n",
       "    'collab': None},\n",
       "   {'surnames': ['Tilvi', 'Papovich', 'Tran'], 'year': '2013', 'collab': None},\n",
       "   {'surnames': ['McLure', 'Cirasuolo', 'Dunlop'],\n",
       "    'year': '2009',\n",
       "    'collab': None},\n",
       "   {'surnames': ['Ouchi', 'Shimasaku', 'Okamura'],\n",
       "    'year': '2004',\n",
       "    'collab': None},\n",
       "   {'surnames': ['Ouchi', 'Mobasher', 'Shimasaku'],\n",
       "    'year': '2009',\n",
       "    'collab': None},\n",
       "   {'surnames': ['Iwata', 'Ohta', 'Tamura'], 'year': '2007', 'collab': None}]},\n",
       " {'title': 'Cosmic Star-Formation History',\n",
       "  'id': '1403.0007',\n",
       "  'question': 'Research Question: How do measurements of galaxy properties at redshifts between 0.1 and 4 compare to those at higher redshifts in this study?',\n",
       "  'paragraph': ('We also include measurements at 0.1<z≲4 from and ).',\n",
       "   [('Reddy', 'Steidel', '2009'),\n",
       "    ('Pérez-González', '2008'),\n",
       "    ('Pozzetti', '2010'),\n",
       "    ('Kajisawa', '2009'),\n",
       "    ('Arnouts', '2007'),\n",
       "    ('Marchesini', '2009'),\n",
       "    ('Ilbert', '2013'),\n",
       "    ('Muzzin', '2013')]),\n",
       "  'citations': [('Reddy', 'Steidel', '2009'),\n",
       "   ('Pérez-González', '2008'),\n",
       "   ('Pozzetti', '2010'),\n",
       "   ('Kajisawa', '2009'),\n",
       "   ('Arnouts', '2007'),\n",
       "   ('Marchesini', '2009'),\n",
       "   ('Ilbert', '2013'),\n",
       "   ('Muzzin', '2013')],\n",
       "  'bibs': [{'surnames': ['Reddy', 'Steidel'], 'year': '2009', 'collab': None},\n",
       "   {'surnames': ['Pérez-González', 'Rieke', 'Villar'],\n",
       "    'year': '2008',\n",
       "    'collab': None},\n",
       "   {'surnames': ['Pozzetti', 'Bolzonella', 'Zucca'],\n",
       "    'year': '2010',\n",
       "    'collab': None},\n",
       "   {'surnames': ['Kajisawa', 'Ichikawa', 'Tanaka'],\n",
       "    'year': '2009',\n",
       "    'collab': None},\n",
       "   {'surnames': ['Arnouts', 'Walcher', 'Le Fevre'],\n",
       "    'year': '2007',\n",
       "    'collab': None},\n",
       "   {'surnames': ['Marchesini', 'van Dokkum', 'Forster Schreiber'],\n",
       "    'year': '2009',\n",
       "    'collab': None},\n",
       "   {'surnames': ['Ilbert', 'McCracken', 'Le Fèvre'],\n",
       "    'year': '2013',\n",
       "    'collab': None},\n",
       "   {'surnames': ['Muzzin', 'Marchesini', 'Stefanon'],\n",
       "    'year': '2013',\n",
       "    'collab': None}]},\n",
       " {'title': 'Cosmic Star-Formation History',\n",
       "  'id': '1403.0007',\n",
       "  'question': \"Research question: How have N-body numerical simulations advanced our understanding of dark matter's role in galaxy formation?\",\n",
       "  'paragraph': ('The “dark side” of galaxy formation can be modeled with high accuracy and has been explored in detail through N-body numerical simulations of increasing resolution and size (,    , 2008   ).',\n",
       "   [('Stadel', '2009'),\n",
       "    ('Dubinski', 'Carlberg', '1991'),\n",
       "    ('Klypin', '2011'),\n",
       "    ('Diemand', '2008'),\n",
       "    ('Davis', '1985'),\n",
       "    ('Moore', '1999'),\n",
       "    ('Springel', '2005')]),\n",
       "  'citations': [('Stadel', '2009'),\n",
       "   ('Dubinski', 'Carlberg', '1991'),\n",
       "   ('Klypin', '2011'),\n",
       "   ('Diemand', '2008'),\n",
       "   ('Davis', '1985'),\n",
       "   ('Moore', '1999'),\n",
       "   ('Springel', '2005')],\n",
       "  'bibs': [{'surnames': ['Dubinski', 'Carlberg'],\n",
       "    'year': '1991',\n",
       "    'collab': None},\n",
       "   {'surnames': ['Di Matteo', 'Springel', 'Hernquist'],\n",
       "    'year': '2005',\n",
       "    'collab': None},\n",
       "   {'surnames': ['Springel', 'White', 'Jenkins'],\n",
       "    'year': '2005',\n",
       "    'collab': None},\n",
       "   {'surnames': ['Klypin', 'Trujillo-Gomez', 'Primack'],\n",
       "    'year': '2011',\n",
       "    'collab': None},\n",
       "   {'surnames': ['Diemand', 'Kuhlen', 'Madau'],\n",
       "    'year': '2008',\n",
       "    'collab': None},\n",
       "   {'surnames': ['Davis', 'Efstathiou', 'Frenk', 'White'],\n",
       "    'year': '1985',\n",
       "    'collab': None},\n",
       "   {'surnames': ['Moore', 'Ghigna', 'Governato'],\n",
       "    'year': '1999',\n",
       "    'collab': None},\n",
       "   {'surnames': ['Stadel', 'Potter', 'Moore'],\n",
       "    'year': '2009',\n",
       "    'collab': None}]},\n",
       " {'title': 'Cosmic Star-Formation History',\n",
       "  'id': '1403.0007',\n",
       "  'question': 'Research question: How have the GOODS and HUDF surveys evolved over time in terms of depth and wavelength coverage through repeated HST observations?',\n",
       "  'paragraph': ('Both GOODS and the HUDF have been repeatedly revisited with new observations from HST over the years to add deeper optical imaging as well as NIR data, first from NICMOS (, ) and later with WFC3 in the HUDF09 and HUDF12 programs (b, ) and the Cosmic Assembly Near-Infrared Deep Extragalactic Legacy Survey (CANDELS) of several premier deep survey fields including GOODS (, ).',\n",
       "   [('Conselice', '2011'),\n",
       "    ('Thompson', '2006'),\n",
       "    ('Ellis', '2013'),\n",
       "    ('Grogin', '2011'),\n",
       "    ('Koekemoer', '2011'),\n",
       "    ('Bouwens', '2011')]),\n",
       "  'citations': [('Conselice', '2011'),\n",
       "   ('Thompson', '2006'),\n",
       "   ('Ellis', '2013'),\n",
       "   ('Grogin', '2011'),\n",
       "   ('Koekemoer', '2011'),\n",
       "   ('Bouwens', '2011')],\n",
       "  'bibs': [{'surnames': ['Conselice', 'Bluck', 'Buitrago'],\n",
       "    'year': '2011',\n",
       "    'collab': None},\n",
       "   {'surnames': ['Thompson', 'Eisenstein', 'Fan'],\n",
       "    'year': '2006',\n",
       "    'collab': None},\n",
       "   {'surnames': ['Ellis', 'McLure', 'Dunlop'], 'year': '2013', 'collab': None},\n",
       "   {'surnames': ['Schenker', 'Robertson', 'Ellis'],\n",
       "    'year': '2013',\n",
       "    'collab': None},\n",
       "   {'surnames': ['Stark', 'Schenker', 'Ellis'],\n",
       "    'year': '2013',\n",
       "    'collab': None},\n",
       "   {'surnames': ['Grogin', 'Kocevski', 'Faber'],\n",
       "    'year': '2011',\n",
       "    'collab': None},\n",
       "   {'surnames': ['Grazian', 'Cstellano', 'Koekemoer'],\n",
       "    'year': '2011',\n",
       "    'collab': None},\n",
       "   {'surnames': ['Koekemoer', 'Faber', 'Ferguson'],\n",
       "    'year': '2011',\n",
       "    'collab': None},\n",
       "   {'surnames': ['González', 'Labbé', 'Bouwens'],\n",
       "    'year': '2011',\n",
       "    'collab': None}]},\n",
       " {'title': 'Cosmic Star-Formation History',\n",
       "  'id': '1403.0007',\n",
       "  'question': 'Research question: How have luminosity functions at far-infrared and submillimeter wavelengths been measured for local galaxy samples using different space-based and ground-based observatories?',\n",
       "  'paragraph': ('LFs at longer IR wavelengths were measured for (rather small) local samples with ISO [90 μm  170 μm ], Herschel (250–500 μm) (, and with ground-based (sub)millimeter observations generally for IRAS-selected samples [1.2 mm  850 μm ].',\n",
       "   [('Takeuchi', '2006'),\n",
       "    ('Dey', '2010'),\n",
       "    ('Dunne', '2000'),\n",
       "    ('Franceschini', '1998'),\n",
       "    ('Serjeant', '2004'),\n",
       "    ('Vaccari', '2010')]),\n",
       "  'citations': [('Takeuchi', '2006'),\n",
       "   ('Dey', '2010'),\n",
       "   ('Dunne', '2000'),\n",
       "   ('Franceschini', '1998'),\n",
       "   ('Serjeant', '2004'),\n",
       "   ('Vaccari', '2010')],\n",
       "  'bibs': [{'surnames': ['Takeuchi', 'Ishii', 'Dole'],\n",
       "    'year': '2006',\n",
       "    'collab': None},\n",
       "   {'surnames': ['Dunne', 'Eales', 'Edmunds'], 'year': '2000', 'collab': None},\n",
       "   {'surnames': ['Franceschini', 'Andreani', 'Danese'],\n",
       "    'year': '1998',\n",
       "    'collab': None},\n",
       "   {'surnames': ['Serjeant', 'Carramiñana', 'Gonzáles-Solares'],\n",
       "    'year': '2004',\n",
       "    'collab': None},\n",
       "   {'surnames': ['Vaccari', 'Marchetti', 'Franceschini'],\n",
       "    'year': '2010',\n",
       "    'collab': None}]},\n",
       " {'title': 'Cosmic Star-Formation History',\n",
       "  'id': '1403.0007',\n",
       "  'question': 'Research question: How have color-selection criteria evolved to detect high-redshift galaxies affected by intergalactic Hi absorption in their spectral energy distributions?',\n",
       "  'paragraph': ('Following the seminal work of color-selection criteria that are sensitive to the presence of intergalactic Hi absorption features in the spectral energy distribution (SED) of distant sources have been used to build increasingly large samples of star-forming galaxies at 2.5≲z≲9 ( , a, b).',\n",
       "   [('Madau', '1996'),\n",
       "    ('Giavalisco', '2004'),\n",
       "    ('Steidel', '1996'),\n",
       "    ('Steidel', '2003'),\n",
       "    ('Bouwens', '2011')]),\n",
       "  'citations': [('Madau', '1996'),\n",
       "   ('Giavalisco', '2004'),\n",
       "   ('Steidel', '1996'),\n",
       "   ('Steidel', '2003'),\n",
       "   ('Bouwens', '2011')],\n",
       "  'bibs': [{'surnames': ['Madau', 'Ferguson', 'Dickinson'],\n",
       "    'year': '1996',\n",
       "    'collab': None},\n",
       "   {'surnames': ['Madau', 'Shull'], 'year': '1996', 'collab': None},\n",
       "   {'surnames': ['Dickinson', 'Stern', 'Giavalisco'],\n",
       "    'year': '2004',\n",
       "    'collab': None},\n",
       "   {'surnames': ['Steidel',\n",
       "     'Giavalisco',\n",
       "     'Pettini',\n",
       "     'Dickinson',\n",
       "     'Adelberger'],\n",
       "    'year': '1996',\n",
       "    'collab': None},\n",
       "   {'surnames': ['Steidel', 'Adelberger', 'Shapley', 'Pettini', 'Dickinson'],\n",
       "    'year': '2003',\n",
       "    'collab': None},\n",
       "   {'surnames': ['González', 'Labbé', 'Bouwens'],\n",
       "    'year': '2011',\n",
       "    'collab': None}]},\n",
       " {'title': 'Cosmic Star-Formation History',\n",
       "  'id': '1403.0007',\n",
       "  'question': 'Research question: How do the most recent Hα luminosity function results from large-scale surveys like WISPS and 3D-HST compare to earlier HST NICMOS findings?',\n",
       "  'paragraph': ('As of this writing, results on Hα LFs from the largest ongoing programs [WISPS  and 3D-HST ] have not appeared in the literature to supersede earlier HST NICMOS results ( ).',\n",
       "   [('Brammer', '2012'),\n",
       "    ('Atek', '2010'),\n",
       "    ('Yan', '1999'),\n",
       "    ('Hopkins', '2000'),\n",
       "    ('Shim', '2009')]),\n",
       "  'citations': [('Brammer', '2012'),\n",
       "   ('Atek', '2010'),\n",
       "   ('Yan', '1999'),\n",
       "   ('Hopkins', '2000'),\n",
       "   ('Shim', '2009')],\n",
       "  'bibs': [{'surnames': ['Brammer', 'van Dokkum', 'Franx'],\n",
       "    'year': '2012',\n",
       "    'collab': None},\n",
       "   {'surnames': ['Atek', 'Malkan', 'McCarthy'],\n",
       "    'year': '2010',\n",
       "    'collab': None},\n",
       "   {'surnames': ['Yan', 'McCarthy', 'Freudling'],\n",
       "    'year': '1999',\n",
       "    'collab': None},\n",
       "   {'surnames': ['Hopkins', 'Connolly', 'Szalay'],\n",
       "    'year': '2000',\n",
       "    'collab': None},\n",
       "   {'surnames': ['Shim', 'Colbert', 'Teplitz'],\n",
       "    'year': '2009',\n",
       "    'collab': None}]},\n",
       " {'title': 'Cosmic Star-Formation History',\n",
       "  'id': '1403.0007',\n",
       "  'question': 'Research question: How effective is the local radio luminosity function in determining the current cosmic star formation rate density?',\n",
       "  'paragraph': ('The local radio LF has been used to estimate the current SFRD in many studies (for recent examples, see   ).',\n",
       "   [('Serjeant', '2002'),\n",
       "    ('Sadler', '2002'),\n",
       "    ('Mauch', 'Sadler', '2007'),\n",
       "    ('Machalski', 'Godlowski', '2000'),\n",
       "    ('Condon', '2002')]),\n",
       "  'citations': [('Serjeant', '2002'),\n",
       "   ('Sadler', '2002'),\n",
       "   ('Mauch', 'Sadler', '2007'),\n",
       "   ('Machalski', 'Godlowski', '2000'),\n",
       "   ('Condon', '2002')],\n",
       "  'bibs': [{'surnames': ['Serjeant', 'Gruppioni', 'Oliver'],\n",
       "    'year': '2002',\n",
       "    'collab': None},\n",
       "   {'surnames': ['Sadler', 'Jackson', 'Cannon'],\n",
       "    'year': '2002',\n",
       "    'collab': None},\n",
       "   {'surnames': ['Mauch', 'Sadler'], 'year': '2007', 'collab': None},\n",
       "   {'surnames': ['Machalski', 'Godlowski'], 'year': '2000', 'collab': None},\n",
       "   {'surnames': ['Condon', 'Cotton', 'Broderick'],\n",
       "    'year': '2002',\n",
       "    'collab': None}]},\n",
       " {'title': 'Cosmic Star-Formation History',\n",
       "  'id': '1403.0007',\n",
       "  'question': 'Research question: How did early studies estimate the stellar mass density (SMD) of high-redshift galaxies at z = 5 and 6?',\n",
       "  'paragraph': ('Early analyses of small samples of galaxies at z = 5 and 6, including estimates of the integrated SMD, were presented by and ).',\n",
       "   [('Eyles', '2007'),\n",
       "    ('Yabe', '2009'),\n",
       "    ('Yan', '2006'),\n",
       "    ('Verma', '2007'),\n",
       "    ('Stark', '2007')]),\n",
       "  'citations': [('Eyles', '2007'),\n",
       "   ('Yabe', '2009'),\n",
       "   ('Yan', '2006'),\n",
       "   ('Verma', '2007'),\n",
       "   ('Stark', '2007')],\n",
       "  'bibs': [{'surnames': ['Eyles', 'Bunker', 'Ellis'],\n",
       "    'year': '2007',\n",
       "    'collab': None},\n",
       "   {'surnames': ['Yabe', 'Ohta', 'Iwata'], 'year': '2009', 'collab': None},\n",
       "   {'surnames': ['Yan', 'Dickinson', 'Giavalisco'],\n",
       "    'year': '2006',\n",
       "    'collab': None},\n",
       "   {'surnames': ['Verma', 'Lehnert', 'Förster Schreiber'],\n",
       "    'year': '2007',\n",
       "    'collab': None},\n",
       "   {'surnames': ['Stark', 'Bunker', 'Ellis'],\n",
       "    'year': '2007',\n",
       "    'collab': None}]}]"
      ]
     },
     "execution_count": 1084,
     "metadata": {},
     "output_type": "execute_result"
    }
   ],
   "source": [
    "multi_paper.process_paper_sentences(reviews_with_text[0])"
   ]
  },
  {
   "cell_type": "code",
   "execution_count": 1076,
   "id": "6d1c0a01",
   "metadata": {},
   "outputs": [],
   "source": [
    "n_citations = [len(sentence[1]) for sentence in best_sentences]"
   ]
  },
  {
   "cell_type": "code",
   "execution_count": 1077,
   "id": "7d68955f",
   "metadata": {},
   "outputs": [
    {
     "data": {
      "text/plain": [
       "(array([2., 1., 2., 0., 0., 0., 0., 0., 0., 1.]),\n",
       " array([ 6.,  7.,  8.,  9., 10., 11., 12., 13., 14., 15., 16.]),\n",
       " <BarContainer object of 10 artists>)"
      ]
     },
     "execution_count": 1077,
     "metadata": {},
     "output_type": "execute_result"
    },
    {
     "data": {
      "image/png": "[encoded data removed]",
      "text/plain": [
       "<Figure size 640x480 with 1 Axes>"
      ]
     },
     "metadata": {},
     "output_type": "display_data"
    }
   ],
   "source": [
    "import matplotlib.pyplot as plt\n",
    "plt.hist(n_citations)"
   ]
  },
  {
   "cell_type": "code",
   "execution_count": 1102,
   "id": "08bcb8fc",
   "metadata": {
    "scrolled": true
   },
   "outputs": [
    {
     "name": "stdout",
     "output_type": "stream",
     "text": [
      "Cosmic Star-Formation History\n",
      "The Circumgalactic Medium\n",
      "The Galaxy in Context: Structural, Kinematic, and Integrated Properties\n",
      "Small-Scale Challenges to the ΛCDM Paradigm\n",
      "Intermediate-Mass Black Holes\n",
      "Relativistic Jets from Active Galactic Nuclei\n",
      "Hot Accretion Flows Around Black Holes\n",
      "Magnetars\n",
      "Understanding Galaxy Evolution Through Emission Lines\n",
      "The Coevolution of Galaxies and Supermassive Black Holes: Insights from Surveys of the Contemporary Universe\n",
      "The Faintest Dwarf Galaxies\n",
      "Quasars and the Intergalactic Medium at Cosmic Dawn\n",
      "Masses, Radii, and the Equation of State of Neutron Stars\n",
      "The Assembly of the First Massive Black Holes\n",
      "Galaxy Formation and Reionization: Key Unknowns and Expected Breakthroughs by the James Webb Space Telescope\n",
      "Key Physical Processes in the Circumgalactic Medium\n",
      "The First Stars: Formation, Properties, and Impact\n",
      "Observations of Protoplanetary Disk Structures\n",
      "Revisiting the Unified Model of Active Galactic Nuclei\n",
      "Accretion onto Pre-Main-Sequence Stars\n",
      "Theoretical Challenges in Galaxy Formation\n",
      "Carrington Events\n",
      "Hydrodynamical Simulations of the Galaxy Population: Enduring Successes and Outstanding Challenges\n",
      "Tidal Disruption Events\n",
      "Star Clusters Across Cosmic Time\n",
      "Origins of Hot Jupiters\n",
      "Streams, Substructures, and the Early History of the Milky Way\n",
      "Mass Loss: Its Effect on the Evolution and Fate of High-Mass Stars\n",
      "Obscured Active Galactic Nuclei\n",
      "The Occurrence and Architecture of Exoplanetary Systems\n",
      "The Evolution of Galaxy Structure Over Cosmic Time\n",
      "Protoplanetary Disk Chemistry\n",
      "The Cold Interstellar Medium of Galaxies in the Local Universe\n",
      "Short-Duration Gamma-Ray Bursts\n",
      "Observational Clues to the Progenitors of Type Ia Supernovae\n",
      "Structure and Kinematics of Early-Type Galaxies from Integral Field Spectroscopy\n",
      "The Cosmic Baryon and Metal Cycles\n",
      "Exoplanetary Atmospheres: Key Insights, Challenges, and Prospects\n",
      "Star-Forming Galaxies at Cosmic Noon\n",
      "Photodissociation and X-Ray-Dominated Regions\n",
      "Observations of the icy universe.\n",
      "Powerful Outflows and Feedback from Active Galactic Nuclei\n",
      "Exoplanet Statistics and Theoretical Implications\n",
      "Gaussian Process Regression for Astronomical Time Series\n",
      "The Dust Attenuation Law in Galaxies\n",
      "Observational Constraints on Black Hole Spin\n",
      "The Interstellar Dust Properties of Nearby Galaxies\n",
      "Ultraluminous X-Ray Sources\n",
      "Gravitational Instabilities in Circumstellar Disks\n",
      "Astrochemistry During the Formation of Stars\n",
      "Protostellar Outflows\n",
      "Atomic Hydrogen in the Milky Way: A Stepping Stone in the Evolution of Galaxies\n",
      "Pulsar Magnetospheres and Their Radiation\n",
      "Near-Field Cosmology with Extremely Metal-Poor Stars\n",
      "Fast Radio Bursts: An Extragalactic Enigma\n",
      "Circumbinary Accretion: From Binary Stars to Massive Binary Black Holes\n",
      "Observations of the Lyman-α Universe\n",
      "New Insights into Classical Novae\n",
      "Theory and Diagnostics of Hot Star Mass Loss\n",
      "Spirals in Galaxies\n",
      "Debris Disks: Structure, Composition, and Variability\n",
      "Interstellar Dust Grain Alignment\n",
      "Tidal Dissipation in Stars and Giant Planets\n",
      "Asteroseismology Across the Hertzsprung-Russell Diagram\n",
      "Angular Momentum Transport in Stellar Interiors\n",
      "Advances in Optical/Infrared Interferometry\n",
      "Weak Lensing for Precision Cosmology\n",
      "First Multimessenger Observations of a Neutron Star Merger\n",
      "The Evolution of the Intergalactic Medium\n",
      "Observing Interstellar and Intergalactic Magnetic Fields\n",
      "Spatially Resolved Spectroscopic Properties of Low-Redshift Star-Forming Galaxies\n",
      "New Insights into the Evolution of Massive Stars and Their Effects on Our Understanding of Early Galaxies\n",
      "Dynamical Evolution of the Early Solar System\n",
      "Solar Dynamo Theory\n",
      "The Most Luminous Supernovae\n",
      "Photometric Redshifts for Next-Generation Surveys\n",
      "Magnetohydrodynamics Simulations of Active Galactic Nucleus Disks and Jets\n",
      "Chemodynamical History of the Galactic Bulge\n",
      "On the Cool Side: Modeling the Atmospheres of Brown Dwarfs and Giant Planets\n",
      "Accuracy and Precision of Industrial Stellar Abundances\n",
      "Six Decades of Spiral Density Wave Theory\n",
      "Markov Chain Monte Carlo Methods for Bayesian Data Analysis in Astronomy\n",
      "Red Clump Stars\n",
      "Galactic Dynamos\n",
      "The Properties of the Solar Corona and Its Connection to the Solar Wind\n",
      "How to Characterize Habitable Worlds and Signs of Life\n",
      "Evolution and Mass Loss of Cool Ageing Stars: a Daedalean Story\n",
      "Wave Dark Matter\n",
      "Magnetohydrodynamic Waves in the Solar Corona\n",
      "The Magellanic Stream: Circumnavigating the Galaxy\n",
      "Evidence for Initial Mass Function Variation in Massive Early-Type Galaxies\n",
      "The Quest for B Modes from Inflationary Gravitational Waves\n",
      "The Nine Lives of Cosmic Rays in Galaxies\n",
      "Gamma-Ray Observations of Active Galactic Nuclei\n",
      "Transneptunian Space\n",
      "Hypervelocity Stars\n",
      "Stellar Dynamics and Stellar Phenomena Near a Massive Black Hole\n",
      "Microarcsecond Radio Astrometry\n",
      "Stellar Model Chromospheres and Spectroscopic Diagnostics\n",
      "New Insights from Imaging Spectroscopy of Solar Radio Emission\n",
      "Magnetic Field Diagnostics in the Solar Upper Atmosphere\n",
      "Microarcsecond Astrometry: Science Highlights from Gaia\n",
      "The Remnant of Supernova 1987A\n",
      "Introduction\n",
      "Interstellar Hydrides\n",
      "Atomic and Ionized Microstructures in the Diffuse Interstellar Medium\n",
      "Gamma-Ray Pulsar Revolution\n",
      "Rubble Pile Asteroids\n",
      "Extreme Adaptive Optics\n",
      "Astrophysics with Extraterrestrial Materials\n",
      "The Pluto System After New Horizons\n",
      "Faltering Steps Into the Galaxy: The Boundary Regions of the Heliosphere\n",
      "Grid-Based Hydrodynamics in Astrophysical Fluid Flows\n",
      "Far-Infrared Surveys of Galaxy Evolution\n"
     ]
    }
   ],
   "source": [
    "for i, paper in enumerate(papers):\n",
    "    print(paper['title'])"
   ]
  },
  {
   "cell_type": "code",
   "execution_count": 1112,
   "id": "fe499add",
   "metadata": {
    "scrolled": true
   },
   "outputs": [
    {
     "name": "stdout",
     "output_type": "stream",
     "text": [
      "Number of papers: 138\n",
      "Cosmic Star-Formation History\n",
      "6\n",
      "The Circumgalactic Medium\n",
      "10\n",
      "The Galaxy in Context: Structural, Kinematic, and Integrated Properties\n",
      "8\n",
      "Small-Scale Challenges to the ΛCDM Paradigm\n",
      "7\n",
      "Intermediate-Mass Black Holes\n",
      "9\n",
      "Relativistic Jets from Active Galactic Nuclei\n",
      "1\n",
      "Hot Accretion Flows Around Black Holes\n",
      "10\n",
      "Magnetars\n",
      "2\n",
      "Understanding Galaxy Evolution Through Emission Lines\n",
      "10\n",
      "The Coevolution of Galaxies and Supermassive Black Holes: Insights from Surveys of the Contemporary Universe\n",
      "8\n",
      "The Faintest Dwarf Galaxies\n",
      "10\n",
      "Quasars and the Intergalactic Medium at Cosmic Dawn\n",
      "5\n",
      "Masses, Radii, and the Equation of State of Neutron Stars\n",
      "5\n",
      "The Assembly of the First Massive Black Holes\n",
      "10\n",
      "Galaxy Formation and Reionization: Key Unknowns and Expected Breakthroughs by the James Webb Space Telescope\n",
      "9\n",
      "Key Physical Processes in the Circumgalactic Medium\n",
      "5\n",
      "The First Stars: Formation, Properties, and Impact\n",
      "10\n",
      "Observations of Protoplanetary Disk Structures\n",
      "10\n",
      "Revisiting the Unified Model of Active Galactic Nuclei\n",
      "8\n",
      "Accretion onto Pre-Main-Sequence Stars\n",
      "8\n",
      "Theoretical Challenges in Galaxy Formation\n",
      "10\n",
      "Carrington Events\n",
      "1\n",
      "Hydrodynamical Simulations of the Galaxy Population: Enduring Successes and Outstanding Challenges\n",
      "6\n",
      "Tidal Disruption Events\n",
      "4\n",
      "Star Clusters Across Cosmic Time\n",
      "9\n",
      "Origins of Hot Jupiters\n",
      "6\n",
      "Streams, Substructures, and the Early History of the Milky Way\n",
      "4\n",
      "Mass Loss: Its Effect on the Evolution and Fate of High-Mass Stars\n",
      "8\n",
      "Obscured Active Galactic Nuclei\n",
      "4\n",
      "The Occurrence and Architecture of Exoplanetary Systems\n",
      "4\n",
      "The Evolution of Galaxy Structure Over Cosmic Time\n",
      "6\n",
      "Protoplanetary Disk Chemistry\n",
      "10\n",
      "The Cold Interstellar Medium of Galaxies in the Local Universe\n",
      "4\n",
      "Short-Duration Gamma-Ray Bursts\n",
      "10\n",
      "Observational Clues to the Progenitors of Type Ia Supernovae\n",
      "10\n",
      "Structure and Kinematics of Early-Type Galaxies from Integral Field Spectroscopy\n",
      "10\n",
      "The Cosmic Baryon and Metal Cycles\n",
      "4\n",
      "Exoplanetary Atmospheres: Key Insights, Challenges, and Prospects\n",
      "10\n",
      "Star-Forming Galaxies at Cosmic Noon\n",
      "8\n",
      "Photodissociation and X-Ray-Dominated Regions\n",
      "10\n",
      "Observations of the icy universe.\n",
      "5\n",
      "Powerful Outflows and Feedback from Active Galactic Nuclei\n",
      "1\n",
      "Exoplanet Statistics and Theoretical Implications\n",
      "4\n",
      "Gaussian Process Regression for Astronomical Time Series\n",
      "5\n",
      "The Dust Attenuation Law in Galaxies\n",
      "9\n",
      "Observational Constraints on Black Hole Spin\n",
      "2\n",
      "The Interstellar Dust Properties of Nearby Galaxies\n",
      "5\n",
      "Ultraluminous X-Ray Sources\n",
      "0\n",
      "Gravitational Instabilities in Circumstellar Disks\n",
      "3\n",
      "Astrochemistry During the Formation of Stars\n",
      "5\n",
      "Protostellar Outflows\n",
      "3\n",
      "Atomic Hydrogen in the Milky Way: A Stepping Stone in the Evolution of Galaxies\n",
      "4\n",
      "Pulsar Magnetospheres and Their Radiation\n",
      "3\n",
      "Near-Field Cosmology with Extremely Metal-Poor Stars\n",
      "7\n",
      "Fast Radio Bursts: An Extragalactic Enigma\n",
      "5\n",
      "Circumbinary Accretion: From Binary Stars to Massive Binary Black Holes\n",
      "10\n",
      "Observations of the Lyman-α Universe\n",
      "2\n",
      "New Insights into Classical Novae\n",
      "3\n",
      "Theory and Diagnostics of Hot Star Mass Loss\n",
      "3\n",
      "Spirals in Galaxies\n",
      "1\n",
      "Debris Disks: Structure, Composition, and Variability\n",
      "7\n",
      "Interstellar Dust Grain Alignment\n",
      "2\n",
      "Tidal Dissipation in Stars and Giant Planets\n",
      "1\n",
      "Asteroseismology Across the Hertzsprung-Russell Diagram\n",
      "1\n",
      "Angular Momentum Transport in Stellar Interiors\n",
      "3\n",
      "Advances in Optical/Infrared Interferometry\n",
      "5\n",
      "Weak Lensing for Precision Cosmology\n",
      "4\n",
      "First Multimessenger Observations of a Neutron Star Merger\n",
      "10\n",
      "The Evolution of the Intergalactic Medium\n",
      "10\n",
      "Observing Interstellar and Intergalactic Magnetic Fields\n",
      "4\n",
      "Spatially Resolved Spectroscopic Properties of Low-Redshift Star-Forming Galaxies\n",
      "10\n",
      "New Insights into the Evolution of Massive Stars and Their Effects on Our Understanding of Early Galaxies\n",
      "3\n",
      "Dynamical Evolution of the Early Solar System\n",
      "0\n",
      "Solar Dynamo Theory\n",
      "3\n",
      "The Most Luminous Supernovae\n",
      "3\n",
      "Photometric Redshifts for Next-Generation Surveys\n",
      "0\n",
      "Magnetohydrodynamics Simulations of Active Galactic Nucleus Disks and Jets\n",
      "3\n",
      "Chemodynamical History of the Galactic Bulge\n",
      "8\n",
      "On the Cool Side: Modeling the Atmospheres of Brown Dwarfs and Giant Planets\n",
      "3\n",
      "Accuracy and Precision of Industrial Stellar Abundances\n",
      "3\n",
      "Six Decades of Spiral Density Wave Theory\n",
      "1\n",
      "Markov Chain Monte Carlo Methods for Bayesian Data Analysis in Astronomy\n",
      "1\n",
      "Red Clump Stars\n",
      "3\n",
      "Galactic Dynamos\n",
      "0\n",
      "The Properties of the Solar Corona and Its Connection to the Solar Wind\n",
      "2\n",
      "How to Characterize Habitable Worlds and Signs of Life\n",
      "10\n",
      "Evolution and Mass Loss of Cool Ageing Stars: a Daedalean Story\n",
      "6\n",
      "Wave Dark Matter\n",
      "10\n",
      "Magnetohydrodynamic Waves in the Solar Corona\n",
      "2\n",
      "The Magellanic Stream: Circumnavigating the Galaxy\n",
      "9\n",
      "Evidence for Initial Mass Function Variation in Massive Early-Type Galaxies\n",
      "1\n",
      "The Quest for B Modes from Inflationary Gravitational Waves\n",
      "9\n",
      "The Nine Lives of Cosmic Rays in Galaxies\n",
      "4\n",
      "Gamma-Ray Observations of Active Galactic Nuclei\n",
      "2\n",
      "Transneptunian Space\n",
      "2\n",
      "Hypervelocity Stars\n",
      "2\n",
      "Stellar Dynamics and Stellar Phenomena Near a Massive Black Hole\n",
      "4\n",
      "Microarcsecond Radio Astrometry\n",
      "3\n",
      "Stellar Model Chromospheres and Spectroscopic Diagnostics\n",
      "7\n",
      "New Insights from Imaging Spectroscopy of Solar Radio Emission\n",
      "1\n",
      "Magnetic Field Diagnostics in the Solar Upper Atmosphere\n",
      "1\n",
      "Microarcsecond Astrometry: Science Highlights from Gaia\n",
      "2\n",
      "The Remnant of Supernova 1987A\n",
      "2\n",
      "Introduction\n",
      "0\n",
      "Interstellar Hydrides\n",
      "2\n",
      "Atomic and Ionized Microstructures in the Diffuse Interstellar Medium\n",
      "1\n",
      "Gamma-Ray Pulsar Revolution\n",
      "2\n",
      "Rubble Pile Asteroids\n",
      "1\n",
      "Extreme Adaptive Optics\n",
      "2\n",
      "Astrophysics with Extraterrestrial Materials\n",
      "5\n",
      "The Pluto System After New Horizons\n",
      "3\n",
      "Faltering Steps Into the Galaxy: The Boundary Regions of the Heliosphere\n",
      "6\n",
      "Grid-Based Hydrodynamics in Astrophysical Fluid Flows\n",
      "3\n",
      "Far-Infrared Surveys of Galaxy Evolution\n",
      "3\n",
      "Cosmology and High-Energy Astrophysics: A 50-Year Perspective on Personalities, Progress, and Prospects\n",
      "0\n",
      "Introduction\n",
      "0\n",
      "Numerical Relativity and Astrophysics\n",
      "6\n",
      "Jack of All\n",
      "0\n",
      "Ideas for Citizen Science in Astronomy\n",
      "1\n",
      "Multiconjugate Adaptive Optics for Astronomy\n",
      "5\n",
      "Astronomers Engaging with the Education Ecosystem: A Best-Evidence Synthesis\n",
      "3\n",
      "Galaxies, Globular Clusters, and Dark Matter\n",
      "0\n",
      "Seeing Cosmology Grow\n",
      "1\n",
      "Visible/Infrared Imaging Spectroscopy and Energy-Resolving Detectors\n",
      "2\n",
      "Millimeterwave and Submillimeterwave Laboratory Spectroscopy in Support of Observational Astronomy\n",
      "2\n",
      "A Walk in Time and Space: My Journey as a Strategic Scientist\n",
      "0\n",
      "The Journey of a Radio Astronomer: Growth of Radio Astronomy in India\n",
      "0\n",
      "Introduction\n",
      "0\n",
      "Nancy Grace Roman and the Dawn of Space Astronomy\n",
      "0\n",
      "Exploring the Universe\n",
      "0\n",
      "Wondering About Things\n",
      "0\n",
      "A Fortunate Half-Century\n",
      "0\n",
      "Introduction\n",
      "0\n",
      "Introduction\n",
      "0\n",
      "An Unscheduled Journey: From Cosmic Rays into Cosmic X-Rays\n",
      "0\n",
      "Introduction\n",
      "0\n",
      "Introduction\n",
      "0\n",
      "Introduction\n",
      "0\n"
     ]
    }
   ],
   "source": [
    "papers = multi_paper.load_papers(from_file = True)\n",
    "print('Number of papers:', len(papers))\n",
    "\n",
    "query_pairs = []\n",
    "for paper in papers:\n",
    "    print(paper['title'])\n",
    "    query_pairs.append(multi_paper.process_paper_sentences(paper, verbose = True, mode = \"threshold\", k = 5))"
   ]
  },
  {
   "cell_type": "code",
   "execution_count": 1125,
   "id": "a131e1ab",
   "metadata": {},
   "outputs": [],
   "source": [
    "for paper in query_pairs:\n",
    "    for i, query in enumerate(paper):\n",
    "        if query['id'] is None:\n",
    "            id_str = query['title'].split(' ')[0] + '_' + str(i + 1)\n",
    "        else:\n",
    "            id_str = query['id'].split('_')[0] + '_' + str(i + 1)\n",
    "        query_pairs_formatted[id_str] = {'title': query['title'], 'question':query['question'], \n",
    "                                        'text': query['paragraph'], 'citations':query['citations'],\n",
    "                                        'arxiv': list(query['arxiv'])}\n",
    "\n",
    "    \n",
    "    with open('../data/multi_paper_sentences.json', 'w') as f:\n",
    "        json.dump(query_pairs_formatted, f, indent = 2)"
   ]
  },
  {
   "cell_type": "code",
   "execution_count": 1155,
   "id": "884b36e8",
   "metadata": {
    "scrolled": true
   },
   "outputs": [
    {
     "name": "stdout",
     "output_type": "stream",
     "text": [
      "{'error': 'Too many requests'}\n",
      "Unexpected exception formatting exception. Falling back to standard exception\n"
     ]
    },
    {
     "name": "stderr",
     "output_type": "stream",
     "text": [
      "Traceback (most recent call last):\n",
      "  File \"/Users/christineye/anaconda3/lib/python3.9/site-packages/IPython/core/interactiveshell.py\", line 3526, in run_code\n",
      "    exec(code_obj, self.user_global_ns, self.user_ns)\n",
      "  File \"/var/folders/kg/0g3xrys53nd6r_vs_7tph9y00000gn/T/ipykernel_4675/3272684116.py\", line 2, in <module>\n",
      "    multi_paper.search_arxiv(ref)\n",
      "  File \"/Users/christineye/retrieval/evaluation/multi_paper.py\", line 197, in search_arxiv\n",
      "    json_results = query_ads(ref, verbose, incyear = True)\n",
      "  File \"/Users/christineye/retrieval/evaluation/multi_paper.py\", line 177, in query_ads\n",
      "    json_results = results.json()['response']['docs']\n",
      "KeyError: 'response'\n",
      "\n",
      "During handling of the above exception, another exception occurred:\n",
      "\n",
      "Traceback (most recent call last):\n",
      "  File \"/Users/christineye/anaconda3/lib/python3.9/site-packages/IPython/core/interactiveshell.py\", line 2120, in showtraceback\n",
      "    stb = self.InteractiveTB.structured_traceback(\n",
      "  File \"/Users/christineye/anaconda3/lib/python3.9/site-packages/IPython/core/ultratb.py\", line 1435, in structured_traceback\n",
      "    return FormattedTB.structured_traceback(\n",
      "  File \"/Users/christineye/anaconda3/lib/python3.9/site-packages/IPython/core/ultratb.py\", line 1326, in structured_traceback\n",
      "    return VerboseTB.structured_traceback(\n",
      "  File \"/Users/christineye/anaconda3/lib/python3.9/site-packages/IPython/core/ultratb.py\", line 1173, in structured_traceback\n",
      "    formatted_exception = self.format_exception_as_a_whole(etype, evalue, etb, number_of_lines_of_context,\n",
      "  File \"/Users/christineye/anaconda3/lib/python3.9/site-packages/IPython/core/ultratb.py\", line 1088, in format_exception_as_a_whole\n",
      "    frames.append(self.format_record(record))\n",
      "  File \"/Users/christineye/anaconda3/lib/python3.9/site-packages/IPython/core/ultratb.py\", line 970, in format_record\n",
      "    frame_info.lines, Colors, self.has_colors, lvals\n",
      "  File \"/Users/christineye/anaconda3/lib/python3.9/site-packages/IPython/core/ultratb.py\", line 792, in lines\n",
      "    return self._sd.lines\n",
      "  File \"/Users/christineye/anaconda3/lib/python3.9/site-packages/stack_data/utils.py\", line 145, in cached_property_wrapper\n",
      "    value = obj.__dict__[self.func.__name__] = self.func(obj)\n",
      "  File \"/Users/christineye/anaconda3/lib/python3.9/site-packages/stack_data/core.py\", line 698, in lines\n",
      "    pieces = self.included_pieces\n",
      "  File \"/Users/christineye/anaconda3/lib/python3.9/site-packages/stack_data/utils.py\", line 145, in cached_property_wrapper\n",
      "    value = obj.__dict__[self.func.__name__] = self.func(obj)\n",
      "  File \"/Users/christineye/anaconda3/lib/python3.9/site-packages/stack_data/core.py\", line 649, in included_pieces\n",
      "    pos = scope_pieces.index(self.executing_piece)\n",
      "  File \"/Users/christineye/anaconda3/lib/python3.9/site-packages/stack_data/utils.py\", line 145, in cached_property_wrapper\n",
      "    value = obj.__dict__[self.func.__name__] = self.func(obj)\n",
      "  File \"/Users/christineye/anaconda3/lib/python3.9/site-packages/stack_data/core.py\", line 628, in executing_piece\n",
      "    return only(\n",
      "  File \"/Users/christineye/anaconda3/lib/python3.9/site-packages/executing/executing.py\", line 164, in only\n",
      "    raise NotOneValueFound('Expected one value, found 0')\n",
      "executing.executing.NotOneValueFound: Expected one value, found 0\n"
     ]
    }
   ],
   "source": [
    "ref = {\"surnames\": [\"Kopparapu\", \"Ramirez\", \"Schottel Kotte\"], \"year\": \"2014\", \"collab\": None}\n",
    "multi_paper.search_arxiv(ref)"
   ]
  },
  {
   "cell_type": "code",
   "execution_count": 1150,
   "id": "635ee4da",
   "metadata": {},
   "outputs": [
    {
     "name": "stderr",
     "output_type": "stream",
     "text": [
      "\r",
      "0it [00:00, ?it/s]"
     ]
    },
    {
     "name": "stdout",
     "output_type": "stream",
     "text": [
      "Failed on Rice 2005\n"
     ]
    },
    {
     "name": "stderr",
     "output_type": "stream",
     "text": [
      "\r",
      "49it [00:03, 12.98it/s]"
     ]
    },
    {
     "name": "stdout",
     "output_type": "stream",
     "text": [
      "48 ['0407037', '0501638', '0609798', '0306121', '1010.3702']\n",
      "49 ['1908.11290', '1808.08753', '1711.05736', '1607.08733', '1802.02977', '1605.02562', '1512.00416', '1703.03252', '2001.06400', '1611.07314']\n"
     ]
    },
    {
     "name": "stderr",
     "output_type": "stream",
     "text": [
      "51it [00:19,  1.96it/s]"
     ]
    },
    {
     "name": "stdout",
     "output_type": "stream",
     "text": [
      "50 ['1101.4670', '1110.6225', '1005.1714', '1503.01111', '0910.2990', '0606242', '1205.4100', '1107.3616', '1010.2290', '1409.6762']\n"
     ]
    },
    {
     "name": "stderr",
     "output_type": "stream",
     "text": [
      "\r",
      "52it [00:24,  1.44it/s]"
     ]
    },
    {
     "name": "stdout",
     "output_type": "stream",
     "text": [
      "51 []\n"
     ]
    },
    {
     "name": "stderr",
     "output_type": "stream",
     "text": [
      "\r",
      "53it [00:29,  1.16it/s]"
     ]
    },
    {
     "name": "stdout",
     "output_type": "stream",
     "text": [
      "52 ['2104.08986', '2009.03568', '1007.1052', '0702365', '1902.04689', '1610.07616', '0610929', '1308.3147']\n"
     ]
    },
    {
     "name": "stderr",
     "output_type": "stream",
     "text": [
      "\r",
      "54it [00:33,  1.09s/it]"
     ]
    },
    {
     "name": "stdout",
     "output_type": "stream",
     "text": [
      "53 ['0211274', '0503021']\n",
      "Failed on Popov 2010\n"
     ]
    },
    {
     "name": "stderr",
     "output_type": "stream",
     "text": [
      "\r",
      "55it [00:40,  1.64s/it]"
     ]
    },
    {
     "name": "stdout",
     "output_type": "stream",
     "text": [
      "54 ['1409.5516', '1409.4031', '1710.02302', '1701.01109', '1604.05336', '1408.1333', '1703.09232', '1307.1409']\n"
     ]
    },
    {
     "name": "stderr",
     "output_type": "stream",
     "text": [
      "\r",
      "56it [00:56,  3.29s/it]"
     ]
    },
    {
     "name": "stdout",
     "output_type": "stream",
     "text": [
      "55 ['1805.03202', '1808.02204', '9702060', '1702.07818', '1608.07642', '9910061', '1602.04531', '1602.04226', '1906.07726', '1912.08218', '2009.10068', '1602.03831', '1203.2938']\n"
     ]
    },
    {
     "name": "stderr",
     "output_type": "stream",
     "text": [
      "\r",
      "57it [01:02,  3.58s/it]"
     ]
    },
    {
     "name": "stdout",
     "output_type": "stream",
     "text": [
      "56 ['1009.5471', '1403.3693', '1110.1722', '1405.4869', '1107.3159', '1808.01847', '1308.5985', '1901.11045', '2003.12083', '1709.00991', '1404.4632', '1208.6031']\n"
     ]
    },
    {
     "name": "stderr",
     "output_type": "stream",
     "text": [
      "\r",
      "58it [01:07,  3.83s/it]"
     ]
    },
    {
     "name": "stdout",
     "output_type": "stream",
     "text": [
      "57 ['1103.4543', '1211.3112', '1509.04004', '1004.3698', '0912.4426', '1005.5166', '1603.00291', '1110.6224', '1011.5327', '1212.5026', '1009.4740']\n"
     ]
    },
    {
     "name": "stderr",
     "output_type": "stream",
     "text": [
      "\r",
      "59it [01:11,  3.92s/it]"
     ]
    },
    {
     "name": "stdout",
     "output_type": "stream",
     "text": [
      "58 ['1604.01022', '0206233', '1904.04687', '1401.5474', '1807.04293', '1903.01762', '1507.04000']\n"
     ]
    },
    {
     "name": "stderr",
     "output_type": "stream",
     "text": [
      "\r",
      "60it [01:12,  3.30s/it]"
     ]
    },
    {
     "name": "stdout",
     "output_type": "stream",
     "text": [
      "59 ['1904.11436', '2105.04500', '2007.12959', '1908.04246', '1503.03070']\n"
     ]
    },
    {
     "name": "stderr",
     "output_type": "stream",
     "text": [
      "\r",
      "61it [01:17,  3.73s/it]"
     ]
    },
    {
     "name": "stdout",
     "output_type": "stream",
     "text": [
      "60 []\n"
     ]
    },
    {
     "name": "stderr",
     "output_type": "stream",
     "text": [
      "\r",
      "62it [01:20,  3.49s/it]"
     ]
    },
    {
     "name": "stdout",
     "output_type": "stream",
     "text": [
      "61 ['0711.2536', '9504100', '1407.3279', '9803199']\n",
      "62 []\n"
     ]
    },
    {
     "name": "stderr",
     "output_type": "stream",
     "text": [
      "\r",
      "64it [01:22,  2.40s/it]"
     ]
    },
    {
     "name": "stdout",
     "output_type": "stream",
     "text": [
      "63 ['2105.04533', '1602.04964', '1605.03955', '1912.12300']\n"
     ]
    },
    {
     "name": "stderr",
     "output_type": "stream",
     "text": [
      "\r",
      "65it [01:25,  2.67s/it]"
     ]
    },
    {
     "name": "stdout",
     "output_type": "stream",
     "text": [
      "64 ['1611.06955', '1805.07100', '1604.02680', '1504.02119', '1610.06184']\n",
      "Failed on Kenchington Goldsmith 2017\n"
     ]
    },
    {
     "name": "stderr",
     "output_type": "stream",
     "text": [
      "\r",
      "66it [01:39,  5.28s/it]"
     ]
    },
    {
     "name": "stdout",
     "output_type": "stream",
     "text": [
      "65 ['1709.10107', '1603.06948', '2007.00716', '2012.05947', '2107.06366']\n",
      "Failed on Blazek 2017\n"
     ]
    },
    {
     "name": "stderr",
     "output_type": "stream",
     "text": [
      "\r",
      "67it [01:49,  6.70s/it]"
     ]
    },
    {
     "name": "stdout",
     "output_type": "stream",
     "text": [
      "66 ['1702.05301', '1704.01054', '0112441', '0809.5035', '0910.3786', '1612.00852', '9712115', '0508296', '0208256', '1611.04954', '0911.2244', '1707.06640', '0206182']\n"
     ]
    },
    {
     "name": "stderr",
     "output_type": "stream",
     "text": [
      "\r",
      "68it [02:12, 10.97s/it]"
     ]
    },
    {
     "name": "stdout",
     "output_type": "stream",
     "text": [
      "67 ['1710.05433', '1710.05452', '1710.05850', '1710.05854', '1710.05863', '1710.05840', '1710.05455', '1710.05461', '1710.05448', '1710.05459', '1710.05841', '1710.05462', '1710.05843', '1710.05858', '1710.05856', '1710.05437', '1710.05443', '1710.05864', '1710.05440', '1710.05846', '1710.05444', '1710.05844', '1710.05848', '1710.05432']\n",
      "Failed on Gontcho 2014\n"
     ]
    },
    {
     "name": "stderr",
     "output_type": "stream",
     "text": [
      "\r",
      "69it [02:31, 13.39s/it]"
     ]
    },
    {
     "name": "stdout",
     "output_type": "stream",
     "text": [
      "68 ['9409017', '9701209', '9806286', '9507047', '9511013', '9704184', '9509106', '9509105', '9508133']\n"
     ]
    },
    {
     "name": "stderr",
     "output_type": "stream",
     "text": [
      "\r",
      "70it [02:36, 10.79s/it]"
     ]
    },
    {
     "name": "stdout",
     "output_type": "stream",
     "text": [
      "69 ['1508.05153', '1304.1279', '1001.5230']\n",
      "Failed on Lacerda 2020\n"
     ]
    },
    {
     "name": "stderr",
     "output_type": "stream",
     "text": [
      "\r",
      "71it [03:00, 14.85s/it]"
     ]
    },
    {
     "name": "stdout",
     "output_type": "stream",
     "text": [
      "70 ['1605.07626', '1104.0525', '1005.2959', '1308.4271', '1202.0511']\n"
     ]
    },
    {
     "name": "stderr",
     "output_type": "stream",
     "text": [
      "\r",
      "72it [03:07, 12.56s/it]"
     ]
    },
    {
     "name": "stdout",
     "output_type": "stream",
     "text": [
      "71 ['2007.11977', '1606.01304', '1805.11621', '1808.03059', '1905.04314', '2002.11117', '1806.01741', '1903.09649', '1803.03655', '1803.02340', '1905.06434', '1809.09637', '2010.07545', '1606.00053']\n"
     ]
    },
    {
     "name": "stderr",
     "output_type": "stream",
     "text": [
      "\r",
      "74it [03:09,  7.13s/it]"
     ]
    },
    {
     "name": "stdout",
     "output_type": "stream",
     "text": [
      "73 []\n"
     ]
    },
    {
     "name": "stderr",
     "output_type": "stream",
     "text": [
      "\r",
      "75it [03:12,  6.11s/it]"
     ]
    },
    {
     "name": "stdout",
     "output_type": "stream",
     "text": [
      "74 ['0612617', '1001.1156', '0612408', '0709.0302']\n",
      "Failed on Perucho 2014\n"
     ]
    },
    {
     "name": "stderr",
     "output_type": "stream",
     "text": [
      "\r",
      "77it [03:16,  4.57s/it]"
     ]
    },
    {
     "name": "stdout",
     "output_type": "stream",
     "text": [
      "76 ['1612.06929', '1506.04754', '1510.04023', '1904.03243', '1512.04526', '1709.09397', '1512.05026', '1805.11039', '1810.03613', '1904.04923', '1508.02721']\n",
      "Failed on McWilliam 2003\n",
      "Failed on Schultheis 2017\n"
     ]
    },
    {
     "name": "stderr",
     "output_type": "stream",
     "text": [
      "\r",
      "78it [03:26,  5.79s/it]"
     ]
    },
    {
     "name": "stdout",
     "output_type": "stream",
     "text": [
      "Failed on Schultheis 2017\n",
      "77 ['0807.1463', '1310.4108', '1611.08612', '1801.06157', '0604592', '0311082', '1306.0954']\n"
     ]
    },
    {
     "name": "stderr",
     "output_type": "stream",
     "text": [
      "\r",
      "79it [03:28,  4.85s/it]"
     ]
    },
    {
     "name": "stdout",
     "output_type": "stream",
     "text": [
      "78 []\n",
      "Failed on Feltzing 2018\n"
     ]
    },
    {
     "name": "stderr",
     "output_type": "stream",
     "text": [
      "\r",
      "80it [03:33,  4.87s/it]"
     ]
    },
    {
     "name": "stdout",
     "output_type": "stream",
     "text": [
      "79 ['1807.09773', '1207.2388', '1808.05863', '1409.0568', '1609.02914', '1507.03604', '1807.09784', '1506.06095', '1507.00027', '1309.2631', '1109.5670', '1804.00673', '1612.07622']\n",
      "80 []\n"
     ]
    },
    {
     "name": "stderr",
     "output_type": "stream",
     "text": [
      "\r",
      "82it [03:35,  3.10s/it]"
     ]
    },
    {
     "name": "stdout",
     "output_type": "stream",
     "text": [
      "81 ['1301.3168', '1309.0809', '0912.3693', '1501.02227', '1408.1787', '1406.4130', '1405.7435']\n"
     ]
    },
    {
     "name": "stderr",
     "output_type": "stream",
     "text": [
      "\r",
      "83it [03:38,  3.26s/it]"
     ]
    },
    {
     "name": "stdout",
     "output_type": "stream",
     "text": [
      "82 ['9803167', '9709055', '9806313', '1405.7364', '9909475', '9811062', '1301.7422', '1405.1028', '9710156', '1502.05050']\n",
      "Failed on Hara 2018\n"
     ]
    },
    {
     "name": "stderr",
     "output_type": "stream",
     "text": [
      "\r",
      "85it [03:42,  2.61s/it]"
     ]
    },
    {
     "name": "stdout",
     "output_type": "stream",
     "text": [
      "84 ['0511841', '1206.6097']\n",
      "Failed on Ehrenreich 2006\n",
      "Failed on Snellen 2013\n",
      "Failed on Kopparapu 2014\n",
      "Failed on Ehrenreich 2006\n",
      "Failed on Noack 2016\n",
      "Failed on Simon 2009\n",
      "Failed on Meadows 2016\n",
      "Failed on Meadows 2016\n"
     ]
    },
    {
     "name": "stderr",
     "output_type": "stream",
     "text": [
      "86it [04:07,  2.88s/it]"
     ]
    },
    {
     "name": "stdout",
     "output_type": "stream",
     "text": [
      "85 ['1401.5323', '1701.07513', '1702.08618', '1602.05176', '1307.0515', '1208.5028', '1608.02536', '0503520', '1403.2713', '1302.4566', '0710.5294']\n"
     ]
    },
    {
     "name": "stderr",
     "output_type": "stream",
     "text": [
      "\n"
     ]
    },
    {
     "ename": "KeyError",
     "evalue": "'response'",
     "output_type": "error",
     "traceback": [
      "\u001b[0;31m---------------------------------------------------------------------------\u001b[0m",
      "\u001b[0;31mKeyError\u001b[0m                                  Traceback (most recent call last)",
      "Cell \u001b[0;32mIn[1150], line 3\u001b[0m\n\u001b[1;32m      1\u001b[0m \u001b[38;5;28;01mfor\u001b[39;00m j, query \u001b[38;5;129;01min\u001b[39;00m tqdm(\u001b[38;5;28menumerate\u001b[39m(query_pairs)):\n\u001b[1;32m      2\u001b[0m     \u001b[38;5;28;01mif\u001b[39;00m j \u001b[38;5;241m>\u001b[39m \u001b[38;5;241m46\u001b[39m \u001b[38;5;129;01mand\u001b[39;00m \u001b[38;5;28mlen\u001b[39m(query) \u001b[38;5;241m>\u001b[39m \u001b[38;5;241m0\u001b[39m:\n\u001b[0;32m----> 3\u001b[0m         \u001b[43mmulti_paper\u001b[49m\u001b[38;5;241;43m.\u001b[39;49m\u001b[43marxiv_link\u001b[49m\u001b[43m(\u001b[49m\u001b[43mquery_pairs\u001b[49m\u001b[43m[\u001b[49m\u001b[43mj\u001b[49m\u001b[43m]\u001b[49m\u001b[43m)\u001b[49m\n\u001b[1;32m      4\u001b[0m         \u001b[38;5;28mprint\u001b[39m(j, query_pairs[j][\u001b[38;5;241m0\u001b[39m][\u001b[38;5;124m'\u001b[39m\u001b[38;5;124marxiv\u001b[39m\u001b[38;5;124m'\u001b[39m])\n",
      "File \u001b[0;32m~/retrieval/evaluation/multi_paper.py:371\u001b[0m, in \u001b[0;36marxiv_link\u001b[0;34m(pqueries)\u001b[0m\n\u001b[1;32m    369\u001b[0m query[\u001b[38;5;124m'\u001b[39m\u001b[38;5;124marxiv\u001b[39m\u001b[38;5;124m'\u001b[39m] \u001b[38;5;241m=\u001b[39m []\n\u001b[1;32m    370\u001b[0m \u001b[38;5;28;01mfor\u001b[39;00m bib \u001b[38;5;129;01min\u001b[39;00m query[\u001b[38;5;124m'\u001b[39m\u001b[38;5;124mbibs\u001b[39m\u001b[38;5;124m'\u001b[39m]:\n\u001b[0;32m--> 371\u001b[0m     arxiv_id \u001b[38;5;241m=\u001b[39m \u001b[43msearch_arxiv\u001b[49m\u001b[43m(\u001b[49m\u001b[43mbib\u001b[49m\u001b[43m)\u001b[49m\n\u001b[1;32m    372\u001b[0m     \u001b[38;5;28;01mif\u001b[39;00m arxiv_id \u001b[38;5;129;01mis\u001b[39;00m \u001b[38;5;129;01mnot\u001b[39;00m \u001b[38;5;28;01mNone\u001b[39;00m:\n\u001b[1;32m    373\u001b[0m         query[\u001b[38;5;124m'\u001b[39m\u001b[38;5;124marxiv\u001b[39m\u001b[38;5;124m'\u001b[39m]\u001b[38;5;241m.\u001b[39mappend(arxiv_id)\n",
      "File \u001b[0;32m~/retrieval/evaluation/multi_paper.py:195\u001b[0m, in \u001b[0;36msearch_arxiv\u001b[0;34m(ref, verbose)\u001b[0m\n\u001b[1;32m    183\u001b[0m     \u001b[38;5;28;01mreturn\u001b[39;00m \u001b[38;5;28;01mNone\u001b[39;00m\n\u001b[1;32m    185\u001b[0m \u001b[38;5;66;03m# query = \"\"\u001b[39;00m\n\u001b[1;32m    186\u001b[0m \u001b[38;5;66;03m# for i, surname in enumerate(ref['surnames']):\u001b[39;00m\n\u001b[1;32m    187\u001b[0m \u001b[38;5;66;03m#     if '-' not in surname: \u001b[39;00m\n\u001b[0;32m   (...)\u001b[0m\n\u001b[1;32m    193\u001b[0m \u001b[38;5;66;03m# search = arxiv.Search(query = query, max_results = 10)\u001b[39;00m\n\u001b[1;32m    194\u001b[0m \u001b[38;5;66;03m# results = arxiv_client.results(search)\u001b[39;00m\n\u001b[0;32m--> 195\u001b[0m json_results \u001b[38;5;241m=\u001b[39m \u001b[43mquery_ads\u001b[49m\u001b[43m(\u001b[49m\u001b[43mref\u001b[49m\u001b[43m,\u001b[49m\u001b[43m \u001b[49m\u001b[43mverbose\u001b[49m\u001b[43m,\u001b[49m\u001b[43m \u001b[49m\u001b[43mincyear\u001b[49m\u001b[43m \u001b[49m\u001b[38;5;241;43m=\u001b[39;49m\u001b[43m \u001b[49m\u001b[38;5;28;43;01mTrue\u001b[39;49;00m\u001b[43m)\u001b[49m\n\u001b[1;32m    197\u001b[0m \u001b[38;5;28;01mif\u001b[39;00m \u001b[38;5;28mlen\u001b[39m(json_results) \u001b[38;5;241m==\u001b[39m \u001b[38;5;241m0\u001b[39m:\n\u001b[1;32m    198\u001b[0m     json_results \u001b[38;5;241m=\u001b[39m query_ads(ref, verbose, incyear \u001b[38;5;241m=\u001b[39m \u001b[38;5;28;01mFalse\u001b[39;00m)\n",
      "File \u001b[0;32m~/retrieval/evaluation/multi_paper.py:176\u001b[0m, in \u001b[0;36mquery_ads\u001b[0;34m(ref, verbose, incyear)\u001b[0m\n\u001b[1;32m    172\u001b[0m encoded_query \u001b[38;5;241m=\u001b[39m urlencode(query)\n\u001b[1;32m    173\u001b[0m results \u001b[38;5;241m=\u001b[39m requests\u001b[38;5;241m.\u001b[39mget(\u001b[38;5;124m\"\u001b[39m\u001b[38;5;124mhttps://api.adsabs.harvard.edu/v1/search/query?\u001b[39m\u001b[38;5;132;01m{}\u001b[39;00m\u001b[38;5;124m\"\u001b[39m\u001b[38;5;241m.\u001b[39mformat(encoded_query), \\\n\u001b[1;32m    174\u001b[0m                     headers\u001b[38;5;241m=\u001b[39m{\u001b[38;5;124m'\u001b[39m\u001b[38;5;124mAuthorization\u001b[39m\u001b[38;5;124m'\u001b[39m: \u001b[38;5;124m'\u001b[39m\u001b[38;5;124mBearer \u001b[39m\u001b[38;5;124m'\u001b[39m \u001b[38;5;241m+\u001b[39m ads_token})\n\u001b[0;32m--> 176\u001b[0m json_results \u001b[38;5;241m=\u001b[39m \u001b[43mresults\u001b[49m\u001b[38;5;241;43m.\u001b[39;49m\u001b[43mjson\u001b[49m\u001b[43m(\u001b[49m\u001b[43m)\u001b[49m\u001b[43m[\u001b[49m\u001b[38;5;124;43m'\u001b[39;49m\u001b[38;5;124;43mresponse\u001b[39;49m\u001b[38;5;124;43m'\u001b[39;49m\u001b[43m]\u001b[49m[\u001b[38;5;124m'\u001b[39m\u001b[38;5;124mdocs\u001b[39m\u001b[38;5;124m'\u001b[39m]\n\u001b[1;32m    178\u001b[0m \u001b[38;5;28;01mreturn\u001b[39;00m json_results\n",
      "\u001b[0;31mKeyError\u001b[0m: 'response'"
     ]
    }
   ],
   "source": [
    "for j, query in tqdm(enumerate(query_pairs)):\n",
    "    if j > 46 and len(query) > 0:\n",
    "        multi_paper.arxiv_link(query_pairs[j])\n",
    "        print(j, query_pairs[j][0]['arxiv'])"
   ]
  },
  {
   "cell_type": "code",
   "execution_count": null,
   "id": "63b3b713",
   "metadata": {},
   "outputs": [],
   "source": [
    "# improved keyword search\n",
    "# metadata"
   ]
  },
  {
   "cell_type": "code",
   "execution_count": 1167,
   "id": "23a3f87b",
   "metadata": {},
   "outputs": [
    {
     "ename": "AttributeError",
     "evalue": "'NoneType' object has no attribute 'split'",
     "output_type": "error",
     "traceback": [
      "\u001b[0;31m---------------------------------------------------------------------------\u001b[0m",
      "\u001b[0;31mAttributeError\u001b[0m                            Traceback (most recent call last)",
      "Cell \u001b[0;32mIn[1167], line 6\u001b[0m\n\u001b[1;32m      4\u001b[0m     id_str \u001b[38;5;241m=\u001b[39m query[\u001b[38;5;124m'\u001b[39m\u001b[38;5;124mtitle\u001b[39m\u001b[38;5;124m'\u001b[39m]\u001b[38;5;241m.\u001b[39msplit(\u001b[38;5;124m'\u001b[39m\u001b[38;5;124m \u001b[39m\u001b[38;5;124m'\u001b[39m)[\u001b[38;5;241m0\u001b[39m] \u001b[38;5;241m+\u001b[39m \u001b[38;5;124m'\u001b[39m\u001b[38;5;124m_\u001b[39m\u001b[38;5;124m'\u001b[39m \u001b[38;5;241m+\u001b[39m \u001b[38;5;28mstr\u001b[39m(i \u001b[38;5;241m+\u001b[39m \u001b[38;5;241m1\u001b[39m)\n\u001b[1;32m      5\u001b[0m \u001b[38;5;28;01melse\u001b[39;00m:\n\u001b[0;32m----> 6\u001b[0m     id_str \u001b[38;5;241m=\u001b[39m \u001b[43mquery\u001b[49m\u001b[43m[\u001b[49m\u001b[38;5;124;43m'\u001b[39;49m\u001b[38;5;124;43mid\u001b[39;49m\u001b[38;5;124;43m'\u001b[39;49m\u001b[43m]\u001b[49m\u001b[38;5;241;43m.\u001b[39;49m\u001b[43msplit\u001b[49m(\u001b[38;5;124m'\u001b[39m\u001b[38;5;124m_\u001b[39m\u001b[38;5;124m'\u001b[39m)[\u001b[38;5;241m0\u001b[39m] \u001b[38;5;241m+\u001b[39m \u001b[38;5;124m'\u001b[39m\u001b[38;5;124m_\u001b[39m\u001b[38;5;124m'\u001b[39m \u001b[38;5;241m+\u001b[39m \u001b[38;5;28mstr\u001b[39m(i \u001b[38;5;241m+\u001b[39m \u001b[38;5;241m1\u001b[39m)\n\u001b[1;32m      7\u001b[0m \u001b[38;5;28;01mif\u001b[39;00m \u001b[38;5;28mtype\u001b[39m(query[\u001b[38;5;124m'\u001b[39m\u001b[38;5;124marxiv\u001b[39m\u001b[38;5;124m'\u001b[39m]) \u001b[38;5;241m==\u001b[39m \u001b[38;5;28mset\u001b[39m:\n\u001b[1;32m      8\u001b[0m     query[\u001b[38;5;124m'\u001b[39m\u001b[38;5;124marxiv\u001b[39m\u001b[38;5;124m'\u001b[39m] \u001b[38;5;241m=\u001b[39m \u001b[38;5;28mlist\u001b[39m(query[\u001b[38;5;124m'\u001b[39m\u001b[38;5;124marxiv\u001b[39m\u001b[38;5;124m'\u001b[39m])\n",
      "\u001b[0;31mAttributeError\u001b[0m: 'NoneType' object has no attribute 'split'"
     ]
    }
   ],
   "source": [
    "query_pairs_formatted = {}\n",
    "for paper in query_pairs[:83]:\n",
    "    for i, query in enumerate(paper):\n",
    "        if query['id'] == \"\":\n",
    "            id_str = query['title'].split(' ')[0] + '_' + str(i + 1)\n",
    "        else:\n",
    "            id_str = query['id'].split('_')[0] + '_' + str(i + 1)\n",
    "        if type(query['arxiv']) == set:\n",
    "            query['arxiv'] = list(query['arxiv'])\n",
    "        query_pairs_formatted[id_str] = {'title': query['title'], 'question':query['question'], \n",
    "                                        'text': query['paragraph'], 'citations':query['citations'],\n",
    "                                        'arxiv': query['arxiv']}"
   ]
  },
  {
   "cell_type": "code",
   "execution_count": 1165,
   "id": "5f8f60b0",
   "metadata": {},
   "outputs": [
    {
     "data": {
      "text/plain": [
       "list"
      ]
     },
     "execution_count": 1165,
     "metadata": {},
     "output_type": "execute_result"
    }
   ],
   "source": [
    "type(query['arxiv'])"
   ]
  },
  {
   "cell_type": "code",
   "execution_count": null,
   "id": "36870757",
   "metadata": {},
   "outputs": [],
   "source": []
  }
 ],
 "metadata": {
  "kernelspec": {
   "display_name": "Python 3 (ipykernel)",
   "language": "python",
   "name": "python3"
  },
  "language_info": {
   "codemirror_mode": {
    "name": "ipython",
    "version": 3
   },
   "file_extension": ".py",
   "mimetype": "text/x-python",
   "name": "python",
   "nbconvert_exporter": "python",
   "pygments_lexer": "ipython3",
   "version": "3.9.15"
  }
 },
 "nbformat": 4,
 "nbformat_minor": 5
}
