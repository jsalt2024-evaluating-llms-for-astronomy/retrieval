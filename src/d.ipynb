{
 "cells": [
  {
   "cell_type": "code",
   "execution_count": 1,
   "metadata": {},
   "outputs": [
    {
     "name": "stderr",
     "output_type": "stream",
     "text": [
      "/Users/charlesoneill/miniconda3/envs/jsalt/lib/python3.12/site-packages/tqdm/auto.py:21: TqdmWarning: IProgress not found. Please update jupyter and ipywidgets. See https://ipywidgets.readthedocs.io/en/stable/user_install.html\n",
      "  from .autonotebook import tqdm as notebook_tqdm\n"
     ]
    }
   ],
   "source": [
    "from datasets import load_dataset"
   ]
  },
  {
   "cell_type": "code",
   "execution_count": 2,
   "metadata": {},
   "outputs": [],
   "source": [
    "path = \"charlieoneill/jsalt-astroph-dataset\"\n",
    "dataset = load_dataset(path)"
   ]
  },
  {
   "cell_type": "code",
   "execution_count": 3,
   "metadata": {},
   "outputs": [
    {
     "name": "stderr",
     "output_type": "stream",
     "text": [
      "Filter: 100%|██████████| 271544/271544 [00:06<00:00, 44600.38 examples/s]"
     ]
    },
    {
     "name": "stdout",
     "output_type": "stream",
     "text": [
      "Dataset({\n",
      "    features: ['subfolder', 'filename', 'abstract', 'introduction', 'conclusions', 'year', 'month', 'arxiv_id'],\n",
      "    num_rows: 1\n",
      "})\n"
     ]
    },
    {
     "name": "stderr",
     "output_type": "stream",
     "text": [
      "\n"
     ]
    }
   ],
   "source": [
    "# Get the entries where arxiv_id is 1607.02388\n",
    "entries = dataset[\"train\"].filter(lambda x: x[\"arxiv_id\"] == \"1607.02388\")\n",
    "print(entries)"
   ]
  },
  {
   "cell_type": "code",
   "execution_count": 5,
   "metadata": {},
   "outputs": [
    {
     "data": {
      "text/plain": [
       "[' ']"
      ]
     },
     "execution_count": 5,
     "metadata": {},
     "output_type": "execute_result"
    }
   ],
   "source": [
    "entries['abstract']"
   ]
  },
  {
   "cell_type": "code",
   "execution_count": 7,
   "metadata": {},
   "outputs": [
    {
     "data": {
      "text/plain": [
       "['']"
      ]
     },
     "execution_count": 7,
     "metadata": {},
     "output_type": "execute_result"
    }
   ],
   "source": [
    "entries['conclusions']"
   ]
  },
  {
   "cell_type": "code",
   "execution_count": 8,
   "metadata": {},
   "outputs": [
    {
     "data": {
      "text/plain": [
       "[\"The initial mass of a star on the zero-age main sequence largely determines its fate. Stars born with masses exceeding $\\\\sim 10\\\\,M_\\\\odot$ end their lives in a core-collapse event, e.g. a supernova (SN) explosion, and leave a neutron star or a black hole as remnant \\\\citep{Heger2003}. Such massive stars are luminous, with bolometric luminosities exceeding $L_{\\\\rm bol}\\\\msim 10^4\\\\,L_\\\\odot$. On the main sequence, massive stars have spectral types earlier than B2V. These bright stars live very fast, the most massive of them die within just $\\\\sim 10$\\\\,Myr. Albeit we see many massive stars by naked eye in the night sky (e.g.\\\\ the Orion Belt consists of massive stars), these stars are actually very rare and constitute only $\\\\sim 0.4$\\\\%\\\\ of all stars in our Milky Way.  Despite their small number, massive stars have enormous impact on the galactic ecology. Their strong ionizing radiation and stellar winds, as well as their final demise in  SN explosions, largely determine the physical conditions in the interstellar medium (ISM) and influence the formation of new generations of stars and planets. Thus, massive stars are among the key players in the cosmic evolution.  The atmospheres of hot massive stars are usually transparent in the continuum but opaque in many spectral lines. Because the stars are hot, a large fraction of their bolometric luminosity is emitted at  ultraviolet (UV) wavelengths. The radiation leaves the star in radial direction. A photon in a spectral line $\\\\nu_0$ may be absorbed by an ion and re-emitted in any direction, transferring its  momentum to the ion. The ion would accelerated. Because of the Doppler effect, the wavelength of the spectral line will shift, and will be able to scatter light with wavelengths other than $\\\\nu_0$. Hence, the photons within a broad wavelength range  will be ``swept up'', by the same spectral line.  The Coulomb coupling between particles ensures the collective motion, and a stellar wind develops. Such radiatively driven stellar winds  \\\\citep[][CAK]{CAK1975}  are ubiquitous in hot non-degenerate stars.  The amount of mass removed from the star by its wind is determined by the mass-loss rate, $\\\\dot{M}$. Theory predicts that for O-stars the mass-loss rates are in the range $\\\\dot{M}_{\\\\rm CAK}\\\\approx (10^{-7}-10^{-5})$\\\\myr\\\\ depending on the fundamental stellar parameters \\\\Teff, \\\\Lbol, and $\\\\log{g}$ \\\\citep{Pau1986, Vink2001}. Hence, during stellar life time, a significant fraction of mass is removed by the stellar wind. Thus, the mass-loss rate is a crucial factor of stellar evolution. \"]"
      ]
     },
     "execution_count": 8,
     "metadata": {},
     "output_type": "execute_result"
    }
   ],
   "source": [
    "entries['introduction']"
   ]
  },
  {
   "cell_type": "code",
   "execution_count": 16,
   "metadata": {},
   "outputs": [
    {
     "data": {
      "text/plain": [
       "'It is shown that the plasma, generated during an impact of a meteoroid with\\nan artificial satellite, can produce electromagnetic radiation below the\\nmicrowave frequency range. This interference is shown to exceed local noise\\nsources and might disturb regular satellite operations.'"
      ]
     },
     "execution_count": 16,
     "metadata": {},
     "output_type": "execute_result"
    }
   ],
   "source": [
    "import feedparser\n",
    "import urllib, urllib.request\n",
    "\n",
    "def get_abstract(arxiv_id):\n",
    "\n",
    "    query = arxiv_id\n",
    "    url = 'http://export.arxiv.org/api/query?search_query='+query+'&start=0&max_results=1'\n",
    "    data = urllib.request.urlopen(url)\n",
    "    # print(data.read().decode('utf-8'))\n",
    "    data = data.read().decode('utf-8')\n",
    "    feed = feedparser.parse(data)\n",
    "    return feed['entries'][0]['summary']\n",
    "\n",
    "abstract = 'physics/9804027'\n",
    "get_abstract(abstract)"
   ]
  },
  {
   "cell_type": "code",
   "execution_count": 14,
   "metadata": {},
   "outputs": [
    {
     "name": "stderr",
     "output_type": "stream",
     "text": [
      "Downloading readme: 100%|██████████| 1.16k/1.16k [00:00<00:00, 6.95MB/s]\n",
      "Downloading data: 100%|██████████| 232M/232M [00:32<00:00, 7.08MB/s] \n",
      "Downloading data: 100%|██████████| 228M/228M [00:38<00:00, 5.92MB/s] \n",
      "Downloading data: 100%|██████████| 229M/229M [00:42<00:00, 5.42MB/s] \n",
      "Downloading data: 100%|██████████| 230M/230M [00:46<00:00, 4.93MB/s] \n",
      "Downloading data: 100%|██████████| 229M/229M [00:41<00:00, 5.47MB/s] \n",
      "Downloading data:  14%|█▎        | 31.5M/232M [00:16<00:28, 7.05MB/s]Error while downloading from https://huggingface.co/datasets/JSALT2024-Astro-LLMs/astro_paper_corpus/resolve/b11ebe80aa1966a9d06e6c1d31d300de1c7dd8c8/data/train-00005-of-00009.parquet: HTTPSConnectionPool(host='cdn-lfs-us-1.huggingface.co', port=443): Read timed out.\n",
      "Trying to resume download...\n",
      "Downloading data: 100%|██████████| 232M/232M [05:17<00:00, 730kB/s]  \n",
      "Downloading data: 100%|██████████| 228M/228M [02:19<00:00, 1.63MB/s] \n",
      "Downloading data:  51%|█████     | 115M/225M [01:23<01:08, 1.61MB/s] Error while downloading from https://huggingface.co/datasets/JSALT2024-Astro-LLMs/astro_paper_corpus/resolve/b11ebe80aa1966a9d06e6c1d31d300de1c7dd8c8/data/train-00007-of-00009.parquet: HTTPSConnectionPool(host='cdn-lfs-us-1.huggingface.co', port=443): Read timed out.\n",
      "Trying to resume download...\n",
      "Downloading data: 100%|██████████| 225M/225M [02:10<00:00, 1.73MB/s]\n",
      "Downloading data: 100%|██████████| 230M/230M [01:52<00:00, 2.05MB/s] \n",
      "Generating train split: 100%|██████████| 271544/271544 [00:04<00:00, 61724.03 examples/s]\n"
     ]
    }
   ],
   "source": [
    "from datasets import load_dataset\n",
    "\n",
    "ds = load_dataset(\"JSALT2024-Astro-LLMs/astro_paper_corpus\")"
   ]
  },
  {
   "cell_type": "code",
   "execution_count": null,
   "metadata": {},
   "outputs": [],
   "source": []
  }
 ],
 "metadata": {
  "kernelspec": {
   "display_name": "jsalt",
   "language": "python",
   "name": "python3"
  },
  "language_info": {
   "codemirror_mode": {
    "name": "ipython",
    "version": 3
   },
   "file_extension": ".py",
   "mimetype": "text/x-python",
   "name": "python",
   "nbconvert_exporter": "python",
   "pygments_lexer": "ipython3",
   "version": "3.12.4"
  }
 },
 "nbformat": 4,
 "nbformat_minor": 2
}
