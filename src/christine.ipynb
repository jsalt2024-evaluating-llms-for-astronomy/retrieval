{
 "cells": [
  {
   "cell_type": "code",
   "execution_count": 8,
   "id": "ea693f31",
   "metadata": {},
   "outputs": [],
   "source": [
    "import os\n",
    "from tqdm import tqdm\n",
    "from datasets import load_dataset\n",
    "import sys\n",
    "sys.path.append('../evaluation')\n",
    "from evaluate import RetrievalSystem, main as evaluate_main\n",
    "import yaml\n",
    "import hyde"
   ]
  },
  {
   "cell_type": "code",
   "execution_count": 4,
   "id": "706478f2",
   "metadata": {},
   "outputs": [],
   "source": [
    "with open(\"/users/christineye/retrieval/config.yaml\", 'r') as stream:\n",
    "    api_key = yaml.safe_load(stream)['openai_api_key']"
   ]
  },
  {
   "cell_type": "code",
   "execution_count": 2,
   "id": "0e9b75d3",
   "metadata": {},
   "outputs": [],
   "source": [
    "%load_ext autoreload\n",
    "%autoreload 2"
   ]
  },
  {
   "cell_type": "code",
   "execution_count": 45,
   "id": "3b392971",
   "metadata": {},
   "outputs": [],
   "source": [
    "test_hyde = hyde.HydeRetrievalSystem(config_path = \"/users/christineye/retrieval/config.yaml\", \n",
    "                                     db_path = \"\")"
   ]
  },
  {
   "cell_type": "code",
   "execution_count": null,
   "id": "b3ac46fc",
   "metadata": {},
   "outputs": [],
   "source": []
  }
 ],
 "metadata": {
  "kernelspec": {
   "display_name": "base",
   "language": "python",
   "name": "python3"
  },
  "language_info": {
   "codemirror_mode": {
    "name": "ipython",
    "version": 3
   },
   "file_extension": ".py",
   "mimetype": "text/x-python",
   "name": "python",
   "nbconvert_exporter": "python",
   "pygments_lexer": "ipython3",
   "version": "3.10.0"
  }
 },
 "nbformat": 4,
 "nbformat_minor": 5
}
