{
 "cells": [
  {
   "cell_type": "code",
   "execution_count": 106,
   "id": "ea693f31",
   "metadata": {},
   "outputs": [
    {
     "name": "stdout",
     "output_type": "stream",
     "text": [
      "The autoreload extension is already loaded. To reload it, use:\n",
      "  %reload_ext autoreload\n"
     ]
    }
   ],
   "source": [
    "import os\n",
    "from tqdm import tqdm\n",
    "from datasets import load_dataset\n",
    "import sys\n",
    "sys.path.append('../evaluation')\n",
    "from evaluate import RetrievalSystem, main as evaluate_main\n",
    "import yaml\n",
    "import hyde\n",
    "import json\n",
    "from vector_store import EmbeddingClient, Document, DocumentLoader\n",
    "import filters\n",
    "import hyde_reranking\n",
    "%load_ext autoreload\n",
    "%autoreload 2"
   ]
  },
  {
   "cell_type": "code",
   "execution_count": 3,
   "id": "e61909f4",
   "metadata": {},
   "outputs": [
    {
     "name": "stderr",
     "output_type": "stream",
     "text": [
      "/Users/christineye/anaconda3/envs/jsalt-retrieval/lib/python3.10/site-packages/tqdm/auto.py:21: TqdmWarning: IProgress not found. Please update jupyter and ipywidgets. See https://ipywidgets.readthedocs.io/en/stable/user_install.html\n",
      "  from .autonotebook import tqdm as notebook_tqdm\n"
     ]
    },
    {
     "name": "stdout",
     "output_type": "stream",
     "text": [
      "/Users/christineye/anaconda3/envs/jsalt-retrieval/lib/python3.10/site-packages\n"
     ]
    }
   ],
   "source": [
    "import semantic_search"
   ]
  },
  {
   "cell_type": "code",
   "execution_count": 99,
   "id": "eb025613",
   "metadata": {},
   "outputs": [
    {
     "name": "stdout",
     "output_type": "stream",
     "text": [
      "Loading embeddings...\n",
      "Loading documents...\n",
      "Loading index mapping...\n",
      "Processing document dates...\n",
      "Loading metadata...\n",
      "Data loaded successfully.\n",
      "Loading filters...\n",
      "Loading existing index...\n",
      "Index loaded successfully.\n"
     ]
    }
   ],
   "source": [
    "test_hyde = semantic_search.EmbeddingRetrievalSystem(weight_citation = True, weight_date= True, weight_keywords= True)"
   ]
  },
  {
   "cell_type": "code",
   "execution_count": 107,
   "id": "3b392971",
   "metadata": {},
   "outputs": [
    {
     "name": "stdout",
     "output_type": "stream",
     "text": [
      "Loading embeddings...\n",
      "Loading documents...\n",
      "Loading index mapping...\n",
      "Processing document dates...\n",
      "Loading metadata...\n",
      "Data loaded successfully.\n",
      "Loading filters...\n"
     ]
    }
   ],
   "source": [
    "test_hyde = hyde_reranking.HydeCohereRetrievalSystem(max_doclen = 100, weight_citation = False, weight_keywords = False, weight_date = True)"
   ]
  },
  {
   "cell_type": "code",
   "execution_count": 108,
   "id": "4be083df",
   "metadata": {},
   "outputs": [],
   "source": [
    "query = \"What is the observed stellar mass of the Milky Way as of 2020?\"\n",
    "arxiv_id = \"2301.00001\"\n",
    "top_k = 10"
   ]
  },
  {
   "cell_type": "code",
   "execution_count": 109,
   "id": "b3ac46fc",
   "metadata": {},
   "outputs": [
    {
     "name": "stdout",
     "output_type": "stream",
     "text": [
      "{'has_temporal_aspect': True, 'expected_year_filter': 'year == 2020', 'expected_recency_weight': 10}\n"
     ]
    }
   ],
   "source": [
    "results = test_hyde.retrieve(query, arxiv_id, top_k, reweight = True)\n",
    "print(results)"
   ]
  },
  {
   "cell_type": "code",
   "execution_count": 105,
   "id": "23793678",
   "metadata": {},
   "outputs": [
    {
     "data": {
      "text/plain": [
       "['2010.13801',\n",
       " '2001.02651',\n",
       " '2010.08537',\n",
       " '2012.10130',\n",
       " '2004.10986',\n",
       " '2007.14825',\n",
       " '2011.05732',\n",
       " '2010.07310',\n",
       " '2010.13789',\n",
       " '2008.00099']"
      ]
     },
     "execution_count": 105,
     "metadata": {},
     "output_type": "execute_result"
    }
   ],
   "source": [
    "results = test_hyde.retrieve(query, arxiv_id, top_k, reweight = False)\n",
    "print(results)"
   ]
  },
  {
   "cell_type": "code",
   "execution_count": 86,
   "id": "03c0a6da",
   "metadata": {},
   "outputs": [
    {
     "name": "stdout",
     "output_type": "stream",
     "text": [
      "Loading existing index...\n",
      "Index loaded successfully.\n"
     ]
    }
   ],
   "source": [
    "test_hyde.keyword_filter = KeywordFilter(index_path = \"../data/vector_store/keyword_index.json\", metadata = test_hyde.metadata, remove_capitals = True)"
   ]
  },
  {
   "cell_type": "code",
   "execution_count": 95,
   "id": "dcc4236a",
   "metadata": {},
   "outputs": [
    {
     "name": "stdout",
     "output_type": "stream",
     "text": [
      "Building index...\n"
     ]
    },
    {
     "name": "stderr",
     "output_type": "stream",
     "text": [
      "271540it [00:12, 22534.72it/s]\n"
     ]
    }
   ],
   "source": [
    "test_hyde.keyword_filter.build_index()"
   ]
  },
  {
   "cell_type": "code",
   "execution_count": 84,
   "id": "1f93ae1a",
   "metadata": {},
   "outputs": [
    {
     "data": {
      "text/plain": [
       "['total mass',\n",
       " 'rotation curve data selection',\n",
       " 'Gaia DR2 rotation curve data',\n",
       " 'various possible systematics',\n",
       " 'good statistical agreement',\n",
       " 'Bayesian model averaging',\n",
       " 'uncertainties',\n",
       " 'uncertainty',\n",
       " 'the dark matter profile assumptions',\n",
       " 'systematic error',\n",
       " 'different assumptions',\n",
       " 'M_\\\\odot}$',\n",
       " 'M_{200}^{\\\\rm DM}=8.3^{+1.2}_{-0.9}{\\\\rm(stat)}\\\\times10^{11}\\\\,{\\\\rm',\n",
       " 'surface stellar density and microlensing measurements',\n",
       " 'the dark matter profile',\n",
       " 'the total stellar mass',\n",
       " 'the dark matter distribution',\n",
       " 'priors',\n",
       " 'Bayesian',\n",
       " 'DM}=8.3^{+1.2}_{-0.9}{\\\\rm(stat)}\\\\times10^{11}\\\\,{\\\\rm']"
      ]
     },
     "execution_count": 84,
     "metadata": {},
     "output_type": "execute_result"
    }
   ],
   "source": [
    "test_hyde.metadata['1912.04296']['keyword_search']"
   ]
  },
  {
   "cell_type": "code",
   "execution_count": 11,
   "id": "590980cb",
   "metadata": {},
   "outputs": [
    {
     "name": "stderr",
     "output_type": "stream",
     "text": [
      "Downloading data: 100%|██████████| 238M/238M [00:09<00:00, 23.8MB/s]\n",
      "Downloading data: 100%|██████████| 237M/237M [00:07<00:00, 29.8MB/s]\n",
      "Downloading data: 100%|██████████| 240M/240M [00:08<00:00, 29.7MB/s]\n",
      "Downloading data: 100%|██████████| 235M/235M [00:07<00:00, 32.5MB/s]\n",
      "Downloading data: 100%|██████████| 233M/233M [00:07<00:00, 32.6MB/s]\n",
      "Downloading data: 100%|██████████| 237M/237M [00:07<00:00, 30.7MB/s]\n",
      "Generating train split: 100%|██████████| 271544/271544 [00:05<00:00, 54228.25 examples/s]\n"
     ]
    }
   ],
   "source": [
    "astro_meta = load_dataset(\"JSALT2024-Astro-LLMs/astro_paper_corpus\", split = \"train\")"
   ]
  },
  {
   "cell_type": "code",
   "execution_count": 36,
   "id": "a7e5a6f0",
   "metadata": {},
   "outputs": [],
   "source": [
    "keys = list(paper.keys())\n",
    "keys.remove('abstract')\n",
    "keys.remove('introduction')\n",
    "keys.remove('conclusions')"
   ]
  },
  {
   "cell_type": "code",
   "execution_count": 42,
   "id": "2d8c6cab",
   "metadata": {},
   "outputs": [],
   "source": [
    "metadata = {}\n",
    "for paper in astro_meta:\n",
    "    id_str = paper['arxiv_id']\n",
    "    metadata[id_str] = {key: paper[key] for key in keys}"
   ]
  },
  {
   "cell_type": "code",
   "execution_count": 13,
   "id": "2fedb877",
   "metadata": {},
   "outputs": [],
   "source": [
    "with open('../data/vector_store/metadata.json', 'r') as f:\n",
    "    metadata = json.load(f)"
   ]
  },
  {
   "cell_type": "code",
   "execution_count": 28,
   "id": "32d82a9a",
   "metadata": {},
   "outputs": [],
   "source": [
    "def make_keyword_index(metadata):\n",
    "    keyword_index = {}\n",
    "    \n",
    "    for i, index in tqdm(enumerate(metadata)):\n",
    "        paper = metadata[index]\n",
    "        for keyword in paper['keyword_search']:\n",
    "            term = ' '.join(word for word in keyword.lower().split() if word.lower() not in stopwords)\n",
    "            if term not in keyword_index:\n",
    "                keyword_index[term] = []\n",
    "            \n",
    "            keyword_index[term].append(paper['arxiv_id'])\n",
    "    \n",
    "    return keyword_index"
   ]
  },
  {
   "cell_type": "code",
   "execution_count": 29,
   "id": "c4fb1433",
   "metadata": {},
   "outputs": [
    {
     "name": "stderr",
     "output_type": "stream",
     "text": [
      "271540it [00:11, 24324.32it/s]\n"
     ]
    }
   ],
   "source": [
    "keyword_index = make_keyword_index(metadata)"
   ]
  },
  {
   "cell_type": "code",
   "execution_count": 69,
   "id": "385b4262",
   "metadata": {},
   "outputs": [],
   "source": [
    "with open('../data/vector_store/keyword_index.json', 'w') as f:\n",
    "    json.dump(keyword_index, f)"
   ]
  },
  {
   "cell_type": "code",
   "execution_count": 47,
   "id": "a13f19c3",
   "metadata": {},
   "outputs": [
    {
     "name": "stdout",
     "output_type": "stream",
     "text": [
      "Loading embeddings...\n",
      "Loading documents...\n",
      "Loading index mapping...\n",
      "Processing document dates...\n",
      "Loading metadata...\n",
      "Data loaded successfully.\n"
     ]
    }
   ],
   "source": [
    "test = hyde_reranking.HydeCohereRetrievalSystem(config_path = \"../config.yaml\")"
   ]
  },
  {
   "cell_type": "code",
   "execution_count": 57,
   "id": "2ffaf789",
   "metadata": {},
   "outputs": [
    {
     "data": {
      "text/plain": [
       "['0801.1023',\n",
       " '1711.01453',\n",
       " '2101.05821',\n",
       " '1001.3411',\n",
       " '1503.06065',\n",
       " '1703.08585',\n",
       " '1611.01545',\n",
       " '1510.06665',\n",
       " '2003.04925',\n",
       " '1908.00116']"
      ]
     },
     "execution_count": 57,
     "metadata": {},
     "output_type": "execute_result"
    }
   ],
   "source": [
    "test.weight_citation = False\n",
    "test.retrieve(query, arxiv_id, top_k)"
   ]
  },
  {
   "cell_type": "code",
   "execution_count": 56,
   "id": "0e14a16e",
   "metadata": {},
   "outputs": [
    {
     "data": {
      "text/plain": [
       "['0801.1023',\n",
       " '1711.01453',\n",
       " '2101.05821',\n",
       " '1001.3411',\n",
       " '1703.08585',\n",
       " '1510.06665',\n",
       " '2003.04925',\n",
       " '1908.00116',\n",
       " 'astro-ph0611863_arXiv.txt',\n",
       " 'astro-ph0005502_arXiv.txt']"
      ]
     },
     "execution_count": 56,
     "metadata": {},
     "output_type": "execute_result"
    }
   ],
   "source": [
    "query = \"What are the primary computational methods used in modern cosmological simulations, and what are some notable examples of each approach?\"\n",
    "test.weight_citation = True\n",
    "test.retrieve(query, arxiv_id, top_k)"
   ]
  },
  {
   "cell_type": "code",
   "execution_count": 21,
   "id": "e2c4e395",
   "metadata": {},
   "outputs": [
    {
     "data": {
      "text/plain": [
       "['a cored dark matter halo',\n",
       " 'a dark matter halo',\n",
       " 'Fornax',\n",
       " 'a constant density core',\n",
       " 'the dark matter mass profile',\n",
       " 'a core size',\n",
       " 'the core size',\n",
       " 'radius',\n",
       " 'constraints',\n",
       " 'a dark matter cusp',\n",
       " 'Spheroidal',\n",
       " 'order',\n",
       " 'the Fornax dwarf Spheroidal',\n",
       " 'first',\n",
       " 'unrealistically large scale radii',\n",
       " 'the concentration parameter',\n",
       " 'Navarro-Frenk-White haloes',\n",
       " 'its density distribution',\n",
       " 'Navarro',\n",
       " 'three distinct stellar subpopulations']"
      ]
     },
     "execution_count": 21,
     "metadata": {},
     "output_type": "execute_result"
    }
   ],
   "source": [
    "metadata['1210.3157']['keyword_search']"
   ]
  },
  {
   "cell_type": "code",
   "execution_count": null,
   "id": "557bd783",
   "metadata": {},
   "outputs": [],
   "source": []
  }
 ],
 "metadata": {
  "kernelspec": {
   "display_name": "base",
   "language": "python",
   "name": "python3"
  },
  "language_info": {
   "codemirror_mode": {
    "name": "ipython",
    "version": 3
   },
   "file_extension": ".py",
   "mimetype": "text/x-python",
   "name": "python",
   "nbconvert_exporter": "python",
   "pygments_lexer": "ipython3",
   "version": "3.10.0"
  }
 },
 "nbformat": 4,
 "nbformat_minor": 5
}
