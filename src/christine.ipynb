{
 "cells": [
  {
   "cell_type": "code",
   "execution_count": 2,
   "id": "ea693f31",
   "metadata": {},
   "outputs": [
    {
     "name": "stderr",
     "output_type": "stream",
     "text": [
      "The cache for model files in Transformers v4.22.0 has been updated. Migrating your old cache. This is a one-time only operation. You can interrupt this and resume the migration later on by calling `transformers.utils.move_cache()`.\n",
      "0it [00:00, ?it/s]\n",
      "None of PyTorch, TensorFlow >= 2.0, or Flax have been found. Models won't be available and only tokenizers, configuration and file/data utilities can be used.\n"
     ]
    }
   ],
   "source": [
    "import os\n",
    "from tqdm import tqdm\n",
    "from datasets import load_dataset\n",
    "import sys\n",
    "sys.path.append('../evaluation')\n",
    "from evaluate import RetrievalSystem, main as evaluate_main\n",
    "import yaml\n",
    "import hyde"
   ]
  },
  {
   "cell_type": "code",
   "execution_count": 4,
   "id": "706478f2",
   "metadata": {},
   "outputs": [],
   "source": [
    "with open(\"/users/christineye/retrieval/config.yaml\", 'r') as stream:\n",
    "    api_key = yaml.safe_load(stream)['openai_api_key']"
   ]
  },
  {
   "cell_type": "code",
   "execution_count": 3,
   "id": "0e9b75d3",
   "metadata": {},
   "outputs": [],
   "source": [
    "%load_ext autoreload\n",
    "%autoreload 2"
   ]
  },
  {
   "cell_type": "code",
   "execution_count": 12,
   "id": "6d42c5f7",
   "metadata": {},
   "outputs": [],
   "source": [
    "from vector_store import EmbeddingClient, Document, DocumentLoader"
   ]
  },
  {
   "cell_type": "code",
   "execution_count": 13,
   "id": "3b392971",
   "metadata": {},
   "outputs": [
    {
     "name": "stdout",
     "output_type": "stream",
     "text": [
      "Loading embeddings...\n",
      "Loading documents...\n",
      "Loading index mapping...\n",
      "Processing document dates...\n",
      "Data loaded successfully.\n"
     ]
    }
   ],
   "source": [
    "test_hyde = hyde.HydeRetrievalSystem(dataset_path = \"charlieoneill/jsalt-astroph-dataset\",\n",
    "                         embeddings_path = \"/users/christineye/retrieval/data/vector_store/embeddings_matrix.npy\",\n",
    "                         documents_path = \"/users/christineye/retrieval/data/vector_store/documents.pkl\",\n",
    "                         index_mapping_path = \"/users/christineye/retrieval/data/vector_store/index_mapping.pkl\", config_path = \"/users/christineye/retrieval/config.yaml\", \n",
    "                                     generate_n = 3, embed_query = True, max_doclen = 100)"
   ]
  },
  {
   "cell_type": "code",
   "execution_count": 15,
   "id": "b3ac46fc",
   "metadata": {},
   "outputs": [],
   "source": [
    "query = \"What is the stellar mass of the Milky Way?\"\n",
    "arxiv_id = \"2301.00001\"\n",
    "top_k = 10\n",
    "results = test_hyde.retrieve(query, arxiv_id, top_k)"
   ]
  },
  {
   "cell_type": "code",
   "execution_count": null,
   "id": "c7ae89ae",
   "metadata": {},
   "outputs": [],
   "source": []
  }
 ],
 "metadata": {
  "kernelspec": {
   "display_name": "base",
   "language": "python",
   "name": "python3"
  },
  "language_info": {
   "codemirror_mode": {
    "name": "ipython",
    "version": 3
   },
   "file_extension": ".py",
   "mimetype": "text/x-python",
   "name": "python",
   "nbconvert_exporter": "python",
   "pygments_lexer": "ipython3",
   "version": "3.10.0"
  }
 },
 "nbformat": 4,
 "nbformat_minor": 5
}
