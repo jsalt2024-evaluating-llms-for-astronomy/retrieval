{
 "cells": [
  {
   "cell_type": "code",
   "execution_count": 4,
   "id": "ea693f31",
   "metadata": {},
   "outputs": [
    {
     "name": "stderr",
     "output_type": "stream",
     "text": [
      "None of PyTorch, TensorFlow >= 2.0, or Flax have been found. Models won't be available and only tokenizers, configuration and file/data utilities can be used.\n"
     ]
    }
   ],
   "source": [
    "import os\n",
    "from tqdm import tqdm\n",
    "from datasets import load_dataset\n",
    "import sys\n",
    "sys.path.append('../evaluation')\n",
    "from evaluate import RetrievalSystem, main as evaluate_main\n",
    "import yaml\n",
    "import hyde\n",
    "import json\n",
    "from vector_store import EmbeddingClient, Document, DocumentLoader\n",
    "import filters\n",
    "%load_ext autoreload\n",
    "%autoreload 2"
   ]
  },
  {
   "cell_type": "code",
   "execution_count": 3,
   "id": "e61909f4",
   "metadata": {},
   "outputs": [
    {
     "name": "stderr",
     "output_type": "stream",
     "text": [
      "/Users/christineye/anaconda3/envs/jsalt-retrieval/lib/python3.10/site-packages/tqdm/auto.py:21: TqdmWarning: IProgress not found. Please update jupyter and ipywidgets. See https://ipywidgets.readthedocs.io/en/stable/user_install.html\n",
      "  from .autonotebook import tqdm as notebook_tqdm\n"
     ]
    },
    {
     "name": "stdout",
     "output_type": "stream",
     "text": [
      "/Users/christineye/anaconda3/envs/jsalt-retrieval/lib/python3.10/site-packages\n"
     ]
    }
   ],
   "source": [
    "import semantic_search"
   ]
  },
  {
   "cell_type": "code",
   "execution_count": 5,
   "id": "eb025613",
   "metadata": {},
   "outputs": [
    {
     "name": "stdout",
     "output_type": "stream",
     "text": [
      "Loading embeddings...\n",
      "Loading documents...\n",
      "Loading index mapping...\n",
      "Processing document dates...\n",
      "Loading metadata...\n",
      "Data loaded successfully.\n",
      "Loading filters...\n"
     ]
    }
   ],
   "source": [
    "test_hyde = semantic_search.EmbeddingRetrievalSystem(weight_citation = True, weight_date= True, weight_keywords= True)"
   ]
  },
  {
   "cell_type": "code",
   "execution_count": 3,
   "id": "3b392971",
   "metadata": {},
   "outputs": [
    {
     "name": "stdout",
     "output_type": "stream",
     "text": [
      "Loading embeddings...\n",
      "Loading documents...\n",
      "Loading index mapping...\n",
      "Processing document dates...\n",
      "Loading metadata...\n",
      "Data loaded successfully.\n"
     ]
    }
   ],
   "source": [
    "test_hyde = hyde.HydeRetrievalSystem(embeddings_path = \"/users/christineye/retrieval/data/vector_store/embeddings_matrix.npy\",\n",
    "                         documents_path = \"/users/christineye/retrieval/data/vector_store/documents.pkl\",\n",
    "                         index_mapping_path = \"/users/christineye/retrieval/data/vector_store/index_mapping.pkl\", config_path = \"/users/christineye/retrieval/config.yaml\", \n",
    "                                     generate_n = 3, embed_query = True, max_doclen = 100)"
   ]
  },
  {
   "cell_type": "code",
   "execution_count": 17,
   "id": "4be083df",
   "metadata": {},
   "outputs": [],
   "source": [
    "query = \"What is the observed stellar mass of the Milky Way?\"\n",
    "arxiv_id = \"2301.00001\"\n",
    "top_k = 10"
   ]
  },
  {
   "cell_type": "code",
   "execution_count": 20,
   "id": "b3ac46fc",
   "metadata": {},
   "outputs": [],
   "source": [
    "test_hyde.weight_citation = False\n",
    "results = test_hyde.retrieve(query, arxiv_id, top_k)"
   ]
  },
  {
   "cell_type": "code",
   "execution_count": 19,
   "id": "23793678",
   "metadata": {},
   "outputs": [
    {
     "data": {
      "text/plain": [
       "['0909.4305',\n",
       " '2001.02651',\n",
       " '0801.1232',\n",
       " '1407.1078',\n",
       " '1608.00971',\n",
       " '2010.13801',\n",
       " '1910.03590',\n",
       " '2111.09327',\n",
       " '1406.7568',\n",
       " '1912.04296']"
      ]
     },
     "execution_count": 19,
     "metadata": {},
     "output_type": "execute_result"
    }
   ],
   "source": [
    "results"
   ]
  },
  {
   "cell_type": "code",
   "execution_count": 21,
   "id": "62414037",
   "metadata": {},
   "outputs": [
    {
     "data": {
      "text/plain": [
       "['2001.02651',\n",
       " '2010.13801',\n",
       " '2111.09327',\n",
       " '1910.03590',\n",
       " '1912.04296',\n",
       " '1406.7568',\n",
       " '0909.4305',\n",
       " '1407.1078',\n",
       " '0801.1232',\n",
       " '1608.00971']"
      ]
     },
     "execution_count": 21,
     "metadata": {},
     "output_type": "execute_result"
    }
   ],
   "source": [
    "results"
   ]
  },
  {
   "cell_type": "code",
   "execution_count": 10,
   "id": "03c0a6da",
   "metadata": {},
   "outputs": [
    {
     "name": "stdout",
     "output_type": "stream",
     "text": [
      "Loading existing index...\n",
      "Index loaded successfully.\n"
     ]
    }
   ],
   "source": [
    "keyword = filters.KeywordRetrievalSystem()"
   ]
  },
  {
   "cell_type": "code",
   "execution_count": 29,
   "id": "1dcf5e1c",
   "metadata": {},
   "outputs": [
    {
     "name": "stdout",
     "output_type": "stream",
     "text": [
      "keywords: ['fornax', 'fornax dwarf', 'dark matter', '']\n",
      "proper nouns: ['fornax']\n",
      "Retrieved documents: 116\n"
     ]
    },
    {
     "data": {
      "text/plain": [
       "['astro-ph0301446_arXiv.txt',\n",
       " 'astro-ph9812028_arXiv.txt',\n",
       " 'astro-ph0412130_arXiv.txt',\n",
       " 'astro-ph0409265_arXiv.txt',\n",
       " 'astro-ph9806331_arXiv.txt',\n",
       " 'astro-ph9907021_arXiv.txt',\n",
       " 'astro-ph0505186_arXiv.txt',\n",
       " 'astro-ph0203490_arXiv.txt',\n",
       " 'astro-ph0207504_arXiv.txt',\n",
       " 'astro-ph0308202_arXiv.txt']"
      ]
     },
     "execution_count": 29,
     "metadata": {},
     "output_type": "execute_result"
    }
   ],
   "source": [
    "keyword.retrieve(query, arxiv_id, top_k, ne_only = True)"
   ]
  },
  {
   "cell_type": "code",
   "execution_count": 19,
   "id": "ef3c99fc",
   "metadata": {},
   "outputs": [
    {
     "data": {
      "text/plain": [
       "['galaxies: individual: Fornax dSph',\n",
       " 'galaxies: kinematics and dynamics',\n",
       " 'Local Group',\n",
       " 'Astrophysics - Cosmology and Nongalactic Astrophysics']"
      ]
     },
     "execution_count": 19,
     "metadata": {},
     "output_type": "execute_result"
    }
   ],
   "source": [
    "metadata['1210.3157']['keyword']"
   ]
  },
  {
   "cell_type": "code",
   "execution_count": 11,
   "id": "590980cb",
   "metadata": {},
   "outputs": [
    {
     "name": "stderr",
     "output_type": "stream",
     "text": [
      "Downloading data: 100%|██████████| 238M/238M [00:09<00:00, 23.8MB/s]\n",
      "Downloading data: 100%|██████████| 237M/237M [00:07<00:00, 29.8MB/s]\n",
      "Downloading data: 100%|██████████| 240M/240M [00:08<00:00, 29.7MB/s]\n",
      "Downloading data: 100%|██████████| 235M/235M [00:07<00:00, 32.5MB/s]\n",
      "Downloading data: 100%|██████████| 233M/233M [00:07<00:00, 32.6MB/s]\n",
      "Downloading data: 100%|██████████| 237M/237M [00:07<00:00, 30.7MB/s]\n",
      "Generating train split: 100%|██████████| 271544/271544 [00:05<00:00, 54228.25 examples/s]\n"
     ]
    }
   ],
   "source": [
    "astro_meta = load_dataset(\"JSALT2024-Astro-LLMs/astro_paper_corpus\", split = \"train\")"
   ]
  },
  {
   "cell_type": "code",
   "execution_count": 36,
   "id": "a7e5a6f0",
   "metadata": {},
   "outputs": [],
   "source": [
    "keys = list(paper.keys())\n",
    "keys.remove('abstract')\n",
    "keys.remove('introduction')\n",
    "keys.remove('conclusions')"
   ]
  },
  {
   "cell_type": "code",
   "execution_count": 42,
   "id": "2d8c6cab",
   "metadata": {},
   "outputs": [],
   "source": [
    "metadata = {}\n",
    "for paper in astro_meta:\n",
    "    id_str = paper['arxiv_id']\n",
    "    metadata[id_str] = {key: paper[key] for key in keys}"
   ]
  },
  {
   "cell_type": "code",
   "execution_count": 13,
   "id": "2fedb877",
   "metadata": {},
   "outputs": [],
   "source": [
    "with open('../data/vector_store/metadata.json', 'r') as f:\n",
    "    metadata = json.load(f)"
   ]
  },
  {
   "cell_type": "code",
   "execution_count": 28,
   "id": "32d82a9a",
   "metadata": {},
   "outputs": [],
   "source": [
    "def make_keyword_index(metadata):\n",
    "    keyword_index = {}\n",
    "    \n",
    "    for i, index in tqdm(enumerate(metadata)):\n",
    "        paper = metadata[index]\n",
    "        for keyword in paper['keyword_search']:\n",
    "            term = ' '.join(word for word in keyword.lower().split() if word.lower() not in stopwords)\n",
    "            if term not in keyword_index:\n",
    "                keyword_index[term] = []\n",
    "            \n",
    "            keyword_index[term].append(paper['arxiv_id'])\n",
    "    \n",
    "    return keyword_index"
   ]
  },
  {
   "cell_type": "code",
   "execution_count": 29,
   "id": "c4fb1433",
   "metadata": {},
   "outputs": [
    {
     "name": "stderr",
     "output_type": "stream",
     "text": [
      "271540it [00:11, 24324.32it/s]\n"
     ]
    }
   ],
   "source": [
    "keyword_index = make_keyword_index(metadata)"
   ]
  },
  {
   "cell_type": "code",
   "execution_count": 69,
   "id": "385b4262",
   "metadata": {},
   "outputs": [],
   "source": [
    "with open('../data/vector_store/keyword_index.json', 'w') as f:\n",
    "    json.dump(keyword_index, f)"
   ]
  },
  {
   "cell_type": "code",
   "execution_count": 47,
   "id": "a13f19c3",
   "metadata": {},
   "outputs": [
    {
     "name": "stdout",
     "output_type": "stream",
     "text": [
      "Loading embeddings...\n",
      "Loading documents...\n",
      "Loading index mapping...\n",
      "Processing document dates...\n",
      "Loading metadata...\n",
      "Data loaded successfully.\n"
     ]
    }
   ],
   "source": [
    "test = hyde_reranking.HydeCohereRetrievalSystem(config_path = \"../config.yaml\")"
   ]
  },
  {
   "cell_type": "code",
   "execution_count": 57,
   "id": "2ffaf789",
   "metadata": {},
   "outputs": [
    {
     "data": {
      "text/plain": [
       "['0801.1023',\n",
       " '1711.01453',\n",
       " '2101.05821',\n",
       " '1001.3411',\n",
       " '1503.06065',\n",
       " '1703.08585',\n",
       " '1611.01545',\n",
       " '1510.06665',\n",
       " '2003.04925',\n",
       " '1908.00116']"
      ]
     },
     "execution_count": 57,
     "metadata": {},
     "output_type": "execute_result"
    }
   ],
   "source": [
    "test.weight_citation = False\n",
    "test.retrieve(query, arxiv_id, top_k)"
   ]
  },
  {
   "cell_type": "code",
   "execution_count": 56,
   "id": "0e14a16e",
   "metadata": {},
   "outputs": [
    {
     "data": {
      "text/plain": [
       "['0801.1023',\n",
       " '1711.01453',\n",
       " '2101.05821',\n",
       " '1001.3411',\n",
       " '1703.08585',\n",
       " '1510.06665',\n",
       " '2003.04925',\n",
       " '1908.00116',\n",
       " 'astro-ph0611863_arXiv.txt',\n",
       " 'astro-ph0005502_arXiv.txt']"
      ]
     },
     "execution_count": 56,
     "metadata": {},
     "output_type": "execute_result"
    }
   ],
   "source": [
    "query = \"What are the primary computational methods used in modern cosmological simulations, and what are some notable examples of each approach?\"\n",
    "test.weight_citation = True\n",
    "test.retrieve(query, arxiv_id, top_k)"
   ]
  },
  {
   "cell_type": "code",
   "execution_count": 21,
   "id": "e2c4e395",
   "metadata": {},
   "outputs": [
    {
     "data": {
      "text/plain": [
       "['a cored dark matter halo',\n",
       " 'a dark matter halo',\n",
       " 'Fornax',\n",
       " 'a constant density core',\n",
       " 'the dark matter mass profile',\n",
       " 'a core size',\n",
       " 'the core size',\n",
       " 'radius',\n",
       " 'constraints',\n",
       " 'a dark matter cusp',\n",
       " 'Spheroidal',\n",
       " 'order',\n",
       " 'the Fornax dwarf Spheroidal',\n",
       " 'first',\n",
       " 'unrealistically large scale radii',\n",
       " 'the concentration parameter',\n",
       " 'Navarro-Frenk-White haloes',\n",
       " 'its density distribution',\n",
       " 'Navarro',\n",
       " 'three distinct stellar subpopulations']"
      ]
     },
     "execution_count": 21,
     "metadata": {},
     "output_type": "execute_result"
    }
   ],
   "source": [
    "metadata['1210.3157']['keyword_search']"
   ]
  },
  {
   "cell_type": "code",
   "execution_count": null,
   "id": "557bd783",
   "metadata": {},
   "outputs": [],
   "source": []
  }
 ],
 "metadata": {
  "kernelspec": {
   "display_name": "base",
   "language": "python",
   "name": "python3"
  },
  "language_info": {
   "codemirror_mode": {
    "name": "ipython",
    "version": 3
   },
   "file_extension": ".py",
   "mimetype": "text/x-python",
   "name": "python",
   "nbconvert_exporter": "python",
   "pygments_lexer": "ipython3",
   "version": "3.10.0"
  }
 },
 "nbformat": 4,
 "nbformat_minor": 5
}
