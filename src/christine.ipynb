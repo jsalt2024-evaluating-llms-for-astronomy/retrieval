{
 "cells": [
  {
   "cell_type": "code",
   "execution_count": 3,
   "id": "ea693f31",
   "metadata": {},
   "outputs": [
    {
     "name": "stderr",
     "output_type": "stream",
     "text": [
      "None of PyTorch, TensorFlow >= 2.0, or Flax have been found. Models won't be available and only tokenizers, configuration and file/data utilities can be used.\n"
     ]
    }
   ],
   "source": [
    "import os\n",
    "from tqdm import tqdm\n",
    "from datasets import load_dataset\n",
    "import sys\n",
    "sys.path.append('../evaluation')\n",
    "from evaluate import RetrievalSystem, main as evaluate_main\n",
    "import yaml\n",
    "import hyde"
   ]
  },
  {
   "cell_type": "code",
   "execution_count": 4,
   "id": "706478f2",
   "metadata": {},
   "outputs": [],
   "source": [
    "with open(\"/users/christineye/retrieval/config.yaml\", 'r') as stream:\n",
    "    api_key = yaml.safe_load(stream)['openai_api_key']"
   ]
  },
  {
   "cell_type": "code",
   "execution_count": 2,
   "id": "0e9b75d3",
   "metadata": {},
   "outputs": [],
   "source": [
    "%load_ext autoreload\n",
    "%autoreload 2"
   ]
  },
  {
   "cell_type": "code",
   "execution_count": null,
   "id": "5a719298",
   "metadata": {},
   "outputs": [],
   "source": []
  },
  {
   "cell_type": "code",
   "execution_count": 5,
   "id": "6d42c5f7",
   "metadata": {},
   "outputs": [],
   "source": [
    "from vector_store import EmbeddingClient, Document, DocumentLoader"
   ]
  },
  {
   "cell_type": "code",
   "execution_count": 11,
   "id": "3b392971",
   "metadata": {},
   "outputs": [
    {
     "name": "stdout",
     "output_type": "stream",
     "text": [
      "Loading embeddings...\n",
      "Loading documents...\n",
      "Loading index mapping...\n",
      "Processing document dates...\n",
      "Loading metadata...\n",
      "Data loaded successfully.\n"
     ]
    }
   ],
   "source": [
    "test_hyde = hyde.HydeRetrievalSystem(embeddings_path = \"/users/christineye/retrieval/data/vector_store/embeddings_matrix.npy\",\n",
    "                         documents_path = \"/users/christineye/retrieval/data/vector_store/documents.pkl\",\n",
    "                         index_mapping_path = \"/users/christineye/retrieval/data/vector_store/index_mapping.pkl\", config_path = \"/users/christineye/retrieval/config.yaml\", \n",
    "                                     generate_n = 3, embed_query = True, max_doclen = 100)"
   ]
  },
  {
   "cell_type": "code",
   "execution_count": 21,
   "id": "b3ac46fc",
   "metadata": {},
   "outputs": [],
   "source": [
    "query = \"What is the stellar mass of the Milky Way?\"\n",
    "arxiv_id = \"2301.00001\"\n",
    "top_k = 10\n",
    "results = test_hyde.retrieve(query, arxiv_id, top_k)"
   ]
  },
  {
   "cell_type": "code",
   "execution_count": 9,
   "id": "95e94896",
   "metadata": {},
   "outputs": [
    {
     "name": "stdout",
     "output_type": "stream",
     "text": [
      "Loading embeddings...\n",
      "Loading documents...\n",
      "Loading index mapping...\n",
      "Processing document dates...\n",
      "Data loaded successfully.\n",
      "Loading existing index...\n",
      "Index loaded successfully.\n"
     ]
    }
   ],
   "source": [
    "import weighted\n",
    "test_weighted = weighted.WeightedRetrievalSystem()"
   ]
  },
  {
   "cell_type": "code",
   "execution_count": 10,
   "id": "f637c5a9",
   "metadata": {},
   "outputs": [
    {
     "name": "stdout",
     "output_type": "stream",
     "text": [
      "Loading existing index...\n",
      "Index loaded successfully.\n",
      "Loading embeddings...\n",
      "Loading documents...\n",
      "Loading index mapping...\n",
      "Processing document dates...\n",
      "Data loaded successfully.\n"
     ]
    }
   ],
   "source": [
    "test_weighted.make_bow()\n",
    "test_weighted.make_embed()"
   ]
  },
  {
   "cell_type": "code",
   "execution_count": 52,
   "id": "029befe4",
   "metadata": {},
   "outputs": [],
   "source": [
    "query = \"What is the stellar mass of the Milky Way?\"\n",
    "arxiv_id = \"2301.00001\"\n",
    "top_k = 10\n",
    "results = test_weighted.retrieve(query, arxiv_id, top_k)"
   ]
  },
  {
   "cell_type": "code",
   "execution_count": 11,
   "id": "590980cb",
   "metadata": {},
   "outputs": [
    {
     "name": "stderr",
     "output_type": "stream",
     "text": [
      "Downloading data: 100%|██████████| 238M/238M [00:09<00:00, 23.8MB/s]\n",
      "Downloading data: 100%|██████████| 237M/237M [00:07<00:00, 29.8MB/s]\n",
      "Downloading data: 100%|██████████| 240M/240M [00:08<00:00, 29.7MB/s]\n",
      "Downloading data: 100%|██████████| 235M/235M [00:07<00:00, 32.5MB/s]\n",
      "Downloading data: 100%|██████████| 233M/233M [00:07<00:00, 32.6MB/s]\n",
      "Downloading data: 100%|██████████| 237M/237M [00:07<00:00, 30.7MB/s]\n",
      "Generating train split: 100%|██████████| 271544/271544 [00:05<00:00, 54228.25 examples/s]\n"
     ]
    }
   ],
   "source": [
    "astro_meta = load_dataset(\"JSALT2024-Astro-LLMs/astro_paper_corpus\", split = \"train\")"
   ]
  },
  {
   "cell_type": "code",
   "execution_count": 18,
   "id": "e0bc8b5b",
   "metadata": {},
   "outputs": [
    {
     "ename": "AttributeError",
     "evalue": "module 'weighted' has no attribute 'bow'",
     "output_type": "error",
     "traceback": [
      "\u001b[0;31m---------------------------------------------------------------------------\u001b[0m",
      "\u001b[0;31mAttributeError\u001b[0m                            Traceback (most recent call last)",
      "Cell \u001b[0;32mIn[18], line 1\u001b[0m\n\u001b[0;32m----> 1\u001b[0m \u001b[43mweighted\u001b[49m\u001b[38;5;241;43m.\u001b[39;49m\u001b[43mbow\u001b[49m\u001b[38;5;241m.\u001b[39mpreprocess_text(astro_meta[\u001b[38;5;241m0\u001b[39m][\u001b[38;5;124m'\u001b[39m\u001b[38;5;124mkeyword_search\u001b[39m\u001b[38;5;124m'\u001b[39m])\n",
      "\u001b[0;31mAttributeError\u001b[0m: module 'weighted' has no attribute 'bow'"
     ]
    }
   ],
   "source": [
    "weighted.bow.preprocess_text(astro_meta[0]['keyword_search'])"
   ]
  },
  {
   "cell_type": "code",
   "execution_count": null,
   "id": "2d8c6cab",
   "metadata": {},
   "outputs": [],
   "source": []
  },
  {
   "cell_type": "code",
   "execution_count": null,
   "id": "259201ea",
   "metadata": {},
   "outputs": [],
   "source": []
  }
 ],
 "metadata": {
  "kernelspec": {
   "display_name": "base",
   "language": "python",
   "name": "python3"
  },
  "language_info": {
   "codemirror_mode": {
    "name": "ipython",
    "version": 3
   },
   "file_extension": ".py",
   "mimetype": "text/x-python",
   "name": "python",
   "nbconvert_exporter": "python",
   "pygments_lexer": "ipython3",
   "version": "3.10.0"
  }
 },
 "nbformat": 4,
 "nbformat_minor": 5
}
